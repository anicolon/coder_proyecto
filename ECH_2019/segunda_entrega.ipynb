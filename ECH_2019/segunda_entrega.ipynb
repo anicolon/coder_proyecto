{
  "cells": [
    {
      "cell_type": "code",
      "execution_count": 1,
      "metadata": {
        "colab": {
          "base_uri": "https://localhost:8080/"
        },
        "id": "4Fyym8rv1dDm",
        "outputId": "cb57b6fe-6743-4ce3-ea13-b7722f13b4e7"
      },
      "outputs": [
        {
          "output_type": "stream",
          "name": "stdout",
          "text": [
            "Mounted at /content/drive\n"
          ]
        }
      ],
      "source": [
        "from google.colab import drive\n",
        "drive.mount('/content/drive')"
      ]
    },
    {
      "cell_type": "code",
      "execution_count": 2,
      "metadata": {
        "id": "93-fWQ16M1bJ"
      },
      "outputs": [],
      "source": [
        "import pandas as pd\n",
        "import numpy as np\n",
        "import seaborn as sns\n",
        "import matplotlib.pyplot as plt\n",
        "\n",
        "sns.set(rc={'figure.figsize': (10, 5)}, font_scale=1.5)\n",
        "\n",
        "df = pd.read_csv('/content/drive/MyDrive/ECH_2019.csv')\n",
        "\n",
        "# df = pd.read_csv('ECH_2019.csv')"
      ]
    },
    {
      "cell_type": "code",
      "execution_count": 3,
      "metadata": {
        "id": "LzFVyDkXM1bN"
      },
      "outputs": [],
      "source": [
        "no_data = {0: 'No hay dato', '0': 'No hay dato'}\n",
        "\n",
        "mask = df.columns.difference(['edad',\n",
        "                              'sueldo',\n",
        "                              'hijos en hogar',\n",
        "                              'hijos en otro hogar',\n",
        "                              'hijos en el extranjero',\n",
        "                              'suma_hijos',\n",
        "                              'barrio'])\n",
        "\n",
        "df[mask] = df[mask].replace(no_data)"
      ]
    },
    {
      "cell_type": "code",
      "execution_count": 4,
      "metadata": {
        "colab": {
          "base_uri": "https://localhost:8080/"
        },
        "id": "gebPJSo5nLB5",
        "outputId": "e50e3534-1dc7-4f09-dbb3-19edf6eb296c"
      },
      "outputs": [
        {
          "output_type": "execute_result",
          "data": {
            "text/plain": [
              "(8.0, 16.0]      11803\n",
              "(39.0, 47.0]     11347\n",
              "(63.0, 73.0]     10988\n",
              "(-0.001, 8.0]    10918\n",
              "(55.0, 63.0]     10848\n",
              "(47.0, 55.0]     10834\n",
              "(16.0, 23.0]     10657\n",
              "(31.0, 39.0]     10484\n",
              "(23.0, 31.0]     10116\n",
              "(73.0, 98.0]      9876\n",
              "Name: rango_edades, dtype: int64"
            ]
          },
          "metadata": {},
          "execution_count": 4
        }
      ],
      "source": [
        "df['rango_edades'] = pd.qcut(df['edad'], q=10)\n",
        "\n",
        "df['rango_edades'].value_counts()"
      ]
    },
    {
      "cell_type": "markdown",
      "metadata": {
        "id": "5y30QCPZM1bb"
      },
      "source": [
        "### AJUSTANDO DATOS PARA ENTRENAR EL MODELO"
      ]
    },
    {
      "cell_type": "markdown",
      "metadata": {
        "id": "UDhMFaUMM1bR"
      },
      "source": [
        "Seleccionamos personas con edad suficiente para trabajar"
      ]
    },
    {
      "cell_type": "code",
      "execution_count": 5,
      "metadata": {
        "id": "l3mwgnC9M1bS"
      },
      "outputs": [],
      "source": [
        "df = df[~df['estado_laboral'].str.contains('Menores de 14 años')]"
      ]
    },
    {
      "cell_type": "code",
      "execution_count": 6,
      "metadata": {
        "colab": {
          "base_uri": "https://localhost:8080/"
        },
        "id": "WVGz9_vSCPtd",
        "outputId": "5b43a42b-7216-470f-b4e5-24953ee7ef08"
      },
      "outputs": [
        {
          "output_type": "execute_result",
          "data": {
            "text/plain": [
              "Ocupados                                      49036\n",
              "Inactivo: jubilado                            16025\n",
              "Inactivo: estudiante                           8216\n",
              "Inactivo: realiza los quehaceres del hogar     5936\n",
              "Inactivo: pensionista                          4438\n",
              "Desocupados propiamente dichos                 3409\n",
              "Inactivo: otro                                 1291\n",
              "Desocupados buscan trabajo por primera vez      787\n",
              "Inactivo: rentista                              414\n",
              "Desocupados en seguro de paro                   255\n",
              "Name: estado_laboral, dtype: int64"
            ]
          },
          "metadata": {},
          "execution_count": 6
        }
      ],
      "source": [
        "df['estado_laboral'].value_counts()"
      ]
    },
    {
      "cell_type": "code",
      "execution_count": 7,
      "metadata": {
        "colab": {
          "base_uri": "https://localhost:8080/",
          "height": 429
        },
        "id": "6RvvUJ1AnLB_",
        "outputId": "b0f1373d-0fbb-4131-eecd-dff7aa454bbe"
      },
      "outputs": [
        {
          "output_type": "execute_result",
          "data": {
            "text/html": [
              "<div>\n",
              "<style scoped>\n",
              "    .dataframe tbody tr th:only-of-type {\n",
              "        vertical-align: middle;\n",
              "    }\n",
              "\n",
              "    .dataframe tbody tr th {\n",
              "        vertical-align: top;\n",
              "    }\n",
              "\n",
              "    .dataframe thead th {\n",
              "        text-align: right;\n",
              "    }\n",
              "</style>\n",
              "<table border=\"1\" class=\"dataframe\">\n",
              "  <thead>\n",
              "    <tr style=\"text-align: right;\">\n",
              "      <th></th>\n",
              "      <th>id_hogar</th>\n",
              "      <th>edad</th>\n",
              "      <th>nper</th>\n",
              "      <th>sueldo</th>\n",
              "      <th>barrio</th>\n",
              "      <th>hijos en hogar</th>\n",
              "      <th>hijos en otro hogar</th>\n",
              "      <th>hijos en el extranjero</th>\n",
              "      <th>suma_hijos</th>\n",
              "    </tr>\n",
              "    <tr>\n",
              "      <th>estado_laboral</th>\n",
              "      <th></th>\n",
              "      <th></th>\n",
              "      <th></th>\n",
              "      <th></th>\n",
              "      <th></th>\n",
              "      <th></th>\n",
              "      <th></th>\n",
              "      <th></th>\n",
              "      <th></th>\n",
              "    </tr>\n",
              "  </thead>\n",
              "  <tbody>\n",
              "    <tr>\n",
              "      <th>Desocupados buscan trabajo por primera vez</th>\n",
              "      <td>2.019029e+09</td>\n",
              "      <td>20.670902</td>\n",
              "      <td>3.035578</td>\n",
              "      <td>25.031766</td>\n",
              "      <td>11.876747</td>\n",
              "      <td>0.151207</td>\n",
              "      <td>0.022872</td>\n",
              "      <td>0.000000</td>\n",
              "      <td>0.174079</td>\n",
              "    </tr>\n",
              "    <tr>\n",
              "      <th>Desocupados en seguro de paro</th>\n",
              "      <td>2.019030e+09</td>\n",
              "      <td>39.074510</td>\n",
              "      <td>1.780392</td>\n",
              "      <td>3602.415686</td>\n",
              "      <td>12.407843</td>\n",
              "      <td>0.458824</td>\n",
              "      <td>0.254902</td>\n",
              "      <td>0.019608</td>\n",
              "      <td>0.733333</td>\n",
              "    </tr>\n",
              "    <tr>\n",
              "      <th>Desocupados propiamente dichos</th>\n",
              "      <td>2.019029e+09</td>\n",
              "      <td>33.915518</td>\n",
              "      <td>2.206512</td>\n",
              "      <td>1559.024641</td>\n",
              "      <td>11.319742</td>\n",
              "      <td>0.596656</td>\n",
              "      <td>0.310355</td>\n",
              "      <td>0.018774</td>\n",
              "      <td>0.925785</td>\n",
              "    </tr>\n",
              "    <tr>\n",
              "      <th>Inactivo: estudiante</th>\n",
              "      <td>2.019029e+09</td>\n",
              "      <td>17.345180</td>\n",
              "      <td>3.260346</td>\n",
              "      <td>93.646543</td>\n",
              "      <td>8.818768</td>\n",
              "      <td>0.033350</td>\n",
              "      <td>0.004260</td>\n",
              "      <td>0.000000</td>\n",
              "      <td>0.037610</td>\n",
              "    </tr>\n",
              "    <tr>\n",
              "      <th>Inactivo: jubilado</th>\n",
              "      <td>2.019029e+09</td>\n",
              "      <td>72.800936</td>\n",
              "      <td>1.348206</td>\n",
              "      <td>123.482059</td>\n",
              "      <td>10.446365</td>\n",
              "      <td>0.171108</td>\n",
              "      <td>0.959126</td>\n",
              "      <td>0.082683</td>\n",
              "      <td>1.212917</td>\n",
              "    </tr>\n",
              "    <tr>\n",
              "      <th>Inactivo: otro</th>\n",
              "      <td>2.019029e+09</td>\n",
              "      <td>33.783114</td>\n",
              "      <td>2.883036</td>\n",
              "      <td>618.094500</td>\n",
              "      <td>10.652982</td>\n",
              "      <td>0.237026</td>\n",
              "      <td>0.302866</td>\n",
              "      <td>0.023238</td>\n",
              "      <td>0.563129</td>\n",
              "    </tr>\n",
              "    <tr>\n",
              "      <th>Inactivo: pensionista</th>\n",
              "      <td>2.019029e+09</td>\n",
              "      <td>64.425192</td>\n",
              "      <td>1.683641</td>\n",
              "      <td>22.757999</td>\n",
              "      <td>9.698738</td>\n",
              "      <td>0.370662</td>\n",
              "      <td>1.675530</td>\n",
              "      <td>0.114015</td>\n",
              "      <td>2.160207</td>\n",
              "    </tr>\n",
              "    <tr>\n",
              "      <th>Inactivo: realiza los quehaceres del hogar</th>\n",
              "      <td>2.019029e+09</td>\n",
              "      <td>46.889319</td>\n",
              "      <td>1.857311</td>\n",
              "      <td>317.843666</td>\n",
              "      <td>8.732817</td>\n",
              "      <td>1.107311</td>\n",
              "      <td>1.102426</td>\n",
              "      <td>0.056941</td>\n",
              "      <td>2.266678</td>\n",
              "    </tr>\n",
              "    <tr>\n",
              "      <th>Inactivo: rentista</th>\n",
              "      <td>2.019029e+09</td>\n",
              "      <td>58.461353</td>\n",
              "      <td>1.528986</td>\n",
              "      <td>72.463768</td>\n",
              "      <td>9.009662</td>\n",
              "      <td>0.541063</td>\n",
              "      <td>0.850242</td>\n",
              "      <td>0.123188</td>\n",
              "      <td>1.514493</td>\n",
              "    </tr>\n",
              "    <tr>\n",
              "      <th>Ocupados</th>\n",
              "      <td>2.019029e+09</td>\n",
              "      <td>42.683681</td>\n",
              "      <td>1.661249</td>\n",
              "      <td>20109.876601</td>\n",
              "      <td>10.482462</td>\n",
              "      <td>0.473183</td>\n",
              "      <td>0.304593</td>\n",
              "      <td>0.017885</td>\n",
              "      <td>0.795660</td>\n",
              "    </tr>\n",
              "  </tbody>\n",
              "</table>\n",
              "</div>"
            ],
            "text/plain": [
              "                                                id_hogar  ...  suma_hijos\n",
              "estado_laboral                                            ...            \n",
              "Desocupados buscan trabajo por primera vez  2.019029e+09  ...    0.174079\n",
              "Desocupados en seguro de paro               2.019030e+09  ...    0.733333\n",
              "Desocupados propiamente dichos              2.019029e+09  ...    0.925785\n",
              "Inactivo: estudiante                        2.019029e+09  ...    0.037610\n",
              "Inactivo: jubilado                          2.019029e+09  ...    1.212917\n",
              "Inactivo: otro                              2.019029e+09  ...    0.563129\n",
              "Inactivo: pensionista                       2.019029e+09  ...    2.160207\n",
              "Inactivo: realiza los quehaceres del hogar  2.019029e+09  ...    2.266678\n",
              "Inactivo: rentista                          2.019029e+09  ...    1.514493\n",
              "Ocupados                                    2.019029e+09  ...    0.795660\n",
              "\n",
              "[10 rows x 9 columns]"
            ]
          },
          "metadata": {},
          "execution_count": 7
        }
      ],
      "source": [
        "df.groupby(by='estado_laboral').mean()"
      ]
    },
    {
      "cell_type": "code",
      "execution_count": 8,
      "metadata": {
        "colab": {
          "base_uri": "https://localhost:8080/"
        },
        "id": "PjoxkmPpnLCB",
        "outputId": "c33bcab7-36bf-44ec-8e0e-afac0f68e2f9"
      },
      "outputs": [
        {
          "output_type": "stream",
          "name": "stdout",
          "text": [
            "84000.0\n"
          ]
        }
      ],
      "source": [
        "quantil_99 = df[\"sueldo\"].quantile(0.99)\n",
        "print(quantil_99)\n",
        "\n",
        "df = df[df[\"sueldo\"] < quantil_99]\n",
        "\n",
        "quartil_1 = df[\"sueldo\"].quantile(0.25)\n",
        "quartil_3 = df[\"sueldo\"].quantile(0.75)\n",
        "\n",
        "iqr = quartil_3 - quartil_1\n",
        "\n",
        "df = df[df[\"sueldo\"] < quartil_3 + 1.5 * iqr]\n",
        "\n",
        "df = df[df[\"sueldo\"] > quartil_1 - 1.5 * iqr]"
      ]
    },
    {
      "cell_type": "code",
      "execution_count": 9,
      "metadata": {
        "id": "EJtNyEDpzLMY"
      },
      "outputs": [],
      "source": [
        "df['rango_sueldos'] = pd.qcut(df['sueldo'], q=10, duplicates='drop').cat.codes\n",
        "\n",
        "df['rango_edades'] = pd.qcut(df['edad'], q=10).cat.codes"
      ]
    },
    {
      "cell_type": "code",
      "execution_count": 10,
      "metadata": {
        "id": "jVBYMpglM1bf"
      },
      "outputs": [],
      "source": [
        "df = df[[\n",
        "    'sexo', \n",
        "    'edad', \n",
        "    'ascendencia', \n",
        "    'parentesco', \n",
        "    'estado_laboral', \n",
        "    'busca_otro_trabajo',\n",
        "    'actividad',\n",
        "    'asistencia alguna vez a enseñanza',\n",
        "    'edu preescolar',\n",
        "    'edu primaria',\n",
        "    'edu media',\n",
        "    'edu técnica',\n",
        "    'edu univ o simil',\n",
        "    'edu terciario no uni',\n",
        "    'edu posgrado',\n",
        "    'edu mag prof',\n",
        "    'barrio',\n",
        "    'estado_civil',\n",
        "    'suma_hijos',\n",
        "    'leer_escribir',\n",
        "    'rango_sueldos',\n",
        "    'rango_edades',\n",
        "    'region',\n",
        "    'vivienda',\n",
        "    'estrato'\n",
        "    ]]\n"
      ]
    },
    {
      "cell_type": "code",
      "execution_count": 11,
      "metadata": {
        "colab": {
          "base_uri": "https://localhost:8080/",
          "height": 323
        },
        "id": "sKxjpVTcwy2w",
        "outputId": "6c36d298-78e8-40c9-b12e-bf4b728341f2"
      },
      "outputs": [
        {
          "output_type": "execute_result",
          "data": {
            "text/html": [
              "<div>\n",
              "<style scoped>\n",
              "    .dataframe tbody tr th:only-of-type {\n",
              "        vertical-align: middle;\n",
              "    }\n",
              "\n",
              "    .dataframe tbody tr th {\n",
              "        vertical-align: top;\n",
              "    }\n",
              "\n",
              "    .dataframe thead th {\n",
              "        text-align: right;\n",
              "    }\n",
              "</style>\n",
              "<table border=\"1\" class=\"dataframe\">\n",
              "  <thead>\n",
              "    <tr style=\"text-align: right;\">\n",
              "      <th></th>\n",
              "      <th>sexo</th>\n",
              "      <th>edad</th>\n",
              "      <th>ascendencia</th>\n",
              "      <th>parentesco</th>\n",
              "      <th>estado_laboral</th>\n",
              "      <th>busca_otro_trabajo</th>\n",
              "      <th>actividad</th>\n",
              "      <th>asistencia alguna vez a enseñanza</th>\n",
              "      <th>edu preescolar</th>\n",
              "      <th>edu primaria</th>\n",
              "      <th>edu media</th>\n",
              "      <th>edu técnica</th>\n",
              "      <th>edu univ o simil</th>\n",
              "      <th>edu terciario no uni</th>\n",
              "      <th>edu posgrado</th>\n",
              "      <th>edu mag prof</th>\n",
              "      <th>barrio</th>\n",
              "      <th>estado_civil</th>\n",
              "      <th>suma_hijos</th>\n",
              "      <th>leer_escribir</th>\n",
              "      <th>rango_sueldos</th>\n",
              "      <th>rango_edades</th>\n",
              "      <th>region</th>\n",
              "      <th>vivienda</th>\n",
              "      <th>estrato</th>\n",
              "    </tr>\n",
              "  </thead>\n",
              "  <tbody>\n",
              "    <tr>\n",
              "      <th>0</th>\n",
              "      <td>Mujer</td>\n",
              "      <td>76.0</td>\n",
              "      <td>Blanca</td>\n",
              "      <td>Jefe/a de hogar</td>\n",
              "      <td>Inactivo: jubilado</td>\n",
              "      <td>0.0</td>\n",
              "      <td>.</td>\n",
              "      <td>Sí</td>\n",
              "      <td>No asistió</td>\n",
              "      <td>Sí, asistió</td>\n",
              "      <td>0.0</td>\n",
              "      <td>No asistió</td>\n",
              "      <td>0.0</td>\n",
              "      <td>0.0</td>\n",
              "      <td>0.0</td>\n",
              "      <td>0.0</td>\n",
              "      <td>0.0</td>\n",
              "      <td>Viudo/a de unión libre</td>\n",
              "      <td>0.0</td>\n",
              "      <td>Sí</td>\n",
              "      <td>0</td>\n",
              "      <td>9</td>\n",
              "      <td>Interior - Localidades de 5.000 habitantes o más</td>\n",
              "      <td>Propietario de la vivienda y el terreno y ya l...</td>\n",
              "      <td>Costa Este</td>\n",
              "    </tr>\n",
              "    <tr>\n",
              "      <th>1</th>\n",
              "      <td>Mujer</td>\n",
              "      <td>22.0</td>\n",
              "      <td>Blanca</td>\n",
              "      <td>Otro pariente</td>\n",
              "      <td>Inactivo: realiza los quehaceres del hogar</td>\n",
              "      <td>0.0</td>\n",
              "      <td>.</td>\n",
              "      <td>Sí</td>\n",
              "      <td>Sí, asistió</td>\n",
              "      <td>Sí, asistió</td>\n",
              "      <td>Sí, asistió</td>\n",
              "      <td>No asistió</td>\n",
              "      <td>No asistió</td>\n",
              "      <td>No asistió</td>\n",
              "      <td>0.0</td>\n",
              "      <td>No asistió</td>\n",
              "      <td>0.0</td>\n",
              "      <td>Soltero/a</td>\n",
              "      <td>0.0</td>\n",
              "      <td>Sí</td>\n",
              "      <td>0</td>\n",
              "      <td>1</td>\n",
              "      <td>Interior - Localidades de 5.000 habitantes o más</td>\n",
              "      <td>Propietario de la vivienda y el terreno y ya l...</td>\n",
              "      <td>Costa Este</td>\n",
              "    </tr>\n",
              "  </tbody>\n",
              "</table>\n",
              "</div>"
            ],
            "text/plain": [
              "    sexo  edad  ...                                           vivienda     estrato\n",
              "0  Mujer  76.0  ...  Propietario de la vivienda y el terreno y ya l...  Costa Este\n",
              "1  Mujer  22.0  ...  Propietario de la vivienda y el terreno y ya l...  Costa Este\n",
              "\n",
              "[2 rows x 25 columns]"
            ]
          },
          "metadata": {},
          "execution_count": 11
        }
      ],
      "source": [
        "df = df.reset_index(drop=True)\n",
        "\n",
        "df.head(2)"
      ]
    },
    {
      "cell_type": "code",
      "execution_count": 12,
      "metadata": {
        "colab": {
          "base_uri": "https://localhost:8080/"
        },
        "id": "BCLM-jN1-GPg",
        "outputId": "1319e296-8cf6-479a-afae-34af77d32ddd"
      },
      "outputs": [
        {
          "output_type": "execute_result",
          "data": {
            "text/plain": [
              "0    59982\n",
              "1     9344\n",
              "3     8546\n",
              "2     7674\n",
              "Name: rango_sueldos, dtype: int64"
            ]
          },
          "metadata": {},
          "execution_count": 12
        }
      ],
      "source": [
        "df['rango_sueldos'].value_counts()"
      ]
    },
    {
      "cell_type": "markdown",
      "metadata": {
        "id": "tr2CniL5M1bg"
      },
      "source": [
        "### DEFINIMOS LAS VARIABLES DEPENDIENTES E INDEPENDIENTES"
      ]
    },
    {
      "cell_type": "code",
      "execution_count": 13,
      "metadata": {
        "colab": {
          "base_uri": "https://localhost:8080/"
        },
        "id": "Fw7aZaAIM1bg",
        "outputId": "f35e1f15-57c8-41ba-9397-083cf4176f18"
      },
      "outputs": [
        {
          "output_type": "stream",
          "name": "stdout",
          "text": [
            "X shape (85546, 24) \n",
            "Y shape (85546,)\n"
          ]
        }
      ],
      "source": [
        "# Feautures\n",
        "X = df.drop('rango_sueldos', axis=1).to_numpy()\n",
        "y = df['rango_sueldos']\n",
        "\n",
        "print('X shape', X.shape, '\\nY shape', y.shape)"
      ]
    },
    {
      "cell_type": "code",
      "execution_count": 14,
      "metadata": {
        "id": "KsXLTa4mohqm",
        "colab": {
          "base_uri": "https://localhost:8080/"
        },
        "outputId": "bede57ab-11c5-4999-924f-fe94d0ea743e"
      },
      "outputs": [
        {
          "output_type": "execute_result",
          "data": {
            "text/plain": [
              "array([0, 1, 3, 2], dtype=int8)"
            ]
          },
          "metadata": {},
          "execution_count": 14
        }
      ],
      "source": [
        "y.unique()"
      ]
    },
    {
      "cell_type": "code",
      "execution_count": 15,
      "metadata": {
        "id": "VdOpqVADM1bc"
      },
      "outputs": [],
      "source": [
        "from sklearn.preprocessing import OneHotEncoder\n",
        "\n",
        "one_hot = OneHotEncoder()\n",
        "\n",
        "X = one_hot.fit_transform(X)"
      ]
    },
    {
      "cell_type": "code",
      "execution_count": 16,
      "metadata": {
        "id": "aWNq5Nn77-Yf"
      },
      "outputs": [],
      "source": [
        "from sklearn.preprocessing import Normalizer\n",
        "\n",
        "normalizer = Normalizer()\n",
        "\n",
        "X = normalizer.fit_transform(X)"
      ]
    },
    {
      "cell_type": "code",
      "execution_count": 17,
      "metadata": {
        "colab": {
          "base_uri": "https://localhost:8080/"
        },
        "id": "eTIu6kDf1IKl",
        "outputId": "159dc755-9110-4743-a0a3-1ca61f6e32af"
      },
      "outputs": [
        {
          "output_type": "execute_result",
          "data": {
            "text/plain": [
              "(85546, 660)"
            ]
          },
          "metadata": {},
          "execution_count": 17
        }
      ],
      "source": [
        "X.shape"
      ]
    },
    {
      "cell_type": "markdown",
      "metadata": {
        "id": "5WD2Cyb7gVtP"
      },
      "source": [
        "## Dejamos una fila afuera para testear el modelo más adelante"
      ]
    },
    {
      "cell_type": "code",
      "execution_count": 18,
      "metadata": {
        "id": "ZPOG_CpPaGdk"
      },
      "outputs": [],
      "source": [
        "test_sample = X[0]\n",
        "test_result = y[0]\n",
        "\n",
        "X = X[1:]\n",
        "y = y[1:]"
      ]
    },
    {
      "cell_type": "markdown",
      "metadata": {
        "id": "4WNKcjI3M1bg"
      },
      "source": [
        "### Dividimos los datos en un 30% de test y 70% de entrenamiento"
      ]
    },
    {
      "cell_type": "code",
      "execution_count": 19,
      "metadata": {
        "id": "ShFudTmNM1bh"
      },
      "outputs": [],
      "source": [
        "from sklearn.model_selection import train_test_split \n",
        "\n",
        "X_train, X_test, y_train, y_test = train_test_split(X, y, test_size=0.30, random_state=42) "
      ]
    },
    {
      "cell_type": "code",
      "execution_count": 20,
      "metadata": {
        "colab": {
          "base_uri": "https://localhost:8080/"
        },
        "id": "ZV5LPElaM1bh",
        "outputId": "a05c4264-0111-413b-a84d-d196805dd57e"
      },
      "outputs": [
        {
          "output_type": "stream",
          "name": "stdout",
          "text": [
            "(59881, 660) (59881,)\n",
            "(25664, 660) (25664,)\n"
          ]
        }
      ],
      "source": [
        "print(X_train.shape, y_train.shape)\n",
        "print(X_test.shape, y_test.shape)"
      ]
    },
    {
      "cell_type": "markdown",
      "source": [
        "# APLICAMOS EL MODELO LIGHTGBM"
      ],
      "metadata": {
        "id": "OpuOka2u0jgn"
      }
    },
    {
      "cell_type": "code",
      "source": [
        "import lightgbm as lgb\n",
        "\n",
        "clf = lgb.LGBMClassifier()\n",
        "\n",
        "clf.fit(X_train, y_train)\n",
        "\n",
        "y_pred = clf.predict(X_test)"
      ],
      "metadata": {
        "id": "zGs22vX80qy8"
      },
      "execution_count": 22,
      "outputs": []
    },
    {
      "cell_type": "code",
      "source": [
        "#Accuracy\n",
        "from sklearn.metrics import accuracy_score\n",
        "\n",
        "accuracy = accuracy_score(y_pred, y_test)\n",
        "\n",
        "print(f'LightGBM Model accuracy score: {accuracy_score(y_test, y_pred)}')"
      ],
      "metadata": {
        "colab": {
          "base_uri": "https://localhost:8080/"
        },
        "id": "kyM5fc2w0qwD",
        "outputId": "a36e667e-af0a-4bcb-d333-92af95908367"
      },
      "execution_count": 24,
      "outputs": [
        {
          "output_type": "stream",
          "name": "stdout",
          "text": [
            "LightGBM Model accuracy score: 0.7776652119700748\n"
          ]
        }
      ]
    },
    {
      "cell_type": "markdown",
      "metadata": {
        "id": "t3yhULSwM1bi"
      },
      "source": [
        "# APLICAMOS UN MODELO DE REGRESIÓN LOGISTICA"
      ]
    },
    {
      "cell_type": "code",
      "execution_count": null,
      "metadata": {
        "id": "VA9pehfmM1bj"
      },
      "outputs": [],
      "source": [
        "from sklearn.linear_model import LogisticRegression\n",
        "from sklearn.model_selection import cross_val_score\n",
        "\n",
        "logistic_reg = LogisticRegression(multi_class='multinomial',max_iter=20000)"
      ]
    },
    {
      "cell_type": "code",
      "execution_count": null,
      "metadata": {
        "id": "z6Nj2W2iJZgR"
      },
      "outputs": [],
      "source": [
        "#Definicion de Hyperparámetros\n",
        "param_grid = {'solver':['lbfgs', 'saga'],\n",
        "              'penalty': ['l1', 'l2'], \n",
        "              'C':[10, 1.0, 0.1]}"
      ]
    },
    {
      "cell_type": "markdown",
      "metadata": {
        "id": "hyyjyVfAbv5d"
      },
      "source": [
        "# Realizamos un random search para elegir los mejores parámetros"
      ]
    },
    {
      "cell_type": "code",
      "execution_count": null,
      "metadata": {
        "id": "8ExNkLoGbxpz"
      },
      "outputs": [],
      "source": [
        "from sklearn.model_selection import RandomizedSearchCV\n",
        "\n",
        "#Aplicamos la búsqueda al modelo\n",
        "model = RandomizedSearchCV(logistic_reg, param_grid,n_iter=100, random_state=0, cv=5,scoring='accuracy',verbose=20)"
      ]
    },
    {
      "cell_type": "code",
      "execution_count": null,
      "metadata": {
        "id": "iNN8l9-9b_YZ"
      },
      "outputs": [],
      "source": [
        "model.fit(X_train, y_train)"
      ]
    },
    {
      "cell_type": "code",
      "execution_count": null,
      "metadata": {
        "id": "C_GvvKjKb_54",
        "colab": {
          "base_uri": "https://localhost:8080/"
        },
        "outputId": "120593a6-c8cd-4bb4-ee9f-173e52c40976"
      },
      "outputs": [
        {
          "output_type": "stream",
          "name": "stdout",
          "text": [
            "Mejores parametros: {'solver': 'lbfgs', 'penalty': 'l2', 'C': 10}\n",
            "Mejor Score: 0.7684072634428635\n",
            "\n"
          ]
        }
      ],
      "source": [
        "print(\"Mejores parametros: \"+str(model.best_params_))\n",
        "print(\"Mejor Score: \"+str(model.best_score_)+'\\n')"
      ]
    },
    {
      "cell_type": "code",
      "execution_count": null,
      "metadata": {
        "id": "AQ6nhFY0cCdO"
      },
      "outputs": [],
      "source": [
        "# Prediccion\n",
        "prediction = model.predict(X_test)"
      ]
    },
    {
      "cell_type": "code",
      "execution_count": null,
      "metadata": {
        "id": "FQCcS1aMcEmH",
        "colab": {
          "base_uri": "https://localhost:8080/"
        },
        "outputId": "8749b109-2db2-4526-c952-1c2fd179bfc5"
      },
      "outputs": [
        {
          "output_type": "stream",
          "name": "stdout",
          "text": [
            "Matriz de confusión:\n",
            "[[17162   456   147   340]\n",
            " [ 1386   744   296   260]\n",
            " [  760   394   476   670]\n",
            " [  645   143   314  1471]]\n"
          ]
        }
      ],
      "source": [
        "from sklearn.metrics import confusion_matrix\n",
        "\n",
        "# Matriz de Confusion\n",
        "cm = confusion_matrix(y_test,prediction)\n",
        "print(\"Matriz de confusión:\")\n",
        "print(cm)"
      ]
    },
    {
      "cell_type": "markdown",
      "source": [
        "# GRID SEARCH CV"
      ],
      "metadata": {
        "id": "q04MCUMve2Zm"
      }
    },
    {
      "cell_type": "code",
      "execution_count": null,
      "metadata": {
        "id": "-H6C4ipbfObM"
      },
      "outputs": [],
      "source": [
        "from sklearn.model_selection import GridSearchCV\n",
        "\n",
        "#Grid Search con hyperparámetros\n",
        "model = GridSearchCV(logistic_reg, param_grid=param_grid, cv=5,scoring='accuracy',verbose=20)"
      ]
    },
    {
      "cell_type": "code",
      "execution_count": null,
      "metadata": {
        "id": "1jnAIf8VNwNY"
      },
      "outputs": [],
      "source": [
        "model.fit(X_train, y_train)"
      ]
    },
    {
      "cell_type": "code",
      "execution_count": null,
      "metadata": {
        "id": "v5okkQQvRLiz"
      },
      "outputs": [],
      "source": [
        "model"
      ]
    },
    {
      "cell_type": "code",
      "execution_count": null,
      "metadata": {
        "id": "rHuaGRr6QGM0"
      },
      "outputs": [],
      "source": [
        "print(\"Mejores parametros: \"+str(model.best_params_))\n",
        "print(\"Mejor Score: \"+str(model.best_score_)+'\\n')"
      ]
    },
    {
      "cell_type": "code",
      "execution_count": null,
      "metadata": {
        "id": "Sk2eF2hMM1bj"
      },
      "outputs": [],
      "source": [
        "print('Promedio de cross_validation ', round(scores.mean(),2))\n",
        "print('Score en test ', round(logistic_reg.score(X_test, y_test),2))\n",
        "print('Score en train ', round(logistic_reg.score(X_train, y_train),2))"
      ]
    },
    {
      "cell_type": "code",
      "execution_count": null,
      "metadata": {
        "id": "1wgaRZ6BM1bm"
      },
      "outputs": [],
      "source": [
        "from sklearn.metrics import accuracy_score\n",
        "\n",
        "#Prediccion en Train y Test\n",
        "y_train_pred = model.predict(X_train)\n",
        "y_test_pred = model.predict(X_test)\n",
        "\n",
        "#Calculo el accuracy en Train y Test\n",
        "train_accuracy = accuracy_score(y_train, y_train_pred)\n",
        "test_accuracy = accuracy_score(y_test, y_test_pred)\n",
        "\n",
        "print('Aciertos sobre train:', round(train_accuracy, 2))\n",
        "print('Exactitud sobre test:', round(test_accuracy, 2))"
      ]
    },
    {
      "cell_type": "markdown",
      "metadata": {
        "id": "ACeJF5NUM1bl"
      },
      "source": [
        "### APLICAMOS PREDICCIÓN SOBRE EL MODELO"
      ]
    },
    {
      "cell_type": "code",
      "execution_count": null,
      "metadata": {
        "id": "c5PlQMpUM1bl"
      },
      "outputs": [],
      "source": [
        "print(model.predict(test_sample))\n",
        "\n",
        "print(test_result)"
      ]
    },
    {
      "cell_type": "markdown",
      "metadata": {
        "id": "DYYlDLatM1bm"
      },
      "source": [
        "Determinamos la probabilidad de la predicción"
      ]
    },
    {
      "cell_type": "code",
      "execution_count": null,
      "metadata": {
        "id": "XWzmupvzM1bm"
      },
      "outputs": [],
      "source": [
        "probabilidades_prediccion = model.predict_proba(test_sample)\n",
        "probabilidades_prediccion"
      ]
    },
    {
      "cell_type": "code",
      "execution_count": null,
      "metadata": {
        "id": "FzF5F8XuM1bl"
      },
      "outputs": [],
      "source": [
        "from sklearn.metrics import confusion_matrix\n",
        "\n",
        "confusion_matrix(y_test, y_test_pred)\n",
        "\n",
        "print(\"Matriz de confusión:\")\n",
        "print(cm)"
      ]
    },
    {
      "cell_type": "markdown",
      "metadata": {
        "id": "5BPPzKUaHVfY"
      },
      "source": [
        "# REPETIMOS EL EJERCICIO CON EL MODELO DE RANDOM FOREST"
      ]
    },
    {
      "cell_type": "code",
      "execution_count": null,
      "metadata": {
        "id": "ODF-6NeoHVfa"
      },
      "outputs": [],
      "source": [
        "from sklearn.ensemble import RandomForestClassifier\n",
        "\n",
        "random_forest = RandomForestClassifier(100)\n",
        "\n",
        "random_forest.fit(X_train, y_train)"
      ]
    },
    {
      "cell_type": "code",
      "execution_count": null,
      "metadata": {
        "id": "JH1bvMyMHVfa"
      },
      "outputs": [],
      "source": [
        "scores = cross_val_score(random_forest, X, y, cv=5)\n",
        "\n",
        "scores"
      ]
    },
    {
      "cell_type": "code",
      "execution_count": null,
      "metadata": {
        "id": "EdbWI5glHVfa"
      },
      "outputs": [],
      "source": [
        "print('Promedio de cross_validation ', round(scores.mean(),2))\n",
        "print('Score en test ', round(logistic_reg.score(X_test, y_test),2))\n",
        "print('Score en train ', round(logistic_reg.score(X_train, y_train),2))"
      ]
    },
    {
      "cell_type": "code",
      "execution_count": null,
      "metadata": {
        "id": "7iZRCzTEMSBF"
      },
      "outputs": [],
      "source": [
        "predictions = logistic_reg.predict(X_test)\n",
        "\n",
        "confusion_matrix(y_test, predictions)"
      ]
    },
    {
      "cell_type": "code",
      "execution_count": null,
      "metadata": {
        "id": "KGw6_y5BHVfa"
      },
      "outputs": [],
      "source": [
        "#Prediccion en Train\n",
        "y_train_pred = random_forest.predict(X_train)\n",
        "\n",
        "#Prediccion en Test\n",
        "y_test_pred = random_forest.predict(X_test)\n",
        "\n",
        "#Calculo el accuracy en Train\n",
        "train_accuracy = accuracy_score(y_train, y_train_pred)\n",
        "\n",
        "#Calculo el accuracy en Test\n",
        "test_accuracy = accuracy_score(y_test, y_test_pred)\n",
        "\n",
        "print('Aciertos sobre entrenamiento:', round(train_accuracy, 2))\n",
        "print('Aciertos sobre evaluación:', round(test_accuracy, 2))"
      ]
    },
    {
      "cell_type": "code",
      "execution_count": null,
      "metadata": {
        "id": "BAkm5UkiQlIn"
      },
      "outputs": [],
      "source": [
        "print(random_forest.predict(test_sample))\n",
        "print(test_result)"
      ]
    },
    {
      "cell_type": "code",
      "execution_count": null,
      "metadata": {
        "id": "d97HKQxVGRpB"
      },
      "outputs": [],
      "source": [
        "probabilidades_prediccion = random_forest.predict_proba(test_sample)\n",
        "probabilidades_prediccion"
      ]
    },
    {
      "cell_type": "markdown",
      "metadata": {
        "id": "wtPUDB4SYAsh"
      },
      "source": [
        "# REPETIMOS EL EJERCICIO CON EL MODELO DE K NEAREST NEIGHBOURS"
      ]
    },
    {
      "cell_type": "code",
      "execution_count": null,
      "metadata": {
        "id": "DP-ODZm4YBR4"
      },
      "outputs": [],
      "source": [
        "from sklearn.neighbors import KNeighborsClassifier\n",
        "\n",
        "knearest_model = KNeighborsClassifier(n_neighbors=4)\n",
        "\n",
        "knearest_model.fit(X_train, y_train)"
      ]
    },
    {
      "cell_type": "code",
      "execution_count": null,
      "metadata": {
        "id": "uLbTJmdkYX6P"
      },
      "outputs": [],
      "source": [
        "scores = cross_val_score(knearest_model, X, y, cv=5)\n",
        "\n",
        "scores           "
      ]
    },
    {
      "cell_type": "code",
      "execution_count": null,
      "metadata": {
        "id": "WjGoWFlJYcDC"
      },
      "outputs": [],
      "source": [
        "print('Promedio de cross_validation ', round(scores.mean(),2))\n",
        "print('Score en test ', round(knearest_model.score(X_test, y_test),2))\n",
        "print('Score en train ', round(knearest_model.score(X_train, y_train),2))"
      ]
    },
    {
      "cell_type": "code",
      "execution_count": null,
      "metadata": {
        "id": "jUEjCBlxMCo0"
      },
      "outputs": [],
      "source": [
        "predictions = knearest_model.predict(X_test)\n",
        "\n",
        "confusion_matrix(y_test, predictions)"
      ]
    },
    {
      "cell_type": "code",
      "execution_count": null,
      "metadata": {
        "id": "iEfxUO49YhIS"
      },
      "outputs": [],
      "source": [
        "#Prediccion en Train\n",
        "y_train_pred = knearest_model.predict(X_train)\n",
        "\n",
        "#Prediccion en Test\n",
        "y_test_pred = knearest_model.predict(X_test)\n",
        "\n",
        "#Calculo el accuracy en Train\n",
        "train_accuracy = accuracy_score(y_train, y_train_pred)\n",
        "\n",
        "#Calculo el accuracy en Test\n",
        "test_accuracy = accuracy_score(y_test, y_test_pred)\n",
        "\n",
        "print('Aciertos sobre entrenamiento:', round(train_accuracy, 2))\n",
        "print('Aciertos sobre evaluación:', round(test_accuracy, 2))"
      ]
    },
    {
      "cell_type": "code",
      "execution_count": null,
      "metadata": {
        "id": "44S2Y5vrYnF3"
      },
      "outputs": [],
      "source": [
        "print(knearest_model.predict(test_sample))\n",
        "print(test_result)"
      ]
    },
    {
      "cell_type": "code",
      "execution_count": null,
      "metadata": {
        "id": "Gc2uLLabGVQa"
      },
      "outputs": [],
      "source": [
        "probabilidades_prediccion = knearest_model.predict_proba(test_sample)\n",
        "probabilidades_prediccion"
      ]
    }
  ],
  "metadata": {
    "colab": {
      "collapsed_sections": [
        "q04MCUMve2Zm",
        "5BPPzKUaHVfY",
        "wtPUDB4SYAsh"
      ],
      "name": "ECH_MODELOS.ipynb",
      "provenance": []
    },
    "interpreter": {
      "hash": "d0fd3259a0ae7798bf28b9ed97f5d4d70eaf745bfa37ff3042465361f4141f08"
    },
    "kernelspec": {
      "display_name": "Python 3 (ipykernel)",
      "language": "python",
      "name": "python3"
    },
    "language_info": {
      "codemirror_mode": {
        "name": "ipython",
        "version": 3
      },
      "file_extension": ".py",
      "mimetype": "text/x-python",
      "name": "python",
      "nbconvert_exporter": "python",
      "pygments_lexer": "ipython3",
      "version": "3.9.7"
    }
  },
  "nbformat": 4,
  "nbformat_minor": 0
}