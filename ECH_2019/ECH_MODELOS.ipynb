{
 "cells": [
  {
   "cell_type": "code",
   "execution_count": 29,
   "metadata": {},
   "outputs": [
    {
     "name": "stdout",
     "output_type": "stream",
     "text": [
      "<class 'pandas.core.frame.DataFrame'>\n",
      "RangeIndex: 107871 entries, 0 to 107870\n",
      "Data columns (total 18 columns):\n",
      " #   Column                             Non-Null Count   Dtype \n",
      "---  ------                             --------------   ----- \n",
      " 0   id_hogar                           107871 non-null  int64 \n",
      " 1   sexo                               107871 non-null  object\n",
      " 2   edad                               107871 non-null  int64 \n",
      " 3   ascendencia                        107871 non-null  object\n",
      " 4   parentesco                         107871 non-null  object\n",
      " 5   estado_laboral                     107871 non-null  object\n",
      " 6   sueldo                             107871 non-null  int64 \n",
      " 7   busca_otro_trabajo                 107871 non-null  object\n",
      " 8   actividad                          107871 non-null  object\n",
      " 9   asistencia alguna vez a enseñanza  107871 non-null  object\n",
      " 10  edu preescolar                     107871 non-null  object\n",
      " 11  edu primaria                       107871 non-null  object\n",
      " 12  edu media                          107871 non-null  object\n",
      " 13  edu técnica                        107871 non-null  object\n",
      " 14  edu univ o simil                   107871 non-null  object\n",
      " 15  edu terciario no uni               107871 non-null  object\n",
      " 16  edu posgrado                       107871 non-null  object\n",
      " 17  edu mag prof                       107871 non-null  object\n",
      "dtypes: int64(3), object(15)\n",
      "memory usage: 14.8+ MB\n"
     ]
    }
   ],
   "source": [
    "import pandas as pd\n",
    "import numpy as np\n",
    "import seaborn as sns\n",
    "\n",
    "sns.set(rc={'figure.figsize': (40, 15)}, font_scale=1.5)\n",
    "\n",
    "df = pd.read_csv('ECH_2019.csv')\n",
    "\n",
    "df.info()"
   ]
  },
  {
   "cell_type": "code",
   "execution_count": 30,
   "metadata": {},
   "outputs": [
    {
     "data": {
      "text/html": [
       "<div>\n",
       "<style scoped>\n",
       "    .dataframe tbody tr th:only-of-type {\n",
       "        vertical-align: middle;\n",
       "    }\n",
       "\n",
       "    .dataframe tbody tr th {\n",
       "        vertical-align: top;\n",
       "    }\n",
       "\n",
       "    .dataframe thead th {\n",
       "        text-align: right;\n",
       "    }\n",
       "</style>\n",
       "<table border=\"1\" class=\"dataframe\">\n",
       "  <thead>\n",
       "    <tr style=\"text-align: right;\">\n",
       "      <th></th>\n",
       "      <th>id_hogar</th>\n",
       "      <th>sexo</th>\n",
       "      <th>edad</th>\n",
       "      <th>ascendencia</th>\n",
       "      <th>parentesco</th>\n",
       "      <th>estado_laboral</th>\n",
       "      <th>sueldo</th>\n",
       "      <th>busca_otro_trabajo</th>\n",
       "      <th>actividad</th>\n",
       "      <th>asistencia alguna vez a enseñanza</th>\n",
       "      <th>edu preescolar</th>\n",
       "      <th>edu primaria</th>\n",
       "      <th>edu media</th>\n",
       "      <th>edu técnica</th>\n",
       "      <th>edu univ o simil</th>\n",
       "      <th>edu terciario no uni</th>\n",
       "      <th>edu posgrado</th>\n",
       "      <th>edu mag prof</th>\n",
       "    </tr>\n",
       "  </thead>\n",
       "  <tbody>\n",
       "    <tr>\n",
       "      <th>7106</th>\n",
       "      <td>2019003793</td>\n",
       "      <td>Mujer</td>\n",
       "      <td>17</td>\n",
       "      <td>Blanca</td>\n",
       "      <td>Hijo/a solo del jefe/a</td>\n",
       "      <td>Inactivo: estudiante</td>\n",
       "      <td>0</td>\n",
       "      <td>0</td>\n",
       "      <td>.</td>\n",
       "      <td>Sí</td>\n",
       "      <td>Sí, asistió</td>\n",
       "      <td>Sí, asistió</td>\n",
       "      <td>Asiste actualmente</td>\n",
       "      <td>No asistió</td>\n",
       "      <td>0</td>\n",
       "      <td>0</td>\n",
       "      <td>0</td>\n",
       "      <td>0</td>\n",
       "    </tr>\n",
       "    <tr>\n",
       "      <th>70263</th>\n",
       "      <td>2019037835</td>\n",
       "      <td>Hombre</td>\n",
       "      <td>12</td>\n",
       "      <td>Blanca</td>\n",
       "      <td>Nieto/a</td>\n",
       "      <td>Menores de 14 años</td>\n",
       "      <td>0</td>\n",
       "      <td>0</td>\n",
       "      <td>.</td>\n",
       "      <td>Sí</td>\n",
       "      <td>Sí, asistió</td>\n",
       "      <td>Sí, asistió</td>\n",
       "      <td>Asiste actualmente</td>\n",
       "      <td>0</td>\n",
       "      <td>0</td>\n",
       "      <td>0</td>\n",
       "      <td>0</td>\n",
       "      <td>0</td>\n",
       "    </tr>\n",
       "    <tr>\n",
       "      <th>36701</th>\n",
       "      <td>2019019753</td>\n",
       "      <td>Mujer</td>\n",
       "      <td>67</td>\n",
       "      <td>Blanca</td>\n",
       "      <td>Jefe/a de hogar</td>\n",
       "      <td>Ocupados</td>\n",
       "      <td>13800</td>\n",
       "      <td>Sí</td>\n",
       "      <td>Actividades de los hogares en calidad de emple...</td>\n",
       "      <td>Sí</td>\n",
       "      <td>No asistió</td>\n",
       "      <td>Sí, asistió</td>\n",
       "      <td>0</td>\n",
       "      <td>No asistió</td>\n",
       "      <td>0</td>\n",
       "      <td>0</td>\n",
       "      <td>0</td>\n",
       "      <td>0</td>\n",
       "    </tr>\n",
       "    <tr>\n",
       "      <th>33285</th>\n",
       "      <td>2019017938</td>\n",
       "      <td>Mujer</td>\n",
       "      <td>2</td>\n",
       "      <td>Blanca</td>\n",
       "      <td>Hijo/a de ambos</td>\n",
       "      <td>Menores de 14 años</td>\n",
       "      <td>0</td>\n",
       "      <td>0</td>\n",
       "      <td>.</td>\n",
       "      <td>No</td>\n",
       "      <td>0</td>\n",
       "      <td>0</td>\n",
       "      <td>0</td>\n",
       "      <td>0</td>\n",
       "      <td>0</td>\n",
       "      <td>0</td>\n",
       "      <td>0</td>\n",
       "      <td>0</td>\n",
       "    </tr>\n",
       "    <tr>\n",
       "      <th>62131</th>\n",
       "      <td>2019033406</td>\n",
       "      <td>Hombre</td>\n",
       "      <td>2</td>\n",
       "      <td>Blanca</td>\n",
       "      <td>Hijo/a de ambos</td>\n",
       "      <td>Menores de 14 años</td>\n",
       "      <td>0</td>\n",
       "      <td>0</td>\n",
       "      <td>.</td>\n",
       "      <td>Sí</td>\n",
       "      <td>0</td>\n",
       "      <td>No asistió</td>\n",
       "      <td>0</td>\n",
       "      <td>0</td>\n",
       "      <td>0</td>\n",
       "      <td>0</td>\n",
       "      <td>0</td>\n",
       "      <td>0</td>\n",
       "    </tr>\n",
       "  </tbody>\n",
       "</table>\n",
       "</div>"
      ],
      "text/plain": [
       "         id_hogar    sexo  edad ascendencia              parentesco  \\\n",
       "7106   2019003793   Mujer    17      Blanca  Hijo/a solo del jefe/a   \n",
       "70263  2019037835  Hombre    12      Blanca                 Nieto/a   \n",
       "36701  2019019753   Mujer    67      Blanca         Jefe/a de hogar   \n",
       "33285  2019017938   Mujer     2      Blanca         Hijo/a de ambos   \n",
       "62131  2019033406  Hombre     2      Blanca         Hijo/a de ambos   \n",
       "\n",
       "             estado_laboral  sueldo busca_otro_trabajo  \\\n",
       "7106   Inactivo: estudiante       0                  0   \n",
       "70263    Menores de 14 años       0                  0   \n",
       "36701              Ocupados   13800                 Sí   \n",
       "33285    Menores de 14 años       0                  0   \n",
       "62131    Menores de 14 años       0                  0   \n",
       "\n",
       "                                               actividad  \\\n",
       "7106                                                   .   \n",
       "70263                                                  .   \n",
       "36701  Actividades de los hogares en calidad de emple...   \n",
       "33285                                                  .   \n",
       "62131                                                  .   \n",
       "\n",
       "      asistencia alguna vez a enseñanza edu preescolar edu primaria  \\\n",
       "7106                                 Sí    Sí, asistió  Sí, asistió   \n",
       "70263                                Sí    Sí, asistió  Sí, asistió   \n",
       "36701                                Sí     No asistió  Sí, asistió   \n",
       "33285                                No              0            0   \n",
       "62131                                Sí              0   No asistió   \n",
       "\n",
       "                edu media edu técnica edu univ o simil edu terciario no uni  \\\n",
       "7106   Asiste actualmente  No asistió                0                    0   \n",
       "70263  Asiste actualmente           0                0                    0   \n",
       "36701                   0  No asistió                0                    0   \n",
       "33285                   0           0                0                    0   \n",
       "62131                   0           0                0                    0   \n",
       "\n",
       "      edu posgrado edu mag prof  \n",
       "7106             0            0  \n",
       "70263            0            0  \n",
       "36701            0            0  \n",
       "33285            0            0  \n",
       "62131            0            0  "
      ]
     },
     "execution_count": 30,
     "metadata": {},
     "output_type": "execute_result"
    }
   ],
   "source": [
    "df.sample(5)"
   ]
  },
  {
   "cell_type": "code",
   "execution_count": 31,
   "metadata": {},
   "outputs": [
    {
     "data": {
      "text/html": [
       "<div>\n",
       "<style scoped>\n",
       "    .dataframe tbody tr th:only-of-type {\n",
       "        vertical-align: middle;\n",
       "    }\n",
       "\n",
       "    .dataframe tbody tr th {\n",
       "        vertical-align: top;\n",
       "    }\n",
       "\n",
       "    .dataframe thead th {\n",
       "        text-align: right;\n",
       "    }\n",
       "</style>\n",
       "<table border=\"1\" class=\"dataframe\">\n",
       "  <thead>\n",
       "    <tr style=\"text-align: right;\">\n",
       "      <th></th>\n",
       "      <th>id_hogar</th>\n",
       "      <th>sexo</th>\n",
       "      <th>edad</th>\n",
       "      <th>ascendencia</th>\n",
       "      <th>parentesco</th>\n",
       "      <th>estado_laboral</th>\n",
       "      <th>sueldo</th>\n",
       "      <th>busca_otro_trabajo</th>\n",
       "      <th>actividad</th>\n",
       "      <th>asistencia alguna vez a enseñanza</th>\n",
       "      <th>edu preescolar</th>\n",
       "      <th>edu primaria</th>\n",
       "      <th>edu media</th>\n",
       "      <th>edu técnica</th>\n",
       "      <th>edu univ o simil</th>\n",
       "      <th>edu terciario no uni</th>\n",
       "      <th>edu posgrado</th>\n",
       "      <th>edu mag prof</th>\n",
       "    </tr>\n",
       "  </thead>\n",
       "  <tbody>\n",
       "    <tr>\n",
       "      <th>9746</th>\n",
       "      <td>2019005220</td>\n",
       "      <td>Mujer</td>\n",
       "      <td>63</td>\n",
       "      <td>Blanca</td>\n",
       "      <td>Jefe/a de hogar</td>\n",
       "      <td>Inactivo: jubilado</td>\n",
       "      <td>0</td>\n",
       "      <td>No hay dato</td>\n",
       "      <td>.</td>\n",
       "      <td>Sí</td>\n",
       "      <td>No asistió</td>\n",
       "      <td>Sí, asistió</td>\n",
       "      <td>Sí, asistió</td>\n",
       "      <td>No asistió</td>\n",
       "      <td>Sí, asistió</td>\n",
       "      <td>No asistió</td>\n",
       "      <td>No hay dato</td>\n",
       "      <td>No asistió</td>\n",
       "    </tr>\n",
       "    <tr>\n",
       "      <th>87014</th>\n",
       "      <td>2019046867</td>\n",
       "      <td>Mujer</td>\n",
       "      <td>23</td>\n",
       "      <td>Blanca</td>\n",
       "      <td>Hijo/a de ambos</td>\n",
       "      <td>Desocupados buscan trabajo por primera vez</td>\n",
       "      <td>0</td>\n",
       "      <td>No hay dato</td>\n",
       "      <td>.</td>\n",
       "      <td>Sí</td>\n",
       "      <td>Sí, asistió</td>\n",
       "      <td>Sí, asistió</td>\n",
       "      <td>Sí, asistió</td>\n",
       "      <td>No asistió</td>\n",
       "      <td>Asiste actualmente</td>\n",
       "      <td>No asistió</td>\n",
       "      <td>No hay dato</td>\n",
       "      <td>No asistió</td>\n",
       "    </tr>\n",
       "    <tr>\n",
       "      <th>73025</th>\n",
       "      <td>2019039352</td>\n",
       "      <td>Mujer</td>\n",
       "      <td>12</td>\n",
       "      <td>Blanca</td>\n",
       "      <td>Hijo/a de ambos</td>\n",
       "      <td>Menores de 14 años</td>\n",
       "      <td>0</td>\n",
       "      <td>No hay dato</td>\n",
       "      <td>.</td>\n",
       "      <td>Sí</td>\n",
       "      <td>Sí, asistió</td>\n",
       "      <td>Sí, asistió</td>\n",
       "      <td>Asiste actualmente</td>\n",
       "      <td>No hay dato</td>\n",
       "      <td>No hay dato</td>\n",
       "      <td>No hay dato</td>\n",
       "      <td>No hay dato</td>\n",
       "      <td>No hay dato</td>\n",
       "    </tr>\n",
       "    <tr>\n",
       "      <th>45681</th>\n",
       "      <td>2019024570</td>\n",
       "      <td>Mujer</td>\n",
       "      <td>73</td>\n",
       "      <td>Blanca</td>\n",
       "      <td>Jefe/a de hogar</td>\n",
       "      <td>Inactivo: pensionista</td>\n",
       "      <td>0</td>\n",
       "      <td>No hay dato</td>\n",
       "      <td>.</td>\n",
       "      <td>Sí</td>\n",
       "      <td>No asistió</td>\n",
       "      <td>Sí, asistió</td>\n",
       "      <td>Sí, asistió</td>\n",
       "      <td>No asistió</td>\n",
       "      <td>No hay dato</td>\n",
       "      <td>No hay dato</td>\n",
       "      <td>No hay dato</td>\n",
       "      <td>No hay dato</td>\n",
       "    </tr>\n",
       "    <tr>\n",
       "      <th>85601</th>\n",
       "      <td>2019046103</td>\n",
       "      <td>Mujer</td>\n",
       "      <td>44</td>\n",
       "      <td>Afro o negra</td>\n",
       "      <td>Esposo/a o compañero/a</td>\n",
       "      <td>Ocupados</td>\n",
       "      <td>22000</td>\n",
       "      <td>No</td>\n",
       "      <td>Actividades de los hogares en calidad de emple...</td>\n",
       "      <td>Sí</td>\n",
       "      <td>Sí, asistió</td>\n",
       "      <td>Sí, asistió</td>\n",
       "      <td>Sí, asistió</td>\n",
       "      <td>No asistió</td>\n",
       "      <td>No hay dato</td>\n",
       "      <td>No hay dato</td>\n",
       "      <td>No hay dato</td>\n",
       "      <td>No hay dato</td>\n",
       "    </tr>\n",
       "  </tbody>\n",
       "</table>\n",
       "</div>"
      ],
      "text/plain": [
       "         id_hogar   sexo  edad   ascendencia              parentesco  \\\n",
       "9746   2019005220  Mujer    63        Blanca         Jefe/a de hogar   \n",
       "87014  2019046867  Mujer    23        Blanca         Hijo/a de ambos   \n",
       "73025  2019039352  Mujer    12        Blanca         Hijo/a de ambos   \n",
       "45681  2019024570  Mujer    73        Blanca         Jefe/a de hogar   \n",
       "85601  2019046103  Mujer    44  Afro o negra  Esposo/a o compañero/a   \n",
       "\n",
       "                                   estado_laboral  sueldo busca_otro_trabajo  \\\n",
       "9746                           Inactivo: jubilado       0        No hay dato   \n",
       "87014  Desocupados buscan trabajo por primera vez       0        No hay dato   \n",
       "73025                          Menores de 14 años       0        No hay dato   \n",
       "45681                       Inactivo: pensionista       0        No hay dato   \n",
       "85601                                    Ocupados   22000                 No   \n",
       "\n",
       "                                               actividad  \\\n",
       "9746                                                   .   \n",
       "87014                                                  .   \n",
       "73025                                                  .   \n",
       "45681                                                  .   \n",
       "85601  Actividades de los hogares en calidad de emple...   \n",
       "\n",
       "      asistencia alguna vez a enseñanza edu preescolar edu primaria  \\\n",
       "9746                                 Sí     No asistió  Sí, asistió   \n",
       "87014                                Sí    Sí, asistió  Sí, asistió   \n",
       "73025                                Sí    Sí, asistió  Sí, asistió   \n",
       "45681                                Sí     No asistió  Sí, asistió   \n",
       "85601                                Sí    Sí, asistió  Sí, asistió   \n",
       "\n",
       "                edu media  edu técnica    edu univ o simil  \\\n",
       "9746          Sí, asistió   No asistió         Sí, asistió   \n",
       "87014         Sí, asistió   No asistió  Asiste actualmente   \n",
       "73025  Asiste actualmente  No hay dato         No hay dato   \n",
       "45681         Sí, asistió   No asistió         No hay dato   \n",
       "85601         Sí, asistió   No asistió         No hay dato   \n",
       "\n",
       "      edu terciario no uni edu posgrado edu mag prof  \n",
       "9746            No asistió  No hay dato   No asistió  \n",
       "87014           No asistió  No hay dato   No asistió  \n",
       "73025          No hay dato  No hay dato  No hay dato  \n",
       "45681          No hay dato  No hay dato  No hay dato  \n",
       "85601          No hay dato  No hay dato  No hay dato  "
      ]
     },
     "execution_count": 31,
     "metadata": {},
     "output_type": "execute_result"
    }
   ],
   "source": [
    "no_data = {0: 'No hay dato', '0': 'No hay dato'}\n",
    "\n",
    "mask = df.columns.difference(['edad', 'sueldo', 'hijos'])\n",
    "\n",
    "df[mask] = df[mask].replace(no_data)\n",
    "\n",
    "df.sample(5)"
   ]
  },
  {
   "cell_type": "code",
   "execution_count": 32,
   "metadata": {},
   "outputs": [
    {
     "data": {
      "text/plain": [
       "<AxesSubplot:xlabel='estado_laboral', ylabel='count'>"
      ]
     },
     "execution_count": 32,
     "metadata": {},
     "output_type": "execute_result"
    },
    {
     "data": {
      "image/png": "[encoded data removed]",
      "text/plain": [
       "<Figure size 2880x1080 with 1 Axes>"
      ]
     },
     "metadata": {},
     "output_type": "display_data"
    }
   ],
   "source": [
    "sns.countplot(x=df['estado_laboral'])"
   ]
  },
  {
   "cell_type": "markdown",
   "metadata": {},
   "source": [
    "Seleccionamos personas con edad suficiente para trabajar"
   ]
  },
  {
   "cell_type": "code",
   "execution_count": 5,
   "metadata": {},
   "outputs": [],
   "source": [
    "df = df[~df['estado_laboral'].str.contains('Menores de 14 años')]"
   ]
  },
  {
   "cell_type": "markdown",
   "metadata": {},
   "source": [
    "Codificamos los valores de parentezco"
   ]
  },
  {
   "cell_type": "code",
   "execution_count": 6,
   "metadata": {},
   "outputs": [
    {
     "data": {
      "text/plain": [
       "parentesco_num  parentesco                             \n",
       "6               Jefe/a de hogar                            42507\n",
       "1               Esposo/a o compañero/a                     22574\n",
       "3               Hijo/a de ambos                             9558\n",
       "5               Hijo/a solo del jefe/a                      8574\n",
       "10              Padre/madre                                 1148\n",
       "7               Nieto/a                                     1107\n",
       "4               Hijo/a solo del esposo/a compañero/a        1104\n",
       "2               Hermano/a                                    920\n",
       "13              Yerno/nuera                                  766\n",
       "8               Otro no pariente                             583\n",
       "9               Otro pariente                                556\n",
       "12              Suegro/a                                     254\n",
       "0               Cuñado/a                                     140\n",
       "11              Servicio doméstico o familiar del mismo       16\n",
       "dtype: int64"
      ]
     },
     "execution_count": 6,
     "metadata": {},
     "output_type": "execute_result"
    }
   ],
   "source": [
    "df['parentesco_num'] = df['parentesco'].astype('category').cat.codes\n",
    "\n",
    "df[['parentesco_num', 'parentesco']].value_counts()"
   ]
  },
  {
   "cell_type": "markdown",
   "metadata": {},
   "source": [
    "Creamos una columna que cuenta la cantidad de hijos por grupo familiar"
   ]
  },
  {
   "cell_type": "code",
   "execution_count": 7,
   "metadata": {},
   "outputs": [],
   "source": [
    "df['hijos'] = (\n",
    "    df.groupby('id_hogar')['id_hogar'].transform('count') - 1\n",
    ")"
   ]
  },
  {
   "cell_type": "markdown",
   "metadata": {},
   "source": [
    "# CATEGORIZAR NUMERICOS"
   ]
  },
  {
   "cell_type": "code",
   "execution_count": 8,
   "metadata": {},
   "outputs": [],
   "source": [
    "df['rango_sueldos'] = pd.cut(df['sueldo'], bins=[\n",
    "    0,\n",
    "    5000,\n",
    "    10000,\n",
    "    30000,\n",
    "    50000,\n",
    "    100000,\n",
    "    float('Inf'),\n",
    "    ])\n",
    "\n",
    "\n",
    "# labels=['0-5000', 'yyy', 'zzz']"
   ]
  },
  {
   "cell_type": "code",
   "execution_count": 27,
   "metadata": {},
   "outputs": [
    {
     "data": {
      "text/plain": [
       "<AxesSubplot:xlabel='rango_sueldos', ylabel='count'>"
      ]
     },
     "execution_count": 27,
     "metadata": {},
     "output_type": "execute_result"
    },
    {
     "data": {
      "image/png": "[encoded data removed]",
      "text/plain": [
       "<Figure size 2160x1080 with 1 Axes>"
      ]
     },
     "metadata": {},
     "output_type": "display_data"
    }
   ],
   "source": [
    "sns.countplot(x=df['rango_sueldos'])"
   ]
  },
  {
   "cell_type": "markdown",
   "metadata": {},
   "source": [
    "### AJUSTANDO DATOS PARA ENTRENAR EL MODELO"
   ]
  },
  {
   "cell_type": "markdown",
   "metadata": {},
   "source": [
    "Primero encodificamos las variables categóricas"
   ]
  },
  {
   "cell_type": "code",
   "execution_count": null,
   "metadata": {},
   "outputs": [],
   "source": [
    "from sklearn.preprocessing import LabelEncoder\n",
    "\n",
    "le = LabelEncoder()\n",
    "\n",
    "df = df.apply(le.fit_transform)\n",
    "\n",
    "df.head(5)"
   ]
  },
  {
   "cell_type": "markdown",
   "metadata": {},
   "source": [
    "### Creamos un mapa de correlación para investigar la relación entre las variables"
   ]
  },
  {
   "cell_type": "code",
   "execution_count": null,
   "metadata": {},
   "outputs": [],
   "source": [
    "corr = df.corr()\n",
    "sns.heatmap(corr, xticklabels=corr.columns.values, yticklabels=corr.columns.values, annot=True)"
   ]
  },
  {
   "cell_type": "markdown",
   "metadata": {},
   "source": [
    "### DEFINIMOS LAS VARIABLES DEPENDIENTES E INDEPENDIENTES"
   ]
  },
  {
   "cell_type": "code",
   "execution_count": null,
   "metadata": {},
   "outputs": [],
   "source": [
    "# Feautures\n",
    "X = df.drop('estado_laboral', axis=1)\n",
    "y = df['estado_laboral']\n",
    "\n",
    "print('X shape', X.shape, '\\nY shape', y.shape)"
   ]
  },
  {
   "cell_type": "code",
   "execution_count": null,
   "metadata": {},
   "outputs": [],
   "source": [
    "np.unique(y)"
   ]
  },
  {
   "cell_type": "markdown",
   "metadata": {},
   "source": [
    "### Dividimos los datos en un 30% de test y 70% de entrenamiento"
   ]
  },
  {
   "cell_type": "code",
   "execution_count": null,
   "metadata": {},
   "outputs": [],
   "source": [
    "from sklearn.model_selection import train_test_split \n",
    "\n",
    "X_train, X_test, y_train, y_test = train_test_split(X, y, test_size=0.30, random_state=42) "
   ]
  },
  {
   "cell_type": "code",
   "execution_count": null,
   "metadata": {},
   "outputs": [],
   "source": [
    "print(X_train.shape, y_train.shape)\n",
    "print(X_test.shape, y_test.shape)"
   ]
  },
  {
   "cell_type": "code",
   "execution_count": null,
   "metadata": {},
   "outputs": [],
   "source": [
    "from sklearn.preprocessing import MinMaxScaler\n",
    "\n",
    "scaler = MinMaxScaler()\n",
    "\n",
    "X_train = scaler.fit_transform(X_train)\n",
    "X_test = scaler.transform(X_test)"
   ]
  },
  {
   "cell_type": "markdown",
   "metadata": {},
   "source": [
    "### DEFINIMOS ALGORITMO DE REFRESIÓN LOGISTICA Y VALOR DE CROSS VALIDATION PARA CADA FOLD"
   ]
  },
  {
   "cell_type": "code",
   "execution_count": null,
   "metadata": {},
   "outputs": [],
   "source": [
    "from sklearn.linear_model import LogisticRegression\n",
    "from sklearn.model_selection import cross_val_score\n",
    "\n",
    "log_reg = LogisticRegression(max_iter=20000)\n",
    "\n",
    "clf = log_reg.fit(X_train.astype('int'), y_train.astype('int'))\n",
    "\n",
    "scores = cross_val_score(clf, X.astype('int'), y.astype('int'), cv=10)\n",
    "\n",
    "scores"
   ]
  },
  {
   "cell_type": "markdown",
   "metadata": {},
   "source": [
    "Promedio de scores en el Cross Validation"
   ]
  },
  {
   "cell_type": "code",
   "execution_count": null,
   "metadata": {},
   "outputs": [],
   "source": [
    "scores.mean()"
   ]
  },
  {
   "cell_type": "markdown",
   "metadata": {},
   "source": [
    "Scores de cada clasificación"
   ]
  },
  {
   "cell_type": "code",
   "execution_count": null,
   "metadata": {},
   "outputs": [],
   "source": [
    "clf.score(X_test, y_test)"
   ]
  },
  {
   "cell_type": "code",
   "execution_count": null,
   "metadata": {},
   "outputs": [],
   "source": [
    "clf.score(X_train, y_train)"
   ]
  },
  {
   "cell_type": "markdown",
   "metadata": {},
   "source": [
    "### DEFINIMOS UNA PREDICCIÓN Y LA APLICAMOS SOBRE EL MODELO"
   ]
  },
  {
   "cell_type": "code",
   "execution_count": null,
   "metadata": {},
   "outputs": [],
   "source": [
    "prediction = np.array([10000, 20000, 5000, 80000, 3000, 100,30000]).reshape(-1,1)\n",
    "log_reg.predict(prediction)"
   ]
  },
  {
   "cell_type": "markdown",
   "metadata": {},
   "source": [
    "### INVESTIGAMOS LA EFECTIVIDAD DEL MODELO SOBRE LOS DATOS"
   ]
  },
  {
   "cell_type": "code",
   "execution_count": null,
   "metadata": {},
   "outputs": [],
   "source": [
    "from sklearn.metrics import accuracy_score\n",
    "\n",
    "#Prediccion en Train\n",
    "y_train_pred = log_reg.predict(X_train)\n",
    "\n",
    "#Prediccion en Test\n",
    "y_test_pred = log_reg.predict(y_test.reshape(-1, 1))\n",
    "\n",
    "#Calculo el accuracy en Train\n",
    "train_accuracy = accuracy_score(y_train, y_train_pred)\n",
    "\n",
    "#Calculo el accuracy en Test\n",
    "test_accuracy = accuracy_score(y_test, y_test_pred)\n",
    "\n",
    "print('% de aciertos sobre el set de entrenamiento:', train_accuracy)\n",
    "print('% de aciertos sobre el set de evaluación:',test_accuracy)"
   ]
  },
  {
   "cell_type": "markdown",
   "metadata": {},
   "source": [
    "Determinamos la probabilidad de la predicción"
   ]
  },
  {
   "cell_type": "code",
   "execution_count": null,
   "metadata": {},
   "outputs": [],
   "source": [
    "probabilidades_prediccion = log_reg.predict_proba(prediction)\n",
    "probabilidades_prediccion[:,1]"
   ]
  },
  {
   "cell_type": "code",
   "execution_count": null,
   "metadata": {},
   "outputs": [],
   "source": []
  }
 ],
 "metadata": {
  "interpreter": {
   "hash": "d0fd3259a0ae7798bf28b9ed97f5d4d70eaf745bfa37ff3042465361f4141f08"
  },
  "kernelspec": {
   "display_name": "Python 3.9.7 64-bit ('pyenv': venv)",
   "language": "python",
   "name": "python3"
  },
  "language_info": {
   "codemirror_mode": {
    "name": "ipython",
    "version": 3
   },
   "file_extension": ".py",
   "mimetype": "text/x-python",
   "name": "python",
   "nbconvert_exporter": "python",
   "pygments_lexer": "ipython3",
   "version": "3.9.7"
  },
  "orig_nbformat": 4
 },
 "nbformat": 4,
 "nbformat_minor": 2
}
