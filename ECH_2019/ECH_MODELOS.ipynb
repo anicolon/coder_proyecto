{
  "nbformat": 4,
  "nbformat_minor": 0,
  "metadata": {
    "colab": {
      "name": "ECH_MODELOS.ipynb",
      "provenance": [],
      "collapsed_sections": []
    },
    "interpreter": {
      "hash": "d0fd3259a0ae7798bf28b9ed97f5d4d70eaf745bfa37ff3042465361f4141f08"
    },
    "kernelspec": {
      "display_name": "Python 3.9.7 64-bit ('pyenv': venv)",
      "language": "python",
      "name": "python3"
    },
    "language_info": {
      "codemirror_mode": {
        "name": "ipython",
        "version": 3
      },
      "file_extension": ".py",
      "mimetype": "text/x-python",
      "name": "python",
      "nbconvert_exporter": "python",
      "pygments_lexer": "ipython3",
      "version": "3.9.7"
    }
  },
  "cells": [
    {
      "cell_type": "code",
      "metadata": {
        "id": "4Fyym8rv1dDm",
        "colab": {
          "base_uri": "https://localhost:8080/"
        },
        "outputId": "e2cc102e-8182-4b6f-881b-e99135110534"
      },
      "source": [
        "from google.colab import drive\n",
        "drive.mount('/content/drive')\n",
        "\n"
      ],
      "execution_count": 1,
      "outputs": [
        {
          "output_type": "stream",
          "name": "stdout",
          "text": [
            "Mounted at /content/drive\n"
          ]
        }
      ]
    },
    {
      "cell_type": "code",
      "metadata": {
        "id": "93-fWQ16M1bJ"
      },
      "source": [
        "import pandas as pd\n",
        "import numpy as np\n",
        "import seaborn as sns\n",
        "\n",
        "sns.set(rc={'figure.figsize': (25, 10)}, font_scale=1.5)\n",
        "\n",
        "df = pd.read_csv('/content/drive/MyDrive/ECH_2019.csv')\n",
        "\n",
        "# df = pd.read_csv('ECH_2019.csv')"
      ],
      "execution_count": 2,
      "outputs": []
    },
    {
      "cell_type": "code",
      "metadata": {
        "id": "nDVahJg0M1bM",
        "colab": {
          "base_uri": "https://localhost:8080/",
          "height": 288
        },
        "outputId": "76a0f35c-157b-4212-dec9-56adcca59b4c"
      },
      "source": [
        "df.sample(2)\n",
        "\n"
      ],
      "execution_count": 3,
      "outputs": [
        {
          "output_type": "execute_result",
          "data": {
            "text/html": [
              "<div>\n",
              "<style scoped>\n",
              "    .dataframe tbody tr th:only-of-type {\n",
              "        vertical-align: middle;\n",
              "    }\n",
              "\n",
              "    .dataframe tbody tr th {\n",
              "        vertical-align: top;\n",
              "    }\n",
              "\n",
              "    .dataframe thead th {\n",
              "        text-align: right;\n",
              "    }\n",
              "</style>\n",
              "<table border=\"1\" class=\"dataframe\">\n",
              "  <thead>\n",
              "    <tr style=\"text-align: right;\">\n",
              "      <th></th>\n",
              "      <th>id_hogar</th>\n",
              "      <th>sexo</th>\n",
              "      <th>edad</th>\n",
              "      <th>ascendencia</th>\n",
              "      <th>parentesco</th>\n",
              "      <th>estado_laboral</th>\n",
              "      <th>nper</th>\n",
              "      <th>sueldo</th>\n",
              "      <th>busca_otro_trabajo</th>\n",
              "      <th>actividad</th>\n",
              "      <th>asistencia alguna vez a enseñanza</th>\n",
              "      <th>edu preescolar</th>\n",
              "      <th>edu primaria</th>\n",
              "      <th>edu media</th>\n",
              "      <th>edu técnica</th>\n",
              "      <th>edu univ o simil</th>\n",
              "      <th>edu terciario no uni</th>\n",
              "      <th>edu posgrado</th>\n",
              "      <th>edu mag prof</th>\n",
              "      <th>barrio</th>\n",
              "      <th>estado_civil</th>\n",
              "      <th>hijos</th>\n",
              "      <th>leer_escribir</th>\n",
              "    </tr>\n",
              "  </thead>\n",
              "  <tbody>\n",
              "    <tr>\n",
              "      <th>30985</th>\n",
              "      <td>2019016698</td>\n",
              "      <td>Mujer</td>\n",
              "      <td>55</td>\n",
              "      <td>Blanca</td>\n",
              "      <td>Esposo/a o compañero/a</td>\n",
              "      <td>Ocupados</td>\n",
              "      <td>2</td>\n",
              "      <td>110000</td>\n",
              "      <td>No</td>\n",
              "      <td>Enseñanza secundaria de formación general</td>\n",
              "      <td>Sí</td>\n",
              "      <td>Sí, asistió</td>\n",
              "      <td>Sí, asistió</td>\n",
              "      <td>Sí, asistió</td>\n",
              "      <td>No asistió</td>\n",
              "      <td>No asistió</td>\n",
              "      <td>No asistió</td>\n",
              "      <td>Sí, asistió</td>\n",
              "      <td>Sí, asistió</td>\n",
              "      <td>2</td>\n",
              "      <td>0</td>\n",
              "      <td>Sí</td>\n",
              "      <td>Sí</td>\n",
              "    </tr>\n",
              "    <tr>\n",
              "      <th>61786</th>\n",
              "      <td>2019033204</td>\n",
              "      <td>Mujer</td>\n",
              "      <td>39</td>\n",
              "      <td>Blanca</td>\n",
              "      <td>Jefe/a de hogar</td>\n",
              "      <td>Ocupados</td>\n",
              "      <td>1</td>\n",
              "      <td>9000</td>\n",
              "      <td>No</td>\n",
              "      <td>Enseñanza pre primaria y primaria</td>\n",
              "      <td>Sí</td>\n",
              "      <td>Sí, asistió</td>\n",
              "      <td>Sí, asistió</td>\n",
              "      <td>Sí, asistió</td>\n",
              "      <td>Asiste actualmente</td>\n",
              "      <td>0</td>\n",
              "      <td>0</td>\n",
              "      <td>0</td>\n",
              "      <td>0</td>\n",
              "      <td>25</td>\n",
              "      <td>Soltero/a</td>\n",
              "      <td>No</td>\n",
              "      <td>Sí</td>\n",
              "    </tr>\n",
              "  </tbody>\n",
              "</table>\n",
              "</div>"
            ],
            "text/plain": [
              "         id_hogar   sexo  edad  ... estado_civil hijos leer_escribir\n",
              "30985  2019016698  Mujer    55  ...            0    Sí            Sí\n",
              "61786  2019033204  Mujer    39  ...    Soltero/a    No            Sí\n",
              "\n",
              "[2 rows x 23 columns]"
            ]
          },
          "metadata": {},
          "execution_count": 3
        }
      ]
    },
    {
      "cell_type": "code",
      "metadata": {
        "id": "LzFVyDkXM1bN"
      },
      "source": [
        "no_data = {0: 'No hay dato', '0': 'No hay dato'}\n",
        "\n",
        "mask = df.columns.difference(['edad', 'sueldo', 'hijos', 'barrio'])\n",
        "\n",
        "df[mask] = df[mask].replace(no_data)\n",
        "\n"
      ],
      "execution_count": 4,
      "outputs": []
    },
    {
      "cell_type": "markdown",
      "metadata": {
        "id": "5y30QCPZM1bb"
      },
      "source": [
        "### AJUSTANDO DATOS PARA ENTRENAR EL MODELO"
      ]
    },
    {
      "cell_type": "markdown",
      "metadata": {
        "id": "UDhMFaUMM1bR"
      },
      "source": [
        "Seleccionamos personas con edad suficiente para trabajar"
      ]
    },
    {
      "cell_type": "code",
      "metadata": {
        "id": "l3mwgnC9M1bS"
      },
      "source": [
        "df = df[~df['estado_laboral'].str.contains('Menores de 14 años')]"
      ],
      "execution_count": 5,
      "outputs": []
    },
    {
      "cell_type": "code",
      "metadata": {
        "id": "04b8qb2HzAx6"
      },
      "source": [
        "# df = df[df['estado_laboral'].str.contains('Ocupados')]"
      ],
      "execution_count": 6,
      "outputs": []
    },
    {
      "cell_type": "markdown",
      "metadata": {
        "id": "DNWvp0cN1D_V"
      },
      "source": [
        "# Categorizamos las edades y sueldos en rangos"
      ]
    },
    {
      "cell_type": "code",
      "metadata": {
        "id": "EJtNyEDpzLMY"
      },
      "source": [
        "df['rango_sueldos'] = pd.cut(df['sueldo'], bins=[\n",
        "    1,\n",
        "    5000,\n",
        "    10000,\n",
        "    30000,\n",
        "    50000,\n",
        "    100000,\n",
        "    float('Inf'),\n",
        "    ]).cat.codes\n",
        "\n",
        "df['rango_edades'] = pd.cut(df['edad'], bins=[\n",
        "    0,\n",
        "    10,\n",
        "    15,\n",
        "    20,\n",
        "    30,\n",
        "    40,\n",
        "    50,\n",
        "    60,\n",
        "    70,\n",
        "    float('Inf'),\n",
        "    ]).cat.codes"
      ],
      "execution_count": 7,
      "outputs": []
    },
    {
      "cell_type": "markdown",
      "metadata": {
        "id": "i1PtSP8LM1bc"
      },
      "source": [
        "Eliminanos las columnas que no vamos a usar o que ya categorizamos"
      ]
    },
    {
      "cell_type": "code",
      "metadata": {
        "id": "jVBYMpglM1bf"
      },
      "source": [
        "df = df[[\n",
        "    'sexo', \n",
        "    'ascendencia', \n",
        "    'parentesco', \n",
        "    'estado_laboral', \n",
        "    'busca_otro_trabajo',\n",
        "    'actividad',\n",
        "    'asistencia alguna vez a enseñanza',\n",
        "    'edu preescolar',\n",
        "    'edu primaria',\n",
        "    'edu media',\n",
        "    'edu técnica',\n",
        "    'edu univ o simil',\n",
        "    'edu terciario no uni',\n",
        "    'edu posgrado',\n",
        "    'edu mag prof',\n",
        "    'barrio',\n",
        "    'estado_civil',\n",
        "    'hijos',\n",
        "    'leer_escribir',\n",
        "    'rango_sueldos',\n",
        "    'rango_edades'\n",
        "    ]]\n",
        "\n",
        "    "
      ],
      "execution_count": 8,
      "outputs": []
    },
    {
      "cell_type": "code",
      "metadata": {
        "id": "tdFWRa2Wzk6A"
      },
      "source": [
        "df = df[~df['rango_sueldos'].isna()]"
      ],
      "execution_count": 9,
      "outputs": []
    },
    {
      "cell_type": "markdown",
      "metadata": {
        "id": "tr2CniL5M1bg"
      },
      "source": [
        "### DEFINIMOS LAS VARIABLES DEPENDIENTES E INDEPENDIENTES"
      ]
    },
    {
      "cell_type": "code",
      "metadata": {
        "id": "Fw7aZaAIM1bg",
        "colab": {
          "base_uri": "https://localhost:8080/"
        },
        "outputId": "ab74040e-0c25-49d8-f74b-85199bbda4ba"
      },
      "source": [
        "# Feautures\n",
        "X = df.drop('rango_sueldos', axis=1).to_numpy()\n",
        "y = df['rango_sueldos']\n",
        "\n",
        "print('X shape', X.shape, '\\nY shape', y.shape)"
      ],
      "execution_count": 10,
      "outputs": [
        {
          "output_type": "stream",
          "name": "stdout",
          "text": [
            "X shape (49036, 20) \n",
            "Y shape (49036,)\n"
          ]
        }
      ]
    },
    {
      "cell_type": "code",
      "metadata": {
        "id": "VdOpqVADM1bc"
      },
      "source": [
        "from sklearn.preprocessing import OneHotEncoder\n",
        "\n",
        "one_hot = OneHotEncoder()\n",
        "\n",
        "X = one_hot.fit_transform(X)\n"
      ],
      "execution_count": 11,
      "outputs": []
    },
    {
      "cell_type": "code",
      "metadata": {
        "id": "DMXHoU8eEQf5"
      },
      "source": [
        "X"
      ],
      "execution_count": null,
      "outputs": []
    },
    {
      "cell_type": "code",
      "metadata": {
        "id": "jrSPqyGcES84"
      },
      "source": [
        "y"
      ],
      "execution_count": null,
      "outputs": []
    },
    {
      "cell_type": "code",
      "metadata": {
        "id": "SEh2xRmnEQSB"
      },
      "source": [
        ""
      ],
      "execution_count": null,
      "outputs": []
    },
    {
      "cell_type": "code",
      "metadata": {
        "id": "7tlRRcJj4Aep"
      },
      "source": [
        "prediction = X.toarray()\n",
        "prediction = prediction[49000].reshape(1, -1)"
      ],
      "execution_count": 12,
      "outputs": []
    },
    {
      "cell_type": "markdown",
      "metadata": {
        "id": "4WNKcjI3M1bg"
      },
      "source": [
        "### Dividimos los datos en un 30% de test y 70% de entrenamiento"
      ]
    },
    {
      "cell_type": "code",
      "metadata": {
        "id": "ShFudTmNM1bh"
      },
      "source": [
        "from sklearn.model_selection import train_test_split \n",
        "\n",
        "X_train, X_test, y_train, y_test = train_test_split(X, y, test_size=0.30, random_state=42) \n",
        "\n"
      ],
      "execution_count": 13,
      "outputs": []
    },
    {
      "cell_type": "code",
      "metadata": {
        "id": "ZV5LPElaM1bh",
        "colab": {
          "base_uri": "https://localhost:8080/"
        },
        "outputId": "e79a7c64-be4e-4305-ca4b-8a2bae2772cd"
      },
      "source": [
        "print(X_train.shape, y_train.shape)\n",
        "print(X_test.shape, y_test.shape)\n",
        "\n"
      ],
      "execution_count": 14,
      "outputs": [
        {
          "output_type": "stream",
          "name": "stdout",
          "text": [
            "(34325, 525) (34325,)\n",
            "(14711, 525) (14711,)\n"
          ]
        }
      ]
    },
    {
      "cell_type": "markdown",
      "metadata": {
        "id": "t3yhULSwM1bi"
      },
      "source": [
        "# DEFINIMOS ALGORITMO DE REGRESIÓN LOGISTICA"
      ]
    },
    {
      "cell_type": "code",
      "metadata": {
        "colab": {
          "base_uri": "https://localhost:8080/"
        },
        "id": "VA9pehfmM1bj",
        "outputId": "30424ea4-0aaf-40a5-8f1a-56fa913d6649"
      },
      "source": [
        "from sklearn.linear_model import LogisticRegression\n",
        "from sklearn.model_selection import cross_val_score\n",
        "\n",
        "logistic_reg = LogisticRegression(multi_class='multinomial', max_iter=20000)\n",
        "\n",
        "logistic_reg.fit(X_train, y_train)\n",
        "\n"
      ],
      "execution_count": 15,
      "outputs": [
        {
          "output_type": "execute_result",
          "data": {
            "text/plain": [
              "LogisticRegression(max_iter=20000, multi_class='multinomial')"
            ]
          },
          "metadata": {},
          "execution_count": 15
        }
      ]
    },
    {
      "cell_type": "markdown",
      "metadata": {
        "id": "-HQ7bvlwHVfU"
      },
      "source": [
        "### VALOR DE CROSS VALIDATION PARA CADA FOLD"
      ]
    },
    {
      "cell_type": "code",
      "metadata": {
        "colab": {
          "base_uri": "https://localhost:8080/"
        },
        "id": "-OqPQoduHVfU",
        "outputId": "ea2abefc-7591-4a0c-b53d-4d40a99e97c1"
      },
      "source": [
        "scores = cross_val_score(logistic_reg, X, y, cv=5)\n",
        "\n",
        "scores\n",
        "\n"
      ],
      "execution_count": 16,
      "outputs": [
        {
          "output_type": "execute_result",
          "data": {
            "text/plain": [
              "array([0.57432708, 0.57234628, 0.57509942, 0.58091159, 0.57469155])"
            ]
          },
          "metadata": {},
          "execution_count": 16
        }
      ]
    },
    {
      "cell_type": "code",
      "metadata": {
        "colab": {
          "base_uri": "https://localhost:8080/"
        },
        "id": "Sk2eF2hMM1bj",
        "outputId": "09f3a498-6ba4-4461-e1a8-ba05f80331ac"
      },
      "source": [
        "print('Promedio de cross_validation ', round(scores.mean(),2))\n",
        "print('Score en test ', round(logistic_reg.score(X_test, y_test),2))\n",
        "print('Score en train ', round(logistic_reg.score(X_train, y_train),2))\n",
        "\n"
      ],
      "execution_count": 17,
      "outputs": [
        {
          "output_type": "stream",
          "name": "stdout",
          "text": [
            "Promedio de cross_validation  0.58\n",
            "Score en test  0.57\n",
            "Score en train  0.6\n"
          ]
        }
      ]
    },
    {
      "cell_type": "code",
      "metadata": {
        "colab": {
          "base_uri": "https://localhost:8080/"
        },
        "id": "FzF5F8XuM1bl",
        "outputId": "81de73a5-091c-46e7-a070-c58c52e3c9af"
      },
      "source": [
        "import matplotlib.pyplot as plt\n",
        "from sklearn.metrics import confusion_matrix\n",
        "\n",
        "predictions = logistic_reg.predict(X_test)\n",
        "\n",
        "confusion_matrix(y_test, predictions)\n",
        "\n"
      ],
      "execution_count": 18,
      "outputs": [
        {
          "output_type": "execute_result",
          "data": {
            "text/plain": [
              "array([[3252,   27,   30, 1068,  105,   52,    8],\n",
              "       [ 125,   60,   40,  208,    1,    1,    0],\n",
              "       [ 214,   43,   51,  512,   12,    6,    0],\n",
              "       [1122,   32,   48, 4000,  440,   46,    2],\n",
              "       [ 356,    0,    0,  967,  780,  149,    3],\n",
              "       [ 117,    0,    0,  154,  271,  235,   11],\n",
              "       [  23,    0,    0,    7,   23,   92,   18]])"
            ]
          },
          "metadata": {},
          "execution_count": 18
        }
      ]
    },
    {
      "cell_type": "markdown",
      "metadata": {
        "id": "ypMnIojSM1bl"
      },
      "source": [
        "### INVESTIGAMOS LA EFECTIVIDAD DEL MODELO SOBRE LOS DATOS"
      ]
    },
    {
      "cell_type": "code",
      "metadata": {
        "colab": {
          "base_uri": "https://localhost:8080/"
        },
        "id": "1wgaRZ6BM1bm",
        "outputId": "0a8fdbc6-db79-411c-deb8-07eae8d54601"
      },
      "source": [
        "from sklearn.metrics import accuracy_score\n",
        "\n",
        "#Prediccion en Train\n",
        "y_train_pred = logistic_reg.predict(X_train)\n",
        "\n",
        "#Prediccion en Test\n",
        "y_test_pred = logistic_reg.predict(X_test)\n",
        "\n",
        "#Calculo el accuracy en Train\n",
        "train_accuracy = accuracy_score(y_train, y_train_pred)\n",
        "\n",
        "#Calculo el accuracy en Test\n",
        "test_accuracy = accuracy_score(y_test, y_test_pred)\n",
        "\n",
        "print('Aciertos sobre entrenamiento:', round(train_accuracy, 2))\n",
        "print('Aciertos sobre evaluación:', round(test_accuracy, 2))\n",
        "\n"
      ],
      "execution_count": 19,
      "outputs": [
        {
          "output_type": "stream",
          "name": "stdout",
          "text": [
            "Aciertos sobre entrenamiento: 0.6\n",
            "Aciertos sobre evaluación: 0.57\n"
          ]
        }
      ]
    },
    {
      "cell_type": "code",
      "metadata": {
        "colab": {
          "base_uri": "https://localhost:8080/"
        },
        "id": "5B2fjv7p4eTK",
        "outputId": "c2f0a56e-9d67-4aae-dfc8-987fb2ef8a00"
      },
      "source": [
        "y_train"
      ],
      "execution_count": 20,
      "outputs": [
        {
          "output_type": "execute_result",
          "data": {
            "text/plain": [
              "107625   -1\n",
              "84723     3\n",
              "61045     4\n",
              "46237     2\n",
              "81096    -1\n",
              "         ..\n",
              "24931     3\n",
              "98341     2\n",
              "84144     3\n",
              "1898      2\n",
              "34996    -1\n",
              "Name: rango_sueldos, Length: 34325, dtype: int8"
            ]
          },
          "metadata": {},
          "execution_count": 20
        }
      ]
    },
    {
      "cell_type": "markdown",
      "metadata": {
        "id": "ACeJF5NUM1bl"
      },
      "source": [
        "### APLICAMOS PREDICCIÓN SOBRE EL MODELO"
      ]
    },
    {
      "cell_type": "code",
      "metadata": {
        "colab": {
          "base_uri": "https://localhost:8080/"
        },
        "id": "c5PlQMpUM1bl",
        "outputId": "7db24de6-caf3-4e15-de87-74901b59d1ad"
      },
      "source": [
        "print(logistic_reg.predict(prediction))\n",
        "\n",
        "print(y_train[49000])\n",
        "\n"
      ],
      "execution_count": 21,
      "outputs": [
        {
          "output_type": "stream",
          "name": "stdout",
          "text": [
            "[2]\n",
            "-1\n"
          ]
        }
      ]
    },
    {
      "cell_type": "markdown",
      "metadata": {
        "id": "DYYlDLatM1bm"
      },
      "source": [
        "Determinamos la probabilidad de la predicción"
      ]
    },
    {
      "cell_type": "code",
      "metadata": {
        "colab": {
          "base_uri": "https://localhost:8080/"
        },
        "id": "XWzmupvzM1bm",
        "outputId": "342d5756-dc60-43a1-8e44-80518ba67857"
      },
      "source": [
        "probabilidades_prediccion = logistic_reg.predict_proba(prediction)\n",
        "probabilidades_prediccion[:,1]\n",
        "\n"
      ],
      "execution_count": 22,
      "outputs": [
        {
          "output_type": "execute_result",
          "data": {
            "text/plain": [
              "array([0.00061027])"
            ]
          },
          "metadata": {},
          "execution_count": 22
        }
      ]
    },
    {
      "cell_type": "markdown",
      "metadata": {
        "id": "5BPPzKUaHVfY"
      },
      "source": [
        "# REPETIMOS EL EJERCICIO CON EL MODELO DE RANDOM FOREST"
      ]
    },
    {
      "cell_type": "code",
      "metadata": {
        "colab": {
          "base_uri": "https://localhost:8080/"
        },
        "id": "ODF-6NeoHVfa",
        "outputId": "043a4c01-57e4-4782-8fd5-b1da737b36a6"
      },
      "source": [
        "from sklearn.ensemble import RandomForestClassifier\n",
        "\n",
        "random_forest = RandomForestClassifier(100)\n",
        "\n",
        "random_forest.fit(X_train, y_train)\n",
        "\n"
      ],
      "execution_count": 23,
      "outputs": [
        {
          "output_type": "execute_result",
          "data": {
            "text/plain": [
              "RandomForestClassifier()"
            ]
          },
          "metadata": {},
          "execution_count": 23
        }
      ]
    },
    {
      "cell_type": "code",
      "metadata": {
        "colab": {
          "base_uri": "https://localhost:8080/"
        },
        "id": "JH1bvMyMHVfa",
        "outputId": "12d2143b-5015-443b-8705-43e23cb13b65"
      },
      "source": [
        "scores = cross_val_score(random_forest, X, y, cv=5)\n",
        "\n",
        "scores\n",
        "\n"
      ],
      "execution_count": 24,
      "outputs": [
        {
          "output_type": "execute_result",
          "data": {
            "text/plain": [
              "array([0.5262031 , 0.5242174 , 0.52187213, 0.52431936, 0.52564495])"
            ]
          },
          "metadata": {},
          "execution_count": 24
        }
      ]
    },
    {
      "cell_type": "code",
      "metadata": {
        "colab": {
          "base_uri": "https://localhost:8080/"
        },
        "id": "EdbWI5glHVfa",
        "outputId": "f6030c3a-fa99-4883-e532-71df5dec61d0"
      },
      "source": [
        "print('Promedio de cross_validation ', round(scores.mean(),2))\n",
        "print('Score en test ', round(logistic_reg.score(X_test, y_test),2))\n",
        "print('Score en train ', round(logistic_reg.score(X_train, y_train),2))\n",
        "\n"
      ],
      "execution_count": 25,
      "outputs": [
        {
          "output_type": "stream",
          "name": "stdout",
          "text": [
            "Promedio de cross_validation  0.52\n",
            "Score en test  0.57\n",
            "Score en train  0.6\n"
          ]
        }
      ]
    },
    {
      "cell_type": "code",
      "metadata": {
        "colab": {
          "base_uri": "https://localhost:8080/"
        },
        "id": "7iZRCzTEMSBF",
        "outputId": "af10091c-2a1e-4213-e452-bf95ab499e9f"
      },
      "source": [
        "predictions = logistic_reg.predict(X_test)\n",
        "\n",
        "confusion_matrix(y_test, predictions)\n",
        "\n"
      ],
      "execution_count": 26,
      "outputs": [
        {
          "output_type": "execute_result",
          "data": {
            "text/plain": [
              "array([[3252,   27,   30, 1068,  105,   52,    8],\n",
              "       [ 125,   60,   40,  208,    1,    1,    0],\n",
              "       [ 214,   43,   51,  512,   12,    6,    0],\n",
              "       [1122,   32,   48, 4000,  440,   46,    2],\n",
              "       [ 356,    0,    0,  967,  780,  149,    3],\n",
              "       [ 117,    0,    0,  154,  271,  235,   11],\n",
              "       [  23,    0,    0,    7,   23,   92,   18]])"
            ]
          },
          "metadata": {},
          "execution_count": 26
        }
      ]
    },
    {
      "cell_type": "code",
      "metadata": {
        "colab": {
          "base_uri": "https://localhost:8080/"
        },
        "id": "KGw6_y5BHVfa",
        "outputId": "18ea9cc6-9a19-4806-ff56-ef11abf765dd"
      },
      "source": [
        "#Prediccion en Train\n",
        "y_train_pred = random_forest.predict(X_train)\n",
        "\n",
        "#Prediccion en Test\n",
        "y_test_pred = random_forest.predict(X_test)\n",
        "\n",
        "#Calculo el accuracy en Train\n",
        "train_accuracy = accuracy_score(y_train, y_train_pred)\n",
        "\n",
        "#Calculo el accuracy en Test\n",
        "test_accuracy = accuracy_score(y_test, y_test_pred)\n",
        "\n",
        "print('Aciertos sobre entrenamiento:', round(train_accuracy, 2))\n",
        "print('Aciertos sobre evaluación:', round(test_accuracy, 2))\n",
        "\n"
      ],
      "execution_count": 27,
      "outputs": [
        {
          "output_type": "stream",
          "name": "stdout",
          "text": [
            "Aciertos sobre entrenamiento: 0.94\n",
            "Aciertos sobre evaluación: 0.52\n"
          ]
        }
      ]
    },
    {
      "cell_type": "code",
      "metadata": {
        "colab": {
          "base_uri": "https://localhost:8080/"
        },
        "id": "BAkm5UkiQlIn",
        "outputId": "ba51605d-a758-457d-a3a6-99a656a14bde"
      },
      "source": [
        "print(random_forest.predict(prediction))\n",
        "print(y_train[49000])\n",
        "\n"
      ],
      "execution_count": 28,
      "outputs": [
        {
          "output_type": "stream",
          "name": "stdout",
          "text": [
            "[3]\n",
            "-1\n"
          ]
        }
      ]
    },
    {
      "cell_type": "markdown",
      "metadata": {
        "id": "wtPUDB4SYAsh"
      },
      "source": [
        "# REPETIMOS EL EJERCICIO CON EL MODELO DE K NEAREST NEIGHBOURS"
      ]
    },
    {
      "cell_type": "code",
      "metadata": {
        "colab": {
          "base_uri": "https://localhost:8080/"
        },
        "id": "DP-ODZm4YBR4",
        "outputId": "324fbe59-66a0-4337-a5ea-2c718a9e1d5f"
      },
      "source": [
        "from sklearn.neighbors import KNeighborsClassifier\n",
        "\n",
        "knearest_model = KNeighborsClassifier(n_neighbors=4)\n",
        "\n",
        "knearest_model.fit(X_train, y_train)\n",
        "\n"
      ],
      "execution_count": 29,
      "outputs": [
        {
          "output_type": "execute_result",
          "data": {
            "text/plain": [
              "KNeighborsClassifier(n_neighbors=4)"
            ]
          },
          "metadata": {},
          "execution_count": 29
        }
      ]
    },
    {
      "cell_type": "code",
      "metadata": {
        "colab": {
          "base_uri": "https://localhost:8080/"
        },
        "id": "uLbTJmdkYX6P",
        "outputId": "95e4e8bb-6eee-46b3-c8ae-ce8fe1a81f2a"
      },
      "source": [
        "scores = cross_val_score(knearest_model, X, y, cv=5)\n",
        "\n",
        "scores           \n",
        "\n"
      ],
      "execution_count": 30,
      "outputs": [
        {
          "output_type": "execute_result",
          "data": {
            "text/plain": [
              "array([0.45778956, 0.45426736, 0.44763944, 0.4442745 , 0.44702763])"
            ]
          },
          "metadata": {},
          "execution_count": 30
        }
      ]
    },
    {
      "cell_type": "code",
      "metadata": {
        "colab": {
          "base_uri": "https://localhost:8080/"
        },
        "id": "WjGoWFlJYcDC",
        "outputId": "94d86340-9aec-423e-cca2-43c322830c2e"
      },
      "source": [
        "print('Promedio de cross_validation ', round(scores.mean(),2))\n",
        "print('Score en test ', round(knearest_model.score(X_test, y_test),2))\n",
        "print('Score en train ', round(knearest_model.score(X_train, y_train),2))\n",
        "\n"
      ],
      "execution_count": 31,
      "outputs": [
        {
          "output_type": "stream",
          "name": "stdout",
          "text": [
            "Promedio de cross_validation  0.45\n",
            "Score en test  0.45\n",
            "Score en train  0.64\n"
          ]
        }
      ]
    },
    {
      "cell_type": "code",
      "metadata": {
        "colab": {
          "base_uri": "https://localhost:8080/"
        },
        "id": "jUEjCBlxMCo0",
        "outputId": "eae8e30b-67fe-44be-f9d1-1bf7a12fc984"
      },
      "source": [
        "predictions = knearest_model.predict(X_test)\n",
        "\n",
        "confusion_matrix(y_test, predictions)\n",
        "\n"
      ],
      "execution_count": 32,
      "outputs": [
        {
          "output_type": "execute_result",
          "data": {
            "text/plain": [
              "array([[2767,   62,   84, 1250,  283,   89,    7],\n",
              "       [ 149,   58,   62,  157,    8,    1,    0],\n",
              "       [ 291,   75,  104,  334,   28,    5,    1],\n",
              "       [1770,   95,  228, 3010,  515,   72,    0],\n",
              "       [ 722,    6,   19,  882,  497,  119,   10],\n",
              "       [ 263,    1,    7,  163,  185,  153,   16],\n",
              "       [  61,    0,    0,   17,   22,   49,   14]])"
            ]
          },
          "metadata": {},
          "execution_count": 32
        }
      ]
    },
    {
      "cell_type": "code",
      "metadata": {
        "colab": {
          "base_uri": "https://localhost:8080/"
        },
        "id": "iEfxUO49YhIS",
        "outputId": "037c9d1b-7dd3-4b72-e08e-4f4f9264b9fe"
      },
      "source": [
        "#Prediccion en Train\n",
        "y_train_pred = knearest_model.predict(X_train)\n",
        "\n",
        "#Prediccion en Test\n",
        "y_test_pred = knearest_model.predict(X_test)\n",
        "\n",
        "#Calculo el accuracy en Train\n",
        "train_accuracy = accuracy_score(y_train, y_train_pred)\n",
        "\n",
        "#Calculo el accuracy en Test\n",
        "test_accuracy = accuracy_score(y_test, y_test_pred)\n",
        "\n",
        "print('Aciertos sobre entrenamiento:', round(train_accuracy, 2))\n",
        "print('Aciertos sobre evaluación:', round(test_accuracy, 2))\n",
        "\n"
      ],
      "execution_count": 33,
      "outputs": [
        {
          "output_type": "stream",
          "name": "stdout",
          "text": [
            "Aciertos sobre entrenamiento: 0.64\n",
            "Aciertos sobre evaluación: 0.45\n"
          ]
        }
      ]
    },
    {
      "cell_type": "code",
      "metadata": {
        "colab": {
          "base_uri": "https://localhost:8080/"
        },
        "id": "44S2Y5vrYnF3",
        "outputId": "9ae10911-dc45-4981-be29-44709063c43f"
      },
      "source": [
        "print(knearest_model.predict(prediction))\n",
        "print(y_train[49000])\n",
        "\n"
      ],
      "execution_count": 34,
      "outputs": [
        {
          "output_type": "stream",
          "name": "stdout",
          "text": [
            "[-1]\n",
            "-1\n"
          ]
        }
      ]
    },
    {
      "cell_type": "code",
      "metadata": {
        "id": "LczgbhPu2Ehq"
      },
      "source": [
        ""
      ],
      "execution_count": 34,
      "outputs": []
    }
  ]
}