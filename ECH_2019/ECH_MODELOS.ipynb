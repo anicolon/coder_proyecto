{
  "nbformat": 4,
  "nbformat_minor": 0,
  "metadata": {
    "colab": {
      "name": "ECH_MODELOS.ipynb",
      "provenance": [],
      "collapsed_sections": []
    },
    "interpreter": {
      "hash": "d0fd3259a0ae7798bf28b9ed97f5d4d70eaf745bfa37ff3042465361f4141f08"
    },
    "kernelspec": {
      "display_name": "Python 3 (ipykernel)",
      "language": "python",
      "name": "python3"
    },
    "language_info": {
      "codemirror_mode": {
        "name": "ipython",
        "version": 3
      },
      "file_extension": ".py",
      "mimetype": "text/x-python",
      "name": "python",
      "nbconvert_exporter": "python",
      "pygments_lexer": "ipython3",
      "version": "3.9.7"
    }
  },
  "cells": [
    {
      "cell_type": "code",
      "metadata": {
        "colab": {
          "base_uri": "https://localhost:8080/"
        },
        "id": "4Fyym8rv1dDm",
        "outputId": "af1f0d45-81e0-40ed-fa61-7817ca1d0b88"
      },
      "source": [
        "from google.colab import drive\n",
        "drive.mount('/content/drive')"
      ],
      "execution_count": 1,
      "outputs": [
        {
          "output_type": "stream",
          "name": "stdout",
          "text": [
            "Drive already mounted at /content/drive; to attempt to forcibly remount, call drive.mount(\"/content/drive\", force_remount=True).\n"
          ]
        }
      ]
    },
    {
      "cell_type": "code",
      "metadata": {
        "id": "93-fWQ16M1bJ"
      },
      "source": [
        "import pandas as pd\n",
        "import numpy as np\n",
        "import seaborn as sns\n",
        "import matplotlib.pyplot as plt\n",
        "\n",
        "sns.set(rc={'figure.figsize': (10, 5)}, font_scale=1.5)\n",
        "\n",
        "df = pd.read_csv('/content/drive/MyDrive/ECH_2019.csv')\n",
        "\n",
        "# df = pd.read_csv('ECH_2019.csv')"
      ],
      "execution_count": 2,
      "outputs": []
    },
    {
      "cell_type": "code",
      "metadata": {
        "id": "LzFVyDkXM1bN"
      },
      "source": [
        "no_data = {0: 'No hay dato', '0': 'No hay dato'}\n",
        "\n",
        "mask = df.columns.difference(['edad',\n",
        "                              'sueldo',\n",
        "                              'hijos en hogar',\n",
        "                              'hijos en otro hogar',\n",
        "                              'hijos en el extranjero',\n",
        "                              'suma_hijos',\n",
        "                              'barrio'])\n",
        "\n",
        "df[mask] = df[mask].replace(no_data)"
      ],
      "execution_count": 3,
      "outputs": []
    },
    {
      "cell_type": "code",
      "metadata": {
        "colab": {
          "base_uri": "https://localhost:8080/"
        },
        "id": "gebPJSo5nLB5",
        "outputId": "f278843a-f56e-4636-b0b2-eed4882e7279"
      },
      "source": [
        "df['rango_edades'] = pd.qcut(df['edad'], q=10)\n",
        "\n",
        "df['rango_edades'].value_counts()"
      ],
      "execution_count": 4,
      "outputs": [
        {
          "output_type": "execute_result",
          "data": {
            "text/plain": [
              "(8.0, 16.0]      11803\n",
              "(39.0, 47.0]     11347\n",
              "(63.0, 73.0]     10988\n",
              "(-0.001, 8.0]    10918\n",
              "(55.0, 63.0]     10848\n",
              "(47.0, 55.0]     10834\n",
              "(16.0, 23.0]     10657\n",
              "(31.0, 39.0]     10484\n",
              "(23.0, 31.0]     10116\n",
              "(73.0, 98.0]      9876\n",
              "Name: rango_edades, dtype: int64"
            ]
          },
          "metadata": {},
          "execution_count": 4
        }
      ]
    },
    {
      "cell_type": "markdown",
      "metadata": {
        "id": "5y30QCPZM1bb"
      },
      "source": [
        "### AJUSTANDO DATOS PARA ENTRENAR EL MODELO"
      ]
    },
    {
      "cell_type": "markdown",
      "metadata": {
        "id": "UDhMFaUMM1bR"
      },
      "source": [
        "Seleccionamos personas con edad suficiente para trabajar"
      ]
    },
    {
      "cell_type": "code",
      "metadata": {
        "id": "l3mwgnC9M1bS"
      },
      "source": [
        "df = df[~df['estado_laboral'].str.contains('Menores de 14 años')]"
      ],
      "execution_count": 5,
      "outputs": []
    },
    {
      "cell_type": "code",
      "metadata": {
        "colab": {
          "base_uri": "https://localhost:8080/"
        },
        "id": "WVGz9_vSCPtd",
        "outputId": "e87c5b47-30d5-4a65-c765-741c1e12a6c3"
      },
      "source": [
        "df['estado_laboral'].value_counts()"
      ],
      "execution_count": 6,
      "outputs": [
        {
          "output_type": "execute_result",
          "data": {
            "text/plain": [
              "Ocupados                                      49036\n",
              "Inactivo: jubilado                            16025\n",
              "Inactivo: estudiante                           8216\n",
              "Inactivo: realiza los quehaceres del hogar     5936\n",
              "Inactivo: pensionista                          4438\n",
              "Desocupados propiamente dichos                 3409\n",
              "Inactivo: otro                                 1291\n",
              "Desocupados buscan trabajo por primera vez      787\n",
              "Inactivo: rentista                              414\n",
              "Desocupados en seguro de paro                   255\n",
              "Name: estado_laboral, dtype: int64"
            ]
          },
          "metadata": {},
          "execution_count": 6
        }
      ]
    },
    {
      "cell_type": "code",
      "metadata": {
        "colab": {
          "base_uri": "https://localhost:8080/",
          "height": 429
        },
        "id": "6RvvUJ1AnLB_",
        "outputId": "94c29a78-8307-4879-dc30-ca684909769d"
      },
      "source": [
        "df.groupby(by='estado_laboral').mean()"
      ],
      "execution_count": 7,
      "outputs": [
        {
          "output_type": "execute_result",
          "data": {
            "text/html": [
              "<div>\n",
              "<style scoped>\n",
              "    .dataframe tbody tr th:only-of-type {\n",
              "        vertical-align: middle;\n",
              "    }\n",
              "\n",
              "    .dataframe tbody tr th {\n",
              "        vertical-align: top;\n",
              "    }\n",
              "\n",
              "    .dataframe thead th {\n",
              "        text-align: right;\n",
              "    }\n",
              "</style>\n",
              "<table border=\"1\" class=\"dataframe\">\n",
              "  <thead>\n",
              "    <tr style=\"text-align: right;\">\n",
              "      <th></th>\n",
              "      <th>id_hogar</th>\n",
              "      <th>edad</th>\n",
              "      <th>nper</th>\n",
              "      <th>sueldo</th>\n",
              "      <th>barrio</th>\n",
              "      <th>hijos en hogar</th>\n",
              "      <th>hijos en otro hogar</th>\n",
              "      <th>hijos en el extranjero</th>\n",
              "      <th>suma_hijos</th>\n",
              "    </tr>\n",
              "    <tr>\n",
              "      <th>estado_laboral</th>\n",
              "      <th></th>\n",
              "      <th></th>\n",
              "      <th></th>\n",
              "      <th></th>\n",
              "      <th></th>\n",
              "      <th></th>\n",
              "      <th></th>\n",
              "      <th></th>\n",
              "      <th></th>\n",
              "    </tr>\n",
              "  </thead>\n",
              "  <tbody>\n",
              "    <tr>\n",
              "      <th>Desocupados buscan trabajo por primera vez</th>\n",
              "      <td>2.019029e+09</td>\n",
              "      <td>20.670902</td>\n",
              "      <td>3.035578</td>\n",
              "      <td>25.031766</td>\n",
              "      <td>11.876747</td>\n",
              "      <td>0.151207</td>\n",
              "      <td>0.022872</td>\n",
              "      <td>0.000000</td>\n",
              "      <td>0.174079</td>\n",
              "    </tr>\n",
              "    <tr>\n",
              "      <th>Desocupados en seguro de paro</th>\n",
              "      <td>2.019030e+09</td>\n",
              "      <td>39.074510</td>\n",
              "      <td>1.780392</td>\n",
              "      <td>3602.415686</td>\n",
              "      <td>12.407843</td>\n",
              "      <td>0.458824</td>\n",
              "      <td>0.254902</td>\n",
              "      <td>0.019608</td>\n",
              "      <td>0.733333</td>\n",
              "    </tr>\n",
              "    <tr>\n",
              "      <th>Desocupados propiamente dichos</th>\n",
              "      <td>2.019029e+09</td>\n",
              "      <td>33.915518</td>\n",
              "      <td>2.206512</td>\n",
              "      <td>1559.024641</td>\n",
              "      <td>11.319742</td>\n",
              "      <td>0.596656</td>\n",
              "      <td>0.310355</td>\n",
              "      <td>0.018774</td>\n",
              "      <td>0.925785</td>\n",
              "    </tr>\n",
              "    <tr>\n",
              "      <th>Inactivo: estudiante</th>\n",
              "      <td>2.019029e+09</td>\n",
              "      <td>17.345180</td>\n",
              "      <td>3.260346</td>\n",
              "      <td>93.646543</td>\n",
              "      <td>8.818768</td>\n",
              "      <td>0.033350</td>\n",
              "      <td>0.004260</td>\n",
              "      <td>0.000000</td>\n",
              "      <td>0.037610</td>\n",
              "    </tr>\n",
              "    <tr>\n",
              "      <th>Inactivo: jubilado</th>\n",
              "      <td>2.019029e+09</td>\n",
              "      <td>72.800936</td>\n",
              "      <td>1.348206</td>\n",
              "      <td>123.482059</td>\n",
              "      <td>10.446365</td>\n",
              "      <td>0.171108</td>\n",
              "      <td>0.959126</td>\n",
              "      <td>0.082683</td>\n",
              "      <td>1.212917</td>\n",
              "    </tr>\n",
              "    <tr>\n",
              "      <th>Inactivo: otro</th>\n",
              "      <td>2.019029e+09</td>\n",
              "      <td>33.783114</td>\n",
              "      <td>2.883036</td>\n",
              "      <td>618.094500</td>\n",
              "      <td>10.652982</td>\n",
              "      <td>0.237026</td>\n",
              "      <td>0.302866</td>\n",
              "      <td>0.023238</td>\n",
              "      <td>0.563129</td>\n",
              "    </tr>\n",
              "    <tr>\n",
              "      <th>Inactivo: pensionista</th>\n",
              "      <td>2.019029e+09</td>\n",
              "      <td>64.425192</td>\n",
              "      <td>1.683641</td>\n",
              "      <td>22.757999</td>\n",
              "      <td>9.698738</td>\n",
              "      <td>0.370662</td>\n",
              "      <td>1.675530</td>\n",
              "      <td>0.114015</td>\n",
              "      <td>2.160207</td>\n",
              "    </tr>\n",
              "    <tr>\n",
              "      <th>Inactivo: realiza los quehaceres del hogar</th>\n",
              "      <td>2.019029e+09</td>\n",
              "      <td>46.889319</td>\n",
              "      <td>1.857311</td>\n",
              "      <td>317.843666</td>\n",
              "      <td>8.732817</td>\n",
              "      <td>1.107311</td>\n",
              "      <td>1.102426</td>\n",
              "      <td>0.056941</td>\n",
              "      <td>2.266678</td>\n",
              "    </tr>\n",
              "    <tr>\n",
              "      <th>Inactivo: rentista</th>\n",
              "      <td>2.019029e+09</td>\n",
              "      <td>58.461353</td>\n",
              "      <td>1.528986</td>\n",
              "      <td>72.463768</td>\n",
              "      <td>9.009662</td>\n",
              "      <td>0.541063</td>\n",
              "      <td>0.850242</td>\n",
              "      <td>0.123188</td>\n",
              "      <td>1.514493</td>\n",
              "    </tr>\n",
              "    <tr>\n",
              "      <th>Ocupados</th>\n",
              "      <td>2.019029e+09</td>\n",
              "      <td>42.683681</td>\n",
              "      <td>1.661249</td>\n",
              "      <td>20109.876601</td>\n",
              "      <td>10.482462</td>\n",
              "      <td>0.473183</td>\n",
              "      <td>0.304593</td>\n",
              "      <td>0.017885</td>\n",
              "      <td>0.795660</td>\n",
              "    </tr>\n",
              "  </tbody>\n",
              "</table>\n",
              "</div>"
            ],
            "text/plain": [
              "                                                id_hogar  ...  suma_hijos\n",
              "estado_laboral                                            ...            \n",
              "Desocupados buscan trabajo por primera vez  2.019029e+09  ...    0.174079\n",
              "Desocupados en seguro de paro               2.019030e+09  ...    0.733333\n",
              "Desocupados propiamente dichos              2.019029e+09  ...    0.925785\n",
              "Inactivo: estudiante                        2.019029e+09  ...    0.037610\n",
              "Inactivo: jubilado                          2.019029e+09  ...    1.212917\n",
              "Inactivo: otro                              2.019029e+09  ...    0.563129\n",
              "Inactivo: pensionista                       2.019029e+09  ...    2.160207\n",
              "Inactivo: realiza los quehaceres del hogar  2.019029e+09  ...    2.266678\n",
              "Inactivo: rentista                          2.019029e+09  ...    1.514493\n",
              "Ocupados                                    2.019029e+09  ...    0.795660\n",
              "\n",
              "[10 rows x 9 columns]"
            ]
          },
          "metadata": {},
          "execution_count": 7
        }
      ]
    },
    {
      "cell_type": "code",
      "metadata": {
        "colab": {
          "base_uri": "https://localhost:8080/"
        },
        "id": "PjoxkmPpnLCB",
        "outputId": "302cfc2d-d6be-4992-939e-d0e52fdd5821"
      },
      "source": [
        "quantil_99 = df[\"sueldo\"].quantile(0.99)\n",
        "print(quantil_99)\n",
        "\n",
        "df = df[df[\"sueldo\"] < quantil_99]\n",
        "\n",
        "quartil_1 = df[\"sueldo\"].quantile(0.25)\n",
        "quartil_3 = df[\"sueldo\"].quantile(0.75)\n",
        "\n",
        "iqr = quartil_3 - quartil_1\n",
        "\n",
        "df = df[df[\"sueldo\"] < quartil_3 + 1.5 * iqr]\n",
        "\n",
        "df = df[df[\"sueldo\"] > quartil_1 - 1.5 * iqr]"
      ],
      "execution_count": 8,
      "outputs": [
        {
          "output_type": "stream",
          "name": "stdout",
          "text": [
            "84000.0\n"
          ]
        }
      ]
    },
    {
      "cell_type": "code",
      "metadata": {
        "id": "EJtNyEDpzLMY"
      },
      "source": [
        "df['rango_sueldos'] = pd.qcut(df['sueldo'], q=10, duplicates='drop').cat.codes\n",
        "\n",
        "df['rango_edades'] = pd.qcut(df['edad'], q=10).cat.codes"
      ],
      "execution_count": 9,
      "outputs": []
    },
    {
      "cell_type": "code",
      "metadata": {
        "id": "jVBYMpglM1bf"
      },
      "source": [
        "df = df[[\n",
        "    'sexo', \n",
        "    'edad', \n",
        "    'ascendencia', \n",
        "    'parentesco', \n",
        "    'estado_laboral', \n",
        "    'busca_otro_trabajo',\n",
        "    'actividad',\n",
        "    'asistencia alguna vez a enseñanza',\n",
        "    'edu preescolar',\n",
        "    'edu primaria',\n",
        "    'edu media',\n",
        "    'edu técnica',\n",
        "    'edu univ o simil',\n",
        "    'edu terciario no uni',\n",
        "    'edu posgrado',\n",
        "    'edu mag prof',\n",
        "    'barrio',\n",
        "    'estado_civil',\n",
        "    'suma_hijos',\n",
        "    'leer_escribir',\n",
        "    'rango_sueldos',\n",
        "    'rango_edades',\n",
        "    'region',\n",
        "    'vivienda',\n",
        "    'estrato'\n",
        "    ]]\n"
      ],
      "execution_count": 10,
      "outputs": []
    },
    {
      "cell_type": "code",
      "metadata": {
        "colab": {
          "base_uri": "https://localhost:8080/",
          "height": 323
        },
        "id": "sKxjpVTcwy2w",
        "outputId": "ba30f438-4646-42dc-f2a1-97180423e696"
      },
      "source": [
        "df = df.reset_index(drop=True)\n",
        "\n",
        "df.head(2)"
      ],
      "execution_count": 11,
      "outputs": [
        {
          "output_type": "execute_result",
          "data": {
            "text/html": [
              "<div>\n",
              "<style scoped>\n",
              "    .dataframe tbody tr th:only-of-type {\n",
              "        vertical-align: middle;\n",
              "    }\n",
              "\n",
              "    .dataframe tbody tr th {\n",
              "        vertical-align: top;\n",
              "    }\n",
              "\n",
              "    .dataframe thead th {\n",
              "        text-align: right;\n",
              "    }\n",
              "</style>\n",
              "<table border=\"1\" class=\"dataframe\">\n",
              "  <thead>\n",
              "    <tr style=\"text-align: right;\">\n",
              "      <th></th>\n",
              "      <th>sexo</th>\n",
              "      <th>edad</th>\n",
              "      <th>ascendencia</th>\n",
              "      <th>parentesco</th>\n",
              "      <th>estado_laboral</th>\n",
              "      <th>busca_otro_trabajo</th>\n",
              "      <th>actividad</th>\n",
              "      <th>asistencia alguna vez a enseñanza</th>\n",
              "      <th>edu preescolar</th>\n",
              "      <th>edu primaria</th>\n",
              "      <th>edu media</th>\n",
              "      <th>edu técnica</th>\n",
              "      <th>edu univ o simil</th>\n",
              "      <th>edu terciario no uni</th>\n",
              "      <th>edu posgrado</th>\n",
              "      <th>edu mag prof</th>\n",
              "      <th>barrio</th>\n",
              "      <th>estado_civil</th>\n",
              "      <th>suma_hijos</th>\n",
              "      <th>leer_escribir</th>\n",
              "      <th>rango_sueldos</th>\n",
              "      <th>rango_edades</th>\n",
              "      <th>region</th>\n",
              "      <th>vivienda</th>\n",
              "      <th>estrato</th>\n",
              "    </tr>\n",
              "  </thead>\n",
              "  <tbody>\n",
              "    <tr>\n",
              "      <th>0</th>\n",
              "      <td>Mujer</td>\n",
              "      <td>76.0</td>\n",
              "      <td>Blanca</td>\n",
              "      <td>Jefe/a de hogar</td>\n",
              "      <td>Inactivo: jubilado</td>\n",
              "      <td>0.0</td>\n",
              "      <td>.</td>\n",
              "      <td>Sí</td>\n",
              "      <td>No asistió</td>\n",
              "      <td>Sí, asistió</td>\n",
              "      <td>0.0</td>\n",
              "      <td>No asistió</td>\n",
              "      <td>0.0</td>\n",
              "      <td>0.0</td>\n",
              "      <td>0.0</td>\n",
              "      <td>0.0</td>\n",
              "      <td>0.0</td>\n",
              "      <td>Viudo/a de unión libre</td>\n",
              "      <td>0.0</td>\n",
              "      <td>Sí</td>\n",
              "      <td>0</td>\n",
              "      <td>9</td>\n",
              "      <td>Interior - Localidades de 5.000 habitantes o más</td>\n",
              "      <td>Propietario de la vivienda y el terreno y ya l...</td>\n",
              "      <td>Costa Este</td>\n",
              "    </tr>\n",
              "    <tr>\n",
              "      <th>1</th>\n",
              "      <td>Mujer</td>\n",
              "      <td>22.0</td>\n",
              "      <td>Blanca</td>\n",
              "      <td>Otro pariente</td>\n",
              "      <td>Inactivo: realiza los quehaceres del hogar</td>\n",
              "      <td>0.0</td>\n",
              "      <td>.</td>\n",
              "      <td>Sí</td>\n",
              "      <td>Sí, asistió</td>\n",
              "      <td>Sí, asistió</td>\n",
              "      <td>Sí, asistió</td>\n",
              "      <td>No asistió</td>\n",
              "      <td>No asistió</td>\n",
              "      <td>No asistió</td>\n",
              "      <td>0.0</td>\n",
              "      <td>No asistió</td>\n",
              "      <td>0.0</td>\n",
              "      <td>Soltero/a</td>\n",
              "      <td>0.0</td>\n",
              "      <td>Sí</td>\n",
              "      <td>0</td>\n",
              "      <td>1</td>\n",
              "      <td>Interior - Localidades de 5.000 habitantes o más</td>\n",
              "      <td>Propietario de la vivienda y el terreno y ya l...</td>\n",
              "      <td>Costa Este</td>\n",
              "    </tr>\n",
              "  </tbody>\n",
              "</table>\n",
              "</div>"
            ],
            "text/plain": [
              "    sexo  edad  ...                                           vivienda     estrato\n",
              "0  Mujer  76.0  ...  Propietario de la vivienda y el terreno y ya l...  Costa Este\n",
              "1  Mujer  22.0  ...  Propietario de la vivienda y el terreno y ya l...  Costa Este\n",
              "\n",
              "[2 rows x 25 columns]"
            ]
          },
          "metadata": {},
          "execution_count": 11
        }
      ]
    },
    {
      "cell_type": "code",
      "metadata": {
        "colab": {
          "base_uri": "https://localhost:8080/"
        },
        "id": "BCLM-jN1-GPg",
        "outputId": "ac230a2b-6932-4a18-c46b-31afa454caed"
      },
      "source": [
        "df['rango_sueldos'].value_counts()"
      ],
      "execution_count": 12,
      "outputs": [
        {
          "output_type": "execute_result",
          "data": {
            "text/plain": [
              "0    59982\n",
              "1     9344\n",
              "3     8546\n",
              "2     7674\n",
              "Name: rango_sueldos, dtype: int64"
            ]
          },
          "metadata": {},
          "execution_count": 12
        }
      ]
    },
    {
      "cell_type": "markdown",
      "metadata": {
        "id": "tr2CniL5M1bg"
      },
      "source": [
        "### DEFINIMOS LAS VARIABLES DEPENDIENTES E INDEPENDIENTES"
      ]
    },
    {
      "cell_type": "code",
      "metadata": {
        "colab": {
          "base_uri": "https://localhost:8080/"
        },
        "id": "Fw7aZaAIM1bg",
        "outputId": "f6493673-010c-45e5-e4aa-792153b31096"
      },
      "source": [
        "# Feautures\n",
        "X = df.drop('rango_sueldos', axis=1).to_numpy()\n",
        "y = df['rango_sueldos']\n",
        "\n",
        "print('X shape', X.shape, '\\nY shape', y.shape)"
      ],
      "execution_count": 13,
      "outputs": [
        {
          "output_type": "stream",
          "name": "stdout",
          "text": [
            "X shape (85546, 24) \n",
            "Y shape (85546,)\n"
          ]
        }
      ]
    },
    {
      "cell_type": "code",
      "metadata": {
        "colab": {
          "base_uri": "https://localhost:8080/"
        },
        "id": "KsXLTa4mohqm",
        "outputId": "e6a8c4a5-9b6a-49e6-957a-f32c0aa915c1"
      },
      "source": [
        "y.unique()"
      ],
      "execution_count": 14,
      "outputs": [
        {
          "output_type": "execute_result",
          "data": {
            "text/plain": [
              "array([0, 1, 3, 2], dtype=int8)"
            ]
          },
          "metadata": {},
          "execution_count": 14
        }
      ]
    },
    {
      "cell_type": "code",
      "metadata": {
        "id": "VdOpqVADM1bc"
      },
      "source": [
        "from sklearn.preprocessing import OneHotEncoder\n",
        "\n",
        "one_hot = OneHotEncoder()\n",
        "\n",
        "X = one_hot.fit_transform(X)"
      ],
      "execution_count": 15,
      "outputs": []
    },
    {
      "cell_type": "code",
      "metadata": {
        "id": "aWNq5Nn77-Yf"
      },
      "source": [
        "from sklearn.preprocessing import Normalizer\n",
        "\n",
        "normalizer = Normalizer()\n",
        "\n",
        "X = normalizer.fit_transform(X)"
      ],
      "execution_count": 16,
      "outputs": []
    },
    {
      "cell_type": "code",
      "metadata": {
        "colab": {
          "base_uri": "https://localhost:8080/"
        },
        "id": "eTIu6kDf1IKl",
        "outputId": "7da23ac9-2fa5-4954-a022-9d720072800f"
      },
      "source": [
        "X.shape"
      ],
      "execution_count": 17,
      "outputs": [
        {
          "output_type": "execute_result",
          "data": {
            "text/plain": [
              "(85546, 660)"
            ]
          },
          "metadata": {},
          "execution_count": 17
        }
      ]
    },
    {
      "cell_type": "code",
      "metadata": {
        "id": "ZPOG_CpPaGdk"
      },
      "source": [
        "test_sample = X[0]\n",
        "test_result = y[0]\n",
        "\n",
        "X = X[1:]\n",
        "y = y[1:]"
      ],
      "execution_count": 18,
      "outputs": []
    },
    {
      "cell_type": "markdown",
      "metadata": {
        "id": "4WNKcjI3M1bg"
      },
      "source": [
        "### Dividimos los datos en un 30% de test y 70% de entrenamiento"
      ]
    },
    {
      "cell_type": "code",
      "metadata": {
        "id": "ShFudTmNM1bh"
      },
      "source": [
        "from sklearn.model_selection import train_test_split \n",
        "\n",
        "X_train, X_test, y_train, y_test = train_test_split(X, y, test_size=0.30, random_state=42) "
      ],
      "execution_count": 19,
      "outputs": []
    },
    {
      "cell_type": "code",
      "metadata": {
        "colab": {
          "base_uri": "https://localhost:8080/"
        },
        "id": "ZV5LPElaM1bh",
        "outputId": "3b1f39b7-56fd-4e83-c505-c32c76fa5c55"
      },
      "source": [
        "print(X_train.shape, y_train.shape)\n",
        "print(X_test.shape, y_test.shape)"
      ],
      "execution_count": 20,
      "outputs": [
        {
          "output_type": "stream",
          "name": "stdout",
          "text": [
            "(59881, 660) (59881,)\n",
            "(25664, 660) (25664,)\n"
          ]
        }
      ]
    },
    {
      "cell_type": "markdown",
      "metadata": {
        "id": "t3yhULSwM1bi"
      },
      "source": [
        "# DEFINIMOS ALGORITMO DE REGRESIÓN LOGISTICA"
      ]
    },
    {
      "cell_type": "code",
      "metadata": {
        "colab": {
          "base_uri": "https://localhost:8080/"
        },
        "id": "VA9pehfmM1bj",
        "outputId": "f77e6906-35c7-42d6-de1d-36eaa477c166"
      },
      "source": [
        "from sklearn.linear_model import LogisticRegression\n",
        "from sklearn.model_selection import cross_val_score\n",
        "\n",
        "logistic_reg = LogisticRegression(multi_class='multinomial', max_iter=20000)\n",
        "\n",
        "logistic_reg.fit(X_train, y_train)"
      ],
      "execution_count": 21,
      "outputs": [
        {
          "output_type": "execute_result",
          "data": {
            "text/plain": [
              "LogisticRegression(max_iter=20000, multi_class='multinomial')"
            ]
          },
          "metadata": {},
          "execution_count": 21
        }
      ]
    },
    {
      "cell_type": "markdown",
      "metadata": {
        "id": "-HQ7bvlwHVfU"
      },
      "source": [
        "### VALOR DE CROSS VALIDATION PARA CADA FOLD"
      ]
    },
    {
      "cell_type": "code",
      "metadata": {
        "colab": {
          "base_uri": "https://localhost:8080/"
        },
        "id": "-OqPQoduHVfU",
        "outputId": "985c4aa1-11dc-4022-d8b4-47000d9be404"
      },
      "source": [
        "scores = cross_val_score(logistic_reg, X, y, cv=5)\n",
        "\n",
        "scores"
      ],
      "execution_count": 22,
      "outputs": [
        {
          "output_type": "execute_result",
          "data": {
            "text/plain": [
              "array([0.76339938, 0.76731545, 0.77017944, 0.76754924, 0.76620492])"
            ]
          },
          "metadata": {},
          "execution_count": 22
        }
      ]
    },
    {
      "cell_type": "code",
      "metadata": {
        "colab": {
          "base_uri": "https://localhost:8080/"
        },
        "id": "Sk2eF2hMM1bj",
        "outputId": "d604bb26-ce1d-4424-e3e7-587851c299dc"
      },
      "source": [
        "print('Promedio de cross_validation ', round(scores.mean(),2))\n",
        "print('Score en test ', round(logistic_reg.score(X_test, y_test),2))\n",
        "print('Score en train ', round(logistic_reg.score(X_train, y_train),2))"
      ],
      "execution_count": 23,
      "outputs": [
        {
          "output_type": "stream",
          "name": "stdout",
          "text": [
            "Promedio de cross_validation  0.77\n",
            "Score en test  0.77\n",
            "Score en train  0.77\n"
          ]
        }
      ]
    },
    {
      "cell_type": "code",
      "metadata": {
        "colab": {
          "base_uri": "https://localhost:8080/"
        },
        "id": "FzF5F8XuM1bl",
        "outputId": "4ef46fc1-d416-4950-bd06-c9c936cab199"
      },
      "source": [
        "import matplotlib.pyplot as plt\n",
        "from sklearn.metrics import confusion_matrix\n",
        "\n",
        "predictions = logistic_reg.predict(X_test)\n",
        "\n",
        "confusion_matrix(y_test, predictions)"
      ],
      "execution_count": 24,
      "outputs": [
        {
          "output_type": "execute_result",
          "data": {
            "text/plain": [
              "array([[17273,   381,   100,   351],\n",
              "       [ 1550,   671,   244,   221],\n",
              "       [  908,   357,   383,   652],\n",
              "       [  777,   133,   240,  1423]])"
            ]
          },
          "metadata": {},
          "execution_count": 24
        }
      ]
    },
    {
      "cell_type": "markdown",
      "metadata": {
        "id": "ypMnIojSM1bl"
      },
      "source": [
        "### INVESTIGAMOS LA EFECTIVIDAD DEL MODELO SOBRE LOS DATOS"
      ]
    },
    {
      "cell_type": "code",
      "metadata": {
        "colab": {
          "base_uri": "https://localhost:8080/"
        },
        "id": "1wgaRZ6BM1bm",
        "outputId": "2c3e6e7a-a311-4599-d56a-ee03ee90d48b"
      },
      "source": [
        "from sklearn.metrics import accuracy_score\n",
        "\n",
        "#Prediccion en Train\n",
        "y_train_pred = logistic_reg.predict(X_train)\n",
        "\n",
        "#Prediccion en Test\n",
        "y_test_pred = logistic_reg.predict(X_test)\n",
        "\n",
        "#Calculo el accuracy en Train\n",
        "train_accuracy = accuracy_score(y_train, y_train_pred)\n",
        "\n",
        "#Calculo el accuracy en Test\n",
        "test_accuracy = accuracy_score(y_test, y_test_pred)\n",
        "\n",
        "print('Aciertos sobre entrenamiento:', round(train_accuracy, 2))\n",
        "print('Aciertos sobre evaluación:', round(test_accuracy, 2))"
      ],
      "execution_count": 25,
      "outputs": [
        {
          "output_type": "stream",
          "name": "stdout",
          "text": [
            "Aciertos sobre entrenamiento: 0.77\n",
            "Aciertos sobre evaluación: 0.77\n"
          ]
        }
      ]
    },
    {
      "cell_type": "markdown",
      "metadata": {
        "id": "ACeJF5NUM1bl"
      },
      "source": [
        "### APLICAMOS PREDICCIÓN SOBRE EL MODELO"
      ]
    },
    {
      "cell_type": "code",
      "metadata": {
        "colab": {
          "base_uri": "https://localhost:8080/"
        },
        "id": "c5PlQMpUM1bl",
        "outputId": "1cb72af6-f545-4e8a-a789-57879b53dd9b"
      },
      "source": [
        "print(logistic_reg.predict(test_sample))\n",
        "\n",
        "print(test_result)"
      ],
      "execution_count": 26,
      "outputs": [
        {
          "output_type": "stream",
          "name": "stdout",
          "text": [
            "[0]\n",
            "0\n"
          ]
        }
      ]
    },
    {
      "cell_type": "markdown",
      "metadata": {
        "id": "DYYlDLatM1bm"
      },
      "source": [
        "Determinamos la probabilidad de la predicción"
      ]
    },
    {
      "cell_type": "code",
      "metadata": {
        "colab": {
          "base_uri": "https://localhost:8080/"
        },
        "id": "XWzmupvzM1bm",
        "outputId": "eb43735b-58e4-4c87-ce85-61e52dbf7ecc"
      },
      "source": [
        "probabilidades_prediccion = logistic_reg.predict_proba(test_sample)\n",
        "probabilidades_prediccion"
      ],
      "execution_count": 27,
      "outputs": [
        {
          "output_type": "execute_result",
          "data": {
            "text/plain": [
              "array([[9.99027799e-01, 5.83432860e-04, 2.34311142e-04, 1.54456860e-04]])"
            ]
          },
          "metadata": {},
          "execution_count": 27
        }
      ]
    },
    {
      "cell_type": "markdown",
      "metadata": {
        "id": "5BPPzKUaHVfY"
      },
      "source": [
        "# REPETIMOS EL EJERCICIO CON EL MODELO DE RANDOM FOREST"
      ]
    },
    {
      "cell_type": "code",
      "metadata": {
        "colab": {
          "base_uri": "https://localhost:8080/"
        },
        "id": "ODF-6NeoHVfa",
        "outputId": "e1b58a00-b1d2-4fd9-c5da-4d28c682e161"
      },
      "source": [
        "from sklearn.ensemble import RandomForestClassifier\n",
        "\n",
        "random_forest = RandomForestClassifier(100)\n",
        "\n",
        "random_forest.fit(X_train, y_train)"
      ],
      "execution_count": 28,
      "outputs": [
        {
          "output_type": "execute_result",
          "data": {
            "text/plain": [
              "RandomForestClassifier()"
            ]
          },
          "metadata": {},
          "execution_count": 28
        }
      ]
    },
    {
      "cell_type": "code",
      "metadata": {
        "colab": {
          "base_uri": "https://localhost:8080/"
        },
        "id": "JH1bvMyMHVfa",
        "outputId": "a028b551-4804-4418-887e-94f1f7b3d73c"
      },
      "source": [
        "scores = cross_val_score(random_forest, X, y, cv=5)\n",
        "\n",
        "scores"
      ],
      "execution_count": 29,
      "outputs": [
        {
          "output_type": "execute_result",
          "data": {
            "text/plain": [
              "array([0.75656087, 0.75170963, 0.75252791, 0.75258636, 0.75153428])"
            ]
          },
          "metadata": {},
          "execution_count": 29
        }
      ]
    },
    {
      "cell_type": "code",
      "metadata": {
        "colab": {
          "base_uri": "https://localhost:8080/"
        },
        "id": "EdbWI5glHVfa",
        "outputId": "8405b6e5-4135-4559-dad8-554831f1147c"
      },
      "source": [
        "print('Promedio de cross_validation ', round(scores.mean(),2))\n",
        "print('Score en test ', round(logistic_reg.score(X_test, y_test),2))\n",
        "print('Score en train ', round(logistic_reg.score(X_train, y_train),2))"
      ],
      "execution_count": 30,
      "outputs": [
        {
          "output_type": "stream",
          "name": "stdout",
          "text": [
            "Promedio de cross_validation  0.75\n",
            "Score en test  0.77\n",
            "Score en train  0.77\n"
          ]
        }
      ]
    },
    {
      "cell_type": "code",
      "metadata": {
        "colab": {
          "base_uri": "https://localhost:8080/"
        },
        "id": "7iZRCzTEMSBF",
        "outputId": "d2954c16-b85a-4b36-b144-83cac4f938ba"
      },
      "source": [
        "predictions = logistic_reg.predict(X_test)\n",
        "\n",
        "confusion_matrix(y_test, predictions)"
      ],
      "execution_count": 31,
      "outputs": [
        {
          "output_type": "execute_result",
          "data": {
            "text/plain": [
              "array([[17273,   381,   100,   351],\n",
              "       [ 1550,   671,   244,   221],\n",
              "       [  908,   357,   383,   652],\n",
              "       [  777,   133,   240,  1423]])"
            ]
          },
          "metadata": {},
          "execution_count": 31
        }
      ]
    },
    {
      "cell_type": "code",
      "metadata": {
        "colab": {
          "base_uri": "https://localhost:8080/"
        },
        "id": "KGw6_y5BHVfa",
        "outputId": "c6ea484d-ebf8-41b5-e3f0-b29eea04f8c6"
      },
      "source": [
        "#Prediccion en Train\n",
        "y_train_pred = random_forest.predict(X_train)\n",
        "\n",
        "#Prediccion en Test\n",
        "y_test_pred = random_forest.predict(X_test)\n",
        "\n",
        "#Calculo el accuracy en Train\n",
        "train_accuracy = accuracy_score(y_train, y_train_pred)\n",
        "\n",
        "#Calculo el accuracy en Test\n",
        "test_accuracy = accuracy_score(y_test, y_test_pred)\n",
        "\n",
        "print('Aciertos sobre entrenamiento:', round(train_accuracy, 2))\n",
        "print('Aciertos sobre evaluación:', round(test_accuracy, 2))"
      ],
      "execution_count": 32,
      "outputs": [
        {
          "output_type": "stream",
          "name": "stdout",
          "text": [
            "Aciertos sobre entrenamiento: 1.0\n",
            "Aciertos sobre evaluación: 0.76\n"
          ]
        }
      ]
    },
    {
      "cell_type": "code",
      "metadata": {
        "colab": {
          "base_uri": "https://localhost:8080/"
        },
        "id": "BAkm5UkiQlIn",
        "outputId": "8e530d5d-9fe5-4b80-9c20-fd77813cf77d"
      },
      "source": [
        "print(random_forest.predict(test_sample))\n",
        "print(test_result)"
      ],
      "execution_count": 33,
      "outputs": [
        {
          "output_type": "stream",
          "name": "stdout",
          "text": [
            "[0]\n",
            "0\n"
          ]
        }
      ]
    },
    {
      "cell_type": "code",
      "metadata": {
        "colab": {
          "base_uri": "https://localhost:8080/"
        },
        "id": "d97HKQxVGRpB",
        "outputId": "e36e6bcb-d2ce-4b92-d639-219846a1c901"
      },
      "source": [
        "probabilidades_prediccion = random_forest.predict_proba(test_sample)\n",
        "probabilidades_prediccion"
      ],
      "execution_count": 34,
      "outputs": [
        {
          "output_type": "execute_result",
          "data": {
            "text/plain": [
              "array([[1., 0., 0., 0.]])"
            ]
          },
          "metadata": {},
          "execution_count": 34
        }
      ]
    },
    {
      "cell_type": "markdown",
      "metadata": {
        "id": "wtPUDB4SYAsh"
      },
      "source": [
        "# REPETIMOS EL EJERCICIO CON EL MODELO DE K NEAREST NEIGHBOURS"
      ]
    },
    {
      "cell_type": "code",
      "metadata": {
        "colab": {
          "base_uri": "https://localhost:8080/"
        },
        "id": "DP-ODZm4YBR4",
        "outputId": "b0fd5281-418e-437c-8424-c6e5b8d913ac"
      },
      "source": [
        "from sklearn.neighbors import KNeighborsClassifier\n",
        "\n",
        "knearest_model = KNeighborsClassifier(n_neighbors=4)\n",
        "\n",
        "knearest_model.fit(X_train, y_train)"
      ],
      "execution_count": 35,
      "outputs": [
        {
          "output_type": "execute_result",
          "data": {
            "text/plain": [
              "KNeighborsClassifier(n_neighbors=4)"
            ]
          },
          "metadata": {},
          "execution_count": 35
        }
      ]
    },
    {
      "cell_type": "code",
      "metadata": {
        "colab": {
          "base_uri": "https://localhost:8080/"
        },
        "id": "uLbTJmdkYX6P",
        "outputId": "c2f370f0-5876-447e-d436-e47fa5dcefd6"
      },
      "source": [
        "scores = cross_val_score(knearest_model, X, y, cv=5)\n",
        "\n",
        "scores           "
      ],
      "execution_count": 36,
      "outputs": [
        {
          "output_type": "execute_result",
          "data": {
            "text/plain": [
              "array([0.710211  , 0.70986031, 0.710211  , 0.71073704, 0.71015255])"
            ]
          },
          "metadata": {},
          "execution_count": 36
        }
      ]
    },
    {
      "cell_type": "code",
      "metadata": {
        "colab": {
          "base_uri": "https://localhost:8080/"
        },
        "id": "WjGoWFlJYcDC",
        "outputId": "a10484b9-e382-45fa-a02f-d4b8bff0449b"
      },
      "source": [
        "print('Promedio de cross_validation ', round(scores.mean(),2))\n",
        "print('Score en test ', round(knearest_model.score(X_test, y_test),2))\n",
        "print('Score en train ', round(knearest_model.score(X_train, y_train),2))"
      ],
      "execution_count": 37,
      "outputs": [
        {
          "output_type": "stream",
          "name": "stdout",
          "text": [
            "Promedio de cross_validation  0.71\n",
            "Score en test  0.71\n",
            "Score en train  0.81\n"
          ]
        }
      ]
    },
    {
      "cell_type": "code",
      "metadata": {
        "id": "jUEjCBlxMCo0"
      },
      "source": [
        "predictions = knearest_model.predict(X_test)\n",
        "\n",
        "confusion_matrix(y_test, predictions)"
      ],
      "execution_count": null,
      "outputs": []
    },
    {
      "cell_type": "code",
      "metadata": {
        "id": "iEfxUO49YhIS"
      },
      "source": [
        "#Prediccion en Train\n",
        "y_train_pred = knearest_model.predict(X_train)\n",
        "\n",
        "#Prediccion en Test\n",
        "y_test_pred = knearest_model.predict(X_test)\n",
        "\n",
        "#Calculo el accuracy en Train\n",
        "train_accuracy = accuracy_score(y_train, y_train_pred)\n",
        "\n",
        "#Calculo el accuracy en Test\n",
        "test_accuracy = accuracy_score(y_test, y_test_pred)\n",
        "\n",
        "print('Aciertos sobre entrenamiento:', round(train_accuracy, 2))\n",
        "print('Aciertos sobre evaluación:', round(test_accuracy, 2))"
      ],
      "execution_count": null,
      "outputs": []
    },
    {
      "cell_type": "code",
      "metadata": {
        "id": "44S2Y5vrYnF3"
      },
      "source": [
        "print(knearest_model.predict(test_sample))\n",
        "print(test_result)"
      ],
      "execution_count": null,
      "outputs": []
    },
    {
      "cell_type": "code",
      "metadata": {
        "id": "Gc2uLLabGVQa"
      },
      "source": [
        "probabilidades_prediccion = knearest_model.predict_proba(test_sample)\n",
        "probabilidades_prediccion"
      ],
      "execution_count": null,
      "outputs": []
    }
  ]
}