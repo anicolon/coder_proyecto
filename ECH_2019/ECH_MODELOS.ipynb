{
  "cells": [
    {
      "cell_type": "code",
      "execution_count": 1,
      "metadata": {
        "colab": {
          "base_uri": "https://localhost:8080/"
        },
        "id": "4Fyym8rv1dDm",
        "outputId": "93ac9cd5-d142-46ad-eb9a-387804519b52"
      },
      "outputs": [
        {
          "name": "stdout",
          "output_type": "stream",
          "text": [
            "Mounted at /content/drive\n"
          ]
        }
      ],
      "source": [
        "from google.colab import drive\n",
        "drive.mount('/content/drive')"
      ]
    },
    {
      "cell_type": "code",
      "execution_count": 2,
      "metadata": {
        "id": "93-fWQ16M1bJ"
      },
      "outputs": [],
      "source": [
        "import pandas as pd\n",
        "import numpy as np\n",
        "import seaborn as sns\n",
        "import matplotlib.pyplot as plt\n",
        "\n",
        "sns.set(rc={'figure.figsize': (10, 5)}, font_scale=1.5)\n",
        "\n",
        "df = pd.read_csv('/content/drive/MyDrive/ECH_2019.csv')\n",
        "\n",
        "# df = pd.read_csv('ECH_2019.csv')"
      ]
    },
    {
      "cell_type": "code",
      "execution_count": 3,
      "metadata": {
        "colab": {
          "base_uri": "https://localhost:8080/",
          "height": 306
        },
        "id": "nDVahJg0M1bM",
        "outputId": "84346380-aec2-457c-8cd9-52a34929db02"
      },
      "outputs": [
        {
          "data": {
            "text/html": [
              "<div>\n",
              "<style scoped>\n",
              "    .dataframe tbody tr th:only-of-type {\n",
              "        vertical-align: middle;\n",
              "    }\n",
              "\n",
              "    .dataframe tbody tr th {\n",
              "        vertical-align: top;\n",
              "    }\n",
              "\n",
              "    .dataframe thead th {\n",
              "        text-align: right;\n",
              "    }\n",
              "</style>\n",
              "<table border=\"1\" class=\"dataframe\">\n",
              "  <thead>\n",
              "    <tr style=\"text-align: right;\">\n",
              "      <th></th>\n",
              "      <th>sexo</th>\n",
              "      <th>edad</th>\n",
              "      <th>ascendencia</th>\n",
              "      <th>parentesco</th>\n",
              "      <th>estado_laboral</th>\n",
              "      <th>sueldo</th>\n",
              "      <th>busca_otro_trabajo</th>\n",
              "      <th>actividad</th>\n",
              "      <th>asistencia alguna vez a enseñanza</th>\n",
              "      <th>edu preescolar</th>\n",
              "      <th>edu primaria</th>\n",
              "      <th>edu media</th>\n",
              "      <th>edu técnica</th>\n",
              "      <th>edu univ o simil</th>\n",
              "      <th>edu terciario no uni</th>\n",
              "      <th>edu posgrado</th>\n",
              "      <th>edu mag prof</th>\n",
              "      <th>barrio</th>\n",
              "      <th>estado_civil</th>\n",
              "      <th>hijos</th>\n",
              "      <th>hijos en hogar</th>\n",
              "      <th>hijos en otro hogar</th>\n",
              "      <th>hijos en el extranjero</th>\n",
              "      <th>leer_escribir</th>\n",
              "      <th>suma_hijos</th>\n",
              "    </tr>\n",
              "  </thead>\n",
              "  <tbody>\n",
              "    <tr>\n",
              "      <th>29507</th>\n",
              "      <td>Hombre</td>\n",
              "      <td>55</td>\n",
              "      <td>Blanca</td>\n",
              "      <td>Jefe/a de hogar</td>\n",
              "      <td>Ocupados</td>\n",
              "      <td>0</td>\n",
              "      <td>No</td>\n",
              "      <td>Cría de ganado vacuno y búfalos</td>\n",
              "      <td>Sí</td>\n",
              "      <td>Sí, asistió</td>\n",
              "      <td>Sí, asistió</td>\n",
              "      <td>Sí, asistió</td>\n",
              "      <td>No asistió</td>\n",
              "      <td>0</td>\n",
              "      <td>0</td>\n",
              "      <td>0</td>\n",
              "      <td>0</td>\n",
              "      <td>0</td>\n",
              "      <td>Casado/a (incluye separado/a y aún no se divor...</td>\n",
              "      <td>0</td>\n",
              "      <td>0</td>\n",
              "      <td>0</td>\n",
              "      <td>0</td>\n",
              "      <td>Sí</td>\n",
              "      <td>0</td>\n",
              "    </tr>\n",
              "    <tr>\n",
              "      <th>31540</th>\n",
              "      <td>Hombre</td>\n",
              "      <td>32</td>\n",
              "      <td>Blanca</td>\n",
              "      <td>Esposo/a o compañero/a</td>\n",
              "      <td>Ocupados</td>\n",
              "      <td>35000</td>\n",
              "      <td>No</td>\n",
              "      <td>Actividades de organizaciones empresariales y ...</td>\n",
              "      <td>Sí</td>\n",
              "      <td>Sí, asistió</td>\n",
              "      <td>Sí, asistió</td>\n",
              "      <td>Sí, asistió</td>\n",
              "      <td>No asistió</td>\n",
              "      <td>Sí, asistió</td>\n",
              "      <td>No asistió</td>\n",
              "      <td>No asistió</td>\n",
              "      <td>No asistió</td>\n",
              "      <td>8</td>\n",
              "      <td>0</td>\n",
              "      <td>0</td>\n",
              "      <td>0</td>\n",
              "      <td>0</td>\n",
              "      <td>0</td>\n",
              "      <td>Sí</td>\n",
              "      <td>0</td>\n",
              "    </tr>\n",
              "  </tbody>\n",
              "</table>\n",
              "</div>"
            ],
            "text/plain": [
              "         sexo  edad  ... leer_escribir suma_hijos\n",
              "29507  Hombre    55  ...            Sí          0\n",
              "31540  Hombre    32  ...            Sí          0\n",
              "\n",
              "[2 rows x 25 columns]"
            ]
          },
          "execution_count": 3,
          "metadata": {},
          "output_type": "execute_result"
        }
      ],
      "source": [
        "df.sample(2)"
      ]
    },
    {
      "cell_type": "code",
      "execution_count": 4,
      "metadata": {
        "id": "LzFVyDkXM1bN"
      },
      "outputs": [],
      "source": [
        "no_data = {0: 'No hay dato', '0': 'No hay dato'}\n",
        "\n",
        "mask = df.columns.difference(['edad',\n",
        "                              'sueldo',\n",
        "                              'hijos en hogar',\n",
        "                              'hijos en otro hogar',\n",
        "                              'hijos en el extranjero',\n",
        "                              'suma_hijos',\n",
        "                              'barrio'])\n",
        "\n",
        "df[mask] = df[mask].replace(no_data)"
      ]
    },
    {
      "cell_type": "code",
      "execution_count": 5,
      "metadata": {
        "colab": {
          "base_uri": "https://localhost:8080/"
        },
        "id": "gebPJSo5nLB5",
        "outputId": "785ea289-a30f-4477-834f-8b1f5cff8a56"
      },
      "outputs": [
        {
          "data": {
            "text/plain": [
              "(8.0, 16.0]      11803\n",
              "(39.0, 47.0]     11347\n",
              "(63.0, 73.0]     10988\n",
              "(-0.001, 8.0]    10918\n",
              "(55.0, 63.0]     10848\n",
              "(47.0, 55.0]     10834\n",
              "(16.0, 23.0]     10657\n",
              "(31.0, 39.0]     10484\n",
              "(23.0, 31.0]     10116\n",
              "(73.0, 98.0]      9876\n",
              "Name: rango_edades, dtype: int64"
            ]
          },
          "execution_count": 5,
          "metadata": {},
          "output_type": "execute_result"
        }
      ],
      "source": [
        "df['rango_edades'] = pd.qcut(df['edad'], q=10)\n",
        "\n",
        "df['rango_edades'].value_counts()"
      ]
    },
    {
      "cell_type": "markdown",
      "metadata": {
        "id": "5y30QCPZM1bb"
      },
      "source": [
        "### AJUSTANDO DATOS PARA ENTRENAR EL MODELO"
      ]
    },
    {
      "cell_type": "markdown",
      "metadata": {
        "id": "UDhMFaUMM1bR"
      },
      "source": [
        "Seleccionamos personas con edad suficiente para trabajar"
      ]
    },
    {
      "cell_type": "code",
      "execution_count": 6,
      "metadata": {
        "id": "l3mwgnC9M1bS"
      },
      "outputs": [],
      "source": [
        "df = df[~df['estado_laboral'].str.contains('Menores de 14 años')]"
      ]
    },
    {
      "cell_type": "code",
      "execution_count": 7,
      "metadata": {
        "id": "JVvD66YAnLB-"
      },
      "outputs": [],
      "source": [
        "df = df[df[\"sueldo\"] > 0]"
      ]
    },
    {
      "cell_type": "code",
      "execution_count": 8,
      "metadata": {
        "colab": {
          "base_uri": "https://localhost:8080/",
          "height": 394
        },
        "id": "6RvvUJ1AnLB_",
        "outputId": "6468af5b-c350-466e-ec1a-f47f2e791a55"
      },
      "outputs": [
        {
          "data": {
            "text/html": [
              "<div>\n",
              "<style scoped>\n",
              "    .dataframe tbody tr th:only-of-type {\n",
              "        vertical-align: middle;\n",
              "    }\n",
              "\n",
              "    .dataframe tbody tr th {\n",
              "        vertical-align: top;\n",
              "    }\n",
              "\n",
              "    .dataframe thead th {\n",
              "        text-align: right;\n",
              "    }\n",
              "</style>\n",
              "<table border=\"1\" class=\"dataframe\">\n",
              "  <thead>\n",
              "    <tr style=\"text-align: right;\">\n",
              "      <th></th>\n",
              "      <th>edad</th>\n",
              "      <th>sueldo</th>\n",
              "      <th>barrio</th>\n",
              "      <th>hijos en hogar</th>\n",
              "      <th>hijos en otro hogar</th>\n",
              "      <th>hijos en el extranjero</th>\n",
              "      <th>suma_hijos</th>\n",
              "    </tr>\n",
              "    <tr>\n",
              "      <th>estado_laboral</th>\n",
              "      <th></th>\n",
              "      <th></th>\n",
              "      <th></th>\n",
              "      <th></th>\n",
              "      <th></th>\n",
              "      <th></th>\n",
              "      <th></th>\n",
              "    </tr>\n",
              "  </thead>\n",
              "  <tbody>\n",
              "    <tr>\n",
              "      <th>Desocupados buscan trabajo por primera vez</th>\n",
              "      <td>28.500000</td>\n",
              "      <td>9850.000000</td>\n",
              "      <td>15.000000</td>\n",
              "      <td>0.000000</td>\n",
              "      <td>0.000000</td>\n",
              "      <td>0.000000</td>\n",
              "      <td>0.000000</td>\n",
              "    </tr>\n",
              "    <tr>\n",
              "      <th>Desocupados en seguro de paro</th>\n",
              "      <td>36.600000</td>\n",
              "      <td>22965.400000</td>\n",
              "      <td>10.800000</td>\n",
              "      <td>0.400000</td>\n",
              "      <td>0.275000</td>\n",
              "      <td>0.050000</td>\n",
              "      <td>0.725000</td>\n",
              "    </tr>\n",
              "    <tr>\n",
              "      <th>Desocupados propiamente dichos</th>\n",
              "      <td>31.810219</td>\n",
              "      <td>12931.180049</td>\n",
              "      <td>10.184915</td>\n",
              "      <td>0.403893</td>\n",
              "      <td>0.228710</td>\n",
              "      <td>0.002433</td>\n",
              "      <td>0.635036</td>\n",
              "    </tr>\n",
              "    <tr>\n",
              "      <th>Inactivo: estudiante</th>\n",
              "      <td>22.087719</td>\n",
              "      <td>13498.245614</td>\n",
              "      <td>9.754386</td>\n",
              "      <td>0.105263</td>\n",
              "      <td>0.052632</td>\n",
              "      <td>0.000000</td>\n",
              "      <td>0.157895</td>\n",
              "    </tr>\n",
              "    <tr>\n",
              "      <th>Inactivo: jubilado</th>\n",
              "      <td>63.148936</td>\n",
              "      <td>42102.127660</td>\n",
              "      <td>11.574468</td>\n",
              "      <td>0.361702</td>\n",
              "      <td>0.659574</td>\n",
              "      <td>0.085106</td>\n",
              "      <td>1.106383</td>\n",
              "    </tr>\n",
              "    <tr>\n",
              "      <th>Inactivo: otro</th>\n",
              "      <td>31.355556</td>\n",
              "      <td>17732.444444</td>\n",
              "      <td>8.911111</td>\n",
              "      <td>0.200000</td>\n",
              "      <td>0.044444</td>\n",
              "      <td>0.000000</td>\n",
              "      <td>0.244444</td>\n",
              "    </tr>\n",
              "    <tr>\n",
              "      <th>Inactivo: pensionista</th>\n",
              "      <td>59.444444</td>\n",
              "      <td>11222.222222</td>\n",
              "      <td>6.000000</td>\n",
              "      <td>0.888889</td>\n",
              "      <td>1.555556</td>\n",
              "      <td>0.333333</td>\n",
              "      <td>2.777778</td>\n",
              "    </tr>\n",
              "    <tr>\n",
              "      <th>Inactivo: realiza los quehaceres del hogar</th>\n",
              "      <td>39.066038</td>\n",
              "      <td>17799.245283</td>\n",
              "      <td>12.462264</td>\n",
              "      <td>1.066038</td>\n",
              "      <td>0.320755</td>\n",
              "      <td>0.028302</td>\n",
              "      <td>1.415094</td>\n",
              "    </tr>\n",
              "    <tr>\n",
              "      <th>Inactivo: rentista</th>\n",
              "      <td>36.000000</td>\n",
              "      <td>30000.000000</td>\n",
              "      <td>8.000000</td>\n",
              "      <td>0.000000</td>\n",
              "      <td>0.000000</td>\n",
              "      <td>0.000000</td>\n",
              "      <td>0.000000</td>\n",
              "    </tr>\n",
              "    <tr>\n",
              "      <th>Ocupados</th>\n",
              "      <td>41.032145</td>\n",
              "      <td>29134.278045</td>\n",
              "      <td>11.473100</td>\n",
              "      <td>0.482022</td>\n",
              "      <td>0.270157</td>\n",
              "      <td>0.014920</td>\n",
              "      <td>0.767099</td>\n",
              "    </tr>\n",
              "  </tbody>\n",
              "</table>\n",
              "</div>"
            ],
            "text/plain": [
              "                                                 edad  ...  suma_hijos\n",
              "estado_laboral                                         ...            \n",
              "Desocupados buscan trabajo por primera vez  28.500000  ...    0.000000\n",
              "Desocupados en seguro de paro               36.600000  ...    0.725000\n",
              "Desocupados propiamente dichos              31.810219  ...    0.635036\n",
              "Inactivo: estudiante                        22.087719  ...    0.157895\n",
              "Inactivo: jubilado                          63.148936  ...    1.106383\n",
              "Inactivo: otro                              31.355556  ...    0.244444\n",
              "Inactivo: pensionista                       59.444444  ...    2.777778\n",
              "Inactivo: realiza los quehaceres del hogar  39.066038  ...    1.415094\n",
              "Inactivo: rentista                          36.000000  ...    0.000000\n",
              "Ocupados                                    41.032145  ...    0.767099\n",
              "\n",
              "[10 rows x 7 columns]"
            ]
          },
          "execution_count": 8,
          "metadata": {},
          "output_type": "execute_result"
        }
      ],
      "source": [
        "df.groupby(by='estado_laboral').mean()"
      ]
    },
    {
      "cell_type": "code",
      "execution_count": 9,
      "metadata": {
        "colab": {
          "base_uri": "https://localhost:8080/"
        },
        "id": "STiEydqQnLCA",
        "outputId": "31c713ea-5a22-4cc0-bf57-56e3c62b32de"
      },
      "outputs": [
        {
          "data": {
            "text/plain": [
              "(9000.0, 15000.0]      4421\n",
              "(32000.0, 40000.0]     3976\n",
              "(24000.0, 28000.0]     3971\n",
              "(199.999, 9000.0]      3620\n",
              "(28000.0, 32000.0]     3351\n",
              "(20000.0, 24000.0]     3316\n",
              "(50000.0, 900000.0]    3257\n",
              "(15000.0, 18000.0]     3165\n",
              "(18000.0, 20000.0]     2878\n",
              "(40000.0, 50000.0]     2610\n",
              "Name: rango_sueldos, dtype: int64"
            ]
          },
          "execution_count": 9,
          "metadata": {},
          "output_type": "execute_result"
        }
      ],
      "source": [
        "df['rango_sueldos'] = pd.qcut(df['sueldo'], q=10, duplicates='drop')\n",
        "\n",
        "df['rango_sueldos'].value_counts()"
      ]
    },
    {
      "cell_type": "code",
      "execution_count": 10,
      "metadata": {
        "colab": {
          "base_uri": "https://localhost:8080/"
        },
        "id": "PjoxkmPpnLCB",
        "outputId": "d0f54689-5a21-40a7-f6e4-068bd6309a94"
      },
      "outputs": [
        {
          "name": "stdout",
          "output_type": "stream",
          "text": [
            "120000.0\n"
          ]
        }
      ],
      "source": [
        "quantil_99 = df[\"sueldo\"].quantile(0.99)\n",
        "print(quantil_99)\n",
        "\n",
        "df = df[df[\"sueldo\"] < quantil_99]\n",
        "\n",
        "quartil_1 = df[\"sueldo\"].quantile(0.25)\n",
        "quartil_3 = df[\"sueldo\"].quantile(0.75)\n",
        "\n",
        "iqr = quartil_3 - quartil_1\n",
        "\n",
        "df = df[df[\"sueldo\"] < quartil_3 + 1.5 * iqr]\n",
        "\n",
        "df = df[df[\"sueldo\"] > quartil_1 - 1.5 * iqr]"
      ]
    },
    {
      "cell_type": "code",
      "execution_count": 11,
      "metadata": {
        "colab": {
          "base_uri": "https://localhost:8080/",
          "height": 370
        },
        "id": "Llh3yPEEnLCC",
        "outputId": "2be467f3-eedc-4ea8-b041-7304aa0b9b71"
      },
      "outputs": [
        {
          "data": {
            "text/plain": [
              "<seaborn.axisgrid.FacetGrid at 0x7f1392476ed0>"
            ]
          },
          "execution_count": 11,
          "metadata": {},
          "output_type": "execute_result"
        },
        {
          "data": {
            "image/png": "[encoded data removed]",
            "text/plain": [
              "<Figure size 360x360 with 1 Axes>"
            ]
          },
          "metadata": {},
          "output_type": "display_data"
        }
      ],
      "source": [
        "sns.displot(df['sueldo'])"
      ]
    },
    {
      "cell_type": "code",
      "execution_count": 12,
      "metadata": {
        "colab": {
          "base_uri": "https://localhost:8080/",
          "height": 370
        },
        "id": "0aPlzhTSnLCC",
        "outputId": "6f1ffec5-a16a-4cdc-e8f0-ddd13bac0abb"
      },
      "outputs": [
        {
          "data": {
            "text/plain": [
              "<matplotlib.axes._subplots.AxesSubplot at 0x7f1388a9c410>"
            ]
          },
          "execution_count": 12,
          "metadata": {},
          "output_type": "execute_result"
        },
        {
          "data": {
            "image/png": "[encoded data removed]",
            "text/plain": [
              "<Figure size 720x360 with 1 Axes>"
            ]
          },
          "metadata": {},
          "output_type": "display_data"
        }
      ],
      "source": [
        "sns.boxplot(data=df, x='sexo', y='sueldo')"
      ]
    },
    {
      "cell_type": "code",
      "execution_count": 13,
      "metadata": {
        "colab": {
          "base_uri": "https://localhost:8080/",
          "height": 370
        },
        "id": "2q-9RlApnLCD",
        "outputId": "99bcc53a-4c80-4347-c378-f97bddb7f045"
      },
      "outputs": [
        {
          "data": {
            "text/plain": [
              "<matplotlib.axes._subplots.AxesSubplot at 0x7f13885dd410>"
            ]
          },
          "execution_count": 13,
          "metadata": {},
          "output_type": "execute_result"
        },
        {
          "data": {
            "image/png": "[encoded data removed]",
            "text/plain": [
              "<Figure size 720x360 with 1 Axes>"
            ]
          },
          "metadata": {},
          "output_type": "display_data"
        }
      ],
      "source": [
        "sns.boxplot(data=df, x='suma_hijos', y='sueldo')"
      ]
    },
    {
      "cell_type": "markdown",
      "metadata": {
        "id": "DNWvp0cN1D_V"
      },
      "source": [
        "# Categorizamos las edades y sueldos en rangos"
      ]
    },
    {
      "cell_type": "code",
      "execution_count": 14,
      "metadata": {
        "id": "EJtNyEDpzLMY"
      },
      "outputs": [],
      "source": [
        "df['rango_sueldos'] = pd.qcut(df['sueldo'], q=10).cat.codes\n",
        "\n",
        "df['rango_edades'] = pd.qcut(df['edad'], q=10).cat.codes"
      ]
    },
    {
      "cell_type": "markdown",
      "metadata": {
        "id": "i1PtSP8LM1bc"
      },
      "source": [
        "Eliminanos las columnas que no vamos a usar o que ya categorizamos"
      ]
    },
    {
      "cell_type": "code",
      "execution_count": 15,
      "metadata": {
        "id": "jVBYMpglM1bf"
      },
      "outputs": [],
      "source": [
        "df = df[[\n",
        "    'sexo', \n",
        "    'edad', \n",
        "    'ascendencia', \n",
        "    'parentesco', \n",
        "    'estado_laboral', \n",
        "    'sueldo', \n",
        "    'busca_otro_trabajo',\n",
        "    'actividad',\n",
        "    'asistencia alguna vez a enseñanza',\n",
        "    'edu preescolar',\n",
        "    'edu primaria',\n",
        "    'edu media',\n",
        "    'edu técnica',\n",
        "    'edu univ o simil',\n",
        "    'edu terciario no uni',\n",
        "    'edu posgrado',\n",
        "    'edu mag prof',\n",
        "    'barrio',\n",
        "    'estado_civil',\n",
        "    'suma_hijos',\n",
        "    'leer_escribir',\n",
        "    'rango_sueldos',\n",
        "    'rango_edades'\n",
        "    ]]"
      ]
    },
    {
      "cell_type": "markdown",
      "metadata": {
        "id": "tr2CniL5M1bg"
      },
      "source": [
        "### DEFINIMOS LAS VARIABLES DEPENDIENTES E INDEPENDIENTES"
      ]
    },
    {
      "cell_type": "code",
      "execution_count": 16,
      "metadata": {
        "colab": {
          "base_uri": "https://localhost:8080/"
        },
        "id": "Fw7aZaAIM1bg",
        "outputId": "bbde5550-cf07-451b-c9dc-52c4555f5c44"
      },
      "outputs": [
        {
          "name": "stdout",
          "output_type": "stream",
          "text": [
            "X shape (32661, 22) \n",
            "Y shape (32661,)\n"
          ]
        }
      ],
      "source": [
        "# Feautures\n",
        "X = df.drop('rango_sueldos', axis=1).to_numpy()\n",
        "y = df['rango_sueldos']\n",
        "\n",
        "print('X shape', X.shape, '\\nY shape', y.shape)"
      ]
    },
    {
      "cell_type": "code",
      "execution_count": 17,
      "metadata": {
        "colab": {
          "base_uri": "https://localhost:8080/"
        },
        "id": "KsXLTa4mohqm",
        "outputId": "6e212232-6859-4c9f-c37e-f6388b4130d0"
      },
      "outputs": [
        {
          "data": {
            "text/plain": [
              "array([2, 1, 6, 5, 0, 8, 3, 4, 7, 9], dtype=int8)"
            ]
          },
          "execution_count": 17,
          "metadata": {},
          "output_type": "execute_result"
        }
      ],
      "source": [
        "y.unique()"
      ]
    },
    {
      "cell_type": "code",
      "execution_count": 18,
      "metadata": {
        "id": "VdOpqVADM1bc"
      },
      "outputs": [],
      "source": [
        "from sklearn.preprocessing import OneHotEncoder\n",
        "\n",
        "one_hot = OneHotEncoder()\n",
        "\n",
        "X = one_hot.fit_transform(X)"
      ]
    },
    {
      "cell_type": "code",
      "execution_count": 19,
      "metadata": {
        "colab": {
          "base_uri": "https://localhost:8080/"
        },
        "id": "aWNq5Nn77-Yf",
        "outputId": "363ed0f4-b9f3-4530-af97-c46f98d92b4e"
      },
      "outputs": [
        {
          "data": {
            "text/plain": [
              "array([[0.        , 0.21320072, 0.        , ..., 0.        , 0.        ,\n",
              "        0.21320072],\n",
              "       [0.        , 0.21320072, 0.        , ..., 0.        , 0.        ,\n",
              "        0.        ],\n",
              "       [0.        , 0.21320072, 0.        , ..., 0.21320072, 0.        ,\n",
              "        0.        ],\n",
              "       ...,\n",
              "       [0.        , 0.21320072, 0.        , ..., 0.        , 0.        ,\n",
              "        0.        ],\n",
              "       [0.21320072, 0.        , 0.        , ..., 0.        , 0.        ,\n",
              "        0.        ],\n",
              "       [0.21320072, 0.        , 0.        , ..., 0.        , 0.        ,\n",
              "        0.        ]])"
            ]
          },
          "execution_count": 19,
          "metadata": {},
          "output_type": "execute_result"
        }
      ],
      "source": [
        "from sklearn.preprocessing import Normalizer\n",
        "\n",
        "normalizer = Normalizer()\n",
        "\n",
        "X = normalizer.fit_transform(X)\n",
        "\n",
        "X.toarray()"
      ]
    },
    {
      "cell_type": "markdown",
      "metadata": {
        "id": "4WNKcjI3M1bg"
      },
      "source": [
        "### Dividimos los datos en un 30% de test y 70% de entrenamiento"
      ]
    },
    {
      "cell_type": "code",
      "execution_count": 20,
      "metadata": {
        "id": "ShFudTmNM1bh"
      },
      "outputs": [],
      "source": [
        "from sklearn.model_selection import train_test_split \n",
        "\n",
        "X_train, X_test, y_train, y_test = train_test_split(X, y, test_size=0.30, random_state=42) "
      ]
    },
    {
      "cell_type": "code",
      "execution_count": 21,
      "metadata": {
        "colab": {
          "base_uri": "https://localhost:8080/"
        },
        "id": "ZV5LPElaM1bh",
        "outputId": "d7f5908d-950b-4b0c-8c0a-a0b8a5e9bb8f"
      },
      "outputs": [
        {
          "name": "stdout",
          "output_type": "stream",
          "text": [
            "(22862, 1679) (22862,)\n",
            "(9799, 1679) (9799,)\n"
          ]
        }
      ],
      "source": [
        "print(X_train.shape, y_train.shape)\n",
        "print(X_test.shape, y_test.shape)"
      ]
    },
    {
      "cell_type": "code",
      "execution_count": 22,
      "metadata": {
        "colab": {
          "base_uri": "https://localhost:8080/"
        },
        "id": "7tlRRcJj4Aep",
        "outputId": "472ba7f9-32ea-4a1c-a005-ab94d0cf6664"
      },
      "outputs": [
        {
          "name": "stdout",
          "output_type": "stream",
          "text": [
            "[[0.21320072 0.         0.         ... 0.         0.         0.        ]]\n",
            "3\n"
          ]
        }
      ],
      "source": [
        "to_test_predict = X_train.toarray()[145].reshape(1, -1)\n",
        "\n",
        "print(to_test_predict)\n",
        "\n",
        "prediction_result = y_train.iloc[145]\n",
        "\n",
        "print(prediction_result)"
      ]
    },
    {
      "cell_type": "markdown",
      "metadata": {
        "id": "t3yhULSwM1bi"
      },
      "source": [
        "# DEFINIMOS ALGORITMO DE REGRESIÓN LOGISTICA"
      ]
    },
    {
      "cell_type": "code",
      "execution_count": 23,
      "metadata": {
        "colab": {
          "base_uri": "https://localhost:8080/"
        },
        "id": "VA9pehfmM1bj",
        "outputId": "8d27f3c1-8df6-4470-cc74-1ce9bc6fc8d8"
      },
      "outputs": [
        {
          "data": {
            "text/plain": [
              "LogisticRegression(max_iter=20000, multi_class='multinomial')"
            ]
          },
          "execution_count": 23,
          "metadata": {},
          "output_type": "execute_result"
        }
      ],
      "source": [
        "from sklearn.linear_model import LogisticRegression\n",
        "from sklearn.model_selection import cross_val_score\n",
        "\n",
        "logistic_reg = LogisticRegression(multi_class='multinomial', max_iter=20000)\n",
        "\n",
        "logistic_reg.fit(X_train, y_train)"
      ]
    },
    {
      "cell_type": "markdown",
      "metadata": {
        "id": "-HQ7bvlwHVfU"
      },
      "source": [
        "### VALOR DE CROSS VALIDATION PARA CADA FOLD"
      ]
    },
    {
      "cell_type": "code",
      "execution_count": 24,
      "metadata": {
        "colab": {
          "base_uri": "https://localhost:8080/"
        },
        "id": "-OqPQoduHVfU",
        "outputId": "f4769cdc-af59-40fe-e9c4-13ea31e9a09f"
      },
      "outputs": [
        {
          "data": {
            "text/plain": [
              "array([0.94673198, 0.94565217, 0.94442743, 0.94947949, 0.94243723])"
            ]
          },
          "execution_count": 24,
          "metadata": {},
          "output_type": "execute_result"
        }
      ],
      "source": [
        "scores = cross_val_score(logistic_reg, X, y, cv=5)\n",
        "\n",
        "scores"
      ]
    },
    {
      "cell_type": "code",
      "execution_count": 25,
      "metadata": {
        "colab": {
          "base_uri": "https://localhost:8080/"
        },
        "id": "Sk2eF2hMM1bj",
        "outputId": "fbc1dfe0-6d0f-4c42-d6e8-fde2d6a6afc1"
      },
      "outputs": [
        {
          "name": "stdout",
          "output_type": "stream",
          "text": [
            "Promedio de cross_validation  0.95\n",
            "Score en test  0.94\n",
            "Score en train  0.95\n"
          ]
        }
      ],
      "source": [
        "print('Promedio de cross_validation ', round(scores.mean(),2))\n",
        "print('Score en test ', round(logistic_reg.score(X_test, y_test),2))\n",
        "print('Score en train ', round(logistic_reg.score(X_train, y_train),2))"
      ]
    },
    {
      "cell_type": "code",
      "execution_count": 26,
      "metadata": {
        "colab": {
          "base_uri": "https://localhost:8080/"
        },
        "id": "FzF5F8XuM1bl",
        "outputId": "6757b828-29c3-4bc1-8903-29b955e9ff8f"
      },
      "outputs": [
        {
          "data": {
            "text/plain": [
              "array([[ 936,    5,    1,    1,    2,    0,    0,    1,    8,   17],\n",
              "       [  77,  981,    0,    2,    0,    0,    0,    0,    4,   11],\n",
              "       [  33,   12,  841,    6,    0,    0,    0,    0,   13,   12],\n",
              "       [  30,    7,    0, 1223,    2,    0,    1,    0,    9,   10],\n",
              "       [  18,    5,    0,    5,  688,    0,    1,    0,   14,    6],\n",
              "       [  24,   11,    0,    5,    3,  911,    2,    0,   14,    6],\n",
              "       [  18,    6,    0,    3,    0,    1, 1097,    0,   28,   14],\n",
              "       [  10,    5,    1,    1,    0,    0,    0,  738,   20,   19],\n",
              "       [   7,    0,    0,    1,    1,    0,    0,    0, 1088,   22],\n",
              "       [   4,    0,    0,    1,    0,    0,    0,    0,    8,  748]])"
            ]
          },
          "execution_count": 26,
          "metadata": {},
          "output_type": "execute_result"
        }
      ],
      "source": [
        "import matplotlib.pyplot as plt\n",
        "from sklearn.metrics import confusion_matrix\n",
        "\n",
        "predictions = logistic_reg.predict(X_test)\n",
        "\n",
        "confusion_matrix(y_test, predictions)"
      ]
    },
    {
      "cell_type": "markdown",
      "metadata": {
        "id": "ypMnIojSM1bl"
      },
      "source": [
        "### INVESTIGAMOS LA EFECTIVIDAD DEL MODELO SOBRE LOS DATOS"
      ]
    },
    {
      "cell_type": "code",
      "execution_count": 27,
      "metadata": {
        "colab": {
          "base_uri": "https://localhost:8080/"
        },
        "id": "1wgaRZ6BM1bm",
        "outputId": "8b439c53-82d9-4131-ab3b-d5e100e488e1"
      },
      "outputs": [
        {
          "name": "stdout",
          "output_type": "stream",
          "text": [
            "Aciertos sobre entrenamiento: 0.95\n",
            "Aciertos sobre evaluación: 0.94\n"
          ]
        }
      ],
      "source": [
        "from sklearn.metrics import accuracy_score\n",
        "\n",
        "#Prediccion en Train\n",
        "y_train_pred = logistic_reg.predict(X_train)\n",
        "\n",
        "#Prediccion en Test\n",
        "y_test_pred = logistic_reg.predict(X_test)\n",
        "\n",
        "#Calculo el accuracy en Train\n",
        "train_accuracy = accuracy_score(y_train, y_train_pred)\n",
        "\n",
        "#Calculo el accuracy en Test\n",
        "test_accuracy = accuracy_score(y_test, y_test_pred)\n",
        "\n",
        "print('Aciertos sobre entrenamiento:', round(train_accuracy, 2))\n",
        "print('Aciertos sobre evaluación:', round(test_accuracy, 2))"
      ]
    },
    {
      "cell_type": "code",
      "execution_count": 28,
      "metadata": {
        "colab": {
          "base_uri": "https://localhost:8080/"
        },
        "id": "5B2fjv7p4eTK",
        "outputId": "80e9177a-40ca-4016-82dc-50c9b4482c95"
      },
      "outputs": [
        {
          "data": {
            "text/plain": [
              "60289    3\n",
              "71191    0\n",
              "78172    1\n",
              "17837    5\n",
              "4426     4\n",
              "        ..\n",
              "98321    2\n",
              "17937    9\n",
              "2936     3\n",
              "52432    5\n",
              "78317    6\n",
              "Name: rango_sueldos, Length: 22862, dtype: int8"
            ]
          },
          "execution_count": 28,
          "metadata": {},
          "output_type": "execute_result"
        }
      ],
      "source": [
        "y_train"
      ]
    },
    {
      "cell_type": "markdown",
      "metadata": {
        "id": "ACeJF5NUM1bl"
      },
      "source": [
        "### APLICAMOS PREDICCIÓN SOBRE EL MODELO"
      ]
    },
    {
      "cell_type": "code",
      "execution_count": 29,
      "metadata": {
        "colab": {
          "base_uri": "https://localhost:8080/"
        },
        "id": "c5PlQMpUM1bl",
        "outputId": "2068e7f9-b5b5-4ee8-dcf4-7755706b0505"
      },
      "outputs": [
        {
          "name": "stdout",
          "output_type": "stream",
          "text": [
            "[3]\n",
            "3\n"
          ]
        }
      ],
      "source": [
        "print(logistic_reg.predict(to_test_predict))\n",
        "\n",
        "print(prediction_result)"
      ]
    },
    {
      "cell_type": "markdown",
      "metadata": {
        "id": "DYYlDLatM1bm"
      },
      "source": [
        "Determinamos la probabilidad de la predicción"
      ]
    },
    {
      "cell_type": "code",
      "execution_count": 30,
      "metadata": {
        "colab": {
          "base_uri": "https://localhost:8080/"
        },
        "id": "XWzmupvzM1bm",
        "outputId": "224a8bb4-038e-4806-db6f-0db389d17ee5"
      },
      "outputs": [
        {
          "data": {
            "text/plain": [
              "array([0.00650463])"
            ]
          },
          "execution_count": 30,
          "metadata": {},
          "output_type": "execute_result"
        }
      ],
      "source": [
        "probabilidades_prediccion = logistic_reg.predict_proba(to_test_predict)\n",
        "probabilidades_prediccion[:,1]"
      ]
    },
    {
      "cell_type": "markdown",
      "metadata": {
        "id": "5BPPzKUaHVfY"
      },
      "source": [
        "# REPETIMOS EL EJERCICIO CON EL MODELO DE RANDOM FOREST"
      ]
    },
    {
      "cell_type": "code",
      "execution_count": 31,
      "metadata": {
        "colab": {
          "base_uri": "https://localhost:8080/"
        },
        "id": "ODF-6NeoHVfa",
        "outputId": "07afb38a-71b7-4f5e-891c-4f5f4401e7b2"
      },
      "outputs": [
        {
          "data": {
            "text/plain": [
              "RandomForestClassifier()"
            ]
          },
          "execution_count": 31,
          "metadata": {},
          "output_type": "execute_result"
        }
      ],
      "source": [
        "from sklearn.ensemble import RandomForestClassifier\n",
        "\n",
        "random_forest = RandomForestClassifier(100)\n",
        "\n",
        "random_forest.fit(X_train, y_train)"
      ]
    },
    {
      "cell_type": "code",
      "execution_count": 32,
      "metadata": {
        "colab": {
          "base_uri": "https://localhost:8080/"
        },
        "id": "JH1bvMyMHVfa",
        "outputId": "5c752b5b-556e-47d2-81f6-5ae953515512"
      },
      "outputs": [
        {
          "data": {
            "text/plain": [
              "array([0.93448645, 0.93355787, 0.93554807, 0.93631353, 0.93156767])"
            ]
          },
          "execution_count": 32,
          "metadata": {},
          "output_type": "execute_result"
        }
      ],
      "source": [
        "scores = cross_val_score(random_forest, X, y, cv=5)\n",
        "\n",
        "scores"
      ]
    },
    {
      "cell_type": "code",
      "execution_count": 33,
      "metadata": {
        "colab": {
          "base_uri": "https://localhost:8080/"
        },
        "id": "EdbWI5glHVfa",
        "outputId": "bb9f580c-b0ff-47bf-e7cd-e18f54c71a47"
      },
      "outputs": [
        {
          "name": "stdout",
          "output_type": "stream",
          "text": [
            "Promedio de cross_validation  0.93\n",
            "Score en test  0.94\n",
            "Score en train  0.95\n"
          ]
        }
      ],
      "source": [
        "print('Promedio de cross_validation ', round(scores.mean(),2))\n",
        "print('Score en test ', round(logistic_reg.score(X_test, y_test),2))\n",
        "print('Score en train ', round(logistic_reg.score(X_train, y_train),2))"
      ]
    },
    {
      "cell_type": "code",
      "execution_count": 34,
      "metadata": {
        "colab": {
          "base_uri": "https://localhost:8080/"
        },
        "id": "7iZRCzTEMSBF",
        "outputId": "a6ad380a-c624-48de-f1c4-b61cfe637f98"
      },
      "outputs": [
        {
          "data": {
            "text/plain": [
              "array([[ 936,    5,    1,    1,    2,    0,    0,    1,    8,   17],\n",
              "       [  77,  981,    0,    2,    0,    0,    0,    0,    4,   11],\n",
              "       [  33,   12,  841,    6,    0,    0,    0,    0,   13,   12],\n",
              "       [  30,    7,    0, 1223,    2,    0,    1,    0,    9,   10],\n",
              "       [  18,    5,    0,    5,  688,    0,    1,    0,   14,    6],\n",
              "       [  24,   11,    0,    5,    3,  911,    2,    0,   14,    6],\n",
              "       [  18,    6,    0,    3,    0,    1, 1097,    0,   28,   14],\n",
              "       [  10,    5,    1,    1,    0,    0,    0,  738,   20,   19],\n",
              "       [   7,    0,    0,    1,    1,    0,    0,    0, 1088,   22],\n",
              "       [   4,    0,    0,    1,    0,    0,    0,    0,    8,  748]])"
            ]
          },
          "execution_count": 34,
          "metadata": {},
          "output_type": "execute_result"
        }
      ],
      "source": [
        "predictions = logistic_reg.predict(X_test)\n",
        "\n",
        "confusion_matrix(y_test, predictions)"
      ]
    },
    {
      "cell_type": "code",
      "execution_count": 35,
      "metadata": {
        "colab": {
          "base_uri": "https://localhost:8080/"
        },
        "id": "KGw6_y5BHVfa",
        "outputId": "0a80f0d5-74a1-4125-9094-5d7aefd57a80"
      },
      "outputs": [
        {
          "name": "stdout",
          "output_type": "stream",
          "text": [
            "Aciertos sobre entrenamiento: 1.0\n",
            "Aciertos sobre evaluación: 0.93\n"
          ]
        }
      ],
      "source": [
        "#Prediccion en Train\n",
        "y_train_pred = random_forest.predict(X_train)\n",
        "\n",
        "#Prediccion en Test\n",
        "y_test_pred = random_forest.predict(X_test)\n",
        "\n",
        "#Calculo el accuracy en Train\n",
        "train_accuracy = accuracy_score(y_train, y_train_pred)\n",
        "\n",
        "#Calculo el accuracy en Test\n",
        "test_accuracy = accuracy_score(y_test, y_test_pred)\n",
        "\n",
        "print('Aciertos sobre entrenamiento:', round(train_accuracy, 2))\n",
        "print('Aciertos sobre evaluación:', round(test_accuracy, 2))"
      ]
    },
    {
      "cell_type": "code",
      "execution_count": 36,
      "metadata": {
        "colab": {
          "base_uri": "https://localhost:8080/"
        },
        "id": "BAkm5UkiQlIn",
        "outputId": "b72f61d1-97d0-4137-8c21-6746af0eae21"
      },
      "outputs": [
        {
          "name": "stdout",
          "output_type": "stream",
          "text": [
            "[3]\n",
            "3\n"
          ]
        }
      ],
      "source": [
        "print(random_forest.predict(to_test_predict))\n",
        "print(prediction_result)"
      ]
    },
    {
      "cell_type": "markdown",
      "metadata": {
        "id": "wtPUDB4SYAsh"
      },
      "source": [
        "# REPETIMOS EL EJERCICIO CON EL MODELO DE K NEAREST NEIGHBOURS"
      ]
    },
    {
      "cell_type": "code",
      "execution_count": 37,
      "metadata": {
        "colab": {
          "base_uri": "https://localhost:8080/"
        },
        "id": "DP-ODZm4YBR4",
        "outputId": "9aed9ebf-d844-4173-bfe9-e0928fb94f51"
      },
      "outputs": [
        {
          "data": {
            "text/plain": [
              "KNeighborsClassifier(n_neighbors=4)"
            ]
          },
          "execution_count": 37,
          "metadata": {},
          "output_type": "execute_result"
        }
      ],
      "source": [
        "from sklearn.neighbors import KNeighborsClassifier\n",
        "\n",
        "knearest_model = KNeighborsClassifier(n_neighbors=4)\n",
        "\n",
        "knearest_model.fit(X_train, y_train)"
      ]
    },
    {
      "cell_type": "code",
      "execution_count": 38,
      "metadata": {
        "colab": {
          "base_uri": "https://localhost:8080/"
        },
        "id": "uLbTJmdkYX6P",
        "outputId": "fd7d879c-60fb-46f7-d12f-daeef8794b11"
      },
      "outputs": [
        {
          "data": {
            "text/plain": [
              "array([0.43180775, 0.42498469, 0.43049602, 0.42360686, 0.41763625])"
            ]
          },
          "execution_count": 38,
          "metadata": {},
          "output_type": "execute_result"
        }
      ],
      "source": [
        "scores = cross_val_score(knearest_model, X, y, cv=5)\n",
        "\n",
        "scores           "
      ]
    },
    {
      "cell_type": "code",
      "execution_count": 39,
      "metadata": {
        "colab": {
          "base_uri": "https://localhost:8080/"
        },
        "id": "WjGoWFlJYcDC",
        "outputId": "3a898245-f8f6-4300-f36b-5cd9f1d3c98b"
      },
      "outputs": [
        {
          "name": "stdout",
          "output_type": "stream",
          "text": [
            "Promedio de cross_validation  0.43\n",
            "Score en test  0.42\n",
            "Score en train  0.68\n"
          ]
        }
      ],
      "source": [
        "print('Promedio de cross_validation ', round(scores.mean(),2))\n",
        "print('Score en test ', round(knearest_model.score(X_test, y_test),2))\n",
        "print('Score en train ', round(knearest_model.score(X_train, y_train),2))"
      ]
    },
    {
      "cell_type": "code",
      "execution_count": 40,
      "metadata": {
        "colab": {
          "base_uri": "https://localhost:8080/"
        },
        "id": "jUEjCBlxMCo0",
        "outputId": "e913bfac-495f-405b-b1c3-08da2b29c5c6"
      },
      "outputs": [
        {
          "data": {
            "text/plain": [
              "array([[587, 141,  90,  72,  21,  11,  16,   6,  21,   6],\n",
              "       [283, 429,  89, 107,  30,  33,  33,  24,  33,  14],\n",
              "       [159, 127, 378,  84,  24,  34,  51,  14,  33,  13],\n",
              "       [153, 158, 111, 657,  36,  39,  46,  16,  42,  24],\n",
              "       [100,  97,  66,  98, 180,  44,  56,  24,  49,  23],\n",
              "       [ 99,  84,  79,  85,  43, 420,  61,  26,  52,  27],\n",
              "       [ 79,  98,  72, 127,  45,  63, 544,  36,  74,  29],\n",
              "       [ 54,  60,  59,  78,  38,  66,  68, 249,  68,  54],\n",
              "       [ 52,  68,  64, 114,  51,  70,  97,  52, 459,  92],\n",
              "       [ 37,  44,  34,  68,  31,  59,  76,  49, 131, 232]])"
            ]
          },
          "execution_count": 40,
          "metadata": {},
          "output_type": "execute_result"
        }
      ],
      "source": [
        "predictions = knearest_model.predict(X_test)\n",
        "\n",
        "confusion_matrix(y_test, predictions)"
      ]
    },
    {
      "cell_type": "code",
      "execution_count": 41,
      "metadata": {
        "colab": {
          "base_uri": "https://localhost:8080/"
        },
        "id": "iEfxUO49YhIS",
        "outputId": "3c4cb4c2-caab-46d3-b281-12f68f677abd"
      },
      "outputs": [
        {
          "name": "stdout",
          "output_type": "stream",
          "text": [
            "Aciertos sobre entrenamiento: 0.68\n",
            "Aciertos sobre evaluación: 0.42\n"
          ]
        }
      ],
      "source": [
        "#Prediccion en Train\n",
        "y_train_pred = knearest_model.predict(X_train)\n",
        "\n",
        "#Prediccion en Test\n",
        "y_test_pred = knearest_model.predict(X_test)\n",
        "\n",
        "#Calculo el accuracy en Train\n",
        "train_accuracy = accuracy_score(y_train, y_train_pred)\n",
        "\n",
        "#Calculo el accuracy en Test\n",
        "test_accuracy = accuracy_score(y_test, y_test_pred)\n",
        "\n",
        "print('Aciertos sobre entrenamiento:', round(train_accuracy, 2))\n",
        "print('Aciertos sobre evaluación:', round(test_accuracy, 2))"
      ]
    },
    {
      "cell_type": "code",
      "execution_count": 42,
      "metadata": {
        "colab": {
          "base_uri": "https://localhost:8080/"
        },
        "id": "44S2Y5vrYnF3",
        "outputId": "fd392acf-1575-4601-aed2-66e372eb56ab"
      },
      "outputs": [
        {
          "name": "stdout",
          "output_type": "stream",
          "text": [
            "[3]\n",
            "3\n"
          ]
        }
      ],
      "source": [
        "print(knearest_model.predict(to_test_predict))\n",
        "print(prediction_result)"
      ]
    }
  ],
  "metadata": {
    "colab": {
      "collapsed_sections": [],
      "name": "ECH_MODELOS.ipynb",
      "provenance": []
    },
    "interpreter": {
      "hash": "d0fd3259a0ae7798bf28b9ed97f5d4d70eaf745bfa37ff3042465361f4141f08"
    },
    "kernelspec": {
      "display_name": "Python 3 (ipykernel)",
      "language": "python",
      "name": "python3"
    },
    "language_info": {
      "codemirror_mode": {
        "name": "ipython",
        "version": 3
      },
      "file_extension": ".py",
      "mimetype": "text/x-python",
      "name": "python",
      "nbconvert_exporter": "python",
      "pygments_lexer": "ipython3",
      "version": "3.9.7"
    }
  },
  "nbformat": 4,
  "nbformat_minor": 0
}
