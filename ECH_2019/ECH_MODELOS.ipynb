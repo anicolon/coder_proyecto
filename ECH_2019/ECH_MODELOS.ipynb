{
  "nbformat": 4,
  "nbformat_minor": 0,
  "metadata": {
    "colab": {
      "name": "ECH_MODELOS.ipynb",
      "provenance": [],
      "collapsed_sections": []
    },
    "interpreter": {
      "hash": "d0fd3259a0ae7798bf28b9ed97f5d4d70eaf745bfa37ff3042465361f4141f08"
    },
    "kernelspec": {
      "display_name": "Python 3.9.7 64-bit ('pyenv': venv)",
      "language": "python",
      "name": "python3"
    },
    "language_info": {
      "codemirror_mode": {
        "name": "ipython",
        "version": 3
      },
      "file_extension": ".py",
      "mimetype": "text/x-python",
      "name": "python",
      "nbconvert_exporter": "python",
      "pygments_lexer": "ipython3",
      "version": "3.9.7"
    },
    "orig_nbformat": 4
  },
  "cells": [
    {
      "cell_type": "code",
      "metadata": {
        "colab": {
          "base_uri": "https://localhost:8080/"
        },
        "id": "4Fyym8rv1dDm",
        "outputId": "f0570a7b-01fc-4d16-cfd1-b8a3def6e240"
      },
      "source": [
        "from google.colab import drive\n",
        "drive.mount('/content/drive')\n",
        "\n"
      ],
      "execution_count": 1,
      "outputs": [
        {
          "output_type": "stream",
          "name": "stdout",
          "text": [
            "Mounted at /content/drive\n"
          ]
        }
      ]
    },
    {
      "cell_type": "code",
      "metadata": {
        "id": "93-fWQ16M1bJ"
      },
      "source": [
        "import pandas as pd\n",
        "import numpy as np\n",
        "import seaborn as sns\n",
        "\n",
        "sns.set(rc={'figure.figsize': (40, 15)}, font_scale=1.5)\n",
        "\n",
        "df = pd.read_csv('/content/drive/MyDrive/ECH_2019.csv')\n",
        "\n"
      ],
      "execution_count": 2,
      "outputs": []
    },
    {
      "cell_type": "code",
      "metadata": {
        "colab": {
          "base_uri": "https://localhost:8080/",
          "height": 417
        },
        "id": "nDVahJg0M1bM",
        "outputId": "e47d27b4-bf93-4aab-8b80-3cc9f8683dbb"
      },
      "source": [
        "df.sample(5)"
      ],
      "execution_count": 3,
      "outputs": [
        {
          "output_type": "execute_result",
          "data": {
            "text/html": [
              "<div>\n",
              "<style scoped>\n",
              "    .dataframe tbody tr th:only-of-type {\n",
              "        vertical-align: middle;\n",
              "    }\n",
              "\n",
              "    .dataframe tbody tr th {\n",
              "        vertical-align: top;\n",
              "    }\n",
              "\n",
              "    .dataframe thead th {\n",
              "        text-align: right;\n",
              "    }\n",
              "</style>\n",
              "<table border=\"1\" class=\"dataframe\">\n",
              "  <thead>\n",
              "    <tr style=\"text-align: right;\">\n",
              "      <th></th>\n",
              "      <th>id_hogar</th>\n",
              "      <th>sexo</th>\n",
              "      <th>edad</th>\n",
              "      <th>ascendencia</th>\n",
              "      <th>parentesco</th>\n",
              "      <th>estado_laboral</th>\n",
              "      <th>sueldo</th>\n",
              "      <th>busca_otro_trabajo</th>\n",
              "      <th>actividad</th>\n",
              "      <th>asistencia alguna vez a enseñanza</th>\n",
              "      <th>edu preescolar</th>\n",
              "      <th>edu primaria</th>\n",
              "      <th>edu media</th>\n",
              "      <th>edu técnica</th>\n",
              "      <th>edu univ o simil</th>\n",
              "      <th>edu terciario no uni</th>\n",
              "      <th>edu posgrado</th>\n",
              "      <th>edu mag prof</th>\n",
              "    </tr>\n",
              "  </thead>\n",
              "  <tbody>\n",
              "    <tr>\n",
              "      <th>74765</th>\n",
              "      <td>2019040325</td>\n",
              "      <td>Mujer</td>\n",
              "      <td>8</td>\n",
              "      <td>Blanca</td>\n",
              "      <td>Hijo/a de ambos</td>\n",
              "      <td>Menores de 14 años</td>\n",
              "      <td>0</td>\n",
              "      <td>0</td>\n",
              "      <td>.</td>\n",
              "      <td>Sí</td>\n",
              "      <td>Sí, asistió</td>\n",
              "      <td>Asiste actualmente</td>\n",
              "      <td>0</td>\n",
              "      <td>0</td>\n",
              "      <td>0</td>\n",
              "      <td>0</td>\n",
              "      <td>0</td>\n",
              "      <td>0</td>\n",
              "    </tr>\n",
              "    <tr>\n",
              "      <th>10202</th>\n",
              "      <td>2019005461</td>\n",
              "      <td>Hombre</td>\n",
              "      <td>30</td>\n",
              "      <td>Afro o negra</td>\n",
              "      <td>Esposo/a o compañero/a</td>\n",
              "      <td>Ocupados</td>\n",
              "      <td>20000</td>\n",
              "      <td>Sí</td>\n",
              "      <td>Fabricación de partes y piezas de carpintería ...</td>\n",
              "      <td>Sí</td>\n",
              "      <td>Sí, asistió</td>\n",
              "      <td>Sí, asistió</td>\n",
              "      <td>Sí, asistió</td>\n",
              "      <td>No asistió</td>\n",
              "      <td>0</td>\n",
              "      <td>0</td>\n",
              "      <td>0</td>\n",
              "      <td>0</td>\n",
              "    </tr>\n",
              "    <tr>\n",
              "      <th>90730</th>\n",
              "      <td>2019048812</td>\n",
              "      <td>Mujer</td>\n",
              "      <td>66</td>\n",
              "      <td>Blanca</td>\n",
              "      <td>Esposo/a o compañero/a</td>\n",
              "      <td>Inactivo: jubilado</td>\n",
              "      <td>0</td>\n",
              "      <td>0</td>\n",
              "      <td>.</td>\n",
              "      <td>Sí</td>\n",
              "      <td>No asistió</td>\n",
              "      <td>Sí, asistió</td>\n",
              "      <td>Sí, asistió</td>\n",
              "      <td>No asistió</td>\n",
              "      <td>No asistió</td>\n",
              "      <td>No asistió</td>\n",
              "      <td>No asistió</td>\n",
              "      <td>Sí, asistió</td>\n",
              "    </tr>\n",
              "    <tr>\n",
              "      <th>47572</th>\n",
              "      <td>2019025576</td>\n",
              "      <td>Hombre</td>\n",
              "      <td>70</td>\n",
              "      <td>Blanca</td>\n",
              "      <td>Jefe/a de hogar</td>\n",
              "      <td>Inactivo: jubilado</td>\n",
              "      <td>0</td>\n",
              "      <td>0</td>\n",
              "      <td>.</td>\n",
              "      <td>Sí</td>\n",
              "      <td>No asistió</td>\n",
              "      <td>Sí, asistió</td>\n",
              "      <td>Sí, asistió</td>\n",
              "      <td>No asistió</td>\n",
              "      <td>Sí, asistió</td>\n",
              "      <td>No asistió</td>\n",
              "      <td>0</td>\n",
              "      <td>No asistió</td>\n",
              "    </tr>\n",
              "    <tr>\n",
              "      <th>20085</th>\n",
              "      <td>2019010877</td>\n",
              "      <td>Mujer</td>\n",
              "      <td>82</td>\n",
              "      <td>Blanca</td>\n",
              "      <td>Jefe/a de hogar</td>\n",
              "      <td>Inactivo: jubilado</td>\n",
              "      <td>0</td>\n",
              "      <td>0</td>\n",
              "      <td>.</td>\n",
              "      <td>Sí</td>\n",
              "      <td>Sí, asistió</td>\n",
              "      <td>Sí, asistió</td>\n",
              "      <td>No asistió</td>\n",
              "      <td>No asistió</td>\n",
              "      <td>0</td>\n",
              "      <td>0</td>\n",
              "      <td>0</td>\n",
              "      <td>0</td>\n",
              "    </tr>\n",
              "  </tbody>\n",
              "</table>\n",
              "</div>"
            ],
            "text/plain": [
              "         id_hogar    sexo  edad  ... edu terciario no uni edu posgrado edu mag prof\n",
              "74765  2019040325   Mujer     8  ...                    0            0            0\n",
              "10202  2019005461  Hombre    30  ...                    0            0            0\n",
              "90730  2019048812   Mujer    66  ...           No asistió   No asistió  Sí, asistió\n",
              "47572  2019025576  Hombre    70  ...           No asistió            0   No asistió\n",
              "20085  2019010877   Mujer    82  ...                    0            0            0\n",
              "\n",
              "[5 rows x 18 columns]"
            ]
          },
          "metadata": {},
          "execution_count": 3
        }
      ]
    },
    {
      "cell_type": "code",
      "metadata": {
        "colab": {
          "base_uri": "https://localhost:8080/",
          "height": 487
        },
        "id": "LzFVyDkXM1bN",
        "outputId": "54bc4b1f-04d8-491b-9ae7-10b98e7b3e58"
      },
      "source": [
        "no_data = {0: 'No hay dato', '0': 'No hay dato'}\n",
        "\n",
        "mask = df.columns.difference(['edad', 'sueldo', 'hijos'])\n",
        "\n",
        "df[mask] = df[mask].replace(no_data)\n",
        "\n",
        "df.sample(5)\n",
        "\n"
      ],
      "execution_count": 4,
      "outputs": [
        {
          "output_type": "execute_result",
          "data": {
            "text/html": [
              "<div>\n",
              "<style scoped>\n",
              "    .dataframe tbody tr th:only-of-type {\n",
              "        vertical-align: middle;\n",
              "    }\n",
              "\n",
              "    .dataframe tbody tr th {\n",
              "        vertical-align: top;\n",
              "    }\n",
              "\n",
              "    .dataframe thead th {\n",
              "        text-align: right;\n",
              "    }\n",
              "</style>\n",
              "<table border=\"1\" class=\"dataframe\">\n",
              "  <thead>\n",
              "    <tr style=\"text-align: right;\">\n",
              "      <th></th>\n",
              "      <th>id_hogar</th>\n",
              "      <th>sexo</th>\n",
              "      <th>edad</th>\n",
              "      <th>ascendencia</th>\n",
              "      <th>parentesco</th>\n",
              "      <th>estado_laboral</th>\n",
              "      <th>sueldo</th>\n",
              "      <th>busca_otro_trabajo</th>\n",
              "      <th>actividad</th>\n",
              "      <th>asistencia alguna vez a enseñanza</th>\n",
              "      <th>edu preescolar</th>\n",
              "      <th>edu primaria</th>\n",
              "      <th>edu media</th>\n",
              "      <th>edu técnica</th>\n",
              "      <th>edu univ o simil</th>\n",
              "      <th>edu terciario no uni</th>\n",
              "      <th>edu posgrado</th>\n",
              "      <th>edu mag prof</th>\n",
              "    </tr>\n",
              "  </thead>\n",
              "  <tbody>\n",
              "    <tr>\n",
              "      <th>52346</th>\n",
              "      <td>2019028107</td>\n",
              "      <td>Hombre</td>\n",
              "      <td>18</td>\n",
              "      <td>Blanca</td>\n",
              "      <td>Hijo/a de ambos</td>\n",
              "      <td>Inactivo: otro</td>\n",
              "      <td>0</td>\n",
              "      <td>No hay dato</td>\n",
              "      <td>.</td>\n",
              "      <td>Sí</td>\n",
              "      <td>Sí, asistió</td>\n",
              "      <td>Sí, asistió</td>\n",
              "      <td>Sí, asistió</td>\n",
              "      <td>No asistió</td>\n",
              "      <td>No hay dato</td>\n",
              "      <td>No hay dato</td>\n",
              "      <td>No hay dato</td>\n",
              "      <td>No hay dato</td>\n",
              "    </tr>\n",
              "    <tr>\n",
              "      <th>61540</th>\n",
              "      <td>2019033062</td>\n",
              "      <td>Mujer</td>\n",
              "      <td>20</td>\n",
              "      <td>Blanca</td>\n",
              "      <td>Hijo/a solo del jefe/a</td>\n",
              "      <td>Ocupados</td>\n",
              "      <td>25000</td>\n",
              "      <td>No</td>\n",
              "      <td>Actividades de juego y apuestas</td>\n",
              "      <td>Sí</td>\n",
              "      <td>Sí, asistió</td>\n",
              "      <td>Sí, asistió</td>\n",
              "      <td>Sí, asistió</td>\n",
              "      <td>No asistió</td>\n",
              "      <td>Sí, asistió</td>\n",
              "      <td>No asistió</td>\n",
              "      <td>No hay dato</td>\n",
              "      <td>No asistió</td>\n",
              "    </tr>\n",
              "    <tr>\n",
              "      <th>50267</th>\n",
              "      <td>2019026980</td>\n",
              "      <td>Hombre</td>\n",
              "      <td>67</td>\n",
              "      <td>Afro o negra</td>\n",
              "      <td>Jefe/a de hogar</td>\n",
              "      <td>Ocupados</td>\n",
              "      <td>0</td>\n",
              "      <td>No</td>\n",
              "      <td>Actividades de apoyo a la ganadería</td>\n",
              "      <td>Sí</td>\n",
              "      <td>No asistió</td>\n",
              "      <td>Sí, asistió</td>\n",
              "      <td>No hay dato</td>\n",
              "      <td>No asistió</td>\n",
              "      <td>No hay dato</td>\n",
              "      <td>No hay dato</td>\n",
              "      <td>No hay dato</td>\n",
              "      <td>No hay dato</td>\n",
              "    </tr>\n",
              "    <tr>\n",
              "      <th>18141</th>\n",
              "      <td>2019009762</td>\n",
              "      <td>Hombre</td>\n",
              "      <td>46</td>\n",
              "      <td>Blanca</td>\n",
              "      <td>Jefe/a de hogar</td>\n",
              "      <td>Ocupados</td>\n",
              "      <td>0</td>\n",
              "      <td>Sí</td>\n",
              "      <td>Construcción de obras de arquitectura</td>\n",
              "      <td>Sí</td>\n",
              "      <td>No asistió</td>\n",
              "      <td>Sí, asistió</td>\n",
              "      <td>No asistió</td>\n",
              "      <td>No asistió</td>\n",
              "      <td>No hay dato</td>\n",
              "      <td>No hay dato</td>\n",
              "      <td>No hay dato</td>\n",
              "      <td>No hay dato</td>\n",
              "    </tr>\n",
              "    <tr>\n",
              "      <th>101215</th>\n",
              "      <td>2019054504</td>\n",
              "      <td>Hombre</td>\n",
              "      <td>33</td>\n",
              "      <td>Blanca</td>\n",
              "      <td>Jefe/a de hogar</td>\n",
              "      <td>Ocupados</td>\n",
              "      <td>17000</td>\n",
              "      <td>No</td>\n",
              "      <td>Actividades de los hogares en calidad de emple...</td>\n",
              "      <td>Sí</td>\n",
              "      <td>Sí, asistió</td>\n",
              "      <td>Sí, asistió</td>\n",
              "      <td>No asistió</td>\n",
              "      <td>Sí, asistió</td>\n",
              "      <td>No hay dato</td>\n",
              "      <td>No hay dato</td>\n",
              "      <td>No hay dato</td>\n",
              "      <td>No hay dato</td>\n",
              "    </tr>\n",
              "  </tbody>\n",
              "</table>\n",
              "</div>"
            ],
            "text/plain": [
              "          id_hogar    sexo  edad  ... edu terciario no uni edu posgrado edu mag prof\n",
              "52346   2019028107  Hombre    18  ...          No hay dato  No hay dato  No hay dato\n",
              "61540   2019033062   Mujer    20  ...           No asistió  No hay dato   No asistió\n",
              "50267   2019026980  Hombre    67  ...          No hay dato  No hay dato  No hay dato\n",
              "18141   2019009762  Hombre    46  ...          No hay dato  No hay dato  No hay dato\n",
              "101215  2019054504  Hombre    33  ...          No hay dato  No hay dato  No hay dato\n",
              "\n",
              "[5 rows x 18 columns]"
            ]
          },
          "metadata": {},
          "execution_count": 4
        }
      ]
    },
    {
      "cell_type": "code",
      "metadata": {
        "colab": {
          "base_uri": "https://localhost:8080/",
          "height": 537
        },
        "id": "5KFu-aP3M1bQ",
        "outputId": "5605b0ae-8477-4469-cf8f-5e5c19e2bf02"
      },
      "source": [
        "sns.countplot(x=df['estado_laboral'])\n",
        "\n"
      ],
      "execution_count": 5,
      "outputs": [
        {
          "output_type": "execute_result",
          "data": {
            "text/plain": [
              "<matplotlib.axes._subplots.AxesSubplot at 0x7f1448ac7190>"
            ]
          },
          "metadata": {},
          "execution_count": 5
        },
        {
          "output_type": "display_data",
          "data": {
            "image/png": "[encoded data removed]",
            "text/plain": [
              "<Figure size 2880x1080 with 1 Axes>"
            ]
          },
          "metadata": {}
        }
      ]
    },
    {
      "cell_type": "markdown",
      "metadata": {
        "id": "UDhMFaUMM1bR"
      },
      "source": [
        "Seleccionamos personas con edad suficiente para trabajar"
      ]
    },
    {
      "cell_type": "code",
      "metadata": {
        "id": "l3mwgnC9M1bS"
      },
      "source": [
        "# df = df[~df['estado_laboral'].str.contains('Menores de 14 años')]\n",
        "\n"
      ],
      "execution_count": 6,
      "outputs": []
    },
    {
      "cell_type": "markdown",
      "metadata": {
        "id": "YVb1TG3_M1bU"
      },
      "source": [
        "Codificamos los valores de parentezco"
      ]
    },
    {
      "cell_type": "markdown",
      "metadata": {
        "id": "0G9gI5uHM1bW"
      },
      "source": [
        "Creamos una columna que cuenta la cantidad de hijos por grupo familiar"
      ]
    },
    {
      "cell_type": "code",
      "metadata": {
        "id": "HpVFTH3NM1bY"
      },
      "source": [
        "df['hijos'] = (\n",
        "    df.groupby('id_hogar')['id_hogar'].transform('count') - 1\n",
        ")\n",
        "\n"
      ],
      "execution_count": 7,
      "outputs": []
    },
    {
      "cell_type": "markdown",
      "metadata": {
        "id": "SJ_llwPwM1bZ"
      },
      "source": [
        "# CATEGORIZAR NUMERICOS"
      ]
    },
    {
      "cell_type": "code",
      "metadata": {
        "id": "RvMwcDkpM1bZ"
      },
      "source": [
        "df['rango_sueldos'] = pd.cut(df['sueldo'], bins=[\n",
        "    0,\n",
        "    5000,\n",
        "    10000,\n",
        "    30000,\n",
        "    50000,\n",
        "    100000,\n",
        "    float('Inf'),\n",
        "    ]).astype('category')\n",
        "\n",
        "df['rango_edades'] = pd.cut(df['edad'], bins=[\n",
        "    0,\n",
        "    10,\n",
        "    15,\n",
        "    20,\n",
        "    30,\n",
        "    40,\n",
        "    50,\n",
        "    60,\n",
        "    70,\n",
        "    float('Inf'),\n",
        "    ]).astype('category')\n",
        "\n",
        "# labels=['0-5000', 'yyy', 'zzz']\n",
        "\n"
      ],
      "execution_count": 8,
      "outputs": []
    },
    {
      "cell_type": "code",
      "metadata": {
        "colab": {
          "base_uri": "https://localhost:8080/",
          "height": 537
        },
        "id": "VKzai6puM1bb",
        "outputId": "c63df551-1d5f-4d63-ea8b-9a2186a3e856"
      },
      "source": [
        "sns.countplot(x=df['rango_sueldos'])\n",
        "\n"
      ],
      "execution_count": 9,
      "outputs": [
        {
          "output_type": "execute_result",
          "data": {
            "text/plain": [
              "<matplotlib.axes._subplots.AxesSubplot at 0x7f14482d9450>"
            ]
          },
          "metadata": {},
          "execution_count": 9
        },
        {
          "output_type": "display_data",
          "data": {
            "image/png": "[encoded data removed]",
            "text/plain": [
              "<Figure size 2880x1080 with 1 Axes>"
            ]
          },
          "metadata": {}
        }
      ]
    },
    {
      "cell_type": "code",
      "metadata": {
        "colab": {
          "base_uri": "https://localhost:8080/",
          "height": 537
        },
        "id": "8AjhZX54M1bb",
        "outputId": "3e5521f9-4519-4c12-8c86-3163bf16b71e"
      },
      "source": [
        "sns.countplot(x=df['rango_edades'])\n",
        "\n"
      ],
      "execution_count": 10,
      "outputs": [
        {
          "output_type": "execute_result",
          "data": {
            "text/plain": [
              "<matplotlib.axes._subplots.AxesSubplot at 0x7f144725dfd0>"
            ]
          },
          "metadata": {},
          "execution_count": 10
        },
        {
          "output_type": "display_data",
          "data": {
            "image/png": "[encoded data removed]",
            "text/plain": [
              "<Figure size 2880x1080 with 1 Axes>"
            ]
          },
          "metadata": {}
        }
      ]
    },
    {
      "cell_type": "markdown",
      "metadata": {
        "id": "5y30QCPZM1bb"
      },
      "source": [
        "### AJUSTANDO DATOS PARA ENTRENAR EL MODELO"
      ]
    },
    {
      "cell_type": "markdown",
      "metadata": {
        "id": "77Zc41CNM1bc"
      },
      "source": [
        "Primero encodificamos las variables categóricas"
      ]
    },
    {
      "cell_type": "markdown",
      "metadata": {
        "id": "i1PtSP8LM1bc"
      },
      "source": [
        "Eliminanos las columnas que no vamos a usar o que ya categorizamos"
      ]
    },
    {
      "cell_type": "code",
      "metadata": {
        "colab": {
          "base_uri": "https://localhost:8080/"
        },
        "id": "e7LidkekM1bc",
        "outputId": "0aea7bee-57e6-48c1-d9c8-0c817dec8b03"
      },
      "source": [
        "df.columns\n",
        "\n"
      ],
      "execution_count": 11,
      "outputs": [
        {
          "output_type": "execute_result",
          "data": {
            "text/plain": [
              "Index(['id_hogar', 'sexo', 'edad', 'ascendencia', 'parentesco',\n",
              "       'estado_laboral', 'sueldo', 'busca_otro_trabajo', 'actividad',\n",
              "       'asistencia alguna vez a enseñanza', 'edu preescolar', 'edu primaria',\n",
              "       'edu media', 'edu técnica', 'edu univ o simil', 'edu terciario no uni',\n",
              "       'edu posgrado', 'edu mag prof', 'hijos', 'rango_sueldos',\n",
              "       'rango_edades'],\n",
              "      dtype='object')"
            ]
          },
          "metadata": {},
          "execution_count": 11
        }
      ]
    },
    {
      "cell_type": "code",
      "metadata": {
        "id": "jVBYMpglM1bf"
      },
      "source": [
        "df = df[[\n",
        "    'sexo',\n",
        "    'ascendencia',\n",
        "    'estado_laboral',\n",
        "    'busca_otro_trabajo',\n",
        "    'actividad',\n",
        "    'asistencia alguna vez a enseñanza',\n",
        "    'edu preescolar',\n",
        "    'edu primaria',\n",
        "    'edu media',\n",
        "    'edu técnica',\n",
        "    'edu univ o simil',\n",
        "    'edu terciario no uni',\n",
        "    'edu posgrado',\n",
        "    'edu mag prof',\n",
        "    'parentesco',\n",
        "    'hijos',\n",
        "    'rango_sueldos',\n",
        "    'rango_edades',\n",
        "    ]]\n",
        "\n"
      ],
      "execution_count": 12,
      "outputs": []
    },
    {
      "cell_type": "markdown",
      "metadata": {
        "id": "tr2CniL5M1bg"
      },
      "source": [
        "### DEFINIMOS LAS VARIABLES DEPENDIENTES E INDEPENDIENTES"
      ]
    },
    {
      "cell_type": "code",
      "metadata": {
        "colab": {
          "base_uri": "https://localhost:8080/"
        },
        "id": "Fw7aZaAIM1bg",
        "outputId": "d0dee352-a725-4d93-a9b0-53d194946c62"
      },
      "source": [
        "# Feautures\n",
        "X = df.drop('estado_laboral', axis=1).to_numpy()\n",
        "y = df['estado_laboral']\n",
        "\n",
        "print('X shape', X.shape, '\\nY shape', y.shape)\n",
        "\n"
      ],
      "execution_count": 13,
      "outputs": [
        {
          "output_type": "stream",
          "name": "stdout",
          "text": [
            "X shape (107871, 17) \n",
            "Y shape (107871,)\n"
          ]
        }
      ]
    },
    {
      "cell_type": "code",
      "metadata": {
        "colab": {
          "base_uri": "https://localhost:8080/"
        },
        "id": "lrQOxYSWM1bg",
        "outputId": "d33df607-10e3-4e42-c2a8-4d6bfe99215e"
      },
      "source": [
        "np.unique(y)\n",
        "\n"
      ],
      "execution_count": 14,
      "outputs": [
        {
          "output_type": "execute_result",
          "data": {
            "text/plain": [
              "array(['Desocupados buscan trabajo por primera vez',\n",
              "       'Desocupados en seguro de paro', 'Desocupados propiamente dichos',\n",
              "       'Inactivo: estudiante', 'Inactivo: jubilado', 'Inactivo: otro',\n",
              "       'Inactivo: pensionista',\n",
              "       'Inactivo: realiza los quehaceres del hogar', 'Inactivo: rentista',\n",
              "       'Menores de 14 años', 'Ocupados'], dtype=object)"
            ]
          },
          "metadata": {},
          "execution_count": 14
        }
      ]
    },
    {
      "cell_type": "code",
      "metadata": {
        "id": "VdOpqVADM1bc"
      },
      "source": [
        "from sklearn.preprocessing import OneHotEncoder\n",
        "\n",
        "one_hot = OneHotEncoder()\n",
        "\n",
        "X = one_hot.fit_transform(X)\n"
      ],
      "execution_count": 15,
      "outputs": []
    },
    {
      "cell_type": "code",
      "metadata": {
        "colab": {
          "base_uri": "https://localhost:8080/"
        },
        "id": "Jm6QH4tWynxU",
        "outputId": "67276aa9-51db-44e0-c458-5e79af9b1d03"
      },
      "source": [
        "one_hot.categories_"
      ],
      "execution_count": 16,
      "outputs": [
        {
          "output_type": "execute_result",
          "data": {
            "text/plain": [
              "[array(['Hombre', 'Mujer'], dtype=object),\n",
              " array(['Afro o negra', 'Asiática o amarilla', 'Blanca', 'Indígena',\n",
              "        'No hay dato', 'Otra'], dtype=object),\n",
              " array(['No', 'No hay dato', 'Sí'], dtype=object),\n",
              " array(['   .', 'Abastecimiento de eventos',\n",
              "        'Acabado de productos textiles',\n",
              "        'Actividades combinadas de apoyo a instalaciones',\n",
              "        'Actividades de Museos y preservación de lugares históricos',\n",
              "        'Actividades de administración de empresas y de consultoría',\n",
              "        'Actividades de administración de fondos',\n",
              "        'Actividades de agencias de cobranza y oficinas de crédito',\n",
              "        'Actividades de agencias de colocación de empleados',\n",
              "        'Actividades de agencias de noticias',\n",
              "        'Actividades de agencias de trabajo temporal',\n",
              "        'Actividades de agencias de viajes',\n",
              "        'Actividades de alojamiento de corto plazo',\n",
              "        'Actividades de alojamiento en albergues',\n",
              "        'Actividades de alojamiento en hoteles',\n",
              "        'Actividades de alojamiento transitorio: hoteles de alta rota',\n",
              "        'Actividades de apoyo a la agricultura',\n",
              "        'Actividades de apoyo a la explotación de otras minas y cante',\n",
              "        'Actividades de apoyo a la ganadería',\n",
              "        'Actividades de arquitectura e ingeniería',\n",
              "        'Actividades de arte, entretenimiento y creatividad',\n",
              "        'Actividades de bibliotecas y archivos',\n",
              "        'Actividades de centros de llamados',\n",
              "        'Actividades de clubes deportivos',\n",
              "        'Actividades de consultoría informática',\n",
              "        'Actividades de contabilidad, teneduría de libros y auditoría',\n",
              "        'Actividades de defensa',\n",
              "        'Actividades de distribución de películas, videocintas y prog',\n",
              "        'Actividades de embalaje', 'Actividades de fotografía',\n",
              "        'Actividades de grabación y publicación de grabaciones sonora',\n",
              "        'Actividades de hospitales', 'Actividades de impresión',\n",
              "        'Actividades de jardines botánicos, zoológicos y parques natu',\n",
              "        'Actividades de juego y apuestas',\n",
              "        'Actividades de la administración pública en general',\n",
              "        'Actividades de las comisiones de fomento escolares y liceale',\n",
              "        'Actividades de los agentes y corredores de seguro',\n",
              "        'Actividades de los hogares en calidad de empleadores de pers',\n",
              "        'Actividades de mantenimiento del orden público y de segurida',\n",
              "        'Actividades de médicos y odontólogos',\n",
              "        'Actividades de oficinas centrales',\n",
              "        'Actividades de operadores turísticos',\n",
              "        'Actividades de organizaciones empresariales y de empleadores',\n",
              "        'Actividades de organizaciones políticas',\n",
              "        'Actividades de organizaciones profesionales',\n",
              "        'Actividades de organizaciones religiosas',\n",
              "        'Actividades de organizaciones y órganos extraterritoriales',\n",
              "        'Actividades de parques de atracciones y parques temáticos',\n",
              "        'Actividades de peluquería y otros tratamientos de belleza',\n",
              "        'Actividades de planes de seguridad social de afiliación obli',\n",
              "        'Actividades de producción de películas, videocintas y progra',\n",
              "        'Actividades de programación informática',\n",
              "        'Actividades de proyección de películas',\n",
              "        'Actividades de saneamiento y otros servicios de gestión de d',\n",
              "        'Actividades de seguridad privada',\n",
              "        'Actividades de servicio administrativa combinadas de oficina',\n",
              "        'Actividades de servicio de manutención y cuidado de paisajes',\n",
              "        'Actividades de servicio de sistemas de seguridad',\n",
              "        'Actividades de servicio secundario de transporte por vía acu',\n",
              "        'Actividades de servicio secundario de transporte por vía aér',\n",
              "        'Actividades de servicio secundario de transporte por vía ter',\n",
              "        'Actividades de sindicatos',\n",
              "        'Actividades especializadas en diseño',\n",
              "        'Actividades inmobiliarias realizadas a cambio de una retribu',\n",
              "        'Actividades jurídicas', 'Actividades posteriores a la cosecha',\n",
              "        'Actividades posteriores de la producción de películas, video',\n",
              "        'Actividades veterinarias',\n",
              "        'Actividades vinculadas al servicio de bebidas',\n",
              "        'Acuicultura de agua dulce', 'Acuicultura marítima',\n",
              "        'Administración de instalaciones deportivas',\n",
              "        'Administración de mercados financieros',\n",
              "        'Alquiler de cintas de video y discos',\n",
              "        'Alquiler de otro tipo de maquinaria, equipo y mercancías tan',\n",
              "        'Alquiler de otros efectos personales y artículos domésticos',\n",
              "        'Aserrado y acepilladura de madera', 'Banca Central',\n",
              "        'Captación, tratamiento y suministro de agua',\n",
              "        'Caza ordinaria, mediante trampas y actividades de servicio c',\n",
              "        'Comercio al por mayor a cambio de una retribución o por cont',\n",
              "        'Comercio al por mayor de alimentos, bebidas y tabaco',\n",
              "        'Comercio al por mayor de basura, desechos y otros productos',\n",
              "        'Comercio al por mayor de combustibles sólidos, líquidos y ga',\n",
              "        'Comercio al por mayor de computadoras, equipo informático',\n",
              "        'Comercio al por mayor de equipo electrónico de telecomunicac',\n",
              "        'Comercio al por mayor de maquinaria, equipo agrícola y sus s',\n",
              "        'Comercio al por mayor de materiales de construcción, artícul',\n",
              "        'Comercio al por mayor de materias primas agropecuarias y ani',\n",
              "        'Comercio al por mayor de metales y de minerales metalíferos',\n",
              "        'Comercio al por mayor de otro tipo de maquinaria y equipo',\n",
              "        'Comercio al por mayor de otros artículos domésticos',\n",
              "        'Comercio al por mayor de textiles, prendas de vestir y calza',\n",
              "        'Comercio al por mayor no especializado de otros productos',\n",
              "        'Comercio al por mayor y al por menor de partes, piezas de ve',\n",
              "        'Comercio al por mayor y al por menor de vehículos automotore',\n",
              "        'Comercio al por mayor y al por menor, mantenimiento y repara',\n",
              "        'Comercio al por menor a través de pedido por correo o vía In',\n",
              "        'Comercio al por menor de alfombras, cubiertas de pared y pis',\n",
              "        'Comercio al por menor de alimento',\n",
              "        'Comercio al por menor de aparatos, muebles, artículos y equi',\n",
              "        'Comercio al por menor de artículos de deporte',\n",
              "        'Comercio al por menor de artículos de ferretería, pinturas y',\n",
              "        'Comercio al por menor de bebidas',\n",
              "        'Comercio al por menor de combustible para vehículos',\n",
              "        'Comercio al por menor de computadoras, unidades periféricas',\n",
              "        'Comercio al por menor de equipo de audio y video',\n",
              "        'Comercio al por menor de juegos y de juguetes',\n",
              "        'Comercio al por menor de libros, periódicos y artículos de p',\n",
              "        'Comercio al por menor de mercancías de segunda mano',\n",
              "        'Comercio al por menor de otros productos en almacenes no esp',\n",
              "        'Comercio al por menor de productos farmacéuticos y medicinal',\n",
              "        'Comercio al por menor de productos textiles, prendas de vest',\n",
              "        'Comercio al por menor de textiles',\n",
              "        'Comercio al por menor en almacenes no especializados',\n",
              "        'Comercio al por menor en puestos de venta y mercados de alim',\n",
              "        'Comercio al por menor en puestos de venta y mercados de artí',\n",
              "        'Comercio al por menor en puestos de venta y mercados de otra',\n",
              "        'Construcción de buques y estructuras flotantes',\n",
              "        'Construcción de infraestructura de servicios',\n",
              "        'Construcción de infraestructura de transporte',\n",
              "        'Construcción de obras de arquitectura',\n",
              "        'Construcción de otros proyectos de ingeniería civil', 'Correo',\n",
              "        'Corte, tallado y acabado de la piedra',\n",
              "        'Cría de aves de corral y producción de huevos',\n",
              "        'Cría de caballos y otros equinos', 'Cría de ganado porcino',\n",
              "        'Cría de ganado vacuno y búfalos', 'Cría de otros animales',\n",
              "        'Cría de ovejas y cabras', 'Cultivo de arroz',\n",
              "        'Cultivo de caña de azúcar',\n",
              "        'Cultivo de cereales (excepto arroz), legumbres y semillas ol',\n",
              "        'Cultivo de especias y plantas aromáticas, medicinales y farm',\n",
              "        'Cultivo de frutas con pepita y con hueso',\n",
              "        'Cultivo de frutas cítricas',\n",
              "        'Cultivo de frutas oleaginosas (ej. coco, aceitunas, etc.)',\n",
              "        'Cultivo de frutas tropicales y subtropicales',\n",
              "        'Cultivo de otras frutas y frutos secos arbóreos y de arbusto',\n",
              "        'Cultivo de otros productos no perennes', 'Cultivo de tabaco',\n",
              "        'Cultivo de uvas',\n",
              "        'Cultivos de hortalizas de hojas y/o que dan frutos, raíces y',\n",
              "        'Cultivos de otros productos perennes',\n",
              "        'Curtido y adobo de cueros; adobo y teñido de pieles',\n",
              "        'Demoliciones', 'Depósito y almacenaje',\n",
              "        'Destilación, rectificación y mezcla de bebidas alcohólicas',\n",
              "        'Difusión de radio', 'Educación cultural',\n",
              "        'Educación deportiva y recreativa',\n",
              "        'Elaboración de aceites y grasas de origen vegetal y animal',\n",
              "        'Elaboración de alimentos preparados para animales',\n",
              "        'Elaboración de almidones y productos elaborados del almidón',\n",
              "        'Elaboración de azúcar',\n",
              "        'Elaboración de bebidas malteadas y de malta',\n",
              "        'Elaboración de bebidas no alcohólicas',\n",
              "        'Elaboración de cacao, chocolate y confites',\n",
              "        'Elaboración de comidas y platos preparados',\n",
              "        'Elaboración de fiambres y chacinados',\n",
              "        'Elaboración de otros productos alimenticios',\n",
              "        'Elaboración de pastas, fideos',\n",
              "        'Elaboración de productos de molinería',\n",
              "        'Elaboración de productos de panadería',\n",
              "        'Elaboración de productos de tabaco',\n",
              "        'Elaboración de productos lácteos', 'Elaboración de vinos',\n",
              "        'Ensayos y análisis técnicos', 'Enseñanza pre primaria y primaria',\n",
              "        'Enseñanza secundaria de formación general',\n",
              "        'Enseñanza secundaria de formación técnica y profesional',\n",
              "        'Enseñanza superior', 'Evaluación de riesgos y daños',\n",
              "        'Excavación y movimiento de suelo',\n",
              "        'Explotación agropecuaria mixta',\n",
              "        'Explotación de otras minas y canteras n.c.p.',\n",
              "        'Extracción de arena, arcilla, canto rodado, tierra y conchil',\n",
              "        'Extracción de madera',\n",
              "        'Extracción de otros minerales metalíferos no ferrosos n.c.p.',\n",
              "        'Extracción de petróleo crudo', 'Extracción de rocas ornamentales',\n",
              "        'Extracción de yeso y de otros tipos de piedras en canteras',\n",
              "        'Extracción, estrujado y quebrado de piedra caliza. Caleras',\n",
              "        'Fabricación de abonos y compuestos de nitrógeno',\n",
              "        'Fabricación de aeronaves, naves espaciales y de maquinaria c',\n",
              "        'Fabricación de aparatos de uso doméstico',\n",
              "        'Fabricación de armas y municiones',\n",
              "        'Fabricación de artículos confeccionados con materiales texti',\n",
              "        'Fabricación de artículos de cuchillería, herramientas de man',\n",
              "        'Fabricación de artículos de deporte',\n",
              "        'Fabricación de artículos de hormigón, de cemento y de yeso',\n",
              "        'Fabricación de artículos de piel',\n",
              "        'Fabricación de baterías y acumuladores',\n",
              "        'Fabricación de bicicletas y sillas de ruedas para inválidos',\n",
              "        'Fabricación de bombas, compresores, grifos y válvulas',\n",
              "        'Fabricación de cables de fibra óptica', 'Fabricación de calzado',\n",
              "        'Fabricación de carrocerías para vehículos automotores',\n",
              "        'Fabricación de cemento, cal y yeso',\n",
              "        'Fabricación de cojinetes, engranajes, trenes de engranajes y',\n",
              "        'Fabricación de computadoras y equipo periférico',\n",
              "        'Fabricación de cubiertas y cámaras de caucho',\n",
              "        'Fabricación de cuerdas, cordeles, bramantes y redes',\n",
              "        'Fabricación de dispositivos de cableado',\n",
              "        'Fabricación de equipo de elevación y manipulación',\n",
              "        'Fabricación de equipos de iluminación eléctricos',\n",
              "        'Fabricación de equipos radiológicos, electromédicos y electr',\n",
              "        'Fabricación de herramientas manuales',\n",
              "        'Fabricación de hojas de madera para enchapado y paneles a ba',\n",
              "        'Fabricación de instrumentos musicales',\n",
              "        'Fabricación de instrumentos y suministros médicos y dentales',\n",
              "        'Fabricación de instrumentos ópticos y equipo fotográfico',\n",
              "        'Fabricación de jabones y detergentes, preparados para limpia',\n",
              "        'Fabricación de joyas de imitación y artículos conexos',\n",
              "        'Fabricación de joyas y artículos conexos',\n",
              "        'Fabricación de juegos y juguetes',\n",
              "        'Fabricación de los productos de la refinación del petróleo',\n",
              "        'Fabricación de maletas, bolsos de mano y artículos de talaba',\n",
              "        'Fabricación de maquinaria agropecuaria y forestal',\n",
              "        'Fabricación de maquinaria para la elaboración de alimentos,',\n",
              "        'Fabricación de maquinaria y equipo de oficina',\n",
              "        'Fabricación de maquinarias para trabajar metales y máquinas',\n",
              "        'Fabricación de materiales de arcilla para la construcción',\n",
              "        'Fabricación de motores eléctricos, generadores, etc.',\n",
              "        'Fabricación de motores y turbinas', 'Fabricación de muebles',\n",
              "        'Fabricación de otros artículos del papel y cartón n.c.p.',\n",
              "        'Fabricación de otros cables eléctricos y electrónicos',\n",
              "        'Fabricación de otros equipos eléctricos',\n",
              "        'Fabricación de otros productos de caucho',\n",
              "        'Fabricación de otros productos de cerámica y porcelana',\n",
              "        'Fabricación de otros productos de madera',\n",
              "        'Fabricación de otros productos elaborados de metal n.c.p.',\n",
              "        'Fabricación de otros productos minerales no metálicos n.c.p.',\n",
              "        'Fabricación de otros productos químicos n.c.p.',\n",
              "        'Fabricación de otros productos textiles n.c.p.',\n",
              "        'Fabricación de otros tipos de maquinaria de uso especial',\n",
              "        'Fabricación de otros tipos de maquinaria de uso general',\n",
              "        'Fabricación de partes y accesorios para motores de vehículos',\n",
              "        'Fabricación de partes y piezas de carpintería para edificios',\n",
              "        'Fabricación de pasta de celulosa, papel y cartón',\n",
              "        'Fabricación de pesticidas y de otros productos químicos de u',\n",
              "        'Fabricación de pinturas, barnices y productos de revestimien',\n",
              "        'Fabricación de plásticos y de caucho sintético en formas pri',\n",
              "        'Fabricación de prendas de tejidos de punto y ganchillo',\n",
              "        'Fabricación de prendas de vestir, excepto prendas de piel',\n",
              "        'Fabricación de productos de horno de coque',\n",
              "        'Fabricación de productos de plástico',\n",
              "        'Fabricación de productos electrónicos',\n",
              "        'Fabricación de productos farmacéuticos',\n",
              "        'Fabricación de productos metálicos para uso estructural',\n",
              "        'Fabricación de productos primarios de metales preciosos y me',\n",
              "        'Fabricación de productos refractarios',\n",
              "        'Fabricación de recipientes de madera',\n",
              "        'Fabricación de sustancias químicas básicas y biocombustibles',\n",
              "        'Fabricación de tanques, depósitos y recipientes de metal',\n",
              "        'Fabricación de tejidos y tela de punto (Crochet o Ganchillo)',\n",
              "        'Fabricación de vehículos automotores',\n",
              "        'Fabricación de vidrio y de productos de vidrio',\n",
              "        'Fabricación del gas; distribución de combustibles gaseosos p',\n",
              "        'Fabricación del papel y cartón ondulado y de envases de pape',\n",
              "        'Fabricación, tratamiento y revestimiento de metales',\n",
              "        'Fideicomisos, fondos y otras fuentes de financiamiento',\n",
              "        'Fondos de pensión',\n",
              "        'Forestación y otras actividades relacionadas a la forestació',\n",
              "        'Forja, prensado, estampado y laminado de metales; pulvimetal',\n",
              "        'Fotocopiado, preparación de documentos y otro apoyo especial',\n",
              "        'Fundición de hierro y acero y de metales no ferrosos',\n",
              "        'Funerales y actividades conexas',\n",
              "        'Industrias básicas de hierro y acero',\n",
              "        'Instalaciones de residencias con cuidado de enfermeros',\n",
              "        'Instalaciones sanitarias, de calefacción y de aire acondicio',\n",
              "        'Instalación de maquinaria y equipo industrial',\n",
              "        'Instalación eléctrica y de comunicaciones',\n",
              "        'Instituciones dedicadas al cuidado del adulto mayor y discap',\n",
              "        'Instituciones dedicadas al tratamiento del retraso mental',\n",
              "        'Investigación de mercados y encuestas de opinión públicas',\n",
              "        'Investigación y desarrollo en el campo de las ciencias natur',\n",
              "        'Investigación y desarrollo en el campo de las ciencias socia',\n",
              "        'Lavado y secado, limpieza de prendas de tela y de piel',\n",
              "        'Limpieza general de edificios', 'Manipulación de carga',\n",
              "        'Mantenimiento y reparación de vehículos automotores',\n",
              "        'Matanza de ganado y otros animales',\n",
              "        'Matanza, preparación y conservación de pollos y gallinas',\n",
              "        'Organización de convenciones y eventos comerciales',\n",
              "        'Otras actividades auxiliares a las actividades de servicios',\n",
              "        'Otras actividades complementarias de transporte',\n",
              "        'Otras actividades con bienes propios o arrendados',\n",
              "        'Otras actividades de alojamiento',\n",
              "        'Otras actividades de diversión y esparcimiento n.c.p.',\n",
              "        'Otras actividades de limpieza industrial y de edificios',\n",
              "        'Otras actividades de servicio de apoyo a los negocios, n.c.p',\n",
              "        'Otras actividades de servicios',\n",
              "        'Otras actividades de tecnología de información y servicio de',\n",
              "        'Otras actividades de trabajo social sin alojamiento, n.c.p.',\n",
              "        'Otras actividades del servicio de alimentación',\n",
              "        'Otras actividades deportivas',\n",
              "        'Otras actividades especializadas de la construcción',\n",
              "        'Otras actividades financieras, excepto seguros y de fondos d',\n",
              "        'Otras actividades profesionales, científicas y técnicas n.c.',\n",
              "        'Otras actividades relacionadas con la salud humana',\n",
              "        'Otras industrias manufactureras n.c.p.',\n",
              "        'Otras instituciones residenciales de cuidado',\n",
              "        'Otras publicaciones',\n",
              "        'Otro comercio al por menor de productos nuevos',\n",
              "        'Otro suministro de recursos humanos',\n",
              "        'Otro tipo de instalaciones de construcción',\n",
              "        'Otros alojamientos de corto plazo',\n",
              "        'Otros servicios de información n.c.p.',\n",
              "        'Otros servicios de reserva y actividades relacionadas',\n",
              "        'Otros tipos de comercio al por menor no realizada en almacen',\n",
              "        'Otros tipos de crédito', 'Otros tipos de enseñanza',\n",
              "        'Otros tipos de intermediación monetaria',\n",
              "        'Otros transportes terrestres de pasajeros',\n",
              "        'Parques de caravanas, parques de remolques, campamentos',\n",
              "        'Pesca de agua dulce', 'Pesca marítima',\n",
              "        'Pintado y empapelado de edificios', 'Portales Web',\n",
              "        'Predios rurales', 'Preparación e hilandería de fibras textiles',\n",
              "        'Procesamiento de datos, hospedaje y actividades conexas',\n",
              "        'Procesamiento de semillas para la propagación',\n",
              "        'Procesamiento y conservación de frutas y vegetales',\n",
              "        'Procesamiento y conservación de pescados, crustáceos y molus',\n",
              "        'Producción, transmisión y distribución de energía eléctrica',\n",
              "        'Programación y actividades de transmisión de televisión',\n",
              "        'Propagación de plantas', 'Publicación de libros',\n",
              "        'Publicación de periódicos, diarios y revistas',\n",
              "        'Publicación de programas informáticos', 'Publicidad',\n",
              "        'Recolección de desechos no peligrosos',\n",
              "        'Recolección de desechos peligrosos',\n",
              "        'Recolección de productos forestales diferentes a la madera',\n",
              "        'Recolección y tratamiento de desechos',\n",
              "        'Recuperación de materiales',\n",
              "        'Regulación de las actividades de organismos que prestan serv',\n",
              "        'Regulación y facilitación de la actividad económica',\n",
              "        'Relaciones exteriores',\n",
              "        'Renta y Alquiler de equipo de recreo y deportivo',\n",
              "        'Renta y alquiler de vehículos automotores',\n",
              "        'Reparación de aparatos de consumo eléctrico',\n",
              "        'Reparación de aparatos domésticos y equipamiento de hogar y',\n",
              "        'Reparación de calzado y artículos de cuero',\n",
              "        'Reparación de computadoras y equipo periférico',\n",
              "        'Reparación de equipo de otro tipo',\n",
              "        'Reparación de equipo de transporte, excepto los vehículos au',\n",
              "        'Reparación de equipo electrónico y óptico',\n",
              "        'Reparación de equipo eléctrico',\n",
              "        'Reparación de equipos comunicacionales',\n",
              "        'Reparación de maquinaria',\n",
              "        'Reparación de muebles y accesorios para el hogar',\n",
              "        'Reparación de otros bienes personales y domésticos',\n",
              "        'Reparación de productos elaborados de metal',\n",
              "        'Reproducción de grabaciones',\n",
              "        'Restaurantes y otros servicios de comidas móviles',\n",
              "        'Seguros de vida', 'Seguros generales', 'Servicio de mensajería',\n",
              "        'Servicios de apoyo a la forestación',\n",
              "        'Servicios de apoyo educativo',\n",
              "        'Servicios relacionados con la impresión',\n",
              "        'Servicios sociales sin alojamiento para el adulto mayor y di',\n",
              "        'Suministro de vapor y aire acondicionado',\n",
              "        'Tejeduría de productos textiles', 'Telecomunicaciones',\n",
              "        'Transporte de carga por carretera',\n",
              "        'Transporte de carga por vía aérea',\n",
              "        'Transporte de carga por vía férrea',\n",
              "        'Transporte de pasajeros por vía aérea',\n",
              "        'Transporte de pasajeros por vía férrea',\n",
              "        'Transporte de pasajeros por vías de navegación interiores',\n",
              "        'Transporte marítimo y de cabotaje de carga',\n",
              "        'Transporte marítimo y de cabotaje de pasajero',\n",
              "        'Transporte por tuberías',\n",
              "        'Transporte terrestre de pasajeros del área urbana, suburbana',\n",
              "        'Tratamiento y eliminación de desechos no peligrosos',\n",
              "        'Tratamiento y eliminación de desechos peligrosos',\n",
              "        'Títulos de valor y contratos de corretaje de materias primas'],\n",
              "       dtype=object),\n",
              " array(['No', 'Sí'], dtype=object),\n",
              " array(['Asiste actualmente', 'No asistió', 'No hay dato', 'Sí, asistió'],\n",
              "       dtype=object),\n",
              " array(['Asiste actualmente', 'No asistió', 'No hay dato', 'Sí, asistió'],\n",
              "       dtype=object),\n",
              " array(['Asiste actualmente', 'No asistió', 'No hay dato', 'Sí, asistió'],\n",
              "       dtype=object),\n",
              " array(['Asiste actualmente', 'No asistió', 'No hay dato', 'Sí, asistió'],\n",
              "       dtype=object),\n",
              " array(['Asiste actualmente', 'No asistió', 'No hay dato', 'Sí, asistió'],\n",
              "       dtype=object),\n",
              " array(['Asiste actualmente', 'No asistió', 'No hay dato', 'Sí, asistió'],\n",
              "       dtype=object),\n",
              " array(['Asiste actualmente', 'No asistió', 'No hay dato', 'Sin dato',\n",
              "        'Sí, asistió'], dtype=object),\n",
              " array(['Asiste actualmente', 'No asistió', 'No hay dato', 'Sí, asistió'],\n",
              "       dtype=object),\n",
              " array(['Cuñado/a', 'Esposo/a o compañero/a', 'Hermano/a',\n",
              "        'Hijo/a de ambos', 'Hijo/a solo del esposo/a compañero/a',\n",
              "        'Hijo/a solo del jefe/a', 'Jefe/a de hogar', 'Nieto/a',\n",
              "        'Otro no pariente', 'Otro pariente', 'Padre/madre',\n",
              "        'Servicio doméstico o familiar del mismo', 'Suegro/a',\n",
              "        'Yerno/nuera'], dtype=object),\n",
              " array([0, 1, 2, 3, 4, 5, 6, 7, 8, 9, 10, 11, 12, 13, 15, 16], dtype=object),\n",
              " array([Interval(0.0, 5000.0, closed='right'),\n",
              "        Interval(5000.0, 10000.0, closed='right'),\n",
              "        Interval(10000.0, 30000.0, closed='right'),\n",
              "        Interval(30000.0, 50000.0, closed='right'),\n",
              "        Interval(50000.0, 100000.0, closed='right'),\n",
              "        Interval(100000.0, inf, closed='right'), nan], dtype=object),\n",
              " array([Interval(0.0, 10.0, closed='right'),\n",
              "        Interval(10.0, 15.0, closed='right'),\n",
              "        Interval(15.0, 20.0, closed='right'),\n",
              "        Interval(20.0, 30.0, closed='right'),\n",
              "        Interval(30.0, 40.0, closed='right'),\n",
              "        Interval(40.0, 50.0, closed='right'),\n",
              "        Interval(50.0, 60.0, closed='right'),\n",
              "        Interval(60.0, 70.0, closed='right'),\n",
              "        Interval(70.0, inf, closed='right'), nan], dtype=object)]"
            ]
          },
          "metadata": {},
          "execution_count": 16
        }
      ]
    },
    {
      "cell_type": "markdown",
      "metadata": {
        "id": "4WNKcjI3M1bg"
      },
      "source": [
        "### Dividimos los datos en un 30% de test y 70% de entrenamiento"
      ]
    },
    {
      "cell_type": "code",
      "metadata": {
        "id": "ShFudTmNM1bh"
      },
      "source": [
        "from sklearn.model_selection import train_test_split \n",
        "\n",
        "X_train, X_test, y_train, y_test = train_test_split(X, y, test_size=0.30, random_state=42) \n",
        "\n"
      ],
      "execution_count": 17,
      "outputs": []
    },
    {
      "cell_type": "code",
      "metadata": {
        "colab": {
          "base_uri": "https://localhost:8080/"
        },
        "id": "ZV5LPElaM1bh",
        "outputId": "08dd6e24-e28a-4ce8-9097-4b9f145aba6e"
      },
      "source": [
        "print(X_train.shape, y_train.shape)\n",
        "print(X_test.shape, y_test.shape)\n",
        "\n"
      ],
      "execution_count": 18,
      "outputs": [
        {
          "output_type": "stream",
          "name": "stdout",
          "text": [
            "(75509, 477) (75509,)\n",
            "(32362, 477) (32362,)\n"
          ]
        }
      ]
    },
    {
      "cell_type": "markdown",
      "metadata": {
        "id": "t3yhULSwM1bi"
      },
      "source": [
        "# DEFINIMOS ALGORITMO DE REGRESIÓN LOGISTICA"
      ]
    },
    {
      "cell_type": "code",
      "metadata": {
        "id": "VA9pehfmM1bj"
      },
      "source": [
        "from sklearn.linear_model import LogisticRegression\n",
        "from sklearn.model_selection import cross_val_score\n",
        "\n",
        "logistic_reg = LogisticRegression(max_iter=20000)\n",
        "\n",
        "logistic_reg.fit(X_train, y_train)\n",
        "\n",
        "predictions = logistic_reg.predict(X_test)\n",
        "\n"
      ],
      "execution_count": 19,
      "outputs": []
    },
    {
      "cell_type": "markdown",
      "metadata": {
        "id": "-HQ7bvlwHVfU"
      },
      "source": [
        "### VALOR DE CROSS VALIDATION PARA CADA FOLD"
      ]
    },
    {
      "cell_type": "code",
      "metadata": {
        "colab": {
          "base_uri": "https://localhost:8080/"
        },
        "id": "-OqPQoduHVfU",
        "outputId": "c1a54658-284a-41fb-c68a-44babe04367a"
      },
      "source": [
        "scores = cross_val_score(logistic_reg, X, y, cv=10)\n",
        "\n",
        "scores"
      ],
      "execution_count": 20,
      "outputs": [
        {
          "output_type": "execute_result",
          "data": {
            "text/plain": [
              "array([0.88060808, 0.88068972, 0.88152406, 0.878094  , 0.88087513,\n",
              "       0.88393437, 0.88189487, 0.88004079, 0.88050431, 0.88133865])"
            ]
          },
          "metadata": {},
          "execution_count": 20
        }
      ]
    },
    {
      "cell_type": "code",
      "metadata": {
        "colab": {
          "base_uri": "https://localhost:8080/"
        },
        "id": "Sk2eF2hMM1bj",
        "outputId": "d029aa10-39ba-4fc0-90d6-965fa5bdb206"
      },
      "source": [
        "print('Promedio de cross_validation ', round(scores.mean(),2))\n",
        "print('Score en test ', round(logistic_reg.score(X_test, y_test),2))\n",
        "print('Score en train ', round(logistic_reg.score(X_train, y_train),2))\n",
        "\n"
      ],
      "execution_count": 21,
      "outputs": [
        {
          "output_type": "stream",
          "name": "stdout",
          "text": [
            "Promedio de cross_validation  0.88\n",
            "Score en test  0.88\n",
            "Score en train  0.88\n"
          ]
        }
      ]
    },
    {
      "cell_type": "code",
      "metadata": {
        "colab": {
          "base_uri": "https://localhost:8080/"
        },
        "id": "FzF5F8XuM1bl",
        "outputId": "0adcce09-cfa8-4f43-fc2c-5933e7622cd3"
      },
      "source": [
        "import matplotlib.pyplot as plt\n",
        "from sklearn.metrics import confusion_matrix\n",
        "\n",
        "print(confusion_matrix(y_test, predictions))\n",
        "\n"
      ],
      "execution_count": 22,
      "outputs": [
        {
          "output_type": "stream",
          "name": "stdout",
          "text": [
            "[[    7     0    33   109     0    47     1    32     0     0     0]\n",
            " [    1     0    29     7     8     1     0    23     0     0     0]\n",
            " [    3     0   342   159    91    53     9   334     1     0     0]\n",
            " [    0     0    27  2073     3     0     2     0     0   425     0]\n",
            " [    0     0    19     1  4494     2    95   127     0     0     0]\n",
            " [   19     0   110     0    64   112    18    77     0     4     0]\n",
            " [    0     0    41    21   854    18   229   127     0    13     0]\n",
            " [    5     0   111     0   426    32    41  1157     0     1     0]\n",
            " [    0     0    10     2    82     0     3    40     0     0     0]\n",
            " [    0     0     0    31     0     1     0     0     0  5383     0]\n",
            " [    0     0     0     0     0     0     0     0     0     0 14772]]\n"
          ]
        }
      ]
    },
    {
      "cell_type": "markdown",
      "metadata": {
        "id": "ypMnIojSM1bl"
      },
      "source": [
        "### INVESTIGAMOS LA EFECTIVIDAD DEL MODELO SOBRE LOS DATOS"
      ]
    },
    {
      "cell_type": "code",
      "metadata": {
        "colab": {
          "base_uri": "https://localhost:8080/"
        },
        "id": "1wgaRZ6BM1bm",
        "outputId": "6458ad4f-3ee9-4527-bd6e-de53e859b050"
      },
      "source": [
        "from sklearn.metrics import accuracy_score\n",
        "\n",
        "#Prediccion en Train\n",
        "y_train_pred = logistic_reg.predict(X_train)\n",
        "\n",
        "#Prediccion en Test\n",
        "y_test_pred = logistic_reg.predict(X_test)\n",
        "\n",
        "#Calculo el accuracy en Train\n",
        "train_accuracy = accuracy_score(y_train, y_train_pred)\n",
        "\n",
        "#Calculo el accuracy en Test\n",
        "test_accuracy = accuracy_score(y_test, y_test_pred)\n",
        "\n",
        "print('% de aciertos sobre el set de entrenamiento:', train_accuracy)\n",
        "print('% de aciertos sobre el set de evaluación:',test_accuracy)\n",
        "\n"
      ],
      "execution_count": 23,
      "outputs": [
        {
          "output_type": "stream",
          "name": "stdout",
          "text": [
            "% de aciertos sobre el set de entrenamiento: 0.8818286561866797\n",
            "% de aciertos sobre el set de evaluación: 0.8827946356838267\n"
          ]
        }
      ]
    },
    {
      "cell_type": "markdown",
      "metadata": {
        "id": "ACeJF5NUM1bl"
      },
      "source": [
        "### DEFINIMOS UNA PREDICCIÓN Y LA APLICAMOS SOBRE EL MODELO"
      ]
    },
    {
      "cell_type": "code",
      "metadata": {
        "colab": {
          "base_uri": "https://localhost:8080/"
        },
        "id": "c5PlQMpUM1bl",
        "outputId": "50fb9c24-40cc-4f75-8a07-38237d62e50f"
      },
      "source": [
        "prediction = X.toarray()\n",
        "\n",
        "prediction = prediction[1000].reshape(1, -1)\n",
        "print(logistic_reg.predict(prediction))\n",
        "print(y_train[1000])\n"
      ],
      "execution_count": 24,
      "outputs": [
        {
          "output_type": "stream",
          "name": "stdout",
          "text": [
            "['Inactivo: estudiante']\n",
            "Inactivo: estudiante\n"
          ]
        }
      ]
    },
    {
      "cell_type": "markdown",
      "metadata": {
        "id": "DYYlDLatM1bm"
      },
      "source": [
        "Determinamos la probabilidad de la predicción"
      ]
    },
    {
      "cell_type": "code",
      "metadata": {
        "colab": {
          "base_uri": "https://localhost:8080/"
        },
        "id": "XWzmupvzM1bm",
        "outputId": "d10941f9-72c6-41a7-bea2-aa277d67b947"
      },
      "source": [
        "probabilidades_prediccion = logistic_reg.predict_proba(prediction)\n",
        "probabilidades_prediccion[:,1]"
      ],
      "execution_count": 25,
      "outputs": [
        {
          "output_type": "execute_result",
          "data": {
            "text/plain": [
              "array([0.02261323])"
            ]
          },
          "metadata": {},
          "execution_count": 25
        }
      ]
    },
    {
      "cell_type": "markdown",
      "metadata": {
        "id": "5BPPzKUaHVfY"
      },
      "source": [
        "# REPETIMOS EL EJERCICIO CON EL MODELO DE DECISSION TREE"
      ]
    },
    {
      "cell_type": "code",
      "metadata": {
        "id": "ODF-6NeoHVfa"
      },
      "source": [
        "from sklearn.ensemble import RandomForestClassifier\n",
        "\n",
        "random_forest = RandomForestClassifier(100)\n",
        "\n",
        "random_forest.fit(X_train, y_train)\n",
        "\n",
        "forest_prediction = random_forest.predict(X_test)\n",
        "\n"
      ],
      "execution_count": 26,
      "outputs": []
    },
    {
      "cell_type": "code",
      "metadata": {
        "colab": {
          "base_uri": "https://localhost:8080/"
        },
        "id": "JH1bvMyMHVfa",
        "outputId": "afd3238d-eb87-47ed-9c65-392b47c9db4f"
      },
      "source": [
        "scores = cross_val_score(random_forest, X, y, cv=10)\n",
        "\n",
        "scores"
      ],
      "execution_count": 27,
      "outputs": [
        {
          "output_type": "execute_result",
          "data": {
            "text/plain": [
              "array([0.87476826, 0.87522017, 0.87336609, 0.87466395, 0.87503476,\n",
              "       0.87559099, 0.87382961, 0.87225364, 0.87623992, 0.87327338])"
            ]
          },
          "metadata": {},
          "execution_count": 27
        }
      ]
    },
    {
      "cell_type": "code",
      "metadata": {
        "colab": {
          "base_uri": "https://localhost:8080/"
        },
        "id": "EdbWI5glHVfa",
        "outputId": "d16a4422-c38d-44d6-fd6e-b7363a149fb5"
      },
      "source": [
        "print('Promedio de cross_validation ', round(scores.mean(),2))\n",
        "print('Score en test ', round(logistic_reg.score(X_test, y_test),2))\n",
        "print('Score en train ', round(logistic_reg.score(X_train, y_train),2))"
      ],
      "execution_count": 28,
      "outputs": [
        {
          "output_type": "stream",
          "name": "stdout",
          "text": [
            "Promedio de cross_validation  0.87\n",
            "Score en test  0.88\n",
            "Score en train  0.88\n"
          ]
        }
      ]
    },
    {
      "cell_type": "code",
      "metadata": {
        "colab": {
          "base_uri": "https://localhost:8080/"
        },
        "id": "KGw6_y5BHVfa",
        "outputId": "a8f35d8b-0292-495a-c150-c9eea4e1c0df"
      },
      "source": [
        "#Prediccion en Train\n",
        "y_train_pred = random_forest.predict(X_train)\n",
        "\n",
        "#Prediccion en Test\n",
        "y_test_pred = random_forest.predict(X_test)\n",
        "\n",
        "#Calculo el accuracy en Train\n",
        "train_accuracy = accuracy_score(y_train, y_train_pred)\n",
        "\n",
        "#Calculo el accuracy en Test\n",
        "test_accuracy = accuracy_score(y_test, y_test_pred)\n",
        "\n",
        "print('% de aciertos sobre el set de entrenamiento:', train_accuracy)\n",
        "print('% de aciertos sobre el set de evaluación:',test_accuracy)"
      ],
      "execution_count": 29,
      "outputs": [
        {
          "output_type": "stream",
          "name": "stdout",
          "text": [
            "% de aciertos sobre el set de entrenamiento: 0.9094280152034857\n",
            "% de aciertos sobre el set de evaluación: 0.87547123169149\n"
          ]
        }
      ]
    },
    {
      "cell_type": "code",
      "metadata": {
        "colab": {
          "base_uri": "https://localhost:8080/"
        },
        "id": "BAkm5UkiQlIn",
        "outputId": "2072a5e0-8ab9-4c0d-ffb2-c8eaa2e3fd47"
      },
      "source": [
        "print(random_forest.predict(prediction))\n",
        "print(y_train[1000])"
      ],
      "execution_count": 30,
      "outputs": [
        {
          "output_type": "stream",
          "name": "stdout",
          "text": [
            "['Inactivo: estudiante']\n",
            "Inactivo: estudiante\n"
          ]
        }
      ]
    },
    {
      "cell_type": "code",
      "metadata": {
        "id": "YEV__XjRQpcC"
      },
      "source": [
        ""
      ],
      "execution_count": null,
      "outputs": []
    }
  ]
}