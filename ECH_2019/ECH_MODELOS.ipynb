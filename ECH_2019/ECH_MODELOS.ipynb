{
  "nbformat": 4,
  "nbformat_minor": 0,
  "metadata": {
    "colab": {
      "name": "ECH_MODELOS.ipynb",
      "provenance": [],
      "collapsed_sections": []
    },
    "interpreter": {
      "hash": "d0fd3259a0ae7798bf28b9ed97f5d4d70eaf745bfa37ff3042465361f4141f08"
    },
    "kernelspec": {
      "display_name": "Python 3.9.7 64-bit ('pyenv': venv)",
      "language": "python",
      "name": "python3"
    },
    "language_info": {
      "codemirror_mode": {
        "name": "ipython",
        "version": 3
      },
      "file_extension": ".py",
      "mimetype": "text/x-python",
      "name": "python",
      "nbconvert_exporter": "python",
      "pygments_lexer": "ipython3",
      "version": "3.9.7"
    },
    "orig_nbformat": 4
  },
  "cells": [
    {
      "cell_type": "code",
      "metadata": {
        "colab": {
          "base_uri": "https://localhost:8080/"
        },
        "id": "4Fyym8rv1dDm",
        "outputId": "ca1d63b0-690a-4c97-88f2-37f831e38667"
      },
      "source": [
        "from google.colab import drive\n",
        "drive.mount('/content/drive')\n",
        "\n"
      ],
      "execution_count": 1,
      "outputs": [
        {
          "output_type": "stream",
          "name": "stdout",
          "text": [
            "Drive already mounted at /content/drive; to attempt to forcibly remount, call drive.mount(\"/content/drive\", force_remount=True).\n"
          ]
        }
      ]
    },
    {
      "cell_type": "code",
      "metadata": {
        "id": "93-fWQ16M1bJ"
      },
      "source": [
        "import pandas as pd\n",
        "import numpy as np\n",
        "import seaborn as sns\n",
        "\n",
        "sns.set(rc={'figure.figsize': (25, 10)}, font_scale=1.5)\n",
        "\n",
        "df = pd.read_csv('/content/drive/MyDrive/ECH_2019.csv')\n",
        "\n"
      ],
      "execution_count": 2,
      "outputs": []
    },
    {
      "cell_type": "code",
      "metadata": {
        "colab": {
          "base_uri": "https://localhost:8080/",
          "height": 608
        },
        "id": "nDVahJg0M1bM",
        "outputId": "82923be6-ed3b-4cf3-b965-caf67d0802c7"
      },
      "source": [
        "df.sample(5)"
      ],
      "execution_count": 3,
      "outputs": [
        {
          "output_type": "execute_result",
          "data": {
            "text/html": [
              "<div>\n",
              "<style scoped>\n",
              "    .dataframe tbody tr th:only-of-type {\n",
              "        vertical-align: middle;\n",
              "    }\n",
              "\n",
              "    .dataframe tbody tr th {\n",
              "        vertical-align: top;\n",
              "    }\n",
              "\n",
              "    .dataframe thead th {\n",
              "        text-align: right;\n",
              "    }\n",
              "</style>\n",
              "<table border=\"1\" class=\"dataframe\">\n",
              "  <thead>\n",
              "    <tr style=\"text-align: right;\">\n",
              "      <th></th>\n",
              "      <th>id_hogar</th>\n",
              "      <th>sexo</th>\n",
              "      <th>edad</th>\n",
              "      <th>ascendencia</th>\n",
              "      <th>parentesco</th>\n",
              "      <th>estado_laboral</th>\n",
              "      <th>sueldo</th>\n",
              "      <th>busca_otro_trabajo</th>\n",
              "      <th>actividad</th>\n",
              "      <th>asistencia alguna vez a enseñanza</th>\n",
              "      <th>edu preescolar</th>\n",
              "      <th>edu primaria</th>\n",
              "      <th>edu media</th>\n",
              "      <th>edu técnica</th>\n",
              "      <th>edu univ o simil</th>\n",
              "      <th>edu terciario no uni</th>\n",
              "      <th>edu posgrado</th>\n",
              "      <th>edu mag prof</th>\n",
              "    </tr>\n",
              "  </thead>\n",
              "  <tbody>\n",
              "    <tr>\n",
              "      <th>63794</th>\n",
              "      <td>2019034315</td>\n",
              "      <td>Mujer</td>\n",
              "      <td>56</td>\n",
              "      <td>Blanca</td>\n",
              "      <td>Jefe/a de hogar</td>\n",
              "      <td>Ocupados</td>\n",
              "      <td>12000</td>\n",
              "      <td>No</td>\n",
              "      <td>Actividades de los hogares en calidad de emple...</td>\n",
              "      <td>Sí</td>\n",
              "      <td>No asistió</td>\n",
              "      <td>Sí, asistió</td>\n",
              "      <td>No asistió</td>\n",
              "      <td>No asistió</td>\n",
              "      <td>0</td>\n",
              "      <td>0</td>\n",
              "      <td>0</td>\n",
              "      <td>0</td>\n",
              "    </tr>\n",
              "    <tr>\n",
              "      <th>47868</th>\n",
              "      <td>2019025725</td>\n",
              "      <td>Hombre</td>\n",
              "      <td>43</td>\n",
              "      <td>Blanca</td>\n",
              "      <td>Jefe/a de hogar</td>\n",
              "      <td>Ocupados</td>\n",
              "      <td>0</td>\n",
              "      <td>Sí</td>\n",
              "      <td>Otros tipos de comercio al por menor no realiz...</td>\n",
              "      <td>Sí</td>\n",
              "      <td>Sí, asistió</td>\n",
              "      <td>Sí, asistió</td>\n",
              "      <td>Sí, asistió</td>\n",
              "      <td>No asistió</td>\n",
              "      <td>0</td>\n",
              "      <td>0</td>\n",
              "      <td>0</td>\n",
              "      <td>0</td>\n",
              "    </tr>\n",
              "    <tr>\n",
              "      <th>93929</th>\n",
              "      <td>2019050539</td>\n",
              "      <td>Mujer</td>\n",
              "      <td>23</td>\n",
              "      <td>Blanca</td>\n",
              "      <td>Hijo/a solo del jefe/a</td>\n",
              "      <td>Ocupados</td>\n",
              "      <td>17000</td>\n",
              "      <td>Sí</td>\n",
              "      <td>Comercio al por mayor de textiles, prendas de ...</td>\n",
              "      <td>Sí</td>\n",
              "      <td>Sí, asistió</td>\n",
              "      <td>Sí, asistió</td>\n",
              "      <td>No asistió</td>\n",
              "      <td>Sí, asistió</td>\n",
              "      <td>0</td>\n",
              "      <td>0</td>\n",
              "      <td>0</td>\n",
              "      <td>0</td>\n",
              "    </tr>\n",
              "    <tr>\n",
              "      <th>64754</th>\n",
              "      <td>2019034848</td>\n",
              "      <td>Mujer</td>\n",
              "      <td>56</td>\n",
              "      <td>Blanca</td>\n",
              "      <td>Esposo/a o compañero/a</td>\n",
              "      <td>Ocupados</td>\n",
              "      <td>0</td>\n",
              "      <td>No</td>\n",
              "      <td>Comercio al por menor en almacenes no especial...</td>\n",
              "      <td>Sí</td>\n",
              "      <td>No asistió</td>\n",
              "      <td>Sí, asistió</td>\n",
              "      <td>0</td>\n",
              "      <td>No asistió</td>\n",
              "      <td>0</td>\n",
              "      <td>0</td>\n",
              "      <td>0</td>\n",
              "      <td>0</td>\n",
              "    </tr>\n",
              "    <tr>\n",
              "      <th>37602</th>\n",
              "      <td>2019020236</td>\n",
              "      <td>Hombre</td>\n",
              "      <td>43</td>\n",
              "      <td>Afro o negra</td>\n",
              "      <td>Jefe/a de hogar</td>\n",
              "      <td>Ocupados</td>\n",
              "      <td>70000</td>\n",
              "      <td>No</td>\n",
              "      <td>Actividades de clubes deportivos</td>\n",
              "      <td>Sí</td>\n",
              "      <td>No asistió</td>\n",
              "      <td>Sí, asistió</td>\n",
              "      <td>Sí, asistió</td>\n",
              "      <td>Sí, asistió</td>\n",
              "      <td>0</td>\n",
              "      <td>0</td>\n",
              "      <td>0</td>\n",
              "      <td>0</td>\n",
              "    </tr>\n",
              "  </tbody>\n",
              "</table>\n",
              "</div>"
            ],
            "text/plain": [
              "         id_hogar    sexo  edad  ... edu terciario no uni edu posgrado edu mag prof\n",
              "63794  2019034315   Mujer    56  ...                    0            0            0\n",
              "47868  2019025725  Hombre    43  ...                    0            0            0\n",
              "93929  2019050539   Mujer    23  ...                    0            0            0\n",
              "64754  2019034848   Mujer    56  ...                    0            0            0\n",
              "37602  2019020236  Hombre    43  ...                    0            0            0\n",
              "\n",
              "[5 rows x 18 columns]"
            ]
          },
          "metadata": {},
          "execution_count": 3
        }
      ]
    },
    {
      "cell_type": "code",
      "metadata": {
        "colab": {
          "base_uri": "https://localhost:8080/",
          "height": 504
        },
        "id": "LzFVyDkXM1bN",
        "outputId": "70b68bbb-d508-4b56-ec7f-220346de0440"
      },
      "source": [
        "no_data = {0: 'No hay dato', '0': 'No hay dato'}\n",
        "\n",
        "mask = df.columns.difference(['edad', 'sueldo', 'hijos'])\n",
        "\n",
        "df[mask] = df[mask].replace(no_data)\n",
        "\n",
        "df.sample(5)\n",
        "\n"
      ],
      "execution_count": 4,
      "outputs": [
        {
          "output_type": "execute_result",
          "data": {
            "text/html": [
              "<div>\n",
              "<style scoped>\n",
              "    .dataframe tbody tr th:only-of-type {\n",
              "        vertical-align: middle;\n",
              "    }\n",
              "\n",
              "    .dataframe tbody tr th {\n",
              "        vertical-align: top;\n",
              "    }\n",
              "\n",
              "    .dataframe thead th {\n",
              "        text-align: right;\n",
              "    }\n",
              "</style>\n",
              "<table border=\"1\" class=\"dataframe\">\n",
              "  <thead>\n",
              "    <tr style=\"text-align: right;\">\n",
              "      <th></th>\n",
              "      <th>id_hogar</th>\n",
              "      <th>sexo</th>\n",
              "      <th>edad</th>\n",
              "      <th>ascendencia</th>\n",
              "      <th>parentesco</th>\n",
              "      <th>estado_laboral</th>\n",
              "      <th>sueldo</th>\n",
              "      <th>busca_otro_trabajo</th>\n",
              "      <th>actividad</th>\n",
              "      <th>asistencia alguna vez a enseñanza</th>\n",
              "      <th>edu preescolar</th>\n",
              "      <th>edu primaria</th>\n",
              "      <th>edu media</th>\n",
              "      <th>edu técnica</th>\n",
              "      <th>edu univ o simil</th>\n",
              "      <th>edu terciario no uni</th>\n",
              "      <th>edu posgrado</th>\n",
              "      <th>edu mag prof</th>\n",
              "    </tr>\n",
              "  </thead>\n",
              "  <tbody>\n",
              "    <tr>\n",
              "      <th>92656</th>\n",
              "      <td>2019049878</td>\n",
              "      <td>Mujer</td>\n",
              "      <td>82</td>\n",
              "      <td>Blanca</td>\n",
              "      <td>Jefe/a de hogar</td>\n",
              "      <td>Inactivo: pensionista</td>\n",
              "      <td>0</td>\n",
              "      <td>No hay dato</td>\n",
              "      <td>.</td>\n",
              "      <td>Sí</td>\n",
              "      <td>No asistió</td>\n",
              "      <td>Sí, asistió</td>\n",
              "      <td>No hay dato</td>\n",
              "      <td>No asistió</td>\n",
              "      <td>No hay dato</td>\n",
              "      <td>No hay dato</td>\n",
              "      <td>No hay dato</td>\n",
              "      <td>No hay dato</td>\n",
              "    </tr>\n",
              "    <tr>\n",
              "      <th>47264</th>\n",
              "      <td>2019025422</td>\n",
              "      <td>Mujer</td>\n",
              "      <td>36</td>\n",
              "      <td>Blanca</td>\n",
              "      <td>Hijo/a de ambos</td>\n",
              "      <td>Ocupados</td>\n",
              "      <td>30000</td>\n",
              "      <td>No</td>\n",
              "      <td>Actividades de mantenimiento del orden público...</td>\n",
              "      <td>Sí</td>\n",
              "      <td>Sí, asistió</td>\n",
              "      <td>Sí, asistió</td>\n",
              "      <td>Sí, asistió</td>\n",
              "      <td>Sí, asistió</td>\n",
              "      <td>Sí, asistió</td>\n",
              "      <td>Sí, asistió</td>\n",
              "      <td>No asistió</td>\n",
              "      <td>No asistió</td>\n",
              "    </tr>\n",
              "    <tr>\n",
              "      <th>5099</th>\n",
              "      <td>2019002700</td>\n",
              "      <td>Hombre</td>\n",
              "      <td>62</td>\n",
              "      <td>Blanca</td>\n",
              "      <td>Jefe/a de hogar</td>\n",
              "      <td>Ocupados</td>\n",
              "      <td>25000</td>\n",
              "      <td>No</td>\n",
              "      <td>Actividades de la administración pública en ge...</td>\n",
              "      <td>Sí</td>\n",
              "      <td>No asistió</td>\n",
              "      <td>Sí, asistió</td>\n",
              "      <td>No asistió</td>\n",
              "      <td>No asistió</td>\n",
              "      <td>No hay dato</td>\n",
              "      <td>No hay dato</td>\n",
              "      <td>No hay dato</td>\n",
              "      <td>No hay dato</td>\n",
              "    </tr>\n",
              "    <tr>\n",
              "      <th>28394</th>\n",
              "      <td>2019015287</td>\n",
              "      <td>Mujer</td>\n",
              "      <td>55</td>\n",
              "      <td>Blanca</td>\n",
              "      <td>Esposo/a o compañero/a</td>\n",
              "      <td>Ocupados</td>\n",
              "      <td>14000</td>\n",
              "      <td>No</td>\n",
              "      <td>Actividades de los hogares en calidad de emple...</td>\n",
              "      <td>Sí</td>\n",
              "      <td>No asistió</td>\n",
              "      <td>Sí, asistió</td>\n",
              "      <td>Sí, asistió</td>\n",
              "      <td>No asistió</td>\n",
              "      <td>No hay dato</td>\n",
              "      <td>No hay dato</td>\n",
              "      <td>No hay dato</td>\n",
              "      <td>No hay dato</td>\n",
              "    </tr>\n",
              "    <tr>\n",
              "      <th>100471</th>\n",
              "      <td>2019054094</td>\n",
              "      <td>Mujer</td>\n",
              "      <td>65</td>\n",
              "      <td>Indígena</td>\n",
              "      <td>Jefe/a de hogar</td>\n",
              "      <td>Ocupados</td>\n",
              "      <td>0</td>\n",
              "      <td>No</td>\n",
              "      <td>Otros tipos de enseñanza</td>\n",
              "      <td>Sí</td>\n",
              "      <td>No asistió</td>\n",
              "      <td>Sí, asistió</td>\n",
              "      <td>Sí, asistió</td>\n",
              "      <td>No asistió</td>\n",
              "      <td>Sí, asistió</td>\n",
              "      <td>No asistió</td>\n",
              "      <td>No hay dato</td>\n",
              "      <td>Sí, asistió</td>\n",
              "    </tr>\n",
              "  </tbody>\n",
              "</table>\n",
              "</div>"
            ],
            "text/plain": [
              "          id_hogar    sexo  edad  ... edu terciario no uni edu posgrado edu mag prof\n",
              "92656   2019049878   Mujer    82  ...          No hay dato  No hay dato  No hay dato\n",
              "47264   2019025422   Mujer    36  ...          Sí, asistió   No asistió   No asistió\n",
              "5099    2019002700  Hombre    62  ...          No hay dato  No hay dato  No hay dato\n",
              "28394   2019015287   Mujer    55  ...          No hay dato  No hay dato  No hay dato\n",
              "100471  2019054094   Mujer    65  ...           No asistió  No hay dato  Sí, asistió\n",
              "\n",
              "[5 rows x 18 columns]"
            ]
          },
          "metadata": {},
          "execution_count": 4
        }
      ]
    },
    {
      "cell_type": "markdown",
      "metadata": {
        "id": "UDhMFaUMM1bR"
      },
      "source": [
        "Seleccionamos personas con edad suficiente para trabajar"
      ]
    },
    {
      "cell_type": "code",
      "metadata": {
        "id": "l3mwgnC9M1bS"
      },
      "source": [
        "# df = df[~df['estado_laboral'].str.contains('Menores de 14 años')]\n",
        "\n"
      ],
      "execution_count": 6,
      "outputs": []
    },
    {
      "cell_type": "markdown",
      "metadata": {
        "id": "0G9gI5uHM1bW"
      },
      "source": [
        "Creamos una columna que cuenta la cantidad de hijos por grupo familiar"
      ]
    },
    {
      "cell_type": "code",
      "metadata": {
        "id": "HpVFTH3NM1bY"
      },
      "source": [
        "df['hijos'] = (\n",
        "    df.groupby('id_hogar')['id_hogar'].transform('count') - 1\n",
        ")\n",
        "\n"
      ],
      "execution_count": 7,
      "outputs": []
    },
    {
      "cell_type": "markdown",
      "metadata": {
        "id": "SJ_llwPwM1bZ"
      },
      "source": [
        "# CATEGORIZAR NUMERICOS"
      ]
    },
    {
      "cell_type": "code",
      "metadata": {
        "id": "RvMwcDkpM1bZ"
      },
      "source": [
        "df['rango_sueldos'] = pd.cut(df['sueldo'], bins=[\n",
        "    0,\n",
        "    5000,\n",
        "    10000,\n",
        "    30000,\n",
        "    50000,\n",
        "    100000,\n",
        "    float('Inf'),\n",
        "    ]).astype('category')\n",
        "\n",
        "df['rango_edades'] = pd.cut(df['edad'], bins=[\n",
        "    0,\n",
        "    10,\n",
        "    15,\n",
        "    20,\n",
        "    30,\n",
        "    40,\n",
        "    50,\n",
        "    60,\n",
        "    70,\n",
        "    float('Inf'),\n",
        "    ]).astype('category')\n",
        "\n",
        "# labels=['0-5000', 'yyy', 'zzz']\n",
        "\n"
      ],
      "execution_count": 8,
      "outputs": []
    },
    {
      "cell_type": "markdown",
      "metadata": {
        "id": "5y30QCPZM1bb"
      },
      "source": [
        "### AJUSTANDO DATOS PARA ENTRENAR EL MODELO"
      ]
    },
    {
      "cell_type": "markdown",
      "metadata": {
        "id": "77Zc41CNM1bc"
      },
      "source": [
        "Primero encodificamos las variables categóricas"
      ]
    },
    {
      "cell_type": "markdown",
      "metadata": {
        "id": "i1PtSP8LM1bc"
      },
      "source": [
        "Eliminanos las columnas que no vamos a usar o que ya categorizamos"
      ]
    },
    {
      "cell_type": "code",
      "metadata": {
        "id": "jVBYMpglM1bf"
      },
      "source": [
        "df = df[[\n",
        "    'sexo',\n",
        "    'ascendencia',\n",
        "    'estado_laboral',\n",
        "    'busca_otro_trabajo',\n",
        "    'actividad',\n",
        "    'asistencia alguna vez a enseñanza',\n",
        "    'edu preescolar',\n",
        "    'edu primaria',\n",
        "    'edu media',\n",
        "    'edu técnica',\n",
        "    'edu univ o simil',\n",
        "    'edu terciario no uni',\n",
        "    'edu posgrado',\n",
        "    'edu mag prof',\n",
        "    'parentesco',\n",
        "    'hijos',\n",
        "    'rango_sueldos',\n",
        "    'rango_edades',\n",
        "    ]]\n",
        "\n"
      ],
      "execution_count": 12,
      "outputs": []
    },
    {
      "cell_type": "markdown",
      "metadata": {
        "id": "tr2CniL5M1bg"
      },
      "source": [
        "### DEFINIMOS LAS VARIABLES DEPENDIENTES E INDEPENDIENTES"
      ]
    },
    {
      "cell_type": "code",
      "metadata": {
        "colab": {
          "base_uri": "https://localhost:8080/"
        },
        "id": "Fw7aZaAIM1bg",
        "outputId": "19e47e69-6c54-4c0f-b51b-3b1f0d82ba33"
      },
      "source": [
        "# Feautures\n",
        "X = df.drop('estado_laboral', axis=1).to_numpy()\n",
        "y = df['estado_laboral']\n",
        "\n",
        "print('X shape', X.shape, '\\nY shape', y.shape)\n",
        "\n"
      ],
      "execution_count": 13,
      "outputs": [
        {
          "output_type": "stream",
          "name": "stdout",
          "text": [
            "X shape (107871, 17) \n",
            "Y shape (107871,)\n"
          ]
        }
      ]
    },
    {
      "cell_type": "code",
      "metadata": {
        "colab": {
          "base_uri": "https://localhost:8080/"
        },
        "id": "lrQOxYSWM1bg",
        "outputId": "91e310d4-9a0c-46e0-819f-72e6f58a7b5b"
      },
      "source": [
        "np.unique(y)\n",
        "\n"
      ],
      "execution_count": 14,
      "outputs": [
        {
          "output_type": "execute_result",
          "data": {
            "text/plain": [
              "array(['Desocupados buscan trabajo por primera vez',\n",
              "       'Desocupados en seguro de paro', 'Desocupados propiamente dichos',\n",
              "       'Inactivo: estudiante', 'Inactivo: jubilado', 'Inactivo: otro',\n",
              "       'Inactivo: pensionista',\n",
              "       'Inactivo: realiza los quehaceres del hogar', 'Inactivo: rentista',\n",
              "       'Menores de 14 años', 'Ocupados'], dtype=object)"
            ]
          },
          "metadata": {},
          "execution_count": 14
        }
      ]
    },
    {
      "cell_type": "code",
      "metadata": {
        "id": "VdOpqVADM1bc"
      },
      "source": [
        "from sklearn.preprocessing import OneHotEncoder\n",
        "\n",
        "one_hot = OneHotEncoder()\n",
        "\n",
        "X = one_hot.fit_transform(X)\n",
        "\n"
      ],
      "execution_count": 15,
      "outputs": []
    },
    {
      "cell_type": "markdown",
      "metadata": {
        "id": "4WNKcjI3M1bg"
      },
      "source": [
        "### Dividimos los datos en un 30% de test y 70% de entrenamiento"
      ]
    },
    {
      "cell_type": "code",
      "metadata": {
        "id": "ShFudTmNM1bh"
      },
      "source": [
        "from sklearn.model_selection import train_test_split \n",
        "\n",
        "X_train, X_test, y_train, y_test = train_test_split(X, y, test_size=0.30, random_state=42) \n",
        "\n"
      ],
      "execution_count": 17,
      "outputs": []
    },
    {
      "cell_type": "code",
      "metadata": {
        "colab": {
          "base_uri": "https://localhost:8080/"
        },
        "id": "ZV5LPElaM1bh",
        "outputId": "0580d57b-7ba5-4e3d-b092-3279020c42d0"
      },
      "source": [
        "print(X_train.shape, y_train.shape)\n",
        "print(X_test.shape, y_test.shape)\n",
        "\n"
      ],
      "execution_count": 18,
      "outputs": [
        {
          "output_type": "stream",
          "name": "stdout",
          "text": [
            "(75509, 477) (75509,)\n",
            "(32362, 477) (32362,)\n"
          ]
        }
      ]
    },
    {
      "cell_type": "markdown",
      "metadata": {
        "id": "t3yhULSwM1bi"
      },
      "source": [
        "# DEFINIMOS ALGORITMO DE REGRESIÓN LOGISTICA"
      ]
    },
    {
      "cell_type": "code",
      "metadata": {
        "id": "VA9pehfmM1bj"
      },
      "source": [
        "from sklearn.linear_model import LogisticRegression\n",
        "from sklearn.model_selection import cross_val_score\n",
        "\n",
        "logistic_reg = LogisticRegression(max_iter=20000)\n",
        "\n",
        "logistic_reg.fit(X_train, y_train)\n",
        "\n",
        "predictions = logistic_reg.predict(X_test)\n",
        "\n"
      ],
      "execution_count": 19,
      "outputs": []
    },
    {
      "cell_type": "markdown",
      "metadata": {
        "id": "-HQ7bvlwHVfU"
      },
      "source": [
        "### VALOR DE CROSS VALIDATION PARA CADA FOLD"
      ]
    },
    {
      "cell_type": "code",
      "metadata": {
        "colab": {
          "base_uri": "https://localhost:8080/"
        },
        "id": "-OqPQoduHVfU",
        "outputId": "db35f472-0208-47a5-e30b-3635349fcaac"
      },
      "source": [
        "scores = cross_val_score(logistic_reg, X, y, cv=10)\n",
        "\n",
        "scores\n",
        "\n"
      ],
      "execution_count": 20,
      "outputs": [
        {
          "output_type": "execute_result",
          "data": {
            "text/plain": [
              "array([0.88060808, 0.88068972, 0.88152406, 0.878094  , 0.88087513,\n",
              "       0.88393437, 0.88189487, 0.88004079, 0.88050431, 0.88133865])"
            ]
          },
          "metadata": {},
          "execution_count": 20
        }
      ]
    },
    {
      "cell_type": "code",
      "metadata": {
        "colab": {
          "base_uri": "https://localhost:8080/"
        },
        "id": "Sk2eF2hMM1bj",
        "outputId": "863ad0cc-ab75-4666-cb65-4154dfc74f8a"
      },
      "source": [
        "print('Promedio de cross_validation ', round(scores.mean(),2))\n",
        "print('Score en test ', round(logistic_reg.score(X_test, y_test),2))\n",
        "print('Score en train ', round(logistic_reg.score(X_train, y_train),2))\n",
        "\n"
      ],
      "execution_count": 21,
      "outputs": [
        {
          "output_type": "stream",
          "name": "stdout",
          "text": [
            "Promedio de cross_validation  0.88\n",
            "Score en test  0.88\n",
            "Score en train  0.88\n"
          ]
        }
      ]
    },
    {
      "cell_type": "code",
      "metadata": {
        "colab": {
          "base_uri": "https://localhost:8080/"
        },
        "id": "FzF5F8XuM1bl",
        "outputId": "9bbf1aa9-19a0-43ad-f33e-3deb24073919"
      },
      "source": [
        "import matplotlib.pyplot as plt\n",
        "from sklearn.metrics import confusion_matrix\n",
        "\n",
        "print(confusion_matrix(y_test, predictions))\n",
        "\n"
      ],
      "execution_count": 22,
      "outputs": [
        {
          "output_type": "stream",
          "name": "stdout",
          "text": [
            "[[    7     0    33   109     0    47     1    32     0     0     0]\n",
            " [    1     0    29     7     8     1     0    23     0     0     0]\n",
            " [    3     0   342   159    91    53     9   334     1     0     0]\n",
            " [    0     0    27  2073     3     0     2     0     0   425     0]\n",
            " [    0     0    19     1  4494     2    95   127     0     0     0]\n",
            " [   19     0   110     0    64   112    18    77     0     4     0]\n",
            " [    0     0    41    21   854    18   229   127     0    13     0]\n",
            " [    5     0   111     0   426    32    41  1157     0     1     0]\n",
            " [    0     0    10     2    82     0     3    40     0     0     0]\n",
            " [    0     0     0    31     0     1     0     0     0  5383     0]\n",
            " [    0     0     0     0     0     0     0     0     0     0 14772]]\n"
          ]
        }
      ]
    },
    {
      "cell_type": "markdown",
      "metadata": {
        "id": "ypMnIojSM1bl"
      },
      "source": [
        "### INVESTIGAMOS LA EFECTIVIDAD DEL MODELO SOBRE LOS DATOS"
      ]
    },
    {
      "cell_type": "code",
      "metadata": {
        "colab": {
          "base_uri": "https://localhost:8080/"
        },
        "id": "1wgaRZ6BM1bm",
        "outputId": "bf6c953d-8bb6-46f6-ff4d-12118f24df2d"
      },
      "source": [
        "from sklearn.metrics import accuracy_score\n",
        "\n",
        "#Prediccion en Train\n",
        "y_train_pred = logistic_reg.predict(X_train)\n",
        "\n",
        "#Prediccion en Test\n",
        "y_test_pred = logistic_reg.predict(X_test)\n",
        "\n",
        "#Calculo el accuracy en Train\n",
        "train_accuracy = accuracy_score(y_train, y_train_pred)\n",
        "\n",
        "#Calculo el accuracy en Test\n",
        "test_accuracy = accuracy_score(y_test, y_test_pred)\n",
        "\n",
        "print('% de aciertos sobre el set de entrenamiento:', train_accuracy)\n",
        "print('% de aciertos sobre el set de evaluación:',test_accuracy)\n",
        "\n"
      ],
      "execution_count": 23,
      "outputs": [
        {
          "output_type": "stream",
          "name": "stdout",
          "text": [
            "% de aciertos sobre el set de entrenamiento: 0.8818286561866797\n",
            "% de aciertos sobre el set de evaluación: 0.8827946356838267\n"
          ]
        }
      ]
    },
    {
      "cell_type": "markdown",
      "metadata": {
        "id": "ACeJF5NUM1bl"
      },
      "source": [
        "### DEFINIMOS UNA PREDICCIÓN Y LA APLICAMOS SOBRE EL MODELO"
      ]
    },
    {
      "cell_type": "code",
      "metadata": {
        "colab": {
          "base_uri": "https://localhost:8080/"
        },
        "id": "c5PlQMpUM1bl",
        "outputId": "642b111f-67aa-44c5-88f0-0fc866a7b011"
      },
      "source": [
        "prediction = X.toarray()\n",
        "\n",
        "prediction = prediction[1000].reshape(1, -1)\n",
        "print(logistic_reg.predict(prediction))\n",
        "print(y_train[1000])\n",
        "\n"
      ],
      "execution_count": 24,
      "outputs": [
        {
          "output_type": "stream",
          "name": "stdout",
          "text": [
            "['Inactivo: estudiante']\n",
            "Inactivo: estudiante\n"
          ]
        }
      ]
    },
    {
      "cell_type": "markdown",
      "metadata": {
        "id": "DYYlDLatM1bm"
      },
      "source": [
        "Determinamos la probabilidad de la predicción"
      ]
    },
    {
      "cell_type": "code",
      "metadata": {
        "colab": {
          "base_uri": "https://localhost:8080/"
        },
        "id": "XWzmupvzM1bm",
        "outputId": "484931c6-0342-418b-c573-7fe3034cbb16"
      },
      "source": [
        "probabilidades_prediccion = logistic_reg.predict_proba(prediction)\n",
        "probabilidades_prediccion[:,1]\n",
        "\n"
      ],
      "execution_count": 25,
      "outputs": [
        {
          "output_type": "execute_result",
          "data": {
            "text/plain": [
              "array([0.02261323])"
            ]
          },
          "metadata": {},
          "execution_count": 25
        }
      ]
    },
    {
      "cell_type": "markdown",
      "metadata": {
        "id": "5BPPzKUaHVfY"
      },
      "source": [
        "# REPETIMOS EL EJERCICIO CON EL MODELO DE DECISSION TREE"
      ]
    },
    {
      "cell_type": "code",
      "metadata": {
        "id": "ODF-6NeoHVfa"
      },
      "source": [
        "from sklearn.ensemble import RandomForestClassifier\n",
        "\n",
        "random_forest = RandomForestClassifier(100)\n",
        "\n",
        "random_forest.fit(X_train, y_train)\n",
        "\n",
        "forest_prediction = random_forest.predict(X_test)\n",
        "\n"
      ],
      "execution_count": 26,
      "outputs": []
    },
    {
      "cell_type": "code",
      "metadata": {
        "colab": {
          "base_uri": "https://localhost:8080/"
        },
        "id": "JH1bvMyMHVfa",
        "outputId": "62970946-0477-46d4-d144-eb9586ea3885"
      },
      "source": [
        "scores = cross_val_score(random_forest, X, y, cv=10)\n",
        "\n",
        "scores\n",
        "\n"
      ],
      "execution_count": 27,
      "outputs": [
        {
          "output_type": "execute_result",
          "data": {
            "text/plain": [
              "array([0.87458287, 0.87522017, 0.87318068, 0.87410772, 0.87475665,\n",
              "       0.87522017, 0.87420043, 0.87234634, 0.87568369, 0.87373691])"
            ]
          },
          "metadata": {},
          "execution_count": 27
        }
      ]
    },
    {
      "cell_type": "code",
      "metadata": {
        "colab": {
          "base_uri": "https://localhost:8080/"
        },
        "id": "EdbWI5glHVfa",
        "outputId": "95c55e65-d3ef-41f0-9dc9-8b57dc19770e"
      },
      "source": [
        "print('Promedio de cross_validation ', round(scores.mean(),2))\n",
        "print('Score en test ', round(logistic_reg.score(X_test, y_test),2))\n",
        "print('Score en train ', round(logistic_reg.score(X_train, y_train),2))\n",
        "\n"
      ],
      "execution_count": 28,
      "outputs": [
        {
          "output_type": "stream",
          "name": "stdout",
          "text": [
            "Promedio de cross_validation  0.87\n",
            "Score en test  0.88\n",
            "Score en train  0.88\n"
          ]
        }
      ]
    },
    {
      "cell_type": "code",
      "metadata": {
        "colab": {
          "base_uri": "https://localhost:8080/"
        },
        "id": "KGw6_y5BHVfa",
        "outputId": "61ed76f5-a738-4a73-c4d1-afb29c5ed0cd"
      },
      "source": [
        "#Prediccion en Train\n",
        "y_train_pred = random_forest.predict(X_train)\n",
        "\n",
        "#Prediccion en Test\n",
        "y_test_pred = random_forest.predict(X_test)\n",
        "\n",
        "#Calculo el accuracy en Train\n",
        "train_accuracy = accuracy_score(y_train, y_train_pred)\n",
        "\n",
        "#Calculo el accuracy en Test\n",
        "test_accuracy = accuracy_score(y_test, y_test_pred)\n",
        "\n",
        "print('% de aciertos sobre el set de entrenamiento:', train_accuracy)\n",
        "print('% de aciertos sobre el set de evaluación:',test_accuracy)\n",
        "\n"
      ],
      "execution_count": 29,
      "outputs": [
        {
          "output_type": "stream",
          "name": "stdout",
          "text": [
            "% de aciertos sobre el set de entrenamiento: 0.9094412586579084\n",
            "% de aciertos sobre el set de evaluación: 0.8751622273036277\n"
          ]
        }
      ]
    },
    {
      "cell_type": "code",
      "metadata": {
        "colab": {
          "base_uri": "https://localhost:8080/"
        },
        "id": "BAkm5UkiQlIn",
        "outputId": "a45bd17f-9344-4735-ca69-96726f0f0d19"
      },
      "source": [
        "print(random_forest.predict(prediction))\n",
        "print(y_train[1000])\n",
        "\n"
      ],
      "execution_count": 30,
      "outputs": [
        {
          "output_type": "stream",
          "name": "stdout",
          "text": [
            "['Inactivo: estudiante']\n",
            "Inactivo: estudiante\n"
          ]
        }
      ]
    },
    {
      "cell_type": "markdown",
      "metadata": {
        "id": "Ky2cJGu9T7nL"
      },
      "source": [
        "# REPETIMOS EL EJERCICIO CON EL MODELO DE SUPPORT VECTOR MACHINE"
      ]
    },
    {
      "cell_type": "code",
      "metadata": {
        "id": "YEV__XjRQpcC",
        "colab": {
          "base_uri": "https://localhost:8080/"
        },
        "outputId": "2f2434fd-82c6-4ef9-d2c6-281d964f6167"
      },
      "source": [
        "from sklearn import svm\n",
        "\n",
        "svm_model = svm.SVC(kernel='linear')\n",
        "\n",
        "svm_model.fit(X_train, y_train)\n",
        "\n",
        "svm_model.predict(X_test)\n",
        "\n"
      ],
      "execution_count": 31,
      "outputs": [
        {
          "output_type": "execute_result",
          "data": {
            "text/plain": [
              "array(['Menores de 14 años', 'Ocupados', 'Inactivo: jubilado', ...,\n",
              "       'Inactivo: jubilado', 'Ocupados',\n",
              "       'Inactivo: realiza los quehaceres del hogar'], dtype=object)"
            ]
          },
          "metadata": {},
          "execution_count": 31
        }
      ]
    },
    {
      "cell_type": "code",
      "metadata": {
        "colab": {
          "base_uri": "https://localhost:8080/"
        },
        "id": "3d6ifIH0UF1R",
        "outputId": "2134d4c9-54b1-4142-ea87-d596fdc4575d"
      },
      "source": [
        "scores = cross_val_score(svm_model, X, y, cv=10)\n",
        "\n",
        "scores\n",
        "\n"
      ],
      "execution_count": 32,
      "outputs": [
        {
          "output_type": "execute_result",
          "data": {
            "text/plain": [
              "array([0.87467557, 0.87512747, 0.87216093, 0.87438583, 0.87447854,\n",
              "       0.87661074, 0.87308798, 0.87262446, 0.87522017, 0.87382961])"
            ]
          },
          "metadata": {},
          "execution_count": 32
        }
      ]
    },
    {
      "cell_type": "code",
      "metadata": {
        "colab": {
          "base_uri": "https://localhost:8080/"
        },
        "id": "ucrRj2LuUJSa",
        "outputId": "c524447a-064f-4e7e-8fe7-5078f48c993f"
      },
      "source": [
        "print('Promedio de cross_validation ', round(scores.mean(),2))\n",
        "print('Score en test ', round(svm_model.score(X_test, y_test),2))\n",
        "print('Score en train ', round(svm_model.score(X_train, y_train),2))\n",
        "\n"
      ],
      "execution_count": 33,
      "outputs": [
        {
          "output_type": "stream",
          "name": "stdout",
          "text": [
            "Promedio de cross_validation  0.87\n",
            "Score en test  0.88\n",
            "Score en train  0.88\n"
          ]
        }
      ]
    },
    {
      "cell_type": "code",
      "metadata": {
        "colab": {
          "base_uri": "https://localhost:8080/"
        },
        "id": "U5Nb3qwiULYa",
        "outputId": "8e9ed6ce-aac6-44c1-ae11-9881222852b8"
      },
      "source": [
        "#Prediccion en Train\n",
        "y_train_pred = svm_model.predict(X_train)\n",
        "\n",
        "#Prediccion en Test\n",
        "y_test_pred = svm_model.predict(X_test)\n",
        "\n",
        "#Calculo el accuracy en Train\n",
        "train_accuracy = accuracy_score(y_train, y_train_pred)\n",
        "\n",
        "#Calculo el accuracy en Test\n",
        "test_accuracy = accuracy_score(y_test, y_test_pred)\n",
        "\n",
        "print('% de aciertos sobre el set de entrenamiento:', train_accuracy)\n",
        "print('% de aciertos sobre el set de evaluación:',test_accuracy)\n",
        "\n"
      ],
      "execution_count": 34,
      "outputs": [
        {
          "output_type": "stream",
          "name": "stdout",
          "text": [
            "% de aciertos sobre el set de entrenamiento: 0.8804778238355693\n",
            "% de aciertos sobre el set de evaluación: 0.8821457264693159\n"
          ]
        }
      ]
    },
    {
      "cell_type": "code",
      "metadata": {
        "colab": {
          "base_uri": "https://localhost:8080/"
        },
        "id": "zCxvSGMqUNjD",
        "outputId": "22bdf88e-1894-49d4-c4a5-db3408a7078d"
      },
      "source": [
        "print(svm_model.predict(prediction))\n",
        "print(y_train[1000])\n",
        "\n"
      ],
      "execution_count": 35,
      "outputs": [
        {
          "output_type": "stream",
          "name": "stdout",
          "text": [
            "['Inactivo: estudiante']\n",
            "Inactivo: estudiante\n"
          ]
        }
      ]
    },
    {
      "cell_type": "code",
      "metadata": {
        "id": "JPwfY9KjeorT"
      },
      "source": [
        ""
      ],
      "execution_count": null,
      "outputs": []
    }
  ]
}