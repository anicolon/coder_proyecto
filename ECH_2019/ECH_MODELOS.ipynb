{
  "cells": [
    {
      "cell_type": "code",
      "execution_count": null,
      "metadata": {
        "colab": {
          "base_uri": "https://localhost:8080/"
        },
        "id": "4Fyym8rv1dDm",
        "outputId": "ca1d63b0-690a-4c97-88f2-37f831e38667"
      },
      "outputs": [],
      "source": [
        "from google.colab import drive\n",
        "drive.mount('/content/drive')\n",
        "\n"
      ]
    },
    {
      "cell_type": "code",
      "execution_count": 1,
      "metadata": {
        "id": "93-fWQ16M1bJ"
      },
      "outputs": [],
      "source": [
        "import pandas as pd\n",
        "import numpy as np\n",
        "import seaborn as sns\n",
        "\n",
        "sns.set(rc={'figure.figsize': (25, 10)}, font_scale=1.5)\n",
        "\n",
        "# df = pd.read_csv('/content/drive/MyDrive/ECH_2019.csv')\n",
        "\n",
        "df = pd.read_csv('ECH_2019.csv')\n"
      ]
    },
    {
      "cell_type": "code",
      "execution_count": 2,
      "metadata": {
        "colab": {
          "base_uri": "https://localhost:8080/",
          "height": 608
        },
        "id": "nDVahJg0M1bM",
        "outputId": "82923be6-ed3b-4cf3-b965-caf67d0802c7"
      },
      "outputs": [
        {
          "data": {
            "text/html": [
              "<div>\n",
              "<style scoped>\n",
              "    .dataframe tbody tr th:only-of-type {\n",
              "        vertical-align: middle;\n",
              "    }\n",
              "\n",
              "    .dataframe tbody tr th {\n",
              "        vertical-align: top;\n",
              "    }\n",
              "\n",
              "    .dataframe thead th {\n",
              "        text-align: right;\n",
              "    }\n",
              "</style>\n",
              "<table border=\"1\" class=\"dataframe\">\n",
              "  <thead>\n",
              "    <tr style=\"text-align: right;\">\n",
              "      <th></th>\n",
              "      <th>id_hogar</th>\n",
              "      <th>sexo</th>\n",
              "      <th>edad</th>\n",
              "      <th>ascendencia</th>\n",
              "      <th>parentesco</th>\n",
              "      <th>estado_laboral</th>\n",
              "      <th>sueldo</th>\n",
              "      <th>busca_otro_trabajo</th>\n",
              "      <th>actividad</th>\n",
              "      <th>asistencia alguna vez a enseñanza</th>\n",
              "      <th>edu preescolar</th>\n",
              "      <th>edu primaria</th>\n",
              "      <th>edu media</th>\n",
              "      <th>edu técnica</th>\n",
              "      <th>edu univ o simil</th>\n",
              "      <th>edu terciario no uni</th>\n",
              "      <th>edu posgrado</th>\n",
              "      <th>edu mag prof</th>\n",
              "    </tr>\n",
              "  </thead>\n",
              "  <tbody>\n",
              "    <tr>\n",
              "      <th>87708</th>\n",
              "      <td>2019047215</td>\n",
              "      <td>Mujer</td>\n",
              "      <td>75</td>\n",
              "      <td>Blanca</td>\n",
              "      <td>Jefe/a de hogar</td>\n",
              "      <td>Inactivo: jubilado</td>\n",
              "      <td>0</td>\n",
              "      <td>0</td>\n",
              "      <td>.</td>\n",
              "      <td>Sí</td>\n",
              "      <td>No asistió</td>\n",
              "      <td>Sí, asistió</td>\n",
              "      <td>0</td>\n",
              "      <td>No asistió</td>\n",
              "      <td>0</td>\n",
              "      <td>0</td>\n",
              "      <td>0</td>\n",
              "      <td>0</td>\n",
              "    </tr>\n",
              "    <tr>\n",
              "      <th>76771</th>\n",
              "      <td>2019041449</td>\n",
              "      <td>Mujer</td>\n",
              "      <td>40</td>\n",
              "      <td>Blanca</td>\n",
              "      <td>Jefe/a de hogar</td>\n",
              "      <td>Inactivo: realiza los quehaceres del hogar</td>\n",
              "      <td>0</td>\n",
              "      <td>0</td>\n",
              "      <td>.</td>\n",
              "      <td>Sí</td>\n",
              "      <td>Sí, asistió</td>\n",
              "      <td>Sí, asistió</td>\n",
              "      <td>Sí, asistió</td>\n",
              "      <td>No asistió</td>\n",
              "      <td>0</td>\n",
              "      <td>0</td>\n",
              "      <td>0</td>\n",
              "      <td>0</td>\n",
              "    </tr>\n",
              "    <tr>\n",
              "      <th>95827</th>\n",
              "      <td>2019051583</td>\n",
              "      <td>Mujer</td>\n",
              "      <td>68</td>\n",
              "      <td>Blanca</td>\n",
              "      <td>Esposo/a o compañero/a</td>\n",
              "      <td>Inactivo: jubilado</td>\n",
              "      <td>0</td>\n",
              "      <td>0</td>\n",
              "      <td>.</td>\n",
              "      <td>Sí</td>\n",
              "      <td>No asistió</td>\n",
              "      <td>Sí, asistió</td>\n",
              "      <td>Sí, asistió</td>\n",
              "      <td>No asistió</td>\n",
              "      <td>Sí, asistió</td>\n",
              "      <td>No asistió</td>\n",
              "      <td>Sí, asistió</td>\n",
              "      <td>No asistió</td>\n",
              "    </tr>\n",
              "    <tr>\n",
              "      <th>8729</th>\n",
              "      <td>2019004669</td>\n",
              "      <td>Mujer</td>\n",
              "      <td>30</td>\n",
              "      <td>Blanca</td>\n",
              "      <td>Esposo/a o compañero/a</td>\n",
              "      <td>Inactivo: realiza los quehaceres del hogar</td>\n",
              "      <td>0</td>\n",
              "      <td>0</td>\n",
              "      <td>.</td>\n",
              "      <td>Sí</td>\n",
              "      <td>Sí, asistió</td>\n",
              "      <td>Sí, asistió</td>\n",
              "      <td>No asistió</td>\n",
              "      <td>No asistió</td>\n",
              "      <td>0</td>\n",
              "      <td>0</td>\n",
              "      <td>0</td>\n",
              "      <td>0</td>\n",
              "    </tr>\n",
              "    <tr>\n",
              "      <th>49406</th>\n",
              "      <td>2019026549</td>\n",
              "      <td>Mujer</td>\n",
              "      <td>60</td>\n",
              "      <td>Blanca</td>\n",
              "      <td>Jefe/a de hogar</td>\n",
              "      <td>Inactivo: realiza los quehaceres del hogar</td>\n",
              "      <td>0</td>\n",
              "      <td>0</td>\n",
              "      <td>.</td>\n",
              "      <td>Sí</td>\n",
              "      <td>Sí, asistió</td>\n",
              "      <td>Sí, asistió</td>\n",
              "      <td>Sí, asistió</td>\n",
              "      <td>No asistió</td>\n",
              "      <td>No asistió</td>\n",
              "      <td>No asistió</td>\n",
              "      <td>0</td>\n",
              "      <td>No asistió</td>\n",
              "    </tr>\n",
              "  </tbody>\n",
              "</table>\n",
              "</div>"
            ],
            "text/plain": [
              "         id_hogar   sexo  edad ascendencia              parentesco  \\\n",
              "87708  2019047215  Mujer    75      Blanca         Jefe/a de hogar   \n",
              "76771  2019041449  Mujer    40      Blanca         Jefe/a de hogar   \n",
              "95827  2019051583  Mujer    68      Blanca  Esposo/a o compañero/a   \n",
              "8729   2019004669  Mujer    30      Blanca  Esposo/a o compañero/a   \n",
              "49406  2019026549  Mujer    60      Blanca         Jefe/a de hogar   \n",
              "\n",
              "                                   estado_laboral  sueldo busca_otro_trabajo  \\\n",
              "87708                          Inactivo: jubilado       0                  0   \n",
              "76771  Inactivo: realiza los quehaceres del hogar       0                  0   \n",
              "95827                          Inactivo: jubilado       0                  0   \n",
              "8729   Inactivo: realiza los quehaceres del hogar       0                  0   \n",
              "49406  Inactivo: realiza los quehaceres del hogar       0                  0   \n",
              "\n",
              "      actividad asistencia alguna vez a enseñanza edu preescolar edu primaria  \\\n",
              "87708         .                                Sí     No asistió  Sí, asistió   \n",
              "76771         .                                Sí    Sí, asistió  Sí, asistió   \n",
              "95827         .                                Sí     No asistió  Sí, asistió   \n",
              "8729          .                                Sí    Sí, asistió  Sí, asistió   \n",
              "49406         .                                Sí    Sí, asistió  Sí, asistió   \n",
              "\n",
              "         edu media edu técnica edu univ o simil edu terciario no uni  \\\n",
              "87708            0  No asistió                0                    0   \n",
              "76771  Sí, asistió  No asistió                0                    0   \n",
              "95827  Sí, asistió  No asistió      Sí, asistió           No asistió   \n",
              "8729    No asistió  No asistió                0                    0   \n",
              "49406  Sí, asistió  No asistió       No asistió           No asistió   \n",
              "\n",
              "      edu posgrado edu mag prof  \n",
              "87708            0            0  \n",
              "76771            0            0  \n",
              "95827  Sí, asistió   No asistió  \n",
              "8729             0            0  \n",
              "49406            0   No asistió  "
            ]
          },
          "execution_count": 2,
          "metadata": {},
          "output_type": "execute_result"
        }
      ],
      "source": [
        "df.sample(3)\n"
      ]
    },
    {
      "cell_type": "code",
      "execution_count": 3,
      "metadata": {
        "colab": {
          "base_uri": "https://localhost:8080/",
          "height": 504
        },
        "id": "LzFVyDkXM1bN",
        "outputId": "70b68bbb-d508-4b56-ec7f-220346de0440"
      },
      "outputs": [
        {
          "data": {
            "text/html": [
              "<div>\n",
              "<style scoped>\n",
              "    .dataframe tbody tr th:only-of-type {\n",
              "        vertical-align: middle;\n",
              "    }\n",
              "\n",
              "    .dataframe tbody tr th {\n",
              "        vertical-align: top;\n",
              "    }\n",
              "\n",
              "    .dataframe thead th {\n",
              "        text-align: right;\n",
              "    }\n",
              "</style>\n",
              "<table border=\"1\" class=\"dataframe\">\n",
              "  <thead>\n",
              "    <tr style=\"text-align: right;\">\n",
              "      <th></th>\n",
              "      <th>id_hogar</th>\n",
              "      <th>sexo</th>\n",
              "      <th>edad</th>\n",
              "      <th>ascendencia</th>\n",
              "      <th>parentesco</th>\n",
              "      <th>estado_laboral</th>\n",
              "      <th>sueldo</th>\n",
              "      <th>busca_otro_trabajo</th>\n",
              "      <th>actividad</th>\n",
              "      <th>asistencia alguna vez a enseñanza</th>\n",
              "      <th>edu preescolar</th>\n",
              "      <th>edu primaria</th>\n",
              "      <th>edu media</th>\n",
              "      <th>edu técnica</th>\n",
              "      <th>edu univ o simil</th>\n",
              "      <th>edu terciario no uni</th>\n",
              "      <th>edu posgrado</th>\n",
              "      <th>edu mag prof</th>\n",
              "    </tr>\n",
              "  </thead>\n",
              "  <tbody>\n",
              "    <tr>\n",
              "      <th>25464</th>\n",
              "      <td>2019013748</td>\n",
              "      <td>Mujer</td>\n",
              "      <td>0</td>\n",
              "      <td>Blanca</td>\n",
              "      <td>Hijo/a solo del jefe/a</td>\n",
              "      <td>Menores de 14 años</td>\n",
              "      <td>0</td>\n",
              "      <td>No hay dato</td>\n",
              "      <td>.</td>\n",
              "      <td>No</td>\n",
              "      <td>No hay dato</td>\n",
              "      <td>No hay dato</td>\n",
              "      <td>No hay dato</td>\n",
              "      <td>No hay dato</td>\n",
              "      <td>No hay dato</td>\n",
              "      <td>No hay dato</td>\n",
              "      <td>No hay dato</td>\n",
              "      <td>No hay dato</td>\n",
              "    </tr>\n",
              "    <tr>\n",
              "      <th>8335</th>\n",
              "      <td>2019004447</td>\n",
              "      <td>Mujer</td>\n",
              "      <td>74</td>\n",
              "      <td>Blanca</td>\n",
              "      <td>Jefe/a de hogar</td>\n",
              "      <td>Inactivo: jubilado</td>\n",
              "      <td>0</td>\n",
              "      <td>No hay dato</td>\n",
              "      <td>.</td>\n",
              "      <td>Sí</td>\n",
              "      <td>No asistió</td>\n",
              "      <td>Sí, asistió</td>\n",
              "      <td>Sí, asistió</td>\n",
              "      <td>No asistió</td>\n",
              "      <td>Sí, asistió</td>\n",
              "      <td>No asistió</td>\n",
              "      <td>No hay dato</td>\n",
              "      <td>No asistió</td>\n",
              "    </tr>\n",
              "    <tr>\n",
              "      <th>97617</th>\n",
              "      <td>2019052554</td>\n",
              "      <td>Mujer</td>\n",
              "      <td>48</td>\n",
              "      <td>Blanca</td>\n",
              "      <td>Jefe/a de hogar</td>\n",
              "      <td>Ocupados</td>\n",
              "      <td>70000</td>\n",
              "      <td>No</td>\n",
              "      <td>Enseñanza superior</td>\n",
              "      <td>Sí</td>\n",
              "      <td>Sí, asistió</td>\n",
              "      <td>Sí, asistió</td>\n",
              "      <td>Sí, asistió</td>\n",
              "      <td>No asistió</td>\n",
              "      <td>Sí, asistió</td>\n",
              "      <td>No asistió</td>\n",
              "      <td>Asiste actualmente</td>\n",
              "      <td>No asistió</td>\n",
              "    </tr>\n",
              "    <tr>\n",
              "      <th>51754</th>\n",
              "      <td>2019027770</td>\n",
              "      <td>Mujer</td>\n",
              "      <td>18</td>\n",
              "      <td>Blanca</td>\n",
              "      <td>Hijo/a de ambos</td>\n",
              "      <td>Inactivo: estudiante</td>\n",
              "      <td>0</td>\n",
              "      <td>No hay dato</td>\n",
              "      <td>.</td>\n",
              "      <td>Sí</td>\n",
              "      <td>Sí, asistió</td>\n",
              "      <td>Sí, asistió</td>\n",
              "      <td>Asiste actualmente</td>\n",
              "      <td>No asistió</td>\n",
              "      <td>No hay dato</td>\n",
              "      <td>No hay dato</td>\n",
              "      <td>No hay dato</td>\n",
              "      <td>No hay dato</td>\n",
              "    </tr>\n",
              "    <tr>\n",
              "      <th>67484</th>\n",
              "      <td>2019036330</td>\n",
              "      <td>Hombre</td>\n",
              "      <td>67</td>\n",
              "      <td>Blanca</td>\n",
              "      <td>Jefe/a de hogar</td>\n",
              "      <td>Ocupados</td>\n",
              "      <td>16000</td>\n",
              "      <td>No</td>\n",
              "      <td>Elaboración de alimentos preparados para animales</td>\n",
              "      <td>Sí</td>\n",
              "      <td>No asistió</td>\n",
              "      <td>Sí, asistió</td>\n",
              "      <td>No asistió</td>\n",
              "      <td>No asistió</td>\n",
              "      <td>No hay dato</td>\n",
              "      <td>No hay dato</td>\n",
              "      <td>No hay dato</td>\n",
              "      <td>No hay dato</td>\n",
              "    </tr>\n",
              "  </tbody>\n",
              "</table>\n",
              "</div>"
            ],
            "text/plain": [
              "         id_hogar    sexo  edad ascendencia              parentesco  \\\n",
              "25464  2019013748   Mujer     0      Blanca  Hijo/a solo del jefe/a   \n",
              "8335   2019004447   Mujer    74      Blanca         Jefe/a de hogar   \n",
              "97617  2019052554   Mujer    48      Blanca         Jefe/a de hogar   \n",
              "51754  2019027770   Mujer    18      Blanca         Hijo/a de ambos   \n",
              "67484  2019036330  Hombre    67      Blanca         Jefe/a de hogar   \n",
              "\n",
              "             estado_laboral  sueldo busca_otro_trabajo  \\\n",
              "25464    Menores de 14 años       0        No hay dato   \n",
              "8335     Inactivo: jubilado       0        No hay dato   \n",
              "97617              Ocupados   70000                 No   \n",
              "51754  Inactivo: estudiante       0        No hay dato   \n",
              "67484              Ocupados   16000                 No   \n",
              "\n",
              "                                               actividad  \\\n",
              "25464                                                  .   \n",
              "8335                                                   .   \n",
              "97617                                 Enseñanza superior   \n",
              "51754                                                  .   \n",
              "67484  Elaboración de alimentos preparados para animales   \n",
              "\n",
              "      asistencia alguna vez a enseñanza edu preescolar edu primaria  \\\n",
              "25464                                No    No hay dato  No hay dato   \n",
              "8335                                 Sí     No asistió  Sí, asistió   \n",
              "97617                                Sí    Sí, asistió  Sí, asistió   \n",
              "51754                                Sí    Sí, asistió  Sí, asistió   \n",
              "67484                                Sí     No asistió  Sí, asistió   \n",
              "\n",
              "                edu media  edu técnica edu univ o simil edu terciario no uni  \\\n",
              "25464         No hay dato  No hay dato      No hay dato          No hay dato   \n",
              "8335          Sí, asistió   No asistió      Sí, asistió           No asistió   \n",
              "97617         Sí, asistió   No asistió      Sí, asistió           No asistió   \n",
              "51754  Asiste actualmente   No asistió      No hay dato          No hay dato   \n",
              "67484          No asistió   No asistió      No hay dato          No hay dato   \n",
              "\n",
              "             edu posgrado edu mag prof  \n",
              "25464         No hay dato  No hay dato  \n",
              "8335          No hay dato   No asistió  \n",
              "97617  Asiste actualmente   No asistió  \n",
              "51754         No hay dato  No hay dato  \n",
              "67484         No hay dato  No hay dato  "
            ]
          },
          "execution_count": 3,
          "metadata": {},
          "output_type": "execute_result"
        }
      ],
      "source": [
        "no_data = {0: 'No hay dato', '0': 'No hay dato'}\n",
        "\n",
        "mask = df.columns.difference(['edad', 'sueldo', 'hijos'])\n",
        "\n",
        "df[mask] = df[mask].replace(no_data)\n",
        "\n",
        "df.sample(3)\n",
        "\n"
      ]
    },
    {
      "cell_type": "markdown",
      "metadata": {
        "id": "UDhMFaUMM1bR"
      },
      "source": [
        "Seleccionamos personas con edad suficiente para trabajar"
      ]
    },
    {
      "cell_type": "code",
      "execution_count": null,
      "metadata": {
        "id": "l3mwgnC9M1bS"
      },
      "outputs": [],
      "source": [
        "# df = df[~df['estado_laboral'].str.contains('Menores de 14 años')]\n",
        "\n"
      ]
    },
    {
      "cell_type": "markdown",
      "metadata": {
        "id": "0G9gI5uHM1bW"
      },
      "source": [
        "Creamos una columna que cuenta la cantidad de hijos por grupo familiar"
      ]
    },
    {
      "cell_type": "code",
      "execution_count": 4,
      "metadata": {
        "id": "HpVFTH3NM1bY"
      },
      "outputs": [],
      "source": [
        "df['hijos'] = (\n",
        "    df.groupby('id_hogar')['id_hogar'].transform('count') - 1\n",
        ")\n",
        "\n"
      ]
    },
    {
      "cell_type": "markdown",
      "metadata": {
        "id": "SJ_llwPwM1bZ"
      },
      "source": [
        "# CATEGORIZAR NUMERICOS"
      ]
    },
    {
      "cell_type": "code",
      "execution_count": 5,
      "metadata": {
        "id": "RvMwcDkpM1bZ"
      },
      "outputs": [],
      "source": [
        "df['rango_sueldos'] = pd.cut(df['sueldo'], bins=[\n",
        "    0,\n",
        "    5000,\n",
        "    10000,\n",
        "    30000,\n",
        "    50000,\n",
        "    100000,\n",
        "    float('Inf'),\n",
        "    ]).astype('category')\n",
        "\n",
        "df['rango_edades'] = pd.cut(df['edad'], bins=[\n",
        "    0,\n",
        "    10,\n",
        "    15,\n",
        "    20,\n",
        "    30,\n",
        "    40,\n",
        "    50,\n",
        "    60,\n",
        "    70,\n",
        "    float('Inf'),\n",
        "    ]).astype('category')\n",
        "\n",
        "# labels=['0-5000', 'yyy', 'zzz']\n",
        "\n"
      ]
    },
    {
      "cell_type": "markdown",
      "metadata": {
        "id": "5y30QCPZM1bb"
      },
      "source": [
        "### AJUSTANDO DATOS PARA ENTRENAR EL MODELO"
      ]
    },
    {
      "cell_type": "markdown",
      "metadata": {
        "id": "77Zc41CNM1bc"
      },
      "source": [
        "Primero encodificamos las variables categóricas"
      ]
    },
    {
      "cell_type": "markdown",
      "metadata": {
        "id": "i1PtSP8LM1bc"
      },
      "source": [
        "Eliminanos las columnas que no vamos a usar o que ya categorizamos"
      ]
    },
    {
      "cell_type": "code",
      "execution_count": 12,
      "metadata": {
        "id": "jVBYMpglM1bf"
      },
      "outputs": [],
      "source": [
        "df = df[[\n",
        "    'sexo',\n",
        "    'ascendencia',\n",
        "    'estado_laboral',\n",
        "    'busca_otro_trabajo',\n",
        "    'actividad',\n",
        "    'asistencia alguna vez a enseñanza',\n",
        "    'edu preescolar',\n",
        "    'edu primaria',\n",
        "    'edu media',\n",
        "    'edu técnica',\n",
        "    'edu univ o simil',\n",
        "    'edu terciario no uni',\n",
        "    'edu posgrado',\n",
        "    'edu mag prof',\n",
        "    'parentesco',\n",
        "    'hijos',\n",
        "    'rango_sueldos',\n",
        "    'rango_edades',\n",
        "    ]]"
      ]
    },
    {
      "cell_type": "code",
      "execution_count": 18,
      "metadata": {},
      "outputs": [
        {
          "data": {
            "text/plain": [
              "array(['Inactivo: jubilado', 'Inactivo: realiza los quehaceres del hogar',\n",
              "       'Ocupados', 'Menores de 14 años', 'Inactivo: estudiante',\n",
              "       'Desocupados propiamente dichos', 'Inactivo: pensionista',\n",
              "       'Inactivo: otro', 'Desocupados en seguro de paro',\n",
              "       'Desocupados buscan trabajo por primera vez', 'Inactivo: rentista'],\n",
              "      dtype=object)"
            ]
          },
          "execution_count": 18,
          "metadata": {},
          "output_type": "execute_result"
        }
      ],
      "source": [
        "df['estado_laboral'].unique()"
      ]
    },
    {
      "cell_type": "markdown",
      "metadata": {},
      "source": [
        "## Reducimos la consideración de estado laboral a menos categorías"
      ]
    },
    {
      "cell_type": "code",
      "execution_count": 16,
      "metadata": {},
      "outputs": [
        {
          "data": {
            "text/plain": [
              "array(['Inactivo', 'Ocupado', 'Menor', 'Desocupado'], dtype=object)"
            ]
          },
          "execution_count": 16,
          "metadata": {},
          "output_type": "execute_result"
        }
      ],
      "source": [
        "def change_cat(value):\n",
        "    if 'Desocupados' in value:\n",
        "        return 'Desocupado'\n",
        "    if 'Inactivo' in value:\n",
        "        return 'Inactivo'\n",
        "    if 'Menores' in value:\n",
        "        return 'Menor'\n",
        "    else:\n",
        "        return 'Ocupado'\n",
        "\n",
        "df['estado_laboral'] = df['estado_laboral'].apply(change_cat, inplace=True)\n",
        "\n",
        "df['estado_laboral'].unique()"
      ]
    },
    {
      "cell_type": "markdown",
      "metadata": {
        "id": "tr2CniL5M1bg"
      },
      "source": [
        "### DEFINIMOS LAS VARIABLES DEPENDIENTES E INDEPENDIENTES"
      ]
    },
    {
      "cell_type": "code",
      "execution_count": null,
      "metadata": {
        "colab": {
          "base_uri": "https://localhost:8080/"
        },
        "id": "Fw7aZaAIM1bg",
        "outputId": "19e47e69-6c54-4c0f-b51b-3b1f0d82ba33"
      },
      "outputs": [],
      "source": [
        "# Feautures\n",
        "X = df.drop('estado_laboral', axis=1).to_numpy()\n",
        "y = df['estado_laboral']\n",
        "\n",
        "print('X shape', X.shape, '\\nY shape', y.shape)\n",
        "\n"
      ]
    },
    {
      "cell_type": "code",
      "execution_count": null,
      "metadata": {
        "colab": {
          "base_uri": "https://localhost:8080/"
        },
        "id": "lrQOxYSWM1bg",
        "outputId": "91e310d4-9a0c-46e0-819f-72e6f58a7b5b"
      },
      "outputs": [],
      "source": [
        "np.unique(y)"
      ]
    },
    {
      "cell_type": "code",
      "execution_count": null,
      "metadata": {
        "id": "VdOpqVADM1bc"
      },
      "outputs": [],
      "source": [
        "from sklearn.preprocessing import OneHotEncoder\n",
        "\n",
        "one_hot = OneHotEncoder()\n",
        "\n",
        "X = one_hot.fit_transform(X)\n",
        "\n"
      ]
    },
    {
      "cell_type": "markdown",
      "metadata": {
        "id": "4WNKcjI3M1bg"
      },
      "source": [
        "### Dividimos los datos en un 30% de test y 70% de entrenamiento"
      ]
    },
    {
      "cell_type": "code",
      "execution_count": null,
      "metadata": {
        "id": "ShFudTmNM1bh"
      },
      "outputs": [],
      "source": [
        "from sklearn.model_selection import train_test_split \n",
        "\n",
        "X_train, X_test, y_train, y_test = train_test_split(X, y, test_size=0.30, random_state=42) \n",
        "\n"
      ]
    },
    {
      "cell_type": "code",
      "execution_count": null,
      "metadata": {
        "colab": {
          "base_uri": "https://localhost:8080/"
        },
        "id": "ZV5LPElaM1bh",
        "outputId": "0580d57b-7ba5-4e3d-b092-3279020c42d0"
      },
      "outputs": [],
      "source": [
        "print(X_train.shape, y_train.shape)\n",
        "print(X_test.shape, y_test.shape)\n",
        "\n"
      ]
    },
    {
      "cell_type": "markdown",
      "metadata": {
        "id": "t3yhULSwM1bi"
      },
      "source": [
        "# DEFINIMOS ALGORITMO DE REGRESIÓN LOGISTICA"
      ]
    },
    {
      "cell_type": "code",
      "execution_count": null,
      "metadata": {
        "id": "VA9pehfmM1bj"
      },
      "outputs": [],
      "source": [
        "from sklearn.linear_model import LogisticRegression\n",
        "from sklearn.model_selection import cross_val_score\n",
        "\n",
        "logistic_reg = LogisticRegression(max_iter=20000)\n",
        "\n",
        "logistic_reg.fit(X_train, y_train)\n",
        "\n",
        "predictions = logistic_reg.predict(X_test)\n",
        "\n"
      ]
    },
    {
      "cell_type": "markdown",
      "metadata": {
        "id": "-HQ7bvlwHVfU"
      },
      "source": [
        "### VALOR DE CROSS VALIDATION PARA CADA FOLD"
      ]
    },
    {
      "cell_type": "code",
      "execution_count": null,
      "metadata": {
        "colab": {
          "base_uri": "https://localhost:8080/"
        },
        "id": "-OqPQoduHVfU",
        "outputId": "db35f472-0208-47a5-e30b-3635349fcaac"
      },
      "outputs": [],
      "source": [
        "scores = cross_val_score(logistic_reg, X, y, cv=10)\n",
        "\n",
        "scores\n",
        "\n"
      ]
    },
    {
      "cell_type": "code",
      "execution_count": null,
      "metadata": {
        "colab": {
          "base_uri": "https://localhost:8080/"
        },
        "id": "Sk2eF2hMM1bj",
        "outputId": "863ad0cc-ab75-4666-cb65-4154dfc74f8a"
      },
      "outputs": [],
      "source": [
        "print('Promedio de cross_validation ', round(scores.mean(),2))\n",
        "print('Score en test ', round(logistic_reg.score(X_test, y_test),2))\n",
        "print('Score en train ', round(logistic_reg.score(X_train, y_train),2))\n",
        "\n"
      ]
    },
    {
      "cell_type": "code",
      "execution_count": null,
      "metadata": {
        "colab": {
          "base_uri": "https://localhost:8080/"
        },
        "id": "FzF5F8XuM1bl",
        "outputId": "9bbf1aa9-19a0-43ad-f33e-3deb24073919"
      },
      "outputs": [],
      "source": [
        "import matplotlib.pyplot as plt\n",
        "from sklearn.metrics import confusion_matrix\n",
        "\n",
        "print(confusion_matrix(y_test, predictions))\n",
        "\n"
      ]
    },
    {
      "cell_type": "markdown",
      "metadata": {
        "id": "ypMnIojSM1bl"
      },
      "source": [
        "### INVESTIGAMOS LA EFECTIVIDAD DEL MODELO SOBRE LOS DATOS"
      ]
    },
    {
      "cell_type": "code",
      "execution_count": null,
      "metadata": {
        "colab": {
          "base_uri": "https://localhost:8080/"
        },
        "id": "1wgaRZ6BM1bm",
        "outputId": "bf6c953d-8bb6-46f6-ff4d-12118f24df2d"
      },
      "outputs": [],
      "source": [
        "from sklearn.metrics import accuracy_score\n",
        "\n",
        "#Prediccion en Train\n",
        "y_train_pred = logistic_reg.predict(X_train)\n",
        "\n",
        "#Prediccion en Test\n",
        "y_test_pred = logistic_reg.predict(X_test)\n",
        "\n",
        "#Calculo el accuracy en Train\n",
        "train_accuracy = accuracy_score(y_train, y_train_pred)\n",
        "\n",
        "#Calculo el accuracy en Test\n",
        "test_accuracy = accuracy_score(y_test, y_test_pred)\n",
        "\n",
        "print('% de aciertos sobre el set de entrenamiento:', train_accuracy)\n",
        "print('% de aciertos sobre el set de evaluación:',test_accuracy)\n",
        "\n"
      ]
    },
    {
      "cell_type": "markdown",
      "metadata": {
        "id": "ACeJF5NUM1bl"
      },
      "source": [
        "### DEFINIMOS UNA PREDICCIÓN Y LA APLICAMOS SOBRE EL MODELO"
      ]
    },
    {
      "cell_type": "code",
      "execution_count": null,
      "metadata": {
        "colab": {
          "base_uri": "https://localhost:8080/"
        },
        "id": "c5PlQMpUM1bl",
        "outputId": "642b111f-67aa-44c5-88f0-0fc866a7b011"
      },
      "outputs": [],
      "source": [
        "prediction = X.toarray()\n",
        "\n",
        "prediction = prediction[1000].reshape(1, -1)\n",
        "print(logistic_reg.predict(prediction))\n",
        "print(y_train[1000])\n",
        "\n"
      ]
    },
    {
      "cell_type": "markdown",
      "metadata": {
        "id": "DYYlDLatM1bm"
      },
      "source": [
        "Determinamos la probabilidad de la predicción"
      ]
    },
    {
      "cell_type": "code",
      "execution_count": null,
      "metadata": {
        "colab": {
          "base_uri": "https://localhost:8080/"
        },
        "id": "XWzmupvzM1bm",
        "outputId": "484931c6-0342-418b-c573-7fe3034cbb16"
      },
      "outputs": [],
      "source": [
        "probabilidades_prediccion = logistic_reg.predict_proba(prediction)\n",
        "probabilidades_prediccion[:,1]\n",
        "\n"
      ]
    },
    {
      "cell_type": "markdown",
      "metadata": {
        "id": "5BPPzKUaHVfY"
      },
      "source": [
        "# REPETIMOS EL EJERCICIO CON EL MODELO DE DECISSION TREE"
      ]
    },
    {
      "cell_type": "code",
      "execution_count": null,
      "metadata": {
        "id": "ODF-6NeoHVfa"
      },
      "outputs": [],
      "source": [
        "from sklearn.ensemble import RandomForestClassifier\n",
        "\n",
        "random_forest = RandomForestClassifier(100)\n",
        "\n",
        "random_forest.fit(X_train, y_train)\n",
        "\n",
        "forest_prediction = random_forest.predict(X_test)\n",
        "\n"
      ]
    },
    {
      "cell_type": "code",
      "execution_count": null,
      "metadata": {
        "colab": {
          "base_uri": "https://localhost:8080/"
        },
        "id": "JH1bvMyMHVfa",
        "outputId": "62970946-0477-46d4-d144-eb9586ea3885"
      },
      "outputs": [],
      "source": [
        "scores = cross_val_score(random_forest, X, y, cv=10)\n",
        "\n",
        "scores\n",
        "\n"
      ]
    },
    {
      "cell_type": "code",
      "execution_count": null,
      "metadata": {
        "colab": {
          "base_uri": "https://localhost:8080/"
        },
        "id": "EdbWI5glHVfa",
        "outputId": "95c55e65-d3ef-41f0-9dc9-8b57dc19770e"
      },
      "outputs": [],
      "source": [
        "print('Promedio de cross_validation ', round(scores.mean(),2))\n",
        "print('Score en test ', round(logistic_reg.score(X_test, y_test),2))\n",
        "print('Score en train ', round(logistic_reg.score(X_train, y_train),2))\n",
        "\n"
      ]
    },
    {
      "cell_type": "code",
      "execution_count": null,
      "metadata": {
        "colab": {
          "base_uri": "https://localhost:8080/"
        },
        "id": "KGw6_y5BHVfa",
        "outputId": "61ed76f5-a738-4a73-c4d1-afb29c5ed0cd"
      },
      "outputs": [],
      "source": [
        "#Prediccion en Train\n",
        "y_train_pred = random_forest.predict(X_train)\n",
        "\n",
        "#Prediccion en Test\n",
        "y_test_pred = random_forest.predict(X_test)\n",
        "\n",
        "#Calculo el accuracy en Train\n",
        "train_accuracy = accuracy_score(y_train, y_train_pred)\n",
        "\n",
        "#Calculo el accuracy en Test\n",
        "test_accuracy = accuracy_score(y_test, y_test_pred)\n",
        "\n",
        "print('% de aciertos sobre el set de entrenamiento:', train_accuracy)\n",
        "print('% de aciertos sobre el set de evaluación:',test_accuracy)\n",
        "\n"
      ]
    },
    {
      "cell_type": "code",
      "execution_count": null,
      "metadata": {
        "colab": {
          "base_uri": "https://localhost:8080/"
        },
        "id": "BAkm5UkiQlIn",
        "outputId": "a45bd17f-9344-4735-ca69-96726f0f0d19"
      },
      "outputs": [],
      "source": [
        "print(random_forest.predict(prediction))\n",
        "print(y_train[1000])\n",
        "\n"
      ]
    },
    {
      "cell_type": "markdown",
      "metadata": {
        "id": "Ky2cJGu9T7nL"
      },
      "source": [
        "# REPETIMOS EL EJERCICIO CON EL MODELO DE SUPPORT VECTOR MACHINE"
      ]
    },
    {
      "cell_type": "code",
      "execution_count": null,
      "metadata": {
        "colab": {
          "base_uri": "https://localhost:8080/"
        },
        "id": "YEV__XjRQpcC",
        "outputId": "2f2434fd-82c6-4ef9-d2c6-281d964f6167"
      },
      "outputs": [],
      "source": [
        "from sklearn import svm\n",
        "\n",
        "svm_model = svm.SVC(kernel='linear')\n",
        "\n",
        "svm_model.fit(X_train, y_train)\n",
        "\n",
        "svm_model.predict(X_test)\n",
        "\n"
      ]
    },
    {
      "cell_type": "code",
      "execution_count": null,
      "metadata": {
        "colab": {
          "base_uri": "https://localhost:8080/"
        },
        "id": "3d6ifIH0UF1R",
        "outputId": "2134d4c9-54b1-4142-ea87-d596fdc4575d"
      },
      "outputs": [],
      "source": [
        "scores = cross_val_score(svm_model, X, y, cv=10)\n",
        "\n",
        "scores\n",
        "\n"
      ]
    },
    {
      "cell_type": "code",
      "execution_count": null,
      "metadata": {
        "colab": {
          "base_uri": "https://localhost:8080/"
        },
        "id": "ucrRj2LuUJSa",
        "outputId": "c524447a-064f-4e7e-8fe7-5078f48c993f"
      },
      "outputs": [],
      "source": [
        "print('Promedio de cross_validation ', round(scores.mean(),2))\n",
        "print('Score en test ', round(svm_model.score(X_test, y_test),2))\n",
        "print('Score en train ', round(svm_model.score(X_train, y_train),2))\n",
        "\n"
      ]
    },
    {
      "cell_type": "code",
      "execution_count": null,
      "metadata": {
        "colab": {
          "base_uri": "https://localhost:8080/"
        },
        "id": "U5Nb3qwiULYa",
        "outputId": "8e9ed6ce-aac6-44c1-ae11-9881222852b8"
      },
      "outputs": [],
      "source": [
        "#Prediccion en Train\n",
        "y_train_pred = svm_model.predict(X_train)\n",
        "\n",
        "#Prediccion en Test\n",
        "y_test_pred = svm_model.predict(X_test)\n",
        "\n",
        "#Calculo el accuracy en Train\n",
        "train_accuracy = accuracy_score(y_train, y_train_pred)\n",
        "\n",
        "#Calculo el accuracy en Test\n",
        "test_accuracy = accuracy_score(y_test, y_test_pred)\n",
        "\n",
        "print('% de aciertos sobre el set de entrenamiento:', train_accuracy)\n",
        "print('% de aciertos sobre el set de evaluación:',test_accuracy)\n",
        "\n"
      ]
    },
    {
      "cell_type": "code",
      "execution_count": null,
      "metadata": {
        "colab": {
          "base_uri": "https://localhost:8080/"
        },
        "id": "zCxvSGMqUNjD",
        "outputId": "22bdf88e-1894-49d4-c4a5-db3408a7078d"
      },
      "outputs": [],
      "source": [
        "print(svm_model.predict(prediction))\n",
        "print(y_train[1000])\n",
        "\n"
      ]
    }
  ],
  "metadata": {
    "colab": {
      "collapsed_sections": [],
      "name": "ECH_MODELOS.ipynb",
      "provenance": []
    },
    "interpreter": {
      "hash": "d0fd3259a0ae7798bf28b9ed97f5d4d70eaf745bfa37ff3042465361f4141f08"
    },
    "kernelspec": {
      "display_name": "Python 3.9.7 64-bit ('pyenv': venv)",
      "language": "python",
      "name": "python3"
    },
    "language_info": {
      "codemirror_mode": {
        "name": "ipython",
        "version": 3
      },
      "file_extension": ".py",
      "mimetype": "text/x-python",
      "name": "python",
      "nbconvert_exporter": "python",
      "pygments_lexer": "ipython3",
      "version": "3.9.7"
    },
    "orig_nbformat": 4
  },
  "nbformat": 4,
  "nbformat_minor": 0
}
