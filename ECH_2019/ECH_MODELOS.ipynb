{
  "cells": [
    {
      "cell_type": "code",
      "execution_count": 1,
      "metadata": {
        "colab": {
          "base_uri": "https://localhost:8080/"
        },
        "id": "4Fyym8rv1dDm",
        "outputId": "e92672b9-527e-4d5d-a77b-534d4774cc69"
      },
      "outputs": [
        {
          "name": "stdout",
          "output_type": "stream",
          "text": [
            "Drive already mounted at /content/drive; to attempt to forcibly remount, call drive.mount(\"/content/drive\", force_remount=True).\n"
          ]
        }
      ],
      "source": [
        "from google.colab import drive\n",
        "drive.mount('/content/drive')"
      ]
    },
    {
      "cell_type": "code",
      "execution_count": 2,
      "metadata": {
        "id": "93-fWQ16M1bJ"
      },
      "outputs": [],
      "source": [
        "import pandas as pd\n",
        "import numpy as np\n",
        "import seaborn as sns\n",
        "import matplotlib.pyplot as plt\n",
        "\n",
        "sns.set(rc={'figure.figsize': (10, 5)}, font_scale=1.5)\n",
        "\n",
        "df = pd.read_csv('/content/drive/MyDrive/ECH_2019.csv')\n",
        "\n",
        "# df = pd.read_csv('ECH_2019.csv')"
      ]
    },
    {
      "cell_type": "code",
      "execution_count": 3,
      "metadata": {
        "id": "LzFVyDkXM1bN"
      },
      "outputs": [],
      "source": [
        "no_data = {0: 'No hay dato', '0': 'No hay dato'}\n",
        "\n",
        "mask = df.columns.difference(['edad',\n",
        "                              'sueldo',\n",
        "                              'hijos en hogar',\n",
        "                              'hijos en otro hogar',\n",
        "                              'hijos en el extranjero',\n",
        "                              'suma_hijos',\n",
        "                              'barrio'])\n",
        "\n",
        "df[mask] = df[mask].replace(no_data)"
      ]
    },
    {
      "cell_type": "code",
      "execution_count": 4,
      "metadata": {
        "colab": {
          "base_uri": "https://localhost:8080/"
        },
        "id": "gebPJSo5nLB5",
        "outputId": "883223a7-6ad4-4380-b239-9705f0035962"
      },
      "outputs": [
        {
          "data": {
            "text/plain": [
              "(8.0, 16.0]      11803\n",
              "(39.0, 47.0]     11347\n",
              "(63.0, 73.0]     10988\n",
              "(-0.001, 8.0]    10918\n",
              "(55.0, 63.0]     10848\n",
              "(47.0, 55.0]     10834\n",
              "(16.0, 23.0]     10657\n",
              "(31.0, 39.0]     10484\n",
              "(23.0, 31.0]     10116\n",
              "(73.0, 98.0]      9876\n",
              "Name: rango_edades, dtype: int64"
            ]
          },
          "execution_count": 4,
          "metadata": {},
          "output_type": "execute_result"
        }
      ],
      "source": [
        "df['rango_edades'] = pd.qcut(df['edad'], q=10)\n",
        "\n",
        "df['rango_edades'].value_counts()"
      ]
    },
    {
      "cell_type": "markdown",
      "metadata": {
        "id": "5y30QCPZM1bb"
      },
      "source": [
        "### AJUSTANDO DATOS PARA ENTRENAR EL MODELO"
      ]
    },
    {
      "cell_type": "markdown",
      "metadata": {
        "id": "UDhMFaUMM1bR"
      },
      "source": [
        "Seleccionamos personas con edad suficiente para trabajar"
      ]
    },
    {
      "cell_type": "code",
      "execution_count": 5,
      "metadata": {
        "id": "l3mwgnC9M1bS"
      },
      "outputs": [],
      "source": [
        "df = df[~df['estado_laboral'].str.contains('Menores de 14 años')]"
      ]
    },
    {
      "cell_type": "code",
      "execution_count": 6,
      "metadata": {
        "colab": {
          "base_uri": "https://localhost:8080/"
        },
        "id": "WVGz9_vSCPtd",
        "outputId": "147663d5-860e-43c4-9b26-c1ecf07a6223"
      },
      "outputs": [
        {
          "data": {
            "text/plain": [
              "Ocupados                                      49036\n",
              "Inactivo: jubilado                            16025\n",
              "Inactivo: estudiante                           8216\n",
              "Inactivo: realiza los quehaceres del hogar     5936\n",
              "Inactivo: pensionista                          4438\n",
              "Desocupados propiamente dichos                 3409\n",
              "Inactivo: otro                                 1291\n",
              "Desocupados buscan trabajo por primera vez      787\n",
              "Inactivo: rentista                              414\n",
              "Desocupados en seguro de paro                   255\n",
              "Name: estado_laboral, dtype: int64"
            ]
          },
          "execution_count": 6,
          "metadata": {},
          "output_type": "execute_result"
        }
      ],
      "source": [
        "df['estado_laboral'].value_counts()"
      ]
    },
    {
      "cell_type": "code",
      "execution_count": 7,
      "metadata": {
        "colab": {
          "base_uri": "https://localhost:8080/",
          "height": 429
        },
        "id": "6RvvUJ1AnLB_",
        "outputId": "9936734d-16b8-4f26-cc84-1fad5132f3d7"
      },
      "outputs": [
        {
          "data": {
            "text/html": [
              "<div>\n",
              "<style scoped>\n",
              "    .dataframe tbody tr th:only-of-type {\n",
              "        vertical-align: middle;\n",
              "    }\n",
              "\n",
              "    .dataframe tbody tr th {\n",
              "        vertical-align: top;\n",
              "    }\n",
              "\n",
              "    .dataframe thead th {\n",
              "        text-align: right;\n",
              "    }\n",
              "</style>\n",
              "<table border=\"1\" class=\"dataframe\">\n",
              "  <thead>\n",
              "    <tr style=\"text-align: right;\">\n",
              "      <th></th>\n",
              "      <th>id_hogar</th>\n",
              "      <th>edad</th>\n",
              "      <th>nper</th>\n",
              "      <th>sueldo</th>\n",
              "      <th>barrio</th>\n",
              "      <th>hijos en hogar</th>\n",
              "      <th>hijos en otro hogar</th>\n",
              "      <th>hijos en el extranjero</th>\n",
              "      <th>suma_hijos</th>\n",
              "    </tr>\n",
              "    <tr>\n",
              "      <th>estado_laboral</th>\n",
              "      <th></th>\n",
              "      <th></th>\n",
              "      <th></th>\n",
              "      <th></th>\n",
              "      <th></th>\n",
              "      <th></th>\n",
              "      <th></th>\n",
              "      <th></th>\n",
              "      <th></th>\n",
              "    </tr>\n",
              "  </thead>\n",
              "  <tbody>\n",
              "    <tr>\n",
              "      <th>Desocupados buscan trabajo por primera vez</th>\n",
              "      <td>2.019029e+09</td>\n",
              "      <td>20.670902</td>\n",
              "      <td>3.035578</td>\n",
              "      <td>25.031766</td>\n",
              "      <td>11.876747</td>\n",
              "      <td>0.151207</td>\n",
              "      <td>0.022872</td>\n",
              "      <td>0.000000</td>\n",
              "      <td>0.174079</td>\n",
              "    </tr>\n",
              "    <tr>\n",
              "      <th>Desocupados en seguro de paro</th>\n",
              "      <td>2.019030e+09</td>\n",
              "      <td>39.074510</td>\n",
              "      <td>1.780392</td>\n",
              "      <td>3602.415686</td>\n",
              "      <td>12.407843</td>\n",
              "      <td>0.458824</td>\n",
              "      <td>0.254902</td>\n",
              "      <td>0.019608</td>\n",
              "      <td>0.733333</td>\n",
              "    </tr>\n",
              "    <tr>\n",
              "      <th>Desocupados propiamente dichos</th>\n",
              "      <td>2.019029e+09</td>\n",
              "      <td>33.915518</td>\n",
              "      <td>2.206512</td>\n",
              "      <td>1559.024641</td>\n",
              "      <td>11.319742</td>\n",
              "      <td>0.596656</td>\n",
              "      <td>0.310355</td>\n",
              "      <td>0.018774</td>\n",
              "      <td>0.925785</td>\n",
              "    </tr>\n",
              "    <tr>\n",
              "      <th>Inactivo: estudiante</th>\n",
              "      <td>2.019029e+09</td>\n",
              "      <td>17.345180</td>\n",
              "      <td>3.260346</td>\n",
              "      <td>93.646543</td>\n",
              "      <td>8.818768</td>\n",
              "      <td>0.033350</td>\n",
              "      <td>0.004260</td>\n",
              "      <td>0.000000</td>\n",
              "      <td>0.037610</td>\n",
              "    </tr>\n",
              "    <tr>\n",
              "      <th>Inactivo: jubilado</th>\n",
              "      <td>2.019029e+09</td>\n",
              "      <td>72.800936</td>\n",
              "      <td>1.348206</td>\n",
              "      <td>123.482059</td>\n",
              "      <td>10.446365</td>\n",
              "      <td>0.171108</td>\n",
              "      <td>0.959126</td>\n",
              "      <td>0.082683</td>\n",
              "      <td>1.212917</td>\n",
              "    </tr>\n",
              "    <tr>\n",
              "      <th>Inactivo: otro</th>\n",
              "      <td>2.019029e+09</td>\n",
              "      <td>33.783114</td>\n",
              "      <td>2.883036</td>\n",
              "      <td>618.094500</td>\n",
              "      <td>10.652982</td>\n",
              "      <td>0.237026</td>\n",
              "      <td>0.302866</td>\n",
              "      <td>0.023238</td>\n",
              "      <td>0.563129</td>\n",
              "    </tr>\n",
              "    <tr>\n",
              "      <th>Inactivo: pensionista</th>\n",
              "      <td>2.019029e+09</td>\n",
              "      <td>64.425192</td>\n",
              "      <td>1.683641</td>\n",
              "      <td>22.757999</td>\n",
              "      <td>9.698738</td>\n",
              "      <td>0.370662</td>\n",
              "      <td>1.675530</td>\n",
              "      <td>0.114015</td>\n",
              "      <td>2.160207</td>\n",
              "    </tr>\n",
              "    <tr>\n",
              "      <th>Inactivo: realiza los quehaceres del hogar</th>\n",
              "      <td>2.019029e+09</td>\n",
              "      <td>46.889319</td>\n",
              "      <td>1.857311</td>\n",
              "      <td>317.843666</td>\n",
              "      <td>8.732817</td>\n",
              "      <td>1.107311</td>\n",
              "      <td>1.102426</td>\n",
              "      <td>0.056941</td>\n",
              "      <td>2.266678</td>\n",
              "    </tr>\n",
              "    <tr>\n",
              "      <th>Inactivo: rentista</th>\n",
              "      <td>2.019029e+09</td>\n",
              "      <td>58.461353</td>\n",
              "      <td>1.528986</td>\n",
              "      <td>72.463768</td>\n",
              "      <td>9.009662</td>\n",
              "      <td>0.541063</td>\n",
              "      <td>0.850242</td>\n",
              "      <td>0.123188</td>\n",
              "      <td>1.514493</td>\n",
              "    </tr>\n",
              "    <tr>\n",
              "      <th>Ocupados</th>\n",
              "      <td>2.019029e+09</td>\n",
              "      <td>42.683681</td>\n",
              "      <td>1.661249</td>\n",
              "      <td>20109.876601</td>\n",
              "      <td>10.482462</td>\n",
              "      <td>0.473183</td>\n",
              "      <td>0.304593</td>\n",
              "      <td>0.017885</td>\n",
              "      <td>0.795660</td>\n",
              "    </tr>\n",
              "  </tbody>\n",
              "</table>\n",
              "</div>"
            ],
            "text/plain": [
              "                                                id_hogar  ...  suma_hijos\n",
              "estado_laboral                                            ...            \n",
              "Desocupados buscan trabajo por primera vez  2.019029e+09  ...    0.174079\n",
              "Desocupados en seguro de paro               2.019030e+09  ...    0.733333\n",
              "Desocupados propiamente dichos              2.019029e+09  ...    0.925785\n",
              "Inactivo: estudiante                        2.019029e+09  ...    0.037610\n",
              "Inactivo: jubilado                          2.019029e+09  ...    1.212917\n",
              "Inactivo: otro                              2.019029e+09  ...    0.563129\n",
              "Inactivo: pensionista                       2.019029e+09  ...    2.160207\n",
              "Inactivo: realiza los quehaceres del hogar  2.019029e+09  ...    2.266678\n",
              "Inactivo: rentista                          2.019029e+09  ...    1.514493\n",
              "Ocupados                                    2.019029e+09  ...    0.795660\n",
              "\n",
              "[10 rows x 9 columns]"
            ]
          },
          "execution_count": 7,
          "metadata": {},
          "output_type": "execute_result"
        }
      ],
      "source": [
        "df.groupby(by='estado_laboral').mean()"
      ]
    },
    {
      "cell_type": "code",
      "execution_count": 8,
      "metadata": {
        "colab": {
          "base_uri": "https://localhost:8080/"
        },
        "id": "PjoxkmPpnLCB",
        "outputId": "8792ceb5-3059-4342-a13f-716669c4a67a"
      },
      "outputs": [
        {
          "name": "stdout",
          "output_type": "stream",
          "text": [
            "84000.0\n"
          ]
        }
      ],
      "source": [
        "quantil_99 = df[\"sueldo\"].quantile(0.99)\n",
        "print(quantil_99)\n",
        "\n",
        "df = df[df[\"sueldo\"] < quantil_99]\n",
        "\n",
        "quartil_1 = df[\"sueldo\"].quantile(0.25)\n",
        "quartil_3 = df[\"sueldo\"].quantile(0.75)\n",
        "\n",
        "iqr = quartil_3 - quartil_1\n",
        "\n",
        "df = df[df[\"sueldo\"] < quartil_3 + 1.5 * iqr]\n",
        "\n",
        "df = df[df[\"sueldo\"] > quartil_1 - 1.5 * iqr]"
      ]
    },
    {
      "cell_type": "code",
      "execution_count": 9,
      "metadata": {
        "id": "EJtNyEDpzLMY"
      },
      "outputs": [],
      "source": [
        "df['rango_sueldos'] = pd.qcut(df['sueldo'], q=10, duplicates='drop').cat.codes\n",
        "\n",
        "df['rango_edades'] = pd.qcut(df['edad'], q=10).cat.codes"
      ]
    },
    {
      "cell_type": "code",
      "execution_count": 10,
      "metadata": {
        "id": "jVBYMpglM1bf"
      },
      "outputs": [],
      "source": [
        "df = df[[\n",
        "    'sexo', \n",
        "    'edad', \n",
        "    'ascendencia', \n",
        "    'parentesco', \n",
        "    'estado_laboral', \n",
        "    'busca_otro_trabajo',\n",
        "    'actividad',\n",
        "    'asistencia alguna vez a enseñanza',\n",
        "    'edu preescolar',\n",
        "    'edu primaria',\n",
        "    'edu media',\n",
        "    'edu técnica',\n",
        "    'edu univ o simil',\n",
        "    'edu terciario no uni',\n",
        "    'edu posgrado',\n",
        "    'edu mag prof',\n",
        "    'barrio',\n",
        "    'estado_civil',\n",
        "    'suma_hijos',\n",
        "    'leer_escribir',\n",
        "    'rango_sueldos',\n",
        "    'rango_edades',\n",
        "    'region',\n",
        "    'vivienda',\n",
        "    'estrato'\n",
        "    ]]\n"
      ]
    },
    {
      "cell_type": "code",
      "execution_count": 11,
      "metadata": {
        "colab": {
          "base_uri": "https://localhost:8080/",
          "height": 323
        },
        "id": "sKxjpVTcwy2w",
        "outputId": "6187545f-1847-42bb-aa2e-b135a323d845"
      },
      "outputs": [
        {
          "data": {
            "text/html": [
              "<div>\n",
              "<style scoped>\n",
              "    .dataframe tbody tr th:only-of-type {\n",
              "        vertical-align: middle;\n",
              "    }\n",
              "\n",
              "    .dataframe tbody tr th {\n",
              "        vertical-align: top;\n",
              "    }\n",
              "\n",
              "    .dataframe thead th {\n",
              "        text-align: right;\n",
              "    }\n",
              "</style>\n",
              "<table border=\"1\" class=\"dataframe\">\n",
              "  <thead>\n",
              "    <tr style=\"text-align: right;\">\n",
              "      <th></th>\n",
              "      <th>sexo</th>\n",
              "      <th>edad</th>\n",
              "      <th>ascendencia</th>\n",
              "      <th>parentesco</th>\n",
              "      <th>estado_laboral</th>\n",
              "      <th>busca_otro_trabajo</th>\n",
              "      <th>actividad</th>\n",
              "      <th>asistencia alguna vez a enseñanza</th>\n",
              "      <th>edu preescolar</th>\n",
              "      <th>edu primaria</th>\n",
              "      <th>edu media</th>\n",
              "      <th>edu técnica</th>\n",
              "      <th>edu univ o simil</th>\n",
              "      <th>edu terciario no uni</th>\n",
              "      <th>edu posgrado</th>\n",
              "      <th>edu mag prof</th>\n",
              "      <th>barrio</th>\n",
              "      <th>estado_civil</th>\n",
              "      <th>suma_hijos</th>\n",
              "      <th>leer_escribir</th>\n",
              "      <th>rango_sueldos</th>\n",
              "      <th>rango_edades</th>\n",
              "      <th>region</th>\n",
              "      <th>vivienda</th>\n",
              "      <th>estrato</th>\n",
              "    </tr>\n",
              "  </thead>\n",
              "  <tbody>\n",
              "    <tr>\n",
              "      <th>0</th>\n",
              "      <td>Mujer</td>\n",
              "      <td>76.0</td>\n",
              "      <td>Blanca</td>\n",
              "      <td>Jefe/a de hogar</td>\n",
              "      <td>Inactivo: jubilado</td>\n",
              "      <td>0.0</td>\n",
              "      <td>.</td>\n",
              "      <td>Sí</td>\n",
              "      <td>No asistió</td>\n",
              "      <td>Sí, asistió</td>\n",
              "      <td>0.0</td>\n",
              "      <td>No asistió</td>\n",
              "      <td>0.0</td>\n",
              "      <td>0.0</td>\n",
              "      <td>0.0</td>\n",
              "      <td>0.0</td>\n",
              "      <td>0.0</td>\n",
              "      <td>Viudo/a de unión libre</td>\n",
              "      <td>0.0</td>\n",
              "      <td>Sí</td>\n",
              "      <td>0</td>\n",
              "      <td>9</td>\n",
              "      <td>Interior - Localidades de 5.000 habitantes o más</td>\n",
              "      <td>Propietario de la vivienda y el terreno y ya l...</td>\n",
              "      <td>Costa Este</td>\n",
              "    </tr>\n",
              "    <tr>\n",
              "      <th>1</th>\n",
              "      <td>Mujer</td>\n",
              "      <td>22.0</td>\n",
              "      <td>Blanca</td>\n",
              "      <td>Otro pariente</td>\n",
              "      <td>Inactivo: realiza los quehaceres del hogar</td>\n",
              "      <td>0.0</td>\n",
              "      <td>.</td>\n",
              "      <td>Sí</td>\n",
              "      <td>Sí, asistió</td>\n",
              "      <td>Sí, asistió</td>\n",
              "      <td>Sí, asistió</td>\n",
              "      <td>No asistió</td>\n",
              "      <td>No asistió</td>\n",
              "      <td>No asistió</td>\n",
              "      <td>0.0</td>\n",
              "      <td>No asistió</td>\n",
              "      <td>0.0</td>\n",
              "      <td>Soltero/a</td>\n",
              "      <td>0.0</td>\n",
              "      <td>Sí</td>\n",
              "      <td>0</td>\n",
              "      <td>1</td>\n",
              "      <td>Interior - Localidades de 5.000 habitantes o más</td>\n",
              "      <td>Propietario de la vivienda y el terreno y ya l...</td>\n",
              "      <td>Costa Este</td>\n",
              "    </tr>\n",
              "  </tbody>\n",
              "</table>\n",
              "</div>"
            ],
            "text/plain": [
              "    sexo  edad  ...                                           vivienda     estrato\n",
              "0  Mujer  76.0  ...  Propietario de la vivienda y el terreno y ya l...  Costa Este\n",
              "1  Mujer  22.0  ...  Propietario de la vivienda y el terreno y ya l...  Costa Este\n",
              "\n",
              "[2 rows x 25 columns]"
            ]
          },
          "execution_count": 11,
          "metadata": {},
          "output_type": "execute_result"
        }
      ],
      "source": [
        "df = df.reset_index(drop=True)\n",
        "\n",
        "df.head(2)"
      ]
    },
    {
      "cell_type": "code",
      "execution_count": 12,
      "metadata": {
        "colab": {
          "base_uri": "https://localhost:8080/"
        },
        "id": "BCLM-jN1-GPg",
        "outputId": "bafae2d5-cb58-4888-9fff-7591901ce48d"
      },
      "outputs": [
        {
          "data": {
            "text/plain": [
              "0    59982\n",
              "1     9344\n",
              "3     8546\n",
              "2     7674\n",
              "Name: rango_sueldos, dtype: int64"
            ]
          },
          "execution_count": 12,
          "metadata": {},
          "output_type": "execute_result"
        }
      ],
      "source": [
        "df['rango_sueldos'].value_counts()"
      ]
    },
    {
      "cell_type": "markdown",
      "metadata": {
        "id": "tr2CniL5M1bg"
      },
      "source": [
        "### DEFINIMOS LAS VARIABLES DEPENDIENTES E INDEPENDIENTES"
      ]
    },
    {
      "cell_type": "code",
      "execution_count": 13,
      "metadata": {
        "colab": {
          "base_uri": "https://localhost:8080/"
        },
        "id": "Fw7aZaAIM1bg",
        "outputId": "5c1a7161-2efb-4d75-c5f2-1bcb5c102595"
      },
      "outputs": [
        {
          "name": "stdout",
          "output_type": "stream",
          "text": [
            "X shape (85546, 24) \n",
            "Y shape (85546,)\n"
          ]
        }
      ],
      "source": [
        "# Feautures\n",
        "X = df.drop('rango_sueldos', axis=1).to_numpy()\n",
        "y = df['rango_sueldos']\n",
        "\n",
        "print('X shape', X.shape, '\\nY shape', y.shape)"
      ]
    },
    {
      "cell_type": "code",
      "execution_count": 14,
      "metadata": {
        "colab": {
          "base_uri": "https://localhost:8080/"
        },
        "id": "KsXLTa4mohqm",
        "outputId": "8894ad75-124c-427a-a5dd-920246815d1f"
      },
      "outputs": [
        {
          "data": {
            "text/plain": [
              "array([0, 1, 3, 2], dtype=int8)"
            ]
          },
          "execution_count": 14,
          "metadata": {},
          "output_type": "execute_result"
        }
      ],
      "source": [
        "y.unique()"
      ]
    },
    {
      "cell_type": "code",
      "execution_count": 15,
      "metadata": {
        "id": "VdOpqVADM1bc"
      },
      "outputs": [],
      "source": [
        "from sklearn.preprocessing import OneHotEncoder\n",
        "\n",
        "one_hot = OneHotEncoder()\n",
        "\n",
        "X = one_hot.fit_transform(X)"
      ]
    },
    {
      "cell_type": "code",
      "execution_count": 16,
      "metadata": {
        "id": "aWNq5Nn77-Yf"
      },
      "outputs": [],
      "source": [
        "from sklearn.preprocessing import Normalizer\n",
        "\n",
        "normalizer = Normalizer()\n",
        "\n",
        "X = normalizer.fit_transform(X)"
      ]
    },
    {
      "cell_type": "code",
      "execution_count": 17,
      "metadata": {
        "colab": {
          "base_uri": "https://localhost:8080/"
        },
        "id": "eTIu6kDf1IKl",
        "outputId": "f7bdd648-1094-49a8-da2d-91b01721bdf4"
      },
      "outputs": [
        {
          "data": {
            "text/plain": [
              "(85546, 660)"
            ]
          },
          "execution_count": 17,
          "metadata": {},
          "output_type": "execute_result"
        }
      ],
      "source": [
        "X.shape"
      ]
    },
    {
      "cell_type": "markdown",
      "metadata": {
        "id": "5WD2Cyb7gVtP"
      },
      "source": [
        "## Dejamos una fila afuera para testear el modelo más adelante"
      ]
    },
    {
      "cell_type": "code",
      "execution_count": 18,
      "metadata": {
        "id": "ZPOG_CpPaGdk"
      },
      "outputs": [],
      "source": [
        "test_sample = X[0]\n",
        "test_result = y[0]\n",
        "\n",
        "X = X[1:]\n",
        "y = y[1:]"
      ]
    },
    {
      "cell_type": "markdown",
      "metadata": {
        "id": "4WNKcjI3M1bg"
      },
      "source": [
        "### Dividimos los datos en un 30% de test y 70% de entrenamiento"
      ]
    },
    {
      "cell_type": "code",
      "execution_count": 19,
      "metadata": {
        "id": "ShFudTmNM1bh"
      },
      "outputs": [],
      "source": [
        "from sklearn.model_selection import train_test_split \n",
        "\n",
        "X_train, X_test, y_train, y_test = train_test_split(X, y, test_size=0.30, random_state=42) "
      ]
    },
    {
      "cell_type": "code",
      "execution_count": 20,
      "metadata": {
        "colab": {
          "base_uri": "https://localhost:8080/"
        },
        "id": "ZV5LPElaM1bh",
        "outputId": "21de35db-0983-4767-a2d0-24b63996ada6"
      },
      "outputs": [
        {
          "name": "stdout",
          "output_type": "stream",
          "text": [
            "(59881, 660) (59881,)\n",
            "(25664, 660) (25664,)\n"
          ]
        }
      ],
      "source": [
        "print(X_train.shape, y_train.shape)\n",
        "print(X_test.shape, y_test.shape)"
      ]
    },
    {
      "cell_type": "markdown",
      "metadata": {
        "id": "t3yhULSwM1bi"
      },
      "source": [
        "# DEFINIMOS ALGORITMO DE REGRESIÓN LOGISTICA"
      ]
    },
    {
      "cell_type": "code",
      "execution_count": 21,
      "metadata": {
        "id": "VA9pehfmM1bj"
      },
      "outputs": [],
      "source": [
        "from sklearn.linear_model import LogisticRegression\n",
        "from sklearn.model_selection import cross_val_score\n",
        "\n",
        "logistic_reg = LogisticRegression(multi_class='multinomial',max_iter=20000)"
      ]
    },
    {
      "cell_type": "code",
      "execution_count": 22,
      "metadata": {
        "id": "z6Nj2W2iJZgR"
      },
      "outputs": [],
      "source": [
        "#Definicion de Hyperparámetros\n",
        "param_grid = {'solver':['lbfgs', 'saga'],\n",
        "              'penalty': ['l1', 'l2'], \n",
        "              'C':[10, 1.0, 0.1]}"
      ]
    },
    {
      "cell_type": "markdown",
      "metadata": {
        "id": "hyyjyVfAbv5d"
      },
      "source": [
        "# RANDOM SEARCH"
      ]
    },
    {
      "cell_type": "code",
      "execution_count": 23,
      "metadata": {
        "id": "8ExNkLoGbxpz"
      },
      "outputs": [],
      "source": [
        "from sklearn.model_selection import RandomizedSearchCV\n",
        "\n",
        "#Aplicamos la búsqueda al modelo\n",
        "model = RandomizedSearchCV(logistic_reg, param_grid,n_iter=100, random_state=0, cv=5,scoring='accuracy',verbose=20)"
      ]
    },
    {
      "cell_type": "code",
      "execution_count": 24,
      "metadata": {
        "colab": {
          "base_uri": "https://localhost:8080/"
        },
        "id": "iNN8l9-9b_YZ",
        "outputId": "2cf4c963-d9bf-4ee4-96f8-ccdac5a59299"
      },
      "outputs": [
        {
          "name": "stdout",
          "output_type": "stream",
          "text": [
            "Fitting 5 folds for each of 12 candidates, totalling 60 fits\n",
            "[CV 1/5; 1/12] START C=10, penalty=l1, solver=lbfgs.............................\n",
            "[CV 1/5; 1/12] END C=10, penalty=l1, solver=lbfgs;, score=nan total time=   0.0s\n",
            "[CV 2/5; 1/12] START C=10, penalty=l1, solver=lbfgs.............................\n",
            "[CV 2/5; 1/12] END C=10, penalty=l1, solver=lbfgs;, score=nan total time=   0.0s\n",
            "[CV 3/5; 1/12] START C=10, penalty=l1, solver=lbfgs.............................\n",
            "[CV 3/5; 1/12] END C=10, penalty=l1, solver=lbfgs;, score=nan total time=   0.0s\n",
            "[CV 4/5; 1/12] START C=10, penalty=l1, solver=lbfgs.............................\n",
            "[CV 4/5; 1/12] END C=10, penalty=l1, solver=lbfgs;, score=nan total time=   0.0s\n",
            "[CV 5/5; 1/12] START C=10, penalty=l1, solver=lbfgs.............................\n",
            "[CV 5/5; 1/12] END C=10, penalty=l1, solver=lbfgs;, score=nan total time=   0.0s\n",
            "[CV 1/5; 2/12] START C=10, penalty=l1, solver=saga..............................\n"
          ]
        },
        {
          "name": "stderr",
          "output_type": "stream",
          "text": [
            "/usr/local/lib/python3.7/dist-packages/sklearn/model_selection/_search.py:296: UserWarning: The total space of parameters 12 is smaller than n_iter=100. Running 12 iterations. For exhaustive searches, use GridSearchCV.\n",
            "  UserWarning,\n"
          ]
        },
        {
          "name": "stdout",
          "output_type": "stream",
          "text": [
            "[CV 1/5; 2/12] END C=10, penalty=l1, solver=saga;, score=0.772 total time= 3.5min\n",
            "[CV 2/5; 2/12] START C=10, penalty=l1, solver=saga..............................\n",
            "[CV 2/5; 2/12] END C=10, penalty=l1, solver=saga;, score=0.766 total time= 3.1min\n",
            "[CV 3/5; 2/12] START C=10, penalty=l1, solver=saga..............................\n",
            "[CV 3/5; 2/12] END C=10, penalty=l1, solver=saga;, score=0.770 total time= 5.5min\n",
            "[CV 4/5; 2/12] START C=10, penalty=l1, solver=saga..............................\n",
            "[CV 4/5; 2/12] END C=10, penalty=l1, solver=saga;, score=0.767 total time= 7.7min\n",
            "[CV 5/5; 2/12] START C=10, penalty=l1, solver=saga..............................\n",
            "[CV 5/5; 2/12] END C=10, penalty=l1, solver=saga;, score=0.765 total time= 4.2min\n",
            "[CV 1/5; 3/12] START C=10, penalty=l2, solver=lbfgs.............................\n",
            "[CV 1/5; 3/12] END C=10, penalty=l2, solver=lbfgs;, score=0.773 total time=  27.7s\n",
            "[CV 2/5; 3/12] START C=10, penalty=l2, solver=lbfgs.............................\n",
            "[CV 2/5; 3/12] END C=10, penalty=l2, solver=lbfgs;, score=0.766 total time=  24.8s\n",
            "[CV 3/5; 3/12] START C=10, penalty=l2, solver=lbfgs.............................\n",
            "[CV 3/5; 3/12] END C=10, penalty=l2, solver=lbfgs;, score=0.771 total time=  25.7s\n",
            "[CV 4/5; 3/12] START C=10, penalty=l2, solver=lbfgs.............................\n",
            "[CV 4/5; 3/12] END C=10, penalty=l2, solver=lbfgs;, score=0.768 total time=  25.8s\n",
            "[CV 5/5; 3/12] START C=10, penalty=l2, solver=lbfgs.............................\n",
            "[CV 5/5; 3/12] END C=10, penalty=l2, solver=lbfgs;, score=0.765 total time=  26.9s\n",
            "[CV 1/5; 4/12] START C=10, penalty=l2, solver=saga..............................\n",
            "[CV 1/5; 4/12] END C=10, penalty=l2, solver=saga;, score=0.773 total time=  28.8s\n",
            "[CV 2/5; 4/12] START C=10, penalty=l2, solver=saga..............................\n",
            "[CV 2/5; 4/12] END C=10, penalty=l2, solver=saga;, score=0.766 total time=  32.6s\n",
            "[CV 3/5; 4/12] START C=10, penalty=l2, solver=saga..............................\n",
            "[CV 3/5; 4/12] END C=10, penalty=l2, solver=saga;, score=0.771 total time=  30.0s\n",
            "[CV 4/5; 4/12] START C=10, penalty=l2, solver=saga..............................\n",
            "[CV 4/5; 4/12] END C=10, penalty=l2, solver=saga;, score=0.768 total time=  32.8s\n",
            "[CV 5/5; 4/12] START C=10, penalty=l2, solver=saga..............................\n",
            "[CV 5/5; 4/12] END C=10, penalty=l2, solver=saga;, score=0.765 total time=  31.9s\n",
            "[CV 1/5; 5/12] START C=1.0, penalty=l1, solver=lbfgs............................\n",
            "[CV 1/5; 5/12] END C=1.0, penalty=l1, solver=lbfgs;, score=nan total time=   0.0s\n",
            "[CV 2/5; 5/12] START C=1.0, penalty=l1, solver=lbfgs............................\n",
            "[CV 2/5; 5/12] END C=1.0, penalty=l1, solver=lbfgs;, score=nan total time=   0.0s\n",
            "[CV 3/5; 5/12] START C=1.0, penalty=l1, solver=lbfgs............................\n",
            "[CV 3/5; 5/12] END C=1.0, penalty=l1, solver=lbfgs;, score=nan total time=   0.0s\n",
            "[CV 4/5; 5/12] START C=1.0, penalty=l1, solver=lbfgs............................\n",
            "[CV 4/5; 5/12] END C=1.0, penalty=l1, solver=lbfgs;, score=nan total time=   0.0s\n",
            "[CV 5/5; 5/12] START C=1.0, penalty=l1, solver=lbfgs............................\n",
            "[CV 5/5; 5/12] END C=1.0, penalty=l1, solver=lbfgs;, score=nan total time=   0.0s\n",
            "[CV 1/5; 6/12] START C=1.0, penalty=l1, solver=saga.............................\n",
            "[CV 1/5; 6/12] END C=1.0, penalty=l1, solver=saga;, score=0.768 total time=  12.5s\n",
            "[CV 2/5; 6/12] START C=1.0, penalty=l1, solver=saga.............................\n",
            "[CV 2/5; 6/12] END C=1.0, penalty=l1, solver=saga;, score=0.765 total time=  22.0s\n",
            "[CV 3/5; 6/12] START C=1.0, penalty=l1, solver=saga.............................\n",
            "[CV 3/5; 6/12] END C=1.0, penalty=l1, solver=saga;, score=0.765 total time=  18.8s\n",
            "[CV 4/5; 6/12] START C=1.0, penalty=l1, solver=saga.............................\n",
            "[CV 4/5; 6/12] END C=1.0, penalty=l1, solver=saga;, score=0.765 total time=  14.9s\n",
            "[CV 5/5; 6/12] START C=1.0, penalty=l1, solver=saga.............................\n",
            "[CV 5/5; 6/12] END C=1.0, penalty=l1, solver=saga;, score=0.763 total time=  10.1s\n",
            "[CV 1/5; 7/12] START C=1.0, penalty=l2, solver=lbfgs............................\n",
            "[CV 1/5; 7/12] END C=1.0, penalty=l2, solver=lbfgs;, score=0.767 total time=  11.5s\n",
            "[CV 2/5; 7/12] START C=1.0, penalty=l2, solver=lbfgs............................\n",
            "[CV 2/5; 7/12] END C=1.0, penalty=l2, solver=lbfgs;, score=0.761 total time=  10.7s\n",
            "[CV 3/5; 7/12] START C=1.0, penalty=l2, solver=lbfgs............................\n",
            "[CV 3/5; 7/12] END C=1.0, penalty=l2, solver=lbfgs;, score=0.762 total time=  10.5s\n",
            "[CV 4/5; 7/12] START C=1.0, penalty=l2, solver=lbfgs............................\n",
            "[CV 4/5; 7/12] END C=1.0, penalty=l2, solver=lbfgs;, score=0.760 total time=  10.7s\n",
            "[CV 5/5; 7/12] START C=1.0, penalty=l2, solver=lbfgs............................\n",
            "[CV 5/5; 7/12] END C=1.0, penalty=l2, solver=lbfgs;, score=0.761 total time=  10.1s\n",
            "[CV 1/5; 8/12] START C=1.0, penalty=l2, solver=saga.............................\n",
            "[CV 1/5; 8/12] END C=1.0, penalty=l2, solver=saga;, score=0.767 total time=  12.1s\n",
            "[CV 2/5; 8/12] START C=1.0, penalty=l2, solver=saga.............................\n",
            "[CV 2/5; 8/12] END C=1.0, penalty=l2, solver=saga;, score=0.761 total time=  10.1s\n",
            "[CV 3/5; 8/12] START C=1.0, penalty=l2, solver=saga.............................\n",
            "[CV 3/5; 8/12] END C=1.0, penalty=l2, solver=saga;, score=0.762 total time=  11.6s\n",
            "[CV 4/5; 8/12] START C=1.0, penalty=l2, solver=saga.............................\n",
            "[CV 4/5; 8/12] END C=1.0, penalty=l2, solver=saga;, score=0.760 total time=  11.6s\n",
            "[CV 5/5; 8/12] START C=1.0, penalty=l2, solver=saga.............................\n",
            "[CV 5/5; 8/12] END C=1.0, penalty=l2, solver=saga;, score=0.761 total time=  11.0s\n",
            "[CV 1/5; 9/12] START C=0.1, penalty=l1, solver=lbfgs............................\n",
            "[CV 1/5; 9/12] END C=0.1, penalty=l1, solver=lbfgs;, score=nan total time=   0.0s\n",
            "[CV 2/5; 9/12] START C=0.1, penalty=l1, solver=lbfgs............................\n",
            "[CV 2/5; 9/12] END C=0.1, penalty=l1, solver=lbfgs;, score=nan total time=   0.0s\n",
            "[CV 3/5; 9/12] START C=0.1, penalty=l1, solver=lbfgs............................\n",
            "[CV 3/5; 9/12] END C=0.1, penalty=l1, solver=lbfgs;, score=nan total time=   0.0s\n",
            "[CV 4/5; 9/12] START C=0.1, penalty=l1, solver=lbfgs............................\n",
            "[CV 4/5; 9/12] END C=0.1, penalty=l1, solver=lbfgs;, score=nan total time=   0.0s\n",
            "[CV 5/5; 9/12] START C=0.1, penalty=l1, solver=lbfgs............................\n",
            "[CV 5/5; 9/12] END C=0.1, penalty=l1, solver=lbfgs;, score=nan total time=   0.0s\n",
            "[CV 1/5; 10/12] START C=0.1, penalty=l1, solver=saga............................\n",
            "[CV 1/5; 10/12] END C=0.1, penalty=l1, solver=saga;, score=0.746 total time=   2.5s\n",
            "[CV 2/5; 10/12] START C=0.1, penalty=l1, solver=saga............................\n",
            "[CV 2/5; 10/12] END C=0.1, penalty=l1, solver=saga;, score=0.741 total time=   2.4s\n",
            "[CV 3/5; 10/12] START C=0.1, penalty=l1, solver=saga............................\n",
            "[CV 3/5; 10/12] END C=0.1, penalty=l1, solver=saga;, score=0.743 total time=   5.3s\n",
            "[CV 4/5; 10/12] START C=0.1, penalty=l1, solver=saga............................\n",
            "[CV 4/5; 10/12] END C=0.1, penalty=l1, solver=saga;, score=0.743 total time=  19.8s\n",
            "[CV 5/5; 10/12] START C=0.1, penalty=l1, solver=saga............................\n",
            "[CV 5/5; 10/12] END C=0.1, penalty=l1, solver=saga;, score=0.740 total time=   8.6s\n",
            "[CV 1/5; 11/12] START C=0.1, penalty=l2, solver=lbfgs...........................\n",
            "[CV 1/5; 11/12] END C=0.1, penalty=l2, solver=lbfgs;, score=0.740 total time=   4.7s\n",
            "[CV 2/5; 11/12] START C=0.1, penalty=l2, solver=lbfgs...........................\n",
            "[CV 2/5; 11/12] END C=0.1, penalty=l2, solver=lbfgs;, score=0.738 total time=   4.9s\n",
            "[CV 3/5; 11/12] START C=0.1, penalty=l2, solver=lbfgs...........................\n",
            "[CV 3/5; 11/12] END C=0.1, penalty=l2, solver=lbfgs;, score=0.743 total time=   4.5s\n",
            "[CV 4/5; 11/12] START C=0.1, penalty=l2, solver=lbfgs...........................\n",
            "[CV 4/5; 11/12] END C=0.1, penalty=l2, solver=lbfgs;, score=0.737 total time=   4.4s\n",
            "[CV 5/5; 11/12] START C=0.1, penalty=l2, solver=lbfgs...........................\n",
            "[CV 5/5; 11/12] END C=0.1, penalty=l2, solver=lbfgs;, score=0.739 total time=   4.5s\n",
            "[CV 1/5; 12/12] START C=0.1, penalty=l2, solver=saga............................\n",
            "[CV 1/5; 12/12] END C=0.1, penalty=l2, solver=saga;, score=0.740 total time=   3.6s\n",
            "[CV 2/5; 12/12] START C=0.1, penalty=l2, solver=saga............................\n",
            "[CV 2/5; 12/12] END C=0.1, penalty=l2, solver=saga;, score=0.738 total time=   2.5s\n",
            "[CV 3/5; 12/12] START C=0.1, penalty=l2, solver=saga............................\n",
            "[CV 3/5; 12/12] END C=0.1, penalty=l2, solver=saga;, score=0.743 total time=   2.1s\n",
            "[CV 4/5; 12/12] START C=0.1, penalty=l2, solver=saga............................\n",
            "[CV 4/5; 12/12] END C=0.1, penalty=l2, solver=saga;, score=0.737 total time=   3.3s\n",
            "[CV 5/5; 12/12] START C=0.1, penalty=l2, solver=saga............................\n",
            "[CV 5/5; 12/12] END C=0.1, penalty=l2, solver=saga;, score=0.740 total time=   3.1s\n"
          ]
        },
        {
          "name": "stderr",
          "output_type": "stream",
          "text": [
            "/usr/local/lib/python3.7/dist-packages/sklearn/model_selection/_validation.py:372: FitFailedWarning: \n",
            "15 fits failed out of a total of 60.\n",
            "The score on these train-test partitions for these parameters will be set to nan.\n",
            "If these failures are not expected, you can try to debug them by setting error_score='raise'.\n",
            "\n",
            "Below are more details about the failures:\n",
            "--------------------------------------------------------------------------------\n",
            "15 fits failed with the following error:\n",
            "Traceback (most recent call last):\n",
            "  File \"/usr/local/lib/python3.7/dist-packages/sklearn/model_selection/_validation.py\", line 681, in _fit_and_score\n",
            "    estimator.fit(X_train, y_train, **fit_params)\n",
            "  File \"/usr/local/lib/python3.7/dist-packages/sklearn/linear_model/_logistic.py\", line 1461, in fit\n",
            "    solver = _check_solver(self.solver, self.penalty, self.dual)\n",
            "  File \"/usr/local/lib/python3.7/dist-packages/sklearn/linear_model/_logistic.py\", line 449, in _check_solver\n",
            "    % (solver, penalty)\n",
            "ValueError: Solver lbfgs supports only 'l2' or 'none' penalties, got l1 penalty.\n",
            "\n",
            "  warnings.warn(some_fits_failed_message, FitFailedWarning)\n",
            "/usr/local/lib/python3.7/dist-packages/sklearn/model_selection/_search.py:972: UserWarning: One or more of the test scores are non-finite: [       nan 0.76788958 0.76840726 0.76839056        nan 0.76535123\n",
            " 0.76212814 0.76204464        nan 0.74253931 0.7393831  0.7393497 ]\n",
            "  category=UserWarning,\n"
          ]
        },
        {
          "data": {
            "text/plain": [
              "RandomizedSearchCV(cv=5,\n",
              "                   estimator=LogisticRegression(max_iter=20000,\n",
              "                                                multi_class='multinomial'),\n",
              "                   n_iter=100,\n",
              "                   param_distributions={'C': [10, 1.0, 0.1],\n",
              "                                        'penalty': ['l1', 'l2'],\n",
              "                                        'solver': ['lbfgs', 'saga']},\n",
              "                   random_state=0, scoring='accuracy', verbose=20)"
            ]
          },
          "execution_count": 24,
          "metadata": {},
          "output_type": "execute_result"
        }
      ],
      "source": [
        "model.fit(X_train, y_train)"
      ]
    },
    {
      "cell_type": "code",
      "execution_count": 25,
      "metadata": {
        "colab": {
          "base_uri": "https://localhost:8080/"
        },
        "id": "C_GvvKjKb_54",
        "outputId": "120593a6-c8cd-4bb4-ee9f-173e52c40976"
      },
      "outputs": [
        {
          "name": "stdout",
          "output_type": "stream",
          "text": [
            "Mejores parametros: {'solver': 'lbfgs', 'penalty': 'l2', 'C': 10}\n",
            "Mejor Score: 0.7684072634428635\n",
            "\n"
          ]
        }
      ],
      "source": [
        "print(\"Mejores parametros: \"+str(model.best_params_))\n",
        "print(\"Mejor Score: \"+str(model.best_score_)+'\\n')"
      ]
    },
    {
      "cell_type": "code",
      "execution_count": 26,
      "metadata": {
        "id": "AQ6nhFY0cCdO"
      },
      "outputs": [],
      "source": [
        "# Prediccion\n",
        "prediction = model.predict(X_test)"
      ]
    },
    {
      "cell_type": "code",
      "execution_count": 28,
      "metadata": {
        "colab": {
          "base_uri": "https://localhost:8080/"
        },
        "id": "FQCcS1aMcEmH",
        "outputId": "8749b109-2db2-4526-c952-1c2fd179bfc5"
      },
      "outputs": [
        {
          "name": "stdout",
          "output_type": "stream",
          "text": [
            "Matriz de confusión:\n",
            "[[17162   456   147   340]\n",
            " [ 1386   744   296   260]\n",
            " [  760   394   476   670]\n",
            " [  645   143   314  1471]]\n"
          ]
        }
      ],
      "source": [
        "from sklearn.metrics import confusion_matrix\n",
        "\n",
        "# Matriz de Confusion\n",
        "cm = confusion_matrix(y_test,prediction)\n",
        "print(\"Matriz de confusión:\")\n",
        "print(cm)"
      ]
    },
    {
      "cell_type": "markdown",
      "metadata": {
        "id": "q04MCUMve2Zm"
      },
      "source": [
        "# GRID SEARCH CV"
      ]
    },
    {
      "cell_type": "code",
      "execution_count": null,
      "metadata": {
        "id": "-H6C4ipbfObM"
      },
      "outputs": [],
      "source": [
        "from sklearn.model_selection import GridSearchCV\n",
        "\n",
        "#Grid Search con hyperparámetros\n",
        "model = GridSearchCV(logistic_reg, param_grid=param_grid, cv=5,scoring='accuracy',verbose=20)"
      ]
    },
    {
      "cell_type": "code",
      "execution_count": null,
      "metadata": {
        "id": "1jnAIf8VNwNY"
      },
      "outputs": [],
      "source": [
        "model.fit(X_train, y_train)"
      ]
    },
    {
      "cell_type": "code",
      "execution_count": null,
      "metadata": {
        "id": "v5okkQQvRLiz"
      },
      "outputs": [],
      "source": [
        "model"
      ]
    },
    {
      "cell_type": "code",
      "execution_count": null,
      "metadata": {
        "id": "rHuaGRr6QGM0"
      },
      "outputs": [],
      "source": [
        "print(\"Mejores parametros: \"+str(model.best_params_))\n",
        "print(\"Mejor Score: \"+str(model.best_score_)+'\\n')"
      ]
    },
    {
      "cell_type": "code",
      "execution_count": null,
      "metadata": {
        "id": "Sk2eF2hMM1bj"
      },
      "outputs": [],
      "source": [
        "print('Promedio de cross_validation ', round(scores.mean(),2))\n",
        "print('Score en test ', round(logistic_reg.score(X_test, y_test),2))\n",
        "print('Score en train ', round(logistic_reg.score(X_train, y_train),2))"
      ]
    },
    {
      "cell_type": "code",
      "execution_count": null,
      "metadata": {
        "id": "1wgaRZ6BM1bm"
      },
      "outputs": [],
      "source": [
        "from sklearn.metrics import accuracy_score\n",
        "\n",
        "#Prediccion en Train y Test\n",
        "y_train_pred = model.predict(X_train)\n",
        "y_test_pred = model.predict(X_test)\n",
        "\n",
        "#Calculo el accuracy en Train y Test\n",
        "train_accuracy = accuracy_score(y_train, y_train_pred)\n",
        "test_accuracy = accuracy_score(y_test, y_test_pred)\n",
        "\n",
        "print('Aciertos sobre train:', round(train_accuracy, 2))\n",
        "print('Exactitud sobre test:', round(test_accuracy, 2))"
      ]
    },
    {
      "cell_type": "markdown",
      "metadata": {
        "id": "ACeJF5NUM1bl"
      },
      "source": [
        "### APLICAMOS PREDICCIÓN SOBRE EL MODELO"
      ]
    },
    {
      "cell_type": "code",
      "execution_count": null,
      "metadata": {
        "id": "c5PlQMpUM1bl"
      },
      "outputs": [],
      "source": [
        "print(model.predict(test_sample))\n",
        "\n",
        "print(test_result)"
      ]
    },
    {
      "cell_type": "markdown",
      "metadata": {
        "id": "DYYlDLatM1bm"
      },
      "source": [
        "Determinamos la probabilidad de la predicción"
      ]
    },
    {
      "cell_type": "code",
      "execution_count": null,
      "metadata": {
        "id": "XWzmupvzM1bm"
      },
      "outputs": [],
      "source": [
        "probabilidades_prediccion = model.predict_proba(test_sample)\n",
        "probabilidades_prediccion"
      ]
    },
    {
      "cell_type": "code",
      "execution_count": null,
      "metadata": {
        "id": "FzF5F8XuM1bl"
      },
      "outputs": [],
      "source": [
        "from sklearn.metrics import confusion_matrix\n",
        "\n",
        "confusion_matrix(y_test, y_test_pred)\n",
        "\n",
        "print(\"Matriz de confusión:\")\n",
        "print(cm)"
      ]
    },
    {
      "cell_type": "markdown",
      "metadata": {
        "id": "5BPPzKUaHVfY"
      },
      "source": [
        "# REPETIMOS EL EJERCICIO CON EL MODELO DE RANDOM FOREST"
      ]
    },
    {
      "cell_type": "code",
      "execution_count": null,
      "metadata": {
        "id": "ODF-6NeoHVfa"
      },
      "outputs": [],
      "source": [
        "from sklearn.ensemble import RandomForestClassifier\n",
        "\n",
        "random_forest = RandomForestClassifier(100)\n",
        "\n",
        "random_forest.fit(X_train, y_train)"
      ]
    },
    {
      "cell_type": "code",
      "execution_count": null,
      "metadata": {
        "id": "JH1bvMyMHVfa"
      },
      "outputs": [],
      "source": [
        "scores = cross_val_score(random_forest, X, y, cv=5)\n",
        "\n",
        "scores"
      ]
    },
    {
      "cell_type": "code",
      "execution_count": null,
      "metadata": {
        "id": "EdbWI5glHVfa"
      },
      "outputs": [],
      "source": [
        "print('Promedio de cross_validation ', round(scores.mean(),2))\n",
        "print('Score en test ', round(logistic_reg.score(X_test, y_test),2))\n",
        "print('Score en train ', round(logistic_reg.score(X_train, y_train),2))"
      ]
    },
    {
      "cell_type": "code",
      "execution_count": null,
      "metadata": {
        "id": "7iZRCzTEMSBF"
      },
      "outputs": [],
      "source": [
        "predictions = logistic_reg.predict(X_test)\n",
        "\n",
        "confusion_matrix(y_test, predictions)"
      ]
    },
    {
      "cell_type": "code",
      "execution_count": null,
      "metadata": {
        "id": "KGw6_y5BHVfa"
      },
      "outputs": [],
      "source": [
        "#Prediccion en Train\n",
        "y_train_pred = random_forest.predict(X_train)\n",
        "\n",
        "#Prediccion en Test\n",
        "y_test_pred = random_forest.predict(X_test)\n",
        "\n",
        "#Calculo el accuracy en Train\n",
        "train_accuracy = accuracy_score(y_train, y_train_pred)\n",
        "\n",
        "#Calculo el accuracy en Test\n",
        "test_accuracy = accuracy_score(y_test, y_test_pred)\n",
        "\n",
        "print('Aciertos sobre entrenamiento:', round(train_accuracy, 2))\n",
        "print('Aciertos sobre evaluación:', round(test_accuracy, 2))"
      ]
    },
    {
      "cell_type": "code",
      "execution_count": null,
      "metadata": {
        "id": "BAkm5UkiQlIn"
      },
      "outputs": [],
      "source": [
        "print(random_forest.predict(test_sample))\n",
        "print(test_result)"
      ]
    },
    {
      "cell_type": "code",
      "execution_count": null,
      "metadata": {
        "id": "d97HKQxVGRpB"
      },
      "outputs": [],
      "source": [
        "probabilidades_prediccion = random_forest.predict_proba(test_sample)\n",
        "probabilidades_prediccion"
      ]
    },
    {
      "cell_type": "markdown",
      "metadata": {
        "id": "wtPUDB4SYAsh"
      },
      "source": [
        "# REPETIMOS EL EJERCICIO CON EL MODELO DE K NEAREST NEIGHBOURS"
      ]
    },
    {
      "cell_type": "code",
      "execution_count": null,
      "metadata": {
        "id": "DP-ODZm4YBR4"
      },
      "outputs": [],
      "source": [
        "from sklearn.neighbors import KNeighborsClassifier\n",
        "\n",
        "knearest_model = KNeighborsClassifier(n_neighbors=4)\n",
        "\n",
        "knearest_model.fit(X_train, y_train)"
      ]
    },
    {
      "cell_type": "code",
      "execution_count": null,
      "metadata": {
        "id": "uLbTJmdkYX6P"
      },
      "outputs": [],
      "source": [
        "scores = cross_val_score(knearest_model, X, y, cv=5)\n",
        "\n",
        "scores           "
      ]
    },
    {
      "cell_type": "code",
      "execution_count": null,
      "metadata": {
        "id": "WjGoWFlJYcDC"
      },
      "outputs": [],
      "source": [
        "print('Promedio de cross_validation ', round(scores.mean(),2))\n",
        "print('Score en test ', round(knearest_model.score(X_test, y_test),2))\n",
        "print('Score en train ', round(knearest_model.score(X_train, y_train),2))"
      ]
    },
    {
      "cell_type": "code",
      "execution_count": null,
      "metadata": {
        "id": "jUEjCBlxMCo0"
      },
      "outputs": [],
      "source": [
        "predictions = knearest_model.predict(X_test)\n",
        "\n",
        "confusion_matrix(y_test, predictions)"
      ]
    },
    {
      "cell_type": "code",
      "execution_count": null,
      "metadata": {
        "id": "iEfxUO49YhIS"
      },
      "outputs": [],
      "source": [
        "#Prediccion en Train\n",
        "y_train_pred = knearest_model.predict(X_train)\n",
        "\n",
        "#Prediccion en Test\n",
        "y_test_pred = knearest_model.predict(X_test)\n",
        "\n",
        "#Calculo el accuracy en Train\n",
        "train_accuracy = accuracy_score(y_train, y_train_pred)\n",
        "\n",
        "#Calculo el accuracy en Test\n",
        "test_accuracy = accuracy_score(y_test, y_test_pred)\n",
        "\n",
        "print('Aciertos sobre entrenamiento:', round(train_accuracy, 2))\n",
        "print('Aciertos sobre evaluación:', round(test_accuracy, 2))"
      ]
    },
    {
      "cell_type": "code",
      "execution_count": null,
      "metadata": {
        "id": "44S2Y5vrYnF3"
      },
      "outputs": [],
      "source": [
        "print(knearest_model.predict(test_sample))\n",
        "print(test_result)"
      ]
    },
    {
      "cell_type": "code",
      "execution_count": null,
      "metadata": {
        "id": "Gc2uLLabGVQa"
      },
      "outputs": [],
      "source": [
        "probabilidades_prediccion = knearest_model.predict_proba(test_sample)\n",
        "probabilidades_prediccion"
      ]
    },
    {
      "cell_type": "markdown",
      "metadata": {},
      "source": [
        "# Columna que diga por arriba de la media de hombres o no\n",
        "\n",
        "# Cómo determino si afecta o no"
      ]
    }
  ],
  "metadata": {
    "colab": {
      "collapsed_sections": [
        "q04MCUMve2Zm",
        "5BPPzKUaHVfY",
        "wtPUDB4SYAsh"
      ],
      "name": "ECH_MODELOS.ipynb",
      "provenance": []
    },
    "interpreter": {
      "hash": "d0fd3259a0ae7798bf28b9ed97f5d4d70eaf745bfa37ff3042465361f4141f08"
    },
    "kernelspec": {
      "display_name": "Python 3 (ipykernel)",
      "language": "python",
      "name": "python3"
    },
    "language_info": {
      "codemirror_mode": {
        "name": "ipython",
        "version": 3
      },
      "file_extension": ".py",
      "mimetype": "text/x-python",
      "name": "python",
      "nbconvert_exporter": "python",
      "pygments_lexer": "ipython3",
      "version": "3.9.7"
    }
  },
  "nbformat": 4,
  "nbformat_minor": 0
}
