{
 "cells": [
  {
   "cell_type": "code",
   "execution_count": 42,
   "metadata": {},
   "outputs": [
    {
     "name": "stdout",
     "output_type": "stream",
     "text": [
      "<class 'pandas.core.frame.DataFrame'>\n",
      "RangeIndex: 107871 entries, 0 to 107870\n",
      "Data columns (total 19 columns):\n",
      " #   Column                             Non-Null Count   Dtype \n",
      "---  ------                             --------------   ----- \n",
      " 0   id_hogar                           107871 non-null  int64 \n",
      " 1   sexo                               107871 non-null  object\n",
      " 2   edad                               107871 non-null  int64 \n",
      " 3   ascendencia                        107871 non-null  object\n",
      " 4   parentesco                         107871 non-null  object\n",
      " 5   estado_laboral                     107871 non-null  object\n",
      " 6   nper                               107871 non-null  int64 \n",
      " 7   sueldo                             107871 non-null  int64 \n",
      " 8   busca_otro_trabajo                 107871 non-null  object\n",
      " 9   actividad                          107871 non-null  object\n",
      " 10  asistencia alguna vez a enseñanza  107871 non-null  object\n",
      " 11  edu preescolar                     107871 non-null  object\n",
      " 12  edu primaria                       107871 non-null  object\n",
      " 13  edu media                          107871 non-null  object\n",
      " 14  edu técnica                        107871 non-null  object\n",
      " 15  edu univ o simil                   107871 non-null  object\n",
      " 16  edu terciario no uni               107871 non-null  object\n",
      " 17  edu posgrado                       107871 non-null  object\n",
      " 18  edu mag prof                       107871 non-null  object\n",
      "dtypes: int64(4), object(15)\n",
      "memory usage: 15.6+ MB\n"
     ]
    }
   ],
   "source": [
    "import pandas as pd\n",
    "import numpy as np\n",
    "import seaborn as sns\n",
    "\n",
    "sns.set(rc={'figure.figsize': (30, 15)}, font_scale=1.5)\n",
    "\n",
    "df = pd.read_csv('ECH_2019.csv')\n",
    "\n",
    "df.info()"
   ]
  },
  {
   "cell_type": "code",
   "execution_count": 43,
   "metadata": {},
   "outputs": [
    {
     "data": {
      "text/html": [
       "<div>\n",
       "<style scoped>\n",
       "    .dataframe tbody tr th:only-of-type {\n",
       "        vertical-align: middle;\n",
       "    }\n",
       "\n",
       "    .dataframe tbody tr th {\n",
       "        vertical-align: top;\n",
       "    }\n",
       "\n",
       "    .dataframe thead th {\n",
       "        text-align: right;\n",
       "    }\n",
       "</style>\n",
       "<table border=\"1\" class=\"dataframe\">\n",
       "  <thead>\n",
       "    <tr style=\"text-align: right;\">\n",
       "      <th></th>\n",
       "      <th>id_hogar</th>\n",
       "      <th>sexo</th>\n",
       "      <th>edad</th>\n",
       "      <th>ascendencia</th>\n",
       "      <th>parentesco</th>\n",
       "      <th>estado_laboral</th>\n",
       "      <th>nper</th>\n",
       "      <th>sueldo</th>\n",
       "      <th>busca_otro_trabajo</th>\n",
       "      <th>actividad</th>\n",
       "      <th>asistencia alguna vez a enseñanza</th>\n",
       "      <th>edu preescolar</th>\n",
       "      <th>edu primaria</th>\n",
       "      <th>edu media</th>\n",
       "      <th>edu técnica</th>\n",
       "      <th>edu univ o simil</th>\n",
       "      <th>edu terciario no uni</th>\n",
       "      <th>edu posgrado</th>\n",
       "      <th>edu mag prof</th>\n",
       "    </tr>\n",
       "  </thead>\n",
       "  <tbody>\n",
       "    <tr>\n",
       "      <th>7062</th>\n",
       "      <td>2019003769</td>\n",
       "      <td>Hombre</td>\n",
       "      <td>56</td>\n",
       "      <td>Blanca</td>\n",
       "      <td>Jefe/a de hogar</td>\n",
       "      <td>Ocupados</td>\n",
       "      <td>1</td>\n",
       "      <td>20000</td>\n",
       "      <td>No</td>\n",
       "      <td>Investigación y desarrollo en el campo de las ...</td>\n",
       "      <td>Sí</td>\n",
       "      <td>No asistió</td>\n",
       "      <td>Sí, asistió</td>\n",
       "      <td>No asistió</td>\n",
       "      <td>Sí, asistió</td>\n",
       "      <td>0</td>\n",
       "      <td>0</td>\n",
       "      <td>0</td>\n",
       "      <td>0</td>\n",
       "    </tr>\n",
       "    <tr>\n",
       "      <th>52656</th>\n",
       "      <td>2019028269</td>\n",
       "      <td>Mujer</td>\n",
       "      <td>33</td>\n",
       "      <td>Blanca</td>\n",
       "      <td>Jefe/a de hogar</td>\n",
       "      <td>Ocupados</td>\n",
       "      <td>1</td>\n",
       "      <td>0</td>\n",
       "      <td>No</td>\n",
       "      <td>Comercio al por menor en puestos de venta y me...</td>\n",
       "      <td>Sí</td>\n",
       "      <td>Sí, asistió</td>\n",
       "      <td>Sí, asistió</td>\n",
       "      <td>No asistió</td>\n",
       "      <td>No asistió</td>\n",
       "      <td>0</td>\n",
       "      <td>0</td>\n",
       "      <td>0</td>\n",
       "      <td>0</td>\n",
       "    </tr>\n",
       "    <tr>\n",
       "      <th>99032</th>\n",
       "      <td>2019053323</td>\n",
       "      <td>Mujer</td>\n",
       "      <td>46</td>\n",
       "      <td>Blanca</td>\n",
       "      <td>Jefe/a de hogar</td>\n",
       "      <td>Ocupados</td>\n",
       "      <td>1</td>\n",
       "      <td>24000</td>\n",
       "      <td>No</td>\n",
       "      <td>Comercio al por menor en almacenes no especial...</td>\n",
       "      <td>Sí</td>\n",
       "      <td>Sí, asistió</td>\n",
       "      <td>Sí, asistió</td>\n",
       "      <td>Sí, asistió</td>\n",
       "      <td>No asistió</td>\n",
       "      <td>0</td>\n",
       "      <td>0</td>\n",
       "      <td>0</td>\n",
       "      <td>0</td>\n",
       "    </tr>\n",
       "    <tr>\n",
       "      <th>55952</th>\n",
       "      <td>2019030020</td>\n",
       "      <td>Hombre</td>\n",
       "      <td>13</td>\n",
       "      <td>Blanca</td>\n",
       "      <td>Hijo/a de ambos</td>\n",
       "      <td>Menores de 14 años</td>\n",
       "      <td>3</td>\n",
       "      <td>0</td>\n",
       "      <td>0</td>\n",
       "      <td>.</td>\n",
       "      <td>Sí</td>\n",
       "      <td>Sí, asistió</td>\n",
       "      <td>Asiste actualmente</td>\n",
       "      <td>0</td>\n",
       "      <td>0</td>\n",
       "      <td>0</td>\n",
       "      <td>0</td>\n",
       "      <td>0</td>\n",
       "      <td>0</td>\n",
       "    </tr>\n",
       "    <tr>\n",
       "      <th>12811</th>\n",
       "      <td>2019006901</td>\n",
       "      <td>Hombre</td>\n",
       "      <td>48</td>\n",
       "      <td>Blanca</td>\n",
       "      <td>Jefe/a de hogar</td>\n",
       "      <td>Ocupados</td>\n",
       "      <td>1</td>\n",
       "      <td>36000</td>\n",
       "      <td>Sí</td>\n",
       "      <td>Construcción de obras de arquitectura</td>\n",
       "      <td>Sí</td>\n",
       "      <td>No asistió</td>\n",
       "      <td>Sí, asistió</td>\n",
       "      <td>Sí, asistió</td>\n",
       "      <td>No asistió</td>\n",
       "      <td>0</td>\n",
       "      <td>0</td>\n",
       "      <td>0</td>\n",
       "      <td>0</td>\n",
       "    </tr>\n",
       "  </tbody>\n",
       "</table>\n",
       "</div>"
      ],
      "text/plain": [
       "         id_hogar    sexo  edad ascendencia       parentesco  \\\n",
       "7062   2019003769  Hombre    56      Blanca  Jefe/a de hogar   \n",
       "52656  2019028269   Mujer    33      Blanca  Jefe/a de hogar   \n",
       "99032  2019053323   Mujer    46      Blanca  Jefe/a de hogar   \n",
       "55952  2019030020  Hombre    13      Blanca  Hijo/a de ambos   \n",
       "12811  2019006901  Hombre    48      Blanca  Jefe/a de hogar   \n",
       "\n",
       "           estado_laboral  nper  sueldo busca_otro_trabajo  \\\n",
       "7062             Ocupados     1   20000                 No   \n",
       "52656            Ocupados     1       0                 No   \n",
       "99032            Ocupados     1   24000                 No   \n",
       "55952  Menores de 14 años     3       0                  0   \n",
       "12811            Ocupados     1   36000                 Sí   \n",
       "\n",
       "                                               actividad  \\\n",
       "7062   Investigación y desarrollo en el campo de las ...   \n",
       "52656  Comercio al por menor en puestos de venta y me...   \n",
       "99032  Comercio al por menor en almacenes no especial...   \n",
       "55952                                                  .   \n",
       "12811              Construcción de obras de arquitectura   \n",
       "\n",
       "      asistencia alguna vez a enseñanza edu preescolar        edu primaria  \\\n",
       "7062                                 Sí     No asistió         Sí, asistió   \n",
       "52656                                Sí    Sí, asistió         Sí, asistió   \n",
       "99032                                Sí    Sí, asistió         Sí, asistió   \n",
       "55952                                Sí    Sí, asistió  Asiste actualmente   \n",
       "12811                                Sí     No asistió         Sí, asistió   \n",
       "\n",
       "         edu media  edu técnica edu univ o simil edu terciario no uni  \\\n",
       "7062    No asistió  Sí, asistió                0                    0   \n",
       "52656   No asistió   No asistió                0                    0   \n",
       "99032  Sí, asistió   No asistió                0                    0   \n",
       "55952            0            0                0                    0   \n",
       "12811  Sí, asistió   No asistió                0                    0   \n",
       "\n",
       "      edu posgrado edu mag prof  \n",
       "7062             0            0  \n",
       "52656            0            0  \n",
       "99032            0            0  \n",
       "55952            0            0  \n",
       "12811            0            0  "
      ]
     },
     "execution_count": 43,
     "metadata": {},
     "output_type": "execute_result"
    }
   ],
   "source": [
    "df.sample(5)"
   ]
  },
  {
   "cell_type": "code",
   "execution_count": 44,
   "metadata": {},
   "outputs": [
    {
     "data": {
      "text/html": [
       "<div>\n",
       "<style scoped>\n",
       "    .dataframe tbody tr th:only-of-type {\n",
       "        vertical-align: middle;\n",
       "    }\n",
       "\n",
       "    .dataframe tbody tr th {\n",
       "        vertical-align: top;\n",
       "    }\n",
       "\n",
       "    .dataframe thead th {\n",
       "        text-align: right;\n",
       "    }\n",
       "</style>\n",
       "<table border=\"1\" class=\"dataframe\">\n",
       "  <thead>\n",
       "    <tr style=\"text-align: right;\">\n",
       "      <th></th>\n",
       "      <th>id_hogar</th>\n",
       "      <th>sexo</th>\n",
       "      <th>edad</th>\n",
       "      <th>ascendencia</th>\n",
       "      <th>parentesco</th>\n",
       "      <th>estado_laboral</th>\n",
       "      <th>nper</th>\n",
       "      <th>sueldo</th>\n",
       "      <th>busca_otro_trabajo</th>\n",
       "      <th>actividad</th>\n",
       "      <th>asistencia alguna vez a enseñanza</th>\n",
       "      <th>edu preescolar</th>\n",
       "      <th>edu primaria</th>\n",
       "      <th>edu media</th>\n",
       "      <th>edu técnica</th>\n",
       "      <th>edu univ o simil</th>\n",
       "      <th>edu terciario no uni</th>\n",
       "      <th>edu posgrado</th>\n",
       "      <th>edu mag prof</th>\n",
       "    </tr>\n",
       "  </thead>\n",
       "  <tbody>\n",
       "    <tr>\n",
       "      <th>38681</th>\n",
       "      <td>2019020809</td>\n",
       "      <td>Mujer</td>\n",
       "      <td>18</td>\n",
       "      <td>Afro o negra</td>\n",
       "      <td>Hijo/a solo del jefe/a</td>\n",
       "      <td>Inactivo: estudiante</td>\n",
       "      <td>3</td>\n",
       "      <td>0</td>\n",
       "      <td>No hay dato</td>\n",
       "      <td>.</td>\n",
       "      <td>Sí</td>\n",
       "      <td>Sí, asistió</td>\n",
       "      <td>Sí, asistió</td>\n",
       "      <td>Asiste actualmente</td>\n",
       "      <td>Asiste actualmente</td>\n",
       "      <td>No hay dato</td>\n",
       "      <td>No hay dato</td>\n",
       "      <td>No hay dato</td>\n",
       "      <td>No hay dato</td>\n",
       "    </tr>\n",
       "    <tr>\n",
       "      <th>27452</th>\n",
       "      <td>2019014789</td>\n",
       "      <td>Mujer</td>\n",
       "      <td>56</td>\n",
       "      <td>Afro o negra</td>\n",
       "      <td>Esposo/a o compañero/a</td>\n",
       "      <td>Inactivo: realiza los quehaceres del hogar</td>\n",
       "      <td>2</td>\n",
       "      <td>0</td>\n",
       "      <td>No hay dato</td>\n",
       "      <td>.</td>\n",
       "      <td>Sí</td>\n",
       "      <td>No asistió</td>\n",
       "      <td>Sí, asistió</td>\n",
       "      <td>No asistió</td>\n",
       "      <td>No asistió</td>\n",
       "      <td>No hay dato</td>\n",
       "      <td>No hay dato</td>\n",
       "      <td>No hay dato</td>\n",
       "      <td>No hay dato</td>\n",
       "    </tr>\n",
       "    <tr>\n",
       "      <th>49912</th>\n",
       "      <td>2019026795</td>\n",
       "      <td>Hombre</td>\n",
       "      <td>3</td>\n",
       "      <td>Blanca</td>\n",
       "      <td>Hijo/a de ambos</td>\n",
       "      <td>Menores de 14 años</td>\n",
       "      <td>3</td>\n",
       "      <td>0</td>\n",
       "      <td>No hay dato</td>\n",
       "      <td>.</td>\n",
       "      <td>Sí</td>\n",
       "      <td>Asiste actualmente</td>\n",
       "      <td>No hay dato</td>\n",
       "      <td>No hay dato</td>\n",
       "      <td>No hay dato</td>\n",
       "      <td>No hay dato</td>\n",
       "      <td>No hay dato</td>\n",
       "      <td>No hay dato</td>\n",
       "      <td>No hay dato</td>\n",
       "    </tr>\n",
       "    <tr>\n",
       "      <th>91939</th>\n",
       "      <td>2019049480</td>\n",
       "      <td>Hombre</td>\n",
       "      <td>67</td>\n",
       "      <td>Blanca</td>\n",
       "      <td>Jefe/a de hogar</td>\n",
       "      <td>Ocupados</td>\n",
       "      <td>1</td>\n",
       "      <td>29000</td>\n",
       "      <td>No</td>\n",
       "      <td>Comercio al por mayor de materiales de constru...</td>\n",
       "      <td>Sí</td>\n",
       "      <td>No asistió</td>\n",
       "      <td>Sí, asistió</td>\n",
       "      <td>No hay dato</td>\n",
       "      <td>No asistió</td>\n",
       "      <td>No hay dato</td>\n",
       "      <td>No hay dato</td>\n",
       "      <td>No hay dato</td>\n",
       "      <td>No hay dato</td>\n",
       "    </tr>\n",
       "    <tr>\n",
       "      <th>29829</th>\n",
       "      <td>2019016064</td>\n",
       "      <td>Mujer</td>\n",
       "      <td>82</td>\n",
       "      <td>Blanca</td>\n",
       "      <td>Jefe/a de hogar</td>\n",
       "      <td>Inactivo: jubilado</td>\n",
       "      <td>1</td>\n",
       "      <td>0</td>\n",
       "      <td>No hay dato</td>\n",
       "      <td>.</td>\n",
       "      <td>Sí</td>\n",
       "      <td>No asistió</td>\n",
       "      <td>Sí, asistió</td>\n",
       "      <td>No asistió</td>\n",
       "      <td>No asistió</td>\n",
       "      <td>No hay dato</td>\n",
       "      <td>No hay dato</td>\n",
       "      <td>No hay dato</td>\n",
       "      <td>No hay dato</td>\n",
       "    </tr>\n",
       "  </tbody>\n",
       "</table>\n",
       "</div>"
      ],
      "text/plain": [
       "         id_hogar    sexo  edad   ascendencia              parentesco  \\\n",
       "38681  2019020809   Mujer    18  Afro o negra  Hijo/a solo del jefe/a   \n",
       "27452  2019014789   Mujer    56  Afro o negra  Esposo/a o compañero/a   \n",
       "49912  2019026795  Hombre     3        Blanca         Hijo/a de ambos   \n",
       "91939  2019049480  Hombre    67        Blanca         Jefe/a de hogar   \n",
       "29829  2019016064   Mujer    82        Blanca         Jefe/a de hogar   \n",
       "\n",
       "                                   estado_laboral  nper  sueldo  \\\n",
       "38681                        Inactivo: estudiante     3       0   \n",
       "27452  Inactivo: realiza los quehaceres del hogar     2       0   \n",
       "49912                          Menores de 14 años     3       0   \n",
       "91939                                    Ocupados     1   29000   \n",
       "29829                          Inactivo: jubilado     1       0   \n",
       "\n",
       "      busca_otro_trabajo                                          actividad  \\\n",
       "38681        No hay dato                                                  .   \n",
       "27452        No hay dato                                                  .   \n",
       "49912        No hay dato                                                  .   \n",
       "91939                 No  Comercio al por mayor de materiales de constru...   \n",
       "29829        No hay dato                                                  .   \n",
       "\n",
       "      asistencia alguna vez a enseñanza      edu preescolar edu primaria  \\\n",
       "38681                                Sí         Sí, asistió  Sí, asistió   \n",
       "27452                                Sí          No asistió  Sí, asistió   \n",
       "49912                                Sí  Asiste actualmente  No hay dato   \n",
       "91939                                Sí          No asistió  Sí, asistió   \n",
       "29829                                Sí          No asistió  Sí, asistió   \n",
       "\n",
       "                edu media         edu técnica edu univ o simil  \\\n",
       "38681  Asiste actualmente  Asiste actualmente      No hay dato   \n",
       "27452          No asistió          No asistió      No hay dato   \n",
       "49912         No hay dato         No hay dato      No hay dato   \n",
       "91939         No hay dato          No asistió      No hay dato   \n",
       "29829          No asistió          No asistió      No hay dato   \n",
       "\n",
       "      edu terciario no uni edu posgrado edu mag prof  \n",
       "38681          No hay dato  No hay dato  No hay dato  \n",
       "27452          No hay dato  No hay dato  No hay dato  \n",
       "49912          No hay dato  No hay dato  No hay dato  \n",
       "91939          No hay dato  No hay dato  No hay dato  \n",
       "29829          No hay dato  No hay dato  No hay dato  "
      ]
     },
     "execution_count": 44,
     "metadata": {},
     "output_type": "execute_result"
    }
   ],
   "source": [
    "no_data = {0: 'No hay dato', '0': 'No hay dato'}\n",
    "\n",
    "mask = df.columns.difference(['edad', 'sueldo', 'hijos'])\n",
    "\n",
    "df[mask] = df[mask].replace(no_data)\n",
    "\n",
    "df.sample(5)"
   ]
  },
  {
   "cell_type": "code",
   "execution_count": 45,
   "metadata": {},
   "outputs": [
    {
     "data": {
      "text/plain": [
       "Ocupados                                      49036\n",
       "Menores de 14 años                            18064\n",
       "Inactivo: jubilado                            16025\n",
       "Inactivo: estudiante                           8216\n",
       "Inactivo: realiza los quehaceres del hogar     5936\n",
       "Inactivo: pensionista                          4438\n",
       "Desocupados propiamente dichos                 3409\n",
       "Inactivo: otro                                 1291\n",
       "Desocupados buscan trabajo por primera vez      787\n",
       "Inactivo: rentista                              414\n",
       "Desocupados en seguro de paro                   255\n",
       "Name: estado_laboral, dtype: int64"
      ]
     },
     "execution_count": 45,
     "metadata": {},
     "output_type": "execute_result"
    }
   ],
   "source": [
    "df['estado_laboral'].value_counts()"
   ]
  },
  {
   "cell_type": "markdown",
   "metadata": {},
   "source": [
    "Seleccionamos personas con edad suficiente para trabajar"
   ]
  },
  {
   "cell_type": "code",
   "execution_count": 46,
   "metadata": {},
   "outputs": [],
   "source": [
    "df = df[~df['estado_laboral'].str.contains('Menores de 14 años')]"
   ]
  },
  {
   "cell_type": "markdown",
   "metadata": {},
   "source": [
    "Codificamos los valores de parentezco"
   ]
  },
  {
   "cell_type": "code",
   "execution_count": 47,
   "metadata": {},
   "outputs": [
    {
     "data": {
      "text/plain": [
       "parentesco_num  parentesco                             \n",
       "6               Jefe/a de hogar                            42507\n",
       "1               Esposo/a o compañero/a                     22574\n",
       "3               Hijo/a de ambos                             9558\n",
       "5               Hijo/a solo del jefe/a                      8574\n",
       "10              Padre/madre                                 1148\n",
       "7               Nieto/a                                     1107\n",
       "4               Hijo/a solo del esposo/a compañero/a        1104\n",
       "2               Hermano/a                                    920\n",
       "13              Yerno/nuera                                  766\n",
       "8               Otro no pariente                             583\n",
       "9               Otro pariente                                556\n",
       "12              Suegro/a                                     254\n",
       "0               Cuñado/a                                     140\n",
       "11              Servicio doméstico o familiar del mismo       16\n",
       "dtype: int64"
      ]
     },
     "execution_count": 47,
     "metadata": {},
     "output_type": "execute_result"
    }
   ],
   "source": [
    "df['parentesco_num'] = df['parentesco'].astype('category').cat.codes\n",
    "\n",
    "df[['parentesco_num', 'parentesco']].value_counts()"
   ]
  },
  {
   "cell_type": "markdown",
   "metadata": {},
   "source": [
    "Creamos una columna que cuenta la cantidad de hijos por grupo familiar"
   ]
  },
  {
   "cell_type": "code",
   "execution_count": 48,
   "metadata": {},
   "outputs": [],
   "source": [
    "df['hijos'] = (\n",
    "    df.groupby('id_hogar')['id_hogar'].transform('count') - 1\n",
    ")"
   ]
  },
  {
   "cell_type": "code",
   "execution_count": null,
   "metadata": {},
   "outputs": [],
   "source": []
  },
  {
   "cell_type": "markdown",
   "metadata": {},
   "source": [
    "# CATEGORIZAR NUMERICOS"
   ]
  },
  {
   "cell_type": "code",
   "execution_count": null,
   "metadata": {},
   "outputs": [],
   "source": [
    "df['rango_sueldos'] = pd.cut(df['sueldo'], bins=[0, 10, 50, float('Inf')], labels=['xxx', 'yyy', 'zzz'])"
   ]
  },
  {
   "cell_type": "code",
   "execution_count": null,
   "metadata": {},
   "outputs": [],
   "source": []
  },
  {
   "cell_type": "markdown",
   "metadata": {},
   "source": [
    "### AJUSTANDO DATOS PARA ENTRENAR EL MODELO"
   ]
  },
  {
   "cell_type": "markdown",
   "metadata": {},
   "source": [
    "Primero encodificamos las variables categóricas"
   ]
  },
  {
   "cell_type": "code",
   "execution_count": null,
   "metadata": {},
   "outputs": [],
   "source": [
    "from sklearn.preprocessing import LabelEncoder\n",
    "\n",
    "le = LabelEncoder()\n",
    "\n",
    "df = df.apply(le.fit_transform)\n",
    "\n",
    "df.head(5)"
   ]
  },
  {
   "cell_type": "markdown",
   "metadata": {},
   "source": [
    "### Creamos un mapa de correlación para investigar la relación entre las variables"
   ]
  },
  {
   "cell_type": "code",
   "execution_count": null,
   "metadata": {},
   "outputs": [],
   "source": [
    "corr = df.corr()\n",
    "sns.heatmap(corr, xticklabels=corr.columns.values, yticklabels=corr.columns.values, annot=True)"
   ]
  },
  {
   "cell_type": "markdown",
   "metadata": {},
   "source": [
    "### DEFINIMOS LAS VARIABLES DEPENDIENTES E INDEPENDIENTES"
   ]
  },
  {
   "cell_type": "code",
   "execution_count": null,
   "metadata": {},
   "outputs": [],
   "source": [
    "# Feautures\n",
    "X = df.drop('estado_laboral', axis=1)\n",
    "y = df['estado_laboral']\n",
    "\n",
    "print('X shape', X.shape, '\\nY shape', y.shape)"
   ]
  },
  {
   "cell_type": "code",
   "execution_count": null,
   "metadata": {},
   "outputs": [],
   "source": [
    "np.unique(y)"
   ]
  },
  {
   "cell_type": "markdown",
   "metadata": {},
   "source": [
    "### Dividimos los datos en un 30% de test y 70% de entrenamiento"
   ]
  },
  {
   "cell_type": "code",
   "execution_count": null,
   "metadata": {},
   "outputs": [],
   "source": [
    "from sklearn.model_selection import train_test_split \n",
    "\n",
    "X_train, X_test, y_train, y_test = train_test_split(X, y, test_size=0.30, random_state=42) "
   ]
  },
  {
   "cell_type": "code",
   "execution_count": null,
   "metadata": {},
   "outputs": [],
   "source": [
    "print(X_train.shape, y_train.shape)\n",
    "print(X_test.shape, y_test.shape)"
   ]
  },
  {
   "cell_type": "code",
   "execution_count": null,
   "metadata": {},
   "outputs": [],
   "source": [
    "from sklearn.preprocessing import MinMaxScaler\n",
    "\n",
    "scaler = MinMaxScaler()\n",
    "\n",
    "X_train = scaler.fit_transform(X_train)\n",
    "X_test = scaler.transform(X_test)"
   ]
  },
  {
   "cell_type": "markdown",
   "metadata": {},
   "source": [
    "### DEFINIMOS ALGORITMO DE REFRESIÓN LOGISTICA Y VALOR DE CROSS VALIDATION PARA CADA FOLD"
   ]
  },
  {
   "cell_type": "code",
   "execution_count": null,
   "metadata": {},
   "outputs": [],
   "source": [
    "from sklearn.linear_model import LogisticRegression\n",
    "from sklearn.model_selection import cross_val_score\n",
    "\n",
    "log_reg = LogisticRegression(max_iter=20000)\n",
    "\n",
    "clf = log_reg.fit(X_train.astype('int'), y_train.astype('int'))\n",
    "\n",
    "scores = cross_val_score(clf, X.astype('int'), y.astype('int'), cv=10)\n",
    "\n",
    "scores"
   ]
  },
  {
   "cell_type": "markdown",
   "metadata": {},
   "source": [
    "Promedio de scores en el Cross Validation"
   ]
  },
  {
   "cell_type": "code",
   "execution_count": null,
   "metadata": {},
   "outputs": [],
   "source": [
    "scores.mean()"
   ]
  },
  {
   "cell_type": "markdown",
   "metadata": {},
   "source": [
    "Scores de cada clasificación"
   ]
  },
  {
   "cell_type": "code",
   "execution_count": null,
   "metadata": {},
   "outputs": [],
   "source": [
    "clf.score(X_test, y_test)"
   ]
  },
  {
   "cell_type": "code",
   "execution_count": null,
   "metadata": {},
   "outputs": [],
   "source": [
    "clf.score(X_train, y_train)"
   ]
  },
  {
   "cell_type": "markdown",
   "metadata": {},
   "source": [
    "### DEFINIMOS UNA PREDICCIÓN Y LA APLICAMOS SOBRE EL MODELO"
   ]
  },
  {
   "cell_type": "code",
   "execution_count": null,
   "metadata": {},
   "outputs": [],
   "source": [
    "prediction = np.array([10000, 20000, 5000, 80000, 3000, 100,30000]).reshape(-1,1)\n",
    "log_reg.predict(prediction)"
   ]
  },
  {
   "cell_type": "markdown",
   "metadata": {},
   "source": [
    "### INVESTIGAMOS LA EFECTIVIDAD DEL MODELO SOBRE LOS DATOS"
   ]
  },
  {
   "cell_type": "code",
   "execution_count": null,
   "metadata": {},
   "outputs": [],
   "source": [
    "from sklearn.metrics import accuracy_score\n",
    "\n",
    "#Prediccion en Train\n",
    "y_train_pred = log_reg.predict(X_train)\n",
    "\n",
    "#Prediccion en Test\n",
    "y_test_pred = log_reg.predict(y_test.reshape(-1, 1))\n",
    "\n",
    "#Calculo el accuracy en Train\n",
    "train_accuracy = accuracy_score(y_train, y_train_pred)\n",
    "\n",
    "#Calculo el accuracy en Test\n",
    "test_accuracy = accuracy_score(y_test, y_test_pred)\n",
    "\n",
    "print('% de aciertos sobre el set de entrenamiento:', train_accuracy)\n",
    "print('% de aciertos sobre el set de evaluación:',test_accuracy)"
   ]
  },
  {
   "cell_type": "markdown",
   "metadata": {},
   "source": [
    "Determinamos la probabilidad de la predicción"
   ]
  },
  {
   "cell_type": "code",
   "execution_count": null,
   "metadata": {},
   "outputs": [],
   "source": [
    "probabilidades_prediccion = log_reg.predict_proba(prediction)\n",
    "probabilidades_prediccion[:,1]"
   ]
  },
  {
   "cell_type": "code",
   "execution_count": null,
   "metadata": {},
   "outputs": [],
   "source": []
  }
 ],
 "metadata": {
  "interpreter": {
   "hash": "d0fd3259a0ae7798bf28b9ed97f5d4d70eaf745bfa37ff3042465361f4141f08"
  },
  "kernelspec": {
   "display_name": "Python 3.9.7 64-bit ('pyenv': venv)",
   "language": "python",
   "name": "python3"
  },
  "language_info": {
   "codemirror_mode": {
    "name": "ipython",
    "version": 3
   },
   "file_extension": ".py",
   "mimetype": "text/x-python",
   "name": "python",
   "nbconvert_exporter": "python",
   "pygments_lexer": "ipython3",
   "version": "3.9.7"
  },
  "orig_nbformat": 4
 },
 "nbformat": 4,
 "nbformat_minor": 2
}
