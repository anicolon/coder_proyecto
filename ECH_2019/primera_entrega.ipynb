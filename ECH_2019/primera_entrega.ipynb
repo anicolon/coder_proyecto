{
 "cells": [
  {
   "cell_type": "markdown",
   "id": "1601f240",
   "metadata": {},
   "source": [
    "# ECH - Encuesta continua de hogares 2020"
   ]
  },
  {
   "cell_type": "markdown",
   "id": "dc18d698",
   "metadata": {},
   "source": [
    "## Objetivos\n",
    "\n",
    "En esta investigación buscamos determinar cuánto afecta el nivel educativo, la cantidad de hijos y otros indicadores, a la inserción en el mercado laboral de las mujeres uruguayas. Luego de un análisis principal de la base para conocer el contexto general de la investigación, intentaremos crear un algoritmo de clasificación para entender la influencia de distintas variables categóricas en un resultado determinado."
   ]
  },
  {
   "cell_type": "markdown",
   "id": "27a8a462",
   "metadata": {},
   "source": [
    "### Librerias a utilizar"
   ]
  },
  {
   "cell_type": "code",
   "execution_count": 1,
   "id": "c586d922",
   "metadata": {
    "colab": {
     "base_uri": "https://localhost:8080/"
    },
    "executionInfo": {
     "elapsed": 3668,
     "status": "ok",
     "timestamp": 1630614475712,
     "user": {
      "displayName": "Andy Nicolón",
      "photoUrl": "https://lh3.googleusercontent.com/a-/AOh14Ggdjr_wvrps129lCKPMFcAm4H3KsbYN0eUakr5_oQ=s64",
      "userId": "09514318996408391655"
     },
     "user_tz": 180
    },
    "id": "1172c179-0cd4-4c86-9c23-e10a0a73a315",
    "outputId": "9f84e330-a100-48a8-82db-a124be99fe3e"
   },
   "outputs": [],
   "source": [
    "import pandas as pd\n",
    "import numpy as np\n",
    "import matplotlib.pyplot as plt\n",
    "import seaborn as sns\n",
    "\n",
    "sns.set(rc={'figure.figsize':(40,10)})"
   ]
  },
  {
   "cell_type": "markdown",
   "id": "12fa589c",
   "metadata": {},
   "source": [
    "### Importar dataset y seleccionar atributos de análisis principales.\n",
    "\n",
    "Para leer el archivo es necesario contar con la libreria _pyreadstat_"
   ]
  },
  {
   "cell_type": "code",
   "execution_count": 2,
   "id": "2c8d9b49",
   "metadata": {
    "id": "I5_lAvQeEFTM"
   },
   "outputs": [],
   "source": [
    "df = pd.read_spss('/Users/anicolon/Desktop/coder_proyecto/ECH_2019/ECH_2019.sav')\n",
    "\n",
    "df = df.rename(columns={\n",
    "    'numero': 'id_hogar',\n",
    "    'e26': 'sexo',\n",
    "    'e27': 'edad',\n",
    "    'e29_6': 'ascendencia',\n",
    "    'e30': 'parentesco',\n",
    "    'pobpcoac': 'estado_laboral',\n",
    "    'g126_1': 'sueldo',\n",
    "    'f99': 'busca_otro_trabajo',\n",
    "    'f72_2': 'actividad',\n",
    "    'e49_CV': 'asistencia a enseñanza',\n",
    "    'e49': 'asistencia alguna vez a enseñanza',\n",
    "    'e193': 'edu preescolar',\n",
    "    'e197': 'edu primaria',\n",
    "    'e201': 'edu media',\n",
    "    'e212': 'edu técnica',\n",
    "    'e215': 'edu mag prof',\n",
    "    'e218': 'edu univ o simil',\n",
    "    'e221': 'edu terciario no uni',\n",
    "    'e224': 'edu posgrado',\n",
    "    'NOMBARRIO': 'barrio',\n",
    "    'e36': 'estado_civil',\n",
    "    'e185': 'hijos',\n",
    "    'e48': 'leer_escribir',\n",
    "    'e186_1': 'hijos en hogar',\n",
    "    'e186_2': 'hijos en otro hogar',\n",
    "    'e186_3': 'hijos en el extranjero',\n",
    "    'region_4': 'region',\n",
    "    'estred13': 'estrato',\n",
    "    'd8_1': 'vivienda'\n",
    "    })"
   ]
  },
  {
   "cell_type": "code",
   "execution_count": 3,
   "id": "e95568a2",
   "metadata": {},
   "outputs": [],
   "source": [
    "df = df[[\n",
    "    'id_hogar', \n",
    "    'sexo', \n",
    "    'edad', \n",
    "    'ascendencia', \n",
    "    'parentesco', \n",
    "    'estado_laboral', \n",
    "    'nper', \n",
    "    'sueldo', \n",
    "    'busca_otro_trabajo',\n",
    "    'actividad',\n",
    "    'asistencia alguna vez a enseñanza',\n",
    "    'edu preescolar',\n",
    "    'edu primaria',\n",
    "    'edu media',\n",
    "    'edu técnica',\n",
    "    'edu univ o simil',\n",
    "    'edu terciario no uni',\n",
    "    'edu posgrado',\n",
    "    'edu mag prof',\n",
    "    'barrio',\n",
    "    'estado_civil',\n",
    "    'hijos',\n",
    "    'hijos en hogar',\n",
    "    'hijos en otro hogar',\n",
    "    'hijos en el extranjero',\n",
    "    'leer_escribir',\n",
    "    'region',\n",
    "    'vivienda',\n",
    "    'estrato'\n",
    "    ]]"
   ]
  },
  {
   "cell_type": "code",
   "execution_count": 4,
   "id": "13e54832",
   "metadata": {},
   "outputs": [],
   "source": [
    "df['sexo'] = df['sexo'].astype('category')\n",
    "df['barrio'] = df['barrio'].astype('category')"
   ]
  },
  {
   "cell_type": "markdown",
   "id": "9f6c4ddd",
   "metadata": {},
   "source": [
    "## Primera exposición a los datos"
   ]
  },
  {
   "cell_type": "code",
   "execution_count": 5,
   "id": "51713019",
   "metadata": {
    "colab": {
     "base_uri": "https://localhost:8080/",
     "height": 644
    },
    "executionInfo": {
     "elapsed": 15,
     "status": "ok",
     "timestamp": 1630614533384,
     "user": {
      "displayName": "Andy Nicolón",
      "photoUrl": "https://lh3.googleusercontent.com/a-/AOh14Ggdjr_wvrps129lCKPMFcAm4H3KsbYN0eUakr5_oQ=s64",
      "userId": "09514318996408391655"
     },
     "user_tz": 180
    },
    "id": "_ymYU4JkDl8e",
    "outputId": "ff46b035-24f2-4ac4-d72c-d020e977299f"
   },
   "outputs": [
    {
     "data": {
      "text/html": [
       "<div>\n",
       "<style scoped>\n",
       "    .dataframe tbody tr th:only-of-type {\n",
       "        vertical-align: middle;\n",
       "    }\n",
       "\n",
       "    .dataframe tbody tr th {\n",
       "        vertical-align: top;\n",
       "    }\n",
       "\n",
       "    .dataframe thead th {\n",
       "        text-align: right;\n",
       "    }\n",
       "</style>\n",
       "<table border=\"1\" class=\"dataframe\">\n",
       "  <thead>\n",
       "    <tr style=\"text-align: right;\">\n",
       "      <th></th>\n",
       "      <th>id_hogar</th>\n",
       "      <th>sexo</th>\n",
       "      <th>edad</th>\n",
       "      <th>ascendencia</th>\n",
       "      <th>parentesco</th>\n",
       "      <th>estado_laboral</th>\n",
       "      <th>nper</th>\n",
       "      <th>sueldo</th>\n",
       "      <th>busca_otro_trabajo</th>\n",
       "      <th>actividad</th>\n",
       "      <th>...</th>\n",
       "      <th>barrio</th>\n",
       "      <th>estado_civil</th>\n",
       "      <th>hijos</th>\n",
       "      <th>hijos en hogar</th>\n",
       "      <th>hijos en otro hogar</th>\n",
       "      <th>hijos en el extranjero</th>\n",
       "      <th>leer_escribir</th>\n",
       "      <th>region</th>\n",
       "      <th>vivienda</th>\n",
       "      <th>estrato</th>\n",
       "    </tr>\n",
       "  </thead>\n",
       "  <tbody>\n",
       "    <tr>\n",
       "      <th>48724</th>\n",
       "      <td>2019026185</td>\n",
       "      <td>Mujer</td>\n",
       "      <td>80.0</td>\n",
       "      <td>Blanca</td>\n",
       "      <td>Jefe/a de hogar</td>\n",
       "      <td>Inactivo: jubilado</td>\n",
       "      <td>1.0</td>\n",
       "      <td>0.0</td>\n",
       "      <td>0.0</td>\n",
       "      <td>.</td>\n",
       "      <td>...</td>\n",
       "      <td>8.0</td>\n",
       "      <td>Viudo/a de casamiento</td>\n",
       "      <td>Sí</td>\n",
       "      <td>0.0</td>\n",
       "      <td>1.0</td>\n",
       "      <td>0.0</td>\n",
       "      <td>Sí</td>\n",
       "      <td>Montevideo</td>\n",
       "      <td>Ocupante gratuito y se lo permite un particular</td>\n",
       "      <td>Montevideo Alto</td>\n",
       "    </tr>\n",
       "    <tr>\n",
       "      <th>61498</th>\n",
       "      <td>2019033041</td>\n",
       "      <td>Hombre</td>\n",
       "      <td>67.0</td>\n",
       "      <td>Blanca</td>\n",
       "      <td>Jefe/a de hogar</td>\n",
       "      <td>Inactivo: jubilado</td>\n",
       "      <td>1.0</td>\n",
       "      <td>0.0</td>\n",
       "      <td>0.0</td>\n",
       "      <td>.</td>\n",
       "      <td>...</td>\n",
       "      <td>51.0</td>\n",
       "      <td>0.0</td>\n",
       "      <td>0.0</td>\n",
       "      <td>0.0</td>\n",
       "      <td>0.0</td>\n",
       "      <td>0.0</td>\n",
       "      <td>Sí</td>\n",
       "      <td>Montevideo</td>\n",
       "      <td>Propietario de la vivienda y el terreno y ya l...</td>\n",
       "      <td>Montevideo Medio Alto</td>\n",
       "    </tr>\n",
       "  </tbody>\n",
       "</table>\n",
       "<p>2 rows × 29 columns</p>\n",
       "</div>"
      ],
      "text/plain": [
       "         id_hogar    sexo  edad ascendencia       parentesco  \\\n",
       "48724  2019026185   Mujer  80.0      Blanca  Jefe/a de hogar   \n",
       "61498  2019033041  Hombre  67.0      Blanca  Jefe/a de hogar   \n",
       "\n",
       "           estado_laboral  nper  sueldo busca_otro_trabajo actividad  ...  \\\n",
       "48724  Inactivo: jubilado   1.0     0.0                0.0         .  ...   \n",
       "61498  Inactivo: jubilado   1.0     0.0                0.0         .  ...   \n",
       "\n",
       "      barrio           estado_civil hijos hijos en hogar hijos en otro hogar  \\\n",
       "48724    8.0  Viudo/a de casamiento    Sí            0.0                 1.0   \n",
       "61498   51.0                    0.0   0.0            0.0                 0.0   \n",
       "\n",
       "      hijos en el extranjero leer_escribir      region  \\\n",
       "48724                    0.0            Sí  Montevideo   \n",
       "61498                    0.0            Sí  Montevideo   \n",
       "\n",
       "                                                vivienda  \\\n",
       "48724    Ocupante gratuito y se lo permite un particular   \n",
       "61498  Propietario de la vivienda y el terreno y ya l...   \n",
       "\n",
       "                     estrato  \n",
       "48724        Montevideo Alto  \n",
       "61498  Montevideo Medio Alto  \n",
       "\n",
       "[2 rows x 29 columns]"
      ]
     },
     "execution_count": 5,
     "metadata": {},
     "output_type": "execute_result"
    }
   ],
   "source": [
    "df.sample(2)"
   ]
  },
  {
   "cell_type": "code",
   "execution_count": 6,
   "id": "21f66366",
   "metadata": {
    "colab": {
     "base_uri": "https://localhost:8080/"
    },
    "executionInfo": {
     "elapsed": 13,
     "status": "ok",
     "timestamp": 1630614534006,
     "user": {
      "displayName": "Andy Nicolón",
      "photoUrl": "https://lh3.googleusercontent.com/a-/AOh14Ggdjr_wvrps129lCKPMFcAm4H3KsbYN0eUakr5_oQ=s64",
      "userId": "09514318996408391655"
     },
     "user_tz": 180
    },
    "id": "kouOvHuADl8f",
    "outputId": "e5682412-d6f9-4118-ef81-bd0165a1215f"
   },
   "outputs": [
    {
     "name": "stdout",
     "output_type": "stream",
     "text": [
      "<class 'pandas.core.frame.DataFrame'>\n",
      "RangeIndex: 107871 entries, 0 to 107870\n",
      "Data columns (total 29 columns):\n",
      " #   Column                             Non-Null Count   Dtype   \n",
      "---  ------                             --------------   -----   \n",
      " 0   id_hogar                           107871 non-null  object  \n",
      " 1   sexo                               107871 non-null  category\n",
      " 2   edad                               107871 non-null  float64 \n",
      " 3   ascendencia                        107871 non-null  category\n",
      " 4   parentesco                         107871 non-null  category\n",
      " 5   estado_laboral                     107871 non-null  category\n",
      " 6   nper                               107871 non-null  float64 \n",
      " 7   sueldo                             107871 non-null  float64 \n",
      " 8   busca_otro_trabajo                 107871 non-null  category\n",
      " 9   actividad                          107871 non-null  category\n",
      " 10  asistencia alguna vez a enseñanza  107871 non-null  category\n",
      " 11  edu preescolar                     107871 non-null  category\n",
      " 12  edu primaria                       107871 non-null  category\n",
      " 13  edu media                          107871 non-null  category\n",
      " 14  edu técnica                        107871 non-null  category\n",
      " 15  edu univ o simil                   107871 non-null  category\n",
      " 16  edu terciario no uni               107871 non-null  category\n",
      " 17  edu posgrado                       107871 non-null  category\n",
      " 18  edu mag prof                       107871 non-null  category\n",
      " 19  barrio                             107871 non-null  category\n",
      " 20  estado_civil                       107871 non-null  category\n",
      " 21  hijos                              107871 non-null  category\n",
      " 22  hijos en hogar                     107871 non-null  float64 \n",
      " 23  hijos en otro hogar                107871 non-null  float64 \n",
      " 24  hijos en el extranjero             107871 non-null  float64 \n",
      " 25  leer_escribir                      107871 non-null  category\n",
      " 26  region                             107871 non-null  category\n",
      " 27  vivienda                           107871 non-null  category\n",
      " 28  estrato                            107871 non-null  category\n",
      "dtypes: category(22), float64(6), object(1)\n",
      "memory usage: 8.1+ MB\n"
     ]
    }
   ],
   "source": [
    "df.info()"
   ]
  },
  {
   "cell_type": "code",
   "execution_count": 7,
   "id": "3773ded7",
   "metadata": {},
   "outputs": [
    {
     "data": {
      "text/html": [
       "<div>\n",
       "<style scoped>\n",
       "    .dataframe tbody tr th:only-of-type {\n",
       "        vertical-align: middle;\n",
       "    }\n",
       "\n",
       "    .dataframe tbody tr th {\n",
       "        vertical-align: top;\n",
       "    }\n",
       "\n",
       "    .dataframe thead th {\n",
       "        text-align: right;\n",
       "    }\n",
       "</style>\n",
       "<table border=\"1\" class=\"dataframe\">\n",
       "  <thead>\n",
       "    <tr style=\"text-align: right;\">\n",
       "      <th></th>\n",
       "      <th>count</th>\n",
       "      <th>mean</th>\n",
       "      <th>std</th>\n",
       "      <th>min</th>\n",
       "      <th>25%</th>\n",
       "      <th>50%</th>\n",
       "      <th>75%</th>\n",
       "      <th>max</th>\n",
       "    </tr>\n",
       "  </thead>\n",
       "  <tbody>\n",
       "    <tr>\n",
       "      <th>edad</th>\n",
       "      <td>107871.0</td>\n",
       "      <td>39.878290</td>\n",
       "      <td>23.726435</td>\n",
       "      <td>0.0</td>\n",
       "      <td>19.0</td>\n",
       "      <td>39.0</td>\n",
       "      <td>59.0</td>\n",
       "      <td>98.0</td>\n",
       "    </tr>\n",
       "    <tr>\n",
       "      <th>nper</th>\n",
       "      <td>107871.0</td>\n",
       "      <td>2.163417</td>\n",
       "      <td>1.311837</td>\n",
       "      <td>1.0</td>\n",
       "      <td>1.0</td>\n",
       "      <td>2.0</td>\n",
       "      <td>3.0</td>\n",
       "      <td>17.0</td>\n",
       "    </tr>\n",
       "    <tr>\n",
       "      <th>sueldo</th>\n",
       "      <td>107871.0</td>\n",
       "      <td>9251.094548</td>\n",
       "      <td>18955.320483</td>\n",
       "      <td>0.0</td>\n",
       "      <td>0.0</td>\n",
       "      <td>0.0</td>\n",
       "      <td>15000.0</td>\n",
       "      <td>900000.0</td>\n",
       "    </tr>\n",
       "    <tr>\n",
       "      <th>hijos en hogar</th>\n",
       "      <td>107871.0</td>\n",
       "      <td>0.345199</td>\n",
       "      <td>0.782579</td>\n",
       "      <td>0.0</td>\n",
       "      <td>0.0</td>\n",
       "      <td>0.0</td>\n",
       "      <td>0.0</td>\n",
       "      <td>10.0</td>\n",
       "    </tr>\n",
       "    <tr>\n",
       "      <th>hijos en otro hogar</th>\n",
       "      <td>107871.0</td>\n",
       "      <td>0.428336</td>\n",
       "      <td>1.137549</td>\n",
       "      <td>0.0</td>\n",
       "      <td>0.0</td>\n",
       "      <td>0.0</td>\n",
       "      <td>0.0</td>\n",
       "      <td>20.0</td>\n",
       "    </tr>\n",
       "    <tr>\n",
       "      <th>hijos en el extranjero</th>\n",
       "      <td>107871.0</td>\n",
       "      <td>0.029628</td>\n",
       "      <td>0.224843</td>\n",
       "      <td>0.0</td>\n",
       "      <td>0.0</td>\n",
       "      <td>0.0</td>\n",
       "      <td>0.0</td>\n",
       "      <td>10.0</td>\n",
       "    </tr>\n",
       "  </tbody>\n",
       "</table>\n",
       "</div>"
      ],
      "text/plain": [
       "                           count         mean           std  min   25%   50%  \\\n",
       "edad                    107871.0    39.878290     23.726435  0.0  19.0  39.0   \n",
       "nper                    107871.0     2.163417      1.311837  1.0   1.0   2.0   \n",
       "sueldo                  107871.0  9251.094548  18955.320483  0.0   0.0   0.0   \n",
       "hijos en hogar          107871.0     0.345199      0.782579  0.0   0.0   0.0   \n",
       "hijos en otro hogar     107871.0     0.428336      1.137549  0.0   0.0   0.0   \n",
       "hijos en el extranjero  107871.0     0.029628      0.224843  0.0   0.0   0.0   \n",
       "\n",
       "                            75%       max  \n",
       "edad                       59.0      98.0  \n",
       "nper                        3.0      17.0  \n",
       "sueldo                  15000.0  900000.0  \n",
       "hijos en hogar              0.0      10.0  \n",
       "hijos en otro hogar         0.0      20.0  \n",
       "hijos en el extranjero      0.0      10.0  "
      ]
     },
     "execution_count": 7,
     "metadata": {},
     "output_type": "execute_result"
    }
   ],
   "source": [
    "df.describe().transpose()"
   ]
  },
  {
   "cell_type": "markdown",
   "id": "857ca3c0",
   "metadata": {},
   "source": [
    "### Ascendencia"
   ]
  },
  {
   "cell_type": "code",
   "execution_count": 8,
   "id": "3c1a6eeb",
   "metadata": {
    "colab": {
     "base_uri": "https://localhost:8080/"
    },
    "executionInfo": {
     "elapsed": 302,
     "status": "ok",
     "timestamp": 1630615331560,
     "user": {
      "displayName": "Andy Nicolón",
      "photoUrl": "https://lh3.googleusercontent.com/a-/AOh14Ggdjr_wvrps129lCKPMFcAm4H3KsbYN0eUakr5_oQ=s64",
      "userId": "09514318996408391655"
     },
     "user_tz": 180
    },
    "id": "HWbmytv9MRjr",
    "outputId": "8d3c6d8e-158f-4a55-f291-9a993634af88"
   },
   "outputs": [
    {
     "data": {
      "text/plain": [
       "Blanca                 94.288548\n",
       "Afro o negra            4.140130\n",
       "Indígena                1.445245\n",
       "Asiática o amarilla     0.057476\n",
       "0.0                     0.053768\n",
       "Otra                    0.014833\n",
       "Name: ascendencia, dtype: float64"
      ]
     },
     "execution_count": 8,
     "metadata": {},
     "output_type": "execute_result"
    }
   ],
   "source": [
    "asc_princ_porcentage = df['ascendencia'].value_counts() / len(df['ascendencia']) * 100\n",
    "\n",
    "asc_princ_porcentage"
   ]
  },
  {
   "cell_type": "markdown",
   "id": "b09340f6",
   "metadata": {},
   "source": [
    "## Estudio de la composición de los hogares uruguayos"
   ]
  },
  {
   "cell_type": "markdown",
   "id": "e5c1b5ed",
   "metadata": {},
   "source": [
    "### Cantidad de personas que conforman un grupo familiar"
   ]
  },
  {
   "cell_type": "code",
   "execution_count": 9,
   "id": "d1e73107",
   "metadata": {},
   "outputs": [
    {
     "data": {
      "text/plain": [
       "2     12758\n",
       "1     11406\n",
       "3      8379\n",
       "4      6240\n",
       "5      2390\n",
       "6       819\n",
       "7       305\n",
       "8       124\n",
       "9        44\n",
       "10       22\n",
       "11       11\n",
       "12        4\n",
       "16        2\n",
       "17        1\n",
       "14        1\n",
       "13        1\n",
       "Name: totales, dtype: int64"
      ]
     },
     "execution_count": 9,
     "metadata": {},
     "output_type": "execute_result"
    }
   ],
   "source": [
    "composicion_familiar = pd.pivot_table(df, index='id_hogar', columns='parentesco',values=['nper'], aggfunc='count')\n",
    "\n",
    "composicion_familiar['totales'] = composicion_familiar.apply(lambda x:x.sum(), axis=1)\n",
    "\n",
    "composicion_familiar = composicion_familiar.sort_values(by='totales', ascending=False)\n",
    "\n",
    "composicion_familiar['totales'].value_counts()"
   ]
  },
  {
   "cell_type": "markdown",
   "id": "338a5eea",
   "metadata": {},
   "source": [
    "## Organización familiar"
   ]
  },
  {
   "cell_type": "code",
   "execution_count": 10,
   "id": "20175fb2",
   "metadata": {},
   "outputs": [
    {
     "data": {
      "text/plain": [
       "Jefe/a de hogar                            42507\n",
       "Esposo/a o compañero/a                     22574\n",
       "Hijo/a de ambos                            20188\n",
       "Hijo/a solo del jefe/a                     12492\n",
       "Nieto/a                                     3311\n",
       "Hijo/a solo del esposo/a compañero/a        1965\n",
       "Padre/madre                                 1148\n",
       "Hermano/a                                    937\n",
       "Otro pariente                                839\n",
       "Yerno/nuera                                  766\n",
       "Otro no pariente                             729\n",
       "Suegro/a                                     254\n",
       "Cuñado/a                                     145\n",
       "Servicio doméstico o familiar del mismo       16\n",
       "Name: parentesco, dtype: int64"
      ]
     },
     "execution_count": 10,
     "metadata": {},
     "output_type": "execute_result"
    }
   ],
   "source": [
    "df['parentesco'].value_counts()"
   ]
  },
  {
   "cell_type": "code",
   "execution_count": 11,
   "id": "ab1b63cf",
   "metadata": {
    "scrolled": true
   },
   "outputs": [
    {
     "data": {
      "text/plain": [
       "<AxesSubplot:ylabel='sexo'>"
      ]
     },
     "execution_count": 11,
     "metadata": {},
     "output_type": "execute_result"
    },
    {
     "data": {
      "image/png": "[encoded data removed]",
      "text/plain": [
       "<Figure size 432x288 with 1 Axes>"
      ]
     },
     "metadata": {
      "needs_background": "light"
     },
     "output_type": "display_data"
    }
   ],
   "source": [
    "jefes_de_hogar_sexo = df[df['parentesco'].str.contains('Jefe')]['sexo'].value_counts()\n",
    "\n",
    "sns.barplot(x=jefes_de_hogar_sexo.index, y=jefes_de_hogar_sexo)"
   ]
  },
  {
   "cell_type": "code",
   "execution_count": 12,
   "id": "1106a8eb",
   "metadata": {},
   "outputs": [
    {
     "data": {
      "text/plain": [
       "0.0     73223\n",
       "2.0     12488\n",
       "1.0      9347\n",
       "3.0      6625\n",
       "4.0      2928\n",
       "5.0      1374\n",
       "6.0       801\n",
       "7.0       443\n",
       "8.0       266\n",
       "9.0       156\n",
       "10.0      113\n",
       "11.0       52\n",
       "12.0       28\n",
       "13.0       15\n",
       "14.0        5\n",
       "15.0        5\n",
       "20.0        1\n",
       "21.0        1\n",
       "Name: suma_hijos, dtype: int64"
      ]
     },
     "execution_count": 12,
     "metadata": {},
     "output_type": "execute_result"
    }
   ],
   "source": [
    "df['suma_hijos'] = df[['hijos en hogar','hijos en otro hogar','hijos en el extranjero',]].apply(lambda x:x.sum(), axis=1)\n",
    "\n",
    "df['suma_hijos'].value_counts()"
   ]
  },
  {
   "cell_type": "code",
   "execution_count": 13,
   "id": "f978c4b0",
   "metadata": {},
   "outputs": [],
   "source": [
    "df.to_csv('ECH_2019.csv')"
   ]
  },
  {
   "cell_type": "markdown",
   "id": "1cddda91",
   "metadata": {},
   "source": [
    "## Situación laboral"
   ]
  },
  {
   "cell_type": "code",
   "execution_count": 14,
   "id": "e551faff",
   "metadata": {},
   "outputs": [
    {
     "data": {
      "text/plain": [
       "Ocupados                                      49036\n",
       "Menores de 14 años                            18064\n",
       "Inactivo: jubilado                            16025\n",
       "Inactivo: estudiante                           8216\n",
       "Inactivo: realiza los quehaceres del hogar     5936\n",
       "Inactivo: pensionista                          4438\n",
       "Desocupados propiamente dichos                 3409\n",
       "Inactivo: otro                                 1291\n",
       "Desocupados buscan trabajo por primera vez      787\n",
       "Inactivo: rentista                              414\n",
       "Desocupados en seguro de paro                   255\n",
       "Name: estado_laboral, dtype: int64"
      ]
     },
     "execution_count": 14,
     "metadata": {},
     "output_type": "execute_result"
    }
   ],
   "source": [
    "df['estado_laboral'].value_counts()"
   ]
  },
  {
   "cell_type": "code",
   "execution_count": 15,
   "id": "e044c657",
   "metadata": {},
   "outputs": [
    {
     "data": {
      "text/plain": [
       "<AxesSubplot:xlabel='estado_laboral', ylabel='count'>"
      ]
     },
     "execution_count": 15,
     "metadata": {},
     "output_type": "execute_result"
    },
    {
     "data": {
      "image/png": "[encoded data removed]",
      "text/plain": [
       "<Figure size 432x288 with 1 Axes>"
      ]
     },
     "metadata": {
      "needs_background": "light"
     },
     "output_type": "display_data"
    }
   ],
   "source": [
    "sns.countplot(x=df['estado_laboral'])"
   ]
  },
  {
   "cell_type": "code",
   "execution_count": 16,
   "id": "064b9c43",
   "metadata": {
    "colab": {
     "base_uri": "https://localhost:8080/"
    },
    "executionInfo": {
     "elapsed": 11,
     "status": "ok",
     "timestamp": 1630614534006,
     "user": {
      "displayName": "Andy Nicolón",
      "photoUrl": "https://lh3.googleusercontent.com/a-/AOh14Ggdjr_wvrps129lCKPMFcAm4H3KsbYN0eUakr5_oQ=s64",
      "userId": "09514318996408391655"
     },
     "user_tz": 180
    },
    "id": "5GZeFodTzkkd",
    "outputId": "b7431844-d8cc-4ec9-871d-2a6fc1d551bf"
   },
   "outputs": [
    {
     "data": {
      "text/plain": [
       "Ocupados                                      45.458001\n",
       "Menores de 14 años                            16.745928\n",
       "Inactivo: jubilado                            14.855707\n",
       "Inactivo: estudiante                           7.616505\n",
       "Inactivo: realiza los quehaceres del hogar     5.502869\n",
       "Inactivo: pensionista                          4.114173\n",
       "Desocupados propiamente dichos                 3.160256\n",
       "Inactivo: otro                                 1.196800\n",
       "Desocupados buscan trabajo por primera vez     0.729575\n",
       "Inactivo: rentista                             0.383792\n",
       "Desocupados en seguro de paro                  0.236393\n",
       "Name: estado_laboral, dtype: float64"
      ]
     },
     "execution_count": 16,
     "metadata": {},
     "output_type": "execute_result"
    }
   ],
   "source": [
    "df['estado_laboral'].value_counts() / len(df['estado_laboral']) * 100"
   ]
  },
  {
   "cell_type": "code",
   "execution_count": 17,
   "id": "57c75813",
   "metadata": {},
   "outputs": [
    {
     "data": {
      "text/html": [
       "<div>\n",
       "<style scoped>\n",
       "    .dataframe tbody tr th:only-of-type {\n",
       "        vertical-align: middle;\n",
       "    }\n",
       "\n",
       "    .dataframe tbody tr th {\n",
       "        vertical-align: top;\n",
       "    }\n",
       "\n",
       "    .dataframe thead th {\n",
       "        text-align: right;\n",
       "    }\n",
       "</style>\n",
       "<table border=\"1\" class=\"dataframe\">\n",
       "  <thead>\n",
       "    <tr style=\"text-align: right;\">\n",
       "      <th></th>\n",
       "      <th>edad</th>\n",
       "      <th>nper</th>\n",
       "      <th>sueldo</th>\n",
       "      <th>hijos en hogar</th>\n",
       "      <th>hijos en otro hogar</th>\n",
       "      <th>hijos en el extranjero</th>\n",
       "      <th>suma_hijos</th>\n",
       "    </tr>\n",
       "    <tr>\n",
       "      <th>estado_laboral</th>\n",
       "      <th></th>\n",
       "      <th></th>\n",
       "      <th></th>\n",
       "      <th></th>\n",
       "      <th></th>\n",
       "      <th></th>\n",
       "      <th></th>\n",
       "    </tr>\n",
       "  </thead>\n",
       "  <tbody>\n",
       "    <tr>\n",
       "      <th>Desocupados buscan trabajo por primera vez</th>\n",
       "      <td>20.670902</td>\n",
       "      <td>3.035578</td>\n",
       "      <td>25.031766</td>\n",
       "      <td>0.151207</td>\n",
       "      <td>0.022872</td>\n",
       "      <td>0.000000</td>\n",
       "      <td>0.174079</td>\n",
       "    </tr>\n",
       "    <tr>\n",
       "      <th>Desocupados en seguro de paro</th>\n",
       "      <td>39.074510</td>\n",
       "      <td>1.780392</td>\n",
       "      <td>3602.415686</td>\n",
       "      <td>0.458824</td>\n",
       "      <td>0.254902</td>\n",
       "      <td>0.019608</td>\n",
       "      <td>0.733333</td>\n",
       "    </tr>\n",
       "    <tr>\n",
       "      <th>Desocupados propiamente dichos</th>\n",
       "      <td>33.915518</td>\n",
       "      <td>2.206512</td>\n",
       "      <td>1559.024641</td>\n",
       "      <td>0.596656</td>\n",
       "      <td>0.310355</td>\n",
       "      <td>0.018774</td>\n",
       "      <td>0.925785</td>\n",
       "    </tr>\n",
       "    <tr>\n",
       "      <th>Inactivo: estudiante</th>\n",
       "      <td>17.345180</td>\n",
       "      <td>3.260346</td>\n",
       "      <td>93.646543</td>\n",
       "      <td>0.033350</td>\n",
       "      <td>0.004260</td>\n",
       "      <td>0.000000</td>\n",
       "      <td>0.037610</td>\n",
       "    </tr>\n",
       "    <tr>\n",
       "      <th>Inactivo: jubilado</th>\n",
       "      <td>72.800936</td>\n",
       "      <td>1.348206</td>\n",
       "      <td>123.482059</td>\n",
       "      <td>0.171108</td>\n",
       "      <td>0.959126</td>\n",
       "      <td>0.082683</td>\n",
       "      <td>1.212917</td>\n",
       "    </tr>\n",
       "    <tr>\n",
       "      <th>Inactivo: otro</th>\n",
       "      <td>33.783114</td>\n",
       "      <td>2.883036</td>\n",
       "      <td>618.094500</td>\n",
       "      <td>0.237026</td>\n",
       "      <td>0.302866</td>\n",
       "      <td>0.023238</td>\n",
       "      <td>0.563129</td>\n",
       "    </tr>\n",
       "    <tr>\n",
       "      <th>Inactivo: pensionista</th>\n",
       "      <td>64.425192</td>\n",
       "      <td>1.683641</td>\n",
       "      <td>22.757999</td>\n",
       "      <td>0.370662</td>\n",
       "      <td>1.675530</td>\n",
       "      <td>0.114015</td>\n",
       "      <td>2.160207</td>\n",
       "    </tr>\n",
       "    <tr>\n",
       "      <th>Inactivo: realiza los quehaceres del hogar</th>\n",
       "      <td>46.889319</td>\n",
       "      <td>1.857311</td>\n",
       "      <td>317.843666</td>\n",
       "      <td>1.107311</td>\n",
       "      <td>1.102426</td>\n",
       "      <td>0.056941</td>\n",
       "      <td>2.266678</td>\n",
       "    </tr>\n",
       "    <tr>\n",
       "      <th>Inactivo: rentista</th>\n",
       "      <td>58.461353</td>\n",
       "      <td>1.528986</td>\n",
       "      <td>72.463768</td>\n",
       "      <td>0.541063</td>\n",
       "      <td>0.850242</td>\n",
       "      <td>0.123188</td>\n",
       "      <td>1.514493</td>\n",
       "    </tr>\n",
       "    <tr>\n",
       "      <th>Menores de 14 años</th>\n",
       "      <td>6.953609</td>\n",
       "      <td>3.891718</td>\n",
       "      <td>0.000000</td>\n",
       "      <td>0.000000</td>\n",
       "      <td>0.000000</td>\n",
       "      <td>0.000000</td>\n",
       "      <td>0.000000</td>\n",
       "    </tr>\n",
       "    <tr>\n",
       "      <th>Ocupados</th>\n",
       "      <td>42.683681</td>\n",
       "      <td>1.661249</td>\n",
       "      <td>20109.876601</td>\n",
       "      <td>0.473183</td>\n",
       "      <td>0.304593</td>\n",
       "      <td>0.017885</td>\n",
       "      <td>0.795660</td>\n",
       "    </tr>\n",
       "  </tbody>\n",
       "</table>\n",
       "</div>"
      ],
      "text/plain": [
       "                                                 edad      nper        sueldo  \\\n",
       "estado_laboral                                                                  \n",
       "Desocupados buscan trabajo por primera vez  20.670902  3.035578     25.031766   \n",
       "Desocupados en seguro de paro               39.074510  1.780392   3602.415686   \n",
       "Desocupados propiamente dichos              33.915518  2.206512   1559.024641   \n",
       "Inactivo: estudiante                        17.345180  3.260346     93.646543   \n",
       "Inactivo: jubilado                          72.800936  1.348206    123.482059   \n",
       "Inactivo: otro                              33.783114  2.883036    618.094500   \n",
       "Inactivo: pensionista                       64.425192  1.683641     22.757999   \n",
       "Inactivo: realiza los quehaceres del hogar  46.889319  1.857311    317.843666   \n",
       "Inactivo: rentista                          58.461353  1.528986     72.463768   \n",
       "Menores de 14 años                           6.953609  3.891718      0.000000   \n",
       "Ocupados                                    42.683681  1.661249  20109.876601   \n",
       "\n",
       "                                            hijos en hogar  \\\n",
       "estado_laboral                                               \n",
       "Desocupados buscan trabajo por primera vez        0.151207   \n",
       "Desocupados en seguro de paro                     0.458824   \n",
       "Desocupados propiamente dichos                    0.596656   \n",
       "Inactivo: estudiante                              0.033350   \n",
       "Inactivo: jubilado                                0.171108   \n",
       "Inactivo: otro                                    0.237026   \n",
       "Inactivo: pensionista                             0.370662   \n",
       "Inactivo: realiza los quehaceres del hogar        1.107311   \n",
       "Inactivo: rentista                                0.541063   \n",
       "Menores de 14 años                                0.000000   \n",
       "Ocupados                                          0.473183   \n",
       "\n",
       "                                            hijos en otro hogar  \\\n",
       "estado_laboral                                                    \n",
       "Desocupados buscan trabajo por primera vez             0.022872   \n",
       "Desocupados en seguro de paro                          0.254902   \n",
       "Desocupados propiamente dichos                         0.310355   \n",
       "Inactivo: estudiante                                   0.004260   \n",
       "Inactivo: jubilado                                     0.959126   \n",
       "Inactivo: otro                                         0.302866   \n",
       "Inactivo: pensionista                                  1.675530   \n",
       "Inactivo: realiza los quehaceres del hogar             1.102426   \n",
       "Inactivo: rentista                                     0.850242   \n",
       "Menores de 14 años                                     0.000000   \n",
       "Ocupados                                               0.304593   \n",
       "\n",
       "                                            hijos en el extranjero  suma_hijos  \n",
       "estado_laboral                                                                  \n",
       "Desocupados buscan trabajo por primera vez                0.000000    0.174079  \n",
       "Desocupados en seguro de paro                             0.019608    0.733333  \n",
       "Desocupados propiamente dichos                            0.018774    0.925785  \n",
       "Inactivo: estudiante                                      0.000000    0.037610  \n",
       "Inactivo: jubilado                                        0.082683    1.212917  \n",
       "Inactivo: otro                                            0.023238    0.563129  \n",
       "Inactivo: pensionista                                     0.114015    2.160207  \n",
       "Inactivo: realiza los quehaceres del hogar                0.056941    2.266678  \n",
       "Inactivo: rentista                                        0.123188    1.514493  \n",
       "Menores de 14 años                                        0.000000    0.000000  \n",
       "Ocupados                                                  0.017885    0.795660  "
      ]
     },
     "execution_count": 17,
     "metadata": {},
     "output_type": "execute_result"
    }
   ],
   "source": [
    "df.groupby(by='estado_laboral').mean()"
   ]
  },
  {
   "cell_type": "code",
   "execution_count": 18,
   "id": "ebc2df9b",
   "metadata": {},
   "outputs": [
    {
     "data": {
      "text/plain": [
       "<AxesSubplot:xlabel='ascendencia', ylabel='sueldo'>"
      ]
     },
     "execution_count": 18,
     "metadata": {},
     "output_type": "execute_result"
    },
    {
     "data": {
      "image/png": "[encoded data removed]",
      "text/plain": [
       "<Figure size 432x288 with 1 Axes>"
      ]
     },
     "metadata": {
      "needs_background": "light"
     },
     "output_type": "display_data"
    }
   ],
   "source": [
    "# df = df[~df['ascendencia'].str.contains('Sin dato')]\n",
    "\n",
    "sns.boxplot(data=df, x='ascendencia', y='sueldo', hue='sexo')"
   ]
  },
  {
   "cell_type": "code",
   "execution_count": 19,
   "id": "737828c6",
   "metadata": {},
   "outputs": [
    {
     "data": {
      "text/plain": [
       "<AxesSubplot:xlabel='edad', ylabel='sueldo'>"
      ]
     },
     "execution_count": 19,
     "metadata": {},
     "output_type": "execute_result"
    },
    {
     "data": {
      "image/png": "[encoded data removed]",
      "text/plain": [
       "<Figure size 432x288 with 1 Axes>"
      ]
     },
     "metadata": {
      "needs_background": "light"
     },
     "output_type": "display_data"
    }
   ],
   "source": [
    "sns.lineplot(data=df, x='edad', y='sueldo',hue='sexo')"
   ]
  },
  {
   "cell_type": "markdown",
   "id": "3f3d7238",
   "metadata": {},
   "source": [
    "## Comienzo de análisis más profundo. \n",
    "\n",
    "En este punto nos empezamos a centrar en las madres, jefas de hogares."
   ]
  },
  {
   "cell_type": "code",
   "execution_count": 20,
   "id": "cb35fbc0",
   "metadata": {},
   "outputs": [
    {
     "data": {
      "text/plain": [
       "parentesco_num  parentesco                             \n",
       "6               Jefe/a de hogar                            42507\n",
       "1               Esposo/a o compañero/a                     22574\n",
       "3               Hijo/a de ambos                            20188\n",
       "5               Hijo/a solo del jefe/a                     12492\n",
       "7               Nieto/a                                     3311\n",
       "4               Hijo/a solo del esposo/a compañero/a        1965\n",
       "10              Padre/madre                                 1148\n",
       "2               Hermano/a                                    937\n",
       "9               Otro pariente                                839\n",
       "13              Yerno/nuera                                  766\n",
       "8               Otro no pariente                             729\n",
       "12              Suegro/a                                     254\n",
       "0               Cuñado/a                                     145\n",
       "11              Servicio doméstico o familiar del mismo       16\n",
       "dtype: int64"
      ]
     },
     "execution_count": 20,
     "metadata": {},
     "output_type": "execute_result"
    }
   ],
   "source": [
    "df['parentesco_num'] = df['parentesco'].cat.codes\n",
    "\n",
    "df[['parentesco_num', 'parentesco']].value_counts()"
   ]
  },
  {
   "cell_type": "markdown",
   "id": "bba5d461",
   "metadata": {},
   "source": [
    "Considerando Hijo/a de ambos, Hijo/a solo del jefe/a, Nieto/a, Hijo/a solo del esposo/a compañero/a para ampliar un poco la muestra y tener en cuenta que monomarental puede incluir a los hijos del compañero porque la jefa de hogar estaría a cargo de ellos."
   ]
  },
  {
   "cell_type": "code",
   "execution_count": 21,
   "id": "c7b74edd",
   "metadata": {},
   "outputs": [],
   "source": [
    "mask = df[\"parentesco_num\"].isin([3, 4, 5, 6, 7])\n",
    "df = df[mask]\n",
    "\n",
    "df[\"monomarental\"] = np.NaN\n",
    "df[\"monomarental\"] = (\n",
    "    df[\"monomarental\"]\n",
    "    .apply(lambda x: \"monomarental\")\n",
    "    .where(df[\"parentesco_num\"] == 6)\n",
    "    .where(df[\"sexo\"].str.contains(\"Mujer\"))\n",
    ")"
   ]
  },
  {
   "cell_type": "markdown",
   "id": "af89dd6d",
   "metadata": {},
   "source": [
    "### Empezamos a centrarnos en las hogares monomarentales"
   ]
  },
  {
   "cell_type": "code",
   "execution_count": 22,
   "id": "18548b97",
   "metadata": {},
   "outputs": [
    {
     "data": {
      "text/html": [
       "<div>\n",
       "<style scoped>\n",
       "    .dataframe tbody tr th:only-of-type {\n",
       "        vertical-align: middle;\n",
       "    }\n",
       "\n",
       "    .dataframe tbody tr th {\n",
       "        vertical-align: top;\n",
       "    }\n",
       "\n",
       "    .dataframe thead th {\n",
       "        text-align: right;\n",
       "    }\n",
       "</style>\n",
       "<table border=\"1\" class=\"dataframe\">\n",
       "  <thead>\n",
       "    <tr style=\"text-align: right;\">\n",
       "      <th></th>\n",
       "      <th>id_hogar</th>\n",
       "      <th>sexo</th>\n",
       "      <th>edad</th>\n",
       "      <th>ascendencia</th>\n",
       "      <th>parentesco</th>\n",
       "      <th>estado_laboral</th>\n",
       "      <th>nper</th>\n",
       "      <th>sueldo</th>\n",
       "      <th>busca_otro_trabajo</th>\n",
       "      <th>actividad</th>\n",
       "      <th>...</th>\n",
       "      <th>hijos en hogar</th>\n",
       "      <th>hijos en otro hogar</th>\n",
       "      <th>hijos en el extranjero</th>\n",
       "      <th>leer_escribir</th>\n",
       "      <th>region</th>\n",
       "      <th>vivienda</th>\n",
       "      <th>estrato</th>\n",
       "      <th>suma_hijos</th>\n",
       "      <th>parentesco_num</th>\n",
       "      <th>monomarental</th>\n",
       "    </tr>\n",
       "  </thead>\n",
       "  <tbody>\n",
       "    <tr>\n",
       "      <th>39091</th>\n",
       "      <td>2019021032</td>\n",
       "      <td>Mujer</td>\n",
       "      <td>9.0</td>\n",
       "      <td>Blanca</td>\n",
       "      <td>Hijo/a solo del jefe/a</td>\n",
       "      <td>Menores de 14 años</td>\n",
       "      <td>4.0</td>\n",
       "      <td>0.0</td>\n",
       "      <td>0.0</td>\n",
       "      <td>.</td>\n",
       "      <td>...</td>\n",
       "      <td>0.0</td>\n",
       "      <td>0.0</td>\n",
       "      <td>0.0</td>\n",
       "      <td>Sí</td>\n",
       "      <td>Montevideo</td>\n",
       "      <td>Ocupante gratuito y se lo permite un particular</td>\n",
       "      <td>Montevideo Medio Bajo</td>\n",
       "      <td>0.0</td>\n",
       "      <td>5</td>\n",
       "      <td>NaN</td>\n",
       "    </tr>\n",
       "    <tr>\n",
       "      <th>73890</th>\n",
       "      <td>2019039855</td>\n",
       "      <td>Hombre</td>\n",
       "      <td>13.0</td>\n",
       "      <td>Blanca</td>\n",
       "      <td>Hijo/a solo del jefe/a</td>\n",
       "      <td>Menores de 14 años</td>\n",
       "      <td>2.0</td>\n",
       "      <td>0.0</td>\n",
       "      <td>0.0</td>\n",
       "      <td>.</td>\n",
       "      <td>...</td>\n",
       "      <td>0.0</td>\n",
       "      <td>0.0</td>\n",
       "      <td>0.0</td>\n",
       "      <td>Sí</td>\n",
       "      <td>Interior - Localidades de 5.000 habitantes o más</td>\n",
       "      <td>Ocupante gratuito y se lo permite un particular</td>\n",
       "      <td>Litoral Sur</td>\n",
       "      <td>0.0</td>\n",
       "      <td>5</td>\n",
       "      <td>NaN</td>\n",
       "    </tr>\n",
       "    <tr>\n",
       "      <th>65887</th>\n",
       "      <td>2019035460</td>\n",
       "      <td>Hombre</td>\n",
       "      <td>11.0</td>\n",
       "      <td>Blanca</td>\n",
       "      <td>Hijo/a de ambos</td>\n",
       "      <td>Menores de 14 años</td>\n",
       "      <td>5.0</td>\n",
       "      <td>0.0</td>\n",
       "      <td>0.0</td>\n",
       "      <td>.</td>\n",
       "      <td>...</td>\n",
       "      <td>0.0</td>\n",
       "      <td>0.0</td>\n",
       "      <td>0.0</td>\n",
       "      <td>Sí</td>\n",
       "      <td>Interior - Localidades de 5.000 habitantes o más</td>\n",
       "      <td>Ocupante gratuito y se lo permite un particular</td>\n",
       "      <td>Centro Sur</td>\n",
       "      <td>0.0</td>\n",
       "      <td>3</td>\n",
       "      <td>NaN</td>\n",
       "    </tr>\n",
       "    <tr>\n",
       "      <th>69740</th>\n",
       "      <td>2019037563</td>\n",
       "      <td>Mujer</td>\n",
       "      <td>19.0</td>\n",
       "      <td>Blanca</td>\n",
       "      <td>Hijo/a solo del jefe/a</td>\n",
       "      <td>Ocupados</td>\n",
       "      <td>2.0</td>\n",
       "      <td>12000.0</td>\n",
       "      <td>Sí</td>\n",
       "      <td>Restaurantes y otros servicios de comidas móviles</td>\n",
       "      <td>...</td>\n",
       "      <td>0.0</td>\n",
       "      <td>0.0</td>\n",
       "      <td>0.0</td>\n",
       "      <td>Sí</td>\n",
       "      <td>Interior - Localidades de 5.000 habitantes o más</td>\n",
       "      <td>Inquilino o arrendatario de la vivienda</td>\n",
       "      <td>Costa Este</td>\n",
       "      <td>0.0</td>\n",
       "      <td>5</td>\n",
       "      <td>NaN</td>\n",
       "    </tr>\n",
       "    <tr>\n",
       "      <th>81215</th>\n",
       "      <td>2019043792</td>\n",
       "      <td>Mujer</td>\n",
       "      <td>21.0</td>\n",
       "      <td>Blanca</td>\n",
       "      <td>Hijo/a de ambos</td>\n",
       "      <td>Inactivo: estudiante</td>\n",
       "      <td>3.0</td>\n",
       "      <td>0.0</td>\n",
       "      <td>0.0</td>\n",
       "      <td>.</td>\n",
       "      <td>...</td>\n",
       "      <td>0.0</td>\n",
       "      <td>0.0</td>\n",
       "      <td>0.0</td>\n",
       "      <td>Sí</td>\n",
       "      <td>Interior - Localidades de 5.000 habitantes o más</td>\n",
       "      <td>Inquilino o arrendatario de la vivienda</td>\n",
       "      <td>Centro Sur</td>\n",
       "      <td>0.0</td>\n",
       "      <td>3</td>\n",
       "      <td>NaN</td>\n",
       "    </tr>\n",
       "  </tbody>\n",
       "</table>\n",
       "<p>5 rows × 32 columns</p>\n",
       "</div>"
      ],
      "text/plain": [
       "         id_hogar    sexo  edad ascendencia              parentesco  \\\n",
       "39091  2019021032   Mujer   9.0      Blanca  Hijo/a solo del jefe/a   \n",
       "73890  2019039855  Hombre  13.0      Blanca  Hijo/a solo del jefe/a   \n",
       "65887  2019035460  Hombre  11.0      Blanca         Hijo/a de ambos   \n",
       "69740  2019037563   Mujer  19.0      Blanca  Hijo/a solo del jefe/a   \n",
       "81215  2019043792   Mujer  21.0      Blanca         Hijo/a de ambos   \n",
       "\n",
       "             estado_laboral  nper   sueldo busca_otro_trabajo  \\\n",
       "39091    Menores de 14 años   4.0      0.0                0.0   \n",
       "73890    Menores de 14 años   2.0      0.0                0.0   \n",
       "65887    Menores de 14 años   5.0      0.0                0.0   \n",
       "69740              Ocupados   2.0  12000.0                 Sí   \n",
       "81215  Inactivo: estudiante   3.0      0.0                0.0   \n",
       "\n",
       "                                               actividad  ... hijos en hogar  \\\n",
       "39091                                                  .  ...            0.0   \n",
       "73890                                                  .  ...            0.0   \n",
       "65887                                                  .  ...            0.0   \n",
       "69740  Restaurantes y otros servicios de comidas móviles  ...            0.0   \n",
       "81215                                                  .  ...            0.0   \n",
       "\n",
       "      hijos en otro hogar hijos en el extranjero leer_escribir  \\\n",
       "39091                 0.0                    0.0            Sí   \n",
       "73890                 0.0                    0.0            Sí   \n",
       "65887                 0.0                    0.0            Sí   \n",
       "69740                 0.0                    0.0            Sí   \n",
       "81215                 0.0                    0.0            Sí   \n",
       "\n",
       "                                                 region  \\\n",
       "39091                                        Montevideo   \n",
       "73890  Interior - Localidades de 5.000 habitantes o más   \n",
       "65887  Interior - Localidades de 5.000 habitantes o más   \n",
       "69740  Interior - Localidades de 5.000 habitantes o más   \n",
       "81215  Interior - Localidades de 5.000 habitantes o más   \n",
       "\n",
       "                                              vivienda                estrato  \\\n",
       "39091  Ocupante gratuito y se lo permite un particular  Montevideo Medio Bajo   \n",
       "73890  Ocupante gratuito y se lo permite un particular            Litoral Sur   \n",
       "65887  Ocupante gratuito y se lo permite un particular             Centro Sur   \n",
       "69740          Inquilino o arrendatario de la vivienda             Costa Este   \n",
       "81215          Inquilino o arrendatario de la vivienda             Centro Sur   \n",
       "\n",
       "      suma_hijos parentesco_num monomarental  \n",
       "39091        0.0              5          NaN  \n",
       "73890        0.0              5          NaN  \n",
       "65887        0.0              3          NaN  \n",
       "69740        0.0              5          NaN  \n",
       "81215        0.0              3          NaN  \n",
       "\n",
       "[5 rows x 32 columns]"
      ]
     },
     "execution_count": 22,
     "metadata": {},
     "output_type": "execute_result"
    }
   ],
   "source": [
    "# Eliminamos hogares con jefes de hogar masculinos\n",
    "df_monomarental_y_familia = df.copy().drop(\n",
    "    labels=list(\n",
    "        df.loc[(df[\"sexo\"].str.contains(\"Hombre\")) & (df[\"parentesco_num\"] == 6)].index\n",
    "    )\n",
    ")\n",
    "\n",
    "df_monomarental_y_familia.sample(5)"
   ]
  },
  {
   "cell_type": "markdown",
   "id": "b42198ed",
   "metadata": {},
   "source": [
    "## Investigamos el contexto de las jefas de hogar activas laboralmente"
   ]
  },
  {
   "cell_type": "code",
   "execution_count": 23,
   "id": "66d99271",
   "metadata": {},
   "outputs": [],
   "source": [
    "df_monomarental = df_monomarental_y_familia.copy()[df_monomarental_y_familia['monomarental'].notna()]\n",
    "\n",
    "df_monomarental.sample(5)\n",
    "\n",
    "df_monomarental[[\n",
    "    'id_hogar', \n",
    "    'sexo', \n",
    "    'edad', \n",
    "    'ascendencia', \n",
    "    'parentesco', \n",
    "    'estado_laboral', \n",
    "    'nper', \n",
    "    'sueldo', \n",
    "    'busca_otro_trabajo',\n",
    "    'actividad',\n",
    "    'asistencia alguna vez a enseñanza',\n",
    "    'edu preescolar',\n",
    "    'edu primaria',\n",
    "    'edu media',\n",
    "    'edu técnica',\n",
    "    'edu univ o simil',\n",
    "    'edu terciario no uni',\n",
    "    'edu posgrado',\n",
    "    'edu mag prof',\n",
    "    'barrio',\n",
    "    'estado_civil',\n",
    "    'hijos',\n",
    "    'hijos en hogar',\n",
    "    'hijos en otro hogar',\n",
    "    'hijos en el extranjero',\n",
    "    'suma_hijos',\n",
    "    'leer_escribir'\n",
    "    ]].to_csv('monomarental.csv', index=None)"
   ]
  },
  {
   "cell_type": "code",
   "execution_count": 24,
   "id": "03c09cc7",
   "metadata": {},
   "outputs": [
    {
     "data": {
      "text/plain": [
       "Ocupados                                      10877\n",
       "Inactivo: jubilado                             5273\n",
       "Inactivo: pensionista                          2138\n",
       "Inactivo: realiza los quehaceres del hogar     1503\n",
       "Desocupados propiamente dichos                  626\n",
       "Inactivo: rentista                              142\n",
       "Inactivo: estudiante                             62\n",
       "Desocupados en seguro de paro                    54\n",
       "Inactivo: otro                                   33\n",
       "Desocupados buscan trabajo por primera vez       23\n",
       "Menores de 14 años                                0\n",
       "Name: estado_laboral, dtype: int64"
      ]
     },
     "execution_count": 24,
     "metadata": {},
     "output_type": "execute_result"
    }
   ],
   "source": [
    "df_monomarental['estado_laboral'].value_counts()"
   ]
  },
  {
   "cell_type": "code",
   "execution_count": 25,
   "id": "71907804",
   "metadata": {},
   "outputs": [
    {
     "data": {
      "text/html": [
       "<div>\n",
       "<style scoped>\n",
       "    .dataframe tbody tr th:only-of-type {\n",
       "        vertical-align: middle;\n",
       "    }\n",
       "\n",
       "    .dataframe tbody tr th {\n",
       "        vertical-align: top;\n",
       "    }\n",
       "\n",
       "    .dataframe thead th {\n",
       "        text-align: right;\n",
       "    }\n",
       "</style>\n",
       "<table border=\"1\" class=\"dataframe\">\n",
       "  <thead>\n",
       "    <tr style=\"text-align: right;\">\n",
       "      <th></th>\n",
       "      <th>edad</th>\n",
       "      <th>nper</th>\n",
       "      <th>sueldo</th>\n",
       "      <th>hijos en hogar</th>\n",
       "      <th>hijos en otro hogar</th>\n",
       "      <th>hijos en el extranjero</th>\n",
       "      <th>suma_hijos</th>\n",
       "      <th>parentesco_num</th>\n",
       "    </tr>\n",
       "    <tr>\n",
       "      <th>estado_laboral</th>\n",
       "      <th></th>\n",
       "      <th></th>\n",
       "      <th></th>\n",
       "      <th></th>\n",
       "      <th></th>\n",
       "      <th></th>\n",
       "      <th></th>\n",
       "      <th></th>\n",
       "    </tr>\n",
       "  </thead>\n",
       "  <tbody>\n",
       "    <tr>\n",
       "      <th>Desocupados buscan trabajo por primera vez</th>\n",
       "      <td>27.739130</td>\n",
       "      <td>1.0</td>\n",
       "      <td>0.000000</td>\n",
       "      <td>0.782609</td>\n",
       "      <td>0.521739</td>\n",
       "      <td>0.000000</td>\n",
       "      <td>1.304348</td>\n",
       "      <td>6.0</td>\n",
       "    </tr>\n",
       "    <tr>\n",
       "      <th>Desocupados en seguro de paro</th>\n",
       "      <td>43.166667</td>\n",
       "      <td>1.0</td>\n",
       "      <td>3572.518519</td>\n",
       "      <td>1.111111</td>\n",
       "      <td>0.777778</td>\n",
       "      <td>0.055556</td>\n",
       "      <td>1.944444</td>\n",
       "      <td>6.0</td>\n",
       "    </tr>\n",
       "    <tr>\n",
       "      <th>Desocupados propiamente dichos</th>\n",
       "      <td>41.044728</td>\n",
       "      <td>1.0</td>\n",
       "      <td>1553.162939</td>\n",
       "      <td>1.436102</td>\n",
       "      <td>0.896166</td>\n",
       "      <td>0.041534</td>\n",
       "      <td>2.373802</td>\n",
       "      <td>6.0</td>\n",
       "    </tr>\n",
       "    <tr>\n",
       "      <th>Inactivo: estudiante</th>\n",
       "      <td>26.500000</td>\n",
       "      <td>1.0</td>\n",
       "      <td>604.838710</td>\n",
       "      <td>0.612903</td>\n",
       "      <td>0.064516</td>\n",
       "      <td>0.000000</td>\n",
       "      <td>0.677419</td>\n",
       "      <td>6.0</td>\n",
       "    </tr>\n",
       "    <tr>\n",
       "      <th>Inactivo: jubilado</th>\n",
       "      <td>73.846767</td>\n",
       "      <td>1.0</td>\n",
       "      <td>114.925090</td>\n",
       "      <td>0.259435</td>\n",
       "      <td>1.785701</td>\n",
       "      <td>0.156078</td>\n",
       "      <td>2.201214</td>\n",
       "      <td>6.0</td>\n",
       "    </tr>\n",
       "    <tr>\n",
       "      <th>Inactivo: otro</th>\n",
       "      <td>55.363636</td>\n",
       "      <td>1.0</td>\n",
       "      <td>0.000000</td>\n",
       "      <td>1.151515</td>\n",
       "      <td>2.151515</td>\n",
       "      <td>0.151515</td>\n",
       "      <td>3.454545</td>\n",
       "      <td>6.0</td>\n",
       "    </tr>\n",
       "    <tr>\n",
       "      <th>Inactivo: pensionista</th>\n",
       "      <td>72.115061</td>\n",
       "      <td>1.0</td>\n",
       "      <td>23.620206</td>\n",
       "      <td>0.428906</td>\n",
       "      <td>2.442937</td>\n",
       "      <td>0.156221</td>\n",
       "      <td>3.028064</td>\n",
       "      <td>6.0</td>\n",
       "    </tr>\n",
       "    <tr>\n",
       "      <th>Inactivo: realiza los quehaceres del hogar</th>\n",
       "      <td>48.506321</td>\n",
       "      <td>1.0</td>\n",
       "      <td>217.099135</td>\n",
       "      <td>1.377246</td>\n",
       "      <td>1.242182</td>\n",
       "      <td>0.063872</td>\n",
       "      <td>2.683300</td>\n",
       "      <td>6.0</td>\n",
       "    </tr>\n",
       "    <tr>\n",
       "      <th>Inactivo: rentista</th>\n",
       "      <td>58.852113</td>\n",
       "      <td>1.0</td>\n",
       "      <td>211.267606</td>\n",
       "      <td>0.697183</td>\n",
       "      <td>1.133803</td>\n",
       "      <td>0.169014</td>\n",
       "      <td>2.000000</td>\n",
       "      <td>6.0</td>\n",
       "    </tr>\n",
       "    <tr>\n",
       "      <th>Menores de 14 años</th>\n",
       "      <td>NaN</td>\n",
       "      <td>NaN</td>\n",
       "      <td>NaN</td>\n",
       "      <td>NaN</td>\n",
       "      <td>NaN</td>\n",
       "      <td>NaN</td>\n",
       "      <td>NaN</td>\n",
       "      <td>NaN</td>\n",
       "    </tr>\n",
       "    <tr>\n",
       "      <th>Ocupados</th>\n",
       "      <td>45.564310</td>\n",
       "      <td>1.0</td>\n",
       "      <td>20539.950630</td>\n",
       "      <td>1.071711</td>\n",
       "      <td>0.775673</td>\n",
       "      <td>0.047348</td>\n",
       "      <td>1.894732</td>\n",
       "      <td>6.0</td>\n",
       "    </tr>\n",
       "  </tbody>\n",
       "</table>\n",
       "</div>"
      ],
      "text/plain": [
       "                                                 edad  nper        sueldo  \\\n",
       "estado_laboral                                                              \n",
       "Desocupados buscan trabajo por primera vez  27.739130   1.0      0.000000   \n",
       "Desocupados en seguro de paro               43.166667   1.0   3572.518519   \n",
       "Desocupados propiamente dichos              41.044728   1.0   1553.162939   \n",
       "Inactivo: estudiante                        26.500000   1.0    604.838710   \n",
       "Inactivo: jubilado                          73.846767   1.0    114.925090   \n",
       "Inactivo: otro                              55.363636   1.0      0.000000   \n",
       "Inactivo: pensionista                       72.115061   1.0     23.620206   \n",
       "Inactivo: realiza los quehaceres del hogar  48.506321   1.0    217.099135   \n",
       "Inactivo: rentista                          58.852113   1.0    211.267606   \n",
       "Menores de 14 años                                NaN   NaN           NaN   \n",
       "Ocupados                                    45.564310   1.0  20539.950630   \n",
       "\n",
       "                                            hijos en hogar  \\\n",
       "estado_laboral                                               \n",
       "Desocupados buscan trabajo por primera vez        0.782609   \n",
       "Desocupados en seguro de paro                     1.111111   \n",
       "Desocupados propiamente dichos                    1.436102   \n",
       "Inactivo: estudiante                              0.612903   \n",
       "Inactivo: jubilado                                0.259435   \n",
       "Inactivo: otro                                    1.151515   \n",
       "Inactivo: pensionista                             0.428906   \n",
       "Inactivo: realiza los quehaceres del hogar        1.377246   \n",
       "Inactivo: rentista                                0.697183   \n",
       "Menores de 14 años                                     NaN   \n",
       "Ocupados                                          1.071711   \n",
       "\n",
       "                                            hijos en otro hogar  \\\n",
       "estado_laboral                                                    \n",
       "Desocupados buscan trabajo por primera vez             0.521739   \n",
       "Desocupados en seguro de paro                          0.777778   \n",
       "Desocupados propiamente dichos                         0.896166   \n",
       "Inactivo: estudiante                                   0.064516   \n",
       "Inactivo: jubilado                                     1.785701   \n",
       "Inactivo: otro                                         2.151515   \n",
       "Inactivo: pensionista                                  2.442937   \n",
       "Inactivo: realiza los quehaceres del hogar             1.242182   \n",
       "Inactivo: rentista                                     1.133803   \n",
       "Menores de 14 años                                          NaN   \n",
       "Ocupados                                               0.775673   \n",
       "\n",
       "                                            hijos en el extranjero  \\\n",
       "estado_laboral                                                       \n",
       "Desocupados buscan trabajo por primera vez                0.000000   \n",
       "Desocupados en seguro de paro                             0.055556   \n",
       "Desocupados propiamente dichos                            0.041534   \n",
       "Inactivo: estudiante                                      0.000000   \n",
       "Inactivo: jubilado                                        0.156078   \n",
       "Inactivo: otro                                            0.151515   \n",
       "Inactivo: pensionista                                     0.156221   \n",
       "Inactivo: realiza los quehaceres del hogar                0.063872   \n",
       "Inactivo: rentista                                        0.169014   \n",
       "Menores de 14 años                                             NaN   \n",
       "Ocupados                                                  0.047348   \n",
       "\n",
       "                                            suma_hijos  parentesco_num  \n",
       "estado_laboral                                                          \n",
       "Desocupados buscan trabajo por primera vez    1.304348             6.0  \n",
       "Desocupados en seguro de paro                 1.944444             6.0  \n",
       "Desocupados propiamente dichos                2.373802             6.0  \n",
       "Inactivo: estudiante                          0.677419             6.0  \n",
       "Inactivo: jubilado                            2.201214             6.0  \n",
       "Inactivo: otro                                3.454545             6.0  \n",
       "Inactivo: pensionista                         3.028064             6.0  \n",
       "Inactivo: realiza los quehaceres del hogar    2.683300             6.0  \n",
       "Inactivo: rentista                            2.000000             6.0  \n",
       "Menores de 14 años                                 NaN             NaN  \n",
       "Ocupados                                      1.894732             6.0  "
      ]
     },
     "execution_count": 25,
     "metadata": {},
     "output_type": "execute_result"
    }
   ],
   "source": [
    "df_monomarental.groupby(by='estado_laboral').mean()"
   ]
  },
  {
   "cell_type": "code",
   "execution_count": 26,
   "id": "f483e377",
   "metadata": {},
   "outputs": [
    {
     "data": {
      "text/plain": [
       "<seaborn.axisgrid.FacetGrid at 0x7fc0f63639d0>"
      ]
     },
     "execution_count": 26,
     "metadata": {},
     "output_type": "execute_result"
    },
    {
     "data": {
      "image/png": "[encoded data removed]",
      "text/plain": [
       "<Figure size 360x360 with 1 Axes>"
      ]
     },
     "metadata": {
      "needs_background": "light"
     },
     "output_type": "display_data"
    }
   ],
   "source": [
    "sns.displot(df_monomarental['sueldo'])"
   ]
  },
  {
   "cell_type": "markdown",
   "id": "3e14297e",
   "metadata": {},
   "source": [
    "### En la gráfica anterior nos enfrentamos a la necesidad de eliminar outliers para realizar un análisis más ajustado a la realidad general de las madres"
   ]
  },
  {
   "cell_type": "code",
   "execution_count": 27,
   "id": "2c8cae60",
   "metadata": {},
   "outputs": [],
   "source": [
    "df_monomarental_sinoutliers = df_monomarental[\n",
    "    df_monomarental[\"estado_laboral\"].str.contains(\"Ocupados\")\n",
    "].copy()\n",
    "\n",
    "df_monomarental_sinoutliers = df_monomarental_sinoutliers[\n",
    "    df_monomarental_sinoutliers[\"edad\"] > 14\n",
    "]\n",
    "\n",
    "df_monomarental_sinoutliers = df_monomarental_sinoutliers[\n",
    "    df_monomarental_sinoutliers[\"sueldo\"] > 0\n",
    "]"
   ]
  },
  {
   "cell_type": "code",
   "execution_count": 28,
   "id": "b6241dab",
   "metadata": {},
   "outputs": [
    {
     "name": "stdout",
     "output_type": "stream",
     "text": [
      "118600.00000000036\n"
     ]
    }
   ],
   "source": [
    "quantil_99 = df_monomarental_sinoutliers[\"sueldo\"].quantile(0.99)\n",
    "print(quantil_99)\n",
    "\n",
    "df_monomarental_sinoutliers = df_monomarental_sinoutliers[\n",
    "    df_monomarental_sinoutliers[\"sueldo\"] < quantil_99\n",
    "]\n",
    "\n",
    "quartil_1 = df_monomarental_sinoutliers[\"sueldo\"].quantile(0.25)\n",
    "quartil_3 = df_monomarental_sinoutliers[\"sueldo\"].quantile(0.75)\n",
    "\n",
    "iqr = quartil_3 - quartil_1\n",
    "\n",
    "df_monomarental_sinoutliers = df_monomarental_sinoutliers[\n",
    "    df_monomarental_sinoutliers[\"sueldo\"] < quartil_3 + 1.5 * iqr\n",
    "]\n",
    "\n",
    "df_monomarental_sinoutliers = df_monomarental_sinoutliers[\n",
    "    df_monomarental_sinoutliers[\"sueldo\"] > quartil_1 - 1.5 * iqr\n",
    "]"
   ]
  },
  {
   "cell_type": "code",
   "execution_count": 29,
   "id": "169dd67b",
   "metadata": {},
   "outputs": [
    {
     "data": {
      "text/plain": [
       "<seaborn.axisgrid.FacetGrid at 0x7fc0f0772400>"
      ]
     },
     "execution_count": 29,
     "metadata": {},
     "output_type": "execute_result"
    },
    {
     "data": {
      "image/png": "[encoded data removed]",
      "text/plain": [
       "<Figure size 360x360 with 1 Axes>"
      ]
     },
     "metadata": {
      "needs_background": "light"
     },
     "output_type": "display_data"
    }
   ],
   "source": [
    "sns.displot(df_monomarental_sinoutliers['sueldo'])"
   ]
  },
  {
   "cell_type": "markdown",
   "id": "29f78af6",
   "metadata": {},
   "source": [
    "### Sueldo por cantidad de hijos"
   ]
  },
  {
   "cell_type": "code",
   "execution_count": 30,
   "id": "b8d6c685",
   "metadata": {},
   "outputs": [
    {
     "data": {
      "image/png": "[encoded data removed]",
      "text/plain": [
       "<Figure size 432x288 with 1 Axes>"
      ]
     },
     "metadata": {
      "needs_background": "light"
     },
     "output_type": "display_data"
    }
   ],
   "source": [
    "sns.boxplot(data=df_monomarental_sinoutliers, x='suma_hijos', y='sueldo')\n",
    "\n",
    "plt.show()"
   ]
  },
  {
   "cell_type": "code",
   "execution_count": 31,
   "id": "c8b6360e",
   "metadata": {},
   "outputs": [
    {
     "data": {
      "text/html": [
       "<div>\n",
       "<style scoped>\n",
       "    .dataframe tbody tr th:only-of-type {\n",
       "        vertical-align: middle;\n",
       "    }\n",
       "\n",
       "    .dataframe tbody tr th {\n",
       "        vertical-align: top;\n",
       "    }\n",
       "\n",
       "    .dataframe thead th {\n",
       "        text-align: right;\n",
       "    }\n",
       "</style>\n",
       "<table border=\"1\" class=\"dataframe\">\n",
       "  <thead>\n",
       "    <tr style=\"text-align: right;\">\n",
       "      <th></th>\n",
       "      <th>count</th>\n",
       "      <th>mean</th>\n",
       "      <th>std</th>\n",
       "      <th>min</th>\n",
       "      <th>25%</th>\n",
       "      <th>50%</th>\n",
       "      <th>75%</th>\n",
       "      <th>max</th>\n",
       "    </tr>\n",
       "  </thead>\n",
       "  <tbody>\n",
       "    <tr>\n",
       "      <th>edad</th>\n",
       "      <td>7435.0</td>\n",
       "      <td>44.188568</td>\n",
       "      <td>11.854204</td>\n",
       "      <td>17.0</td>\n",
       "      <td>35.0</td>\n",
       "      <td>44.0</td>\n",
       "      <td>53.0</td>\n",
       "      <td>83.0</td>\n",
       "    </tr>\n",
       "    <tr>\n",
       "      <th>sueldo</th>\n",
       "      <td>7435.0</td>\n",
       "      <td>24601.295763</td>\n",
       "      <td>13908.398321</td>\n",
       "      <td>200.0</td>\n",
       "      <td>14550.0</td>\n",
       "      <td>23000.0</td>\n",
       "      <td>32400.0</td>\n",
       "      <td>64500.0</td>\n",
       "    </tr>\n",
       "    <tr>\n",
       "      <th>suma_hijos</th>\n",
       "      <td>7435.0</td>\n",
       "      <td>1.762071</td>\n",
       "      <td>1.569745</td>\n",
       "      <td>0.0</td>\n",
       "      <td>1.0</td>\n",
       "      <td>2.0</td>\n",
       "      <td>2.0</td>\n",
       "      <td>14.0</td>\n",
       "    </tr>\n",
       "  </tbody>\n",
       "</table>\n",
       "</div>"
      ],
      "text/plain": [
       "             count          mean           std    min      25%      50%  \\\n",
       "edad        7435.0     44.188568     11.854204   17.0     35.0     44.0   \n",
       "sueldo      7435.0  24601.295763  13908.398321  200.0  14550.0  23000.0   \n",
       "suma_hijos  7435.0      1.762071      1.569745    0.0      1.0      2.0   \n",
       "\n",
       "                75%      max  \n",
       "edad           53.0     83.0  \n",
       "sueldo      32400.0  64500.0  \n",
       "suma_hijos      2.0     14.0  "
      ]
     },
     "execution_count": 31,
     "metadata": {},
     "output_type": "execute_result"
    }
   ],
   "source": [
    "df_monomarental_sinoutliers[['edad', 'sueldo', 'suma_hijos']].describe().transpose()"
   ]
  },
  {
   "cell_type": "markdown",
   "id": "f07e6440",
   "metadata": {},
   "source": [
    "### Sueldo por ascendencia"
   ]
  },
  {
   "cell_type": "code",
   "execution_count": 32,
   "id": "52242636",
   "metadata": {},
   "outputs": [
    {
     "data": {
      "text/plain": [
       "<AxesSubplot:xlabel='ascendencia', ylabel='sueldo'>"
      ]
     },
     "execution_count": 32,
     "metadata": {},
     "output_type": "execute_result"
    },
    {
     "data": {
      "image/png": "[encoded data removed]",
      "text/plain": [
       "<Figure size 432x288 with 1 Axes>"
      ]
     },
     "metadata": {
      "needs_background": "light"
     },
     "output_type": "display_data"
    }
   ],
   "source": [
    "sns.boxplot(data=df_monomarental_sinoutliers, x='ascendencia', y='sueldo')"
   ]
  },
  {
   "cell_type": "code",
   "execution_count": 33,
   "id": "5259c96d",
   "metadata": {},
   "outputs": [
    {
     "data": {
      "text/html": [
       "<div>\n",
       "<style scoped>\n",
       "    .dataframe tbody tr th:only-of-type {\n",
       "        vertical-align: middle;\n",
       "    }\n",
       "\n",
       "    .dataframe tbody tr th {\n",
       "        vertical-align: top;\n",
       "    }\n",
       "\n",
       "    .dataframe thead th {\n",
       "        text-align: right;\n",
       "    }\n",
       "</style>\n",
       "<table border=\"1\" class=\"dataframe\">\n",
       "  <thead>\n",
       "    <tr style=\"text-align: right;\">\n",
       "      <th></th>\n",
       "      <th>id_hogar</th>\n",
       "      <th>sexo</th>\n",
       "      <th>edad</th>\n",
       "      <th>ascendencia</th>\n",
       "      <th>parentesco</th>\n",
       "      <th>estado_laboral</th>\n",
       "      <th>nper</th>\n",
       "      <th>sueldo</th>\n",
       "      <th>busca_otro_trabajo</th>\n",
       "      <th>actividad</th>\n",
       "      <th>...</th>\n",
       "      <th>hijos en hogar</th>\n",
       "      <th>hijos en otro hogar</th>\n",
       "      <th>hijos en el extranjero</th>\n",
       "      <th>leer_escribir</th>\n",
       "      <th>region</th>\n",
       "      <th>vivienda</th>\n",
       "      <th>estrato</th>\n",
       "      <th>suma_hijos</th>\n",
       "      <th>parentesco_num</th>\n",
       "      <th>monomarental</th>\n",
       "    </tr>\n",
       "  </thead>\n",
       "  <tbody>\n",
       "    <tr>\n",
       "      <th>80079</th>\n",
       "      <td>2019043181</td>\n",
       "      <td>Mujer</td>\n",
       "      <td>40.0</td>\n",
       "      <td>Blanca</td>\n",
       "      <td>Jefe/a de hogar</td>\n",
       "      <td>Ocupados</td>\n",
       "      <td>1.0</td>\n",
       "      <td>9000.0</td>\n",
       "      <td>No</td>\n",
       "      <td>Actividades de los hogares en calidad de emple...</td>\n",
       "      <td>...</td>\n",
       "      <td>1.0</td>\n",
       "      <td>0.0</td>\n",
       "      <td>0.0</td>\n",
       "      <td>Sí</td>\n",
       "      <td>Interior - Localidades de 5.000 habitantes o más</td>\n",
       "      <td>Propietario de la vivienda y el terreno y ya l...</td>\n",
       "      <td>Interior Norte</td>\n",
       "      <td>1.0</td>\n",
       "      <td>6</td>\n",
       "      <td>monomarental</td>\n",
       "    </tr>\n",
       "    <tr>\n",
       "      <th>8480</th>\n",
       "      <td>2019004522</td>\n",
       "      <td>Mujer</td>\n",
       "      <td>52.0</td>\n",
       "      <td>Blanca</td>\n",
       "      <td>Jefe/a de hogar</td>\n",
       "      <td>Ocupados</td>\n",
       "      <td>1.0</td>\n",
       "      <td>18000.0</td>\n",
       "      <td>Sí</td>\n",
       "      <td>Limpieza general de edificios</td>\n",
       "      <td>...</td>\n",
       "      <td>0.0</td>\n",
       "      <td>0.0</td>\n",
       "      <td>0.0</td>\n",
       "      <td>Sí</td>\n",
       "      <td>Montevideo</td>\n",
       "      <td>Inquilino o arrendatario de la vivienda</td>\n",
       "      <td>Montevideo Bajo</td>\n",
       "      <td>0.0</td>\n",
       "      <td>6</td>\n",
       "      <td>monomarental</td>\n",
       "    </tr>\n",
       "    <tr>\n",
       "      <th>107427</th>\n",
       "      <td>2019057831</td>\n",
       "      <td>Mujer</td>\n",
       "      <td>25.0</td>\n",
       "      <td>Blanca</td>\n",
       "      <td>Jefe/a de hogar</td>\n",
       "      <td>Ocupados</td>\n",
       "      <td>1.0</td>\n",
       "      <td>25000.0</td>\n",
       "      <td>No</td>\n",
       "      <td>Elaboración de comidas y platos preparados</td>\n",
       "      <td>...</td>\n",
       "      <td>0.0</td>\n",
       "      <td>0.0</td>\n",
       "      <td>0.0</td>\n",
       "      <td>Sí</td>\n",
       "      <td>Interior - Localidades de 5.000 habitantes o más</td>\n",
       "      <td>Inquilino o arrendatario de la vivienda</td>\n",
       "      <td>Costa Este</td>\n",
       "      <td>0.0</td>\n",
       "      <td>6</td>\n",
       "      <td>monomarental</td>\n",
       "    </tr>\n",
       "    <tr>\n",
       "      <th>103516</th>\n",
       "      <td>2019055747</td>\n",
       "      <td>Mujer</td>\n",
       "      <td>39.0</td>\n",
       "      <td>Blanca</td>\n",
       "      <td>Jefe/a de hogar</td>\n",
       "      <td>Ocupados</td>\n",
       "      <td>1.0</td>\n",
       "      <td>35000.0</td>\n",
       "      <td>No</td>\n",
       "      <td>Comercio al por menor en almacenes no especial...</td>\n",
       "      <td>...</td>\n",
       "      <td>2.0</td>\n",
       "      <td>0.0</td>\n",
       "      <td>0.0</td>\n",
       "      <td>Sí</td>\n",
       "      <td>Montevideo</td>\n",
       "      <td>Inquilino o arrendatario de la vivienda</td>\n",
       "      <td>Montevideo Medio Bajo</td>\n",
       "      <td>2.0</td>\n",
       "      <td>6</td>\n",
       "      <td>monomarental</td>\n",
       "    </tr>\n",
       "    <tr>\n",
       "      <th>13380</th>\n",
       "      <td>2019007178</td>\n",
       "      <td>Mujer</td>\n",
       "      <td>35.0</td>\n",
       "      <td>Blanca</td>\n",
       "      <td>Jefe/a de hogar</td>\n",
       "      <td>Ocupados</td>\n",
       "      <td>1.0</td>\n",
       "      <td>43000.0</td>\n",
       "      <td>No</td>\n",
       "      <td>Otros tipos de enseñanza</td>\n",
       "      <td>...</td>\n",
       "      <td>0.0</td>\n",
       "      <td>0.0</td>\n",
       "      <td>0.0</td>\n",
       "      <td>Sí</td>\n",
       "      <td>Montevideo</td>\n",
       "      <td>Miembro de cooperativa de vivienda</td>\n",
       "      <td>Montevideo Medio</td>\n",
       "      <td>0.0</td>\n",
       "      <td>6</td>\n",
       "      <td>monomarental</td>\n",
       "    </tr>\n",
       "  </tbody>\n",
       "</table>\n",
       "<p>5 rows × 32 columns</p>\n",
       "</div>"
      ],
      "text/plain": [
       "          id_hogar   sexo  edad ascendencia       parentesco estado_laboral  \\\n",
       "80079   2019043181  Mujer  40.0      Blanca  Jefe/a de hogar       Ocupados   \n",
       "8480    2019004522  Mujer  52.0      Blanca  Jefe/a de hogar       Ocupados   \n",
       "107427  2019057831  Mujer  25.0      Blanca  Jefe/a de hogar       Ocupados   \n",
       "103516  2019055747  Mujer  39.0      Blanca  Jefe/a de hogar       Ocupados   \n",
       "13380   2019007178  Mujer  35.0      Blanca  Jefe/a de hogar       Ocupados   \n",
       "\n",
       "        nper   sueldo busca_otro_trabajo  \\\n",
       "80079    1.0   9000.0                 No   \n",
       "8480     1.0  18000.0                 Sí   \n",
       "107427   1.0  25000.0                 No   \n",
       "103516   1.0  35000.0                 No   \n",
       "13380    1.0  43000.0                 No   \n",
       "\n",
       "                                                actividad  ... hijos en hogar  \\\n",
       "80079   Actividades de los hogares en calidad de emple...  ...            1.0   \n",
       "8480                        Limpieza general de edificios  ...            0.0   \n",
       "107427         Elaboración de comidas y platos preparados  ...            0.0   \n",
       "103516  Comercio al por menor en almacenes no especial...  ...            2.0   \n",
       "13380                            Otros tipos de enseñanza  ...            0.0   \n",
       "\n",
       "       hijos en otro hogar hijos en el extranjero leer_escribir  \\\n",
       "80079                  0.0                    0.0            Sí   \n",
       "8480                   0.0                    0.0            Sí   \n",
       "107427                 0.0                    0.0            Sí   \n",
       "103516                 0.0                    0.0            Sí   \n",
       "13380                  0.0                    0.0            Sí   \n",
       "\n",
       "                                                  region  \\\n",
       "80079   Interior - Localidades de 5.000 habitantes o más   \n",
       "8480                                          Montevideo   \n",
       "107427  Interior - Localidades de 5.000 habitantes o más   \n",
       "103516                                        Montevideo   \n",
       "13380                                         Montevideo   \n",
       "\n",
       "                                                 vivienda  \\\n",
       "80079   Propietario de la vivienda y el terreno y ya l...   \n",
       "8480              Inquilino o arrendatario de la vivienda   \n",
       "107427            Inquilino o arrendatario de la vivienda   \n",
       "103516            Inquilino o arrendatario de la vivienda   \n",
       "13380                  Miembro de cooperativa de vivienda   \n",
       "\n",
       "                      estrato suma_hijos parentesco_num  monomarental  \n",
       "80079          Interior Norte        1.0              6  monomarental  \n",
       "8480          Montevideo Bajo        0.0              6  monomarental  \n",
       "107427             Costa Este        0.0              6  monomarental  \n",
       "103516  Montevideo Medio Bajo        2.0              6  monomarental  \n",
       "13380        Montevideo Medio        0.0              6  monomarental  \n",
       "\n",
       "[5 rows x 32 columns]"
      ]
     },
     "execution_count": 33,
     "metadata": {},
     "output_type": "execute_result"
    }
   ],
   "source": [
    "df_monomarental_sinoutliers.sample(5)"
   ]
  }
 ],
 "metadata": {
  "colab": {
   "collapsed_sections": [],
   "name": "hyp_2020.ipynb",
   "provenance": []
  },
  "interpreter": {
   "hash": "75e6c507d3dc3ae925363b2017575e90bab1377ac63bc8a3a3d6fc67099bf175"
  },
  "kernelspec": {
   "display_name": "Python 3 (ipykernel)",
   "language": "python",
   "name": "python3"
  },
  "language_info": {
   "codemirror_mode": {
    "name": "ipython",
    "version": 3
   },
   "file_extension": ".py",
   "mimetype": "text/x-python",
   "name": "python",
   "nbconvert_exporter": "python",
   "pygments_lexer": "ipython3",
   "version": "3.9.7"
  }
 },
 "nbformat": 4,
 "nbformat_minor": 5
}
