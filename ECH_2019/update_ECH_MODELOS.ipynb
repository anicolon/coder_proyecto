{
  "nbformat": 4,
  "nbformat_minor": 0,
  "metadata": {
    "colab": {
      "name": "ECH_MODELOS.ipynb",
      "provenance": [],
      "collapsed_sections": []
    },
    "interpreter": {
      "hash": "d0fd3259a0ae7798bf28b9ed97f5d4d70eaf745bfa37ff3042465361f4141f08"
    },
    "kernelspec": {
      "display_name": "Python 3.9.7 64-bit ('pyenv': venv)",
      "language": "python",
      "name": "python3"
    },
    "language_info": {
      "codemirror_mode": {
        "name": "ipython",
        "version": 3
      },
      "file_extension": ".py",
      "mimetype": "text/x-python",
      "name": "python",
      "nbconvert_exporter": "python",
      "pygments_lexer": "ipython3",
      "version": "3.9.7"
    }
  },
  "cells": [
    {
      "cell_type": "code",
      "metadata": {
        "id": "4Fyym8rv1dDm"
      },
      "source": [
        "from google.colab import drive\n",
        "drive.mount('/content/drive')\n",
        "\n"
      ],
      "execution_count": null,
      "outputs": []
    },
    {
      "cell_type": "code",
      "metadata": {
        "id": "93-fWQ16M1bJ"
      },
      "source": [
        "import pandas as pd\n",
        "import numpy as np\n",
        "import seaborn as sns\n",
        "\n",
        "sns.set(rc={'figure.figsize': (25, 10)}, font_scale=1.5)\n",
        "\n",
        "df = pd.read_csv('/content/drive/MyDrive/ECH_2019.csv')\n",
        "\n",
        "# df = pd.read_csv('ECH_2019.csv')"
      ],
      "execution_count": null,
      "outputs": []
    },
    {
      "cell_type": "code",
      "metadata": {
        "id": "nDVahJg0M1bM"
      },
      "source": [
        "df.sample(2)\n",
        "\n"
      ],
      "execution_count": null,
      "outputs": []
    },
    {
      "cell_type": "code",
      "metadata": {
        "id": "LzFVyDkXM1bN"
      },
      "source": [
        "no_data = {0: 'No hay dato', '0': 'No hay dato'}\n",
        "\n",
        "mask = df.columns.difference(['edad', 'sueldo', 'hijos', 'barrio'])\n",
        "\n",
        "df[mask] = df[mask].replace(no_data)\n",
        "\n"
      ],
      "execution_count": null,
      "outputs": []
    },
    {
      "cell_type": "markdown",
      "metadata": {
        "id": "5y30QCPZM1bb"
      },
      "source": [
        "### AJUSTANDO DATOS PARA ENTRENAR EL MODELO"
      ]
    },
    {
      "cell_type": "markdown",
      "metadata": {
        "id": "UDhMFaUMM1bR"
      },
      "source": [
        "Seleccionamos personas con edad suficiente para trabajar"
      ]
    },
    {
      "cell_type": "code",
      "metadata": {
        "id": "l3mwgnC9M1bS"
      },
      "source": [
        "df = df[~df['estado_laboral'].str.contains('Menores de 14 años')]"
      ],
      "execution_count": null,
      "outputs": []
    },
    {
      "cell_type": "code",
      "metadata": {
        "id": "04b8qb2HzAx6"
      },
      "source": [
        "df = df[df['estado_laboral'].str.contains('Ocupados')]"
      ],
      "execution_count": null,
      "outputs": []
    },
    {
      "cell_type": "markdown",
      "metadata": {
        "id": "DNWvp0cN1D_V"
      },
      "source": [
        "# Categorizamos las edades y sueldos en rangos"
      ]
    },
    {
      "cell_type": "code",
      "metadata": {
        "id": "EJtNyEDpzLMY"
      },
      "source": [
        "df['rango_sueldos'] = pd.cut(df['sueldo'], bins=[\n",
        "    1,\n",
        "    5000,\n",
        "    10000,\n",
        "    30000,\n",
        "    50000,\n",
        "    100000,\n",
        "    float('Inf'),\n",
        "    ]).cat.codes\n",
        "\n",
        "df['rango_edades'] = pd.cut(df['edad'], bins=[\n",
        "    0,\n",
        "    10,\n",
        "    15,\n",
        "    20,\n",
        "    30,\n",
        "    40,\n",
        "    50,\n",
        "    60,\n",
        "    70,\n",
        "    float('Inf'),\n",
        "    ]).cat.codes"
      ],
      "execution_count": null,
      "outputs": []
    },
    {
      "cell_type": "markdown",
      "metadata": {
        "id": "i1PtSP8LM1bc"
      },
      "source": [
        "Eliminanos las columnas que no vamos a usar o que ya categorizamos"
      ]
    },
    {
      "cell_type": "code",
      "metadata": {
        "id": "jVBYMpglM1bf"
      },
      "source": [
        "df = df[[\n",
        "    'sexo', \n",
        "    'ascendencia', \n",
        "    'parentesco', \n",
        "    'estado_laboral', \n",
        "    'busca_otro_trabajo',\n",
        "    'actividad',\n",
        "    'asistencia alguna vez a enseñanza',\n",
        "    'edu preescolar',\n",
        "    'edu primaria',\n",
        "    'edu media',\n",
        "    'edu técnica',\n",
        "    'edu univ o simil',\n",
        "    'edu terciario no uni',\n",
        "    'edu posgrado',\n",
        "    'edu mag prof',\n",
        "    'barrio',\n",
        "    'estado_civil',\n",
        "    'hijos',\n",
        "    'leer_escribir',\n",
        "    'rango_sueldos',\n",
        "    'rango_edades'\n",
        "    ]]\n",
        "\n",
        "    "
      ],
      "execution_count": null,
      "outputs": []
    },
    {
      "cell_type": "code",
      "metadata": {
        "id": "tdFWRa2Wzk6A"
      },
      "source": [
        "df = df[~df['rango_sueldos'].isna()]"
      ],
      "execution_count": null,
      "outputs": []
    },
    {
      "cell_type": "markdown",
      "metadata": {
        "id": "tr2CniL5M1bg"
      },
      "source": [
        "### DEFINIMOS LAS VARIABLES DEPENDIENTES E INDEPENDIENTES"
      ]
    },
    {
      "cell_type": "code",
      "metadata": {
        "id": "Fw7aZaAIM1bg"
      },
      "source": [
        "# Feautures\n",
        "X = df.drop('rango_sueldos', axis=1).to_numpy()\n",
        "y = df['rango_sueldos']\n",
        "\n",
        "print('X shape', X.shape, '\\nY shape', y.shape)"
      ],
      "execution_count": null,
      "outputs": []
    },
    {
      "cell_type": "code",
      "metadata": {
        "id": "VdOpqVADM1bc"
      },
      "source": [
        "from sklearn.preprocessing import OneHotEncoder\n",
        "\n",
        "one_hot = OneHotEncoder()\n",
        "\n",
        "X = one_hot.fit_transform(X)\n"
      ],
      "execution_count": null,
      "outputs": []
    },
    {
      "cell_type": "code",
      "metadata": {
        "id": "7tlRRcJj4Aep"
      },
      "source": [
        "prediction = X.toarray()\n",
        "prediction = prediction[49000].reshape(1, -1)"
      ],
      "execution_count": null,
      "outputs": []
    },
    {
      "cell_type": "markdown",
      "metadata": {
        "id": "4WNKcjI3M1bg"
      },
      "source": [
        "### Dividimos los datos en un 30% de test y 70% de entrenamiento"
      ]
    },
    {
      "cell_type": "code",
      "metadata": {
        "id": "ShFudTmNM1bh"
      },
      "source": [
        "from sklearn.model_selection import train_test_split \n",
        "\n",
        "X_train, X_test, y_train, y_test = train_test_split(X, y, test_size=0.30, random_state=42) \n",
        "\n"
      ],
      "execution_count": null,
      "outputs": []
    },
    {
      "cell_type": "code",
      "metadata": {
        "id": "ZV5LPElaM1bh"
      },
      "source": [
        "print(X_train.shape, y_train.shape)\n",
        "print(X_test.shape, y_test.shape)\n",
        "\n"
      ],
      "execution_count": null,
      "outputs": []
    },
    {
      "cell_type": "markdown",
      "metadata": {
        "id": "t3yhULSwM1bi"
      },
      "source": [
        "# DEFINIMOS ALGORITMO DE REGRESIÓN LOGISTICA"
      ]
    },
    {
      "cell_type": "code",
      "metadata": {
        "id": "VA9pehfmM1bj"
      },
      "source": [
        "from sklearn.linear_model import LogisticRegression\n",
        "from sklearn.model_selection import cross_val_score\n",
        "\n",
        "logistic_reg = LogisticRegression(multi_class='multinomial', max_iter=20000)\n",
        "\n",
        "logistic_reg.fit(X_train, y_train)\n",
        "\n"
      ],
      "execution_count": null,
      "outputs": []
    },
    {
      "cell_type": "markdown",
      "metadata": {
        "id": "-HQ7bvlwHVfU"
      },
      "source": [
        "### VALOR DE CROSS VALIDATION PARA CADA FOLD"
      ]
    },
    {
      "cell_type": "code",
      "metadata": {
        "id": "-OqPQoduHVfU"
      },
      "source": [
        "scores = cross_val_score(logistic_reg, X, y, cv=5)\n",
        "\n",
        "scores\n",
        "\n"
      ],
      "execution_count": null,
      "outputs": []
    },
    {
      "cell_type": "code",
      "metadata": {
        "id": "Sk2eF2hMM1bj"
      },
      "source": [
        "print('Promedio de cross_validation ', round(scores.mean(),2))\n",
        "print('Score en test ', round(logistic_reg.score(X_test, y_test),2))\n",
        "print('Score en train ', round(logistic_reg.score(X_train, y_train),2))\n",
        "\n"
      ],
      "execution_count": null,
      "outputs": []
    },
    {
      "cell_type": "code",
      "metadata": {
        "id": "FzF5F8XuM1bl"
      },
      "source": [
        "import matplotlib.pyplot as plt\n",
        "from sklearn.metrics import confusion_matrix\n",
        "\n",
        "predictions = logistic_reg.predict(X_test)\n",
        "\n",
        "confusion_matrix(y_test, predictions)\n",
        "\n"
      ],
      "execution_count": null,
      "outputs": []
    },
    {
      "cell_type": "markdown",
      "metadata": {
        "id": "ypMnIojSM1bl"
      },
      "source": [
        "### INVESTIGAMOS LA EFECTIVIDAD DEL MODELO SOBRE LOS DATOS"
      ]
    },
    {
      "cell_type": "code",
      "metadata": {
        "id": "1wgaRZ6BM1bm"
      },
      "source": [
        "from sklearn.metrics import accuracy_score\n",
        "\n",
        "#Prediccion en Train\n",
        "y_train_pred = logistic_reg.predict(X_train)\n",
        "\n",
        "#Prediccion en Test\n",
        "y_test_pred = logistic_reg.predict(X_test)\n",
        "\n",
        "#Calculo el accuracy en Train\n",
        "train_accuracy = accuracy_score(y_train, y_train_pred)\n",
        "\n",
        "#Calculo el accuracy en Test\n",
        "test_accuracy = accuracy_score(y_test, y_test_pred)\n",
        "\n",
        "print('Aciertos sobre entrenamiento:', round(train_accuracy, 2))\n",
        "print('Aciertos sobre evaluación:', round(test_accuracy, 2))\n",
        "\n"
      ],
      "execution_count": null,
      "outputs": []
    },
    {
      "cell_type": "code",
      "metadata": {
        "id": "5B2fjv7p4eTK"
      },
      "source": [
        "y_train"
      ],
      "execution_count": null,
      "outputs": []
    },
    {
      "cell_type": "markdown",
      "metadata": {
        "id": "ACeJF5NUM1bl"
      },
      "source": [
        "### APLICAMOS PREDICCIÓN SOBRE EL MODELO"
      ]
    },
    {
      "cell_type": "code",
      "metadata": {
        "id": "c5PlQMpUM1bl"
      },
      "source": [
        "print(logistic_reg.predict(prediction))\n",
        "\n",
        "print(y_train[49000])\n",
        "\n"
      ],
      "execution_count": null,
      "outputs": []
    },
    {
      "cell_type": "markdown",
      "metadata": {
        "id": "DYYlDLatM1bm"
      },
      "source": [
        "Determinamos la probabilidad de la predicción"
      ]
    },
    {
      "cell_type": "code",
      "metadata": {
        "id": "XWzmupvzM1bm"
      },
      "source": [
        "probabilidades_prediccion = logistic_reg.predict_proba(prediction)\n",
        "probabilidades_prediccion[:,1]\n",
        "\n"
      ],
      "execution_count": null,
      "outputs": []
    },
    {
      "cell_type": "markdown",
      "metadata": {
        "id": "5BPPzKUaHVfY"
      },
      "source": [
        "# REPETIMOS EL EJERCICIO CON EL MODELO DE RANDOM FOREST"
      ]
    },
    {
      "cell_type": "code",
      "metadata": {
        "id": "ODF-6NeoHVfa"
      },
      "source": [
        "from sklearn.ensemble import RandomForestClassifier\n",
        "\n",
        "random_forest = RandomForestClassifier(100)\n",
        "\n",
        "random_forest.fit(X_train, y_train)\n",
        "\n"
      ],
      "execution_count": null,
      "outputs": []
    },
    {
      "cell_type": "code",
      "metadata": {
        "id": "JH1bvMyMHVfa"
      },
      "source": [
        "scores = cross_val_score(random_forest, X, y, cv=5)\n",
        "\n",
        "scores\n",
        "\n"
      ],
      "execution_count": null,
      "outputs": []
    },
    {
      "cell_type": "code",
      "metadata": {
        "id": "EdbWI5glHVfa"
      },
      "source": [
        "print('Promedio de cross_validation ', round(scores.mean(),2))\n",
        "print('Score en test ', round(logistic_reg.score(X_test, y_test),2))\n",
        "print('Score en train ', round(logistic_reg.score(X_train, y_train),2))\n",
        "\n"
      ],
      "execution_count": null,
      "outputs": []
    },
    {
      "cell_type": "code",
      "metadata": {
        "id": "7iZRCzTEMSBF"
      },
      "source": [
        "predictions = logistic_reg.predict(X_test)\n",
        "\n",
        "confusion_matrix(y_test, predictions)\n",
        "\n"
      ],
      "execution_count": null,
      "outputs": []
    },
    {
      "cell_type": "code",
      "metadata": {
        "id": "KGw6_y5BHVfa"
      },
      "source": [
        "#Prediccion en Train\n",
        "y_train_pred = random_forest.predict(X_train)\n",
        "\n",
        "#Prediccion en Test\n",
        "y_test_pred = random_forest.predict(X_test)\n",
        "\n",
        "#Calculo el accuracy en Train\n",
        "train_accuracy = accuracy_score(y_train, y_train_pred)\n",
        "\n",
        "#Calculo el accuracy en Test\n",
        "test_accuracy = accuracy_score(y_test, y_test_pred)\n",
        "\n",
        "print('Aciertos sobre entrenamiento:', round(train_accuracy, 2))\n",
        "print('Aciertos sobre evaluación:', round(test_accuracy, 2))\n",
        "\n"
      ],
      "execution_count": null,
      "outputs": []
    },
    {
      "cell_type": "code",
      "metadata": {
        "id": "BAkm5UkiQlIn"
      },
      "source": [
        "print(random_forest.predict(prediction))\n",
        "print(y_train[49000])\n",
        "\n"
      ],
      "execution_count": null,
      "outputs": []
    },
    {
      "cell_type": "markdown",
      "metadata": {
        "id": "wtPUDB4SYAsh"
      },
      "source": [
        "# REPETIMOS EL EJERCICIO CON EL MODELO DE K NEAREST NEIGHBOURS"
      ]
    },
    {
      "cell_type": "code",
      "metadata": {
        "id": "DP-ODZm4YBR4"
      },
      "source": [
        "from sklearn.neighbors import KNeighborsClassifier\n",
        "\n",
        "knearest_model = KNeighborsClassifier(n_neighbors=4)\n",
        "\n",
        "knearest_model.fit(X_train, y_train)\n",
        "\n"
      ],
      "execution_count": null,
      "outputs": []
    },
    {
      "cell_type": "code",
      "metadata": {
        "id": "uLbTJmdkYX6P"
      },
      "source": [
        "scores = cross_val_score(knearest_model, X, y, cv=5)\n",
        "\n",
        "scores           \n",
        "\n"
      ],
      "execution_count": null,
      "outputs": []
    },
    {
      "cell_type": "code",
      "metadata": {
        "id": "WjGoWFlJYcDC"
      },
      "source": [
        "print('Promedio de cross_validation ', round(scores.mean(),2))\n",
        "print('Score en test ', round(knearest_model.score(X_test, y_test),2))\n",
        "print('Score en train ', round(knearest_model.score(X_train, y_train),2))\n",
        "\n"
      ],
      "execution_count": null,
      "outputs": []
    },
    {
      "cell_type": "code",
      "metadata": {
        "id": "jUEjCBlxMCo0"
      },
      "source": [
        "predictions = knearest_model.predict(X_test)\n",
        "\n",
        "confusion_matrix(y_test, predictions)\n",
        "\n"
      ],
      "execution_count": null,
      "outputs": []
    },
    {
      "cell_type": "code",
      "metadata": {
        "id": "iEfxUO49YhIS"
      },
      "source": [
        "#Prediccion en Train\n",
        "y_train_pred = knearest_model.predict(X_train)\n",
        "\n",
        "#Prediccion en Test\n",
        "y_test_pred = knearest_model.predict(X_test)\n",
        "\n",
        "#Calculo el accuracy en Train\n",
        "train_accuracy = accuracy_score(y_train, y_train_pred)\n",
        "\n",
        "#Calculo el accuracy en Test\n",
        "test_accuracy = accuracy_score(y_test, y_test_pred)\n",
        "\n",
        "print('Aciertos sobre entrenamiento:', round(train_accuracy, 2))\n",
        "print('Aciertos sobre evaluación:', round(test_accuracy, 2))\n",
        "\n"
      ],
      "execution_count": null,
      "outputs": []
    },
    {
      "cell_type": "code",
      "metadata": {
        "id": "44S2Y5vrYnF3"
      },
      "source": [
        "print(knearest_model.predict(prediction))\n",
        "print(y_train[49000])\n",
        "\n"
      ],
      "execution_count": null,
      "outputs": []
    },
    {
      "cell_type": "code",
      "metadata": {
        "id": "LczgbhPu2Ehq"
      },
      "source": [
        ""
      ],
      "execution_count": null,
      "outputs": []
    }
  ]
}