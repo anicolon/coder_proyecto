{
  "cells": [
    {
      "cell_type": "code",
      "execution_count": 1,
      "metadata": {
        "colab": {
          "base_uri": "https://localhost:8080/"
        },
        "id": "k8OAORuegWIZ",
        "outputId": "3e5d5988-e531-49ae-e207-da763bc8160d"
      },
      "outputs": [
        {
          "output_type": "stream",
          "name": "stdout",
          "text": [
            "Drive already mounted at /content/drive; to attempt to forcibly remount, call drive.mount(\"/content/drive\", force_remount=True).\n"
          ]
        }
      ],
      "source": [
        "from google.colab import drive\n",
        "drive.mount('/content/drive')"
      ]
    },
    {
      "cell_type": "code",
      "execution_count": 2,
      "metadata": {
        "id": "NYSr_Xd_gXbe"
      },
      "outputs": [],
      "source": [
        "import pandas as pd\n",
        "from sklearn.model_selection import train_test_split\n",
        "from sklearn.pipeline import Pipeline\n",
        "from sklearn.preprocessing import OneHotEncoder, Normalizer\n",
        "from sklearn.model_selection import RandomizedSearchCV\n",
        "from lightgbm import LGBMClassifier\n",
        "from sklearn.metrics import confusion_matrix\n",
        "\n",
        "df = pd.read_csv('/content/drive/MyDrive/ECH_2019.csv')\n",
        "\n",
        "# df = pd.read_csv('ECH_2019.csv')"
      ]
    },
    {
      "cell_type": "code",
      "execution_count": 3,
      "metadata": {
        "id": "eTWFbjwLgXYW"
      },
      "outputs": [],
      "source": [
        "# Reemplazar 0 que representan que no hay respuesta\n",
        "no_data = {0: 'No hay dato', '0': 'No hay dato'}\n",
        "\n",
        "mask = df.columns.difference(\n",
        "    [\n",
        "        'edad',\n",
        "        'sueldo',\n",
        "        'hijos en hogar',\n",
        "        'hijos en otro hogar',\n",
        "        'hijos en el extranjero',\n",
        "        'suma_hijos',\n",
        "        'barrio',\n",
        "    ]\n",
        ")\n",
        "\n",
        "df[mask] = df[mask].replace(no_data).astype('category')"
      ]
    },
    {
      "cell_type": "code",
      "execution_count": 4,
      "metadata": {
        "id": "p-ZIlN94gXS5"
      },
      "outputs": [],
      "source": [
        "# Personas con edad suficiente para trabajar\n",
        "df = df[~df['estado_laboral'].str.contains('Menores de 14 años')]"
      ]
    },
    {
      "cell_type": "code",
      "execution_count": 5,
      "metadata": {
        "colab": {
          "base_uri": "https://localhost:8080/"
        },
        "id": "HPcsRlMRgXQU",
        "outputId": "47d37aeb-393c-4106-ba18-1380040beba5"
      },
      "outputs": [
        {
          "output_type": "stream",
          "name": "stdout",
          "text": [
            "84000.0\n"
          ]
        }
      ],
      "source": [
        "# Eliminar outliers en los sueldos\n",
        "quantil_99 = df['sueldo'].quantile(0.99)\n",
        "print(quantil_99)\n",
        "\n",
        "df = df[df['sueldo'] < quantil_99]\n",
        "\n",
        "quartil_1 = df['sueldo'].quantile(0.25)\n",
        "quartil_3 = df['sueldo'].quantile(0.75)\n",
        "\n",
        "iqr = quartil_3 - quartil_1\n",
        "\n",
        "df = df[df['sueldo'] < quartil_3 + 1.5 * iqr]\n",
        "\n",
        "df = df[df['sueldo'] > quartil_1 - 1.5 * iqr]"
      ]
    },
    {
      "cell_type": "code",
      "execution_count": 6,
      "metadata": {
        "id": "Cfg__oLjgXNp"
      },
      "outputs": [],
      "source": [
        "# Creamos categorias con rangos de sueldos y edades\n",
        "df['rango_sueldos'] = pd.qcut(df['sueldo'], q=10, duplicates='drop').cat.codes\n",
        "\n",
        "df['rango_edades'] = pd.qcut(df['edad'], q=10).cat.codes"
      ]
    },
    {
      "cell_type": "code",
      "execution_count": 7,
      "metadata": {
        "id": "laWobK2YgXLD"
      },
      "outputs": [],
      "source": [
        "# Nos quedamos con las columnas que vamos a usar para el modelo\n",
        "df = df.drop(['id_hogar','nper','sueldo','edad'], axis=1)\n",
        "\n",
        "# Removemos indice para tener un mejor orden de tratamiento\n",
        "df = df.reset_index(drop=True)"
      ]
    },
    {
      "cell_type": "code",
      "execution_count": 8,
      "metadata": {
        "colab": {
          "base_uri": "https://localhost:8080/"
        },
        "id": "IzapmvMsgXId",
        "outputId": "778493e9-6916-4bd0-99b6-28c71c2e9e92"
      },
      "outputs": [
        {
          "output_type": "stream",
          "name": "stdout",
          "text": [
            "X shape (85546, 27) \n",
            "Y shape (85546,)\n"
          ]
        }
      ],
      "source": [
        "# Feautures\n",
        "X = df.drop('rango_sueldos', axis=1).to_numpy()\n",
        "y = df['rango_sueldos']\n",
        "\n",
        "print('X shape', X.shape, '\\nY shape', y.shape)"
      ]
    },
    {
      "cell_type": "code",
      "execution_count": 9,
      "metadata": {
        "colab": {
          "base_uri": "https://localhost:8080/"
        },
        "id": "tnpyZ59Lg49p",
        "outputId": "88c19506-3d1f-472a-bf60-b92ec3cce914"
      },
      "outputs": [
        {
          "output_type": "stream",
          "name": "stdout",
          "text": [
            "X shape (85546, 27) \n",
            "Y shape (85546,)\n"
          ]
        }
      ],
      "source": [
        "# Definimos los feautures de test y prueba\n",
        "X_train, X_test, y_train, y_test = train_test_split(\n",
        "    X, y, test_size=0.30, random_state=42\n",
        ")\n",
        "\n",
        "print('X shape', X.shape, '\\nY shape', y.shape)"
      ]
    },
    {
      "cell_type": "code",
      "execution_count": 10,
      "metadata": {
        "id": "9QctOJZLg46u"
      },
      "outputs": [],
      "source": [
        "# Creamos el pipeline de ejecución\n",
        "one_hot = OneHotEncoder(handle_unknown='ignore')\n",
        "normalizer = Normalizer()\n",
        "\n",
        "pipe = Pipeline(\n",
        "    steps=[('encoder', one_hot),\n",
        "           ('normalizer', normalizer),\n",
        "           ('lightgbm', LGBMClassifier())\n",
        "           ])"
      ]
    },
    {
      "cell_type": "code",
      "execution_count": 11,
      "metadata": {
        "colab": {
          "base_uri": "https://localhost:8080/"
        },
        "id": "ivu-UaR_h0_2",
        "outputId": "df01d72e-95ee-4dff-d047-304af6a4ba64"
      },
      "outputs": [
        {
          "output_type": "stream",
          "name": "stdout",
          "text": [
            "boosting_type :  gbdt\n",
            "class_weight :  None\n",
            "colsample_bytree :  1.0\n",
            "importance_type :  split\n",
            "learning_rate :  0.1\n",
            "max_depth :  -1\n",
            "min_child_samples :  20\n",
            "min_child_weight :  0.001\n",
            "min_split_gain :  0.0\n",
            "n_estimators :  100\n",
            "n_jobs :  -1\n",
            "num_leaves :  31\n",
            "objective :  None\n",
            "random_state :  None\n",
            "reg_alpha :  0.0\n",
            "reg_lambda :  0.0\n",
            "silent :  True\n",
            "subsample :  1.0\n",
            "subsample_for_bin :  200000\n",
            "subsample_freq :  0\n"
          ]
        }
      ],
      "source": [
        "#Conocemos los hyparámetros que podemos personalizar\n",
        "for key,value in LGBMClassifier().get_params().items():\n",
        "    print(key,': ', value)"
      ]
    },
    {
      "cell_type": "code",
      "execution_count": 12,
      "metadata": {
        "id": "jYwBXQf6g44B"
      },
      "outputs": [],
      "source": [
        "# Definimos los parámetros para el cross validation\n",
        "param_grid = {\n",
        "    'lightgbm__num_leaves':[31, 62, 70],\n",
        "    'lightgbm__max_depth':[-1,5],\n",
        "}"
      ]
    },
    {
      "cell_type": "code",
      "execution_count": 13,
      "metadata": {
        "colab": {
          "base_uri": "https://localhost:8080/"
        },
        "id": "XQ-vDJkFg41d",
        "outputId": "ea77d5be-ac5d-497e-b983-3f36803e59d7"
      },
      "outputs": [
        {
          "output_type": "execute_result",
          "data": {
            "text/plain": [
              "0.7756390274314214"
            ]
          },
          "metadata": {},
          "execution_count": 13
        }
      ],
      "source": [
        "# Creamos y determinamos el score del modelo\n",
        "search = RandomizedSearchCV(pipe,\n",
        "                            param_grid,\n",
        "                            n_jobs=-1,\n",
        "                            scoring='accuracy',\n",
        "                            cv=5,\n",
        "                            n_iter=5)\n",
        "\n",
        "search.fit(X_train, y_train)\n",
        "\n",
        "search.score(X_test, y_test)"
      ]
    },
    {
      "cell_type": "code",
      "source": [
        "# Predicción\n",
        "prediction = search.predict(X_test)\n",
        "\n",
        "# Matriz de confusión\n",
        "cm = confusion_matrix(y_test,prediction)\n",
        "\n",
        "cm"
      ],
      "metadata": {
        "colab": {
          "base_uri": "https://localhost:8080/"
        },
        "id": "BltqJ9ndyl0j",
        "outputId": "77d63730-4fb7-4cd9-b602-3e971a68dabf"
      },
      "execution_count": 14,
      "outputs": [
        {
          "output_type": "execute_result",
          "data": {
            "text/plain": [
              "array([[17111,   471,   132,   321],\n",
              "       [ 1316,   893,   334,   240],\n",
              "       [  742,   450,   510,   613],\n",
              "       [  627,   156,   356,  1392]])"
            ]
          },
          "metadata": {},
          "execution_count": 14
        }
      ]
    }
  ],
  "metadata": {
    "colab": {
      "collapsed_sections": [],
      "name": "tercera_entrega_modelo.ipynb",
      "provenance": []
    },
    "kernelspec": {
      "display_name": "Python 3",
      "name": "python3"
    },
    "language_info": {
      "name": "python"
    }
  },
  "nbformat": 4,
  "nbformat_minor": 0
}