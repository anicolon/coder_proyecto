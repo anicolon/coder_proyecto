{
  "cells": [
    {
      "cell_type": "code",
      "execution_count": 2,
      "metadata": {
        "colab": {
          "base_uri": "https://localhost:8080/"
        },
        "id": "k8OAORuegWIZ",
        "outputId": "3221892b-d0f2-4a52-8693-4e984c031de2"
      },
      "outputs": [],
      "source": [
        "# from google.colab import drive\n",
        "# drive.mount('/content/drive')"
      ]
    },
    {
      "cell_type": "markdown",
      "metadata": {},
      "source": [
        "# MODELO PREDICTIVO - LIGHTGBM PARA CLASIFICACIÓN\n",
        "\n",
        "Con este modelo intentaremos clasificar en qué rango de ingresos se encuentra un mujer jefa de hogar monomarental partiendo de un conjunto de features determinantes. Luego, con el resultado podremos comparar cómo el cambio a nivel de género, entre otros, afectaría el outcome del mismo."
      ]
    },
    {
      "cell_type": "code",
      "execution_count": 4,
      "metadata": {
        "colab": {
          "base_uri": "https://localhost:8080/",
          "height": 34
        },
        "id": "NYSr_Xd_gXbe",
        "outputId": "db9af64c-ee4d-49e1-c9c0-cb201740f8fa"
      },
      "outputs": [
        {
          "data": {
            "text/plain": [
              "<Figure size 576x576 with 0 Axes>"
            ]
          },
          "metadata": {},
          "output_type": "display_data"
        }
      ],
      "source": [
        "import pandas as pd\n",
        "import seaborn as sns\n",
        "import matplotlib.pyplot as plt\n",
        "\n",
        "plt.figure(figsize=(8,8))\n",
        "\n",
        "from sklearn.model_selection import train_test_split\n",
        "from sklearn.pipeline import Pipeline\n",
        "from sklearn.preprocessing import OneHotEncoder, Normalizer\n",
        "from sklearn.model_selection import RandomizedSearchCV\n",
        "from lightgbm import LGBMClassifier\n",
        "from sklearn.metrics import confusion_matrix\n",
        "from sklearn.metrics import classification_report\n",
        "\n",
        "# df = pd.read_csv('/content/drive/MyDrive/ECH_2019.csv')\n",
        "\n",
        "df = pd.read_csv('ECH_2019.csv')"
      ]
    },
    {
      "cell_type": "code",
      "execution_count": 5,
      "metadata": {
        "id": "eTWFbjwLgXYW"
      },
      "outputs": [],
      "source": [
        "# Reemplazar 0 que representan que no hay respuesta\n",
        "no_data = {0: 'No hay dato', '0': 'No hay dato'}\n",
        "\n",
        "mask = df.columns.difference(\n",
        "    [\n",
        "        'edad',\n",
        "        'sueldo',\n",
        "        'hijos en hogar',\n",
        "        'hijos en otro hogar',\n",
        "        'hijos en el extranjero',\n",
        "        'suma_hijos',\n",
        "        'barrio',\n",
        "    ]\n",
        ")\n",
        "\n",
        "df[mask] = df[mask].replace(no_data).astype('category')"
      ]
    },
    {
      "cell_type": "code",
      "execution_count": 6,
      "metadata": {
        "id": "p-ZIlN94gXS5"
      },
      "outputs": [],
      "source": [
        "# Personas con edad suficiente para trabajar\n",
        "df = df[~df['estado_laboral'].str.contains('Menores de 14 años')]"
      ]
    },
    {
      "cell_type": "code",
      "execution_count": 7,
      "metadata": {
        "colab": {
          "base_uri": "https://localhost:8080/"
        },
        "id": "HPcsRlMRgXQU",
        "outputId": "90bc5a9f-912f-4a96-b9c0-4e396b41d631"
      },
      "outputs": [
        {
          "name": "stdout",
          "output_type": "stream",
          "text": [
            "84000.0\n"
          ]
        }
      ],
      "source": [
        "# Eliminar outliers en los sueldos\n",
        "quantil_99 = df['sueldo'].quantile(0.99)\n",
        "print(quantil_99)\n",
        "\n",
        "df = df[df['sueldo'] < quantil_99]\n",
        "\n",
        "quartil_1 = df['sueldo'].quantile(0.25)\n",
        "quartil_3 = df['sueldo'].quantile(0.75)\n",
        "\n",
        "iqr = quartil_3 - quartil_1\n",
        "\n",
        "df = df[df['sueldo'] < quartil_3 + 1.5 * iqr]\n",
        "\n",
        "df = df[df['sueldo'] > quartil_1 - 1.5 * iqr]"
      ]
    },
    {
      "cell_type": "code",
      "execution_count": 8,
      "metadata": {
        "id": "Cfg__oLjgXNp"
      },
      "outputs": [],
      "source": [
        "# Creamos categorias con rangos de sueldos y edades\n",
        "df['rango_sueldos'] = pd.qcut(df['sueldo'], q=10, duplicates='drop').cat.codes\n",
        "\n",
        "df['rango_edades'] = pd.qcut(df['edad'], q=10).cat.codes"
      ]
    },
    {
      "cell_type": "code",
      "execution_count": 9,
      "metadata": {
        "id": "laWobK2YgXLD"
      },
      "outputs": [],
      "source": [
        "# Nos quedamos con las columnas que vamos a usar para el modelo\n",
        "df = df.drop(['id_hogar','nper','sueldo','edad'], axis=1)\n",
        "\n",
        "# Removemos indice para tener un mejor orden de tratamiento\n",
        "df = df.reset_index(drop=True)"
      ]
    },
    {
      "cell_type": "code",
      "execution_count": 10,
      "metadata": {
        "colab": {
          "base_uri": "https://localhost:8080/"
        },
        "id": "IzapmvMsgXId",
        "outputId": "1d4acf96-b7e1-41c5-90cc-db5c20009867"
      },
      "outputs": [
        {
          "name": "stdout",
          "output_type": "stream",
          "text": [
            "X shape (85546, 27) \n",
            "Y shape (85546,)\n"
          ]
        }
      ],
      "source": [
        "# Feautures\n",
        "X = df.drop('rango_sueldos', axis=1).to_numpy()\n",
        "y = df['rango_sueldos']\n",
        "\n",
        "print('X shape', X.shape, '\\nY shape', y.shape)"
      ]
    },
    {
      "cell_type": "code",
      "execution_count": 11,
      "metadata": {
        "colab": {
          "base_uri": "https://localhost:8080/"
        },
        "id": "tnpyZ59Lg49p",
        "outputId": "a6bc1518-90f1-4b76-a12d-a760bee19c72"
      },
      "outputs": [
        {
          "name": "stdout",
          "output_type": "stream",
          "text": [
            "X shape (85546, 27) \n",
            "Y shape (85546,)\n"
          ]
        }
      ],
      "source": [
        "# Definimos los feautures de test y prueba\n",
        "X_train, X_test, y_train, y_test = train_test_split(\n",
        "    X, y, test_size=0.30, random_state=42\n",
        ")\n",
        "\n",
        "print('X shape', X.shape, '\\nY shape', y.shape)"
      ]
    },
    {
      "cell_type": "code",
      "execution_count": 12,
      "metadata": {
        "id": "9QctOJZLg46u"
      },
      "outputs": [],
      "source": [
        "# Creamos el pipeline de ejecución\n",
        "one_hot = OneHotEncoder(handle_unknown='ignore')\n",
        "normalizer = Normalizer()\n",
        "\n",
        "pipe = Pipeline(\n",
        "    steps=[('encoder', one_hot),\n",
        "           ('normalizer', normalizer),\n",
        "           ('lightgbm', LGBMClassifier())\n",
        "           ])"
      ]
    },
    {
      "cell_type": "code",
      "execution_count": 13,
      "metadata": {
        "colab": {
          "base_uri": "https://localhost:8080/"
        },
        "id": "ivu-UaR_h0_2",
        "outputId": "e58bb04b-7f8b-431c-e879-f03acd33e3ac"
      },
      "outputs": [
        {
          "name": "stdout",
          "output_type": "stream",
          "text": [
            "boosting_type :  gbdt\n",
            "class_weight :  None\n",
            "colsample_bytree :  1.0\n",
            "importance_type :  split\n",
            "learning_rate :  0.1\n",
            "max_depth :  -1\n",
            "min_child_samples :  20\n",
            "min_child_weight :  0.001\n",
            "min_split_gain :  0.0\n",
            "n_estimators :  100\n",
            "n_jobs :  -1\n",
            "num_leaves :  31\n",
            "objective :  None\n",
            "random_state :  None\n",
            "reg_alpha :  0.0\n",
            "reg_lambda :  0.0\n",
            "silent :  warn\n",
            "subsample :  1.0\n",
            "subsample_for_bin :  200000\n",
            "subsample_freq :  0\n"
          ]
        }
      ],
      "source": [
        "#Conocemos los hyparámetros que podemos personalizar\n",
        "for key,value in LGBMClassifier().get_params().items():\n",
        "    print(key,': ', value)"
      ]
    },
    {
      "cell_type": "code",
      "execution_count": 14,
      "metadata": {
        "id": "jYwBXQf6g44B"
      },
      "outputs": [],
      "source": [
        "# Definimos los parámetros para el cross validation\n",
        "param_grid = {\n",
        "    'lightgbm__num_leaves':[31, 62, 70],\n",
        "    'lightgbm__max_depth':[-1,5],\n",
        "}"
      ]
    },
    {
      "cell_type": "code",
      "execution_count": 15,
      "metadata": {
        "colab": {
          "base_uri": "https://localhost:8080/"
        },
        "id": "XQ-vDJkFg41d",
        "outputId": "4792561d-0d7e-462f-9524-9c56efd2edbd"
      },
      "outputs": [
        {
          "data": {
            "text/plain": [
              "0.7747428304239401"
            ]
          },
          "execution_count": 15,
          "metadata": {},
          "output_type": "execute_result"
        }
      ],
      "source": [
        "# Creamos y determinamos el score del modelo\n",
        "search = RandomizedSearchCV(pipe,\n",
        "                            param_grid,\n",
        "                            n_jobs=-1,\n",
        "                            scoring='accuracy',\n",
        "                            cv=5,\n",
        "                            n_iter=5)\n",
        "\n",
        "search.fit(X_train, y_train)\n",
        "\n",
        "search.score(X_test, y_test)"
      ]
    },
    {
      "cell_type": "code",
      "execution_count": 16,
      "metadata": {
        "colab": {
          "base_uri": "https://localhost:8080/",
          "height": 282
        },
        "id": "BltqJ9ndyl0j",
        "outputId": "99557d60-89e6-48c2-9f5b-b2b67847e4cb"
      },
      "outputs": [
        {
          "data": {
            "text/plain": [
              "<AxesSubplot:>"
            ]
          },
          "execution_count": 16,
          "metadata": {},
          "output_type": "execute_result"
        },
        {
          "data": {
            "image/png": "[encoded data removed]",
            "text/plain": [
              "<Figure size 432x288 with 1 Axes>"
            ]
          },
          "metadata": {
            "needs_background": "light"
          },
          "output_type": "display_data"
        }
      ],
      "source": [
        "# Predicción\n",
        "prediction = search.predict(X_test)\n",
        "\n",
        "# Matriz de confusión\n",
        "cm = confusion_matrix(y_test,prediction)\n",
        "\n",
        "sns.heatmap(cm,annot=True,cmap='Blues',cbar=False,fmt='.0f')"
      ]
    },
    {
      "cell_type": "code",
      "execution_count": 17,
      "metadata": {
        "colab": {
          "base_uri": "https://localhost:8080/"
        },
        "id": "lKBVXSQHfY9F",
        "outputId": "19edca64-75a2-4fed-db65-067ea0c6fced"
      },
      "outputs": [
        {
          "name": "stdout",
          "output_type": "stream",
          "text": [
            "              precision    recall  f1-score   support\n",
            "\n",
            "           0       0.87      0.95      0.91     18035\n",
            "           1       0.45      0.32      0.37      2783\n",
            "           2       0.37      0.22      0.28      2315\n",
            "           3       0.54      0.55      0.54      2531\n",
            "\n",
            "    accuracy                           0.77     25664\n",
            "   macro avg       0.56      0.51      0.53     25664\n",
            "weighted avg       0.74      0.77      0.76     25664\n",
            "\n"
          ]
        }
      ],
      "source": [
        "#Reporte de clasificación\n",
        "print(classification_report(y_test, prediction))"
      ]
    },
    {
      "cell_type": "code",
      "execution_count": 18,
      "metadata": {},
      "outputs": [
        {
          "data": {
            "text/plain": [
              "{'lightgbm__num_leaves': 62, 'lightgbm__max_depth': -1}"
            ]
          },
          "execution_count": 18,
          "metadata": {},
          "output_type": "execute_result"
        }
      ],
      "source": [
        "search.best_params_"
      ]
    }
  ],
  "metadata": {
    "colab": {
      "collapsed_sections": [],
      "name": "tercera_entrega_modelo.ipynb",
      "provenance": []
    },
    "kernelspec": {
      "display_name": "Python 3",
      "name": "python3"
    },
    "language_info": {
      "codemirror_mode": {
        "name": "ipython",
        "version": 3
      },
      "file_extension": ".py",
      "mimetype": "text/x-python",
      "name": "python",
      "nbconvert_exporter": "python",
      "pygments_lexer": "ipython3",
      "version": "3.9.6"
    }
  },
  "nbformat": 4,
  "nbformat_minor": 0
}
