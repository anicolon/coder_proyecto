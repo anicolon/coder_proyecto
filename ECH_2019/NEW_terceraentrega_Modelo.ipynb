{
  "cells": [
    {
      "cell_type": "code",
      "execution_count": null,
      "metadata": {
        "colab": {
          "base_uri": "https://localhost:8080/"
        },
        "id": "k8OAORuegWIZ",
        "outputId": "e722c9e9-cf85-4e4b-f8b2-474c09d39a57"
      },
      "outputs": [
        {
          "output_type": "stream",
          "name": "stdout",
          "text": [
            "Drive already mounted at /content/drive; to attempt to forcibly remount, call drive.mount(\"/content/drive\", force_remount=True).\n"
          ]
        }
      ],
      "source": [
        "from google.colab import drive\n",
        "drive.mount('/content/drive')"
      ]
    },
    {
      "cell_type": "markdown",
      "metadata": {
        "id": "pfJoKbe7fA-E"
      },
      "source": [
        "# MODELO PREDICTIVO - LIGHTGBM PARA CLASIFICACIÓN\n",
        "\n",
        "Con este modelo intentaremos clasificar en qué rango de ingresos se encuentra un mujer jefa de hogar monomarental partiendo de un conjunto de features determinantes. Luego, con el resultado podremos comparar cómo el cambio a nivel de género, entre otros, afectaría el outcome del mismo."
      ]
    },
    {
      "cell_type": "code",
      "execution_count": null,
      "metadata": {
        "colab": {
          "base_uri": "https://localhost:8080/",
          "height": 34
        },
        "id": "NYSr_Xd_gXbe",
        "outputId": "c47af6ef-35f3-40cb-beaa-c531b6ba1ea8"
      },
      "outputs": [
        {
          "output_type": "display_data",
          "data": {
            "text/plain": [
              "<Figure size 576x576 with 0 Axes>"
            ]
          },
          "metadata": {}
        }
      ],
      "source": [
        "import pandas as pd\n",
        "import seaborn as sns\n",
        "import matplotlib.pyplot as plt\n",
        "\n",
        "plt.figure(figsize=(8,8))\n",
        "\n",
        "from sklearn.model_selection import train_test_split\n",
        "from sklearn.pipeline import Pipeline\n",
        "from sklearn.preprocessing import OneHotEncoder, Normalizer\n",
        "from sklearn.model_selection import RandomizedSearchCV\n",
        "from lightgbm import LGBMClassifier\n",
        "from sklearn.metrics import confusion_matrix\n",
        "from sklearn.metrics import classification_report\n",
        "\n",
        "df = pd.read_csv('/content/drive/MyDrive/new_df.csv')\n",
        "# df = pd.read_csv('/content/drive/MyDrive/ECH_2019.csv')"
      ]
    },
    {
      "cell_type": "code",
      "execution_count": null,
      "metadata": {
        "colab": {
          "base_uri": "https://localhost:8080/"
        },
        "id": "IzapmvMsgXId",
        "outputId": "5c8599c6-4b46-4a13-8edc-8b7f111f954d"
      },
      "outputs": [
        {
          "output_type": "stream",
          "name": "stdout",
          "text": [
            "X shape (32579, 24) \n",
            "Y shape (32579,)\n"
          ]
        }
      ],
      "source": [
        "# Feautures\n",
        "X = df.drop('rango_sueldos', axis=1).to_numpy()\n",
        "y = df['rango_sueldos']\n",
        "\n",
        "print('X shape', X.shape, '\\nY shape', y.shape)"
      ]
    },
    {
      "cell_type": "code",
      "execution_count": null,
      "metadata": {
        "id": "tnpyZ59Lg49p",
        "colab": {
          "base_uri": "https://localhost:8080/"
        },
        "outputId": "5cb0cf09-c916-4f63-d534-ed9eb8da29f6"
      },
      "outputs": [
        {
          "output_type": "stream",
          "name": "stdout",
          "text": [
            "X shape (32579, 24) \n",
            "Y shape (32579,)\n"
          ]
        }
      ],
      "source": [
        "# Definimos los feautures de test y prueba\n",
        "X_train, X_test, y_train, y_test = train_test_split(\n",
        "    X, y, test_size=0.30, random_state=42\n",
        ")\n",
        "\n",
        "print('X shape', X.shape, '\\nY shape', y.shape)"
      ]
    },
    {
      "cell_type": "code",
      "execution_count": null,
      "metadata": {
        "id": "9QctOJZLg46u"
      },
      "outputs": [],
      "source": [
        "# Creamos el pipeline de ejecución\n",
        "one_hot = OneHotEncoder(handle_unknown='ignore')\n",
        "normalizer = Normalizer()\n",
        "\n",
        "pipe = Pipeline(\n",
        "    steps=[('encoder', one_hot),\n",
        "           ('normalizer', normalizer),\n",
        "           ('lightgbm', LGBMClassifier())\n",
        "           ])"
      ]
    },
    {
      "cell_type": "code",
      "execution_count": null,
      "metadata": {
        "id": "ivu-UaR_h0_2",
        "colab": {
          "base_uri": "https://localhost:8080/"
        },
        "outputId": "590098d8-6e78-42bc-f564-dcc46ef835a7"
      },
      "outputs": [
        {
          "output_type": "stream",
          "name": "stdout",
          "text": [
            "boosting_type :  gbdt\n",
            "class_weight :  None\n",
            "colsample_bytree :  1.0\n",
            "importance_type :  split\n",
            "learning_rate :  0.1\n",
            "max_depth :  -1\n",
            "min_child_samples :  20\n",
            "min_child_weight :  0.001\n",
            "min_split_gain :  0.0\n",
            "n_estimators :  100\n",
            "n_jobs :  -1\n",
            "num_leaves :  31\n",
            "objective :  None\n",
            "random_state :  None\n",
            "reg_alpha :  0.0\n",
            "reg_lambda :  0.0\n",
            "silent :  True\n",
            "subsample :  1.0\n",
            "subsample_for_bin :  200000\n",
            "subsample_freq :  0\n"
          ]
        }
      ],
      "source": [
        "#Conocemos los hyparámetros que podemos personalizar\n",
        "for key,value in LGBMClassifier().get_params().items():\n",
        "    print(key,': ', value)"
      ]
    },
    {
      "cell_type": "code",
      "execution_count": null,
      "metadata": {
        "id": "jYwBXQf6g44B"
      },
      "outputs": [],
      "source": [
        "# Definimos los parámetros para el cross validation\n",
        "param_grid = {\n",
        "    'lightgbm__num_leaves':[31, 62, 70,100],\n",
        "    'lightgbm__max_depth':[-1, 5, 10],\n",
        "    'lightgbm__max_boosting_type':['gbdt', 'dart', 'goss', 'rf'],\n",
        "    'lightgbm__n_estimators':[100,200,500],\n",
        "    'lightgbm__objective': ['regression', 'multiclass', 'lambdarank']\n",
        "}"
      ]
    },
    {
      "cell_type": "code",
      "execution_count": null,
      "metadata": {
        "id": "XQ-vDJkFg41d",
        "colab": {
          "base_uri": "https://localhost:8080/"
        },
        "outputId": "d131b00a-3eb8-42fd-bdc2-89b8477fd980"
      },
      "outputs": [
        {
          "output_type": "execute_result",
          "data": {
            "text/plain": [
              "RandomizedSearchCV(cv=5,\n",
              "                   estimator=Pipeline(steps=[('encoder',\n",
              "                                              OneHotEncoder(handle_unknown='ignore')),\n",
              "                                             ('normalizer', Normalizer()),\n",
              "                                             ('lightgbm', LGBMClassifier())]),\n",
              "                   n_iter=5, n_jobs=-1,\n",
              "                   param_distributions={'lightgbm__max_boosting_type': ['gbdt',\n",
              "                                                                        'dart',\n",
              "                                                                        'goss',\n",
              "                                                                        'rf'],\n",
              "                                        'lightgbm__max_depth': [-1, 5, 10],\n",
              "                                        'lightgbm__n_estimators': [100, 200,\n",
              "                                                                   500],\n",
              "                                        'lightgbm__num_leaves': [31, 62, 70,\n",
              "                                                                 100],\n",
              "                                        'lightgbm__objective': ['regression',\n",
              "                                                                'multiclass',\n",
              "                                                                'lambdarank']},\n",
              "                   scoring='accuracy')"
            ]
          },
          "metadata": {},
          "execution_count": 8
        }
      ],
      "source": [
        "# Creamos y determinamos el score del modelo\n",
        "search = RandomizedSearchCV(pipe,\n",
        "                            param_grid,\n",
        "                            n_jobs=-1,\n",
        "                            scoring='accuracy',\n",
        "                            cv=5,\n",
        "                            n_iter=5)\n",
        "\n",
        "search.fit(X_train, y_train)"
      ]
    },
    {
      "cell_type": "code",
      "source": [
        "print(search.score(X_train, y_train))\n",
        "print(search.score(X_test, y_test))"
      ],
      "metadata": {
        "id": "0K7czY2qjuzM",
        "colab": {
          "base_uri": "https://localhost:8080/"
        },
        "outputId": "cc81f5cb-2c3b-4710-97fb-92aab2458381"
      },
      "execution_count": null,
      "outputs": [
        {
          "output_type": "stream",
          "name": "stdout",
          "text": [
            "0.49081341811006357\n",
            "0.34100675260896257\n"
          ]
        }
      ]
    },
    {
      "cell_type": "code",
      "execution_count": null,
      "metadata": {
        "id": "MSUZ-I9GfA-P",
        "colab": {
          "base_uri": "https://localhost:8080/"
        },
        "outputId": "96bf731e-aa33-443c-ab88-11e3bed4b7f1"
      },
      "outputs": [
        {
          "output_type": "execute_result",
          "data": {
            "text/plain": [
              "{'lightgbm__max_boosting_type': 'gbdt',\n",
              " 'lightgbm__max_depth': 5,\n",
              " 'lightgbm__n_estimators': 500,\n",
              " 'lightgbm__num_leaves': 70,\n",
              " 'lightgbm__objective': 'regression'}"
            ]
          },
          "metadata": {},
          "execution_count": 10
        }
      ],
      "source": [
        "search.best_params_"
      ]
    },
    {
      "cell_type": "code",
      "execution_count": null,
      "metadata": {
        "id": "BltqJ9ndyl0j",
        "colab": {
          "base_uri": "https://localhost:8080/",
          "height": 282
        },
        "outputId": "415b18c4-6d57-4742-860f-8693e2a38bec"
      },
      "outputs": [
        {
          "output_type": "execute_result",
          "data": {
            "text/plain": [
              "<matplotlib.axes._subplots.AxesSubplot at 0x7f7c54f92b10>"
            ]
          },
          "metadata": {},
          "execution_count": 11
        },
        {
          "output_type": "display_data",
          "data": {
            "image/png": "[encoded data removed]",
            "text/plain": [
              "<Figure size 432x288 with 1 Axes>"
            ]
          },
          "metadata": {
            "needs_background": "light"
          }
        }
      ],
      "source": [
        "# Predicción\n",
        "prediction = search.predict(X_test)\n",
        "\n",
        "# Matriz de confusión\n",
        "cm = confusion_matrix(y_test,prediction)\n",
        "\n",
        "sns.heatmap(cm,annot=True,cmap='Blues',cbar=False,fmt='.0f')"
      ]
    },
    {
      "cell_type": "code",
      "execution_count": null,
      "metadata": {
        "id": "lKBVXSQHfY9F",
        "colab": {
          "base_uri": "https://localhost:8080/"
        },
        "outputId": "8f52e70c-7dd9-42bb-ea2a-e80caccd5a42"
      },
      "outputs": [
        {
          "output_type": "stream",
          "name": "stdout",
          "text": [
            "              precision    recall  f1-score   support\n",
            "\n",
            "           0       0.51      0.57      0.54      1322\n",
            "           1       0.33      0.32      0.32      1502\n",
            "           2       0.31      0.25      0.28      1484\n",
            "           3       0.24      0.21      0.22      1487\n",
            "           4       0.28      0.19      0.23      1484\n",
            "           5       0.31      0.50      0.38      1530\n",
            "           6       0.44      0.38      0.40       965\n",
            "\n",
            "    accuracy                           0.34      9774\n",
            "   macro avg       0.35      0.35      0.34      9774\n",
            "weighted avg       0.34      0.34      0.33      9774\n",
            "\n"
          ]
        }
      ],
      "source": [
        "#Reporte de clasificación\n",
        "print(classification_report(y_test, prediction))"
      ]
    }
  ],
  "metadata": {
    "colab": {
      "collapsed_sections": [],
      "name": "NEW_terceraentrega_Modelo.ipynb",
      "provenance": []
    },
    "kernelspec": {
      "display_name": "Python 3",
      "name": "python3"
    },
    "language_info": {
      "codemirror_mode": {
        "name": "ipython",
        "version": 3
      },
      "file_extension": ".py",
      "mimetype": "text/x-python",
      "name": "python",
      "nbconvert_exporter": "python",
      "pygments_lexer": "ipython3",
      "version": "3.9.7"
    }
  },
  "nbformat": 4,
  "nbformat_minor": 0
}