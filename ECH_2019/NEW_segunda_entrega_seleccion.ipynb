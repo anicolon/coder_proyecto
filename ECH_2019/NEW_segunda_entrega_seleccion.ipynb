{
  "cells": [
    {
      "cell_type": "code",
      "execution_count": 1,
      "metadata": {
        "colab": {
          "base_uri": "https://localhost:8080/"
        },
        "id": "StQ5dYD5Ke3u",
        "outputId": "017e91eb-fc6f-46cb-c292-a216f9a3bcdf"
      },
      "outputs": [
        {
          "output_type": "stream",
          "name": "stdout",
          "text": [
            "Drive already mounted at /content/drive; to attempt to forcibly remount, call drive.mount(\"/content/drive\", force_remount=True).\n"
          ]
        }
      ],
      "source": [
        "from google.colab import drive\n",
        "drive.mount('/content/drive')"
      ]
    },
    {
      "cell_type": "code",
      "execution_count": 2,
      "metadata": {
        "id": "93-fWQ16M1bJ"
      },
      "outputs": [],
      "source": [
        "import pandas as pd\n",
        "import numpy as np\n",
        "import seaborn as sns\n",
        "import matplotlib.pyplot as plt\n",
        "\n",
        "sns.set(rc={'figure.figsize': (8, 3)}, font_scale=1)\n",
        "\n",
        "# df = pd.read_csv('ECH_2019.csv')\n",
        "\n",
        "df = pd.read_csv('/content/drive/MyDrive/ECH_2019.csv')"
      ]
    },
    {
      "cell_type": "code",
      "execution_count": 3,
      "metadata": {
        "id": "Io0GtUhtKcKp"
      },
      "outputs": [],
      "source": [
        "df = df.drop(columns=['nper', 'id_hogar', 'hijos', 'hijos en hogar', 'hijos en otro hogar', 'hijos en el extranjero'], axis='columns')"
      ]
    },
    {
      "cell_type": "code",
      "execution_count": 4,
      "metadata": {
        "id": "LzFVyDkXM1bN"
      },
      "outputs": [],
      "source": [
        "no_data = {0: 'No hay dato', '0': 'No hay dato'}\n",
        "\n",
        "mask = df.columns.difference(['edad',\n",
        "                              'sueldo',\n",
        "                              'hijos en hogar',\n",
        "                              'hijos en otro hogar',\n",
        "                              'hijos en el extranjero',\n",
        "                              'suma_hijos',\n",
        "                              'barrio'])\n",
        "\n",
        "df[mask] = df[mask].replace(no_data)"
      ]
    },
    {
      "cell_type": "code",
      "execution_count": 5,
      "metadata": {
        "id": "AIATD-CUKcKq"
      },
      "outputs": [],
      "source": [
        "df['barrio'] = df['barrio'].astype('category')\n",
        "\n",
        "df['barrio'] = df['barrio']"
      ]
    },
    {
      "cell_type": "markdown",
      "metadata": {
        "id": "5y30QCPZM1bb"
      },
      "source": [
        "### AJUSTANDO DATOS PARA ENTRENAR EL MODELO"
      ]
    },
    {
      "cell_type": "markdown",
      "metadata": {
        "id": "UDhMFaUMM1bR"
      },
      "source": [
        "Seleccionamos personas con edad suficiente para trabajar"
      ]
    },
    {
      "cell_type": "code",
      "execution_count": 6,
      "metadata": {
        "colab": {
          "base_uri": "https://localhost:8080/"
        },
        "id": "l3mwgnC9M1bS",
        "outputId": "6dbe6655-066f-48ac-a1b9-4735641dc491"
      },
      "outputs": [
        {
          "output_type": "stream",
          "name": "stderr",
          "text": [
            "/usr/local/lib/python3.7/dist-packages/ipykernel_launcher.py:3: SettingWithCopyWarning: \n",
            "A value is trying to be set on a copy of a slice from a DataFrame.\n",
            "Try using .loc[row_indexer,col_indexer] = value instead\n",
            "\n",
            "See the caveats in the documentation: https://pandas.pydata.org/pandas-docs/stable/user_guide/indexing.html#returning-a-view-versus-a-copy\n",
            "  This is separate from the ipykernel package so we can avoid doing imports until\n"
          ]
        },
        {
          "output_type": "execute_result",
          "data": {
            "text/plain": [
              "(25.0, 33.0]      10030\n",
              "(13.999, 19.0]     9476\n",
              "(33.0, 40.0]       9417\n",
              "(52.0, 59.0]       9412\n",
              "(59.0, 66.0]       9162\n",
              "(74.0, 98.0]       8917\n",
              "(40.0, 46.0]       8542\n",
              "(19.0, 25.0]       8504\n",
              "(66.0, 74.0]       8199\n",
              "(46.0, 52.0]       8148\n",
              "Name: rango_edades, dtype: int64"
            ]
          },
          "metadata": {},
          "execution_count": 6
        }
      ],
      "source": [
        "df = df[~df['estado_laboral'].str.contains('Menores de 14 años')]\n",
        "\n",
        "df['rango_edades'] = pd.qcut(df['edad'], q=10)\n",
        "\n",
        "df['rango_edades'].value_counts()"
      ]
    },
    {
      "cell_type": "code",
      "execution_count": 7,
      "metadata": {
        "colab": {
          "base_uri": "https://localhost:8080/"
        },
        "id": "_f0iLhbPKcKt",
        "outputId": "b9268434-6c55-462c-cf20-3af93e4f1756"
      },
      "outputs": [
        {
          "output_type": "stream",
          "name": "stderr",
          "text": [
            "/usr/local/lib/python3.7/dist-packages/ipykernel_launcher.py:1: SettingWithCopyWarning: \n",
            "A value is trying to be set on a copy of a slice from a DataFrame.\n",
            "Try using .loc[row_indexer,col_indexer] = value instead\n",
            "\n",
            "See the caveats in the documentation: https://pandas.pydata.org/pandas-docs/stable/user_guide/indexing.html#returning-a-view-versus-a-copy\n",
            "  \"\"\"Entry point for launching an IPython kernel.\n"
          ]
        },
        {
          "output_type": "execute_result",
          "data": {
            "text/plain": [
              "(-0.001, 1.0]    64506\n",
              "(1.0, 2.0]       12488\n",
              "(2.0, 3.0]        6625\n",
              "(3.0, 21.0]       6188\n",
              "Name: suma_hijos, dtype: int64"
            ]
          },
          "metadata": {},
          "execution_count": 7
        }
      ],
      "source": [
        "df['suma_hijos'] = pd.qcut(df['suma_hijos'], q=10, duplicates='drop')\n",
        "\n",
        "df['suma_hijos'].value_counts()"
      ]
    },
    {
      "cell_type": "code",
      "execution_count": 8,
      "metadata": {
        "colab": {
          "base_uri": "https://localhost:8080/"
        },
        "id": "WVGz9_vSCPtd",
        "outputId": "5ec9fe6e-d0f9-4af0-fe31-a22d9997495a"
      },
      "outputs": [
        {
          "output_type": "execute_result",
          "data": {
            "text/plain": [
              "Ocupados                                      49036\n",
              "Inactivo: jubilado                            16025\n",
              "Inactivo: estudiante                           8216\n",
              "Inactivo: realiza los quehaceres del hogar     5936\n",
              "Inactivo: pensionista                          4438\n",
              "Desocupados propiamente dichos                 3409\n",
              "Inactivo: otro                                 1291\n",
              "Desocupados buscan trabajo por primera vez      787\n",
              "Inactivo: rentista                              414\n",
              "Desocupados en seguro de paro                   255\n",
              "Name: estado_laboral, dtype: int64"
            ]
          },
          "metadata": {},
          "execution_count": 8
        }
      ],
      "source": [
        "df['estado_laboral'].value_counts()"
      ]
    },
    {
      "cell_type": "code",
      "execution_count": 9,
      "metadata": {
        "colab": {
          "base_uri": "https://localhost:8080/",
          "height": 394
        },
        "id": "6RvvUJ1AnLB_",
        "outputId": "8e29a4fe-3797-4c6e-86c0-caec6335a938"
      },
      "outputs": [
        {
          "output_type": "execute_result",
          "data": {
            "text/html": [
              "\n",
              "  <div id=\"df-b66d2856-0dd7-45d4-815a-acc5ccea5f96\">\n",
              "    <div class=\"colab-df-container\">\n",
              "      <div>\n",
              "<style scoped>\n",
              "    .dataframe tbody tr th:only-of-type {\n",
              "        vertical-align: middle;\n",
              "    }\n",
              "\n",
              "    .dataframe tbody tr th {\n",
              "        vertical-align: top;\n",
              "    }\n",
              "\n",
              "    .dataframe thead th {\n",
              "        text-align: right;\n",
              "    }\n",
              "</style>\n",
              "<table border=\"1\" class=\"dataframe\">\n",
              "  <thead>\n",
              "    <tr style=\"text-align: right;\">\n",
              "      <th></th>\n",
              "      <th>edad</th>\n",
              "      <th>sueldo</th>\n",
              "    </tr>\n",
              "    <tr>\n",
              "      <th>estado_laboral</th>\n",
              "      <th></th>\n",
              "      <th></th>\n",
              "    </tr>\n",
              "  </thead>\n",
              "  <tbody>\n",
              "    <tr>\n",
              "      <th>Desocupados buscan trabajo por primera vez</th>\n",
              "      <td>20.670902</td>\n",
              "      <td>25.031766</td>\n",
              "    </tr>\n",
              "    <tr>\n",
              "      <th>Desocupados en seguro de paro</th>\n",
              "      <td>39.074510</td>\n",
              "      <td>3602.415686</td>\n",
              "    </tr>\n",
              "    <tr>\n",
              "      <th>Desocupados propiamente dichos</th>\n",
              "      <td>33.915518</td>\n",
              "      <td>1559.024641</td>\n",
              "    </tr>\n",
              "    <tr>\n",
              "      <th>Inactivo: estudiante</th>\n",
              "      <td>17.345180</td>\n",
              "      <td>93.646543</td>\n",
              "    </tr>\n",
              "    <tr>\n",
              "      <th>Inactivo: jubilado</th>\n",
              "      <td>72.800936</td>\n",
              "      <td>123.482059</td>\n",
              "    </tr>\n",
              "    <tr>\n",
              "      <th>Inactivo: otro</th>\n",
              "      <td>33.783114</td>\n",
              "      <td>618.094500</td>\n",
              "    </tr>\n",
              "    <tr>\n",
              "      <th>Inactivo: pensionista</th>\n",
              "      <td>64.425192</td>\n",
              "      <td>22.757999</td>\n",
              "    </tr>\n",
              "    <tr>\n",
              "      <th>Inactivo: realiza los quehaceres del hogar</th>\n",
              "      <td>46.889319</td>\n",
              "      <td>317.843666</td>\n",
              "    </tr>\n",
              "    <tr>\n",
              "      <th>Inactivo: rentista</th>\n",
              "      <td>58.461353</td>\n",
              "      <td>72.463768</td>\n",
              "    </tr>\n",
              "    <tr>\n",
              "      <th>Ocupados</th>\n",
              "      <td>42.683681</td>\n",
              "      <td>20109.876601</td>\n",
              "    </tr>\n",
              "  </tbody>\n",
              "</table>\n",
              "</div>\n",
              "      <button class=\"colab-df-convert\" onclick=\"convertToInteractive('df-b66d2856-0dd7-45d4-815a-acc5ccea5f96')\"\n",
              "              title=\"Convert this dataframe to an interactive table.\"\n",
              "              style=\"display:none;\">\n",
              "        \n",
              "  <svg xmlns=\"http://www.w3.org/2000/svg\" height=\"24px\"viewBox=\"0 0 24 24\"\n",
              "       width=\"24px\">\n",
              "    <path d=\"M0 0h24v24H0V0z\" fill=\"none\"/>\n",
              "    <path d=\"M18.56 5.44l.94 2.06.94-2.06 2.06-.94-2.06-.94-.94-2.06-.94 2.06-2.06.94zm-11 1L8.5 8.5l.94-2.06 2.06-.94-2.06-.94L8.5 2.5l-.94 2.06-2.06.94zm10 10l.94 2.06.94-2.06 2.06-.94-2.06-.94-.94-2.06-.94 2.06-2.06.94z\"/><path d=\"M17.41 7.96l-1.37-1.37c-.4-.4-.92-.59-1.43-.59-.52 0-1.04.2-1.43.59L10.3 9.45l-7.72 7.72c-.78.78-.78 2.05 0 2.83L4 21.41c.39.39.9.59 1.41.59.51 0 1.02-.2 1.41-.59l7.78-7.78 2.81-2.81c.8-.78.8-2.07 0-2.86zM5.41 20L4 18.59l7.72-7.72 1.47 1.35L5.41 20z\"/>\n",
              "  </svg>\n",
              "      </button>\n",
              "      \n",
              "  <style>\n",
              "    .colab-df-container {\n",
              "      display:flex;\n",
              "      flex-wrap:wrap;\n",
              "      gap: 12px;\n",
              "    }\n",
              "\n",
              "    .colab-df-convert {\n",
              "      background-color: #E8F0FE;\n",
              "      border: none;\n",
              "      border-radius: 50%;\n",
              "      cursor: pointer;\n",
              "      display: none;\n",
              "      fill: #1967D2;\n",
              "      height: 32px;\n",
              "      padding: 0 0 0 0;\n",
              "      width: 32px;\n",
              "    }\n",
              "\n",
              "    .colab-df-convert:hover {\n",
              "      background-color: #E2EBFA;\n",
              "      box-shadow: 0px 1px 2px rgba(60, 64, 67, 0.3), 0px 1px 3px 1px rgba(60, 64, 67, 0.15);\n",
              "      fill: #174EA6;\n",
              "    }\n",
              "\n",
              "    [theme=dark] .colab-df-convert {\n",
              "      background-color: #3B4455;\n",
              "      fill: #D2E3FC;\n",
              "    }\n",
              "\n",
              "    [theme=dark] .colab-df-convert:hover {\n",
              "      background-color: #434B5C;\n",
              "      box-shadow: 0px 1px 3px 1px rgba(0, 0, 0, 0.15);\n",
              "      filter: drop-shadow(0px 1px 2px rgba(0, 0, 0, 0.3));\n",
              "      fill: #FFFFFF;\n",
              "    }\n",
              "  </style>\n",
              "\n",
              "      <script>\n",
              "        const buttonEl =\n",
              "          document.querySelector('#df-b66d2856-0dd7-45d4-815a-acc5ccea5f96 button.colab-df-convert');\n",
              "        buttonEl.style.display =\n",
              "          google.colab.kernel.accessAllowed ? 'block' : 'none';\n",
              "\n",
              "        async function convertToInteractive(key) {\n",
              "          const element = document.querySelector('#df-b66d2856-0dd7-45d4-815a-acc5ccea5f96');\n",
              "          const dataTable =\n",
              "            await google.colab.kernel.invokeFunction('convertToInteractive',\n",
              "                                                     [key], {});\n",
              "          if (!dataTable) return;\n",
              "\n",
              "          const docLinkHtml = 'Like what you see? Visit the ' +\n",
              "            '<a target=\"_blank\" href=https://colab.research.google.com/notebooks/data_table.ipynb>data table notebook</a>'\n",
              "            + ' to learn more about interactive tables.';\n",
              "          element.innerHTML = '';\n",
              "          dataTable['output_type'] = 'display_data';\n",
              "          await google.colab.output.renderOutput(dataTable, element);\n",
              "          const docLink = document.createElement('div');\n",
              "          docLink.innerHTML = docLinkHtml;\n",
              "          element.appendChild(docLink);\n",
              "        }\n",
              "      </script>\n",
              "    </div>\n",
              "  </div>\n",
              "  "
            ],
            "text/plain": [
              "                                                 edad        sueldo\n",
              "estado_laboral                                                     \n",
              "Desocupados buscan trabajo por primera vez  20.670902     25.031766\n",
              "Desocupados en seguro de paro               39.074510   3602.415686\n",
              "Desocupados propiamente dichos              33.915518   1559.024641\n",
              "Inactivo: estudiante                        17.345180     93.646543\n",
              "Inactivo: jubilado                          72.800936    123.482059\n",
              "Inactivo: otro                              33.783114    618.094500\n",
              "Inactivo: pensionista                       64.425192     22.757999\n",
              "Inactivo: realiza los quehaceres del hogar  46.889319    317.843666\n",
              "Inactivo: rentista                          58.461353     72.463768\n",
              "Ocupados                                    42.683681  20109.876601"
            ]
          },
          "metadata": {},
          "execution_count": 9
        }
      ],
      "source": [
        "df.groupby(by='estado_laboral').mean()"
      ]
    },
    {
      "cell_type": "code",
      "execution_count": 10,
      "metadata": {
        "id": "_4KkTrXxKcKv"
      },
      "outputs": [],
      "source": [
        "df = df[df['estado_laboral'].str.contains('Ocupados')]"
      ]
    },
    {
      "cell_type": "code",
      "source": [
        "salario_minimo = 17930\n",
        "salario_maximo = df['sueldo'].max()\n",
        "\n",
        "df = df[df['sueldo'] > salario_minimo]"
      ],
      "metadata": {
        "id": "iuE5Bxz0GnEx"
      },
      "execution_count": 11,
      "outputs": []
    },
    {
      "cell_type": "code",
      "execution_count": 12,
      "metadata": {
        "colab": {
          "base_uri": "https://localhost:8080/",
          "height": 300
        },
        "id": "V0NdYIAGKcKw",
        "outputId": "4fd02bde-c6dc-44d6-852b-ada628af5df2"
      },
      "outputs": [
        {
          "output_type": "execute_result",
          "data": {
            "text/html": [
              "\n",
              "  <div id=\"df-2074b5bf-e994-427f-8ca7-a8a3e6392a37\">\n",
              "    <div class=\"colab-df-container\">\n",
              "      <div>\n",
              "<style scoped>\n",
              "    .dataframe tbody tr th:only-of-type {\n",
              "        vertical-align: middle;\n",
              "    }\n",
              "\n",
              "    .dataframe tbody tr th {\n",
              "        vertical-align: top;\n",
              "    }\n",
              "\n",
              "    .dataframe thead th {\n",
              "        text-align: right;\n",
              "    }\n",
              "</style>\n",
              "<table border=\"1\" class=\"dataframe\">\n",
              "  <thead>\n",
              "    <tr style=\"text-align: right;\">\n",
              "      <th>estado_laboral</th>\n",
              "      <th>Ocupados</th>\n",
              "    </tr>\n",
              "  </thead>\n",
              "  <tbody>\n",
              "    <tr>\n",
              "      <th>count</th>\n",
              "      <td>24368.000000</td>\n",
              "    </tr>\n",
              "    <tr>\n",
              "      <th>mean</th>\n",
              "      <td>36198.103168</td>\n",
              "    </tr>\n",
              "    <tr>\n",
              "      <th>std</th>\n",
              "      <td>24247.487508</td>\n",
              "    </tr>\n",
              "    <tr>\n",
              "      <th>min</th>\n",
              "      <td>17950.000000</td>\n",
              "    </tr>\n",
              "    <tr>\n",
              "      <th>25%</th>\n",
              "      <td>23000.000000</td>\n",
              "    </tr>\n",
              "    <tr>\n",
              "      <th>50%</th>\n",
              "      <td>30000.000000</td>\n",
              "    </tr>\n",
              "    <tr>\n",
              "      <th>75%</th>\n",
              "      <td>40000.000000</td>\n",
              "    </tr>\n",
              "    <tr>\n",
              "      <th>max</th>\n",
              "      <td>900000.000000</td>\n",
              "    </tr>\n",
              "  </tbody>\n",
              "</table>\n",
              "</div>\n",
              "      <button class=\"colab-df-convert\" onclick=\"convertToInteractive('df-2074b5bf-e994-427f-8ca7-a8a3e6392a37')\"\n",
              "              title=\"Convert this dataframe to an interactive table.\"\n",
              "              style=\"display:none;\">\n",
              "        \n",
              "  <svg xmlns=\"http://www.w3.org/2000/svg\" height=\"24px\"viewBox=\"0 0 24 24\"\n",
              "       width=\"24px\">\n",
              "    <path d=\"M0 0h24v24H0V0z\" fill=\"none\"/>\n",
              "    <path d=\"M18.56 5.44l.94 2.06.94-2.06 2.06-.94-2.06-.94-.94-2.06-.94 2.06-2.06.94zm-11 1L8.5 8.5l.94-2.06 2.06-.94-2.06-.94L8.5 2.5l-.94 2.06-2.06.94zm10 10l.94 2.06.94-2.06 2.06-.94-2.06-.94-.94-2.06-.94 2.06-2.06.94z\"/><path d=\"M17.41 7.96l-1.37-1.37c-.4-.4-.92-.59-1.43-.59-.52 0-1.04.2-1.43.59L10.3 9.45l-7.72 7.72c-.78.78-.78 2.05 0 2.83L4 21.41c.39.39.9.59 1.41.59.51 0 1.02-.2 1.41-.59l7.78-7.78 2.81-2.81c.8-.78.8-2.07 0-2.86zM5.41 20L4 18.59l7.72-7.72 1.47 1.35L5.41 20z\"/>\n",
              "  </svg>\n",
              "      </button>\n",
              "      \n",
              "  <style>\n",
              "    .colab-df-container {\n",
              "      display:flex;\n",
              "      flex-wrap:wrap;\n",
              "      gap: 12px;\n",
              "    }\n",
              "\n",
              "    .colab-df-convert {\n",
              "      background-color: #E8F0FE;\n",
              "      border: none;\n",
              "      border-radius: 50%;\n",
              "      cursor: pointer;\n",
              "      display: none;\n",
              "      fill: #1967D2;\n",
              "      height: 32px;\n",
              "      padding: 0 0 0 0;\n",
              "      width: 32px;\n",
              "    }\n",
              "\n",
              "    .colab-df-convert:hover {\n",
              "      background-color: #E2EBFA;\n",
              "      box-shadow: 0px 1px 2px rgba(60, 64, 67, 0.3), 0px 1px 3px 1px rgba(60, 64, 67, 0.15);\n",
              "      fill: #174EA6;\n",
              "    }\n",
              "\n",
              "    [theme=dark] .colab-df-convert {\n",
              "      background-color: #3B4455;\n",
              "      fill: #D2E3FC;\n",
              "    }\n",
              "\n",
              "    [theme=dark] .colab-df-convert:hover {\n",
              "      background-color: #434B5C;\n",
              "      box-shadow: 0px 1px 3px 1px rgba(0, 0, 0, 0.15);\n",
              "      filter: drop-shadow(0px 1px 2px rgba(0, 0, 0, 0.3));\n",
              "      fill: #FFFFFF;\n",
              "    }\n",
              "  </style>\n",
              "\n",
              "      <script>\n",
              "        const buttonEl =\n",
              "          document.querySelector('#df-2074b5bf-e994-427f-8ca7-a8a3e6392a37 button.colab-df-convert');\n",
              "        buttonEl.style.display =\n",
              "          google.colab.kernel.accessAllowed ? 'block' : 'none';\n",
              "\n",
              "        async function convertToInteractive(key) {\n",
              "          const element = document.querySelector('#df-2074b5bf-e994-427f-8ca7-a8a3e6392a37');\n",
              "          const dataTable =\n",
              "            await google.colab.kernel.invokeFunction('convertToInteractive',\n",
              "                                                     [key], {});\n",
              "          if (!dataTable) return;\n",
              "\n",
              "          const docLinkHtml = 'Like what you see? Visit the ' +\n",
              "            '<a target=\"_blank\" href=https://colab.research.google.com/notebooks/data_table.ipynb>data table notebook</a>'\n",
              "            + ' to learn more about interactive tables.';\n",
              "          element.innerHTML = '';\n",
              "          dataTable['output_type'] = 'display_data';\n",
              "          await google.colab.output.renderOutput(dataTable, element);\n",
              "          const docLink = document.createElement('div');\n",
              "          docLink.innerHTML = docLinkHtml;\n",
              "          element.appendChild(docLink);\n",
              "        }\n",
              "      </script>\n",
              "    </div>\n",
              "  </div>\n",
              "  "
            ],
            "text/plain": [
              "estado_laboral       Ocupados\n",
              "count            24368.000000\n",
              "mean             36198.103168\n",
              "std              24247.487508\n",
              "min              17950.000000\n",
              "25%              23000.000000\n",
              "50%              30000.000000\n",
              "75%              40000.000000\n",
              "max             900000.000000"
            ]
          },
          "metadata": {},
          "execution_count": 12
        }
      ],
      "source": [
        "df[df['estado_laboral'].str.contains('Ocupados')].groupby(by='estado_laboral').describe().transpose().loc['sueldo']"
      ]
    },
    {
      "cell_type": "code",
      "execution_count": 13,
      "metadata": {
        "id": "PjoxkmPpnLCB"
      },
      "outputs": [],
      "source": [
        "quantil_99 = df[\"sueldo\"].quantile(0.99)\n",
        "\n",
        "df = df[df[\"sueldo\"] < quantil_99]\n",
        "\n",
        "quartil_1 = df[\"sueldo\"].quantile(0.25)\n",
        "quartil_3 = df[\"sueldo\"].quantile(0.75)\n",
        "\n",
        "iqr = quartil_3 - quartil_1\n",
        "\n",
        "df = df[df[\"sueldo\"] > quartil_1 - (1.5 * iqr)]\n",
        "\n",
        "df = df[df[\"sueldo\"] < quartil_3 + (1.5 * iqr)]"
      ]
    },
    {
      "cell_type": "code",
      "source": [
        "df['sueldo'].max()"
      ],
      "metadata": {
        "colab": {
          "base_uri": "https://localhost:8080/"
        },
        "id": "SOw3ThXEL_v5",
        "outputId": "74d189ae-3462-4c65-8f49-4e0b00338f61"
      },
      "execution_count": 14,
      "outputs": [
        {
          "output_type": "execute_result",
          "data": {
            "text/plain": [
              "65400"
            ]
          },
          "metadata": {},
          "execution_count": 14
        }
      ]
    },
    {
      "cell_type": "code",
      "source": [
        "# df['rango_sueldos'] = pd.qcut(df['sueldo'], q=5, duplicates='drop')\n",
        "df['rango_sueldos'] = pd.cut(df['sueldo'], bins=[salario_minimo, 25000, 35000, 45000, 55000, salario_maximo])\n",
        "\n",
        "df['rango_sueldos'].value_counts()"
      ],
      "metadata": {
        "colab": {
          "base_uri": "https://localhost:8080/"
        },
        "id": "WBUp3M1wuWFY",
        "outputId": "dac012a7-37c8-4c32-beaa-6d38203075d1"
      },
      "execution_count": 15,
      "outputs": [
        {
          "output_type": "execute_result",
          "data": {
            "text/plain": [
              "(17930, 25000]     9042\n",
              "(25000, 35000]     7138\n",
              "(35000, 45000]     3744\n",
              "(45000, 55000]     1732\n",
              "(55000, 900000]     984\n",
              "Name: rango_sueldos, dtype: int64"
            ]
          },
          "metadata": {},
          "execution_count": 15
        }
      ]
    },
    {
      "cell_type": "code",
      "execution_count": 16,
      "metadata": {
        "id": "epPO3IprKcKx"
      },
      "outputs": [],
      "source": [
        "df = df.drop(['sueldo', 'edad'], axis='columns')"
      ]
    },
    {
      "cell_type": "code",
      "execution_count": 17,
      "metadata": {
        "id": "EJtNyEDpzLMY"
      },
      "outputs": [],
      "source": [
        "df['rango_sueldos'] = df['rango_sueldos'].cat.codes\n",
        "\n",
        "df['rango_edades'] = df['rango_edades'].cat.codes"
      ]
    },
    {
      "cell_type": "code",
      "execution_count": 18,
      "metadata": {
        "id": "sKxjpVTcwy2w"
      },
      "outputs": [],
      "source": [
        "df = df.reset_index(drop=True)"
      ]
    },
    {
      "cell_type": "code",
      "execution_count": 19,
      "metadata": {
        "colab": {
          "base_uri": "https://localhost:8080/",
          "height": 450
        },
        "id": "gaIeD8s_KcKy",
        "outputId": "07334aa4-60bc-428d-f67f-20200a34d2e9"
      },
      "outputs": [
        {
          "output_type": "execute_result",
          "data": {
            "text/html": [
              "\n",
              "  <div id=\"df-0e8bde33-cee5-4165-8fbf-416703ec46d5\">\n",
              "    <div class=\"colab-df-container\">\n",
              "      <div>\n",
              "<style scoped>\n",
              "    .dataframe tbody tr th:only-of-type {\n",
              "        vertical-align: middle;\n",
              "    }\n",
              "\n",
              "    .dataframe tbody tr th {\n",
              "        vertical-align: top;\n",
              "    }\n",
              "\n",
              "    .dataframe thead th {\n",
              "        text-align: right;\n",
              "    }\n",
              "</style>\n",
              "<table border=\"1\" class=\"dataframe\">\n",
              "  <thead>\n",
              "    <tr style=\"text-align: right;\">\n",
              "      <th></th>\n",
              "      <th>sexo</th>\n",
              "      <th>ascendencia</th>\n",
              "      <th>parentesco</th>\n",
              "      <th>estado_laboral</th>\n",
              "      <th>busca_otro_trabajo</th>\n",
              "      <th>actividad</th>\n",
              "      <th>asistencia alguna vez a enseñanza</th>\n",
              "      <th>edu preescolar</th>\n",
              "      <th>edu primaria</th>\n",
              "      <th>edu media</th>\n",
              "      <th>edu técnica</th>\n",
              "      <th>edu univ o simil</th>\n",
              "      <th>edu terciario no uni</th>\n",
              "      <th>edu posgrado</th>\n",
              "      <th>edu mag prof</th>\n",
              "      <th>barrio</th>\n",
              "      <th>estado_civil</th>\n",
              "      <th>leer_escribir</th>\n",
              "      <th>region</th>\n",
              "      <th>vivienda</th>\n",
              "      <th>estrato</th>\n",
              "      <th>suma_hijos</th>\n",
              "      <th>rango_edades</th>\n",
              "      <th>rango_sueldos</th>\n",
              "    </tr>\n",
              "  </thead>\n",
              "  <tbody>\n",
              "    <tr>\n",
              "      <th>4427</th>\n",
              "      <td>Hombre</td>\n",
              "      <td>Blanca</td>\n",
              "      <td>Esposo/a o compañero/a</td>\n",
              "      <td>Ocupados</td>\n",
              "      <td>No</td>\n",
              "      <td>Construcción de obras de arquitectura</td>\n",
              "      <td>Sí</td>\n",
              "      <td>Sí, asistió</td>\n",
              "      <td>Sí, asistió</td>\n",
              "      <td>Sí, asistió</td>\n",
              "      <td>Sí, asistió</td>\n",
              "      <td>No hay dato</td>\n",
              "      <td>No hay dato</td>\n",
              "      <td>No hay dato</td>\n",
              "      <td>No hay dato</td>\n",
              "      <td>20</td>\n",
              "      <td>Separado/a de unión libre anterior</td>\n",
              "      <td>Sí</td>\n",
              "      <td>Montevideo</td>\n",
              "      <td>Propietario solamente de la vivienda y ya la pagó</td>\n",
              "      <td>Montevideo Bajo</td>\n",
              "      <td>(-0.001, 1.0]</td>\n",
              "      <td>4</td>\n",
              "      <td>0</td>\n",
              "    </tr>\n",
              "    <tr>\n",
              "      <th>10316</th>\n",
              "      <td>Mujer</td>\n",
              "      <td>Blanca</td>\n",
              "      <td>Jefe/a de hogar</td>\n",
              "      <td>Ocupados</td>\n",
              "      <td>No</td>\n",
              "      <td>Elaboración de productos de tabaco</td>\n",
              "      <td>Sí</td>\n",
              "      <td>No asistió</td>\n",
              "      <td>Sí, asistió</td>\n",
              "      <td>Sí, asistió</td>\n",
              "      <td>No asistió</td>\n",
              "      <td>Sí, asistió</td>\n",
              "      <td>No asistió</td>\n",
              "      <td>No asistió</td>\n",
              "      <td>No asistió</td>\n",
              "      <td>8</td>\n",
              "      <td>No hay dato</td>\n",
              "      <td>Sí</td>\n",
              "      <td>Montevideo</td>\n",
              "      <td>Propietario de la vivienda y el terreno y los ...</td>\n",
              "      <td>Montevideo Medio Alto</td>\n",
              "      <td>(1.0, 2.0]</td>\n",
              "      <td>2</td>\n",
              "      <td>3</td>\n",
              "    </tr>\n",
              "    <tr>\n",
              "      <th>11713</th>\n",
              "      <td>Mujer</td>\n",
              "      <td>Blanca</td>\n",
              "      <td>Jefe/a de hogar</td>\n",
              "      <td>Ocupados</td>\n",
              "      <td>No</td>\n",
              "      <td>Actividades de hospitales</td>\n",
              "      <td>Sí</td>\n",
              "      <td>No asistió</td>\n",
              "      <td>Sí, asistió</td>\n",
              "      <td>Sí, asistió</td>\n",
              "      <td>No asistió</td>\n",
              "      <td>Sí, asistió</td>\n",
              "      <td>No asistió</td>\n",
              "      <td>No asistió</td>\n",
              "      <td>No asistió</td>\n",
              "      <td>11</td>\n",
              "      <td>Divorciado/a</td>\n",
              "      <td>Sí</td>\n",
              "      <td>Montevideo</td>\n",
              "      <td>Inquilino o arrendatario de la vivienda</td>\n",
              "      <td>Montevideo Medio Alto</td>\n",
              "      <td>(1.0, 2.0]</td>\n",
              "      <td>5</td>\n",
              "      <td>2</td>\n",
              "    </tr>\n",
              "  </tbody>\n",
              "</table>\n",
              "</div>\n",
              "      <button class=\"colab-df-convert\" onclick=\"convertToInteractive('df-0e8bde33-cee5-4165-8fbf-416703ec46d5')\"\n",
              "              title=\"Convert this dataframe to an interactive table.\"\n",
              "              style=\"display:none;\">\n",
              "        \n",
              "  <svg xmlns=\"http://www.w3.org/2000/svg\" height=\"24px\"viewBox=\"0 0 24 24\"\n",
              "       width=\"24px\">\n",
              "    <path d=\"M0 0h24v24H0V0z\" fill=\"none\"/>\n",
              "    <path d=\"M18.56 5.44l.94 2.06.94-2.06 2.06-.94-2.06-.94-.94-2.06-.94 2.06-2.06.94zm-11 1L8.5 8.5l.94-2.06 2.06-.94-2.06-.94L8.5 2.5l-.94 2.06-2.06.94zm10 10l.94 2.06.94-2.06 2.06-.94-2.06-.94-.94-2.06-.94 2.06-2.06.94z\"/><path d=\"M17.41 7.96l-1.37-1.37c-.4-.4-.92-.59-1.43-.59-.52 0-1.04.2-1.43.59L10.3 9.45l-7.72 7.72c-.78.78-.78 2.05 0 2.83L4 21.41c.39.39.9.59 1.41.59.51 0 1.02-.2 1.41-.59l7.78-7.78 2.81-2.81c.8-.78.8-2.07 0-2.86zM5.41 20L4 18.59l7.72-7.72 1.47 1.35L5.41 20z\"/>\n",
              "  </svg>\n",
              "      </button>\n",
              "      \n",
              "  <style>\n",
              "    .colab-df-container {\n",
              "      display:flex;\n",
              "      flex-wrap:wrap;\n",
              "      gap: 12px;\n",
              "    }\n",
              "\n",
              "    .colab-df-convert {\n",
              "      background-color: #E8F0FE;\n",
              "      border: none;\n",
              "      border-radius: 50%;\n",
              "      cursor: pointer;\n",
              "      display: none;\n",
              "      fill: #1967D2;\n",
              "      height: 32px;\n",
              "      padding: 0 0 0 0;\n",
              "      width: 32px;\n",
              "    }\n",
              "\n",
              "    .colab-df-convert:hover {\n",
              "      background-color: #E2EBFA;\n",
              "      box-shadow: 0px 1px 2px rgba(60, 64, 67, 0.3), 0px 1px 3px 1px rgba(60, 64, 67, 0.15);\n",
              "      fill: #174EA6;\n",
              "    }\n",
              "\n",
              "    [theme=dark] .colab-df-convert {\n",
              "      background-color: #3B4455;\n",
              "      fill: #D2E3FC;\n",
              "    }\n",
              "\n",
              "    [theme=dark] .colab-df-convert:hover {\n",
              "      background-color: #434B5C;\n",
              "      box-shadow: 0px 1px 3px 1px rgba(0, 0, 0, 0.15);\n",
              "      filter: drop-shadow(0px 1px 2px rgba(0, 0, 0, 0.3));\n",
              "      fill: #FFFFFF;\n",
              "    }\n",
              "  </style>\n",
              "\n",
              "      <script>\n",
              "        const buttonEl =\n",
              "          document.querySelector('#df-0e8bde33-cee5-4165-8fbf-416703ec46d5 button.colab-df-convert');\n",
              "        buttonEl.style.display =\n",
              "          google.colab.kernel.accessAllowed ? 'block' : 'none';\n",
              "\n",
              "        async function convertToInteractive(key) {\n",
              "          const element = document.querySelector('#df-0e8bde33-cee5-4165-8fbf-416703ec46d5');\n",
              "          const dataTable =\n",
              "            await google.colab.kernel.invokeFunction('convertToInteractive',\n",
              "                                                     [key], {});\n",
              "          if (!dataTable) return;\n",
              "\n",
              "          const docLinkHtml = 'Like what you see? Visit the ' +\n",
              "            '<a target=\"_blank\" href=https://colab.research.google.com/notebooks/data_table.ipynb>data table notebook</a>'\n",
              "            + ' to learn more about interactive tables.';\n",
              "          element.innerHTML = '';\n",
              "          dataTable['output_type'] = 'display_data';\n",
              "          await google.colab.output.renderOutput(dataTable, element);\n",
              "          const docLink = document.createElement('div');\n",
              "          docLink.innerHTML = docLinkHtml;\n",
              "          element.appendChild(docLink);\n",
              "        }\n",
              "      </script>\n",
              "    </div>\n",
              "  </div>\n",
              "  "
            ],
            "text/plain": [
              "         sexo ascendencia  ... rango_edades rango_sueldos\n",
              "4427   Hombre      Blanca  ...            4             0\n",
              "10316   Mujer      Blanca  ...            2             3\n",
              "11713   Mujer      Blanca  ...            5             2\n",
              "\n",
              "[3 rows x 24 columns]"
            ]
          },
          "metadata": {},
          "execution_count": 19
        }
      ],
      "source": [
        "df.sample(3)"
      ]
    },
    {
      "cell_type": "code",
      "source": [
        "df.to_csv('new_df.csv')"
      ],
      "metadata": {
        "id": "aULnONIhboAW"
      },
      "execution_count": 20,
      "outputs": []
    },
    {
      "cell_type": "markdown",
      "metadata": {
        "id": "tr2CniL5M1bg"
      },
      "source": [
        "### DEFINIMOS LAS VARIABLES DEPENDIENTES E INDEPENDIENTES"
      ]
    },
    {
      "cell_type": "code",
      "execution_count": 21,
      "metadata": {
        "colab": {
          "base_uri": "https://localhost:8080/"
        },
        "id": "Fw7aZaAIM1bg",
        "outputId": "d3dd09c9-1439-473c-dc0d-c3b872e6096f"
      },
      "outputs": [
        {
          "output_type": "stream",
          "name": "stdout",
          "text": [
            "X shape (22640, 23) \n",
            "Y shape (22640,)\n"
          ]
        }
      ],
      "source": [
        "# Feautures\n",
        "X = df.drop('rango_sueldos', axis=1).to_numpy()\n",
        "y = df['rango_sueldos']\n",
        "\n",
        "print('X shape', X.shape, '\\nY shape', y.shape)"
      ]
    },
    {
      "cell_type": "code",
      "execution_count": 22,
      "metadata": {
        "id": "VdOpqVADM1bc"
      },
      "outputs": [],
      "source": [
        "from sklearn.preprocessing import OneHotEncoder\n",
        "\n",
        "one_hot = OneHotEncoder()\n",
        "\n",
        "X = one_hot.fit_transform(X)"
      ]
    },
    {
      "cell_type": "code",
      "execution_count": 23,
      "metadata": {
        "id": "aWNq5Nn77-Yf"
      },
      "outputs": [],
      "source": [
        "from sklearn.preprocessing import Normalizer\n",
        "\n",
        "normalizer = Normalizer()\n",
        "\n",
        "X = normalizer.fit_transform(X)"
      ]
    },
    {
      "cell_type": "code",
      "execution_count": 24,
      "metadata": {
        "colab": {
          "base_uri": "https://localhost:8080/"
        },
        "id": "eTIu6kDf1IKl",
        "outputId": "70797db9-c5d6-4036-a630-f3535c508198"
      },
      "outputs": [
        {
          "output_type": "execute_result",
          "data": {
            "text/plain": [
              "(22640, 534)"
            ]
          },
          "metadata": {},
          "execution_count": 24
        }
      ],
      "source": [
        "X.shape"
      ]
    },
    {
      "cell_type": "markdown",
      "metadata": {
        "id": "5WD2Cyb7gVtP"
      },
      "source": [
        "## Dejamos una fila afuera para testear el modelo más adelante"
      ]
    },
    {
      "cell_type": "code",
      "execution_count": 25,
      "metadata": {
        "id": "ZPOG_CpPaGdk"
      },
      "outputs": [],
      "source": [
        "test_sample = X[0]\n",
        "test_result = y[0]\n",
        "\n",
        "X = X[1:]\n",
        "y = y[1:]"
      ]
    },
    {
      "cell_type": "markdown",
      "metadata": {
        "id": "4WNKcjI3M1bg"
      },
      "source": [
        "### Dividimos los datos en un 30% de test y 70% de entrenamiento"
      ]
    },
    {
      "cell_type": "code",
      "execution_count": 26,
      "metadata": {
        "id": "ShFudTmNM1bh"
      },
      "outputs": [],
      "source": [
        "from sklearn.model_selection import train_test_split \n",
        "\n",
        "X_train, X_test, y_train, y_test = train_test_split(X, y, test_size=0.30, random_state=42) "
      ]
    },
    {
      "cell_type": "code",
      "execution_count": 27,
      "metadata": {
        "colab": {
          "base_uri": "https://localhost:8080/"
        },
        "id": "ZV5LPElaM1bh",
        "outputId": "615bc2e8-5ff1-4114-ef88-73d2ad3ec367"
      },
      "outputs": [
        {
          "output_type": "stream",
          "name": "stdout",
          "text": [
            "(15847, 534) (15847,)\n",
            "(6792, 534) (6792,)\n"
          ]
        }
      ],
      "source": [
        "print(X_train.shape, y_train.shape)\n",
        "print(X_test.shape, y_test.shape)"
      ]
    },
    {
      "cell_type": "markdown",
      "metadata": {
        "id": "OpuOka2u0jgn"
      },
      "source": [
        "# APLICAMOS EL MODELO LIGHTGBM"
      ]
    },
    {
      "cell_type": "code",
      "execution_count": 28,
      "metadata": {
        "id": "zGs22vX80qy8"
      },
      "outputs": [],
      "source": [
        "import lightgbm as lgb\n",
        "\n",
        "clf = lgb.LGBMClassifier()\n",
        "\n",
        "clf.fit(X_train, y_train)\n",
        "\n",
        "y_pred = clf.predict(X_test)"
      ]
    },
    {
      "cell_type": "code",
      "execution_count": 29,
      "metadata": {
        "colab": {
          "base_uri": "https://localhost:8080/"
        },
        "id": "kyM5fc2w0qwD",
        "outputId": "d18f9956-a744-45a4-db87-9d3332d9ae0c"
      },
      "outputs": [
        {
          "output_type": "stream",
          "name": "stdout",
          "text": [
            "LightGBM Model accuracy score: 0.47835689045936397\n"
          ]
        }
      ],
      "source": [
        "#Accuracy\n",
        "from sklearn.metrics import accuracy_score\n",
        "\n",
        "accuracy = accuracy_score(y_pred, y_test)\n",
        "\n",
        "print(f'LightGBM Model accuracy score: {accuracy_score(y_test, y_pred)}')"
      ]
    },
    {
      "cell_type": "code",
      "source": [
        "from sklearn.metrics import confusion_matrix\n",
        "\n",
        "# Matriz de Confusion\n",
        "cm = confusion_matrix(y_test,y_pred)\n",
        "\n",
        "sns.heatmap(cm,annot=True,cmap='Blues',cbar=False,fmt='.0f')"
      ],
      "metadata": {
        "colab": {
          "base_uri": "https://localhost:8080/",
          "height": 230
        },
        "id": "w_kveJ5p4kk2",
        "outputId": "a0b56031-9e8b-4540-cc4a-a7f2a846099c"
      },
      "execution_count": 30,
      "outputs": [
        {
          "output_type": "execute_result",
          "data": {
            "text/plain": [
              "<matplotlib.axes._subplots.AxesSubplot at 0x7f49f9611210>"
            ]
          },
          "metadata": {},
          "execution_count": 30
        },
        {
          "output_type": "display_data",
          "data": {
            "image/png": "[encoded data removed]",
            "text/plain": [
              "<Figure size 576x216 with 1 Axes>"
            ]
          },
          "metadata": {}
        }
      ]
    },
    {
      "cell_type": "code",
      "source": [
        "print(clf.predict(test_sample))\n",
        "print(test_result)"
      ],
      "metadata": {
        "colab": {
          "base_uri": "https://localhost:8080/"
        },
        "id": "QMgOs8mw42c7",
        "outputId": "f29116d1-f35b-44dd-f283-72c0583f8185"
      },
      "execution_count": 31,
      "outputs": [
        {
          "output_type": "stream",
          "name": "stdout",
          "text": [
            "[0]\n",
            "1\n"
          ]
        }
      ]
    },
    {
      "cell_type": "markdown",
      "metadata": {
        "id": "t3yhULSwM1bi"
      },
      "source": [
        "# REPETIMOS CON UN MODELO DE REGRESIÓN LOGISTICA"
      ]
    },
    {
      "cell_type": "code",
      "execution_count": 32,
      "metadata": {
        "id": "VA9pehfmM1bj"
      },
      "outputs": [],
      "source": [
        "from sklearn.linear_model import LogisticRegression\n",
        "from sklearn.model_selection import cross_val_score\n",
        "\n",
        "logistic_reg = LogisticRegression(multi_class='multinomial',max_iter=20000)"
      ]
    },
    {
      "cell_type": "code",
      "execution_count": 33,
      "metadata": {
        "id": "z6Nj2W2iJZgR"
      },
      "outputs": [],
      "source": [
        "#Definicion de Hyperparámetros\n",
        "param_grid = {'solver':['lbfgs', 'saga'],\n",
        "              'penalty': ['l1', 'l2'], \n",
        "              'C':[10, 1.0, 0.1]}"
      ]
    },
    {
      "cell_type": "markdown",
      "metadata": {
        "id": "hyyjyVfAbv5d"
      },
      "source": [
        "Realizamos un random search para elegir los mejores parámetros"
      ]
    },
    {
      "cell_type": "code",
      "execution_count": 34,
      "metadata": {
        "id": "8ExNkLoGbxpz"
      },
      "outputs": [],
      "source": [
        "from sklearn.model_selection import RandomizedSearchCV\n",
        "\n",
        "#Aplicamos la búsqueda al modelo\n",
        "model = RandomizedSearchCV(logistic_reg, param_grid,n_iter=100, random_state=0, cv=5,scoring='accuracy',verbose=20)"
      ]
    },
    {
      "cell_type": "code",
      "execution_count": 35,
      "metadata": {
        "colab": {
          "base_uri": "https://localhost:8080/"
        },
        "id": "iNN8l9-9b_YZ",
        "outputId": "370392dc-ee4f-4cd5-ca50-1fbf07df2b9f"
      },
      "outputs": [
        {
          "output_type": "stream",
          "name": "stderr",
          "text": [
            "/usr/local/lib/python3.7/dist-packages/sklearn/model_selection/_search.py:296: UserWarning: The total space of parameters 12 is smaller than n_iter=100. Running 12 iterations. For exhaustive searches, use GridSearchCV.\n",
            "  UserWarning,\n"
          ]
        },
        {
          "output_type": "stream",
          "name": "stdout",
          "text": [
            "Fitting 5 folds for each of 12 candidates, totalling 60 fits\n",
            "[CV 1/5; 1/12] START C=10, penalty=l1, solver=lbfgs.............................\n",
            "[CV 1/5; 1/12] END C=10, penalty=l1, solver=lbfgs;, score=nan total time=   0.0s\n",
            "[CV 2/5; 1/12] START C=10, penalty=l1, solver=lbfgs.............................\n",
            "[CV 2/5; 1/12] END C=10, penalty=l1, solver=lbfgs;, score=nan total time=   0.0s\n",
            "[CV 3/5; 1/12] START C=10, penalty=l1, solver=lbfgs.............................\n",
            "[CV 3/5; 1/12] END C=10, penalty=l1, solver=lbfgs;, score=nan total time=   0.0s\n",
            "[CV 4/5; 1/12] START C=10, penalty=l1, solver=lbfgs.............................\n",
            "[CV 4/5; 1/12] END C=10, penalty=l1, solver=lbfgs;, score=nan total time=   0.0s\n",
            "[CV 5/5; 1/12] START C=10, penalty=l1, solver=lbfgs.............................\n",
            "[CV 5/5; 1/12] END C=10, penalty=l1, solver=lbfgs;, score=nan total time=   0.0s\n",
            "[CV 1/5; 2/12] START C=10, penalty=l1, solver=saga..............................\n",
            "[CV 1/5; 2/12] END C=10, penalty=l1, solver=saga;, score=0.483 total time= 1.1min\n",
            "[CV 2/5; 2/12] START C=10, penalty=l1, solver=saga..............................\n",
            "[CV 2/5; 2/12] END C=10, penalty=l1, solver=saga;, score=0.474 total time= 1.0min\n",
            "[CV 3/5; 2/12] START C=10, penalty=l1, solver=saga..............................\n",
            "[CV 3/5; 2/12] END C=10, penalty=l1, solver=saga;, score=0.475 total time=  52.2s\n",
            "[CV 4/5; 2/12] START C=10, penalty=l1, solver=saga..............................\n",
            "[CV 4/5; 2/12] END C=10, penalty=l1, solver=saga;, score=0.485 total time= 1.1min\n",
            "[CV 5/5; 2/12] START C=10, penalty=l1, solver=saga..............................\n",
            "[CV 5/5; 2/12] END C=10, penalty=l1, solver=saga;, score=0.479 total time= 1.1min\n",
            "[CV 1/5; 3/12] START C=10, penalty=l2, solver=lbfgs.............................\n",
            "[CV 1/5; 3/12] END C=10, penalty=l2, solver=lbfgs;, score=0.482 total time=   7.4s\n",
            "[CV 2/5; 3/12] START C=10, penalty=l2, solver=lbfgs.............................\n",
            "[CV 2/5; 3/12] END C=10, penalty=l2, solver=lbfgs;, score=0.474 total time=   6.9s\n",
            "[CV 3/5; 3/12] START C=10, penalty=l2, solver=lbfgs.............................\n",
            "[CV 3/5; 3/12] END C=10, penalty=l2, solver=lbfgs;, score=0.479 total time=   6.9s\n",
            "[CV 4/5; 3/12] START C=10, penalty=l2, solver=lbfgs.............................\n",
            "[CV 4/5; 3/12] END C=10, penalty=l2, solver=lbfgs;, score=0.488 total time=   7.0s\n",
            "[CV 5/5; 3/12] START C=10, penalty=l2, solver=lbfgs.............................\n",
            "[CV 5/5; 3/12] END C=10, penalty=l2, solver=lbfgs;, score=0.480 total time=   7.3s\n",
            "[CV 1/5; 4/12] START C=10, penalty=l2, solver=saga..............................\n",
            "[CV 1/5; 4/12] END C=10, penalty=l2, solver=saga;, score=0.482 total time=  11.3s\n",
            "[CV 2/5; 4/12] START C=10, penalty=l2, solver=saga..............................\n",
            "[CV 2/5; 4/12] END C=10, penalty=l2, solver=saga;, score=0.474 total time=  11.4s\n",
            "[CV 3/5; 4/12] START C=10, penalty=l2, solver=saga..............................\n",
            "[CV 3/5; 4/12] END C=10, penalty=l2, solver=saga;, score=0.479 total time=  13.0s\n",
            "[CV 4/5; 4/12] START C=10, penalty=l2, solver=saga..............................\n",
            "[CV 4/5; 4/12] END C=10, penalty=l2, solver=saga;, score=0.488 total time=  10.1s\n",
            "[CV 5/5; 4/12] START C=10, penalty=l2, solver=saga..............................\n",
            "[CV 5/5; 4/12] END C=10, penalty=l2, solver=saga;, score=0.480 total time=  11.8s\n",
            "[CV 1/5; 5/12] START C=1.0, penalty=l1, solver=lbfgs............................\n",
            "[CV 1/5; 5/12] END C=1.0, penalty=l1, solver=lbfgs;, score=nan total time=   0.0s\n",
            "[CV 2/5; 5/12] START C=1.0, penalty=l1, solver=lbfgs............................\n",
            "[CV 2/5; 5/12] END C=1.0, penalty=l1, solver=lbfgs;, score=nan total time=   0.0s\n",
            "[CV 3/5; 5/12] START C=1.0, penalty=l1, solver=lbfgs............................\n",
            "[CV 3/5; 5/12] END C=1.0, penalty=l1, solver=lbfgs;, score=nan total time=   0.0s\n",
            "[CV 4/5; 5/12] START C=1.0, penalty=l1, solver=lbfgs............................\n",
            "[CV 4/5; 5/12] END C=1.0, penalty=l1, solver=lbfgs;, score=nan total time=   0.0s\n",
            "[CV 5/5; 5/12] START C=1.0, penalty=l1, solver=lbfgs............................\n",
            "[CV 5/5; 5/12] END C=1.0, penalty=l1, solver=lbfgs;, score=nan total time=   0.0s\n",
            "[CV 1/5; 6/12] START C=1.0, penalty=l1, solver=saga.............................\n",
            "[CV 1/5; 6/12] END C=1.0, penalty=l1, solver=saga;, score=0.488 total time=  13.8s\n",
            "[CV 2/5; 6/12] START C=1.0, penalty=l1, solver=saga.............................\n",
            "[CV 2/5; 6/12] END C=1.0, penalty=l1, solver=saga;, score=0.485 total time=  14.4s\n",
            "[CV 3/5; 6/12] START C=1.0, penalty=l1, solver=saga.............................\n",
            "[CV 3/5; 6/12] END C=1.0, penalty=l1, solver=saga;, score=0.480 total time=  14.5s\n",
            "[CV 4/5; 6/12] START C=1.0, penalty=l1, solver=saga.............................\n",
            "[CV 4/5; 6/12] END C=1.0, penalty=l1, solver=saga;, score=0.487 total time=  14.0s\n",
            "[CV 5/5; 6/12] START C=1.0, penalty=l1, solver=saga.............................\n",
            "[CV 5/5; 6/12] END C=1.0, penalty=l1, solver=saga;, score=0.483 total time=   9.2s\n",
            "[CV 1/5; 7/12] START C=1.0, penalty=l2, solver=lbfgs............................\n",
            "[CV 1/5; 7/12] END C=1.0, penalty=l2, solver=lbfgs;, score=0.482 total time=   2.8s\n",
            "[CV 2/5; 7/12] START C=1.0, penalty=l2, solver=lbfgs............................\n",
            "[CV 2/5; 7/12] END C=1.0, penalty=l2, solver=lbfgs;, score=0.482 total time=   2.8s\n",
            "[CV 3/5; 7/12] START C=1.0, penalty=l2, solver=lbfgs............................\n",
            "[CV 3/5; 7/12] END C=1.0, penalty=l2, solver=lbfgs;, score=0.482 total time=   2.8s\n",
            "[CV 4/5; 7/12] START C=1.0, penalty=l2, solver=lbfgs............................\n",
            "[CV 4/5; 7/12] END C=1.0, penalty=l2, solver=lbfgs;, score=0.481 total time=   2.8s\n",
            "[CV 5/5; 7/12] START C=1.0, penalty=l2, solver=lbfgs............................\n",
            "[CV 5/5; 7/12] END C=1.0, penalty=l2, solver=lbfgs;, score=0.488 total time=   3.0s\n",
            "[CV 1/5; 8/12] START C=1.0, penalty=l2, solver=saga.............................\n",
            "[CV 1/5; 8/12] END C=1.0, penalty=l2, solver=saga;, score=0.482 total time=   8.4s\n",
            "[CV 2/5; 8/12] START C=1.0, penalty=l2, solver=saga.............................\n",
            "[CV 2/5; 8/12] END C=1.0, penalty=l2, solver=saga;, score=0.482 total time=   6.0s\n",
            "[CV 3/5; 8/12] START C=1.0, penalty=l2, solver=saga.............................\n",
            "[CV 3/5; 8/12] END C=1.0, penalty=l2, solver=saga;, score=0.482 total time=   5.1s\n",
            "[CV 4/5; 8/12] START C=1.0, penalty=l2, solver=saga.............................\n",
            "[CV 4/5; 8/12] END C=1.0, penalty=l2, solver=saga;, score=0.481 total time=   5.0s\n",
            "[CV 5/5; 8/12] START C=1.0, penalty=l2, solver=saga.............................\n",
            "[CV 5/5; 8/12] END C=1.0, penalty=l2, solver=saga;, score=0.488 total time=   5.0s\n",
            "[CV 1/5; 9/12] START C=0.1, penalty=l1, solver=lbfgs............................\n",
            "[CV 1/5; 9/12] END C=0.1, penalty=l1, solver=lbfgs;, score=nan total time=   0.0s\n",
            "[CV 2/5; 9/12] START C=0.1, penalty=l1, solver=lbfgs............................\n",
            "[CV 2/5; 9/12] END C=0.1, penalty=l1, solver=lbfgs;, score=nan total time=   0.0s\n",
            "[CV 3/5; 9/12] START C=0.1, penalty=l1, solver=lbfgs............................\n",
            "[CV 3/5; 9/12] END C=0.1, penalty=l1, solver=lbfgs;, score=nan total time=   0.0s\n",
            "[CV 4/5; 9/12] START C=0.1, penalty=l1, solver=lbfgs............................\n",
            "[CV 4/5; 9/12] END C=0.1, penalty=l1, solver=lbfgs;, score=nan total time=   0.0s\n",
            "[CV 5/5; 9/12] START C=0.1, penalty=l1, solver=lbfgs............................\n",
            "[CV 5/5; 9/12] END C=0.1, penalty=l1, solver=lbfgs;, score=nan total time=   0.0s\n",
            "[CV 1/5; 10/12] START C=0.1, penalty=l1, solver=saga............................\n",
            "[CV 1/5; 10/12] END C=0.1, penalty=l1, solver=saga;, score=0.469 total time=   1.0s\n",
            "[CV 2/5; 10/12] START C=0.1, penalty=l1, solver=saga............................\n",
            "[CV 2/5; 10/12] END C=0.1, penalty=l1, solver=saga;, score=0.463 total time=   1.6s\n",
            "[CV 3/5; 10/12] START C=0.1, penalty=l1, solver=saga............................\n",
            "[CV 3/5; 10/12] END C=0.1, penalty=l1, solver=saga;, score=0.460 total time=   2.2s\n",
            "[CV 4/5; 10/12] START C=0.1, penalty=l1, solver=saga............................\n",
            "[CV 4/5; 10/12] END C=0.1, penalty=l1, solver=saga;, score=0.459 total time=   0.9s\n",
            "[CV 5/5; 10/12] START C=0.1, penalty=l1, solver=saga............................\n",
            "[CV 5/5; 10/12] END C=0.1, penalty=l1, solver=saga;, score=0.457 total time=   1.0s\n",
            "[CV 1/5; 11/12] START C=0.1, penalty=l2, solver=lbfgs...........................\n",
            "[CV 1/5; 11/12] END C=0.1, penalty=l2, solver=lbfgs;, score=0.470 total time=   1.1s\n",
            "[CV 2/5; 11/12] START C=0.1, penalty=l2, solver=lbfgs...........................\n",
            "[CV 2/5; 11/12] END C=0.1, penalty=l2, solver=lbfgs;, score=0.469 total time=   1.0s\n",
            "[CV 3/5; 11/12] START C=0.1, penalty=l2, solver=lbfgs...........................\n",
            "[CV 3/5; 11/12] END C=0.1, penalty=l2, solver=lbfgs;, score=0.466 total time=   0.9s\n",
            "[CV 4/5; 11/12] START C=0.1, penalty=l2, solver=lbfgs...........................\n",
            "[CV 4/5; 11/12] END C=0.1, penalty=l2, solver=lbfgs;, score=0.470 total time=   1.0s\n",
            "[CV 5/5; 11/12] START C=0.1, penalty=l2, solver=lbfgs...........................\n",
            "[CV 5/5; 11/12] END C=0.1, penalty=l2, solver=lbfgs;, score=0.469 total time=   1.0s\n",
            "[CV 1/5; 12/12] START C=0.1, penalty=l2, solver=saga............................\n",
            "[CV 1/5; 12/12] END C=0.1, penalty=l2, solver=saga;, score=0.470 total time=   1.6s\n",
            "[CV 2/5; 12/12] START C=0.1, penalty=l2, solver=saga............................\n",
            "[CV 2/5; 12/12] END C=0.1, penalty=l2, solver=saga;, score=0.469 total time=   1.3s\n",
            "[CV 3/5; 12/12] START C=0.1, penalty=l2, solver=saga............................\n",
            "[CV 3/5; 12/12] END C=0.1, penalty=l2, solver=saga;, score=0.466 total time=   1.8s\n",
            "[CV 4/5; 12/12] START C=0.1, penalty=l2, solver=saga............................\n",
            "[CV 4/5; 12/12] END C=0.1, penalty=l2, solver=saga;, score=0.470 total time=   1.9s\n",
            "[CV 5/5; 12/12] START C=0.1, penalty=l2, solver=saga............................\n",
            "[CV 5/5; 12/12] END C=0.1, penalty=l2, solver=saga;, score=0.469 total time=   1.5s\n"
          ]
        },
        {
          "output_type": "stream",
          "name": "stderr",
          "text": [
            "/usr/local/lib/python3.7/dist-packages/sklearn/model_selection/_validation.py:372: FitFailedWarning: \n",
            "15 fits failed out of a total of 60.\n",
            "The score on these train-test partitions for these parameters will be set to nan.\n",
            "If these failures are not expected, you can try to debug them by setting error_score='raise'.\n",
            "\n",
            "Below are more details about the failures:\n",
            "--------------------------------------------------------------------------------\n",
            "15 fits failed with the following error:\n",
            "Traceback (most recent call last):\n",
            "  File \"/usr/local/lib/python3.7/dist-packages/sklearn/model_selection/_validation.py\", line 681, in _fit_and_score\n",
            "    estimator.fit(X_train, y_train, **fit_params)\n",
            "  File \"/usr/local/lib/python3.7/dist-packages/sklearn/linear_model/_logistic.py\", line 1461, in fit\n",
            "    solver = _check_solver(self.solver, self.penalty, self.dual)\n",
            "  File \"/usr/local/lib/python3.7/dist-packages/sklearn/linear_model/_logistic.py\", line 449, in _check_solver\n",
            "    % (solver, penalty)\n",
            "ValueError: Solver lbfgs supports only 'l2' or 'none' penalties, got l1 penalty.\n",
            "\n",
            "  warnings.warn(some_fits_failed_message, FitFailedWarning)\n",
            "/usr/local/lib/python3.7/dist-packages/sklearn/model_selection/_search.py:972: UserWarning: One or more of the test scores are non-finite: [       nan 0.47889199 0.48053292 0.48034363        nan 0.48438168\n",
            " 0.48293064 0.48286757        nan 0.46172722 0.46904767 0.46892146]\n",
            "  category=UserWarning,\n"
          ]
        },
        {
          "output_type": "execute_result",
          "data": {
            "text/plain": [
              "RandomizedSearchCV(cv=5,\n",
              "                   estimator=LogisticRegression(max_iter=20000,\n",
              "                                                multi_class='multinomial'),\n",
              "                   n_iter=100,\n",
              "                   param_distributions={'C': [10, 1.0, 0.1],\n",
              "                                        'penalty': ['l1', 'l2'],\n",
              "                                        'solver': ['lbfgs', 'saga']},\n",
              "                   random_state=0, scoring='accuracy', verbose=20)"
            ]
          },
          "metadata": {},
          "execution_count": 35
        }
      ],
      "source": [
        "model.fit(X_train, y_train)"
      ]
    },
    {
      "cell_type": "code",
      "execution_count": 36,
      "metadata": {
        "colab": {
          "base_uri": "https://localhost:8080/"
        },
        "id": "C_GvvKjKb_54",
        "outputId": "b5ada270-02d4-4a82-9f42-9dbe4530431a"
      },
      "outputs": [
        {
          "output_type": "stream",
          "name": "stdout",
          "text": [
            "Mejores parametros: {'solver': 'saga', 'penalty': 'l1', 'C': 1.0}\n",
            "Mejor Score: 0.4843816825656274\n",
            "\n"
          ]
        }
      ],
      "source": [
        "print(\"Mejores parametros: \"+str(model.best_params_))\n",
        "print(\"Mejor Score: \"+str(model.best_score_)+'\\n')"
      ]
    },
    {
      "cell_type": "code",
      "execution_count": 37,
      "metadata": {
        "id": "AQ6nhFY0cCdO"
      },
      "outputs": [],
      "source": [
        "# Prediccion\n",
        "prediction = model.predict(X_test)"
      ]
    },
    {
      "cell_type": "code",
      "execution_count": 38,
      "metadata": {
        "colab": {
          "base_uri": "https://localhost:8080/",
          "height": 0
        },
        "id": "FQCcS1aMcEmH",
        "outputId": "b74b4a24-e77d-462c-d0c9-a966cc364345"
      },
      "outputs": [
        {
          "output_type": "execute_result",
          "data": {
            "text/plain": [
              "<matplotlib.axes._subplots.AxesSubplot at 0x7f49ec909b10>"
            ]
          },
          "metadata": {},
          "execution_count": 38
        },
        {
          "output_type": "display_data",
          "data": {
            "image/png": "[encoded data removed]",
            "text/plain": [
              "<Figure size 576x216 with 1 Axes>"
            ]
          },
          "metadata": {}
        }
      ],
      "source": [
        "from sklearn.metrics import confusion_matrix\n",
        "\n",
        "# Matriz de Confusion\n",
        "cm = confusion_matrix(y_test,prediction)\n",
        "\n",
        "sns.heatmap(cm,annot=True,cmap='Blues',cbar=False,fmt='.0f')"
      ]
    },
    {
      "cell_type": "code",
      "source": [
        "print(model.predict(test_sample))\n",
        "print(test_result)"
      ],
      "metadata": {
        "colab": {
          "base_uri": "https://localhost:8080/"
        },
        "id": "Nu5xUh7j4X1h",
        "outputId": "0f728bfd-a1de-4549-8e2d-f42a8f6b8ba0"
      },
      "execution_count": 39,
      "outputs": [
        {
          "output_type": "stream",
          "name": "stdout",
          "text": [
            "[0]\n",
            "1\n"
          ]
        }
      ]
    },
    {
      "cell_type": "markdown",
      "metadata": {
        "id": "5BPPzKUaHVfY"
      },
      "source": [
        "# REPETIMOS CON UN RANDOM FOREST"
      ]
    },
    {
      "cell_type": "code",
      "execution_count": 40,
      "metadata": {
        "colab": {
          "base_uri": "https://localhost:8080/"
        },
        "id": "ODF-6NeoHVfa",
        "outputId": "bc7275b8-2bd5-438e-f04c-9a14e59f0131"
      },
      "outputs": [
        {
          "output_type": "execute_result",
          "data": {
            "text/plain": [
              "RandomForestClassifier()"
            ]
          },
          "metadata": {},
          "execution_count": 40
        }
      ],
      "source": [
        "from sklearn.ensemble import RandomForestClassifier\n",
        "\n",
        "random_forest = RandomForestClassifier(100)\n",
        "\n",
        "random_forest.fit(X_train, y_train)"
      ]
    },
    {
      "cell_type": "code",
      "execution_count": 41,
      "metadata": {
        "colab": {
          "base_uri": "https://localhost:8080/"
        },
        "id": "JH1bvMyMHVfa",
        "outputId": "87f04080-5bcd-47f5-a415-5a5a5d6dc8bb"
      },
      "outputs": [
        {
          "output_type": "execute_result",
          "data": {
            "text/plain": [
              "array([0.46775618, 0.45693463, 0.45362191, 0.46157244, 0.4546057 ])"
            ]
          },
          "metadata": {},
          "execution_count": 41
        }
      ],
      "source": [
        "scores = cross_val_score(random_forest, X, y, cv=5)\n",
        "\n",
        "scores"
      ]
    },
    {
      "cell_type": "code",
      "execution_count": 42,
      "metadata": {
        "colab": {
          "base_uri": "https://localhost:8080/"
        },
        "id": "EdbWI5glHVfa",
        "outputId": "191266b5-15b9-4b27-ccf6-b909b49d5ee8"
      },
      "outputs": [
        {
          "output_type": "stream",
          "name": "stdout",
          "text": [
            "Promedio de cross_validation  0.46\n",
            "Score en train  1.0\n",
            "Score en test  0.46\n"
          ]
        }
      ],
      "source": [
        "print('Promedio de cross_validation ', round(scores.mean(),2))\n",
        "\n",
        "print('Score en train ', round(random_forest.score(X_train, y_train),2))\n",
        "print('Score en test ', round(random_forest.score(X_test, y_test),2))"
      ]
    },
    {
      "cell_type": "code",
      "execution_count": 43,
      "metadata": {
        "colab": {
          "base_uri": "https://localhost:8080/",
          "height": 0
        },
        "id": "7iZRCzTEMSBF",
        "outputId": "9e3974ff-2b59-4732-d2fa-8253f18a78c4"
      },
      "outputs": [
        {
          "output_type": "execute_result",
          "data": {
            "text/plain": [
              "<matplotlib.axes._subplots.AxesSubplot at 0x7f49e90e1510>"
            ]
          },
          "metadata": {},
          "execution_count": 43
        },
        {
          "output_type": "display_data",
          "data": {
            "image/png": "[encoded data removed]",
            "text/plain": [
              "<Figure size 576x216 with 1 Axes>"
            ]
          },
          "metadata": {}
        }
      ],
      "source": [
        "cm = confusion_matrix(y_test,prediction)\n",
        "\n",
        "sns.heatmap(cm,annot=True,cmap='Blues',cbar=False,fmt='.0f')"
      ]
    },
    {
      "cell_type": "code",
      "execution_count": 44,
      "metadata": {
        "colab": {
          "base_uri": "https://localhost:8080/"
        },
        "id": "KGw6_y5BHVfa",
        "outputId": "d55c4617-9f18-4a51-f987-585867d86fa8"
      },
      "outputs": [
        {
          "output_type": "stream",
          "name": "stdout",
          "text": [
            "Aciertos sobre entrenamiento: 1.0\n",
            "Aciertos sobre evaluación: 0.46\n"
          ]
        }
      ],
      "source": [
        "#Prediccion en Train\n",
        "y_train_pred = random_forest.predict(X_train)\n",
        "\n",
        "#Prediccion en Test\n",
        "y_test_pred = random_forest.predict(X_test)\n",
        "\n",
        "#Calculo el accuracy en Train\n",
        "train_accuracy = accuracy_score(y_train, y_train_pred)\n",
        "\n",
        "#Calculo el accuracy en Test\n",
        "test_accuracy = accuracy_score(y_test, y_test_pred)\n",
        "\n",
        "print('Aciertos sobre entrenamiento:', round(train_accuracy, 2))\n",
        "print('Aciertos sobre evaluación:', round(test_accuracy, 2))"
      ]
    },
    {
      "cell_type": "code",
      "execution_count": 45,
      "metadata": {
        "colab": {
          "base_uri": "https://localhost:8080/"
        },
        "id": "BAkm5UkiQlIn",
        "outputId": "0e698e3f-fb4d-400f-8b13-61044e341524"
      },
      "outputs": [
        {
          "output_type": "stream",
          "name": "stdout",
          "text": [
            "[1]\n",
            "1\n"
          ]
        }
      ],
      "source": [
        "print(random_forest.predict(test_sample))\n",
        "print(test_result)"
      ]
    },
    {
      "cell_type": "code",
      "execution_count": 46,
      "metadata": {
        "colab": {
          "base_uri": "https://localhost:8080/"
        },
        "id": "d97HKQxVGRpB",
        "outputId": "d637469b-7bf4-4ad4-c3dd-4c27d9f16f8b"
      },
      "outputs": [
        {
          "output_type": "execute_result",
          "data": {
            "text/plain": [
              "array([[0.3 , 0.37, 0.12, 0.14, 0.07]])"
            ]
          },
          "metadata": {},
          "execution_count": 46
        }
      ],
      "source": [
        "probabilidades_prediccion = random_forest.predict_proba(test_sample)\n",
        "probabilidades_prediccion"
      ]
    },
    {
      "cell_type": "markdown",
      "metadata": {
        "id": "wtPUDB4SYAsh"
      },
      "source": [
        "# REPETIMOS CON UN MODELO DE K NEAREST NEIGHBOURS"
      ]
    },
    {
      "cell_type": "code",
      "execution_count": 47,
      "metadata": {
        "colab": {
          "base_uri": "https://localhost:8080/"
        },
        "id": "DP-ODZm4YBR4",
        "outputId": "b1be3dac-ca9d-4ad0-c86b-fb70bfcf9885"
      },
      "outputs": [
        {
          "output_type": "execute_result",
          "data": {
            "text/plain": [
              "KNeighborsClassifier(n_neighbors=4)"
            ]
          },
          "metadata": {},
          "execution_count": 47
        }
      ],
      "source": [
        "from sklearn.neighbors import KNeighborsClassifier\n",
        "\n",
        "knearest_model = KNeighborsClassifier(n_neighbors=4)\n",
        "\n",
        "knearest_model.fit(X_train, y_train)"
      ]
    },
    {
      "cell_type": "code",
      "execution_count": 48,
      "metadata": {
        "colab": {
          "base_uri": "https://localhost:8080/"
        },
        "id": "uLbTJmdkYX6P",
        "outputId": "2e0931a1-8df8-47a3-8041-10a183480186"
      },
      "outputs": [
        {
          "output_type": "execute_result",
          "data": {
            "text/plain": [
              "array([0.41254417, 0.41033569, 0.39774735, 0.42336572, 0.41815772])"
            ]
          },
          "metadata": {},
          "execution_count": 48
        }
      ],
      "source": [
        "scores = cross_val_score(knearest_model, X, y, cv=5)\n",
        "\n",
        "scores           "
      ]
    },
    {
      "cell_type": "code",
      "execution_count": 49,
      "metadata": {
        "colab": {
          "base_uri": "https://localhost:8080/"
        },
        "id": "WjGoWFlJYcDC",
        "outputId": "7c5a56fc-9649-49cd-e9b0-e23d1bc96300"
      },
      "outputs": [
        {
          "output_type": "stream",
          "name": "stdout",
          "text": [
            "Promedio de cross_validation  0.41\n",
            "Score en test  0.41\n",
            "Score en train  0.62\n"
          ]
        }
      ],
      "source": [
        "print('Promedio de cross_validation ', round(scores.mean(),2))\n",
        "print('Score en test ', round(knearest_model.score(X_test, y_test),2))\n",
        "print('Score en train ', round(knearest_model.score(X_train, y_train),2))"
      ]
    },
    {
      "cell_type": "code",
      "execution_count": 50,
      "metadata": {
        "colab": {
          "base_uri": "https://localhost:8080/",
          "height": 0
        },
        "id": "jUEjCBlxMCo0",
        "outputId": "274bb908-ce7d-472a-f862-3b634ef2e5f8"
      },
      "outputs": [
        {
          "output_type": "execute_result",
          "data": {
            "text/plain": [
              "<matplotlib.axes._subplots.AxesSubplot at 0x7f49ec904b10>"
            ]
          },
          "metadata": {},
          "execution_count": 50
        },
        {
          "output_type": "display_data",
          "data": {
            "image/png": "[encoded data removed]",
            "text/plain": [
              "<Figure size 576x216 with 1 Axes>"
            ]
          },
          "metadata": {}
        }
      ],
      "source": [
        "cm = confusion_matrix(y_test,prediction)\n",
        "\n",
        "sns.heatmap(cm,annot=True,cmap='Blues',cbar=False,fmt='.0f')"
      ]
    },
    {
      "cell_type": "code",
      "execution_count": 51,
      "metadata": {
        "colab": {
          "base_uri": "https://localhost:8080/"
        },
        "id": "iEfxUO49YhIS",
        "outputId": "dd256dc5-636f-4cda-b0e7-8d549cdd6739"
      },
      "outputs": [
        {
          "output_type": "stream",
          "name": "stdout",
          "text": [
            "Aciertos sobre entrenamiento: 0.62\n",
            "Aciertos sobre evaluación: 0.41\n"
          ]
        }
      ],
      "source": [
        "#Prediccion en Train\n",
        "y_train_pred = knearest_model.predict(X_train)\n",
        "\n",
        "#Prediccion en Test\n",
        "y_test_pred = knearest_model.predict(X_test)\n",
        "\n",
        "#Calculo el accuracy en Train\n",
        "train_accuracy = accuracy_score(y_train, y_train_pred)\n",
        "\n",
        "#Calculo el accuracy en Test\n",
        "test_accuracy = accuracy_score(y_test, y_test_pred)\n",
        "\n",
        "print('Aciertos sobre entrenamiento:', round(train_accuracy, 2))\n",
        "print('Aciertos sobre evaluación:', round(test_accuracy, 2))"
      ]
    },
    {
      "cell_type": "code",
      "execution_count": 52,
      "metadata": {
        "colab": {
          "base_uri": "https://localhost:8080/"
        },
        "id": "44S2Y5vrYnF3",
        "outputId": "99185587-989a-4992-ba54-7a32ff15d8fb"
      },
      "outputs": [
        {
          "output_type": "stream",
          "name": "stdout",
          "text": [
            "[1]\n",
            "1\n"
          ]
        }
      ],
      "source": [
        "print(knearest_model.predict(test_sample))\n",
        "print(test_result)"
      ]
    },
    {
      "cell_type": "code",
      "execution_count": 53,
      "metadata": {
        "colab": {
          "base_uri": "https://localhost:8080/"
        },
        "id": "Gc2uLLabGVQa",
        "outputId": "892baa4d-99c2-4bda-ef9c-6557641ced4f"
      },
      "outputs": [
        {
          "output_type": "execute_result",
          "data": {
            "text/plain": [
              "array([[0.25, 0.5 , 0.  , 0.  , 0.25]])"
            ]
          },
          "metadata": {},
          "execution_count": 53
        }
      ],
      "source": [
        "probabilidades_prediccion = knearest_model.predict_proba(test_sample)\n",
        "probabilidades_prediccion"
      ]
    }
  ],
  "metadata": {
    "colab": {
      "collapsed_sections": [
        "t3yhULSwM1bi",
        "5BPPzKUaHVfY",
        "wtPUDB4SYAsh"
      ],
      "name": "NEW_segunda_entrega_seleccion.ipynb",
      "provenance": []
    },
    "interpreter": {
      "hash": "d0fd3259a0ae7798bf28b9ed97f5d4d70eaf745bfa37ff3042465361f4141f08"
    },
    "kernelspec": {
      "display_name": "Python 3 (ipykernel)",
      "language": "python",
      "name": "python3"
    },
    "language_info": {
      "codemirror_mode": {
        "name": "ipython",
        "version": 3
      },
      "file_extension": ".py",
      "mimetype": "text/x-python",
      "name": "python",
      "nbconvert_exporter": "python",
      "pygments_lexer": "ipython3",
      "version": "3.9.7"
    }
  },
  "nbformat": 4,
  "nbformat_minor": 0
}