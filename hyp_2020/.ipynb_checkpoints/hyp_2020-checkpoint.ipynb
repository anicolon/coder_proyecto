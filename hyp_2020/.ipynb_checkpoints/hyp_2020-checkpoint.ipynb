{
 "cells": [
  {
   "cell_type": "code",
   "execution_count": 1,
   "id": "890c0c52",
   "metadata": {
    "colab": {
     "base_uri": "https://localhost:8080/"
    },
    "executionInfo": {
     "elapsed": 3668,
     "status": "ok",
     "timestamp": 1630614475712,
     "user": {
      "displayName": "Andy Nicolón",
      "photoUrl": "https://lh3.googleusercontent.com/a-/AOh14Ggdjr_wvrps129lCKPMFcAm4H3KsbYN0eUakr5_oQ=s64",
      "userId": "09514318996408391655"
     },
     "user_tz": 180
    },
    "id": "1172c179-0cd4-4c86-9c23-e10a0a73a315",
    "outputId": "9f84e330-a100-48a8-82db-a124be99fe3e"
   },
   "outputs": [],
   "source": [
    "import pandas as pd\n",
    "import numpy as np\n",
    "import matplotlib.pyplot as plt\n",
    "import seaborn as sns\n",
    "sns.set()"
   ]
  },
  {
   "cell_type": "code",
   "execution_count": 2,
   "id": "e636cec2",
   "metadata": {
    "id": "I5_lAvQeEFTM"
   },
   "outputs": [],
   "source": [
    "df = pd.read_spss('HyP_2020_Terceros.sav')"
   ]
  },
  {
   "cell_type": "code",
   "execution_count": 3,
   "id": "5ab0b75e",
   "metadata": {
    "colab": {
     "base_uri": "https://localhost:8080/",
     "height": 644
    },
    "executionInfo": {
     "elapsed": 15,
     "status": "ok",
     "timestamp": 1630614533384,
     "user": {
      "displayName": "Andy Nicolón",
      "photoUrl": "https://lh3.googleusercontent.com/a-/AOh14Ggdjr_wvrps129lCKPMFcAm4H3KsbYN0eUakr5_oQ=s64",
      "userId": "09514318996408391655"
     },
     "user_tz": 180
    },
    "id": "_ymYU4JkDl8e",
    "outputId": "ff46b035-24f2-4ac4-d72c-d020e977299f"
   },
   "outputs": [
    {
     "data": {
      "text/html": [
       "<div>\n",
       "<style scoped>\n",
       "    .dataframe tbody tr th:only-of-type {\n",
       "        vertical-align: middle;\n",
       "    }\n",
       "\n",
       "    .dataframe tbody tr th {\n",
       "        vertical-align: top;\n",
       "    }\n",
       "\n",
       "    .dataframe thead th {\n",
       "        text-align: right;\n",
       "    }\n",
       "</style>\n",
       "<table border=\"1\" class=\"dataframe\">\n",
       "  <thead>\n",
       "    <tr style=\"text-align: right;\">\n",
       "      <th></th>\n",
       "      <th>numero</th>\n",
       "      <th>nper</th>\n",
       "      <th>hogar</th>\n",
       "      <th>anio</th>\n",
       "      <th>mes</th>\n",
       "      <th>sem</th>\n",
       "      <th>dpto</th>\n",
       "      <th>region_3</th>\n",
       "      <th>region_4</th>\n",
       "      <th>loc_agr_13</th>\n",
       "      <th>...</th>\n",
       "      <th>e224_1</th>\n",
       "      <th>e225</th>\n",
       "      <th>e51_11</th>\n",
       "      <th>e226_1</th>\n",
       "      <th>e212</th>\n",
       "      <th>e212_1</th>\n",
       "      <th>e213</th>\n",
       "      <th>e51_7</th>\n",
       "      <th>e51_7_1</th>\n",
       "      <th>e214_1</th>\n",
       "    </tr>\n",
       "  </thead>\n",
       "  <tbody>\n",
       "    <tr>\n",
       "      <th>91820</th>\n",
       "      <td>47723</td>\n",
       "      <td>2.0</td>\n",
       "      <td>Caso duplicado</td>\n",
       "      <td>2020</td>\n",
       "      <td>Diciembre</td>\n",
       "      <td>48</td>\n",
       "      <td>Rivera</td>\n",
       "      <td>02</td>\n",
       "      <td>Interior, localidades de 5000 habitantes o más</td>\n",
       "      <td>13020</td>\n",
       "      <td>...</td>\n",
       "      <td>0.0</td>\n",
       "      <td>0.0</td>\n",
       "      <td>0.0</td>\n",
       "      <td>0.0</td>\n",
       "      <td>No asistió</td>\n",
       "      <td>0.0</td>\n",
       "      <td>0.0</td>\n",
       "      <td>0.0</td>\n",
       "      <td>0.0</td>\n",
       "      <td>0.0</td>\n",
       "    </tr>\n",
       "    <tr>\n",
       "      <th>120892</th>\n",
       "      <td>6483</td>\n",
       "      <td>2.0</td>\n",
       "      <td>Caso duplicado</td>\n",
       "      <td>2020</td>\n",
       "      <td>Marzo</td>\n",
       "      <td>12</td>\n",
       "      <td>Montevideo</td>\n",
       "      <td>01</td>\n",
       "      <td>Montevideo</td>\n",
       "      <td>01010</td>\n",
       "      <td>...</td>\n",
       "      <td>0.0</td>\n",
       "      <td>0.0</td>\n",
       "      <td>0.0</td>\n",
       "      <td>0.0</td>\n",
       "      <td>Sí, asistió</td>\n",
       "      <td>Sí</td>\n",
       "      <td>Privado</td>\n",
       "      <td>2.0</td>\n",
       "      <td>Ciclo Básico (liceo o CETP-UTU)</td>\n",
       "      <td>Programas Intermedios de Medicina</td>\n",
       "    </tr>\n",
       "    <tr>\n",
       "      <th>26380</th>\n",
       "      <td>21032</td>\n",
       "      <td>1.0</td>\n",
       "      <td>Caso primario</td>\n",
       "      <td>2020</td>\n",
       "      <td>Abril</td>\n",
       "      <td>14</td>\n",
       "      <td>Montevideo</td>\n",
       "      <td>01</td>\n",
       "      <td>Montevideo</td>\n",
       "      <td>01010</td>\n",
       "      <td>...</td>\n",
       "      <td>0.0</td>\n",
       "      <td>0.0</td>\n",
       "      <td>0.0</td>\n",
       "      <td>0.0</td>\n",
       "      <td>No asistió</td>\n",
       "      <td>0.0</td>\n",
       "      <td>0.0</td>\n",
       "      <td>0.0</td>\n",
       "      <td>0.0</td>\n",
       "      <td>0.0</td>\n",
       "    </tr>\n",
       "    <tr>\n",
       "      <th>67284</th>\n",
       "      <td>37769</td>\n",
       "      <td>4.0</td>\n",
       "      <td>Caso duplicado</td>\n",
       "      <td>2020</td>\n",
       "      <td>Junio</td>\n",
       "      <td>22</td>\n",
       "      <td>Colonia</td>\n",
       "      <td>02</td>\n",
       "      <td>Interior, localidades de 5000 habitantes o más</td>\n",
       "      <td>32050</td>\n",
       "      <td>...</td>\n",
       "      <td>0.0</td>\n",
       "      <td>0.0</td>\n",
       "      <td>0.0</td>\n",
       "      <td>0.0</td>\n",
       "      <td>0.0</td>\n",
       "      <td>0.0</td>\n",
       "      <td>0.0</td>\n",
       "      <td>0.0</td>\n",
       "      <td>0.0</td>\n",
       "      <td>0.0</td>\n",
       "    </tr>\n",
       "    <tr>\n",
       "      <th>28934</th>\n",
       "      <td>22454</td>\n",
       "      <td>2.0</td>\n",
       "      <td>Caso duplicado</td>\n",
       "      <td>2020</td>\n",
       "      <td>Octubre</td>\n",
       "      <td>38</td>\n",
       "      <td>Montevideo</td>\n",
       "      <td>01</td>\n",
       "      <td>Montevideo</td>\n",
       "      <td>01010</td>\n",
       "      <td>...</td>\n",
       "      <td>Sí</td>\n",
       "      <td>Público</td>\n",
       "      <td>3.0</td>\n",
       "      <td>Programas Superiores de Medicina</td>\n",
       "      <td>No asistió</td>\n",
       "      <td>0.0</td>\n",
       "      <td>0.0</td>\n",
       "      <td>0.0</td>\n",
       "      <td>0.0</td>\n",
       "      <td>0.0</td>\n",
       "    </tr>\n",
       "  </tbody>\n",
       "</table>\n",
       "<p>5 rows × 430 columns</p>\n",
       "</div>"
      ],
      "text/plain": [
       "       numero  nper           hogar  anio        mes sem        dpto region_3  \\\n",
       "91820   47723   2.0  Caso duplicado  2020  Diciembre  48      Rivera       02   \n",
       "120892   6483   2.0  Caso duplicado  2020      Marzo  12  Montevideo       01   \n",
       "26380   21032   1.0   Caso primario  2020      Abril  14  Montevideo       01   \n",
       "67284   37769   4.0  Caso duplicado  2020      Junio  22     Colonia       02   \n",
       "28934   22454   2.0  Caso duplicado  2020    Octubre  38  Montevideo       01   \n",
       "\n",
       "                                              region_4 loc_agr_13  ... e224_1  \\\n",
       "91820   Interior, localidades de 5000 habitantes o más      13020  ...    0.0   \n",
       "120892                                      Montevideo      01010  ...    0.0   \n",
       "26380                                       Montevideo      01010  ...    0.0   \n",
       "67284   Interior, localidades de 5000 habitantes o más      32050  ...    0.0   \n",
       "28934                                       Montevideo      01010  ...     Sí   \n",
       "\n",
       "           e225 e51_11                            e226_1         e212  e212_1  \\\n",
       "91820       0.0    0.0                               0.0   No asistió     0.0   \n",
       "120892      0.0    0.0                               0.0  Sí, asistió      Sí   \n",
       "26380       0.0    0.0                               0.0   No asistió     0.0   \n",
       "67284       0.0    0.0                               0.0          0.0     0.0   \n",
       "28934   Público    3.0  Programas Superiores de Medicina   No asistió     0.0   \n",
       "\n",
       "           e213  e51_7                          e51_7_1  \\\n",
       "91820       0.0    0.0                              0.0   \n",
       "120892  Privado    2.0  Ciclo Básico (liceo o CETP-UTU)   \n",
       "26380       0.0    0.0                              0.0   \n",
       "67284       0.0    0.0                              0.0   \n",
       "28934       0.0    0.0                              0.0   \n",
       "\n",
       "                                   e214_1  \n",
       "91820                                 0.0  \n",
       "120892  Programas Intermedios de Medicina  \n",
       "26380                                 0.0  \n",
       "67284                                 0.0  \n",
       "28934                                 0.0  \n",
       "\n",
       "[5 rows x 430 columns]"
      ]
     },
     "execution_count": 3,
     "metadata": {},
     "output_type": "execute_result"
    }
   ],
   "source": [
    "df.sample(5)"
   ]
  },
  {
   "cell_type": "code",
   "execution_count": 4,
   "id": "d9ad9da3",
   "metadata": {
    "colab": {
     "base_uri": "https://localhost:8080/"
    },
    "executionInfo": {
     "elapsed": 14,
     "status": "ok",
     "timestamp": 1630614534005,
     "user": {
      "displayName": "Andy Nicolón",
      "photoUrl": "https://lh3.googleusercontent.com/a-/AOh14Ggdjr_wvrps129lCKPMFcAm4H3KsbYN0eUakr5_oQ=s64",
      "userId": "09514318996408391655"
     },
     "user_tz": 180
    },
    "id": "Lh4ZQtyWDl8e",
    "outputId": "b20bf977-0502-420d-9023-b12dd51526dc"
   },
   "outputs": [
    {
     "data": {
      "text/plain": [
       "['e45_cv',\n",
       " 'e45_1_1_cv',\n",
       " 'e45_1_1_1_cv',\n",
       " 'e45_2_1_cv',\n",
       " 'e45_2_1_1_cv',\n",
       " 'e45_3_1_cv',\n",
       " 'e45_3_1_1_cv',\n",
       " 'e45_4_1_cv',\n",
       " 'e45_4_1_1_cv',\n",
       " 'e46_cv',\n",
       " 'e47_cv',\n",
       " 'e47_1_cv',\n",
       " 'e49_cv',\n",
       " 'e50_cv',\n",
       " 'e196_cv',\n",
       " 'e196_1_cv',\n",
       " 'e196_2_cv',\n",
       " 'e196_3_cv',\n",
       " 'e562_cv',\n",
       " 'f69_1',\n",
       " 'f275_1',\n",
       " 'f85_1',\n",
       " 'f98_1',\n",
       " 'f98_2',\n",
       " 'f98_3',\n",
       " 'f121',\n",
       " 'YHOG']"
      ]
     },
     "execution_count": 4,
     "metadata": {},
     "output_type": "execute_result"
    }
   ],
   "source": [
    "#df.columns\n",
    "\n",
    "df.columns[df.isna().any()].tolist()"
   ]
  },
  {
   "cell_type": "code",
   "execution_count": 5,
   "id": "2764e108",
   "metadata": {
    "colab": {
     "base_uri": "https://localhost:8080/"
    },
    "executionInfo": {
     "elapsed": 13,
     "status": "ok",
     "timestamp": 1630614534006,
     "user": {
      "displayName": "Andy Nicolón",
      "photoUrl": "https://lh3.googleusercontent.com/a-/AOh14Ggdjr_wvrps129lCKPMFcAm4H3KsbYN0eUakr5_oQ=s64",
      "userId": "09514318996408391655"
     },
     "user_tz": 180
    },
    "id": "kouOvHuADl8f",
    "outputId": "e5682412-d6f9-4118-ef81-bd0165a1215f"
   },
   "outputs": [
    {
     "name": "stdout",
     "output_type": "stream",
     "text": [
      "<class 'pandas.core.frame.DataFrame'>\n",
      "RangeIndex: 145166 entries, 0 to 145165\n",
      "Columns: 430 entries, numero to e214_1\n",
      "dtypes: category(218), float64(204), object(8)\n",
      "memory usage: 266.0+ MB\n"
     ]
    }
   ],
   "source": [
    "df.info()"
   ]
  },
  {
   "cell_type": "code",
   "execution_count": 6,
   "id": "37bcf9f0",
   "metadata": {
    "colab": {
     "base_uri": "https://localhost:8080/"
    },
    "executionInfo": {
     "elapsed": 11,
     "status": "ok",
     "timestamp": 1630614534006,
     "user": {
      "displayName": "Andy Nicolón",
      "photoUrl": "https://lh3.googleusercontent.com/a-/AOh14Ggdjr_wvrps129lCKPMFcAm4H3KsbYN0eUakr5_oQ=s64",
      "userId": "09514318996408391655"
     },
     "user_tz": 180
    },
    "id": "5GZeFodTzkkd",
    "outputId": "b7431844-d8cc-4ec9-871d-2a6fc1d551bf"
   },
   "outputs": [
    {
     "data": {
      "text/plain": [
       "Ocupados                                      43.915242\n",
       "Inactivo, jubilado                            16.902029\n",
       "Menor 14 años                                 15.480898\n",
       "Inactivo, estudiante                           8.152735\n",
       "Inactivo, realiza los quehaceres del hogar     5.433779\n",
       "Inactivo, pensionista                          3.998870\n",
       "Desocupados propiamente dichos                 3.600705\n",
       "Inactivo, otro                                 1.193806\n",
       "Desocupados BT1V                               0.688867\n",
       "Inactivo, rentista                             0.340989\n",
       "Desocupados en seguro de desempleo             0.292079\n",
       "Name: pobpcoac, dtype: float64"
      ]
     },
     "execution_count": 6,
     "metadata": {},
     "output_type": "execute_result"
    }
   ],
   "source": [
    "df['pobpcoac'].value_counts() / len(df['pobpcoac']) * 100"
   ]
  },
  {
   "cell_type": "code",
   "execution_count": 7,
   "id": "09ccb2d1",
   "metadata": {
    "colab": {
     "base_uri": "https://localhost:8080/"
    },
    "executionInfo": {
     "elapsed": 10,
     "status": "ok",
     "timestamp": 1630614534007,
     "user": {
      "displayName": "Andy Nicolón",
      "photoUrl": "https://lh3.googleusercontent.com/a-/AOh14Ggdjr_wvrps129lCKPMFcAm4H3KsbYN0eUakr5_oQ=s64",
      "userId": "09514318996408391655"
     },
     "user_tz": 180
    },
    "id": "vxXg_e3undQ0",
    "outputId": "0cd1dbe0-bc3b-45df-f7da-7328ef5bcb00"
   },
   "outputs": [
    {
     "data": {
      "text/plain": [
       "2.0    78021\n",
       "1.0    67145\n",
       "Name: e26, dtype: int64"
      ]
     },
     "execution_count": 7,
     "metadata": {},
     "output_type": "execute_result"
    }
   ],
   "source": [
    "df['e26'].value_counts()"
   ]
  },
  {
   "cell_type": "code",
   "execution_count": 8,
   "id": "e9696996",
   "metadata": {
    "colab": {
     "base_uri": "https://localhost:8080/"
    },
    "executionInfo": {
     "elapsed": 257,
     "status": "ok",
     "timestamp": 1630614553122,
     "user": {
      "displayName": "Andy Nicolón",
      "photoUrl": "https://lh3.googleusercontent.com/a-/AOh14Ggdjr_wvrps129lCKPMFcAm4H3KsbYN0eUakr5_oQ=s64",
      "userId": "09514318996408391655"
     },
     "user_tz": 180
    },
    "id": "ewF3bnv-MI7K",
    "outputId": "60001f93-63b1-4038-beb2-73009733b1cb"
   },
   "outputs": [
    {
     "data": {
      "text/plain": [
       "Blanca                 100906\n",
       "Asiática o amarilla     33768\n",
       "Afro o negra             5202\n",
       "Sin dato                 3462\n",
       "Indígena                 1807\n",
       "Otra                       21\n",
       "Name: e29_6, dtype: int64"
      ]
     },
     "execution_count": 8,
     "metadata": {},
     "output_type": "execute_result"
    }
   ],
   "source": [
    "df['e29_6'].value_counts()"
   ]
  },
  {
   "cell_type": "code",
   "execution_count": 9,
   "id": "4c486091",
   "metadata": {
    "colab": {
     "base_uri": "https://localhost:8080/"
    },
    "executionInfo": {
     "elapsed": 302,
     "status": "ok",
     "timestamp": 1630615331560,
     "user": {
      "displayName": "Andy Nicolón",
      "photoUrl": "https://lh3.googleusercontent.com/a-/AOh14Ggdjr_wvrps129lCKPMFcAm4H3KsbYN0eUakr5_oQ=s64",
      "userId": "09514318996408391655"
     },
     "user_tz": 180
    },
    "id": "HWbmytv9MRjr",
    "outputId": "8d3c6d8e-158f-4a55-f291-9a993634af88"
   },
   "outputs": [
    {
     "data": {
      "text/plain": [
       "Blanca                 69.510767\n",
       "Asiática o amarilla    23.261645\n",
       "Afro o negra            3.583484\n",
       "Sin dato                2.384856\n",
       "Indígena                1.244782\n",
       "Otra                    0.014466\n",
       "Name: e29_6, dtype: float64"
      ]
     },
     "execution_count": 9,
     "metadata": {},
     "output_type": "execute_result"
    }
   ],
   "source": [
    "asc_princ = df['e29_6'].value_counts() / len(df['e29_6']) * 100\n",
    "\n",
    "asc_princ"
   ]
  },
  {
   "cell_type": "code",
   "execution_count": null,
   "id": "343247e6",
   "metadata": {},
   "outputs": [],
   "source": []
  }
 ],
 "metadata": {
  "colab": {
   "collapsed_sections": [],
   "name": "hyp_2020.ipynb",
   "provenance": []
  },
  "interpreter": {
   "hash": "aee8b7b246df8f9039afb4144a1f6fd8d2ca17a180786b69acc140d282b71a49"
  },
  "kernelspec": {
   "display_name": "Python 3",
   "language": "python",
   "name": "python3"
  },
  "language_info": {
   "codemirror_mode": {
    "name": "ipython",
    "version": 3
   },
   "file_extension": ".py",
   "mimetype": "text/x-python",
   "name": "python",
   "nbconvert_exporter": "python",
   "pygments_lexer": "ipython3",
   "version": "3.9.4"
  }
 },
 "nbformat": 4,
 "nbformat_minor": 5
}
