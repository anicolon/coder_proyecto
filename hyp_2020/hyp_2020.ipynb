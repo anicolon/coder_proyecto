{
 "cells": [
  {
   "cell_type": "markdown",
   "source": [
    "# Encuesta continua de hogares 2020"
   ],
   "metadata": {}
  },
  {
   "cell_type": "markdown",
   "source": [
    "### de acuerdo al nivel educativo cómo se comporta la promabilidad de una mujer de insertarse en el mercado de embpleo confomre aumenta su cantidad de hijos \n",
    "### dentro de cada nivel educativo cómo afecta la inserción en el mercado de embpleo para las mujeres conforme aumenta la cantidad de hijos"
   ],
   "metadata": {}
  },
  {
   "cell_type": "code",
   "execution_count": 1,
   "source": [
    "import pandas as pd\n",
    "import numpy as np\n",
    "import matplotlib.pyplot as plt\n",
    "import seaborn as sns\n",
    "sns.set()"
   ],
   "outputs": [],
   "metadata": {
    "colab": {
     "base_uri": "https://localhost:8080/"
    },
    "executionInfo": {
     "elapsed": 3668,
     "status": "ok",
     "timestamp": 1630614475712,
     "user": {
      "displayName": "Andy Nicolón",
      "photoUrl": "https://lh3.googleusercontent.com/a-/AOh14Ggdjr_wvrps129lCKPMFcAm4H3KsbYN0eUakr5_oQ=s64",
      "userId": "09514318996408391655"
     },
     "user_tz": 180
    },
    "id": "1172c179-0cd4-4c86-9c23-e10a0a73a315",
    "outputId": "9f84e330-a100-48a8-82db-a124be99fe3e"
   }
  },
  {
   "cell_type": "code",
   "execution_count": 2,
   "source": [
    "df = pd.read_spss('HyP_2020_Terceros.sav')"
   ],
   "outputs": [],
   "metadata": {
    "id": "I5_lAvQeEFTM"
   }
  },
  {
   "cell_type": "code",
   "execution_count": 3,
   "source": [
    "df.sample(5)"
   ],
   "outputs": [
    {
     "output_type": "execute_result",
     "data": {
      "text/html": [
       "<div>\n",
       "<style scoped>\n",
       "    .dataframe tbody tr th:only-of-type {\n",
       "        vertical-align: middle;\n",
       "    }\n",
       "\n",
       "    .dataframe tbody tr th {\n",
       "        vertical-align: top;\n",
       "    }\n",
       "\n",
       "    .dataframe thead th {\n",
       "        text-align: right;\n",
       "    }\n",
       "</style>\n",
       "<table border=\"1\" class=\"dataframe\">\n",
       "  <thead>\n",
       "    <tr style=\"text-align: right;\">\n",
       "      <th></th>\n",
       "      <th>numero</th>\n",
       "      <th>nper</th>\n",
       "      <th>hogar</th>\n",
       "      <th>anio</th>\n",
       "      <th>mes</th>\n",
       "      <th>sem</th>\n",
       "      <th>dpto</th>\n",
       "      <th>region_3</th>\n",
       "      <th>region_4</th>\n",
       "      <th>loc_agr_13</th>\n",
       "      <th>...</th>\n",
       "      <th>e224_1</th>\n",
       "      <th>e225</th>\n",
       "      <th>e51_11</th>\n",
       "      <th>e226_1</th>\n",
       "      <th>e212</th>\n",
       "      <th>e212_1</th>\n",
       "      <th>e213</th>\n",
       "      <th>e51_7</th>\n",
       "      <th>e51_7_1</th>\n",
       "      <th>e214_1</th>\n",
       "    </tr>\n",
       "  </thead>\n",
       "  <tbody>\n",
       "    <tr>\n",
       "      <th>27020</th>\n",
       "      <td>21402</td>\n",
       "      <td>2.0</td>\n",
       "      <td>Caso duplicado</td>\n",
       "      <td>2020</td>\n",
       "      <td>Noviembre</td>\n",
       "      <td>41</td>\n",
       "      <td>Tacuarembó</td>\n",
       "      <td>02</td>\n",
       "      <td>Interior, localidades de 5000 habitantes o más</td>\n",
       "      <td>18020</td>\n",
       "      <td>...</td>\n",
       "      <td>Sin dato</td>\n",
       "      <td>Sin dato</td>\n",
       "      <td>99.0</td>\n",
       "      <td>99.0</td>\n",
       "      <td>Sin dato</td>\n",
       "      <td>Sin dato</td>\n",
       "      <td>Sin dato</td>\n",
       "      <td>99.0</td>\n",
       "      <td>Sin dato</td>\n",
       "      <td>99.0</td>\n",
       "    </tr>\n",
       "    <tr>\n",
       "      <th>132968</th>\n",
       "      <td>21187</td>\n",
       "      <td>1.0</td>\n",
       "      <td>Caso primario</td>\n",
       "      <td>2020</td>\n",
       "      <td>Mayo</td>\n",
       "      <td>18</td>\n",
       "      <td>Montevideo</td>\n",
       "      <td>01</td>\n",
       "      <td>Montevideo</td>\n",
       "      <td>01010</td>\n",
       "      <td>...</td>\n",
       "      <td>0.0</td>\n",
       "      <td>0.0</td>\n",
       "      <td>0.0</td>\n",
       "      <td>0.0</td>\n",
       "      <td>No asistió</td>\n",
       "      <td>0.0</td>\n",
       "      <td>0.0</td>\n",
       "      <td>0.0</td>\n",
       "      <td>0.0</td>\n",
       "      <td>0.0</td>\n",
       "    </tr>\n",
       "    <tr>\n",
       "      <th>128131</th>\n",
       "      <td>9456</td>\n",
       "      <td>2.0</td>\n",
       "      <td>Caso duplicado</td>\n",
       "      <td>2020</td>\n",
       "      <td>Agosto</td>\n",
       "      <td>29</td>\n",
       "      <td>Montevideo</td>\n",
       "      <td>01</td>\n",
       "      <td>Montevideo</td>\n",
       "      <td>01010</td>\n",
       "      <td>...</td>\n",
       "      <td>0.0</td>\n",
       "      <td>0.0</td>\n",
       "      <td>0.0</td>\n",
       "      <td>0.0</td>\n",
       "      <td>No asistió</td>\n",
       "      <td>0.0</td>\n",
       "      <td>0.0</td>\n",
       "      <td>0.0</td>\n",
       "      <td>0.0</td>\n",
       "      <td>0.0</td>\n",
       "    </tr>\n",
       "    <tr>\n",
       "      <th>127963</th>\n",
       "      <td>9379</td>\n",
       "      <td>2.0</td>\n",
       "      <td>Caso duplicado</td>\n",
       "      <td>2020</td>\n",
       "      <td>Agosto</td>\n",
       "      <td>31</td>\n",
       "      <td>Montevideo</td>\n",
       "      <td>01</td>\n",
       "      <td>Montevideo</td>\n",
       "      <td>01010</td>\n",
       "      <td>...</td>\n",
       "      <td>0.0</td>\n",
       "      <td>0.0</td>\n",
       "      <td>0.0</td>\n",
       "      <td>0.0</td>\n",
       "      <td>No asistió</td>\n",
       "      <td>0.0</td>\n",
       "      <td>0.0</td>\n",
       "      <td>0.0</td>\n",
       "      <td>0.0</td>\n",
       "      <td>0.0</td>\n",
       "    </tr>\n",
       "    <tr>\n",
       "      <th>24115</th>\n",
       "      <td>20047</td>\n",
       "      <td>1.0</td>\n",
       "      <td>Caso primario</td>\n",
       "      <td>2020</td>\n",
       "      <td>Mayo</td>\n",
       "      <td>18</td>\n",
       "      <td>Montevideo</td>\n",
       "      <td>01</td>\n",
       "      <td>Montevideo</td>\n",
       "      <td>01010</td>\n",
       "      <td>...</td>\n",
       "      <td>0.0</td>\n",
       "      <td>0.0</td>\n",
       "      <td>0.0</td>\n",
       "      <td>0.0</td>\n",
       "      <td>No asistió</td>\n",
       "      <td>0.0</td>\n",
       "      <td>0.0</td>\n",
       "      <td>0.0</td>\n",
       "      <td>0.0</td>\n",
       "      <td>0.0</td>\n",
       "    </tr>\n",
       "  </tbody>\n",
       "</table>\n",
       "<p>5 rows × 430 columns</p>\n",
       "</div>"
      ],
      "text/plain": [
       "       numero  nper           hogar  anio        mes sem        dpto region_3  \\\n",
       "27020   21402   2.0  Caso duplicado  2020  Noviembre  41  Tacuarembó       02   \n",
       "132968  21187   1.0   Caso primario  2020       Mayo  18  Montevideo       01   \n",
       "128131   9456   2.0  Caso duplicado  2020     Agosto  29  Montevideo       01   \n",
       "127963   9379   2.0  Caso duplicado  2020     Agosto  31  Montevideo       01   \n",
       "24115   20047   1.0   Caso primario  2020       Mayo  18  Montevideo       01   \n",
       "\n",
       "                                              region_4 loc_agr_13  ...  \\\n",
       "27020   Interior, localidades de 5000 habitantes o más      18020  ...   \n",
       "132968                                      Montevideo      01010  ...   \n",
       "128131                                      Montevideo      01010  ...   \n",
       "127963                                      Montevideo      01010  ...   \n",
       "24115                                       Montevideo      01010  ...   \n",
       "\n",
       "          e224_1      e225 e51_11  e226_1        e212    e212_1      e213  \\\n",
       "27020   Sin dato  Sin dato   99.0    99.0    Sin dato  Sin dato  Sin dato   \n",
       "132968       0.0       0.0    0.0     0.0  No asistió       0.0       0.0   \n",
       "128131       0.0       0.0    0.0     0.0  No asistió       0.0       0.0   \n",
       "127963       0.0       0.0    0.0     0.0  No asistió       0.0       0.0   \n",
       "24115        0.0       0.0    0.0     0.0  No asistió       0.0       0.0   \n",
       "\n",
       "        e51_7   e51_7_1  e214_1  \n",
       "27020    99.0  Sin dato    99.0  \n",
       "132968    0.0       0.0     0.0  \n",
       "128131    0.0       0.0     0.0  \n",
       "127963    0.0       0.0     0.0  \n",
       "24115     0.0       0.0     0.0  \n",
       "\n",
       "[5 rows x 430 columns]"
      ]
     },
     "metadata": {},
     "execution_count": 3
    }
   ],
   "metadata": {
    "colab": {
     "base_uri": "https://localhost:8080/",
     "height": 644
    },
    "executionInfo": {
     "elapsed": 15,
     "status": "ok",
     "timestamp": 1630614533384,
     "user": {
      "displayName": "Andy Nicolón",
      "photoUrl": "https://lh3.googleusercontent.com/a-/AOh14Ggdjr_wvrps129lCKPMFcAm4H3KsbYN0eUakr5_oQ=s64",
      "userId": "09514318996408391655"
     },
     "user_tz": 180
    },
    "id": "_ymYU4JkDl8e",
    "outputId": "ff46b035-24f2-4ac4-d72c-d020e977299f"
   }
  },
  {
   "cell_type": "code",
   "execution_count": 14,
   "source": [
    "#df.columns\n",
    "\n",
    "# df.columns[df.isna().any()].tolist()\n",
    "\n",
    "round(df.isnull().sum() / len(df) * 100,1).sort_values(ascending=False)"
   ],
   "outputs": [
    {
     "output_type": "execute_result",
     "data": {
      "text/plain": [
       "e49_cv          11.4\n",
       "f98_3           11.4\n",
       "e45_2_1_cv      11.4\n",
       "e45_1_1_1_cv    11.4\n",
       "e45_1_1_cv      11.4\n",
       "                ... \n",
       "g126_8           0.0\n",
       "g126_7           0.0\n",
       "g126_6           0.0\n",
       "g126_5           0.0\n",
       "e214_1           0.0\n",
       "Length: 430, dtype: float64"
      ]
     },
     "metadata": {},
     "execution_count": 14
    }
   ],
   "metadata": {
    "colab": {
     "base_uri": "https://localhost:8080/"
    },
    "executionInfo": {
     "elapsed": 14,
     "status": "ok",
     "timestamp": 1630614534005,
     "user": {
      "displayName": "Andy Nicolón",
      "photoUrl": "https://lh3.googleusercontent.com/a-/AOh14Ggdjr_wvrps129lCKPMFcAm4H3KsbYN0eUakr5_oQ=s64",
      "userId": "09514318996408391655"
     },
     "user_tz": 180
    },
    "id": "Lh4ZQtyWDl8e",
    "outputId": "b20bf977-0502-420d-9023-b12dd51526dc"
   }
  },
  {
   "cell_type": "code",
   "execution_count": 5,
   "source": [
    "df.info()"
   ],
   "outputs": [
    {
     "output_type": "stream",
     "name": "stdout",
     "text": [
      "<class 'pandas.core.frame.DataFrame'>\n",
      "RangeIndex: 145166 entries, 0 to 145165\n",
      "Columns: 430 entries, numero to e214_1\n",
      "dtypes: category(218), float64(204), object(8)\n",
      "memory usage: 266.0+ MB\n"
     ]
    }
   ],
   "metadata": {
    "colab": {
     "base_uri": "https://localhost:8080/"
    },
    "executionInfo": {
     "elapsed": 13,
     "status": "ok",
     "timestamp": 1630614534006,
     "user": {
      "displayName": "Andy Nicolón",
      "photoUrl": "https://lh3.googleusercontent.com/a-/AOh14Ggdjr_wvrps129lCKPMFcAm4H3KsbYN0eUakr5_oQ=s64",
      "userId": "09514318996408391655"
     },
     "user_tz": 180
    },
    "id": "kouOvHuADl8f",
    "outputId": "e5682412-d6f9-4118-ef81-bd0165a1215f"
   }
  },
  {
   "cell_type": "code",
   "execution_count": 6,
   "source": [
    "df['pobpcoac'].value_counts() / len(df['pobpcoac']) * 100"
   ],
   "outputs": [
    {
     "output_type": "execute_result",
     "data": {
      "text/plain": [
       "Ocupados                                      43.915242\n",
       "Inactivo, jubilado                            16.902029\n",
       "Menor 14 años                                 15.480898\n",
       "Inactivo, estudiante                           8.152735\n",
       "Inactivo, realiza los quehaceres del hogar     5.433779\n",
       "Inactivo, pensionista                          3.998870\n",
       "Desocupados propiamente dichos                 3.600705\n",
       "Inactivo, otro                                 1.193806\n",
       "Desocupados BT1V                               0.688867\n",
       "Inactivo, rentista                             0.340989\n",
       "Desocupados en seguro de desempleo             0.292079\n",
       "Name: pobpcoac, dtype: float64"
      ]
     },
     "metadata": {},
     "execution_count": 6
    }
   ],
   "metadata": {
    "colab": {
     "base_uri": "https://localhost:8080/"
    },
    "executionInfo": {
     "elapsed": 11,
     "status": "ok",
     "timestamp": 1630614534006,
     "user": {
      "displayName": "Andy Nicolón",
      "photoUrl": "https://lh3.googleusercontent.com/a-/AOh14Ggdjr_wvrps129lCKPMFcAm4H3KsbYN0eUakr5_oQ=s64",
      "userId": "09514318996408391655"
     },
     "user_tz": 180
    },
    "id": "5GZeFodTzkkd",
    "outputId": "b7431844-d8cc-4ec9-871d-2a6fc1d551bf"
   }
  },
  {
   "cell_type": "code",
   "execution_count": 7,
   "source": [
    "df['e26'].value_counts()"
   ],
   "outputs": [
    {
     "output_type": "execute_result",
     "data": {
      "text/plain": [
       "2.0    78021\n",
       "1.0    67145\n",
       "Name: e26, dtype: int64"
      ]
     },
     "metadata": {},
     "execution_count": 7
    }
   ],
   "metadata": {
    "colab": {
     "base_uri": "https://localhost:8080/"
    },
    "executionInfo": {
     "elapsed": 10,
     "status": "ok",
     "timestamp": 1630614534007,
     "user": {
      "displayName": "Andy Nicolón",
      "photoUrl": "https://lh3.googleusercontent.com/a-/AOh14Ggdjr_wvrps129lCKPMFcAm4H3KsbYN0eUakr5_oQ=s64",
      "userId": "09514318996408391655"
     },
     "user_tz": 180
    },
    "id": "vxXg_e3undQ0",
    "outputId": "0cd1dbe0-bc3b-45df-f7da-7328ef5bcb00"
   }
  },
  {
   "cell_type": "code",
   "execution_count": 8,
   "source": [
    "asc_princ = df['e29_6'].value_counts()\n",
    "\n",
    "asc_princ_porcentage = df['e29_6'].value_counts() / len(df['e29_6']) * 100\n",
    "\n",
    "asc_princ\n",
    "asc_princ_porcentage"
   ],
   "outputs": [
    {
     "output_type": "execute_result",
     "data": {
      "text/plain": [
       "Blanca                 69.510767\n",
       "Asiática o amarilla    23.261645\n",
       "Afro o negra            3.583484\n",
       "Sin dato                2.384856\n",
       "Indígena                1.244782\n",
       "Otra                    0.014466\n",
       "Name: e29_6, dtype: float64"
      ]
     },
     "metadata": {},
     "execution_count": 8
    }
   ],
   "metadata": {
    "colab": {
     "base_uri": "https://localhost:8080/"
    },
    "executionInfo": {
     "elapsed": 302,
     "status": "ok",
     "timestamp": 1630615331560,
     "user": {
      "displayName": "Andy Nicolón",
      "photoUrl": "https://lh3.googleusercontent.com/a-/AOh14Ggdjr_wvrps129lCKPMFcAm4H3KsbYN0eUakr5_oQ=s64",
      "userId": "09514318996408391655"
     },
     "user_tz": 180
    },
    "id": "HWbmytv9MRjr",
    "outputId": "8d3c6d8e-158f-4a55-f291-9a993634af88"
   }
  },
  {
   "cell_type": "code",
   "execution_count": 9,
   "source": [
    "df['e563'].value_counts()"
   ],
   "outputs": [
    {
     "output_type": "execute_result",
     "data": {
      "text/plain": [
       "Mujer                    69037\n",
       "Varón                    57429\n",
       "0.0                      18571\n",
       "Sin dato                    78\n",
       "Mujer trans                 29\n",
       "Varón trans                 14\n",
       "Otra                         6\n",
       "No sabe / No contesta        2\n",
       "Name: e563, dtype: int64"
      ]
     },
     "metadata": {},
     "execution_count": 9
    }
   ],
   "metadata": {}
  },
  {
   "cell_type": "code",
   "execution_count": 10,
   "source": [
    "df['e30'].value_counts()"
   ],
   "outputs": [
    {
     "output_type": "execute_result",
     "data": {
      "text/plain": [
       "Jefe/a de hogar                            58021\n",
       "Esposo/a o compañero/a                     31354\n",
       "Hijo/a de ambos                            27083\n",
       "Hijo/a solo del jefe/a                     15987\n",
       "Nieto/a                                     4233\n",
       "Hijo/a solo del esposo/a compañero/a        2288\n",
       "Padre/madre                                 1601\n",
       "Hermano/a                                   1070\n",
       "Otro pariente                                888\n",
       "Yerno/nuera                                  875\n",
       "Otro no pariente                             865\n",
       "Suegro/a                                     412\n",
       "Sin dato                                     316\n",
       "Cuñado/a                                     149\n",
       "Servicio doméstico o familiar del mismo       24\n",
       "Name: e30, dtype: int64"
      ]
     },
     "metadata": {},
     "execution_count": 10
    }
   ],
   "metadata": {}
  },
  {
   "cell_type": "code",
   "execution_count": 17,
   "source": [
    "#id hogar\n",
    "df['numero'].value_counts()\n"
   ],
   "outputs": [
    {
     "output_type": "execute_result",
     "data": {
      "text/plain": [
       "56535    16\n",
       "9287     13\n",
       "14619    13\n",
       "23586    13\n",
       "13445    12\n",
       "         ..\n",
       "2648      1\n",
       "26480     1\n",
       "26482     1\n",
       "26496     1\n",
       "9998      1\n",
       "Name: numero, Length: 58594, dtype: int64"
      ]
     },
     "metadata": {},
     "execution_count": 17
    }
   ],
   "metadata": {}
  },
  {
   "cell_type": "code",
   "execution_count": null,
   "source": [],
   "outputs": [],
   "metadata": {}
  }
 ],
 "metadata": {
  "colab": {
   "collapsed_sections": [],
   "name": "hyp_2020.ipynb",
   "provenance": []
  },
  "interpreter": {
   "hash": "d4df88ba5d09b1ee55aa97d8517d33c1c158d48563d8ede94477f8d1341926b0"
  },
  "kernelspec": {
   "name": "python3",
   "display_name": "Python 3.9.4 64-bit ('venv': venv)"
  },
  "language_info": {
   "codemirror_mode": {
    "name": "ipython",
    "version": 3
   },
   "file_extension": ".py",
   "mimetype": "text/x-python",
   "name": "python",
   "nbconvert_exporter": "python",
   "pygments_lexer": "ipython3",
   "version": "3.9.4"
  }
 },
 "nbformat": 4,
 "nbformat_minor": 5
}