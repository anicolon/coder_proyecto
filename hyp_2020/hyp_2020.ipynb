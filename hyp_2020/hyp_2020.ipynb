{
 "cells": [
  {
   "cell_type": "markdown",
   "metadata": {},
   "source": [
    "# Encuesta continua de hogares 2020"
   ]
  },
  {
   "cell_type": "markdown",
   "metadata": {},
   "source": [
    "### Cuánto afecta el nivel eductativo y la cantidad de hijos a las posibilidades de inserción laboral de una mujer"
   ]
  },
  {
   "cell_type": "code",
   "execution_count": 1,
   "metadata": {
    "colab": {
     "base_uri": "https://localhost:8080/"
    },
    "executionInfo": {
     "elapsed": 3668,
     "status": "ok",
     "timestamp": 1630614475712,
     "user": {
      "displayName": "Andy Nicolón",
      "photoUrl": "https://lh3.googleusercontent.com/a-/AOh14Ggdjr_wvrps129lCKPMFcAm4H3KsbYN0eUakr5_oQ=s64",
      "userId": "09514318996408391655"
     },
     "user_tz": 180
    },
    "id": "1172c179-0cd4-4c86-9c23-e10a0a73a315",
    "outputId": "9f84e330-a100-48a8-82db-a124be99fe3e"
   },
   "outputs": [],
   "source": [
    "import pandas as pd\n",
    "import numpy as np\n",
    "import matplotlib.pyplot as plt\n",
    "import seaborn as sns\n",
    "sns.set()\n",
    "\n"
   ]
  },
  {
   "cell_type": "code",
   "execution_count": 2,
   "metadata": {
    "id": "I5_lAvQeEFTM"
   },
   "outputs": [],
   "source": [
    "df = pd.read_spss('HyP_2020_Terceros.sav')\n",
    "\n",
    "df = df.rename(columns={\n",
    "    'numero': 'id_hogar',\n",
    "    'e26': 'sexo',\n",
    "    'e27': 'edad',\n",
    "    'e563': 'genero',\n",
    "    'e29_6': 'ascendencia',\n",
    "    'e30': 'parentesco',\n",
    "    'pobpcoac': 'estado_laboral',\n",
    "    'g126_1': 'sueldo'\n",
    "    })\n",
    "\n",
    "df = df[['id_hogar', 'sexo', 'edad', 'genero', 'ascendencia', 'parentesco', 'estado_laboral', 'nper', 'sueldo']]\n",
    "\n",
    "df['sexo'] = df['sexo'].apply(lambda x:'Masculino' if x == 1 else 'Femenino')\n",
    "df['nper'] = df['nper'].astype('category')"
   ]
  },
  {
   "cell_type": "code",
   "execution_count": 3,
   "metadata": {
    "colab": {
     "base_uri": "https://localhost:8080/",
     "height": 644
    },
    "executionInfo": {
     "elapsed": 15,
     "status": "ok",
     "timestamp": 1630614533384,
     "user": {
      "displayName": "Andy Nicolón",
      "photoUrl": "https://lh3.googleusercontent.com/a-/AOh14Ggdjr_wvrps129lCKPMFcAm4H3KsbYN0eUakr5_oQ=s64",
      "userId": "09514318996408391655"
     },
     "user_tz": 180
    },
    "id": "_ymYU4JkDl8e",
    "outputId": "ff46b035-24f2-4ac4-d72c-d020e977299f"
   },
   "outputs": [
    {
     "data": {
      "text/html": [
       "<div>\n",
       "<style scoped>\n",
       "    .dataframe tbody tr th:only-of-type {\n",
       "        vertical-align: middle;\n",
       "    }\n",
       "\n",
       "    .dataframe tbody tr th {\n",
       "        vertical-align: top;\n",
       "    }\n",
       "\n",
       "    .dataframe thead th {\n",
       "        text-align: right;\n",
       "    }\n",
       "</style>\n",
       "<table border=\"1\" class=\"dataframe\">\n",
       "  <thead>\n",
       "    <tr style=\"text-align: right;\">\n",
       "      <th></th>\n",
       "      <th>id_hogar</th>\n",
       "      <th>sexo</th>\n",
       "      <th>edad</th>\n",
       "      <th>genero</th>\n",
       "      <th>ascendencia</th>\n",
       "      <th>parentesco</th>\n",
       "      <th>estado_laboral</th>\n",
       "      <th>nper</th>\n",
       "      <th>sueldo</th>\n",
       "    </tr>\n",
       "  </thead>\n",
       "  <tbody>\n",
       "    <tr>\n",
       "      <th>11789</th>\n",
       "      <td>14619</td>\n",
       "      <td>Femenino</td>\n",
       "      <td>56.0</td>\n",
       "      <td>Mujer</td>\n",
       "      <td>Blanca</td>\n",
       "      <td>Jefe/a de hogar</td>\n",
       "      <td>Ocupados</td>\n",
       "      <td>1.0</td>\n",
       "      <td>0.0</td>\n",
       "    </tr>\n",
       "    <tr>\n",
       "      <th>35481</th>\n",
       "      <td>25009</td>\n",
       "      <td>Femenino</td>\n",
       "      <td>16.0</td>\n",
       "      <td>Mujer</td>\n",
       "      <td>Sin dato</td>\n",
       "      <td>Nieto/a</td>\n",
       "      <td>Inactivo, pensionista</td>\n",
       "      <td>5.0</td>\n",
       "      <td>0.0</td>\n",
       "    </tr>\n",
       "    <tr>\n",
       "      <th>39014</th>\n",
       "      <td>26381</td>\n",
       "      <td>Masculino</td>\n",
       "      <td>18.0</td>\n",
       "      <td>Varón</td>\n",
       "      <td>Blanca</td>\n",
       "      <td>Hijo/a solo del jefe/a</td>\n",
       "      <td>Ocupados</td>\n",
       "      <td>2.0</td>\n",
       "      <td>2500.0</td>\n",
       "    </tr>\n",
       "    <tr>\n",
       "      <th>49271</th>\n",
       "      <td>30435</td>\n",
       "      <td>Masculino</td>\n",
       "      <td>57.0</td>\n",
       "      <td>Varón</td>\n",
       "      <td>Blanca</td>\n",
       "      <td>Jefe/a de hogar</td>\n",
       "      <td>Ocupados</td>\n",
       "      <td>1.0</td>\n",
       "      <td>26000.0</td>\n",
       "    </tr>\n",
       "    <tr>\n",
       "      <th>99407</th>\n",
       "      <td>50886</td>\n",
       "      <td>Femenino</td>\n",
       "      <td>8.0</td>\n",
       "      <td>0.0</td>\n",
       "      <td>Blanca</td>\n",
       "      <td>Hijo/a de ambos</td>\n",
       "      <td>Menor 14 años</td>\n",
       "      <td>4.0</td>\n",
       "      <td>0.0</td>\n",
       "    </tr>\n",
       "  </tbody>\n",
       "</table>\n",
       "</div>"
      ],
      "text/plain": [
       "      id_hogar       sexo  edad genero ascendencia              parentesco  \\\n",
       "11789    14619   Femenino  56.0  Mujer      Blanca         Jefe/a de hogar   \n",
       "35481    25009   Femenino  16.0  Mujer    Sin dato                 Nieto/a   \n",
       "39014    26381  Masculino  18.0  Varón      Blanca  Hijo/a solo del jefe/a   \n",
       "49271    30435  Masculino  57.0  Varón      Blanca         Jefe/a de hogar   \n",
       "99407    50886   Femenino   8.0    0.0      Blanca         Hijo/a de ambos   \n",
       "\n",
       "              estado_laboral nper   sueldo  \n",
       "11789               Ocupados  1.0      0.0  \n",
       "35481  Inactivo, pensionista  5.0      0.0  \n",
       "39014               Ocupados  2.0   2500.0  \n",
       "49271               Ocupados  1.0  26000.0  \n",
       "99407          Menor 14 años  4.0      0.0  "
      ]
     },
     "execution_count": 3,
     "metadata": {},
     "output_type": "execute_result"
    }
   ],
   "source": [
    "df.sample(5)"
   ]
  },
  {
   "cell_type": "code",
   "execution_count": 4,
   "metadata": {
    "colab": {
     "base_uri": "https://localhost:8080/"
    },
    "executionInfo": {
     "elapsed": 13,
     "status": "ok",
     "timestamp": 1630614534006,
     "user": {
      "displayName": "Andy Nicolón",
      "photoUrl": "https://lh3.googleusercontent.com/a-/AOh14Ggdjr_wvrps129lCKPMFcAm4H3KsbYN0eUakr5_oQ=s64",
      "userId": "09514318996408391655"
     },
     "user_tz": 180
    },
    "id": "kouOvHuADl8f",
    "outputId": "e5682412-d6f9-4118-ef81-bd0165a1215f"
   },
   "outputs": [
    {
     "name": "stdout",
     "output_type": "stream",
     "text": [
      "<class 'pandas.core.frame.DataFrame'>\n",
      "RangeIndex: 145166 entries, 0 to 145165\n",
      "Data columns (total 9 columns):\n",
      " #   Column          Non-Null Count   Dtype   \n",
      "---  ------          --------------   -----   \n",
      " 0   id_hogar        145166 non-null  object  \n",
      " 1   sexo            145166 non-null  object  \n",
      " 2   edad            145166 non-null  float64 \n",
      " 3   genero          145166 non-null  category\n",
      " 4   ascendencia     145166 non-null  category\n",
      " 5   parentesco      145166 non-null  category\n",
      " 6   estado_laboral  145166 non-null  category\n",
      " 7   nper            145166 non-null  category\n",
      " 8   sueldo          145166 non-null  float64 \n",
      "dtypes: category(5), float64(2), object(2)\n",
      "memory usage: 5.1+ MB\n"
     ]
    }
   ],
   "source": [
    "df.info()"
   ]
  },
  {
   "cell_type": "code",
   "execution_count": 5,
   "metadata": {},
   "outputs": [
    {
     "data": {
      "text/html": [
       "<div>\n",
       "<style scoped>\n",
       "    .dataframe tbody tr th:only-of-type {\n",
       "        vertical-align: middle;\n",
       "    }\n",
       "\n",
       "    .dataframe tbody tr th {\n",
       "        vertical-align: top;\n",
       "    }\n",
       "\n",
       "    .dataframe thead th {\n",
       "        text-align: right;\n",
       "    }\n",
       "</style>\n",
       "<table border=\"1\" class=\"dataframe\">\n",
       "  <thead>\n",
       "    <tr style=\"text-align: right;\">\n",
       "      <th></th>\n",
       "      <th>count</th>\n",
       "      <th>mean</th>\n",
       "      <th>std</th>\n",
       "      <th>min</th>\n",
       "      <th>25%</th>\n",
       "      <th>50%</th>\n",
       "      <th>75%</th>\n",
       "      <th>max</th>\n",
       "    </tr>\n",
       "  </thead>\n",
       "  <tbody>\n",
       "    <tr>\n",
       "      <th>edad</th>\n",
       "      <td>145166.0</td>\n",
       "      <td>41.179684</td>\n",
       "      <td>23.657247</td>\n",
       "      <td>0.0</td>\n",
       "      <td>20.0</td>\n",
       "      <td>42.0</td>\n",
       "      <td>60.0</td>\n",
       "      <td>98.0</td>\n",
       "    </tr>\n",
       "    <tr>\n",
       "      <th>sueldo</th>\n",
       "      <td>145166.0</td>\n",
       "      <td>9711.315577</td>\n",
       "      <td>20269.848604</td>\n",
       "      <td>0.0</td>\n",
       "      <td>0.0</td>\n",
       "      <td>0.0</td>\n",
       "      <td>15000.0</td>\n",
       "      <td>600000.0</td>\n",
       "    </tr>\n",
       "  </tbody>\n",
       "</table>\n",
       "</div>"
      ],
      "text/plain": [
       "           count         mean           std  min   25%   50%      75%  \\\n",
       "edad    145166.0    41.179684     23.657247  0.0  20.0  42.0     60.0   \n",
       "sueldo  145166.0  9711.315577  20269.848604  0.0   0.0   0.0  15000.0   \n",
       "\n",
       "             max  \n",
       "edad        98.0  \n",
       "sueldo  600000.0  "
      ]
     },
     "execution_count": 5,
     "metadata": {},
     "output_type": "execute_result"
    }
   ],
   "source": [
    "df.describe().transpose()"
   ]
  },
  {
   "cell_type": "code",
   "execution_count": 6,
   "metadata": {
    "colab": {
     "base_uri": "https://localhost:8080/"
    },
    "executionInfo": {
     "elapsed": 11,
     "status": "ok",
     "timestamp": 1630614534006,
     "user": {
      "displayName": "Andy Nicolón",
      "photoUrl": "https://lh3.googleusercontent.com/a-/AOh14Ggdjr_wvrps129lCKPMFcAm4H3KsbYN0eUakr5_oQ=s64",
      "userId": "09514318996408391655"
     },
     "user_tz": 180
    },
    "id": "5GZeFodTzkkd",
    "outputId": "b7431844-d8cc-4ec9-871d-2a6fc1d551bf"
   },
   "outputs": [
    {
     "data": {
      "text/plain": [
       "Ocupados                                      43.915242\n",
       "Inactivo, jubilado                            16.902029\n",
       "Menor 14 años                                 15.480898\n",
       "Inactivo, estudiante                           8.152735\n",
       "Inactivo, realiza los quehaceres del hogar     5.433779\n",
       "Inactivo, pensionista                          3.998870\n",
       "Desocupados propiamente dichos                 3.600705\n",
       "Inactivo, otro                                 1.193806\n",
       "Desocupados BT1V                               0.688867\n",
       "Inactivo, rentista                             0.340989\n",
       "Desocupados en seguro de desempleo             0.292079\n",
       "Name: estado_laboral, dtype: float64"
      ]
     },
     "execution_count": 6,
     "metadata": {},
     "output_type": "execute_result"
    }
   ],
   "source": [
    "df['estado_laboral'].value_counts() / len(df['estado_laboral']) * 100"
   ]
  },
  {
   "cell_type": "markdown",
   "metadata": {},
   "source": [
    "## Género"
   ]
  },
  {
   "cell_type": "code",
   "execution_count": 7,
   "metadata": {},
   "outputs": [
    {
     "data": {
      "text/plain": [
       "Mujer                    69037\n",
       "Varón                    57429\n",
       "0.0                      18571\n",
       "Sin dato                    78\n",
       "Mujer trans                 29\n",
       "Varón trans                 14\n",
       "Otra                         6\n",
       "No sabe / No contesta        2\n",
       "Name: genero, dtype: int64"
      ]
     },
     "execution_count": 7,
     "metadata": {},
     "output_type": "execute_result"
    }
   ],
   "source": [
    "df['genero'].value_counts()"
   ]
  },
  {
   "cell_type": "markdown",
   "metadata": {},
   "source": [
    "## Ascendencia"
   ]
  },
  {
   "cell_type": "code",
   "execution_count": 8,
   "metadata": {
    "colab": {
     "base_uri": "https://localhost:8080/"
    },
    "executionInfo": {
     "elapsed": 302,
     "status": "ok",
     "timestamp": 1630615331560,
     "user": {
      "displayName": "Andy Nicolón",
      "photoUrl": "https://lh3.googleusercontent.com/a-/AOh14Ggdjr_wvrps129lCKPMFcAm4H3KsbYN0eUakr5_oQ=s64",
      "userId": "09514318996408391655"
     },
     "user_tz": 180
    },
    "id": "HWbmytv9MRjr",
    "outputId": "8d3c6d8e-158f-4a55-f291-9a993634af88"
   },
   "outputs": [
    {
     "data": {
      "text/plain": [
       "Blanca                 69.510767\n",
       "Asiática o amarilla    23.261645\n",
       "Afro o negra            3.583484\n",
       "Sin dato                2.384856\n",
       "Indígena                1.244782\n",
       "Otra                    0.014466\n",
       "Name: ascendencia, dtype: float64"
      ]
     },
     "execution_count": 8,
     "metadata": {},
     "output_type": "execute_result"
    }
   ],
   "source": [
    "asc_princ_porcentage = df['ascendencia'].value_counts() / len(df['ascendencia']) * 100\n",
    "\n",
    "asc_princ_porcentage"
   ]
  },
  {
   "cell_type": "markdown",
   "metadata": {},
   "source": [
    "## Composición del hogar"
   ]
  },
  {
   "cell_type": "code",
   "execution_count": 9,
   "metadata": {},
   "outputs": [
    {
     "data": {
      "text/plain": [
       "Jefe/a de hogar                            58021\n",
       "Esposo/a o compañero/a                     31354\n",
       "Hijo/a de ambos                            27083\n",
       "Hijo/a solo del jefe/a                     15987\n",
       "Nieto/a                                     4233\n",
       "Hijo/a solo del esposo/a compañero/a        2288\n",
       "Padre/madre                                 1601\n",
       "Hermano/a                                   1070\n",
       "Otro pariente                                888\n",
       "Yerno/nuera                                  875\n",
       "Otro no pariente                             865\n",
       "Suegro/a                                     412\n",
       "Sin dato                                     316\n",
       "Cuñado/a                                     149\n",
       "Servicio doméstico o familiar del mismo       24\n",
       "Name: parentesco, dtype: int64"
      ]
     },
     "execution_count": 9,
     "metadata": {},
     "output_type": "execute_result"
    }
   ],
   "source": [
    "df['parentesco'].value_counts() "
   ]
  },
  {
   "cell_type": "markdown",
   "metadata": {},
   "source": [
    "## Habitantes del hogar"
   ]
  },
  {
   "cell_type": "code",
   "execution_count": 10,
   "metadata": {},
   "outputs": [
    {
     "data": {
      "text/plain": [
       "2     18429\n",
       "1     15749\n",
       "3     11547\n",
       "4      8634\n",
       "5      2870\n",
       "6       887\n",
       "7       267\n",
       "8       134\n",
       "9        44\n",
       "10       11\n",
       "12       10\n",
       "11        8\n",
       "13        3\n",
       "16        1\n",
       "Name: totales, dtype: int64"
      ]
     },
     "execution_count": 10,
     "metadata": {},
     "output_type": "execute_result"
    }
   ],
   "source": [
    "familia = pd.pivot_table(df, index='id_hogar', columns='parentesco',values=['nper'], aggfunc='count')\n",
    "\n",
    "familia['totales'] = familia.apply(lambda x:x.sum(), axis=1)\n",
    "\n",
    "familia = familia.sort_values(by='totales', ascending=False)\n",
    "\n",
    "familia['totales'].value_counts()"
   ]
  },
  {
   "cell_type": "markdown",
   "metadata": {},
   "source": [
    "## Cantidad de habitantes por hogar"
   ]
  },
  {
   "cell_type": "code",
   "execution_count": 11,
   "metadata": {},
   "outputs": [
    {
     "data": {
      "text/plain": [
       "parentesco_num  parentesco                             \n",
       "6               Jefe/a de hogar                            58021\n",
       "1               Esposo/a o compañero/a                     31354\n",
       "3               Hijo/a de ambos                            27083\n",
       "5               Hijo/a solo del jefe/a                     15987\n",
       "7               Nieto/a                                     4233\n",
       "4               Hijo/a solo del esposo/a compañero/a        2288\n",
       "10              Padre/madre                                 1601\n",
       "2               Hermano/a                                   1070\n",
       "9               Otro pariente                                888\n",
       "14              Yerno/nuera                                  875\n",
       "8               Otro no pariente                             865\n",
       "13              Suegro/a                                     412\n",
       "12              Sin dato                                     316\n",
       "0               Cuñado/a                                     149\n",
       "11              Servicio doméstico o familiar del mismo       24\n",
       "dtype: int64"
      ]
     },
     "execution_count": 11,
     "metadata": {},
     "output_type": "execute_result"
    }
   ],
   "source": [
    "df['parentesco_num'] = df['parentesco'].cat.codes\n",
    "\n",
    "df[['parentesco_num','parentesco']].value_counts()"
   ]
  },
  {
   "cell_type": "code",
   "execution_count": 12,
   "metadata": {},
   "outputs": [
    {
     "data": {
      "text/plain": [
       "<AxesSubplot:xlabel='sexo'>"
      ]
     },
     "execution_count": 12,
     "metadata": {},
     "output_type": "execute_result"
    },
    {
     "data": {
      "image/png": "[encoded data removed]",
      "text/plain": [
       "<Figure size 432x288 with 1 Axes>"
      ]
     },
     "metadata": {},
     "output_type": "display_data"
    }
   ],
   "source": [
    "df[['sexo']][df['parentesco'].str.contains('Jefe')].value_counts().plot(kind=('bar'))"
   ]
  },
  {
   "cell_type": "markdown",
   "metadata": {},
   "source": [
    "## Madres"
   ]
  },
  {
   "cell_type": "code",
   "execution_count": 13,
   "metadata": {},
   "outputs": [],
   "source": [
    "mask = df['parentesco_num'].isin([3,5,6])\n",
    "df = df[mask]\n",
    "\n",
    "df['es_madre'] = np.NaN\n",
    "df['es_madre'] = df['es_madre'].apply(lambda x:'madre').where(df['parentesco_num'] == 6).where(df['sexo'] == 'Femenino')"
   ]
  },
  {
   "cell_type": "markdown",
   "metadata": {},
   "source": [
    "## Eliminar filas de hombres jefes de hogar"
   ]
  },
  {
   "cell_type": "code",
   "execution_count": 14,
   "metadata": {},
   "outputs": [
    {
     "data": {
      "text/html": [
       "<div>\n",
       "<style scoped>\n",
       "    .dataframe tbody tr th:only-of-type {\n",
       "        vertical-align: middle;\n",
       "    }\n",
       "\n",
       "    .dataframe tbody tr th {\n",
       "        vertical-align: top;\n",
       "    }\n",
       "\n",
       "    .dataframe thead th {\n",
       "        text-align: right;\n",
       "    }\n",
       "</style>\n",
       "<table border=\"1\" class=\"dataframe\">\n",
       "  <thead>\n",
       "    <tr style=\"text-align: right;\">\n",
       "      <th></th>\n",
       "      <th>id_hogar</th>\n",
       "      <th>sexo</th>\n",
       "      <th>edad</th>\n",
       "      <th>genero</th>\n",
       "      <th>ascendencia</th>\n",
       "      <th>parentesco</th>\n",
       "      <th>estado_laboral</th>\n",
       "      <th>nper</th>\n",
       "      <th>sueldo</th>\n",
       "      <th>parentesco_num</th>\n",
       "      <th>es_madre</th>\n",
       "    </tr>\n",
       "  </thead>\n",
       "  <tbody>\n",
       "    <tr>\n",
       "      <th>0</th>\n",
       "      <td>100</td>\n",
       "      <td>Femenino</td>\n",
       "      <td>38.0</td>\n",
       "      <td>Mujer</td>\n",
       "      <td>Blanca</td>\n",
       "      <td>Jefe/a de hogar</td>\n",
       "      <td>Ocupados</td>\n",
       "      <td>1.0</td>\n",
       "      <td>86000.0</td>\n",
       "      <td>6</td>\n",
       "      <td>madre</td>\n",
       "    </tr>\n",
       "    <tr>\n",
       "      <th>2</th>\n",
       "      <td>100</td>\n",
       "      <td>Masculino</td>\n",
       "      <td>2.0</td>\n",
       "      <td>0.0</td>\n",
       "      <td>Blanca</td>\n",
       "      <td>Hijo/a de ambos</td>\n",
       "      <td>Menor 14 años</td>\n",
       "      <td>3.0</td>\n",
       "      <td>0.0</td>\n",
       "      <td>3</td>\n",
       "      <td>NaN</td>\n",
       "    </tr>\n",
       "    <tr>\n",
       "      <th>4</th>\n",
       "      <td>1000</td>\n",
       "      <td>Femenino</td>\n",
       "      <td>26.0</td>\n",
       "      <td>Mujer</td>\n",
       "      <td>Blanca</td>\n",
       "      <td>Hijo/a solo del jefe/a</td>\n",
       "      <td>Inactivo, pensionista</td>\n",
       "      <td>2.0</td>\n",
       "      <td>0.0</td>\n",
       "      <td>5</td>\n",
       "      <td>NaN</td>\n",
       "    </tr>\n",
       "    <tr>\n",
       "      <th>11</th>\n",
       "      <td>10001</td>\n",
       "      <td>Femenino</td>\n",
       "      <td>6.0</td>\n",
       "      <td>0.0</td>\n",
       "      <td>Blanca</td>\n",
       "      <td>Hijo/a de ambos</td>\n",
       "      <td>Menor 14 años</td>\n",
       "      <td>4.0</td>\n",
       "      <td>0.0</td>\n",
       "      <td>3</td>\n",
       "      <td>NaN</td>\n",
       "    </tr>\n",
       "    <tr>\n",
       "      <th>12</th>\n",
       "      <td>10006</td>\n",
       "      <td>Femenino</td>\n",
       "      <td>33.0</td>\n",
       "      <td>Mujer</td>\n",
       "      <td>Asiática o amarilla</td>\n",
       "      <td>Jefe/a de hogar</td>\n",
       "      <td>Ocupados</td>\n",
       "      <td>1.0</td>\n",
       "      <td>0.0</td>\n",
       "      <td>6</td>\n",
       "      <td>madre</td>\n",
       "    </tr>\n",
       "    <tr>\n",
       "      <th>...</th>\n",
       "      <td>...</td>\n",
       "      <td>...</td>\n",
       "      <td>...</td>\n",
       "      <td>...</td>\n",
       "      <td>...</td>\n",
       "      <td>...</td>\n",
       "      <td>...</td>\n",
       "      <td>...</td>\n",
       "      <td>...</td>\n",
       "      <td>...</td>\n",
       "      <td>...</td>\n",
       "    </tr>\n",
       "    <tr>\n",
       "      <th>145157</th>\n",
       "      <td>9989</td>\n",
       "      <td>Femenino</td>\n",
       "      <td>34.0</td>\n",
       "      <td>Mujer</td>\n",
       "      <td>Blanca</td>\n",
       "      <td>Jefe/a de hogar</td>\n",
       "      <td>Ocupados</td>\n",
       "      <td>1.0</td>\n",
       "      <td>22000.0</td>\n",
       "      <td>6</td>\n",
       "      <td>madre</td>\n",
       "    </tr>\n",
       "    <tr>\n",
       "      <th>145160</th>\n",
       "      <td>9991</td>\n",
       "      <td>Femenino</td>\n",
       "      <td>34.0</td>\n",
       "      <td>Mujer</td>\n",
       "      <td>Blanca</td>\n",
       "      <td>Jefe/a de hogar</td>\n",
       "      <td>Ocupados</td>\n",
       "      <td>1.0</td>\n",
       "      <td>30000.0</td>\n",
       "      <td>6</td>\n",
       "      <td>madre</td>\n",
       "    </tr>\n",
       "    <tr>\n",
       "      <th>145161</th>\n",
       "      <td>9992</td>\n",
       "      <td>Femenino</td>\n",
       "      <td>34.0</td>\n",
       "      <td>Mujer</td>\n",
       "      <td>Blanca</td>\n",
       "      <td>Jefe/a de hogar</td>\n",
       "      <td>Ocupados</td>\n",
       "      <td>1.0</td>\n",
       "      <td>30000.0</td>\n",
       "      <td>6</td>\n",
       "      <td>madre</td>\n",
       "    </tr>\n",
       "    <tr>\n",
       "      <th>145164</th>\n",
       "      <td>9996</td>\n",
       "      <td>Femenino</td>\n",
       "      <td>66.0</td>\n",
       "      <td>Mujer</td>\n",
       "      <td>Blanca</td>\n",
       "      <td>Jefe/a de hogar</td>\n",
       "      <td>Inactivo, pensionista</td>\n",
       "      <td>1.0</td>\n",
       "      <td>0.0</td>\n",
       "      <td>6</td>\n",
       "      <td>madre</td>\n",
       "    </tr>\n",
       "    <tr>\n",
       "      <th>145165</th>\n",
       "      <td>9998</td>\n",
       "      <td>Femenino</td>\n",
       "      <td>67.0</td>\n",
       "      <td>Mujer</td>\n",
       "      <td>Blanca</td>\n",
       "      <td>Jefe/a de hogar</td>\n",
       "      <td>Inactivo, jubilado</td>\n",
       "      <td>1.0</td>\n",
       "      <td>0.0</td>\n",
       "      <td>6</td>\n",
       "      <td>madre</td>\n",
       "    </tr>\n",
       "  </tbody>\n",
       "</table>\n",
       "<p>72395 rows × 11 columns</p>\n",
       "</div>"
      ],
      "text/plain": [
       "       id_hogar       sexo  edad genero          ascendencia  \\\n",
       "0           100   Femenino  38.0  Mujer               Blanca   \n",
       "2           100  Masculino   2.0    0.0               Blanca   \n",
       "4          1000   Femenino  26.0  Mujer               Blanca   \n",
       "11        10001   Femenino   6.0    0.0               Blanca   \n",
       "12        10006   Femenino  33.0  Mujer  Asiática o amarilla   \n",
       "...         ...        ...   ...    ...                  ...   \n",
       "145157     9989   Femenino  34.0  Mujer               Blanca   \n",
       "145160     9991   Femenino  34.0  Mujer               Blanca   \n",
       "145161     9992   Femenino  34.0  Mujer               Blanca   \n",
       "145164     9996   Femenino  66.0  Mujer               Blanca   \n",
       "145165     9998   Femenino  67.0  Mujer               Blanca   \n",
       "\n",
       "                    parentesco         estado_laboral nper   sueldo  \\\n",
       "0              Jefe/a de hogar               Ocupados  1.0  86000.0   \n",
       "2              Hijo/a de ambos          Menor 14 años  3.0      0.0   \n",
       "4       Hijo/a solo del jefe/a  Inactivo, pensionista  2.0      0.0   \n",
       "11             Hijo/a de ambos          Menor 14 años  4.0      0.0   \n",
       "12             Jefe/a de hogar               Ocupados  1.0      0.0   \n",
       "...                        ...                    ...  ...      ...   \n",
       "145157         Jefe/a de hogar               Ocupados  1.0  22000.0   \n",
       "145160         Jefe/a de hogar               Ocupados  1.0  30000.0   \n",
       "145161         Jefe/a de hogar               Ocupados  1.0  30000.0   \n",
       "145164         Jefe/a de hogar  Inactivo, pensionista  1.0      0.0   \n",
       "145165         Jefe/a de hogar     Inactivo, jubilado  1.0      0.0   \n",
       "\n",
       "        parentesco_num es_madre  \n",
       "0                    6    madre  \n",
       "2                    3      NaN  \n",
       "4                    5      NaN  \n",
       "11                   3      NaN  \n",
       "12                   6    madre  \n",
       "...                ...      ...  \n",
       "145157               6    madre  \n",
       "145160               6    madre  \n",
       "145161               6    madre  \n",
       "145164               6    madre  \n",
       "145165               6    madre  \n",
       "\n",
       "[72395 rows x 11 columns]"
      ]
     },
     "execution_count": 14,
     "metadata": {},
     "output_type": "execute_result"
    }
   ],
   "source": [
    "df_madre_y_familia = df.copy().drop(labels=list(df.loc[(df['sexo'].str.contains('Masculino')) & (df['parentesco_num'] == 6)].index))\n",
    "\n",
    "df_madre_y_familia\n"
   ]
  },
  {
   "cell_type": "code",
   "execution_count": 15,
   "metadata": {},
   "outputs": [
    {
     "data": {
      "text/plain": [
       "Jefe/a de hogar                            29325\n",
       "Hijo/a de ambos                            27083\n",
       "Hijo/a solo del jefe/a                     15987\n",
       "Cuñado/a                                       0\n",
       "Esposo/a o compañero/a                         0\n",
       "Hermano/a                                      0\n",
       "Hijo/a solo del esposo/a compañero/a           0\n",
       "Nieto/a                                        0\n",
       "Otro no pariente                               0\n",
       "Otro pariente                                  0\n",
       "Padre/madre                                    0\n",
       "Servicio doméstico o familiar del mismo        0\n",
       "Sin dato                                       0\n",
       "Suegro/a                                       0\n",
       "Yerno/nuera                                    0\n",
       "Name: parentesco, dtype: int64"
      ]
     },
     "execution_count": 15,
     "metadata": {},
     "output_type": "execute_result"
    }
   ],
   "source": [
    "df_madre_y_familia['parentesco'].value_counts()"
   ]
  },
  {
   "cell_type": "markdown",
   "metadata": {},
   "source": [
    "## Composición de familia solo con jefa de hogar"
   ]
  },
  {
   "cell_type": "code",
   "execution_count": 16,
   "metadata": {},
   "outputs": [
    {
     "data": {
      "text/html": [
       "<div>\n",
       "<style scoped>\n",
       "    .dataframe tbody tr th:only-of-type {\n",
       "        vertical-align: middle;\n",
       "    }\n",
       "\n",
       "    .dataframe tbody tr th {\n",
       "        vertical-align: top;\n",
       "    }\n",
       "\n",
       "    .dataframe thead th {\n",
       "        text-align: right;\n",
       "    }\n",
       "</style>\n",
       "<table border=\"1\" class=\"dataframe\">\n",
       "  <thead>\n",
       "    <tr style=\"text-align: right;\">\n",
       "      <th></th>\n",
       "      <th>id_hogar</th>\n",
       "      <th>sexo</th>\n",
       "      <th>edad</th>\n",
       "      <th>genero</th>\n",
       "      <th>ascendencia</th>\n",
       "      <th>parentesco</th>\n",
       "      <th>estado_laboral</th>\n",
       "      <th>nper</th>\n",
       "      <th>sueldo</th>\n",
       "      <th>parentesco_num</th>\n",
       "      <th>es_madre</th>\n",
       "      <th>hijos</th>\n",
       "    </tr>\n",
       "  </thead>\n",
       "  <tbody>\n",
       "    <tr>\n",
       "      <th>0</th>\n",
       "      <td>100</td>\n",
       "      <td>Femenino</td>\n",
       "      <td>38.0</td>\n",
       "      <td>Mujer</td>\n",
       "      <td>Blanca</td>\n",
       "      <td>Jefe/a de hogar</td>\n",
       "      <td>Ocupados</td>\n",
       "      <td>1.0</td>\n",
       "      <td>86000.0</td>\n",
       "      <td>6</td>\n",
       "      <td>madre</td>\n",
       "      <td>1</td>\n",
       "    </tr>\n",
       "    <tr>\n",
       "      <th>2</th>\n",
       "      <td>100</td>\n",
       "      <td>Masculino</td>\n",
       "      <td>2.0</td>\n",
       "      <td>0.0</td>\n",
       "      <td>Blanca</td>\n",
       "      <td>Hijo/a de ambos</td>\n",
       "      <td>Menor 14 años</td>\n",
       "      <td>3.0</td>\n",
       "      <td>0.0</td>\n",
       "      <td>3</td>\n",
       "      <td>NaN</td>\n",
       "      <td>1</td>\n",
       "    </tr>\n",
       "    <tr>\n",
       "      <th>4</th>\n",
       "      <td>1000</td>\n",
       "      <td>Femenino</td>\n",
       "      <td>26.0</td>\n",
       "      <td>Mujer</td>\n",
       "      <td>Blanca</td>\n",
       "      <td>Hijo/a solo del jefe/a</td>\n",
       "      <td>Inactivo, pensionista</td>\n",
       "      <td>2.0</td>\n",
       "      <td>0.0</td>\n",
       "      <td>5</td>\n",
       "      <td>NaN</td>\n",
       "      <td>0</td>\n",
       "    </tr>\n",
       "    <tr>\n",
       "      <th>11</th>\n",
       "      <td>10001</td>\n",
       "      <td>Femenino</td>\n",
       "      <td>6.0</td>\n",
       "      <td>0.0</td>\n",
       "      <td>Blanca</td>\n",
       "      <td>Hijo/a de ambos</td>\n",
       "      <td>Menor 14 años</td>\n",
       "      <td>4.0</td>\n",
       "      <td>0.0</td>\n",
       "      <td>3</td>\n",
       "      <td>NaN</td>\n",
       "      <td>0</td>\n",
       "    </tr>\n",
       "    <tr>\n",
       "      <th>12</th>\n",
       "      <td>10006</td>\n",
       "      <td>Femenino</td>\n",
       "      <td>33.0</td>\n",
       "      <td>Mujer</td>\n",
       "      <td>Asiática o amarilla</td>\n",
       "      <td>Jefe/a de hogar</td>\n",
       "      <td>Ocupados</td>\n",
       "      <td>1.0</td>\n",
       "      <td>0.0</td>\n",
       "      <td>6</td>\n",
       "      <td>madre</td>\n",
       "      <td>1</td>\n",
       "    </tr>\n",
       "    <tr>\n",
       "      <th>...</th>\n",
       "      <td>...</td>\n",
       "      <td>...</td>\n",
       "      <td>...</td>\n",
       "      <td>...</td>\n",
       "      <td>...</td>\n",
       "      <td>...</td>\n",
       "      <td>...</td>\n",
       "      <td>...</td>\n",
       "      <td>...</td>\n",
       "      <td>...</td>\n",
       "      <td>...</td>\n",
       "      <td>...</td>\n",
       "    </tr>\n",
       "    <tr>\n",
       "      <th>145157</th>\n",
       "      <td>9989</td>\n",
       "      <td>Femenino</td>\n",
       "      <td>34.0</td>\n",
       "      <td>Mujer</td>\n",
       "      <td>Blanca</td>\n",
       "      <td>Jefe/a de hogar</td>\n",
       "      <td>Ocupados</td>\n",
       "      <td>1.0</td>\n",
       "      <td>22000.0</td>\n",
       "      <td>6</td>\n",
       "      <td>madre</td>\n",
       "      <td>0</td>\n",
       "    </tr>\n",
       "    <tr>\n",
       "      <th>145160</th>\n",
       "      <td>9991</td>\n",
       "      <td>Femenino</td>\n",
       "      <td>34.0</td>\n",
       "      <td>Mujer</td>\n",
       "      <td>Blanca</td>\n",
       "      <td>Jefe/a de hogar</td>\n",
       "      <td>Ocupados</td>\n",
       "      <td>1.0</td>\n",
       "      <td>30000.0</td>\n",
       "      <td>6</td>\n",
       "      <td>madre</td>\n",
       "      <td>0</td>\n",
       "    </tr>\n",
       "    <tr>\n",
       "      <th>145161</th>\n",
       "      <td>9992</td>\n",
       "      <td>Femenino</td>\n",
       "      <td>34.0</td>\n",
       "      <td>Mujer</td>\n",
       "      <td>Blanca</td>\n",
       "      <td>Jefe/a de hogar</td>\n",
       "      <td>Ocupados</td>\n",
       "      <td>1.0</td>\n",
       "      <td>30000.0</td>\n",
       "      <td>6</td>\n",
       "      <td>madre</td>\n",
       "      <td>0</td>\n",
       "    </tr>\n",
       "    <tr>\n",
       "      <th>145164</th>\n",
       "      <td>9996</td>\n",
       "      <td>Femenino</td>\n",
       "      <td>66.0</td>\n",
       "      <td>Mujer</td>\n",
       "      <td>Blanca</td>\n",
       "      <td>Jefe/a de hogar</td>\n",
       "      <td>Inactivo, pensionista</td>\n",
       "      <td>1.0</td>\n",
       "      <td>0.0</td>\n",
       "      <td>6</td>\n",
       "      <td>madre</td>\n",
       "      <td>0</td>\n",
       "    </tr>\n",
       "    <tr>\n",
       "      <th>145165</th>\n",
       "      <td>9998</td>\n",
       "      <td>Femenino</td>\n",
       "      <td>67.0</td>\n",
       "      <td>Mujer</td>\n",
       "      <td>Blanca</td>\n",
       "      <td>Jefe/a de hogar</td>\n",
       "      <td>Inactivo, jubilado</td>\n",
       "      <td>1.0</td>\n",
       "      <td>0.0</td>\n",
       "      <td>6</td>\n",
       "      <td>madre</td>\n",
       "      <td>0</td>\n",
       "    </tr>\n",
       "  </tbody>\n",
       "</table>\n",
       "<p>72395 rows × 12 columns</p>\n",
       "</div>"
      ],
      "text/plain": [
       "       id_hogar       sexo  edad genero          ascendencia  \\\n",
       "0           100   Femenino  38.0  Mujer               Blanca   \n",
       "2           100  Masculino   2.0    0.0               Blanca   \n",
       "4          1000   Femenino  26.0  Mujer               Blanca   \n",
       "11        10001   Femenino   6.0    0.0               Blanca   \n",
       "12        10006   Femenino  33.0  Mujer  Asiática o amarilla   \n",
       "...         ...        ...   ...    ...                  ...   \n",
       "145157     9989   Femenino  34.0  Mujer               Blanca   \n",
       "145160     9991   Femenino  34.0  Mujer               Blanca   \n",
       "145161     9992   Femenino  34.0  Mujer               Blanca   \n",
       "145164     9996   Femenino  66.0  Mujer               Blanca   \n",
       "145165     9998   Femenino  67.0  Mujer               Blanca   \n",
       "\n",
       "                    parentesco         estado_laboral nper   sueldo  \\\n",
       "0              Jefe/a de hogar               Ocupados  1.0  86000.0   \n",
       "2              Hijo/a de ambos          Menor 14 años  3.0      0.0   \n",
       "4       Hijo/a solo del jefe/a  Inactivo, pensionista  2.0      0.0   \n",
       "11             Hijo/a de ambos          Menor 14 años  4.0      0.0   \n",
       "12             Jefe/a de hogar               Ocupados  1.0      0.0   \n",
       "...                        ...                    ...  ...      ...   \n",
       "145157         Jefe/a de hogar               Ocupados  1.0  22000.0   \n",
       "145160         Jefe/a de hogar               Ocupados  1.0  30000.0   \n",
       "145161         Jefe/a de hogar               Ocupados  1.0  30000.0   \n",
       "145164         Jefe/a de hogar  Inactivo, pensionista  1.0      0.0   \n",
       "145165         Jefe/a de hogar     Inactivo, jubilado  1.0      0.0   \n",
       "\n",
       "        parentesco_num es_madre  hijos  \n",
       "0                    6    madre      1  \n",
       "2                    3      NaN      1  \n",
       "4                    5      NaN      0  \n",
       "11                   3      NaN      0  \n",
       "12                   6    madre      1  \n",
       "...                ...      ...    ...  \n",
       "145157               6    madre      0  \n",
       "145160               6    madre      0  \n",
       "145161               6    madre      0  \n",
       "145164               6    madre      0  \n",
       "145165               6    madre      0  \n",
       "\n",
       "[72395 rows x 12 columns]"
      ]
     },
     "execution_count": 16,
     "metadata": {},
     "output_type": "execute_result"
    }
   ],
   "source": [
    "df_madre_y_familia['hijos'] = df_madre_y_familia.groupby('id_hogar')['id_hogar'].transform('count') - 1\n",
    "\n",
    "df_madre_y_familia"
   ]
  },
  {
   "cell_type": "markdown",
   "metadata": {},
   "source": [
    "## Cantidad de hijos"
   ]
  },
  {
   "cell_type": "code",
   "execution_count": 17,
   "metadata": {},
   "outputs": [
    {
     "data": {
      "text/plain": [
       "0.0    15065\n",
       "1.0     8141\n",
       "2.0     4323\n",
       "3.0     1308\n",
       "4.0      344\n",
       "5.0      100\n",
       "6.0       39\n",
       "7.0        5\n",
       "Name: hijos, dtype: int64"
      ]
     },
     "execution_count": 17,
     "metadata": {},
     "output_type": "execute_result"
    }
   ],
   "source": [
    "df_madre_y_familia.where(df['es_madre'].str.contains('madre'))['hijos'].value_counts()"
   ]
  },
  {
   "cell_type": "code",
   "execution_count": null,
   "metadata": {},
   "outputs": [],
   "source": []
  }
 ],
 "metadata": {
  "colab": {
   "collapsed_sections": [],
   "name": "hyp_2020.ipynb",
   "provenance": []
  },
  "interpreter": {
   "hash": "75e6c507d3dc3ae925363b2017575e90bab1377ac63bc8a3a3d6fc67099bf175"
  },
  "kernelspec": {
   "display_name": "Python 3.9.6 64-bit ('venv': venv)",
   "name": "python3"
  },
  "language_info": {
   "codemirror_mode": {
    "name": "ipython",
    "version": 3
   },
   "file_extension": ".py",
   "mimetype": "text/x-python",
   "name": "python",
   "nbconvert_exporter": "python",
   "pygments_lexer": "ipython3",
   "version": "3.9.6"
  }
 },
 "nbformat": 4,
 "nbformat_minor": 5
}
