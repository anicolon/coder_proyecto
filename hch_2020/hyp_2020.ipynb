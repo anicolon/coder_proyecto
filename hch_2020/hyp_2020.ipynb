{
 "cells": [
  {
   "cell_type": "markdown",
   "id": "1601f240",
   "metadata": {},
   "source": [
    "# ECH - Encuesta continua de hogares 2020"
   ]
  },
  {
   "cell_type": "markdown",
   "id": "dc18d698",
   "metadata": {},
   "source": [
    "## Objetivos\n",
    "\n",
    "En esta investigación buscamos determinar cuánto afecta el nivel educativo, la cantidad de hijos y otros indicadores, a la inserción en el mercado laboral de las mujeres uruguayas. Luego de un análisis principal de la base para conocer el contexto general de la investigación, intentaremos crear un algoritmo de clasificación para entender la influencia de distintas variables categóricas en un resultado determinado."
   ]
  },
  {
   "cell_type": "markdown",
   "id": "27a8a462",
   "metadata": {},
   "source": [
    "### Librerias a utilizar"
   ]
  },
  {
   "cell_type": "code",
   "execution_count": 1,
   "id": "c586d922",
   "metadata": {
    "colab": {
     "base_uri": "https://localhost:8080/"
    },
    "executionInfo": {
     "elapsed": 3668,
     "status": "ok",
     "timestamp": 1630614475712,
     "user": {
      "displayName": "Andy Nicolón",
      "photoUrl": "https://lh3.googleusercontent.com/a-/AOh14Ggdjr_wvrps129lCKPMFcAm4H3KsbYN0eUakr5_oQ=s64",
      "userId": "09514318996408391655"
     },
     "user_tz": 180
    },
    "id": "1172c179-0cd4-4c86-9c23-e10a0a73a315",
    "outputId": "9f84e330-a100-48a8-82db-a124be99fe3e"
   },
   "outputs": [],
   "source": [
    "import pandas as pd\n",
    "import numpy as np\n",
    "import matplotlib.pyplot as plt\n",
    "import seaborn as sns\n",
    "\n",
    "sns.set(rc={'figure.figsize':(30,8)})"
   ]
  },
  {
   "cell_type": "markdown",
   "id": "12fa589c",
   "metadata": {},
   "source": [
    "### Importar dataset y seleccionar atributos de análisis principales.\n",
    "\n",
    "Para leer el archivo es necesario contar con la libreria _pyreadstat_"
   ]
  },
  {
   "cell_type": "code",
   "execution_count": 2,
   "id": "2c8d9b49",
   "metadata": {
    "id": "I5_lAvQeEFTM"
   },
   "outputs": [],
   "source": [
    "df = pd.read_spss('HyP_2020_Terceros.sav')\n",
    "\n",
    "df = df.rename(columns={\n",
    "    'numero': 'id_hogar',\n",
    "    'e26': 'sexo',\n",
    "    'e27': 'edad',\n",
    "    'e563': 'genero',\n",
    "    'e29_6': 'ascendencia',\n",
    "    'e30': 'parentesco',\n",
    "    'pobpcoac': 'estado_laboral',\n",
    "    'g126_1': 'sueldo',\n",
    "    'f99': 'busca_otro_trabajo',\n",
    "    'f72_2': 'actividad',\n",
    "    'e49_CV': 'asistencia a enseñanza',\n",
    "    'e49': 'asistencia alguna vez a enseñanza',\n",
    "    'e193': 'edu preescolar',\n",
    "    'e197': 'edu primaria',\n",
    "    'e201': 'edu media',\n",
    "    'e212': 'edu técnica',\n",
    "    'e215': 'edu mag prof',\n",
    "    'e218': 'edu univ o simil',\n",
    "    'e221': 'edu terciario no uni',\n",
    "    'e224': 'edu posgrado'\n",
    "    })\n",
    "\n",
    "df = df[[\n",
    "    'id_hogar', \n",
    "    'sexo', \n",
    "    'edad', \n",
    "    'genero', \n",
    "    'ascendencia', \n",
    "    'parentesco', \n",
    "    'estado_laboral', \n",
    "    'nper', \n",
    "    'sueldo', \n",
    "    'busca_otro_trabajo',\n",
    "    'actividad',\n",
    "    'asistencia alguna vez a enseñanza',\n",
    "    'edu preescolar',\n",
    "    'edu primaria',\n",
    "    'edu media',\n",
    "    'edu técnica',\n",
    "    'edu univ o simil',\n",
    "    'edu terciario no uni',\n",
    "    'edu posgrado',\n",
    "    'edu mag prof',\n",
    "    ]]\n",
    "\n",
    "df['nper'] = df['nper'].astype('category')\n",
    "df['sexo'] = df['sexo'].astype('category')"
   ]
  },
  {
   "cell_type": "markdown",
   "id": "9f6c4ddd",
   "metadata": {},
   "source": [
    "## Primera exposición a los datos"
   ]
  },
  {
   "cell_type": "code",
   "execution_count": 3,
   "id": "51713019",
   "metadata": {
    "colab": {
     "base_uri": "https://localhost:8080/",
     "height": 644
    },
    "executionInfo": {
     "elapsed": 15,
     "status": "ok",
     "timestamp": 1630614533384,
     "user": {
      "displayName": "Andy Nicolón",
      "photoUrl": "https://lh3.googleusercontent.com/a-/AOh14Ggdjr_wvrps129lCKPMFcAm4H3KsbYN0eUakr5_oQ=s64",
      "userId": "09514318996408391655"
     },
     "user_tz": 180
    },
    "id": "_ymYU4JkDl8e",
    "outputId": "ff46b035-24f2-4ac4-d72c-d020e977299f"
   },
   "outputs": [
    {
     "data": {
      "text/html": [
       "<div>\n",
       "<style scoped>\n",
       "    .dataframe tbody tr th:only-of-type {\n",
       "        vertical-align: middle;\n",
       "    }\n",
       "\n",
       "    .dataframe tbody tr th {\n",
       "        vertical-align: top;\n",
       "    }\n",
       "\n",
       "    .dataframe thead th {\n",
       "        text-align: right;\n",
       "    }\n",
       "</style>\n",
       "<table border=\"1\" class=\"dataframe\">\n",
       "  <thead>\n",
       "    <tr style=\"text-align: right;\">\n",
       "      <th></th>\n",
       "      <th>id_hogar</th>\n",
       "      <th>sexo</th>\n",
       "      <th>edad</th>\n",
       "      <th>genero</th>\n",
       "      <th>ascendencia</th>\n",
       "      <th>parentesco</th>\n",
       "      <th>estado_laboral</th>\n",
       "      <th>nper</th>\n",
       "      <th>sueldo</th>\n",
       "      <th>busca_otro_trabajo</th>\n",
       "      <th>actividad</th>\n",
       "      <th>asistencia alguna vez a enseñanza</th>\n",
       "      <th>edu preescolar</th>\n",
       "      <th>edu primaria</th>\n",
       "      <th>edu media</th>\n",
       "      <th>edu técnica</th>\n",
       "      <th>edu univ o simil</th>\n",
       "      <th>edu terciario no uni</th>\n",
       "      <th>edu posgrado</th>\n",
       "      <th>edu mag prof</th>\n",
       "    </tr>\n",
       "  </thead>\n",
       "  <tbody>\n",
       "    <tr>\n",
       "      <th>23006</th>\n",
       "      <td>19619</td>\n",
       "      <td>2.0</td>\n",
       "      <td>61.0</td>\n",
       "      <td>Mujer</td>\n",
       "      <td>Asiática o amarilla</td>\n",
       "      <td>Jefe/a de hogar</td>\n",
       "      <td>Ocupados</td>\n",
       "      <td>1.0</td>\n",
       "      <td>22000.0</td>\n",
       "      <td>No</td>\n",
       "      <td>Actividades de los hogares en calidad de emple...</td>\n",
       "      <td>Sí</td>\n",
       "      <td>No asistió</td>\n",
       "      <td>Sí, asistió</td>\n",
       "      <td>No asistió</td>\n",
       "      <td>Sí, asistió</td>\n",
       "      <td>0.0</td>\n",
       "      <td>0.0</td>\n",
       "      <td>0.0</td>\n",
       "      <td>0.0</td>\n",
       "    </tr>\n",
       "    <tr>\n",
       "      <th>9356</th>\n",
       "      <td>1372</td>\n",
       "      <td>2.0</td>\n",
       "      <td>13.0</td>\n",
       "      <td>Mujer</td>\n",
       "      <td>Blanca</td>\n",
       "      <td>Hijo/a de ambos</td>\n",
       "      <td>Menor 14 años</td>\n",
       "      <td>4.0</td>\n",
       "      <td>0.0</td>\n",
       "      <td>0.0</td>\n",
       "      <td></td>\n",
       "      <td>Sí</td>\n",
       "      <td>Sí, asistió</td>\n",
       "      <td>Sí, asistió</td>\n",
       "      <td>Asiste actualmente</td>\n",
       "      <td>0.0</td>\n",
       "      <td>0.0</td>\n",
       "      <td>0.0</td>\n",
       "      <td>0.0</td>\n",
       "      <td>0.0</td>\n",
       "    </tr>\n",
       "    <tr>\n",
       "      <th>100569</th>\n",
       "      <td>51283</td>\n",
       "      <td>1.0</td>\n",
       "      <td>5.0</td>\n",
       "      <td>0.0</td>\n",
       "      <td>Afro o negra</td>\n",
       "      <td>Hijo/a de ambos</td>\n",
       "      <td>Menor 14 años</td>\n",
       "      <td>6.0</td>\n",
       "      <td>0.0</td>\n",
       "      <td>0.0</td>\n",
       "      <td></td>\n",
       "      <td>Sí</td>\n",
       "      <td>Asiste actualmente</td>\n",
       "      <td>0.0</td>\n",
       "      <td>0.0</td>\n",
       "      <td>0.0</td>\n",
       "      <td>0.0</td>\n",
       "      <td>0.0</td>\n",
       "      <td>0.0</td>\n",
       "      <td>0.0</td>\n",
       "    </tr>\n",
       "    <tr>\n",
       "      <th>120366</th>\n",
       "      <td>6243</td>\n",
       "      <td>2.0</td>\n",
       "      <td>63.0</td>\n",
       "      <td>Mujer</td>\n",
       "      <td>Blanca</td>\n",
       "      <td>Esposo/a o compañero/a</td>\n",
       "      <td>Inactivo, jubilado</td>\n",
       "      <td>2.0</td>\n",
       "      <td>0.0</td>\n",
       "      <td>0.0</td>\n",
       "      <td></td>\n",
       "      <td>Sí</td>\n",
       "      <td>No asistió</td>\n",
       "      <td>Sí, asistió</td>\n",
       "      <td>Sí, asistió</td>\n",
       "      <td>No asistió</td>\n",
       "      <td>0.0</td>\n",
       "      <td>0.0</td>\n",
       "      <td>0.0</td>\n",
       "      <td>0.0</td>\n",
       "    </tr>\n",
       "    <tr>\n",
       "      <th>144847</th>\n",
       "      <td>8980</td>\n",
       "      <td>2.0</td>\n",
       "      <td>45.0</td>\n",
       "      <td>Mujer</td>\n",
       "      <td>Blanca</td>\n",
       "      <td>Jefe/a de hogar</td>\n",
       "      <td>Ocupados</td>\n",
       "      <td>1.0</td>\n",
       "      <td>25500.0</td>\n",
       "      <td>No</td>\n",
       "      <td>Actividades jurídicas</td>\n",
       "      <td>Sí</td>\n",
       "      <td>Sí, asistió</td>\n",
       "      <td>Sí, asistió</td>\n",
       "      <td>Sí, asistió</td>\n",
       "      <td>Sí, asistió</td>\n",
       "      <td>No asistió</td>\n",
       "      <td>No asistió</td>\n",
       "      <td>0.0</td>\n",
       "      <td>No asistió</td>\n",
       "    </tr>\n",
       "  </tbody>\n",
       "</table>\n",
       "</div>"
      ],
      "text/plain": [
       "       id_hogar sexo  edad genero          ascendencia  \\\n",
       "23006     19619  2.0  61.0  Mujer  Asiática o amarilla   \n",
       "9356       1372  2.0  13.0  Mujer               Blanca   \n",
       "100569    51283  1.0   5.0    0.0         Afro o negra   \n",
       "120366     6243  2.0  63.0  Mujer               Blanca   \n",
       "144847     8980  2.0  45.0  Mujer               Blanca   \n",
       "\n",
       "                    parentesco      estado_laboral nper   sueldo  \\\n",
       "23006          Jefe/a de hogar            Ocupados  1.0  22000.0   \n",
       "9356           Hijo/a de ambos       Menor 14 años  4.0      0.0   \n",
       "100569         Hijo/a de ambos       Menor 14 años  6.0      0.0   \n",
       "120366  Esposo/a o compañero/a  Inactivo, jubilado  2.0      0.0   \n",
       "144847         Jefe/a de hogar            Ocupados  1.0  25500.0   \n",
       "\n",
       "       busca_otro_trabajo                                          actividad  \\\n",
       "23006                  No  Actividades de los hogares en calidad de emple...   \n",
       "9356                  0.0                                                      \n",
       "100569                0.0                                                      \n",
       "120366                0.0                                                      \n",
       "144847                 No                              Actividades jurídicas   \n",
       "\n",
       "       asistencia alguna vez a enseñanza      edu preescolar edu primaria  \\\n",
       "23006                                 Sí          No asistió  Sí, asistió   \n",
       "9356                                  Sí         Sí, asistió  Sí, asistió   \n",
       "100569                                Sí  Asiste actualmente          0.0   \n",
       "120366                                Sí          No asistió  Sí, asistió   \n",
       "144847                                Sí         Sí, asistió  Sí, asistió   \n",
       "\n",
       "                 edu media  edu técnica edu univ o simil edu terciario no uni  \\\n",
       "23006           No asistió  Sí, asistió              0.0                  0.0   \n",
       "9356    Asiste actualmente          0.0              0.0                  0.0   \n",
       "100569                 0.0          0.0              0.0                  0.0   \n",
       "120366         Sí, asistió   No asistió              0.0                  0.0   \n",
       "144847         Sí, asistió  Sí, asistió       No asistió           No asistió   \n",
       "\n",
       "       edu posgrado edu mag prof  \n",
       "23006           0.0          0.0  \n",
       "9356            0.0          0.0  \n",
       "100569          0.0          0.0  \n",
       "120366          0.0          0.0  \n",
       "144847          0.0   No asistió  "
      ]
     },
     "execution_count": 3,
     "metadata": {},
     "output_type": "execute_result"
    }
   ],
   "source": [
    "df.sample(5)"
   ]
  },
  {
   "cell_type": "code",
   "execution_count": 4,
   "id": "21f66366",
   "metadata": {
    "colab": {
     "base_uri": "https://localhost:8080/"
    },
    "executionInfo": {
     "elapsed": 13,
     "status": "ok",
     "timestamp": 1630614534006,
     "user": {
      "displayName": "Andy Nicolón",
      "photoUrl": "https://lh3.googleusercontent.com/a-/AOh14Ggdjr_wvrps129lCKPMFcAm4H3KsbYN0eUakr5_oQ=s64",
      "userId": "09514318996408391655"
     },
     "user_tz": 180
    },
    "id": "kouOvHuADl8f",
    "outputId": "e5682412-d6f9-4118-ef81-bd0165a1215f"
   },
   "outputs": [
    {
     "name": "stdout",
     "output_type": "stream",
     "text": [
      "<class 'pandas.core.frame.DataFrame'>\n",
      "RangeIndex: 145166 entries, 0 to 145165\n",
      "Data columns (total 20 columns):\n",
      " #   Column                             Non-Null Count   Dtype   \n",
      "---  ------                             --------------   -----   \n",
      " 0   id_hogar                           145166 non-null  object  \n",
      " 1   sexo                               145166 non-null  category\n",
      " 2   edad                               145166 non-null  float64 \n",
      " 3   genero                             145166 non-null  category\n",
      " 4   ascendencia                        145166 non-null  category\n",
      " 5   parentesco                         145166 non-null  category\n",
      " 6   estado_laboral                     145166 non-null  category\n",
      " 7   nper                               145166 non-null  category\n",
      " 8   sueldo                             145166 non-null  float64 \n",
      " 9   busca_otro_trabajo                 145166 non-null  category\n",
      " 10  actividad                          145166 non-null  category\n",
      " 11  asistencia alguna vez a enseñanza  145166 non-null  category\n",
      " 12  edu preescolar                     145166 non-null  category\n",
      " 13  edu primaria                       145166 non-null  category\n",
      " 14  edu media                          145166 non-null  category\n",
      " 15  edu técnica                        145166 non-null  category\n",
      " 16  edu univ o simil                   145166 non-null  category\n",
      " 17  edu terciario no uni               145166 non-null  category\n",
      " 18  edu posgrado                       145166 non-null  category\n",
      " 19  edu mag prof                       145166 non-null  category\n",
      "dtypes: category(17), float64(2), object(1)\n",
      "memory usage: 5.8+ MB\n"
     ]
    }
   ],
   "source": [
    "df.info()"
   ]
  },
  {
   "cell_type": "code",
   "execution_count": 5,
   "id": "3773ded7",
   "metadata": {},
   "outputs": [
    {
     "data": {
      "text/html": [
       "<div>\n",
       "<style scoped>\n",
       "    .dataframe tbody tr th:only-of-type {\n",
       "        vertical-align: middle;\n",
       "    }\n",
       "\n",
       "    .dataframe tbody tr th {\n",
       "        vertical-align: top;\n",
       "    }\n",
       "\n",
       "    .dataframe thead th {\n",
       "        text-align: right;\n",
       "    }\n",
       "</style>\n",
       "<table border=\"1\" class=\"dataframe\">\n",
       "  <thead>\n",
       "    <tr style=\"text-align: right;\">\n",
       "      <th></th>\n",
       "      <th>count</th>\n",
       "      <th>mean</th>\n",
       "      <th>std</th>\n",
       "      <th>min</th>\n",
       "      <th>25%</th>\n",
       "      <th>50%</th>\n",
       "      <th>75%</th>\n",
       "      <th>max</th>\n",
       "    </tr>\n",
       "  </thead>\n",
       "  <tbody>\n",
       "    <tr>\n",
       "      <th>edad</th>\n",
       "      <td>145166.0</td>\n",
       "      <td>41.179684</td>\n",
       "      <td>23.657247</td>\n",
       "      <td>0.0</td>\n",
       "      <td>20.0</td>\n",
       "      <td>42.0</td>\n",
       "      <td>60.0</td>\n",
       "      <td>98.0</td>\n",
       "    </tr>\n",
       "    <tr>\n",
       "      <th>sueldo</th>\n",
       "      <td>145166.0</td>\n",
       "      <td>9711.315577</td>\n",
       "      <td>20269.848604</td>\n",
       "      <td>0.0</td>\n",
       "      <td>0.0</td>\n",
       "      <td>0.0</td>\n",
       "      <td>15000.0</td>\n",
       "      <td>600000.0</td>\n",
       "    </tr>\n",
       "  </tbody>\n",
       "</table>\n",
       "</div>"
      ],
      "text/plain": [
       "           count         mean           std  min   25%   50%      75%  \\\n",
       "edad    145166.0    41.179684     23.657247  0.0  20.0  42.0     60.0   \n",
       "sueldo  145166.0  9711.315577  20269.848604  0.0   0.0   0.0  15000.0   \n",
       "\n",
       "             max  \n",
       "edad        98.0  \n",
       "sueldo  600000.0  "
      ]
     },
     "execution_count": 5,
     "metadata": {},
     "output_type": "execute_result"
    }
   ],
   "source": [
    "df.describe().transpose()"
   ]
  },
  {
   "cell_type": "code",
   "execution_count": 6,
   "id": "c58b9b07",
   "metadata": {},
   "outputs": [
    {
     "data": {
      "text/plain": [
       "Mujer                    69037\n",
       "Varón                    57429\n",
       "0.0                      18571\n",
       "Sin dato                    78\n",
       "Mujer trans                 29\n",
       "Varón trans                 14\n",
       "Otra                         6\n",
       "No sabe / No contesta        2\n",
       "Name: genero, dtype: int64"
      ]
     },
     "execution_count": 6,
     "metadata": {},
     "output_type": "execute_result"
    }
   ],
   "source": [
    "df['genero'].value_counts()"
   ]
  },
  {
   "cell_type": "markdown",
   "id": "857ca3c0",
   "metadata": {},
   "source": [
    "### Ascendencia"
   ]
  },
  {
   "cell_type": "code",
   "execution_count": 7,
   "id": "3c1a6eeb",
   "metadata": {
    "colab": {
     "base_uri": "https://localhost:8080/"
    },
    "executionInfo": {
     "elapsed": 302,
     "status": "ok",
     "timestamp": 1630615331560,
     "user": {
      "displayName": "Andy Nicolón",
      "photoUrl": "https://lh3.googleusercontent.com/a-/AOh14Ggdjr_wvrps129lCKPMFcAm4H3KsbYN0eUakr5_oQ=s64",
      "userId": "09514318996408391655"
     },
     "user_tz": 180
    },
    "id": "HWbmytv9MRjr",
    "outputId": "8d3c6d8e-158f-4a55-f291-9a993634af88"
   },
   "outputs": [
    {
     "data": {
      "text/plain": [
       "Blanca                 69.510767\n",
       "Asiática o amarilla    23.261645\n",
       "Afro o negra            3.583484\n",
       "Sin dato                2.384856\n",
       "Indígena                1.244782\n",
       "Otra                    0.014466\n",
       "Name: ascendencia, dtype: float64"
      ]
     },
     "execution_count": 7,
     "metadata": {},
     "output_type": "execute_result"
    }
   ],
   "source": [
    "asc_princ_porcentage = df['ascendencia'].value_counts() / len(df['ascendencia']) * 100\n",
    "\n",
    "asc_princ_porcentage"
   ]
  },
  {
   "cell_type": "markdown",
   "id": "60ad3558",
   "metadata": {},
   "source": [
    "### Género"
   ]
  },
  {
   "cell_type": "code",
   "execution_count": 8,
   "id": "1de69a59",
   "metadata": {},
   "outputs": [
    {
     "data": {
      "text/plain": [
       "Mujer                    47.557279\n",
       "Varón                    39.560916\n",
       "0.0                      12.792940\n",
       "Sin dato                  0.053732\n",
       "Mujer trans               0.019977\n",
       "Varón trans               0.009644\n",
       "Otra                      0.004133\n",
       "No sabe / No contesta     0.001378\n",
       "Name: genero, dtype: float64"
      ]
     },
     "execution_count": 8,
     "metadata": {},
     "output_type": "execute_result"
    }
   ],
   "source": [
    "df['genero'].value_counts() / len(df['genero']) * 100"
   ]
  },
  {
   "cell_type": "markdown",
   "id": "b09340f6",
   "metadata": {},
   "source": [
    "## Estudio de la composición de los hogares uruguayos"
   ]
  },
  {
   "cell_type": "markdown",
   "id": "e5c1b5ed",
   "metadata": {},
   "source": [
    "### Cantidad de personas que conforman un grupo familiar"
   ]
  },
  {
   "cell_type": "code",
   "execution_count": 9,
   "id": "d1e73107",
   "metadata": {},
   "outputs": [
    {
     "data": {
      "text/plain": [
       "2     18429\n",
       "1     15749\n",
       "3     11547\n",
       "4      8634\n",
       "5      2870\n",
       "6       887\n",
       "7       267\n",
       "8       134\n",
       "9        44\n",
       "10       11\n",
       "12       10\n",
       "11        8\n",
       "13        3\n",
       "16        1\n",
       "Name: totales, dtype: int64"
      ]
     },
     "execution_count": 9,
     "metadata": {},
     "output_type": "execute_result"
    }
   ],
   "source": [
    "familia = pd.pivot_table(df, index='id_hogar', columns='parentesco',values=['nper'], aggfunc='count')\n",
    "\n",
    "familia['totales'] = familia.apply(lambda x:x.sum(), axis=1)\n",
    "\n",
    "familia = familia.sort_values(by='totales', ascending=False)\n",
    "\n",
    "familia['totales'].value_counts()"
   ]
  },
  {
   "cell_type": "markdown",
   "id": "338a5eea",
   "metadata": {},
   "source": [
    "## Organización familiar"
   ]
  },
  {
   "cell_type": "code",
   "execution_count": 10,
   "id": "20175fb2",
   "metadata": {},
   "outputs": [
    {
     "data": {
      "text/plain": [
       "Jefe/a de hogar                            58021\n",
       "Esposo/a o compañero/a                     31354\n",
       "Hijo/a de ambos                            27083\n",
       "Hijo/a solo del jefe/a                     15987\n",
       "Nieto/a                                     4233\n",
       "Hijo/a solo del esposo/a compañero/a        2288\n",
       "Padre/madre                                 1601\n",
       "Hermano/a                                   1070\n",
       "Otro pariente                                888\n",
       "Yerno/nuera                                  875\n",
       "Otro no pariente                             865\n",
       "Suegro/a                                     412\n",
       "Sin dato                                     316\n",
       "Cuñado/a                                     149\n",
       "Servicio doméstico o familiar del mismo       24\n",
       "Name: parentesco, dtype: int64"
      ]
     },
     "execution_count": 10,
     "metadata": {},
     "output_type": "execute_result"
    }
   ],
   "source": [
    "df['parentesco'].value_counts()"
   ]
  },
  {
   "cell_type": "code",
   "execution_count": 11,
   "id": "ab1b63cf",
   "metadata": {
    "scrolled": true
   },
   "outputs": [
    {
     "data": {
      "text/plain": [
       "<AxesSubplot:ylabel='sexo'>"
      ]
     },
     "execution_count": 11,
     "metadata": {},
     "output_type": "execute_result"
    },
    {
     "data": {
      "image/png": "[encoded data removed]",
      "text/plain": [
       "<Figure size 2160x576 with 1 Axes>"
      ]
     },
     "metadata": {},
     "output_type": "display_data"
    }
   ],
   "source": [
    "jefes_sexo = df[df['parentesco'].str.contains('Jefe')]['sexo'].value_counts()\n",
    "\n",
    "sns.barplot(x=jefes_sexo.index, y=jefes_sexo)"
   ]
  },
  {
   "cell_type": "markdown",
   "id": "87dec96c",
   "metadata": {},
   "source": [
    "Podemos observar que hay una distribución equitativa entre jefes de familia y sexo"
   ]
  },
  {
   "cell_type": "markdown",
   "id": "1cddda91",
   "metadata": {},
   "source": [
    "## Situación laboral"
   ]
  },
  {
   "cell_type": "code",
   "execution_count": 12,
   "id": "e551faff",
   "metadata": {},
   "outputs": [
    {
     "data": {
      "text/plain": [
       "Ocupados                                      63750\n",
       "Inactivo, jubilado                            24536\n",
       "Menor 14 años                                 22473\n",
       "Inactivo, estudiante                          11835\n",
       "Inactivo, realiza los quehaceres del hogar     7888\n",
       "Inactivo, pensionista                          5805\n",
       "Desocupados propiamente dichos                 5227\n",
       "Inactivo, otro                                 1733\n",
       "Desocupados BT1V                               1000\n",
       "Inactivo, rentista                              495\n",
       "Desocupados en seguro de desempleo              424\n",
       "Name: estado_laboral, dtype: int64"
      ]
     },
     "execution_count": 12,
     "metadata": {},
     "output_type": "execute_result"
    }
   ],
   "source": [
    "df['estado_laboral'].value_counts()"
   ]
  },
  {
   "cell_type": "code",
   "execution_count": 13,
   "id": "e044c657",
   "metadata": {},
   "outputs": [
    {
     "data": {
      "text/plain": [
       "<AxesSubplot:xlabel='estado_laboral', ylabel='count'>"
      ]
     },
     "execution_count": 13,
     "metadata": {},
     "output_type": "execute_result"
    },
    {
     "data": {
      "image/png": "[encoded data removed]",
      "text/plain": [
       "<Figure size 2160x576 with 1 Axes>"
      ]
     },
     "metadata": {},
     "output_type": "display_data"
    }
   ],
   "source": [
    "sns.countplot(x=df['estado_laboral'])"
   ]
  },
  {
   "cell_type": "code",
   "execution_count": 14,
   "id": "064b9c43",
   "metadata": {
    "colab": {
     "base_uri": "https://localhost:8080/"
    },
    "executionInfo": {
     "elapsed": 11,
     "status": "ok",
     "timestamp": 1630614534006,
     "user": {
      "displayName": "Andy Nicolón",
      "photoUrl": "https://lh3.googleusercontent.com/a-/AOh14Ggdjr_wvrps129lCKPMFcAm4H3KsbYN0eUakr5_oQ=s64",
      "userId": "09514318996408391655"
     },
     "user_tz": 180
    },
    "id": "5GZeFodTzkkd",
    "outputId": "b7431844-d8cc-4ec9-871d-2a6fc1d551bf"
   },
   "outputs": [
    {
     "data": {
      "text/plain": [
       "Ocupados                                      43.915242\n",
       "Inactivo, jubilado                            16.902029\n",
       "Menor 14 años                                 15.480898\n",
       "Inactivo, estudiante                           8.152735\n",
       "Inactivo, realiza los quehaceres del hogar     5.433779\n",
       "Inactivo, pensionista                          3.998870\n",
       "Desocupados propiamente dichos                 3.600705\n",
       "Inactivo, otro                                 1.193806\n",
       "Desocupados BT1V                               0.688867\n",
       "Inactivo, rentista                             0.340989\n",
       "Desocupados en seguro de desempleo             0.292079\n",
       "Name: estado_laboral, dtype: float64"
      ]
     },
     "execution_count": 14,
     "metadata": {},
     "output_type": "execute_result"
    }
   ],
   "source": [
    "df['estado_laboral'].value_counts() / len(df['estado_laboral']) * 100"
   ]
  },
  {
   "cell_type": "code",
   "execution_count": 15,
   "id": "57c75813",
   "metadata": {},
   "outputs": [
    {
     "data": {
      "text/html": [
       "<div>\n",
       "<style scoped>\n",
       "    .dataframe tbody tr th:only-of-type {\n",
       "        vertical-align: middle;\n",
       "    }\n",
       "\n",
       "    .dataframe tbody tr th {\n",
       "        vertical-align: top;\n",
       "    }\n",
       "\n",
       "    .dataframe thead th {\n",
       "        text-align: right;\n",
       "    }\n",
       "</style>\n",
       "<table border=\"1\" class=\"dataframe\">\n",
       "  <thead>\n",
       "    <tr style=\"text-align: right;\">\n",
       "      <th></th>\n",
       "      <th>edad</th>\n",
       "      <th>sueldo</th>\n",
       "    </tr>\n",
       "    <tr>\n",
       "      <th>estado_laboral</th>\n",
       "      <th></th>\n",
       "      <th></th>\n",
       "    </tr>\n",
       "  </thead>\n",
       "  <tbody>\n",
       "    <tr>\n",
       "      <th>Desocupados BT1V</th>\n",
       "      <td>20.338000</td>\n",
       "      <td>0.000000</td>\n",
       "    </tr>\n",
       "    <tr>\n",
       "      <th>Desocupados en seguro de desempleo</th>\n",
       "      <td>37.865566</td>\n",
       "      <td>2287.735849</td>\n",
       "    </tr>\n",
       "    <tr>\n",
       "      <th>Desocupados propiamente dichos</th>\n",
       "      <td>34.348766</td>\n",
       "      <td>1062.989286</td>\n",
       "    </tr>\n",
       "    <tr>\n",
       "      <th>Inactivo, estudiante</th>\n",
       "      <td>17.600253</td>\n",
       "      <td>56.501901</td>\n",
       "    </tr>\n",
       "    <tr>\n",
       "      <th>Inactivo, jubilado</th>\n",
       "      <td>72.474731</td>\n",
       "      <td>90.880665</td>\n",
       "    </tr>\n",
       "    <tr>\n",
       "      <th>Inactivo, otro</th>\n",
       "      <td>35.807848</td>\n",
       "      <td>284.520485</td>\n",
       "    </tr>\n",
       "    <tr>\n",
       "      <th>Inactivo, pensionista</th>\n",
       "      <td>63.898536</td>\n",
       "      <td>16.830319</td>\n",
       "    </tr>\n",
       "    <tr>\n",
       "      <th>Inactivo, realiza los quehaceres del hogar</th>\n",
       "      <td>48.915314</td>\n",
       "      <td>271.754564</td>\n",
       "    </tr>\n",
       "    <tr>\n",
       "      <th>Inactivo, rentista</th>\n",
       "      <td>57.296970</td>\n",
       "      <td>105.858586</td>\n",
       "    </tr>\n",
       "    <tr>\n",
       "      <th>Menor 14 años</th>\n",
       "      <td>7.131091</td>\n",
       "      <td>1.067948</td>\n",
       "    </tr>\n",
       "    <tr>\n",
       "      <th>Ocupados</th>\n",
       "      <td>43.419106</td>\n",
       "      <td>21921.839529</td>\n",
       "    </tr>\n",
       "  </tbody>\n",
       "</table>\n",
       "</div>"
      ],
      "text/plain": [
       "                                                 edad        sueldo\n",
       "estado_laboral                                                     \n",
       "Desocupados BT1V                            20.338000      0.000000\n",
       "Desocupados en seguro de desempleo          37.865566   2287.735849\n",
       "Desocupados propiamente dichos              34.348766   1062.989286\n",
       "Inactivo, estudiante                        17.600253     56.501901\n",
       "Inactivo, jubilado                          72.474731     90.880665\n",
       "Inactivo, otro                              35.807848    284.520485\n",
       "Inactivo, pensionista                       63.898536     16.830319\n",
       "Inactivo, realiza los quehaceres del hogar  48.915314    271.754564\n",
       "Inactivo, rentista                          57.296970    105.858586\n",
       "Menor 14 años                                7.131091      1.067948\n",
       "Ocupados                                    43.419106  21921.839529"
      ]
     },
     "execution_count": 15,
     "metadata": {},
     "output_type": "execute_result"
    }
   ],
   "source": [
    "df.groupby(by='estado_laboral').mean()"
   ]
  },
  {
   "cell_type": "code",
   "execution_count": 16,
   "id": "ebc2df9b",
   "metadata": {},
   "outputs": [
    {
     "data": {
      "text/plain": [
       "<AxesSubplot:xlabel='ascendencia', ylabel='sueldo'>"
      ]
     },
     "execution_count": 16,
     "metadata": {},
     "output_type": "execute_result"
    },
    {
     "data": {
      "image/png": "[encoded data removed]",
      "text/plain": [
       "<Figure size 2160x576 with 1 Axes>"
      ]
     },
     "metadata": {},
     "output_type": "display_data"
    }
   ],
   "source": [
    "df = df[~df['ascendencia'].str.contains('Sin dato')]\n",
    "\n",
    "sns.boxplot(data=df, x='ascendencia', y='sueldo', hue='sexo')"
   ]
  },
  {
   "cell_type": "code",
   "execution_count": 17,
   "id": "737828c6",
   "metadata": {},
   "outputs": [
    {
     "data": {
      "text/plain": [
       "<AxesSubplot:xlabel='edad', ylabel='sueldo'>"
      ]
     },
     "execution_count": 17,
     "metadata": {},
     "output_type": "execute_result"
    },
    {
     "data": {
      "image/png": "[encoded data removed]",
      "text/plain": [
       "<Figure size 2160x576 with 1 Axes>"
      ]
     },
     "metadata": {},
     "output_type": "display_data"
    }
   ],
   "source": [
    "sns.lineplot(data=df, x='edad', y='sueldo',hue='sexo')"
   ]
  },
  {
   "cell_type": "markdown",
   "id": "3f3d7238",
   "metadata": {},
   "source": [
    "## Comienzo de análisis más profundo. \n",
    "\n",
    "En este punto nos empezamos a centrar en las madres, jefas de hogares."
   ]
  },
  {
   "cell_type": "code",
   "execution_count": 18,
   "id": "cb35fbc0",
   "metadata": {},
   "outputs": [
    {
     "data": {
      "text/plain": [
       "parentesco_num  parentesco                             \n",
       "6               Jefe/a de hogar                            58008\n",
       "1               Esposo/a o compañero/a                     30889\n",
       "3               Hijo/a de ambos                            26240\n",
       "5               Hijo/a solo del jefe/a                     15340\n",
       "7               Nieto/a                                     3784\n",
       "4               Hijo/a solo del esposo/a compañero/a        2181\n",
       "10              Padre/madre                                 1440\n",
       "2               Hermano/a                                    987\n",
       "14              Yerno/nuera                                  787\n",
       "9               Otro pariente                                783\n",
       "8               Otro no pariente                             749\n",
       "13              Suegro/a                                     363\n",
       "0               Cuñado/a                                     130\n",
       "11              Servicio doméstico o familiar del mismo       23\n",
       "dtype: int64"
      ]
     },
     "execution_count": 18,
     "metadata": {},
     "output_type": "execute_result"
    }
   ],
   "source": [
    "df['parentesco_num'] = df['parentesco'].cat.codes\n",
    "\n",
    "df[['parentesco_num', 'parentesco']].value_counts()"
   ]
  },
  {
   "cell_type": "code",
   "execution_count": 19,
   "id": "c7b74edd",
   "metadata": {},
   "outputs": [],
   "source": [
    "mask = df['parentesco_num'].isin([3,5,6])\n",
    "df = df[mask]\n",
    "\n",
    "df['es_madre'] = np.NaN\n",
    "df['es_madre'] = df['es_madre'].apply(lambda x:'madre').where(df['parentesco_num'] == 6).where(df['sexo'] == 2)"
   ]
  },
  {
   "cell_type": "markdown",
   "id": "af89dd6d",
   "metadata": {},
   "source": [
    "### Empezamos a centrarnos en las hogares monomarentales"
   ]
  },
  {
   "cell_type": "code",
   "execution_count": 20,
   "id": "18548b97",
   "metadata": {},
   "outputs": [
    {
     "data": {
      "text/html": [
       "<div>\n",
       "<style scoped>\n",
       "    .dataframe tbody tr th:only-of-type {\n",
       "        vertical-align: middle;\n",
       "    }\n",
       "\n",
       "    .dataframe tbody tr th {\n",
       "        vertical-align: top;\n",
       "    }\n",
       "\n",
       "    .dataframe thead th {\n",
       "        text-align: right;\n",
       "    }\n",
       "</style>\n",
       "<table border=\"1\" class=\"dataframe\">\n",
       "  <thead>\n",
       "    <tr style=\"text-align: right;\">\n",
       "      <th></th>\n",
       "      <th>id_hogar</th>\n",
       "      <th>sexo</th>\n",
       "      <th>edad</th>\n",
       "      <th>genero</th>\n",
       "      <th>ascendencia</th>\n",
       "      <th>parentesco</th>\n",
       "      <th>estado_laboral</th>\n",
       "      <th>nper</th>\n",
       "      <th>sueldo</th>\n",
       "      <th>busca_otro_trabajo</th>\n",
       "      <th>...</th>\n",
       "      <th>edu primaria</th>\n",
       "      <th>edu media</th>\n",
       "      <th>edu técnica</th>\n",
       "      <th>edu univ o simil</th>\n",
       "      <th>edu terciario no uni</th>\n",
       "      <th>edu posgrado</th>\n",
       "      <th>edu mag prof</th>\n",
       "      <th>parentesco_num</th>\n",
       "      <th>es_madre</th>\n",
       "      <th>hijos</th>\n",
       "    </tr>\n",
       "  </thead>\n",
       "  <tbody>\n",
       "    <tr>\n",
       "      <th>98872</th>\n",
       "      <td>5066</td>\n",
       "      <td>2.0</td>\n",
       "      <td>9.0</td>\n",
       "      <td>0.0</td>\n",
       "      <td>Blanca</td>\n",
       "      <td>Hijo/a de ambos</td>\n",
       "      <td>Menor 14 años</td>\n",
       "      <td>6.0</td>\n",
       "      <td>0.0</td>\n",
       "      <td>0.0</td>\n",
       "      <td>...</td>\n",
       "      <td>Asiste actualmente</td>\n",
       "      <td>0.0</td>\n",
       "      <td>0.0</td>\n",
       "      <td>0.0</td>\n",
       "      <td>0.0</td>\n",
       "      <td>0.0</td>\n",
       "      <td>0.0</td>\n",
       "      <td>3</td>\n",
       "      <td>NaN</td>\n",
       "      <td>3</td>\n",
       "    </tr>\n",
       "    <tr>\n",
       "      <th>123700</th>\n",
       "      <td>7653</td>\n",
       "      <td>2.0</td>\n",
       "      <td>66.0</td>\n",
       "      <td>Mujer</td>\n",
       "      <td>Blanca</td>\n",
       "      <td>Jefe/a de hogar</td>\n",
       "      <td>Inactivo, jubilado</td>\n",
       "      <td>1.0</td>\n",
       "      <td>0.0</td>\n",
       "      <td>0.0</td>\n",
       "      <td>...</td>\n",
       "      <td>Sí, asistió</td>\n",
       "      <td>Sí, asistió</td>\n",
       "      <td>No asistió</td>\n",
       "      <td>No asistió</td>\n",
       "      <td>No asistió</td>\n",
       "      <td>No asistió</td>\n",
       "      <td>Sí, asistió</td>\n",
       "      <td>6</td>\n",
       "      <td>madre</td>\n",
       "      <td>1</td>\n",
       "    </tr>\n",
       "    <tr>\n",
       "      <th>84459</th>\n",
       "      <td>44944</td>\n",
       "      <td>2.0</td>\n",
       "      <td>57.0</td>\n",
       "      <td>Mujer</td>\n",
       "      <td>Asiática o amarilla</td>\n",
       "      <td>Jefe/a de hogar</td>\n",
       "      <td>Ocupados</td>\n",
       "      <td>1.0</td>\n",
       "      <td>42000.0</td>\n",
       "      <td>No</td>\n",
       "      <td>...</td>\n",
       "      <td>Sí, asistió</td>\n",
       "      <td>Sí, asistió</td>\n",
       "      <td>No asistió</td>\n",
       "      <td>Sí, asistió</td>\n",
       "      <td>No asistió</td>\n",
       "      <td>No asistió</td>\n",
       "      <td>No asistió</td>\n",
       "      <td>6</td>\n",
       "      <td>madre</td>\n",
       "      <td>0</td>\n",
       "    </tr>\n",
       "    <tr>\n",
       "      <th>123256</th>\n",
       "      <td>7476</td>\n",
       "      <td>2.0</td>\n",
       "      <td>44.0</td>\n",
       "      <td>Mujer</td>\n",
       "      <td>Blanca</td>\n",
       "      <td>Hijo/a de ambos</td>\n",
       "      <td>Ocupados</td>\n",
       "      <td>3.0</td>\n",
       "      <td>38000.0</td>\n",
       "      <td>No</td>\n",
       "      <td>...</td>\n",
       "      <td>Sí, asistió</td>\n",
       "      <td>Sí, asistió</td>\n",
       "      <td>No asistió</td>\n",
       "      <td>Sí, asistió</td>\n",
       "      <td>No asistió</td>\n",
       "      <td>0.0</td>\n",
       "      <td>No asistió</td>\n",
       "      <td>3</td>\n",
       "      <td>NaN</td>\n",
       "      <td>1</td>\n",
       "    </tr>\n",
       "    <tr>\n",
       "      <th>13980</th>\n",
       "      <td>15566</td>\n",
       "      <td>2.0</td>\n",
       "      <td>39.0</td>\n",
       "      <td>Mujer</td>\n",
       "      <td>Blanca</td>\n",
       "      <td>Jefe/a de hogar</td>\n",
       "      <td>Ocupados</td>\n",
       "      <td>1.0</td>\n",
       "      <td>25000.0</td>\n",
       "      <td>No</td>\n",
       "      <td>...</td>\n",
       "      <td>Sí, asistió</td>\n",
       "      <td>Sí, asistió</td>\n",
       "      <td>No asistió</td>\n",
       "      <td>Sí, asistió</td>\n",
       "      <td>No asistió</td>\n",
       "      <td>No asistió</td>\n",
       "      <td>Sí, asistió</td>\n",
       "      <td>6</td>\n",
       "      <td>madre</td>\n",
       "      <td>0</td>\n",
       "    </tr>\n",
       "  </tbody>\n",
       "</table>\n",
       "<p>5 rows × 23 columns</p>\n",
       "</div>"
      ],
      "text/plain": [
       "       id_hogar sexo  edad genero          ascendencia       parentesco  \\\n",
       "98872      5066  2.0   9.0    0.0               Blanca  Hijo/a de ambos   \n",
       "123700     7653  2.0  66.0  Mujer               Blanca  Jefe/a de hogar   \n",
       "84459     44944  2.0  57.0  Mujer  Asiática o amarilla  Jefe/a de hogar   \n",
       "123256     7476  2.0  44.0  Mujer               Blanca  Hijo/a de ambos   \n",
       "13980     15566  2.0  39.0  Mujer               Blanca  Jefe/a de hogar   \n",
       "\n",
       "            estado_laboral nper   sueldo busca_otro_trabajo  ...  \\\n",
       "98872        Menor 14 años  6.0      0.0                0.0  ...   \n",
       "123700  Inactivo, jubilado  1.0      0.0                0.0  ...   \n",
       "84459             Ocupados  1.0  42000.0                 No  ...   \n",
       "123256            Ocupados  3.0  38000.0                 No  ...   \n",
       "13980             Ocupados  1.0  25000.0                 No  ...   \n",
       "\n",
       "              edu primaria    edu media edu técnica edu univ o simil  \\\n",
       "98872   Asiste actualmente          0.0         0.0              0.0   \n",
       "123700         Sí, asistió  Sí, asistió  No asistió       No asistió   \n",
       "84459          Sí, asistió  Sí, asistió  No asistió      Sí, asistió   \n",
       "123256         Sí, asistió  Sí, asistió  No asistió      Sí, asistió   \n",
       "13980          Sí, asistió  Sí, asistió  No asistió      Sí, asistió   \n",
       "\n",
       "       edu terciario no uni edu posgrado edu mag prof parentesco_num es_madre  \\\n",
       "98872                   0.0          0.0          0.0              3      NaN   \n",
       "123700           No asistió   No asistió  Sí, asistió              6    madre   \n",
       "84459            No asistió   No asistió   No asistió              6    madre   \n",
       "123256           No asistió          0.0   No asistió              3      NaN   \n",
       "13980            No asistió   No asistió  Sí, asistió              6    madre   \n",
       "\n",
       "       hijos  \n",
       "98872      3  \n",
       "123700     1  \n",
       "84459      0  \n",
       "123256     1  \n",
       "13980      0  \n",
       "\n",
       "[5 rows x 23 columns]"
      ]
     },
     "execution_count": 20,
     "metadata": {},
     "output_type": "execute_result"
    }
   ],
   "source": [
    "# Eliminamos hogares con jefes de hogar masculinos\n",
    "df_madre_y_familia = df.copy().drop(labels=list(df.loc[(df['sexo'] == 1) & (df['parentesco_num'] == 6)].index))\n",
    "\n",
    "#Creamos una columna que cuenta la cantidad de hijos por grupo familiar\n",
    "df_madre_y_familia['hijos'] = df_madre_y_familia.groupby('id_hogar')['id_hogar'].transform('count') - 1\n",
    "\n",
    "df_madre_y_familia.sample(5)"
   ]
  },
  {
   "cell_type": "markdown",
   "id": "dff9f5d5",
   "metadata": {},
   "source": [
    "### Cantidad de hijos"
   ]
  },
  {
   "cell_type": "code",
   "execution_count": 21,
   "id": "b32015a3",
   "metadata": {},
   "outputs": [
    {
     "data": {
      "text/plain": [
       "0.0    15520\n",
       "1.0     7901\n",
       "2.0     4190\n",
       "3.0     1253\n",
       "4.0      337\n",
       "5.0       80\n",
       "6.0       36\n",
       "7.0        5\n",
       "Name: hijos, dtype: int64"
      ]
     },
     "execution_count": 21,
     "metadata": {},
     "output_type": "execute_result"
    }
   ],
   "source": [
    "df_madre_y_familia.where(df['es_madre'].str.contains('madre'))['hijos'].value_counts()"
   ]
  },
  {
   "cell_type": "markdown",
   "id": "b42198ed",
   "metadata": {},
   "source": [
    "## Investigamos el contexto de las jefas de hogar"
   ]
  },
  {
   "cell_type": "code",
   "execution_count": 22,
   "id": "66d99271",
   "metadata": {},
   "outputs": [],
   "source": [
    "df_moms = df_madre_y_familia.copy()[df_madre_y_familia['es_madre'].notna()]\n",
    "\n",
    "df_moms.sample(5)\n",
    "\n",
    "df_moms.to_csv('moms.csv', index=None)"
   ]
  },
  {
   "cell_type": "code",
   "execution_count": 23,
   "id": "03c09cc7",
   "metadata": {},
   "outputs": [
    {
     "data": {
      "text/plain": [
       "Ocupados                                      14943\n",
       "Inactivo, jubilado                             7974\n",
       "Inactivo, pensionista                          2739\n",
       "Inactivo, realiza los quehaceres del hogar     2226\n",
       "Desocupados propiamente dichos                  981\n",
       "Inactivo, rentista                              216\n",
       "Inactivo, estudiante                            105\n",
       "Desocupados en seguro de desempleo               76\n",
       "Inactivo, otro                                   51\n",
       "Desocupados BT1V                                 10\n",
       "Menor 14 años                                     1\n",
       "Name: estado_laboral, dtype: int64"
      ]
     },
     "execution_count": 23,
     "metadata": {},
     "output_type": "execute_result"
    }
   ],
   "source": [
    "df_moms['estado_laboral'].value_counts()"
   ]
  },
  {
   "cell_type": "code",
   "execution_count": 24,
   "id": "71907804",
   "metadata": {},
   "outputs": [
    {
     "data": {
      "text/html": [
       "<div>\n",
       "<style scoped>\n",
       "    .dataframe tbody tr th:only-of-type {\n",
       "        vertical-align: middle;\n",
       "    }\n",
       "\n",
       "    .dataframe tbody tr th {\n",
       "        vertical-align: top;\n",
       "    }\n",
       "\n",
       "    .dataframe thead th {\n",
       "        text-align: right;\n",
       "    }\n",
       "</style>\n",
       "<table border=\"1\" class=\"dataframe\">\n",
       "  <thead>\n",
       "    <tr style=\"text-align: right;\">\n",
       "      <th></th>\n",
       "      <th>edad</th>\n",
       "      <th>sueldo</th>\n",
       "      <th>parentesco_num</th>\n",
       "      <th>hijos</th>\n",
       "    </tr>\n",
       "    <tr>\n",
       "      <th>estado_laboral</th>\n",
       "      <th></th>\n",
       "      <th></th>\n",
       "      <th></th>\n",
       "      <th></th>\n",
       "    </tr>\n",
       "  </thead>\n",
       "  <tbody>\n",
       "    <tr>\n",
       "      <th>Desocupados BT1V</th>\n",
       "      <td>22.800000</td>\n",
       "      <td>0.000000</td>\n",
       "      <td>6.0</td>\n",
       "      <td>1.000000</td>\n",
       "    </tr>\n",
       "    <tr>\n",
       "      <th>Desocupados en seguro de desempleo</th>\n",
       "      <td>40.078947</td>\n",
       "      <td>2467.105263</td>\n",
       "      <td>6.0</td>\n",
       "      <td>0.921053</td>\n",
       "    </tr>\n",
       "    <tr>\n",
       "      <th>Desocupados propiamente dichos</th>\n",
       "      <td>42.895005</td>\n",
       "      <td>631.106014</td>\n",
       "      <td>6.0</td>\n",
       "      <td>1.374108</td>\n",
       "    </tr>\n",
       "    <tr>\n",
       "      <th>Inactivo, estudiante</th>\n",
       "      <td>29.133333</td>\n",
       "      <td>0.000000</td>\n",
       "      <td>6.0</td>\n",
       "      <td>0.961905</td>\n",
       "    </tr>\n",
       "    <tr>\n",
       "      <th>Inactivo, jubilado</th>\n",
       "      <td>73.398294</td>\n",
       "      <td>105.613243</td>\n",
       "      <td>6.0</td>\n",
       "      <td>0.245548</td>\n",
       "    </tr>\n",
       "    <tr>\n",
       "      <th>Inactivo, otro</th>\n",
       "      <td>59.568627</td>\n",
       "      <td>137.254902</td>\n",
       "      <td>6.0</td>\n",
       "      <td>0.882353</td>\n",
       "    </tr>\n",
       "    <tr>\n",
       "      <th>Inactivo, pensionista</th>\n",
       "      <td>72.299014</td>\n",
       "      <td>22.891566</td>\n",
       "      <td>6.0</td>\n",
       "      <td>0.421687</td>\n",
       "    </tr>\n",
       "    <tr>\n",
       "      <th>Inactivo, realiza los quehaceres del hogar</th>\n",
       "      <td>50.667116</td>\n",
       "      <td>499.842767</td>\n",
       "      <td>6.0</td>\n",
       "      <td>1.172507</td>\n",
       "    </tr>\n",
       "    <tr>\n",
       "      <th>Inactivo, rentista</th>\n",
       "      <td>58.921296</td>\n",
       "      <td>242.592593</td>\n",
       "      <td>6.0</td>\n",
       "      <td>0.546296</td>\n",
       "    </tr>\n",
       "    <tr>\n",
       "      <th>Menor 14 años</th>\n",
       "      <td>0.000000</td>\n",
       "      <td>0.000000</td>\n",
       "      <td>6.0</td>\n",
       "      <td>2.000000</td>\n",
       "    </tr>\n",
       "    <tr>\n",
       "      <th>Ocupados</th>\n",
       "      <td>46.101586</td>\n",
       "      <td>23139.651007</td>\n",
       "      <td>6.0</td>\n",
       "      <td>0.978518</td>\n",
       "    </tr>\n",
       "  </tbody>\n",
       "</table>\n",
       "</div>"
      ],
      "text/plain": [
       "                                                 edad        sueldo  \\\n",
       "estado_laboral                                                        \n",
       "Desocupados BT1V                            22.800000      0.000000   \n",
       "Desocupados en seguro de desempleo          40.078947   2467.105263   \n",
       "Desocupados propiamente dichos              42.895005    631.106014   \n",
       "Inactivo, estudiante                        29.133333      0.000000   \n",
       "Inactivo, jubilado                          73.398294    105.613243   \n",
       "Inactivo, otro                              59.568627    137.254902   \n",
       "Inactivo, pensionista                       72.299014     22.891566   \n",
       "Inactivo, realiza los quehaceres del hogar  50.667116    499.842767   \n",
       "Inactivo, rentista                          58.921296    242.592593   \n",
       "Menor 14 años                                0.000000      0.000000   \n",
       "Ocupados                                    46.101586  23139.651007   \n",
       "\n",
       "                                            parentesco_num     hijos  \n",
       "estado_laboral                                                        \n",
       "Desocupados BT1V                                       6.0  1.000000  \n",
       "Desocupados en seguro de desempleo                     6.0  0.921053  \n",
       "Desocupados propiamente dichos                         6.0  1.374108  \n",
       "Inactivo, estudiante                                   6.0  0.961905  \n",
       "Inactivo, jubilado                                     6.0  0.245548  \n",
       "Inactivo, otro                                         6.0  0.882353  \n",
       "Inactivo, pensionista                                  6.0  0.421687  \n",
       "Inactivo, realiza los quehaceres del hogar             6.0  1.172507  \n",
       "Inactivo, rentista                                     6.0  0.546296  \n",
       "Menor 14 años                                          6.0  2.000000  \n",
       "Ocupados                                               6.0  0.978518  "
      ]
     },
     "execution_count": 24,
     "metadata": {},
     "output_type": "execute_result"
    }
   ],
   "source": [
    "df_moms.groupby(by='estado_laboral').mean()"
   ]
  },
  {
   "cell_type": "code",
   "execution_count": 25,
   "id": "f483e377",
   "metadata": {},
   "outputs": [
    {
     "data": {
      "text/plain": [
       "<seaborn.axisgrid.FacetGrid at 0x1802e1775e0>"
      ]
     },
     "execution_count": 25,
     "metadata": {},
     "output_type": "execute_result"
    },
    {
     "data": {
      "image/png": "[encoded data removed]",
      "text/plain": [
       "<Figure size 360x360 with 1 Axes>"
      ]
     },
     "metadata": {},
     "output_type": "display_data"
    }
   ],
   "source": [
    "sns.displot(df_moms['sueldo'])"
   ]
  },
  {
   "cell_type": "markdown",
   "id": "3e14297e",
   "metadata": {},
   "source": [
    "### En la gráfica anterior nos enfrentamos a la necesidad de eliminar outliers para realizar un análisis más ajustado a la realidad general de las madres"
   ]
  },
  {
   "cell_type": "code",
   "execution_count": 26,
   "id": "2c8cae60",
   "metadata": {},
   "outputs": [],
   "source": [
    "moms_sueldos_no_outliers = df_moms[df_moms['estado_laboral'].str.contains('Ocupados')].copy()\n",
    "moms_sueldos_no_outliers = moms_sueldos_no_outliers[moms_sueldos_no_outliers['edad'] > 14]\n",
    "moms_sueldos_no_outliers = moms_sueldos_no_outliers[moms_sueldos_no_outliers['sueldo'] > 0]"
   ]
  },
  {
   "cell_type": "code",
   "execution_count": 27,
   "id": "b6241dab",
   "metadata": {},
   "outputs": [
    {
     "name": "stdout",
     "output_type": "stream",
     "text": [
      "120000.0\n"
     ]
    }
   ],
   "source": [
    "quantil_99 = moms_sueldos_no_outliers['sueldo'].quantile(0.99)\n",
    "print(quantil_99)\n",
    "\n",
    "moms_sueldos_no_outliers = moms_sueldos_no_outliers[moms_sueldos_no_outliers['sueldo'] < quantil_99]\n",
    "\n",
    "quartil_1 = moms_sueldos_no_outliers['sueldo'].quantile(0.25)\n",
    "quartil_3 = moms_sueldos_no_outliers['sueldo'].quantile(0.75)\n",
    "\n",
    "iqr =  quartil_3 - quartil_1\n",
    "\n",
    "moms_sueldos_no_outliers = moms_sueldos_no_outliers[moms_sueldos_no_outliers['sueldo'] < quartil_3 + 1.5 * iqr]\n",
    "\n",
    "moms_sueldos_no_outliers = moms_sueldos_no_outliers[moms_sueldos_no_outliers['sueldo'] > quartil_1 - 1.5 * iqr]"
   ]
  },
  {
   "cell_type": "code",
   "execution_count": 28,
   "id": "169dd67b",
   "metadata": {},
   "outputs": [
    {
     "data": {
      "text/plain": [
       "<seaborn.axisgrid.FacetGrid at 0x1802c4dab80>"
      ]
     },
     "execution_count": 28,
     "metadata": {},
     "output_type": "execute_result"
    },
    {
     "data": {
      "image/png": "[encoded data removed]",
      "text/plain": [
       "<Figure size 360x360 with 1 Axes>"
      ]
     },
     "metadata": {},
     "output_type": "display_data"
    }
   ],
   "source": [
    "sns.displot(moms_sueldos_no_outliers['sueldo'])"
   ]
  },
  {
   "cell_type": "markdown",
   "id": "29f78af6",
   "metadata": {},
   "source": [
    "### Sueldo por cantidad de hijos"
   ]
  },
  {
   "cell_type": "code",
   "execution_count": 29,
   "id": "b8d6c685",
   "metadata": {},
   "outputs": [
    {
     "data": {
      "image/png": "[encoded data removed]",
      "text/plain": [
       "<Figure size 2160x576 with 1 Axes>"
      ]
     },
     "metadata": {},
     "output_type": "display_data"
    }
   ],
   "source": [
    "sns.boxplot(data=moms_sueldos_no_outliers, x='hijos', y='sueldo')\n",
    "\n",
    "plt.show()"
   ]
  },
  {
   "cell_type": "code",
   "execution_count": 30,
   "id": "c8b6360e",
   "metadata": {},
   "outputs": [
    {
     "data": {
      "text/html": [
       "<div>\n",
       "<style scoped>\n",
       "    .dataframe tbody tr th:only-of-type {\n",
       "        vertical-align: middle;\n",
       "    }\n",
       "\n",
       "    .dataframe tbody tr th {\n",
       "        vertical-align: top;\n",
       "    }\n",
       "\n",
       "    .dataframe thead th {\n",
       "        text-align: right;\n",
       "    }\n",
       "</style>\n",
       "<table border=\"1\" class=\"dataframe\">\n",
       "  <thead>\n",
       "    <tr style=\"text-align: right;\">\n",
       "      <th></th>\n",
       "      <th>count</th>\n",
       "      <th>mean</th>\n",
       "      <th>std</th>\n",
       "      <th>min</th>\n",
       "      <th>25%</th>\n",
       "      <th>50%</th>\n",
       "      <th>75%</th>\n",
       "      <th>max</th>\n",
       "    </tr>\n",
       "  </thead>\n",
       "  <tbody>\n",
       "    <tr>\n",
       "      <th>edad</th>\n",
       "      <td>10087.0</td>\n",
       "      <td>44.854466</td>\n",
       "      <td>11.302478</td>\n",
       "      <td>19.0</td>\n",
       "      <td>36.0</td>\n",
       "      <td>45.0</td>\n",
       "      <td>54.0</td>\n",
       "      <td>84.0</td>\n",
       "    </tr>\n",
       "    <tr>\n",
       "      <th>sueldo</th>\n",
       "      <td>10087.0</td>\n",
       "      <td>28352.845742</td>\n",
       "      <td>15801.092222</td>\n",
       "      <td>300.0</td>\n",
       "      <td>17000.0</td>\n",
       "      <td>26000.0</td>\n",
       "      <td>38000.0</td>\n",
       "      <td>74000.0</td>\n",
       "    </tr>\n",
       "    <tr>\n",
       "      <th>hijos</th>\n",
       "      <td>10087.0</td>\n",
       "      <td>0.965401</td>\n",
       "      <td>0.985666</td>\n",
       "      <td>0.0</td>\n",
       "      <td>0.0</td>\n",
       "      <td>1.0</td>\n",
       "      <td>2.0</td>\n",
       "      <td>6.0</td>\n",
       "    </tr>\n",
       "  </tbody>\n",
       "</table>\n",
       "</div>"
      ],
      "text/plain": [
       "          count          mean           std    min      25%      50%      75%  \\\n",
       "edad    10087.0     44.854466     11.302478   19.0     36.0     45.0     54.0   \n",
       "sueldo  10087.0  28352.845742  15801.092222  300.0  17000.0  26000.0  38000.0   \n",
       "hijos   10087.0      0.965401      0.985666    0.0      0.0      1.0      2.0   \n",
       "\n",
       "            max  \n",
       "edad       84.0  \n",
       "sueldo  74000.0  \n",
       "hijos       6.0  "
      ]
     },
     "execution_count": 30,
     "metadata": {},
     "output_type": "execute_result"
    }
   ],
   "source": [
    "moms_sueldos_no_outliers[['edad', 'sueldo', 'hijos']].describe().transpose()"
   ]
  },
  {
   "cell_type": "markdown",
   "id": "f07e6440",
   "metadata": {},
   "source": [
    "### Sueldo por ascendencia"
   ]
  },
  {
   "cell_type": "code",
   "execution_count": 31,
   "id": "52242636",
   "metadata": {},
   "outputs": [
    {
     "data": {
      "text/plain": [
       "<AxesSubplot:xlabel='ascendencia', ylabel='sueldo'>"
      ]
     },
     "execution_count": 31,
     "metadata": {},
     "output_type": "execute_result"
    },
    {
     "data": {
      "image/png": "[encoded data removed]",
      "text/plain": [
       "<Figure size 2160x576 with 1 Axes>"
      ]
     },
     "metadata": {},
     "output_type": "display_data"
    }
   ],
   "source": [
    "sns.boxplot(data=moms_sueldos_no_outliers, x='ascendencia', y='sueldo')"
   ]
  },
  {
   "cell_type": "code",
   "execution_count": 32,
   "id": "5259c96d",
   "metadata": {},
   "outputs": [
    {
     "data": {
      "text/html": [
       "<div>\n",
       "<style scoped>\n",
       "    .dataframe tbody tr th:only-of-type {\n",
       "        vertical-align: middle;\n",
       "    }\n",
       "\n",
       "    .dataframe tbody tr th {\n",
       "        vertical-align: top;\n",
       "    }\n",
       "\n",
       "    .dataframe thead th {\n",
       "        text-align: right;\n",
       "    }\n",
       "</style>\n",
       "<table border=\"1\" class=\"dataframe\">\n",
       "  <thead>\n",
       "    <tr style=\"text-align: right;\">\n",
       "      <th></th>\n",
       "      <th>id_hogar</th>\n",
       "      <th>sexo</th>\n",
       "      <th>edad</th>\n",
       "      <th>genero</th>\n",
       "      <th>ascendencia</th>\n",
       "      <th>parentesco</th>\n",
       "      <th>estado_laboral</th>\n",
       "      <th>nper</th>\n",
       "      <th>sueldo</th>\n",
       "      <th>busca_otro_trabajo</th>\n",
       "      <th>...</th>\n",
       "      <th>edu primaria</th>\n",
       "      <th>edu media</th>\n",
       "      <th>edu técnica</th>\n",
       "      <th>edu univ o simil</th>\n",
       "      <th>edu terciario no uni</th>\n",
       "      <th>edu posgrado</th>\n",
       "      <th>edu mag prof</th>\n",
       "      <th>parentesco_num</th>\n",
       "      <th>es_madre</th>\n",
       "      <th>hijos</th>\n",
       "    </tr>\n",
       "  </thead>\n",
       "  <tbody>\n",
       "    <tr>\n",
       "      <th>122577</th>\n",
       "      <td>7231</td>\n",
       "      <td>2.0</td>\n",
       "      <td>37.0</td>\n",
       "      <td>Mujer</td>\n",
       "      <td>Blanca</td>\n",
       "      <td>Jefe/a de hogar</td>\n",
       "      <td>Ocupados</td>\n",
       "      <td>1.0</td>\n",
       "      <td>32000.0</td>\n",
       "      <td>No</td>\n",
       "      <td>...</td>\n",
       "      <td>Sí, asistió</td>\n",
       "      <td>Sí, asistió</td>\n",
       "      <td>No asistió</td>\n",
       "      <td>Sí, asistió</td>\n",
       "      <td>No asistió</td>\n",
       "      <td>0.0</td>\n",
       "      <td>No asistió</td>\n",
       "      <td>6</td>\n",
       "      <td>madre</td>\n",
       "      <td>1</td>\n",
       "    </tr>\n",
       "    <tr>\n",
       "      <th>144843</th>\n",
       "      <td>8976</td>\n",
       "      <td>2.0</td>\n",
       "      <td>45.0</td>\n",
       "      <td>Mujer</td>\n",
       "      <td>Blanca</td>\n",
       "      <td>Jefe/a de hogar</td>\n",
       "      <td>Ocupados</td>\n",
       "      <td>1.0</td>\n",
       "      <td>20000.0</td>\n",
       "      <td>Sí</td>\n",
       "      <td>...</td>\n",
       "      <td>Sí, asistió</td>\n",
       "      <td>Sí, asistió</td>\n",
       "      <td>Sí, asistió</td>\n",
       "      <td>No asistió</td>\n",
       "      <td>No asistió</td>\n",
       "      <td>0.0</td>\n",
       "      <td>No asistió</td>\n",
       "      <td>6</td>\n",
       "      <td>madre</td>\n",
       "      <td>0</td>\n",
       "    </tr>\n",
       "    <tr>\n",
       "      <th>101815</th>\n",
       "      <td>5173</td>\n",
       "      <td>2.0</td>\n",
       "      <td>56.0</td>\n",
       "      <td>Mujer</td>\n",
       "      <td>Asiática o amarilla</td>\n",
       "      <td>Jefe/a de hogar</td>\n",
       "      <td>Ocupados</td>\n",
       "      <td>1.0</td>\n",
       "      <td>40000.0</td>\n",
       "      <td>No</td>\n",
       "      <td>...</td>\n",
       "      <td>Sí, asistió</td>\n",
       "      <td>Sí, asistió</td>\n",
       "      <td>No asistió</td>\n",
       "      <td>Sí, asistió</td>\n",
       "      <td>No asistió</td>\n",
       "      <td>No asistió</td>\n",
       "      <td>No asistió</td>\n",
       "      <td>6</td>\n",
       "      <td>madre</td>\n",
       "      <td>3</td>\n",
       "    </tr>\n",
       "    <tr>\n",
       "      <th>99818</th>\n",
       "      <td>51031</td>\n",
       "      <td>2.0</td>\n",
       "      <td>59.0</td>\n",
       "      <td>Mujer</td>\n",
       "      <td>Blanca</td>\n",
       "      <td>Jefe/a de hogar</td>\n",
       "      <td>Ocupados</td>\n",
       "      <td>1.0</td>\n",
       "      <td>31000.0</td>\n",
       "      <td>No</td>\n",
       "      <td>...</td>\n",
       "      <td>Sí, asistió</td>\n",
       "      <td>Sí, asistió</td>\n",
       "      <td>Sí, asistió</td>\n",
       "      <td>0.0</td>\n",
       "      <td>0.0</td>\n",
       "      <td>0.0</td>\n",
       "      <td>0.0</td>\n",
       "      <td>6</td>\n",
       "      <td>madre</td>\n",
       "      <td>0</td>\n",
       "    </tr>\n",
       "    <tr>\n",
       "      <th>43113</th>\n",
       "      <td>279</td>\n",
       "      <td>2.0</td>\n",
       "      <td>49.0</td>\n",
       "      <td>Mujer</td>\n",
       "      <td>Blanca</td>\n",
       "      <td>Jefe/a de hogar</td>\n",
       "      <td>Ocupados</td>\n",
       "      <td>1.0</td>\n",
       "      <td>35000.0</td>\n",
       "      <td>No</td>\n",
       "      <td>...</td>\n",
       "      <td>Sí, asistió</td>\n",
       "      <td>Sí, asistió</td>\n",
       "      <td>No asistió</td>\n",
       "      <td>No asistió</td>\n",
       "      <td>No asistió</td>\n",
       "      <td>0.0</td>\n",
       "      <td>No asistió</td>\n",
       "      <td>6</td>\n",
       "      <td>madre</td>\n",
       "      <td>2</td>\n",
       "    </tr>\n",
       "  </tbody>\n",
       "</table>\n",
       "<p>5 rows × 23 columns</p>\n",
       "</div>"
      ],
      "text/plain": [
       "       id_hogar sexo  edad genero          ascendencia       parentesco  \\\n",
       "122577     7231  2.0  37.0  Mujer               Blanca  Jefe/a de hogar   \n",
       "144843     8976  2.0  45.0  Mujer               Blanca  Jefe/a de hogar   \n",
       "101815     5173  2.0  56.0  Mujer  Asiática o amarilla  Jefe/a de hogar   \n",
       "99818     51031  2.0  59.0  Mujer               Blanca  Jefe/a de hogar   \n",
       "43113       279  2.0  49.0  Mujer               Blanca  Jefe/a de hogar   \n",
       "\n",
       "       estado_laboral nper   sueldo busca_otro_trabajo  ... edu primaria  \\\n",
       "122577       Ocupados  1.0  32000.0                 No  ...  Sí, asistió   \n",
       "144843       Ocupados  1.0  20000.0                 Sí  ...  Sí, asistió   \n",
       "101815       Ocupados  1.0  40000.0                 No  ...  Sí, asistió   \n",
       "99818        Ocupados  1.0  31000.0                 No  ...  Sí, asistió   \n",
       "43113        Ocupados  1.0  35000.0                 No  ...  Sí, asistió   \n",
       "\n",
       "          edu media  edu técnica edu univ o simil edu terciario no uni  \\\n",
       "122577  Sí, asistió   No asistió      Sí, asistió           No asistió   \n",
       "144843  Sí, asistió  Sí, asistió       No asistió           No asistió   \n",
       "101815  Sí, asistió   No asistió      Sí, asistió           No asistió   \n",
       "99818   Sí, asistió  Sí, asistió              0.0                  0.0   \n",
       "43113   Sí, asistió   No asistió       No asistió           No asistió   \n",
       "\n",
       "       edu posgrado edu mag prof parentesco_num es_madre hijos  \n",
       "122577          0.0   No asistió              6    madre     1  \n",
       "144843          0.0   No asistió              6    madre     0  \n",
       "101815   No asistió   No asistió              6    madre     3  \n",
       "99818           0.0          0.0              6    madre     0  \n",
       "43113           0.0   No asistió              6    madre     2  \n",
       "\n",
       "[5 rows x 23 columns]"
      ]
     },
     "execution_count": 32,
     "metadata": {},
     "output_type": "execute_result"
    }
   ],
   "source": [
    "moms_sueldos_no_outliers.sample(5)"
   ]
  },
  {
   "cell_type": "markdown",
   "id": "5e867eaf",
   "metadata": {},
   "source": [
    "Tiene trabajo sí o no\n",
    "\n",
    "label encoding y despues get dummies"
   ]
  },
  {
   "cell_type": "markdown",
   "id": "2befb0ad",
   "metadata": {},
   "source": [
    "variable target no columnas, necesitamos una sola columna. hacer encoding de eso\n",
    "\n",
    "cross validation - 10 fold - testear que no haya overfitting, separa el dataset en k folds\n",
    "\n",
    "standard scaler\n",
    "\n",
    "pca scikit`"
   ]
  }
 ],
 "metadata": {
  "colab": {
   "collapsed_sections": [],
   "name": "hyp_2020.ipynb",
   "provenance": []
  },
  "interpreter": {
   "hash": "75e6c507d3dc3ae925363b2017575e90bab1377ac63bc8a3a3d6fc67099bf175"
  },
  "kernelspec": {
   "display_name": "Python 3 (ipykernel)",
   "language": "python",
   "name": "python3"
  },
  "language_info": {
   "codemirror_mode": {
    "name": "ipython",
    "version": 3
   },
   "file_extension": ".py",
   "mimetype": "text/x-python",
   "name": "python",
   "nbconvert_exporter": "python",
   "pygments_lexer": "ipython3",
   "version": "3.9.6"
  }
 },
 "nbformat": 4,
 "nbformat_minor": 5
}
