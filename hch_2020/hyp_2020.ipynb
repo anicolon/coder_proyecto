{
 "cells": [
  {
   "cell_type": "markdown",
   "id": "1601f240",
   "metadata": {},
   "source": [
    "# ECH - Encuesta continua de hogares 2020"
   ]
  },
  {
   "cell_type": "markdown",
   "id": "dc18d698",
   "metadata": {},
   "source": [
    "## Objetivos\n",
    "\n",
    "### En esta investigación buscamos determinar cuánto afecta el nivel educativo, la cantidad de hijos y otros indicadores, a la inserción en el mercado laboral de las mujeres uruguayas. Luego de un análisis principal de la base para conocer el contexto general de la investigación, intentaremos crear un algoritmo de clasificación para entender la influencia de distintas variables categóricas en un resultado determinado."
   ]
  },
  {
   "cell_type": "markdown",
   "metadata": {},
   "source": [
    "### Librerias a utilizar"
   ]
  },
  {
   "cell_type": "code",
   "execution_count": 1,
   "id": "c586d922",
   "metadata": {
    "colab": {
     "base_uri": "https://localhost:8080/"
    },
    "executionInfo": {
     "elapsed": 3668,
     "status": "ok",
     "timestamp": 1630614475712,
     "user": {
      "displayName": "Andy Nicolón",
      "photoUrl": "https://lh3.googleusercontent.com/a-/AOh14Ggdjr_wvrps129lCKPMFcAm4H3KsbYN0eUakr5_oQ=s64",
      "userId": "09514318996408391655"
     },
     "user_tz": 180
    },
    "id": "1172c179-0cd4-4c86-9c23-e10a0a73a315",
    "outputId": "9f84e330-a100-48a8-82db-a124be99fe3e"
   },
   "outputs": [],
   "source": [
    "import pandas as pd\n",
    "import numpy as np\n",
    "import matplotlib.pyplot as plt\n",
    "import seaborn as sns\n",
    "\n",
    "sns.set(rc={'figure.figsize':(30,8)})"
   ]
  },
  {
   "cell_type": "markdown",
   "metadata": {},
   "source": [
    "## Importar dataset y seleccionar atributos de análisis principales.\n",
    "\n",
    "##### * Para leer el archivo es necesario contar con la libreria _pyreadstat_"
   ]
  },
  {
   "cell_type": "code",
   "execution_count": 2,
   "id": "2c8d9b49",
   "metadata": {
    "id": "I5_lAvQeEFTM"
   },
   "outputs": [],
   "source": [
    "df = pd.read_spss('HyP_2020_Terceros.sav')\n",
    "\n",
    "df = df.rename(columns={\n",
    "    'numero': 'id_hogar',\n",
    "    'e26': 'sexo',\n",
    "    'e27': 'edad',\n",
    "    'e563': 'genero',\n",
    "    'e29_6': 'ascendencia',\n",
    "    'e30': 'parentesco',\n",
    "    'pobpcoac': 'estado_laboral',\n",
    "    'g126_1': 'sueldo',\n",
    "    'f99': 'busca_otro_trabajo',\n",
    "    'f72_2': 'actividad',\n",
    "    'e49_CV': 'asistencia a enseñanza',\n",
    "    'e49': 'asistencia alguna vez a enseñanza',\n",
    "    'e193': 'edu preescolar',\n",
    "    'e197': 'edu primaria',\n",
    "    'e201': 'edu media',\n",
    "    'e212': 'edu técnica',\n",
    "    'e215': 'edu mag prof',\n",
    "    'e218': 'edu univ o simil',\n",
    "    'e221': 'edu terciario no uni',\n",
    "    'e224': 'edu posgrado'\n",
    "    })\n",
    "\n",
    "df = df[[\n",
    "    'id_hogar', \n",
    "    'sexo', \n",
    "    'edad', \n",
    "    'genero', \n",
    "    'ascendencia', \n",
    "    'parentesco', \n",
    "    'estado_laboral', \n",
    "    'nper', \n",
    "    'sueldo', \n",
    "    'busca_otro_trabajo',\n",
    "    'actividad',\n",
    "    'asistencia alguna vez a enseñanza',\n",
    "    'edu preescolar',\n",
    "    'edu primaria',\n",
    "    'edu media',\n",
    "    'edu técnica',\n",
    "    'edu univ o simil',\n",
    "    'edu terciario no uni',\n",
    "    'edu posgrado',\n",
    "    'edu mag prof',\n",
    "    ]]\n",
    "\n",
    "df['nper'] = df['nper'].astype('category')\n",
    "df['sexo'] = df['sexo'].apply(lambda x:'Masculino' if x == 1 else 'Femenino')\n"
   ]
  },
  {
   "cell_type": "markdown",
   "metadata": {},
   "source": [
    "# Primera exposición a los datos"
   ]
  },
  {
   "cell_type": "code",
   "execution_count": 3,
   "id": "51713019",
   "metadata": {
    "colab": {
     "base_uri": "https://localhost:8080/",
     "height": 644
    },
    "executionInfo": {
     "elapsed": 15,
     "status": "ok",
     "timestamp": 1630614533384,
     "user": {
      "displayName": "Andy Nicolón",
      "photoUrl": "https://lh3.googleusercontent.com/a-/AOh14Ggdjr_wvrps129lCKPMFcAm4H3KsbYN0eUakr5_oQ=s64",
      "userId": "09514318996408391655"
     },
     "user_tz": 180
    },
    "id": "_ymYU4JkDl8e",
    "outputId": "ff46b035-24f2-4ac4-d72c-d020e977299f"
   },
   "outputs": [
    {
     "data": {
      "text/html": [
       "<div>\n",
       "<style scoped>\n",
       "    .dataframe tbody tr th:only-of-type {\n",
       "        vertical-align: middle;\n",
       "    }\n",
       "\n",
       "    .dataframe tbody tr th {\n",
       "        vertical-align: top;\n",
       "    }\n",
       "\n",
       "    .dataframe thead th {\n",
       "        text-align: right;\n",
       "    }\n",
       "</style>\n",
       "<table border=\"1\" class=\"dataframe\">\n",
       "  <thead>\n",
       "    <tr style=\"text-align: right;\">\n",
       "      <th></th>\n",
       "      <th>id_hogar</th>\n",
       "      <th>sexo</th>\n",
       "      <th>edad</th>\n",
       "      <th>genero</th>\n",
       "      <th>ascendencia</th>\n",
       "      <th>parentesco</th>\n",
       "      <th>estado_laboral</th>\n",
       "      <th>nper</th>\n",
       "      <th>sueldo</th>\n",
       "      <th>busca_otro_trabajo</th>\n",
       "      <th>actividad</th>\n",
       "      <th>asistencia alguna vez a enseñanza</th>\n",
       "      <th>edu preescolar</th>\n",
       "      <th>edu primaria</th>\n",
       "      <th>edu media</th>\n",
       "      <th>edu técnica</th>\n",
       "      <th>edu univ o simil</th>\n",
       "      <th>edu terciario no uni</th>\n",
       "      <th>edu posgrado</th>\n",
       "      <th>edu mag prof</th>\n",
       "    </tr>\n",
       "  </thead>\n",
       "  <tbody>\n",
       "    <tr>\n",
       "      <th>103870</th>\n",
       "      <td>52450</td>\n",
       "      <td>Masculino</td>\n",
       "      <td>61.0</td>\n",
       "      <td>Varón</td>\n",
       "      <td>Asiática o amarilla</td>\n",
       "      <td>Jefe/a de hogar</td>\n",
       "      <td>Ocupados</td>\n",
       "      <td>1.0</td>\n",
       "      <td>0.0</td>\n",
       "      <td>No</td>\n",
       "      <td>Propagación de plantas</td>\n",
       "      <td>Sí</td>\n",
       "      <td>No asistió</td>\n",
       "      <td>Sí, asistió</td>\n",
       "      <td>Sí, asistió</td>\n",
       "      <td>No asistió</td>\n",
       "      <td>0.0</td>\n",
       "      <td>0.0</td>\n",
       "      <td>0.0</td>\n",
       "      <td>0.0</td>\n",
       "    </tr>\n",
       "    <tr>\n",
       "      <th>46067</th>\n",
       "      <td>29139</td>\n",
       "      <td>Masculino</td>\n",
       "      <td>7.0</td>\n",
       "      <td>0.0</td>\n",
       "      <td>Asiática o amarilla</td>\n",
       "      <td>Hijo/a de ambos</td>\n",
       "      <td>Menor 14 años</td>\n",
       "      <td>4.0</td>\n",
       "      <td>0.0</td>\n",
       "      <td>0.0</td>\n",
       "      <td></td>\n",
       "      <td>Sí</td>\n",
       "      <td>Sí, asistió</td>\n",
       "      <td>Asiste actualmente</td>\n",
       "      <td>0.0</td>\n",
       "      <td>0.0</td>\n",
       "      <td>0.0</td>\n",
       "      <td>0.0</td>\n",
       "      <td>0.0</td>\n",
       "      <td>0.0</td>\n",
       "    </tr>\n",
       "    <tr>\n",
       "      <th>104069</th>\n",
       "      <td>52520</td>\n",
       "      <td>Masculino</td>\n",
       "      <td>7.0</td>\n",
       "      <td>0.0</td>\n",
       "      <td>Blanca</td>\n",
       "      <td>Hijo/a de ambos</td>\n",
       "      <td>Menor 14 años</td>\n",
       "      <td>3.0</td>\n",
       "      <td>0.0</td>\n",
       "      <td>0.0</td>\n",
       "      <td></td>\n",
       "      <td>Sí</td>\n",
       "      <td>Asiste actualmente</td>\n",
       "      <td>0.0</td>\n",
       "      <td>0.0</td>\n",
       "      <td>0.0</td>\n",
       "      <td>0.0</td>\n",
       "      <td>0.0</td>\n",
       "      <td>0.0</td>\n",
       "      <td>0.0</td>\n",
       "    </tr>\n",
       "    <tr>\n",
       "      <th>87039</th>\n",
       "      <td>45949</td>\n",
       "      <td>Masculino</td>\n",
       "      <td>74.0</td>\n",
       "      <td>Varón</td>\n",
       "      <td>Blanca</td>\n",
       "      <td>Esposo/a o compañero/a</td>\n",
       "      <td>Inactivo, jubilado</td>\n",
       "      <td>2.0</td>\n",
       "      <td>0.0</td>\n",
       "      <td>0.0</td>\n",
       "      <td></td>\n",
       "      <td>Sí</td>\n",
       "      <td>No asistió</td>\n",
       "      <td>Sí, asistió</td>\n",
       "      <td>0.0</td>\n",
       "      <td>No asistió</td>\n",
       "      <td>0.0</td>\n",
       "      <td>0.0</td>\n",
       "      <td>0.0</td>\n",
       "      <td>0.0</td>\n",
       "    </tr>\n",
       "    <tr>\n",
       "      <th>39717</th>\n",
       "      <td>26632</td>\n",
       "      <td>Masculino</td>\n",
       "      <td>40.0</td>\n",
       "      <td>Varón</td>\n",
       "      <td>Blanca</td>\n",
       "      <td>Hijo/a de ambos</td>\n",
       "      <td>Ocupados</td>\n",
       "      <td>3.0</td>\n",
       "      <td>0.0</td>\n",
       "      <td>No</td>\n",
       "      <td>Comercio al por menor de aparatos, muebles, ar...</td>\n",
       "      <td>Sí</td>\n",
       "      <td>Sí, asistió</td>\n",
       "      <td>Sí, asistió</td>\n",
       "      <td>Sí, asistió</td>\n",
       "      <td>No asistió</td>\n",
       "      <td>0.0</td>\n",
       "      <td>0.0</td>\n",
       "      <td>0.0</td>\n",
       "      <td>0.0</td>\n",
       "    </tr>\n",
       "  </tbody>\n",
       "</table>\n",
       "</div>"
      ],
      "text/plain": [
       "       id_hogar       sexo  edad genero          ascendencia  \\\n",
       "103870    52450  Masculino  61.0  Varón  Asiática o amarilla   \n",
       "46067     29139  Masculino   7.0    0.0  Asiática o amarilla   \n",
       "104069    52520  Masculino   7.0    0.0               Blanca   \n",
       "87039     45949  Masculino  74.0  Varón               Blanca   \n",
       "39717     26632  Masculino  40.0  Varón               Blanca   \n",
       "\n",
       "                    parentesco      estado_laboral nper  sueldo  \\\n",
       "103870         Jefe/a de hogar            Ocupados  1.0     0.0   \n",
       "46067          Hijo/a de ambos       Menor 14 años  4.0     0.0   \n",
       "104069         Hijo/a de ambos       Menor 14 años  3.0     0.0   \n",
       "87039   Esposo/a o compañero/a  Inactivo, jubilado  2.0     0.0   \n",
       "39717          Hijo/a de ambos            Ocupados  3.0     0.0   \n",
       "\n",
       "       busca_otro_trabajo                                          actividad  \\\n",
       "103870                 No                             Propagación de plantas   \n",
       "46067                 0.0                                                      \n",
       "104069                0.0                                                      \n",
       "87039                 0.0                                                      \n",
       "39717                  No  Comercio al por menor de aparatos, muebles, ar...   \n",
       "\n",
       "       asistencia alguna vez a enseñanza      edu preescolar  \\\n",
       "103870                                Sí          No asistió   \n",
       "46067                                 Sí         Sí, asistió   \n",
       "104069                                Sí  Asiste actualmente   \n",
       "87039                                 Sí          No asistió   \n",
       "39717                                 Sí         Sí, asistió   \n",
       "\n",
       "              edu primaria    edu media edu técnica edu univ o simil  \\\n",
       "103870         Sí, asistió  Sí, asistió  No asistió              0.0   \n",
       "46067   Asiste actualmente          0.0         0.0              0.0   \n",
       "104069                 0.0          0.0         0.0              0.0   \n",
       "87039          Sí, asistió          0.0  No asistió              0.0   \n",
       "39717          Sí, asistió  Sí, asistió  No asistió              0.0   \n",
       "\n",
       "       edu terciario no uni edu posgrado edu mag prof  \n",
       "103870                  0.0          0.0          0.0  \n",
       "46067                   0.0          0.0          0.0  \n",
       "104069                  0.0          0.0          0.0  \n",
       "87039                   0.0          0.0          0.0  \n",
       "39717                   0.0          0.0          0.0  "
      ]
     },
     "execution_count": 3,
     "metadata": {},
     "output_type": "execute_result"
    }
   ],
   "source": [
    "df.sample(5)"
   ]
  },
  {
   "cell_type": "code",
   "execution_count": 4,
   "id": "21f66366",
   "metadata": {
    "colab": {
     "base_uri": "https://localhost:8080/"
    },
    "executionInfo": {
     "elapsed": 13,
     "status": "ok",
     "timestamp": 1630614534006,
     "user": {
      "displayName": "Andy Nicolón",
      "photoUrl": "https://lh3.googleusercontent.com/a-/AOh14Ggdjr_wvrps129lCKPMFcAm4H3KsbYN0eUakr5_oQ=s64",
      "userId": "09514318996408391655"
     },
     "user_tz": 180
    },
    "id": "kouOvHuADl8f",
    "outputId": "e5682412-d6f9-4118-ef81-bd0165a1215f"
   },
   "outputs": [
    {
     "name": "stdout",
     "output_type": "stream",
     "text": [
      "<class 'pandas.core.frame.DataFrame'>\n",
      "RangeIndex: 145166 entries, 0 to 145165\n",
      "Data columns (total 20 columns):\n",
      " #   Column                             Non-Null Count   Dtype   \n",
      "---  ------                             --------------   -----   \n",
      " 0   id_hogar                           145166 non-null  object  \n",
      " 1   sexo                               145166 non-null  object  \n",
      " 2   edad                               145166 non-null  float64 \n",
      " 3   genero                             145166 non-null  category\n",
      " 4   ascendencia                        145166 non-null  category\n",
      " 5   parentesco                         145166 non-null  category\n",
      " 6   estado_laboral                     145166 non-null  category\n",
      " 7   nper                               145166 non-null  category\n",
      " 8   sueldo                             145166 non-null  float64 \n",
      " 9   busca_otro_trabajo                 145166 non-null  category\n",
      " 10  actividad                          145166 non-null  category\n",
      " 11  asistencia alguna vez a enseñanza  145166 non-null  category\n",
      " 12  edu preescolar                     145166 non-null  category\n",
      " 13  edu primaria                       145166 non-null  category\n",
      " 14  edu media                          145166 non-null  category\n",
      " 15  edu técnica                        145166 non-null  category\n",
      " 16  edu univ o simil                   145166 non-null  category\n",
      " 17  edu terciario no uni               145166 non-null  category\n",
      " 18  edu posgrado                       145166 non-null  category\n",
      " 19  edu mag prof                       145166 non-null  category\n",
      "dtypes: category(16), float64(2), object(2)\n",
      "memory usage: 6.8+ MB\n"
     ]
    }
   ],
   "source": [
    "df.info()"
   ]
  },
  {
   "cell_type": "code",
   "execution_count": 5,
   "id": "3773ded7",
   "metadata": {},
   "outputs": [
    {
     "data": {
      "text/html": [
       "<div>\n",
       "<style scoped>\n",
       "    .dataframe tbody tr th:only-of-type {\n",
       "        vertical-align: middle;\n",
       "    }\n",
       "\n",
       "    .dataframe tbody tr th {\n",
       "        vertical-align: top;\n",
       "    }\n",
       "\n",
       "    .dataframe thead th {\n",
       "        text-align: right;\n",
       "    }\n",
       "</style>\n",
       "<table border=\"1\" class=\"dataframe\">\n",
       "  <thead>\n",
       "    <tr style=\"text-align: right;\">\n",
       "      <th></th>\n",
       "      <th>count</th>\n",
       "      <th>mean</th>\n",
       "      <th>std</th>\n",
       "      <th>min</th>\n",
       "      <th>25%</th>\n",
       "      <th>50%</th>\n",
       "      <th>75%</th>\n",
       "      <th>max</th>\n",
       "    </tr>\n",
       "  </thead>\n",
       "  <tbody>\n",
       "    <tr>\n",
       "      <th>edad</th>\n",
       "      <td>145166.0</td>\n",
       "      <td>41.179684</td>\n",
       "      <td>23.657247</td>\n",
       "      <td>0.0</td>\n",
       "      <td>20.0</td>\n",
       "      <td>42.0</td>\n",
       "      <td>60.0</td>\n",
       "      <td>98.0</td>\n",
       "    </tr>\n",
       "    <tr>\n",
       "      <th>sueldo</th>\n",
       "      <td>145166.0</td>\n",
       "      <td>9711.315577</td>\n",
       "      <td>20269.848604</td>\n",
       "      <td>0.0</td>\n",
       "      <td>0.0</td>\n",
       "      <td>0.0</td>\n",
       "      <td>15000.0</td>\n",
       "      <td>600000.0</td>\n",
       "    </tr>\n",
       "  </tbody>\n",
       "</table>\n",
       "</div>"
      ],
      "text/plain": [
       "           count         mean           std  min   25%   50%      75%  \\\n",
       "edad    145166.0    41.179684     23.657247  0.0  20.0  42.0     60.0   \n",
       "sueldo  145166.0  9711.315577  20269.848604  0.0   0.0   0.0  15000.0   \n",
       "\n",
       "             max  \n",
       "edad        98.0  \n",
       "sueldo  600000.0  "
      ]
     },
     "execution_count": 5,
     "metadata": {},
     "output_type": "execute_result"
    }
   ],
   "source": [
    "df.describe().transpose()"
   ]
  },
  {
   "cell_type": "code",
   "execution_count": 6,
   "id": "c58b9b07",
   "metadata": {},
   "outputs": [
    {
     "data": {
      "text/plain": [
       "Mujer                    69037\n",
       "Varón                    57429\n",
       "0.0                      18571\n",
       "Sin dato                    78\n",
       "Mujer trans                 29\n",
       "Varón trans                 14\n",
       "Otra                         6\n",
       "No sabe / No contesta        2\n",
       "Name: genero, dtype: int64"
      ]
     },
     "execution_count": 6,
     "metadata": {},
     "output_type": "execute_result"
    }
   ],
   "source": [
    "df['genero'].value_counts()"
   ]
  },
  {
   "cell_type": "markdown",
   "id": "857ca3c0",
   "metadata": {},
   "source": [
    "## Ascendencia"
   ]
  },
  {
   "cell_type": "code",
   "execution_count": 7,
   "id": "3c1a6eeb",
   "metadata": {
    "colab": {
     "base_uri": "https://localhost:8080/"
    },
    "executionInfo": {
     "elapsed": 302,
     "status": "ok",
     "timestamp": 1630615331560,
     "user": {
      "displayName": "Andy Nicolón",
      "photoUrl": "https://lh3.googleusercontent.com/a-/AOh14Ggdjr_wvrps129lCKPMFcAm4H3KsbYN0eUakr5_oQ=s64",
      "userId": "09514318996408391655"
     },
     "user_tz": 180
    },
    "id": "HWbmytv9MRjr",
    "outputId": "8d3c6d8e-158f-4a55-f291-9a993634af88"
   },
   "outputs": [
    {
     "data": {
      "text/plain": [
       "Blanca                 69.510767\n",
       "Asiática o amarilla    23.261645\n",
       "Afro o negra            3.583484\n",
       "Sin dato                2.384856\n",
       "Indígena                1.244782\n",
       "Otra                    0.014466\n",
       "Name: ascendencia, dtype: float64"
      ]
     },
     "execution_count": 7,
     "metadata": {},
     "output_type": "execute_result"
    }
   ],
   "source": [
    "asc_princ_porcentage = df['ascendencia'].value_counts() / len(df['ascendencia']) * 100\n",
    "\n",
    "asc_princ_porcentage"
   ]
  },
  {
   "cell_type": "markdown",
   "id": "60ad3558",
   "metadata": {},
   "source": [
    "## Género"
   ]
  },
  {
   "cell_type": "code",
   "execution_count": 8,
   "metadata": {},
   "outputs": [
    {
     "data": {
      "text/plain": [
       "Mujer                    47.557279\n",
       "Varón                    39.560916\n",
       "0.0                      12.792940\n",
       "Sin dato                  0.053732\n",
       "Mujer trans               0.019977\n",
       "Varón trans               0.009644\n",
       "Otra                      0.004133\n",
       "No sabe / No contesta     0.001378\n",
       "Name: genero, dtype: float64"
      ]
     },
     "execution_count": 8,
     "metadata": {},
     "output_type": "execute_result"
    }
   ],
   "source": [
    "df['genero'].value_counts() / len(df['genero']) * 100"
   ]
  },
  {
   "cell_type": "markdown",
   "id": "b09340f6",
   "metadata": {},
   "source": [
    "# Estudio de la composición de los hogares uruguayos"
   ]
  },
  {
   "cell_type": "markdown",
   "id": "e5c1b5ed",
   "metadata": {},
   "source": [
    "## Cantidad de personas que conforman un grupo familiar"
   ]
  },
  {
   "cell_type": "code",
   "execution_count": 9,
   "id": "d1e73107",
   "metadata": {},
   "outputs": [
    {
     "data": {
      "text/plain": [
       "2     18429\n",
       "1     15749\n",
       "3     11547\n",
       "4      8634\n",
       "5      2870\n",
       "6       887\n",
       "7       267\n",
       "8       134\n",
       "9        44\n",
       "10       11\n",
       "12       10\n",
       "11        8\n",
       "13        3\n",
       "16        1\n",
       "Name: totales, dtype: int64"
      ]
     },
     "execution_count": 9,
     "metadata": {},
     "output_type": "execute_result"
    }
   ],
   "source": [
    "familia = pd.pivot_table(df, index='id_hogar', columns='parentesco',values=['nper'], aggfunc='count')\n",
    "\n",
    "familia['totales'] = familia.apply(lambda x:x.sum(), axis=1)\n",
    "\n",
    "familia = familia.sort_values(by='totales', ascending=False)\n",
    "\n",
    "familia['totales'].value_counts()"
   ]
  },
  {
   "cell_type": "markdown",
   "id": "338a5eea",
   "metadata": {},
   "source": [
    "## Organización familiar"
   ]
  },
  {
   "cell_type": "code",
   "execution_count": 10,
   "id": "20175fb2",
   "metadata": {},
   "outputs": [
    {
     "data": {
      "text/plain": [
       "parentesco_num  parentesco                             \n",
       "6               Jefe/a de hogar                            58021\n",
       "1               Esposo/a o compañero/a                     31354\n",
       "3               Hijo/a de ambos                            27083\n",
       "5               Hijo/a solo del jefe/a                     15987\n",
       "7               Nieto/a                                     4233\n",
       "4               Hijo/a solo del esposo/a compañero/a        2288\n",
       "10              Padre/madre                                 1601\n",
       "2               Hermano/a                                   1070\n",
       "9               Otro pariente                                888\n",
       "14              Yerno/nuera                                  875\n",
       "8               Otro no pariente                             865\n",
       "13              Suegro/a                                     412\n",
       "12              Sin dato                                     316\n",
       "0               Cuñado/a                                     149\n",
       "11              Servicio doméstico o familiar del mismo       24\n",
       "dtype: int64"
      ]
     },
     "execution_count": 10,
     "metadata": {},
     "output_type": "execute_result"
    }
   ],
   "source": [
    "df['parentesco_num'] = df['parentesco'].cat.codes\n",
    "\n",
    "df[['parentesco_num','parentesco']].value_counts()"
   ]
  },
  {
   "cell_type": "code",
   "execution_count": 11,
   "id": "c37f28f2",
   "metadata": {},
   "outputs": [
    {
     "data": {
      "text/plain": [
       "<AxesSubplot:xlabel='sexo', ylabel='count'>"
      ]
     },
     "execution_count": 11,
     "metadata": {},
     "output_type": "execute_result"
    },
    {
     "data": {
      "image/png": "[encoded data removed]",
      "text/plain": [
       "<Figure size 2160x576 with 1 Axes>"
      ]
     },
     "metadata": {},
     "output_type": "display_data"
    }
   ],
   "source": [
    "sexo_jefes = df[['sexo']][df['parentesco'].str.contains('Jefe')]\n",
    "\n",
    "sns.countplot(data=sexo_jefes,x='sexo')"
   ]
  },
  {
   "cell_type": "markdown",
   "metadata": {},
   "source": [
    "## Podemos observar que hay una distribución equitativa entre jefes de familia y sexo"
   ]
  },
  {
   "cell_type": "markdown",
   "metadata": {},
   "source": [
    "# Situación laboral"
   ]
  },
  {
   "cell_type": "code",
   "execution_count": 12,
   "metadata": {},
   "outputs": [
    {
     "data": {
      "image/png": "[encoded data removed]",
      "text/plain": [
       "<Figure size 2160x576 with 1 Axes>"
      ]
     },
     "metadata": {},
     "output_type": "display_data"
    }
   ],
   "source": [
    "ax = sns.countplot(x=df['estado_laboral'])"
   ]
  },
  {
   "cell_type": "code",
   "execution_count": 13,
   "id": "064b9c43",
   "metadata": {
    "colab": {
     "base_uri": "https://localhost:8080/"
    },
    "executionInfo": {
     "elapsed": 11,
     "status": "ok",
     "timestamp": 1630614534006,
     "user": {
      "displayName": "Andy Nicolón",
      "photoUrl": "https://lh3.googleusercontent.com/a-/AOh14Ggdjr_wvrps129lCKPMFcAm4H3KsbYN0eUakr5_oQ=s64",
      "userId": "09514318996408391655"
     },
     "user_tz": 180
    },
    "id": "5GZeFodTzkkd",
    "outputId": "b7431844-d8cc-4ec9-871d-2a6fc1d551bf"
   },
   "outputs": [
    {
     "data": {
      "text/plain": [
       "Ocupados                                      43.915242\n",
       "Inactivo, jubilado                            16.902029\n",
       "Menor 14 años                                 15.480898\n",
       "Inactivo, estudiante                           8.152735\n",
       "Inactivo, realiza los quehaceres del hogar     5.433779\n",
       "Inactivo, pensionista                          3.998870\n",
       "Desocupados propiamente dichos                 3.600705\n",
       "Inactivo, otro                                 1.193806\n",
       "Desocupados BT1V                               0.688867\n",
       "Inactivo, rentista                             0.340989\n",
       "Desocupados en seguro de desempleo             0.292079\n",
       "Name: estado_laboral, dtype: float64"
      ]
     },
     "execution_count": 13,
     "metadata": {},
     "output_type": "execute_result"
    }
   ],
   "source": [
    "df['estado_laboral'].value_counts() / len(df['estado_laboral']) * 100"
   ]
  },
  {
   "cell_type": "code",
   "execution_count": 14,
   "metadata": {},
   "outputs": [
    {
     "data": {
      "text/html": [
       "<div>\n",
       "<style scoped>\n",
       "    .dataframe tbody tr th:only-of-type {\n",
       "        vertical-align: middle;\n",
       "    }\n",
       "\n",
       "    .dataframe tbody tr th {\n",
       "        vertical-align: top;\n",
       "    }\n",
       "\n",
       "    .dataframe thead th {\n",
       "        text-align: right;\n",
       "    }\n",
       "</style>\n",
       "<table border=\"1\" class=\"dataframe\">\n",
       "  <thead>\n",
       "    <tr style=\"text-align: right;\">\n",
       "      <th></th>\n",
       "      <th>edad</th>\n",
       "      <th>sueldo</th>\n",
       "      <th>parentesco_num</th>\n",
       "    </tr>\n",
       "    <tr>\n",
       "      <th>estado_laboral</th>\n",
       "      <th></th>\n",
       "      <th></th>\n",
       "      <th></th>\n",
       "    </tr>\n",
       "  </thead>\n",
       "  <tbody>\n",
       "    <tr>\n",
       "      <th>Desocupados BT1V</th>\n",
       "      <td>20.338000</td>\n",
       "      <td>0.000000</td>\n",
       "      <td>4.279000</td>\n",
       "    </tr>\n",
       "    <tr>\n",
       "      <th>Desocupados en seguro de desempleo</th>\n",
       "      <td>37.865566</td>\n",
       "      <td>2287.735849</td>\n",
       "      <td>4.509434</td>\n",
       "    </tr>\n",
       "    <tr>\n",
       "      <th>Desocupados propiamente dichos</th>\n",
       "      <td>34.348766</td>\n",
       "      <td>1062.989286</td>\n",
       "      <td>4.257318</td>\n",
       "    </tr>\n",
       "    <tr>\n",
       "      <th>Inactivo, estudiante</th>\n",
       "      <td>17.600253</td>\n",
       "      <td>56.501901</td>\n",
       "      <td>4.049007</td>\n",
       "    </tr>\n",
       "    <tr>\n",
       "      <th>Inactivo, jubilado</th>\n",
       "      <td>72.474731</td>\n",
       "      <td>90.880665</td>\n",
       "      <td>4.931814</td>\n",
       "    </tr>\n",
       "    <tr>\n",
       "      <th>Inactivo, otro</th>\n",
       "      <td>35.807848</td>\n",
       "      <td>284.520485</td>\n",
       "      <td>4.559146</td>\n",
       "    </tr>\n",
       "    <tr>\n",
       "      <th>Inactivo, pensionista</th>\n",
       "      <td>63.898536</td>\n",
       "      <td>16.830319</td>\n",
       "      <td>5.388803</td>\n",
       "    </tr>\n",
       "    <tr>\n",
       "      <th>Inactivo, realiza los quehaceres del hogar</th>\n",
       "      <td>48.915314</td>\n",
       "      <td>271.754564</td>\n",
       "      <td>3.262424</td>\n",
       "    </tr>\n",
       "    <tr>\n",
       "      <th>Inactivo, rentista</th>\n",
       "      <td>57.296970</td>\n",
       "      <td>105.858586</td>\n",
       "      <td>4.268687</td>\n",
       "    </tr>\n",
       "    <tr>\n",
       "      <th>Menor 14 años</th>\n",
       "      <td>7.131091</td>\n",
       "      <td>1.067948</td>\n",
       "      <td>4.074979</td>\n",
       "    </tr>\n",
       "    <tr>\n",
       "      <th>Ocupados</th>\n",
       "      <td>43.419106</td>\n",
       "      <td>21921.839529</td>\n",
       "      <td>4.363812</td>\n",
       "    </tr>\n",
       "  </tbody>\n",
       "</table>\n",
       "</div>"
      ],
      "text/plain": [
       "                                                 edad        sueldo  \\\n",
       "estado_laboral                                                        \n",
       "Desocupados BT1V                            20.338000      0.000000   \n",
       "Desocupados en seguro de desempleo          37.865566   2287.735849   \n",
       "Desocupados propiamente dichos              34.348766   1062.989286   \n",
       "Inactivo, estudiante                        17.600253     56.501901   \n",
       "Inactivo, jubilado                          72.474731     90.880665   \n",
       "Inactivo, otro                              35.807848    284.520485   \n",
       "Inactivo, pensionista                       63.898536     16.830319   \n",
       "Inactivo, realiza los quehaceres del hogar  48.915314    271.754564   \n",
       "Inactivo, rentista                          57.296970    105.858586   \n",
       "Menor 14 años                                7.131091      1.067948   \n",
       "Ocupados                                    43.419106  21921.839529   \n",
       "\n",
       "                                            parentesco_num  \n",
       "estado_laboral                                              \n",
       "Desocupados BT1V                                  4.279000  \n",
       "Desocupados en seguro de desempleo                4.509434  \n",
       "Desocupados propiamente dichos                    4.257318  \n",
       "Inactivo, estudiante                              4.049007  \n",
       "Inactivo, jubilado                                4.931814  \n",
       "Inactivo, otro                                    4.559146  \n",
       "Inactivo, pensionista                             5.388803  \n",
       "Inactivo, realiza los quehaceres del hogar        3.262424  \n",
       "Inactivo, rentista                                4.268687  \n",
       "Menor 14 años                                     4.074979  \n",
       "Ocupados                                          4.363812  "
      ]
     },
     "execution_count": 14,
     "metadata": {},
     "output_type": "execute_result"
    }
   ],
   "source": [
    "df.groupby(by='estado_laboral').mean()"
   ]
  },
  {
   "cell_type": "code",
   "execution_count": 15,
   "metadata": {},
   "outputs": [
    {
     "data": {
      "text/plain": [
       "<AxesSubplot:xlabel='ascendencia', ylabel='sueldo'>"
      ]
     },
     "execution_count": 15,
     "metadata": {},
     "output_type": "execute_result"
    },
    {
     "data": {
      "image/png": "[encoded data removed]",
      "text/plain": [
       "<Figure size 2160x576 with 1 Axes>"
      ]
     },
     "metadata": {},
     "output_type": "display_data"
    }
   ],
   "source": [
    "df = df[~df['ascendencia'].str.contains('Sin dato')]\n",
    "\n",
    "sns.boxplot(data=df, x='ascendencia', y='sueldo', hue='sexo')"
   ]
  },
  {
   "cell_type": "code",
   "execution_count": 16,
   "metadata": {},
   "outputs": [
    {
     "data": {
      "text/plain": [
       "<AxesSubplot:xlabel='edad', ylabel='sueldo'>"
      ]
     },
     "execution_count": 16,
     "metadata": {},
     "output_type": "execute_result"
    },
    {
     "data": {
      "image/png": "[encoded data removed]",
      "text/plain": [
       "<Figure size 2160x576 with 1 Axes>"
      ]
     },
     "metadata": {},
     "output_type": "display_data"
    }
   ],
   "source": [
    "sns.lineplot(data=df, x='edad', y='sueldo',hue='sexo')"
   ]
  },
  {
   "cell_type": "markdown",
   "id": "3f3d7238",
   "metadata": {},
   "source": [
    "# Comienzo de análisis más profundo. En este punto nos empezamos a centrar en las madres, jefas de hogares."
   ]
  },
  {
   "cell_type": "code",
   "execution_count": 17,
   "id": "c7b74edd",
   "metadata": {},
   "outputs": [],
   "source": [
    "mask = df['parentesco_num'].isin([3,5,6])\n",
    "df = df[mask]\n",
    "\n",
    "df['es_madre'] = np.NaN\n",
    "df['es_madre'] = df['es_madre'].apply(lambda x:'madre').where(df['parentesco_num'] == 6).where(df['sexo'] == 'Femenino')"
   ]
  },
  {
   "cell_type": "markdown",
   "id": "af89dd6d",
   "metadata": {},
   "source": [
    "## Empezamos a centrarnos en las hogares monomarentales"
   ]
  },
  {
   "cell_type": "code",
   "execution_count": 18,
   "id": "18548b97",
   "metadata": {},
   "outputs": [
    {
     "data": {
      "text/html": [
       "<div>\n",
       "<style scoped>\n",
       "    .dataframe tbody tr th:only-of-type {\n",
       "        vertical-align: middle;\n",
       "    }\n",
       "\n",
       "    .dataframe tbody tr th {\n",
       "        vertical-align: top;\n",
       "    }\n",
       "\n",
       "    .dataframe thead th {\n",
       "        text-align: right;\n",
       "    }\n",
       "</style>\n",
       "<table border=\"1\" class=\"dataframe\">\n",
       "  <thead>\n",
       "    <tr style=\"text-align: right;\">\n",
       "      <th></th>\n",
       "      <th>id_hogar</th>\n",
       "      <th>sexo</th>\n",
       "      <th>edad</th>\n",
       "      <th>genero</th>\n",
       "      <th>ascendencia</th>\n",
       "      <th>parentesco</th>\n",
       "      <th>estado_laboral</th>\n",
       "      <th>nper</th>\n",
       "      <th>sueldo</th>\n",
       "      <th>busca_otro_trabajo</th>\n",
       "      <th>...</th>\n",
       "      <th>edu primaria</th>\n",
       "      <th>edu media</th>\n",
       "      <th>edu técnica</th>\n",
       "      <th>edu univ o simil</th>\n",
       "      <th>edu terciario no uni</th>\n",
       "      <th>edu posgrado</th>\n",
       "      <th>edu mag prof</th>\n",
       "      <th>parentesco_num</th>\n",
       "      <th>es_madre</th>\n",
       "      <th>hijos</th>\n",
       "    </tr>\n",
       "  </thead>\n",
       "  <tbody>\n",
       "    <tr>\n",
       "      <th>61841</th>\n",
       "      <td>3539</td>\n",
       "      <td>Femenino</td>\n",
       "      <td>51.0</td>\n",
       "      <td>Mujer</td>\n",
       "      <td>Blanca</td>\n",
       "      <td>Jefe/a de hogar</td>\n",
       "      <td>Ocupados</td>\n",
       "      <td>1.0</td>\n",
       "      <td>17500.0</td>\n",
       "      <td>No</td>\n",
       "      <td>...</td>\n",
       "      <td>Sí, asistió</td>\n",
       "      <td>Sí, asistió</td>\n",
       "      <td>Sí, asistió</td>\n",
       "      <td>0.0</td>\n",
       "      <td>0.0</td>\n",
       "      <td>0.0</td>\n",
       "      <td>0.0</td>\n",
       "      <td>6</td>\n",
       "      <td>madre</td>\n",
       "      <td>2</td>\n",
       "    </tr>\n",
       "    <tr>\n",
       "      <th>76083</th>\n",
       "      <td>41382</td>\n",
       "      <td>Femenino</td>\n",
       "      <td>64.0</td>\n",
       "      <td>Mujer</td>\n",
       "      <td>Blanca</td>\n",
       "      <td>Jefe/a de hogar</td>\n",
       "      <td>Ocupados</td>\n",
       "      <td>1.0</td>\n",
       "      <td>0.0</td>\n",
       "      <td>No</td>\n",
       "      <td>...</td>\n",
       "      <td>Sí, asistió</td>\n",
       "      <td>Sí, asistió</td>\n",
       "      <td>Sí, asistió</td>\n",
       "      <td>0.0</td>\n",
       "      <td>0.0</td>\n",
       "      <td>0.0</td>\n",
       "      <td>0.0</td>\n",
       "      <td>6</td>\n",
       "      <td>madre</td>\n",
       "      <td>0</td>\n",
       "    </tr>\n",
       "    <tr>\n",
       "      <th>824</th>\n",
       "      <td>10313</td>\n",
       "      <td>Femenino</td>\n",
       "      <td>49.0</td>\n",
       "      <td>Mujer</td>\n",
       "      <td>Blanca</td>\n",
       "      <td>Jefe/a de hogar</td>\n",
       "      <td>Desocupados propiamente dichos</td>\n",
       "      <td>1.0</td>\n",
       "      <td>0.0</td>\n",
       "      <td>0.0</td>\n",
       "      <td>...</td>\n",
       "      <td>Sí, asistió</td>\n",
       "      <td>Sí, asistió</td>\n",
       "      <td>No asistió</td>\n",
       "      <td>0.0</td>\n",
       "      <td>0.0</td>\n",
       "      <td>0.0</td>\n",
       "      <td>0.0</td>\n",
       "      <td>6</td>\n",
       "      <td>madre</td>\n",
       "      <td>1</td>\n",
       "    </tr>\n",
       "    <tr>\n",
       "      <th>99953</th>\n",
       "      <td>51080</td>\n",
       "      <td>Masculino</td>\n",
       "      <td>7.0</td>\n",
       "      <td>0.0</td>\n",
       "      <td>Blanca</td>\n",
       "      <td>Hijo/a solo del jefe/a</td>\n",
       "      <td>Menor 14 años</td>\n",
       "      <td>2.0</td>\n",
       "      <td>0.0</td>\n",
       "      <td>0.0</td>\n",
       "      <td>...</td>\n",
       "      <td>0.0</td>\n",
       "      <td>0.0</td>\n",
       "      <td>0.0</td>\n",
       "      <td>0.0</td>\n",
       "      <td>0.0</td>\n",
       "      <td>0.0</td>\n",
       "      <td>0.0</td>\n",
       "      <td>5</td>\n",
       "      <td>NaN</td>\n",
       "      <td>1</td>\n",
       "    </tr>\n",
       "    <tr>\n",
       "      <th>86423</th>\n",
       "      <td>45730</td>\n",
       "      <td>Femenino</td>\n",
       "      <td>18.0</td>\n",
       "      <td>Mujer</td>\n",
       "      <td>Asiática o amarilla</td>\n",
       "      <td>Hijo/a solo del jefe/a</td>\n",
       "      <td>Inactivo, estudiante</td>\n",
       "      <td>3.0</td>\n",
       "      <td>0.0</td>\n",
       "      <td>0.0</td>\n",
       "      <td>...</td>\n",
       "      <td>Sí, asistió</td>\n",
       "      <td>Asiste actualmente</td>\n",
       "      <td>No asistió</td>\n",
       "      <td>0.0</td>\n",
       "      <td>0.0</td>\n",
       "      <td>0.0</td>\n",
       "      <td>0.0</td>\n",
       "      <td>5</td>\n",
       "      <td>NaN</td>\n",
       "      <td>2</td>\n",
       "    </tr>\n",
       "  </tbody>\n",
       "</table>\n",
       "<p>5 rows × 23 columns</p>\n",
       "</div>"
      ],
      "text/plain": [
       "      id_hogar       sexo  edad genero          ascendencia  \\\n",
       "61841     3539   Femenino  51.0  Mujer               Blanca   \n",
       "76083    41382   Femenino  64.0  Mujer               Blanca   \n",
       "824      10313   Femenino  49.0  Mujer               Blanca   \n",
       "99953    51080  Masculino   7.0    0.0               Blanca   \n",
       "86423    45730   Femenino  18.0  Mujer  Asiática o amarilla   \n",
       "\n",
       "                   parentesco                  estado_laboral nper   sueldo  \\\n",
       "61841         Jefe/a de hogar                        Ocupados  1.0  17500.0   \n",
       "76083         Jefe/a de hogar                        Ocupados  1.0      0.0   \n",
       "824           Jefe/a de hogar  Desocupados propiamente dichos  1.0      0.0   \n",
       "99953  Hijo/a solo del jefe/a                   Menor 14 años  2.0      0.0   \n",
       "86423  Hijo/a solo del jefe/a            Inactivo, estudiante  3.0      0.0   \n",
       "\n",
       "      busca_otro_trabajo  ... edu primaria           edu media  edu técnica  \\\n",
       "61841                 No  ...  Sí, asistió         Sí, asistió  Sí, asistió   \n",
       "76083                 No  ...  Sí, asistió         Sí, asistió  Sí, asistió   \n",
       "824                  0.0  ...  Sí, asistió         Sí, asistió   No asistió   \n",
       "99953                0.0  ...          0.0                 0.0          0.0   \n",
       "86423                0.0  ...  Sí, asistió  Asiste actualmente   No asistió   \n",
       "\n",
       "      edu univ o simil edu terciario no uni edu posgrado edu mag prof  \\\n",
       "61841              0.0                  0.0          0.0          0.0   \n",
       "76083              0.0                  0.0          0.0          0.0   \n",
       "824                0.0                  0.0          0.0          0.0   \n",
       "99953              0.0                  0.0          0.0          0.0   \n",
       "86423              0.0                  0.0          0.0          0.0   \n",
       "\n",
       "      parentesco_num es_madre hijos  \n",
       "61841              6    madre     2  \n",
       "76083              6    madre     0  \n",
       "824                6    madre     1  \n",
       "99953              5      NaN     1  \n",
       "86423              5      NaN     2  \n",
       "\n",
       "[5 rows x 23 columns]"
      ]
     },
     "execution_count": 18,
     "metadata": {},
     "output_type": "execute_result"
    }
   ],
   "source": [
    "# Eliminamos hogares con jefes de hogar masculinos\n",
    "df_madre_y_familia = df.copy().drop(labels=list(df.loc[(df['sexo'].str.contains('Masculino')) & (df['parentesco_num'] == 6)].index))\n",
    "\n",
    "#Creamos una columna que cuenta la cantidad de hijos por grupo familiar\n",
    "df_madre_y_familia['hijos'] = df_madre_y_familia.groupby('id_hogar')['id_hogar'].transform('count') - 1\n",
    "\n",
    "df_madre_y_familia.sample(5)"
   ]
  },
  {
   "cell_type": "markdown",
   "id": "dff9f5d5",
   "metadata": {},
   "source": [
    "## Cantidad de hijos"
   ]
  },
  {
   "cell_type": "code",
   "execution_count": 19,
   "id": "b32015a3",
   "metadata": {},
   "outputs": [
    {
     "data": {
      "text/plain": [
       "0.0    15520\n",
       "1.0     7901\n",
       "2.0     4190\n",
       "3.0     1253\n",
       "4.0      337\n",
       "5.0       80\n",
       "6.0       36\n",
       "7.0        5\n",
       "Name: hijos, dtype: int64"
      ]
     },
     "execution_count": 19,
     "metadata": {},
     "output_type": "execute_result"
    }
   ],
   "source": [
    "df_madre_y_familia.where(df['es_madre'].str.contains('madre'))['hijos'].value_counts()"
   ]
  },
  {
   "cell_type": "markdown",
   "metadata": {},
   "source": [
    "# Investigamos el contexto de las jefas de hogar"
   ]
  },
  {
   "cell_type": "code",
   "execution_count": 20,
   "id": "66d99271",
   "metadata": {},
   "outputs": [],
   "source": [
    "df_moms = df_madre_y_familia.copy()[df_madre_y_familia['es_madre'].notna()]\n",
    "\n",
    "df_moms.sample(5)\n",
    "\n",
    "df_moms.to_csv('moms.csv', index=None)"
   ]
  },
  {
   "cell_type": "code",
   "execution_count": 21,
   "id": "03c09cc7",
   "metadata": {},
   "outputs": [
    {
     "data": {
      "text/plain": [
       "Ocupados                                      14943\n",
       "Inactivo, jubilado                             7974\n",
       "Inactivo, pensionista                          2739\n",
       "Inactivo, realiza los quehaceres del hogar     2226\n",
       "Desocupados propiamente dichos                  981\n",
       "Inactivo, rentista                              216\n",
       "Inactivo, estudiante                            105\n",
       "Desocupados en seguro de desempleo               76\n",
       "Inactivo, otro                                   51\n",
       "Desocupados BT1V                                 10\n",
       "Menor 14 años                                     1\n",
       "Name: estado_laboral, dtype: int64"
      ]
     },
     "execution_count": 21,
     "metadata": {},
     "output_type": "execute_result"
    }
   ],
   "source": [
    "df_moms['estado_laboral'].value_counts()"
   ]
  },
  {
   "cell_type": "code",
   "execution_count": 22,
   "id": "71907804",
   "metadata": {},
   "outputs": [
    {
     "data": {
      "text/html": [
       "<div>\n",
       "<style scoped>\n",
       "    .dataframe tbody tr th:only-of-type {\n",
       "        vertical-align: middle;\n",
       "    }\n",
       "\n",
       "    .dataframe tbody tr th {\n",
       "        vertical-align: top;\n",
       "    }\n",
       "\n",
       "    .dataframe thead th {\n",
       "        text-align: right;\n",
       "    }\n",
       "</style>\n",
       "<table border=\"1\" class=\"dataframe\">\n",
       "  <thead>\n",
       "    <tr style=\"text-align: right;\">\n",
       "      <th></th>\n",
       "      <th>edad</th>\n",
       "      <th>sueldo</th>\n",
       "      <th>parentesco_num</th>\n",
       "      <th>hijos</th>\n",
       "    </tr>\n",
       "    <tr>\n",
       "      <th>estado_laboral</th>\n",
       "      <th></th>\n",
       "      <th></th>\n",
       "      <th></th>\n",
       "      <th></th>\n",
       "    </tr>\n",
       "  </thead>\n",
       "  <tbody>\n",
       "    <tr>\n",
       "      <th>Desocupados BT1V</th>\n",
       "      <td>22.800000</td>\n",
       "      <td>0.000000</td>\n",
       "      <td>6.0</td>\n",
       "      <td>1.000000</td>\n",
       "    </tr>\n",
       "    <tr>\n",
       "      <th>Desocupados en seguro de desempleo</th>\n",
       "      <td>40.078947</td>\n",
       "      <td>2467.105263</td>\n",
       "      <td>6.0</td>\n",
       "      <td>0.921053</td>\n",
       "    </tr>\n",
       "    <tr>\n",
       "      <th>Desocupados propiamente dichos</th>\n",
       "      <td>42.895005</td>\n",
       "      <td>631.106014</td>\n",
       "      <td>6.0</td>\n",
       "      <td>1.374108</td>\n",
       "    </tr>\n",
       "    <tr>\n",
       "      <th>Inactivo, estudiante</th>\n",
       "      <td>29.133333</td>\n",
       "      <td>0.000000</td>\n",
       "      <td>6.0</td>\n",
       "      <td>0.961905</td>\n",
       "    </tr>\n",
       "    <tr>\n",
       "      <th>Inactivo, jubilado</th>\n",
       "      <td>73.398294</td>\n",
       "      <td>105.613243</td>\n",
       "      <td>6.0</td>\n",
       "      <td>0.245548</td>\n",
       "    </tr>\n",
       "    <tr>\n",
       "      <th>Inactivo, otro</th>\n",
       "      <td>59.568627</td>\n",
       "      <td>137.254902</td>\n",
       "      <td>6.0</td>\n",
       "      <td>0.882353</td>\n",
       "    </tr>\n",
       "    <tr>\n",
       "      <th>Inactivo, pensionista</th>\n",
       "      <td>72.299014</td>\n",
       "      <td>22.891566</td>\n",
       "      <td>6.0</td>\n",
       "      <td>0.421687</td>\n",
       "    </tr>\n",
       "    <tr>\n",
       "      <th>Inactivo, realiza los quehaceres del hogar</th>\n",
       "      <td>50.667116</td>\n",
       "      <td>499.842767</td>\n",
       "      <td>6.0</td>\n",
       "      <td>1.172507</td>\n",
       "    </tr>\n",
       "    <tr>\n",
       "      <th>Inactivo, rentista</th>\n",
       "      <td>58.921296</td>\n",
       "      <td>242.592593</td>\n",
       "      <td>6.0</td>\n",
       "      <td>0.546296</td>\n",
       "    </tr>\n",
       "    <tr>\n",
       "      <th>Menor 14 años</th>\n",
       "      <td>0.000000</td>\n",
       "      <td>0.000000</td>\n",
       "      <td>6.0</td>\n",
       "      <td>2.000000</td>\n",
       "    </tr>\n",
       "    <tr>\n",
       "      <th>Ocupados</th>\n",
       "      <td>46.101586</td>\n",
       "      <td>23139.651007</td>\n",
       "      <td>6.0</td>\n",
       "      <td>0.978518</td>\n",
       "    </tr>\n",
       "  </tbody>\n",
       "</table>\n",
       "</div>"
      ],
      "text/plain": [
       "                                                 edad        sueldo  \\\n",
       "estado_laboral                                                        \n",
       "Desocupados BT1V                            22.800000      0.000000   \n",
       "Desocupados en seguro de desempleo          40.078947   2467.105263   \n",
       "Desocupados propiamente dichos              42.895005    631.106014   \n",
       "Inactivo, estudiante                        29.133333      0.000000   \n",
       "Inactivo, jubilado                          73.398294    105.613243   \n",
       "Inactivo, otro                              59.568627    137.254902   \n",
       "Inactivo, pensionista                       72.299014     22.891566   \n",
       "Inactivo, realiza los quehaceres del hogar  50.667116    499.842767   \n",
       "Inactivo, rentista                          58.921296    242.592593   \n",
       "Menor 14 años                                0.000000      0.000000   \n",
       "Ocupados                                    46.101586  23139.651007   \n",
       "\n",
       "                                            parentesco_num     hijos  \n",
       "estado_laboral                                                        \n",
       "Desocupados BT1V                                       6.0  1.000000  \n",
       "Desocupados en seguro de desempleo                     6.0  0.921053  \n",
       "Desocupados propiamente dichos                         6.0  1.374108  \n",
       "Inactivo, estudiante                                   6.0  0.961905  \n",
       "Inactivo, jubilado                                     6.0  0.245548  \n",
       "Inactivo, otro                                         6.0  0.882353  \n",
       "Inactivo, pensionista                                  6.0  0.421687  \n",
       "Inactivo, realiza los quehaceres del hogar             6.0  1.172507  \n",
       "Inactivo, rentista                                     6.0  0.546296  \n",
       "Menor 14 años                                          6.0  2.000000  \n",
       "Ocupados                                               6.0  0.978518  "
      ]
     },
     "execution_count": 22,
     "metadata": {},
     "output_type": "execute_result"
    }
   ],
   "source": [
    "df_moms.groupby(by='estado_laboral').mean()"
   ]
  },
  {
   "cell_type": "code",
   "execution_count": 23,
   "metadata": {},
   "outputs": [
    {
     "data": {
      "text/plain": [
       "<seaborn.axisgrid.FacetGrid at 0x7fbf18fe4fa0>"
      ]
     },
     "execution_count": 23,
     "metadata": {},
     "output_type": "execute_result"
    },
    {
     "data": {
      "image/png": "[encoded data removed]",
      "text/plain": [
       "<Figure size 360x360 with 1 Axes>"
      ]
     },
     "metadata": {},
     "output_type": "display_data"
    }
   ],
   "source": [
    "sns.displot(df_moms['sueldo'])"
   ]
  },
  {
   "cell_type": "markdown",
   "metadata": {},
   "source": [
    "## En la gráfica anterior nos enfrentamos a la necesidad de eliminar outliers para realizar un análisis más ajustado a la realidad general de las madres"
   ]
  },
  {
   "cell_type": "code",
   "execution_count": 24,
   "metadata": {},
   "outputs": [],
   "source": [
    "moms_sueldos_no_outliers = df_moms[df_moms['estado_laboral'].str.contains('Ocupados')].copy()\n",
    "moms_sueldos_no_outliers = moms_sueldos_no_outliers[moms_sueldos_no_outliers['edad'] > 14]\n",
    "moms_sueldos_no_outliers = moms_sueldos_no_outliers[moms_sueldos_no_outliers['sueldo'] > 0]"
   ]
  },
  {
   "cell_type": "code",
   "execution_count": 25,
   "id": "b6241dab",
   "metadata": {},
   "outputs": [
    {
     "name": "stdout",
     "output_type": "stream",
     "text": [
      "120000.0\n"
     ]
    }
   ],
   "source": [
    "quantil_99 = moms_sueldos_no_outliers['sueldo'].quantile(0.99)\n",
    "print(quantil_99)\n",
    "\n",
    "moms_sueldos_no_outliers = moms_sueldos_no_outliers[moms_sueldos_no_outliers['sueldo'] < quantil_99]\n",
    "\n",
    "quartil_1 = moms_sueldos_no_outliers['sueldo'].quantile(0.25)\n",
    "quartil_3 = moms_sueldos_no_outliers['sueldo'].quantile(0.75)\n",
    "\n",
    "iqr =  quartil_3 - quartil_1\n",
    "\n",
    "moms_sueldos_no_outliers = moms_sueldos_no_outliers[moms_sueldos_no_outliers['sueldo'] < quartil_3 + 1.5 * iqr]\n",
    "\n",
    "moms_sueldos_no_outliers = moms_sueldos_no_outliers[moms_sueldos_no_outliers['sueldo'] > quartil_1 - 1.5 * iqr]"
   ]
  },
  {
   "cell_type": "code",
   "execution_count": 26,
   "metadata": {},
   "outputs": [
    {
     "data": {
      "text/plain": [
       "<seaborn.axisgrid.FacetGrid at 0x7fbf61ee53d0>"
      ]
     },
     "execution_count": 26,
     "metadata": {},
     "output_type": "execute_result"
    },
    {
     "data": {
      "image/png": "[encoded data removed]",
      "text/plain": [
       "<Figure size 360x360 with 1 Axes>"
      ]
     },
     "metadata": {},
     "output_type": "display_data"
    }
   ],
   "source": [
    "sns.displot(moms_sueldos_no_outliers['sueldo'])"
   ]
  },
  {
   "cell_type": "markdown",
   "metadata": {},
   "source": [
    "## Sueldo por cantidad de hijos"
   ]
  },
  {
   "cell_type": "code",
   "execution_count": 27,
   "id": "b8d6c685",
   "metadata": {},
   "outputs": [
    {
     "data": {
      "image/png": "[encoded data removed]",
      "text/plain": [
       "<Figure size 2160x576 with 1 Axes>"
      ]
     },
     "metadata": {},
     "output_type": "display_data"
    }
   ],
   "source": [
    "sns.boxplot(data=moms_sueldos_no_outliers, x='hijos', y='sueldo')\n",
    "\n",
    "plt.show()"
   ]
  },
  {
   "cell_type": "code",
   "execution_count": 28,
   "id": "c8b6360e",
   "metadata": {},
   "outputs": [
    {
     "data": {
      "text/html": [
       "<div>\n",
       "<style scoped>\n",
       "    .dataframe tbody tr th:only-of-type {\n",
       "        vertical-align: middle;\n",
       "    }\n",
       "\n",
       "    .dataframe tbody tr th {\n",
       "        vertical-align: top;\n",
       "    }\n",
       "\n",
       "    .dataframe thead th {\n",
       "        text-align: right;\n",
       "    }\n",
       "</style>\n",
       "<table border=\"1\" class=\"dataframe\">\n",
       "  <thead>\n",
       "    <tr style=\"text-align: right;\">\n",
       "      <th></th>\n",
       "      <th>count</th>\n",
       "      <th>mean</th>\n",
       "      <th>std</th>\n",
       "      <th>min</th>\n",
       "      <th>25%</th>\n",
       "      <th>50%</th>\n",
       "      <th>75%</th>\n",
       "      <th>max</th>\n",
       "    </tr>\n",
       "  </thead>\n",
       "  <tbody>\n",
       "    <tr>\n",
       "      <th>edad</th>\n",
       "      <td>10087.0</td>\n",
       "      <td>44.854466</td>\n",
       "      <td>11.302478</td>\n",
       "      <td>19.0</td>\n",
       "      <td>36.0</td>\n",
       "      <td>45.0</td>\n",
       "      <td>54.0</td>\n",
       "      <td>84.0</td>\n",
       "    </tr>\n",
       "    <tr>\n",
       "      <th>sueldo</th>\n",
       "      <td>10087.0</td>\n",
       "      <td>28352.845742</td>\n",
       "      <td>15801.092222</td>\n",
       "      <td>300.0</td>\n",
       "      <td>17000.0</td>\n",
       "      <td>26000.0</td>\n",
       "      <td>38000.0</td>\n",
       "      <td>74000.0</td>\n",
       "    </tr>\n",
       "    <tr>\n",
       "      <th>hijos</th>\n",
       "      <td>10087.0</td>\n",
       "      <td>0.965401</td>\n",
       "      <td>0.985666</td>\n",
       "      <td>0.0</td>\n",
       "      <td>0.0</td>\n",
       "      <td>1.0</td>\n",
       "      <td>2.0</td>\n",
       "      <td>6.0</td>\n",
       "    </tr>\n",
       "  </tbody>\n",
       "</table>\n",
       "</div>"
      ],
      "text/plain": [
       "          count          mean           std    min      25%      50%      75%  \\\n",
       "edad    10087.0     44.854466     11.302478   19.0     36.0     45.0     54.0   \n",
       "sueldo  10087.0  28352.845742  15801.092222  300.0  17000.0  26000.0  38000.0   \n",
       "hijos   10087.0      0.965401      0.985666    0.0      0.0      1.0      2.0   \n",
       "\n",
       "            max  \n",
       "edad       84.0  \n",
       "sueldo  74000.0  \n",
       "hijos       6.0  "
      ]
     },
     "execution_count": 28,
     "metadata": {},
     "output_type": "execute_result"
    }
   ],
   "source": [
    "moms_sueldos_no_outliers[['edad', 'sueldo', 'hijos']].describe().transpose()"
   ]
  },
  {
   "cell_type": "markdown",
   "metadata": {},
   "source": [
    "## Sueldo por ascendencia"
   ]
  },
  {
   "cell_type": "code",
   "execution_count": 29,
   "id": "52242636",
   "metadata": {},
   "outputs": [
    {
     "data": {
      "text/plain": [
       "<AxesSubplot:xlabel='ascendencia', ylabel='sueldo'>"
      ]
     },
     "execution_count": 29,
     "metadata": {},
     "output_type": "execute_result"
    },
    {
     "data": {
      "image/png": "[encoded data removed]",
      "text/plain": [
       "<Figure size 2160x576 with 1 Axes>"
      ]
     },
     "metadata": {},
     "output_type": "display_data"
    }
   ],
   "source": [
    "sns.boxplot(data=moms_sueldos_no_outliers, x='ascendencia', y='sueldo')"
   ]
  },
  {
   "cell_type": "code",
   "execution_count": 30,
   "id": "5259c96d",
   "metadata": {},
   "outputs": [
    {
     "data": {
      "text/html": [
       "<div>\n",
       "<style scoped>\n",
       "    .dataframe tbody tr th:only-of-type {\n",
       "        vertical-align: middle;\n",
       "    }\n",
       "\n",
       "    .dataframe tbody tr th {\n",
       "        vertical-align: top;\n",
       "    }\n",
       "\n",
       "    .dataframe thead th {\n",
       "        text-align: right;\n",
       "    }\n",
       "</style>\n",
       "<table border=\"1\" class=\"dataframe\">\n",
       "  <thead>\n",
       "    <tr style=\"text-align: right;\">\n",
       "      <th></th>\n",
       "      <th>id_hogar</th>\n",
       "      <th>sexo</th>\n",
       "      <th>edad</th>\n",
       "      <th>genero</th>\n",
       "      <th>ascendencia</th>\n",
       "      <th>parentesco</th>\n",
       "      <th>estado_laboral</th>\n",
       "      <th>nper</th>\n",
       "      <th>sueldo</th>\n",
       "      <th>busca_otro_trabajo</th>\n",
       "      <th>...</th>\n",
       "      <th>edu primaria</th>\n",
       "      <th>edu media</th>\n",
       "      <th>edu técnica</th>\n",
       "      <th>edu univ o simil</th>\n",
       "      <th>edu terciario no uni</th>\n",
       "      <th>edu posgrado</th>\n",
       "      <th>edu mag prof</th>\n",
       "      <th>parentesco_num</th>\n",
       "      <th>es_madre</th>\n",
       "      <th>hijos</th>\n",
       "    </tr>\n",
       "  </thead>\n",
       "  <tbody>\n",
       "    <tr>\n",
       "      <th>144726</th>\n",
       "      <td>8568</td>\n",
       "      <td>Femenino</td>\n",
       "      <td>63.0</td>\n",
       "      <td>Mujer</td>\n",
       "      <td>Asiática o amarilla</td>\n",
       "      <td>Jefe/a de hogar</td>\n",
       "      <td>Ocupados</td>\n",
       "      <td>1.0</td>\n",
       "      <td>23000.0</td>\n",
       "      <td>No</td>\n",
       "      <td>...</td>\n",
       "      <td>Sí, asistió</td>\n",
       "      <td>Sí, asistió</td>\n",
       "      <td>No asistió</td>\n",
       "      <td>No asistió</td>\n",
       "      <td>No asistió</td>\n",
       "      <td>0.0</td>\n",
       "      <td>No asistió</td>\n",
       "      <td>6</td>\n",
       "      <td>madre</td>\n",
       "      <td>0</td>\n",
       "    </tr>\n",
       "    <tr>\n",
       "      <th>140527</th>\n",
       "      <td>46511</td>\n",
       "      <td>Femenino</td>\n",
       "      <td>30.0</td>\n",
       "      <td>Mujer</td>\n",
       "      <td>Asiática o amarilla</td>\n",
       "      <td>Jefe/a de hogar</td>\n",
       "      <td>Ocupados</td>\n",
       "      <td>1.0</td>\n",
       "      <td>7438.0</td>\n",
       "      <td>No</td>\n",
       "      <td>...</td>\n",
       "      <td>Sí, asistió</td>\n",
       "      <td>Sí, asistió</td>\n",
       "      <td>No asistió</td>\n",
       "      <td>Sí, asistió</td>\n",
       "      <td>No asistió</td>\n",
       "      <td>No asistió</td>\n",
       "      <td>Sí, asistió</td>\n",
       "      <td>6</td>\n",
       "      <td>madre</td>\n",
       "      <td>0</td>\n",
       "    </tr>\n",
       "    <tr>\n",
       "      <th>10350</th>\n",
       "      <td>14063</td>\n",
       "      <td>Femenino</td>\n",
       "      <td>44.0</td>\n",
       "      <td>Mujer</td>\n",
       "      <td>Afro o negra</td>\n",
       "      <td>Jefe/a de hogar</td>\n",
       "      <td>Ocupados</td>\n",
       "      <td>1.0</td>\n",
       "      <td>17500.0</td>\n",
       "      <td>No</td>\n",
       "      <td>...</td>\n",
       "      <td>Sí, asistió</td>\n",
       "      <td>Sí, asistió</td>\n",
       "      <td>No asistió</td>\n",
       "      <td>0.0</td>\n",
       "      <td>0.0</td>\n",
       "      <td>0.0</td>\n",
       "      <td>0.0</td>\n",
       "      <td>6</td>\n",
       "      <td>madre</td>\n",
       "      <td>0</td>\n",
       "    </tr>\n",
       "    <tr>\n",
       "      <th>126334</th>\n",
       "      <td>8657</td>\n",
       "      <td>Femenino</td>\n",
       "      <td>57.0</td>\n",
       "      <td>Mujer</td>\n",
       "      <td>Blanca</td>\n",
       "      <td>Jefe/a de hogar</td>\n",
       "      <td>Ocupados</td>\n",
       "      <td>1.0</td>\n",
       "      <td>60000.0</td>\n",
       "      <td>No</td>\n",
       "      <td>...</td>\n",
       "      <td>Sí, asistió</td>\n",
       "      <td>Sí, asistió</td>\n",
       "      <td>No asistió</td>\n",
       "      <td>Sí, asistió</td>\n",
       "      <td>No asistió</td>\n",
       "      <td>No asistió</td>\n",
       "      <td>No asistió</td>\n",
       "      <td>6</td>\n",
       "      <td>madre</td>\n",
       "      <td>3</td>\n",
       "    </tr>\n",
       "    <tr>\n",
       "      <th>141445</th>\n",
       "      <td>49870</td>\n",
       "      <td>Femenino</td>\n",
       "      <td>63.0</td>\n",
       "      <td>Mujer</td>\n",
       "      <td>Asiática o amarilla</td>\n",
       "      <td>Jefe/a de hogar</td>\n",
       "      <td>Ocupados</td>\n",
       "      <td>1.0</td>\n",
       "      <td>34508.0</td>\n",
       "      <td>No</td>\n",
       "      <td>...</td>\n",
       "      <td>Sí, asistió</td>\n",
       "      <td>Sí, asistió</td>\n",
       "      <td>Sí, asistió</td>\n",
       "      <td>0.0</td>\n",
       "      <td>0.0</td>\n",
       "      <td>0.0</td>\n",
       "      <td>0.0</td>\n",
       "      <td>6</td>\n",
       "      <td>madre</td>\n",
       "      <td>0</td>\n",
       "    </tr>\n",
       "  </tbody>\n",
       "</table>\n",
       "<p>5 rows × 23 columns</p>\n",
       "</div>"
      ],
      "text/plain": [
       "       id_hogar      sexo  edad genero          ascendencia       parentesco  \\\n",
       "144726     8568  Femenino  63.0  Mujer  Asiática o amarilla  Jefe/a de hogar   \n",
       "140527    46511  Femenino  30.0  Mujer  Asiática o amarilla  Jefe/a de hogar   \n",
       "10350     14063  Femenino  44.0  Mujer         Afro o negra  Jefe/a de hogar   \n",
       "126334     8657  Femenino  57.0  Mujer               Blanca  Jefe/a de hogar   \n",
       "141445    49870  Femenino  63.0  Mujer  Asiática o amarilla  Jefe/a de hogar   \n",
       "\n",
       "       estado_laboral nper   sueldo busca_otro_trabajo  ... edu primaria  \\\n",
       "144726       Ocupados  1.0  23000.0                 No  ...  Sí, asistió   \n",
       "140527       Ocupados  1.0   7438.0                 No  ...  Sí, asistió   \n",
       "10350        Ocupados  1.0  17500.0                 No  ...  Sí, asistió   \n",
       "126334       Ocupados  1.0  60000.0                 No  ...  Sí, asistió   \n",
       "141445       Ocupados  1.0  34508.0                 No  ...  Sí, asistió   \n",
       "\n",
       "          edu media  edu técnica edu univ o simil edu terciario no uni  \\\n",
       "144726  Sí, asistió   No asistió       No asistió           No asistió   \n",
       "140527  Sí, asistió   No asistió      Sí, asistió           No asistió   \n",
       "10350   Sí, asistió   No asistió              0.0                  0.0   \n",
       "126334  Sí, asistió   No asistió      Sí, asistió           No asistió   \n",
       "141445  Sí, asistió  Sí, asistió              0.0                  0.0   \n",
       "\n",
       "       edu posgrado edu mag prof parentesco_num es_madre hijos  \n",
       "144726          0.0   No asistió              6    madre     0  \n",
       "140527   No asistió  Sí, asistió              6    madre     0  \n",
       "10350           0.0          0.0              6    madre     0  \n",
       "126334   No asistió   No asistió              6    madre     3  \n",
       "141445          0.0          0.0              6    madre     0  \n",
       "\n",
       "[5 rows x 23 columns]"
      ]
     },
     "execution_count": 30,
     "metadata": {},
     "output_type": "execute_result"
    }
   ],
   "source": [
    "moms_sueldos_no_outliers.sample(5)"
   ]
  },
  {
   "cell_type": "markdown",
   "metadata": {},
   "source": [
    "# Tiene trabajo sí o no\n",
    "\n",
    "# label encoding y despues get dummies"
   ]
  },
  {
   "cell_type": "markdown",
   "metadata": {},
   "source": [
    "variable target no columnas, necesitamos una sola columna. hacer encoding de eso\n",
    "\n",
    "cross validation - 10 fold - testear que no haya overfitting, separa el dataset en k folds"
   ]
  },
  {
   "cell_type": "markdown",
   "id": "002bf361",
   "metadata": {},
   "source": [
    "#clf classifier"
   ]
  }
 ],
 "metadata": {
  "colab": {
   "collapsed_sections": [],
   "name": "hyp_2020.ipynb",
   "provenance": []
  },
  "interpreter": {
   "hash": "75e6c507d3dc3ae925363b2017575e90bab1377ac63bc8a3a3d6fc67099bf175"
  },
  "kernelspec": {
   "display_name": "Python 3.9.6 64-bit ('venv': venv)",
   "name": "python3"
  },
  "language_info": {
   "codemirror_mode": {
    "name": "ipython",
    "version": 3
   },
   "file_extension": ".py",
   "mimetype": "text/x-python",
   "name": "python",
   "nbconvert_exporter": "python",
   "pygments_lexer": "ipython3",
   "version": "3.9.7"
  }
 },
 "nbformat": 4,
 "nbformat_minor": 5
}
