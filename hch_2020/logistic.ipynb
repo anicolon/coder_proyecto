{
 "cells": [
  {
   "cell_type": "code",
   "execution_count": 1,
   "metadata": {},
   "outputs": [],
   "source": [
    "import pandas as pd\n",
    "\n",
    "moms = pd.read_csv('moms.csv', usecols=['edad', 'ascendencia',\n",
    "       'estado_laboral', 'sueldo', 'busca_otro_trabajo', 'actividad',\n",
    "       'asistencia alguna vez a enseñanza', 'edu preescolar', 'edu primaria',\n",
    "       'edu media', 'edu técnica', 'edu univ o simil', 'edu terciario no uni',\n",
    "       'edu posgrado', 'edu mag prof', 'hijos'])"
   ]
  },
  {
   "cell_type": "code",
   "execution_count": 2,
   "metadata": {},
   "outputs": [
    {
     "name": "stdout",
     "output_type": "stream",
     "text": [
      "X shape (10087, 1) \n",
      "Y shape (10087,)\n"
     ]
    }
   ],
   "source": [
    "from sklearn import preprocessing\n",
    "le = preprocessing.LabelEncoder()\n",
    "\n",
    "# Feautures\n",
    "X = moms['sueldo']\n",
    "X = le.fit_transform(X).reshape(-1, 1)\n",
    "\n",
    "y = moms['hijos'].to_numpy()\n",
    "\n",
    "print('X shape', X.shape, '\\nY shape', y.shape)"
   ]
  },
  {
   "cell_type": "code",
   "execution_count": 3,
   "metadata": {},
   "outputs": [],
   "source": [
    "# Split #30% test, 70% para train\n",
    "from sklearn.model_selection import train_test_split \n",
    "\n",
    "X_train, X_test, y_train, y_test = train_test_split(X, y, test_size=0.30, random_state=42) "
   ]
  },
  {
   "cell_type": "code",
   "execution_count": 4,
   "metadata": {},
   "outputs": [
    {
     "name": "stdout",
     "output_type": "stream",
     "text": [
      "(7060, 1) (7060,)\n",
      "(3027, 1) (3027,)\n"
     ]
    }
   ],
   "source": [
    "print(X_train.shape, y_train.shape)\n",
    "print(X_test.shape, y_test.shape)"
   ]
  },
  {
   "cell_type": "code",
   "execution_count": 5,
   "metadata": {},
   "outputs": [
    {
     "data": {
      "text/plain": [
       "array([0.39444995, 0.39147671, 0.33994054, 0.40832507, 0.39643211,\n",
       "       0.39544103, 0.40634291, 0.38492063, 0.36805556, 0.36805556])"
      ]
     },
     "execution_count": 5,
     "metadata": {},
     "output_type": "execute_result"
    }
   ],
   "source": [
    "from sklearn.linear_model import LogisticRegression\n",
    "from sklearn.model_selection import cross_val_score\n",
    "\n",
    "logistic_regression = LogisticRegression(max_iter=20000)\n",
    "\n",
    "clf = logistic_regression.fit(X_train, y_train)\n",
    "\n",
    "scores = cross_val_score(clf, X, y, cv=10)\n",
    "\n",
    "scores"
   ]
  },
  {
   "cell_type": "code",
   "execution_count": 6,
   "metadata": {},
   "outputs": [
    {
     "data": {
      "text/plain": [
       "0.39544103072348863"
      ]
     },
     "execution_count": 6,
     "metadata": {},
     "output_type": "execute_result"
    }
   ],
   "source": [
    "clf.score(X_test, y_test)"
   ]
  },
  {
   "cell_type": "code",
   "execution_count": 7,
   "metadata": {},
   "outputs": [
    {
     "data": {
      "text/plain": [
       "0.39277620396600565"
      ]
     },
     "execution_count": 7,
     "metadata": {},
     "output_type": "execute_result"
    }
   ],
   "source": [
    "clf.score(X_train, y_train)"
   ]
  },
  {
   "cell_type": "code",
   "execution_count": 8,
   "metadata": {},
   "outputs": [
    {
     "name": "stdout",
     "output_type": "stream",
     "text": [
      "[    0     1     2 ... 10084 10085 10086] [    7    10    18 ... 10073 10076 10077]\n",
      "[    0     1     2 ... 10084 10085 10086] [   24    29    41 ... 10038 10061 10070]\n",
      "[    0     1     2 ... 10084 10085 10086] [    4    13    35 ... 10055 10082 10083]\n",
      "[    0     1     2 ... 10083 10084 10086] [   23    27    38 ... 10069 10075 10085]\n",
      "[    0     2     3 ... 10083 10085 10086] [    1    16    17 ... 10079 10080 10084]\n",
      "[    0     1     2 ... 10083 10084 10085] [   11    20    21 ... 10060 10081 10086]\n",
      "[    0     1     2 ... 10084 10085 10086] [   14    34    69 ... 10052 10074 10078]\n",
      "[    0     1     2 ... 10084 10085 10086] [    3     5     6 ... 10051 10063 10072]\n",
      "[    1     2     3 ... 10084 10085 10086] [    0    12    15 ... 10048 10064 10066]\n",
      "[    0     1     3 ... 10084 10085 10086] [    2     8    30 ... 10034 10065 10067]\n"
     ]
    }
   ],
   "source": [
    "from sklearn.model_selection import KFold\n",
    "\n",
    "kf = KFold(n_splits=10, shuffle=True)\n",
    "\n",
    "for train, test in kf.split(X):\n",
    "    print(\"%s %s\" % (train, test))"
   ]
  },
  {
   "cell_type": "code",
   "execution_count": null,
   "metadata": {},
   "outputs": [],
   "source": []
  }
 ],
 "metadata": {
  "interpreter": {
   "hash": "d0fd3259a0ae7798bf28b9ed97f5d4d70eaf745bfa37ff3042465361f4141f08"
  },
  "kernelspec": {
   "display_name": "Python 3.9.7 64-bit ('pyenv': venv)",
   "language": "python",
   "name": "python3"
  },
  "language_info": {
   "codemirror_mode": {
    "name": "ipython",
    "version": 3
   },
   "file_extension": ".py",
   "mimetype": "text/x-python",
   "name": "python",
   "nbconvert_exporter": "python",
   "pygments_lexer": "ipython3",
   "version": "3.9.6"
  },
  "orig_nbformat": 4
 },
 "nbformat": 4,
 "nbformat_minor": 2
}
