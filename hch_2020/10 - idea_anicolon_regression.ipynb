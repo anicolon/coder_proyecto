{
 "cells": [
  {
   "cell_type": "code",
   "execution_count": null,
   "metadata": {},
   "outputs": [],
   "source": [
    "import pandas as pd\n",
    "\n",
    "moms = pd.read_csv('moms.csv', usecols=['edad', 'ascendencia',\n",
    "       'estado_laboral', 'sueldo', 'busca_otro_trabajo', 'actividad',\n",
    "       'asistencia alguna vez a enseñanza', 'edu preescolar', 'edu primaria',\n",
    "       'edu media', 'edu técnica', 'edu univ o simil', 'edu terciario no uni',\n",
    "       'edu posgrado', 'edu mag prof', 'hijos'])\n"
   ]
  },
  {
   "cell_type": "code",
   "execution_count": null,
   "metadata": {},
   "outputs": [],
   "source": [
    "# Feautures\n",
    "X = pd.get_dummies(moms.drop(labels=['sueldo'], axis=1))\n",
    "y = moms['hijos'].to_numpy()\n",
    "\n",
    "print('X shape', X.shape, '\\nY shape', y.shape)"
   ]
  },
  {
   "cell_type": "code",
   "execution_count": null,
   "metadata": {},
   "outputs": [],
   "source": [
    "from sklearn.model_selection import train_test_split\n",
    "\n",
    "x_train, x_test, y_train, y_test = train_test_split(X,y)"
   ]
  },
  {
   "cell_type": "code",
   "execution_count": null,
   "metadata": {},
   "outputs": [],
   "source": [
    "from sklearn.linear_model import LogisticRegression\n",
    "from sklearn import metrics\n",
    "\n",
    "logistic_regression = LogisticRegression(max_iter=10100, random_state=5)\n",
    "\n",
    "logistic_regression.fit(x_train, y_train)\n",
    "\n",
    "prediction = logistic_regression.predict(x_test)\n",
    "\n",
    "metrics.accuracy_score(y_test, prediction)"
   ]
  },
  {
   "cell_type": "code",
   "execution_count": null,
   "metadata": {},
   "outputs": [],
   "source": [
    "from sklearn.model_selection import cross_val_score\n",
    "\n",
    "classifier = logistic_regression.fit(x_train, y_train)\n",
    "\n",
    "scores = cross_val_score(classifier, X, y, cv=10, scoring='accuracy')\n",
    "\n",
    "scores.mean()"
   ]
  },
  {
   "cell_type": "code",
   "execution_count": null,
   "metadata": {},
   "outputs": [],
   "source": [
    "pd.get_dummies(moms.sample(1)).shape"
   ]
  },
  {
   "cell_type": "code",
   "execution_count": null,
   "metadata": {},
   "outputs": [],
   "source": [
    "#import numpy  as np\n",
    "\n",
    "#x_to_predict = np.array([3]).reshape(-1,1)\n",
    "\n",
    "test_prediction = logistic_regression.predict(test_prediction)\n",
    "\n",
    "test_prediction"
   ]
  },
  {
   "cell_type": "code",
   "execution_count": null,
   "metadata": {},
   "outputs": [],
   "source": []
  }
 ],
 "metadata": {
  "interpreter": {
   "hash": "75e6c507d3dc3ae925363b2017575e90bab1377ac63bc8a3a3d6fc67099bf175"
  },
  "kernelspec": {
   "display_name": "Python 3.9.6 64-bit ('venv': venv)",
   "language": "python",
   "name": "python3"
  },
  "language_info": {
   "codemirror_mode": {
    "name": "ipython",
    "version": 3
   },
   "file_extension": ".py",
   "mimetype": "text/x-python",
   "name": "python",
   "nbconvert_exporter": "python",
   "pygments_lexer": "ipython3",
   "version": "3.9.6"
  },
  "orig_nbformat": 4
 },
 "nbformat": 4,
 "nbformat_minor": 2
}
